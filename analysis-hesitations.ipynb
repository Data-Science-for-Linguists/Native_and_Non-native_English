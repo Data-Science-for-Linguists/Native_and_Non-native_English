{
 "cells": [
  {
   "cell_type": "markdown",
   "metadata": {},
   "source": [
    "Katherine Kairis, kak275@pitt.edu, 12/15/2017"
   ]
  },
  {
   "cell_type": "markdown",
   "metadata": {},
   "source": [
    "# Hesitation Analysis"
   ]
  },
  {
   "cell_type": "code",
   "execution_count": 1,
   "metadata": {
    "collapsed": true
   },
   "outputs": [],
   "source": [
    "import pickle\n",
    "import nltk\n",
    "from nltk.corpus import stopwords\n",
    "stopWords = set(stopwords.words('english'))\n",
    "\n",
    "from IPython.core.interactiveshell import InteractiveShell\n",
    "InteractiveShell.ast_node_interactivity = \"all\""
   ]
  },
  {
   "cell_type": "code",
   "execution_count": 2,
   "metadata": {
    "collapsed": true
   },
   "outputs": [],
   "source": [
    "#Get the tokens for each corpus from their respective pickle files\n",
    "f = open('VOICE_tokenized.p', 'rb')\n",
    "VOICE_toks = pickle.load(f)\n",
    "f.close()\n",
    "\n",
    "f = open('BNC_tokenized.p', 'rb')\n",
    "BNC_toks = pickle.load(f)\n",
    "f.close()\n",
    "\n",
    "f = open('VOICE_tagged.p', 'rb')\n",
    "VOICE_tags = pickle.load(f)\n",
    "f.close()\n",
    "\n",
    "f = open('BNC_tagged.p', 'rb')\n",
    "BNC_tags = pickle.load(f)\n",
    "f.close()"
   ]
  },
  {
   "cell_type": "markdown",
   "metadata": {},
   "source": [
    "## Helper functions\n",
    "* get_tokens\n",
    "* get_bigrams\n",
    "* repeated_words\n",
    "* repeated_stopwords\n",
    "* tag_counts"
   ]
  },
  {
   "cell_type": "code",
   "execution_count": 3,
   "metadata": {
    "collapsed": true
   },
   "outputs": [],
   "source": [
    "def get_tokens(dictionary):\n",
    "    tokens = []\n",
    "    for file in dictionary:\n",
    "        for key in dictionary[file]:\n",
    "            tokens.extend(dictionary[file][key])\n",
    "    return tokens"
   ]
  },
  {
   "cell_type": "code",
   "execution_count": 4,
   "metadata": {
    "collapsed": true
   },
   "outputs": [],
   "source": [
    "def get_bigrams(dictionary):\n",
    "    bigrams = []\n",
    "    for file in dictionary:\n",
    "        for key in dictionary[file]:\n",
    "            pairs = list(nltk.bigrams(dictionary[file][key]))\n",
    "            bigrams.extend(pairs)\n",
    "    return bigrams"
   ]
  },
  {
   "cell_type": "code",
   "execution_count": 5,
   "metadata": {},
   "outputs": [
    {
     "data": {
      "text/plain": [
       "\"\\nTakes a list of bigrams, returns dictionary whose keys are bigrams containing duplicate words (e.g ('i', 'i',), \\n'the', 'the') and whose values are the frequencies of each bigram\\n\""
      ]
     },
     "execution_count": 5,
     "metadata": {},
     "output_type": "execute_result"
    }
   ],
   "source": [
    "\"\"\"\n",
    "Takes a list of bigrams, returns dictionary whose keys are bigrams containing duplicate words (e.g ('i', 'i',), \n",
    "'the', 'the') and whose values are the frequencies of each bigram\n",
    "\"\"\"\n",
    "def repeated_words(bigrams):\n",
    "    repeated = {}\n",
    "    for b in bigrams:\n",
    "        if(b[0] == b[1]):\n",
    "            if(b not in repeated):\n",
    "                repeated[b] = 1\n",
    "            else:\n",
    "                repeated[b] += 1\n",
    "    return repeated"
   ]
  },
  {
   "cell_type": "code",
   "execution_count": 6,
   "metadata": {},
   "outputs": [
    {
     "data": {
      "text/plain": [
       "\"\\nTakes a dictionary of bigrams whose keys are bigrams containing duplicate words (e.g ('i', 'i',), \\n'the', 'the') and whose values are the frequencies of each bigram. Returns the sum of the frequencies for only\\nbigrams that contain repeated stop words\\n\""
      ]
     },
     "execution_count": 6,
     "metadata": {},
     "output_type": "execute_result"
    }
   ],
   "source": [
    "\"\"\"\n",
    "Takes a dictionary of bigrams whose keys are bigrams containing duplicate words (e.g ('i', 'i',), \n",
    "'the', 'the') and whose values are the frequencies of each bigram. Returns the sum of the frequencies for only\n",
    "bigrams that contain repeated stop words\n",
    "\"\"\"\n",
    "def repeated_stopwords(bigram_dict):\n",
    "    count = 0\n",
    "    for b in bigram_dict.keys():\n",
    "        if b[0] in stopWords:\n",
    "            count += bigram_dict[b]\n",
    "    return count"
   ]
  },
  {
   "cell_type": "code",
   "execution_count": 7,
   "metadata": {},
   "outputs": [
    {
     "data": {
      "text/plain": [
       "'\\nTakes a dictionary containing conversations and a user-provided tag. Returns a dictionary who keys are words that are \\nassociated with the tag, and whose values are the frequencies of each word\\n'"
      ]
     },
     "execution_count": 7,
     "metadata": {},
     "output_type": "execute_result"
    }
   ],
   "source": [
    "\"\"\"\n",
    "Takes a dictionary containing conversations and a user-provided tag. Returns a dictionary who keys are words that are \n",
    "associated with the tag, and whose values are the frequencies of each word\n",
    "\"\"\"\n",
    "def tag_counts(conv_dictionary, tag):\n",
    "    tags = {}\n",
    "    for file in conv_dictionary:\n",
    "        for key in conv_dictionary[file]:\n",
    "            for pair in conv_dictionary[file][key]:\n",
    "                if(pair[1] == tag):\n",
    "                    if(pair not in tags):\n",
    "                        tags[pair] = 1\n",
    "                    else:\n",
    "                        tags[pair] += 1\n",
    "    return tags"
   ]
  },
  {
   "cell_type": "markdown",
   "metadata": {
    "collapsed": true
   },
   "source": [
    "## Repeated words/stuttering"
   ]
  },
  {
   "cell_type": "code",
   "execution_count": 8,
   "metadata": {},
   "outputs": [
    {
     "data": {
      "text/plain": [
       "541521"
      ]
     },
     "execution_count": 8,
     "metadata": {},
     "output_type": "execute_result"
    },
    {
     "data": {
      "text/plain": [
       "908"
      ]
     },
     "execution_count": 8,
     "metadata": {},
     "output_type": "execute_result"
    }
   ],
   "source": [
    "#Get the bigrams from VOICE and BNC\n",
    "VOICE_bigrams = get_bigrams(VOICE_toks)\n",
    "BNC_bigrams = get_bigrams(BNC_toks)\n",
    "\n",
    "len(VOICE_bigrams)\n",
    "len(BNC_toks)"
   ]
  },
  {
   "cell_type": "code",
   "execution_count": 9,
   "metadata": {
    "collapsed": true
   },
   "outputs": [],
   "source": [
    "#Get the bigrams with repeated words, like ('i', 'i'), and their frequency counts\n",
    "VOICE_repeated_words = repeated_words(VOICE_bigrams)\n",
    "BNC_repeated_words = repeated_words(BNC_bigrams)"
   ]
  },
  {
   "cell_type": "markdown",
   "metadata": {},
   "source": [
    "### Proportion of bigrams that contain repeated words\n",
    "When comparing VOICE to BNC, the speakers in the VOICE corpus repeat words significantly more often than the speakers in the BNC. Around 3% of all bigrams in the VOICE corpus contain repeated words, while only around 1% of all bigrams in the BNC contain repeated words"
   ]
  },
  {
   "cell_type": "code",
   "execution_count": 10,
   "metadata": {
    "collapsed": true
   },
   "outputs": [],
   "source": [
    "#For each corpus, get the sum of the frequencies for each bigram containing a repeated word\n",
    "VOICE_total_repetitions =  sum(VOICE_repeated_words.values())\n",
    "BNC_total_repetitions = sum(BNC_repeated_words.values())"
   ]
  },
  {
   "cell_type": "code",
   "execution_count": 11,
   "metadata": {},
   "outputs": [
    {
     "data": {
      "text/plain": [
       "15819"
      ]
     },
     "execution_count": 11,
     "metadata": {},
     "output_type": "execute_result"
    },
    {
     "data": {
      "text/plain": [
       "0.02921216351720432"
      ]
     },
     "execution_count": 11,
     "metadata": {},
     "output_type": "execute_result"
    }
   ],
   "source": [
    "#The VOICE corpus contains 15819 bigrams with repeated words, which accounts for almost 3% of all of the bigrams\n",
    "#in VOICE\n",
    "VOICE_total_repetitions\n",
    "VOICE_total_repetitions/len(VOICE_bigrams)"
   ]
  },
  {
   "cell_type": "code",
   "execution_count": 12,
   "metadata": {},
   "outputs": [
    {
     "data": {
      "text/plain": [
       "101555"
      ]
     },
     "execution_count": 12,
     "metadata": {},
     "output_type": "execute_result"
    },
    {
     "data": {
      "text/plain": [
       "0.010828264398376917"
      ]
     },
     "execution_count": 12,
     "metadata": {},
     "output_type": "execute_result"
    }
   ],
   "source": [
    "#The BNC corpus contains 101555 bigrams with repeated words, which accounts for around 1% of all bigrams in the BNC\n",
    "BNC_total_repetitions\n",
    "BNC_total_repetitions/len(BNC_bigrams)"
   ]
  },
  {
   "cell_type": "markdown",
   "metadata": {},
   "source": [
    "### Exploring words that are often repeated\n",
    "There are a lot of similarities between the most-commonly repeated words for both native and nonnative speakers ('yeah,' 'er,' 'I'), but there are also potentially some important differences. For example, 'very very' is a common bigram in BNC. English speakers often intentionally repeat the word \"very\" for emphasis (not hesitation). This could be the case for some of the bigrams with repeated words in the BNC.  \n",
    "Also, a high proportion of repeated words (60%+) are stop words. This proportion is higher among native speakers in the BNC than it is among non-native speakers in VOICE."
   ]
  },
  {
   "cell_type": "code",
   "execution_count": 13,
   "metadata": {},
   "outputs": [
    {
     "name": "stdout",
     "output_type": "stream",
     "text": [
      "('yeah', 'yeah') 1241\n",
      "('the', 'the') 1177\n",
      "('er', 'er') 1096\n",
      "('i', 'i') 1023\n",
      "('no', 'no') 846\n",
      "('to', 'to') 672\n",
      "('in', 'in') 615\n",
      "('mhm', 'mhm') 556\n",
      "('and', 'and') 510\n",
      "('yes', 'yes') 476\n",
      "('we', 'we') 433\n",
      "('yah', 'yah') 380\n",
      "('x', 'x') 352\n",
      "('a', 'a') 311\n",
      "('it', 'it') 293\n",
      "('you', 'you') 288\n",
      "('of', 'of') 275\n",
      "('that', 'that') 213\n",
      "('xx', 'xx') 186\n",
      "('for', 'for') 180\n"
     ]
    }
   ],
   "source": [
    "#Show the 20 most frequently repeated words in VOICE\n",
    "for bigram in sorted(VOICE_repeated_words, key = VOICE_repeated_words.get, reverse=True)[:20]:\n",
    "    print(bigram, VOICE_repeated_words[bigram])"
   ]
  },
  {
   "cell_type": "code",
   "execution_count": 14,
   "metadata": {},
   "outputs": [
    {
     "name": "stdout",
     "output_type": "stream",
     "text": [
      "('i', 'i') 8598\n",
      "('the', 'the') 6722\n",
      "('that', 'that') 3953\n",
      "('no', 'no') 3948\n",
      "('and', 'and') 3511\n",
      "('er', 'er') 3448\n",
      "('a', 'a') 3228\n",
      "('mm', 'mm') 3197\n",
      "('it', 'it') 2940\n",
      "('you', 'you') 2922\n",
      "('in', 'in') 2486\n",
      "('yeah', 'yeah') 2248\n",
      "('to', 'to') 2015\n",
      "('we', 'we') 2004\n",
      "('yes', 'yes') 1861\n",
      "('they', 'they') 1742\n",
      "('he', 'he') 1670\n",
      "('is', 'is') 1571\n",
      "('very', 'very') 1437\n",
      "('what', 'what') 1342\n"
     ]
    }
   ],
   "source": [
    "#Show the 20 most frequently repeated words in BNC\n",
    "for bigram in sorted(BNC_repeated_words, key=BNC_repeated_words.get, reverse=True)[:20]:\n",
    "    print(bigram, BNC_repeated_words[bigram])"
   ]
  },
  {
   "cell_type": "markdown",
   "metadata": {},
   "source": [
    "### Repetition and stop words\n",
    "In both the BNC and VOICE, over 60% of repeated words are stop words. This percentage is higher in the BNC than in the VOICE (66.75% vs. 60.3%)"
   ]
  },
  {
   "cell_type": "code",
   "execution_count": 15,
   "metadata": {
    "collapsed": true
   },
   "outputs": [],
   "source": [
    "#For each corpus, get the number of repeated words that are stop words\n",
    "VOICE_repeated_stopwords = repeated_stopwords(VOICE_repeated_words)\n",
    "BNC_repeated_stopwords = repeated_stopwords(BNC_repeated_words)"
   ]
  },
  {
   "cell_type": "code",
   "execution_count": 16,
   "metadata": {},
   "outputs": [
    {
     "data": {
      "text/plain": [
       "0.6030090397623111"
      ]
     },
     "execution_count": 16,
     "metadata": {},
     "output_type": "execute_result"
    },
    {
     "data": {
      "text/plain": [
       "0.6675889911870415"
      ]
     },
     "execution_count": 16,
     "metadata": {},
     "output_type": "execute_result"
    }
   ],
   "source": [
    "#For each corpus, display the proportion of repeated words that are stop words\n",
    "VOICE_repeated_stopwords/VOICE_total_repetitions\n",
    "BNC_repeated_stopwords/BNC_total_repetitions"
   ]
  },
  {
   "cell_type": "markdown",
   "metadata": {},
   "source": [
    "#### Considering non-repeated stop words"
   ]
  },
  {
   "cell_type": "code",
   "execution_count": 17,
   "metadata": {
    "collapsed": true
   },
   "outputs": [],
   "source": [
    "VOICE_repeated_non_stopwords = {}\n",
    "for b in VOICE_repeated_words:\n",
    "    if b[0] not in stopWords:\n",
    "        if b not in VOICE_repeated_non_stopwords:\n",
    "            VOICE_repeated_non_stopwords[b] = VOICE_repeated_words[b]"
   ]
  },
  {
   "cell_type": "code",
   "execution_count": 18,
   "metadata": {
    "collapsed": true
   },
   "outputs": [],
   "source": [
    "BNC_repeated_non_stopwords = {}\n",
    "for b in BNC_repeated_words:\n",
    "    if b[0] not in stopWords:\n",
    "        if b not in BNC_repeated_non_stopwords:\n",
    "            #BNC_repeated_non_stopwords[b] = 1\n",
    "            BNC_repeated_non_stopwords[b] = BNC_repeated_words[b]"
   ]
  },
  {
   "cell_type": "code",
   "execution_count": 19,
   "metadata": {},
   "outputs": [
    {
     "name": "stdout",
     "output_type": "stream",
     "text": [
      "('yeah', 'yeah') 1241\n",
      "('er', 'er') 1096\n",
      "('mhm', 'mhm') 556\n",
      "('yes', 'yes') 476\n",
      "('yah', 'yah') 380\n",
      "('x', 'x') 352\n",
      "('xx', 'xx') 186\n",
      "('okay', 'okay') 134\n",
      "('erm', 'erm') 116\n",
      "('hm', 'hm') 75\n",
      "('right', 'right') 73\n",
      "('i-', 'i-') 60\n",
      "('blah', 'blah') 41\n",
      "('one', 'one') 37\n",
      "('hh', 'hh') 35\n",
      "('th-', 'th-') 32\n",
      "('really', 'really') 32\n",
      "('sure', 'sure') 32\n",
      "('s-', 's-') 31\n",
      "('like', 'like') 28\n"
     ]
    }
   ],
   "source": [
    "for bigram in sorted(VOICE_repeated_non_stopwords, key= VOICE_repeated_non_stopwords.get, reverse=True)[:20]:\n",
    "    print(bigram, VOICE_repeated_non_stopwords[bigram])"
   ]
  },
  {
   "cell_type": "code",
   "execution_count": 20,
   "metadata": {},
   "outputs": [
    {
     "name": "stdout",
     "output_type": "stream",
     "text": [
      "('er', 'er') 3448\n",
      "('mm', 'mm') 3197\n",
      "('yeah', 'yeah') 2248\n",
      "('yes', 'yes') 1861\n",
      "('oh', 'oh') 820\n",
      "('ha', 'ha') 751\n",
      "('ah', 'ah') 563\n",
      "('da', 'da') 535\n",
      "('erm', 'erm') 519\n",
      "('one', 'one') 498\n",
      "('la', 'la') 434\n",
      "('th', 'th') 414\n",
      "('ooh', 'ooh') 398\n",
      "('well', 'well') 380\n",
      "('two', 'two') 328\n",
      "('bye', 'bye') 328\n",
      "('b', 'b') 318\n",
      "('p', 'p') 307\n",
      "('c', 'c') 275\n",
      "('doo', 'doo') 257\n"
     ]
    }
   ],
   "source": [
    "for bigram in sorted(BNC_repeated_non_stopwords, key= BNC_repeated_non_stopwords.get, reverse=True)[:20]:\n",
    "    print(bigram, BNC_repeated_non_stopwords[bigram])"
   ]
  },
  {
   "cell_type": "code",
   "execution_count": 21,
   "metadata": {
    "collapsed": true
   },
   "outputs": [],
   "source": [
    "freqs = nltk.FreqDist([b for b in VOICE_repeated_words if b[0] not in stopWords])"
   ]
  },
  {
   "cell_type": "markdown",
   "metadata": {},
   "source": [
    "## Proportion of Hesitation words (er, erm, etc.)\n",
    "Both corpora have \"unclassifiable\" categories that hesitations fall under, but the criteria for each corpus are very different. VOICE includes mainly interjections and hesitation words, while BNC also includes words that were cut-off. However, the most common words in each corpus with the \"unclassifiable\" tags by far are 'er' and 'erm,' so I decided to create a set of \"hesitation\" words that is a combination of unclassifiable words in the BNC and the VOICE. Specifically, it includes words that are unclassifiable in the VOICE that are also unclassifiable in the BNC.  \n",
    "There is a huge difference in the percent of hesitation words between the two corpora: about 43% of the words in VOICE are \"hesitation\" words, while about 24% of words in the BNC are \"hesitation\" words."
   ]
  },
  {
   "cell_type": "code",
   "execution_count": 22,
   "metadata": {},
   "outputs": [
    {
     "data": {
      "text/plain": [
       "'\\nBoth VOICE and BNC have a tag that is used for words that do not have another clear classification. Both corpora point\\nout that hesitation words are among the most common to fall into this category. In VOICE, they are indicated with the \\nUHfUH tag, and in BNC, they are indicated with the UNC tag.\\n'"
      ]
     },
     "execution_count": 22,
     "metadata": {},
     "output_type": "execute_result"
    }
   ],
   "source": [
    "\"\"\"\n",
    "Both VOICE and BNC have a tag that is used for words that do not have another clear classification. Both corpora point\n",
    "out that hesitation words are among the most common to fall into this category. In VOICE, they are indicated with the \n",
    "UHfUH tag, and in BNC, they are indicated with the UNC tag.\n",
    "\"\"\"\n",
    "#VOICE: UHfUH\n",
    "#BNC: UNC\n",
    "VOICE_hesitations = tag_counts(VOICE_tags, \"UHfUH\")\n",
    "BNC_hesitations = tag_counts(BNC_tags, \"UNC\")"
   ]
  },
  {
   "cell_type": "code",
   "execution_count": 23,
   "metadata": {},
   "outputs": [
    {
     "data": {
      "text/plain": [
       "29"
      ]
     },
     "execution_count": 23,
     "metadata": {},
     "output_type": "execute_result"
    },
    {
     "data": {
      "text/plain": [
       "5082"
      ]
     },
     "execution_count": 23,
     "metadata": {},
     "output_type": "execute_result"
    }
   ],
   "source": [
    "#A LOT more words in the BNC fall under the unclassified category than in the BNC. This is because of the difference\n",
    "#in tagsets\n",
    "len(VOICE_hesitations.keys())\n",
    "len(BNC_hesitations.keys())"
   ]
  },
  {
   "cell_type": "code",
   "execution_count": 24,
   "metadata": {},
   "outputs": [
    {
     "data": {
      "text/plain": [
       "43001"
      ]
     },
     "execution_count": 24,
     "metadata": {},
     "output_type": "execute_result"
    },
    {
     "data": {
      "text/plain": [
       "231847"
      ]
     },
     "execution_count": 24,
     "metadata": {},
     "output_type": "execute_result"
    }
   ],
   "source": [
    "#Get the number of words in VOICE with the UHfUH tag, and the number of words in BNC with the UNC  tag. \n",
    "VOICE_num_hesitations = sum(VOICE_hesitations.values())\n",
    "BNC_num_hesitations = sum(BNC_hesitations.values())\n",
    "\n",
    "VOICE_num_hesitations\n",
    "BNC_num_hesitations"
   ]
  },
  {
   "cell_type": "code",
   "execution_count": 25,
   "metadata": {},
   "outputs": [
    {
     "data": {
      "text/plain": [
       "[('er', 'UHfUH'),\n",
       " ('oh', 'UHfUH'),\n",
       " ('ah', 'UHfUH'),\n",
       " ('erm', 'UHfUH'),\n",
       " ('pf', 'UHfUH'),\n",
       " ('oops', 'UHfUH'),\n",
       " ('haeh', 'UHfUH'),\n",
       " ('wow', 'UHfUH'),\n",
       " ('sh', 'UHfUH'),\n",
       " ('ooph', 'UHfUH'),\n",
       " ('ur', 'UHfUH'),\n",
       " ('yo', 'UHfUH'),\n",
       " ('whoohoo', 'UHfUH'),\n",
       " ('yuck', 'UHfUH'),\n",
       " ('huh', 'UHfUH'),\n",
       " ('oh-oh', 'UHfUH'),\n",
       " ('poah', 'UHfUH'),\n",
       " ('ow', 'UHfUH'),\n",
       " ('ts', 'UHfUH'),\n",
       " ('oow', 'UHfUH'),\n",
       " ('innit', 'UHfUH'),\n",
       " ('yipee', 'UHfUH'),\n",
       " ('mm', 'UHfUH'),\n",
       " ('ha', 'UHfUH'),\n",
       " ('yay', 'UHfUH'),\n",
       " ('uh', 'UHfUH'),\n",
       " ('ouch', 'UHfUH'),\n",
       " ('psh', 'UHfUH'),\n",
       " ('eh', 'UHfUH')]"
      ]
     },
     "execution_count": 25,
     "metadata": {},
     "output_type": "execute_result"
    },
    {
     "data": {
      "text/plain": [
       "[('erm', 'UNC'),\n",
       " ('er', 'UNC'),\n",
       " (\"'s\", 'UNC'),\n",
       " ('be', 'UNC'),\n",
       " ('th-', 'UNC'),\n",
       " ('com', 'UNC'),\n",
       " ('gu', 'UNC'),\n",
       " ('di', 'UNC'),\n",
       " ('creme', 'UNC'),\n",
       " ('non', 'UNC'),\n",
       " ('lieu', 'UNC'),\n",
       " ('en', 'UNC'),\n",
       " ('int', 'UNC'),\n",
       " ('ma', 'UNC'),\n",
       " ('te', 'UNC'),\n",
       " ('cur', 'UNC'),\n",
       " ('in', 'UNC'),\n",
       " ('s', 'UNC'),\n",
       " ('pa', 'UNC'),\n",
       " ('si', 'UNC'),\n",
       " ('wh', 'UNC'),\n",
       " ('ac', 'UNC'),\n",
       " ('thi', 'UNC'),\n",
       " ('st', 'UNC'),\n",
       " (\"'\", 'UNC'),\n",
       " ('papier', 'UNC'),\n",
       " ('mache', 'UNC'),\n",
       " ('mark', 'UNC'),\n",
       " ('p', 'UNC'),\n",
       " ('walk', 'UNC')]"
      ]
     },
     "execution_count": 25,
     "metadata": {},
     "output_type": "execute_result"
    }
   ],
   "source": [
    "#The tagging criteria for unclassified words between the BNC and VOICE are very different: the BNC applies this \n",
    "#tag to a much wider variety of words. For example, the BNC counts cut off words ('th-') as unclassified, while\n",
    "#the VOICE does not.\n",
    "list(VOICE_hesitations.keys())\n",
    "list(BNC_hesitations.keys())[:30]"
   ]
  },
  {
   "cell_type": "code",
   "execution_count": 26,
   "metadata": {},
   "outputs": [
    {
     "data": {
      "text/plain": [
       "['er',\n",
       " 'oh',\n",
       " 'ah',\n",
       " 'erm',\n",
       " 'pf',\n",
       " 'oops',\n",
       " 'haeh',\n",
       " 'wow',\n",
       " 'sh',\n",
       " 'ooph',\n",
       " 'ur',\n",
       " 'yo',\n",
       " 'whoohoo',\n",
       " 'yuck',\n",
       " 'huh',\n",
       " 'oh-oh',\n",
       " 'poah',\n",
       " 'ow',\n",
       " 'ts',\n",
       " 'oow',\n",
       " 'innit',\n",
       " 'yipee',\n",
       " 'mm',\n",
       " 'ha',\n",
       " 'yay',\n",
       " 'uh',\n",
       " 'ouch',\n",
       " 'psh',\n",
       " 'eh']"
      ]
     },
     "execution_count": 26,
     "metadata": {},
     "output_type": "execute_result"
    }
   ],
   "source": [
    "#Make a list of hesitation words, which will consist of words in the VOICE marked as unclassified that are\n",
    "#also marked as unclassified in the BNC\n",
    "\n",
    "VOICE_hesitation_words = list(VOICE_hesitations.keys())\n",
    "VOICE_hesitation_words = [w[0] for w in VOICE_hesitation_words]\n",
    "\n",
    "BNC_hesitation_words = list(VOICE_hesitations.keys())\n",
    "BNC_hesitation_words = [w[0] for w in BNC_hesitation_words]\n",
    "\n",
    "hesitation_words = [w for w in VOICE_hesitation_words if w in BNC_hesitation_words]\n",
    "hesitation_words"
   ]
  },
  {
   "cell_type": "code",
   "execution_count": 27,
   "metadata": {},
   "outputs": [],
   "source": [
    "BNC_tokens = get_tokens(BNC_toks)\n",
    "VOICE_tokens = get_tokens(VOICE_toks)"
   ]
  },
  {
   "cell_type": "code",
   "execution_count": 28,
   "metadata": {},
   "outputs": [
    {
     "data": {
      "text/plain": [
       "0.0428130167749006"
      ]
     },
     "execution_count": 28,
     "metadata": {},
     "output_type": "execute_result"
    },
    {
     "data": {
      "text/plain": [
       "0.024098311427494978"
      ]
     },
     "execution_count": 28,
     "metadata": {},
     "output_type": "execute_result"
    }
   ],
   "source": [
    "#Huge difference in hesitation words\n",
    "\n",
    "len([w for w in VOICE_tokens if w in hesitation_words])/len(VOICE_tokens)\n",
    "len([w for w in BNC_tokens if w in hesitation_words])/len(BNC_tokens)"
   ]
  }
 ],
 "metadata": {
  "kernelspec": {
   "display_name": "Python 3",
   "language": "python",
   "name": "python3"
  },
  "language_info": {
   "codemirror_mode": {
    "name": "ipython",
    "version": 3
   },
   "file_extension": ".py",
   "mimetype": "text/x-python",
   "name": "python",
   "nbconvert_exporter": "python",
   "pygments_lexer": "ipython3",
   "version": "3.6.1"
  }
 },
 "nbformat": 4,
 "nbformat_minor": 2
}
