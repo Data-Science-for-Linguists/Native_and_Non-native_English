{
 "cells": [
  {
   "cell_type": "markdown",
   "metadata": {},
   "source": [
    "Katherine Kairis, kak275@pitt.edu, 10/12/2017"
   ]
  },
  {
   "cell_type": "code",
   "execution_count": 1,
   "metadata": {
    "collapsed": true
   },
   "outputs": [],
   "source": [
    "from bs4 import BeautifulSoup\n",
    "import glob\n",
    "import re"
   ]
  },
  {
   "cell_type": "code",
   "execution_count": 2,
   "metadata": {
    "collapsed": true
   },
   "outputs": [],
   "source": [
    "transcripts = glob.glob('data/VOICE/VOICE2.0XML/XML/*.xml')\n",
    "del transcripts[0]"
   ]
  },
  {
   "cell_type": "code",
   "execution_count": 3,
   "metadata": {
    "collapsed": true
   },
   "outputs": [],
   "source": [
    "#Create two dictionaries: one containing information about the participants, and one containing the conversations\n",
    "participants = {}\n",
    "conversations = {}"
   ]
  },
  {
   "cell_type": "markdown",
   "metadata": {},
   "source": [
    "# Getting info about the participants\n",
    "The participant_info function extracts information about the participants and stores it in the \"participants\" dictionary. The keys of the dictionary are the participants' ID numbers. The values are sub-dictionaries that include the participant's role, age, sex, and occupation (if listed). The sub-dictionaries also include the participants' L1s, which are stored in lists (since some participants have multiple L1s)."
   ]
  },
  {
   "cell_type": "code",
   "execution_count": 4,
   "metadata": {
    "collapsed": true
   },
   "outputs": [],
   "source": [
    "def participant_info(contents):\n",
    "    \n",
    "    #Get all of the participants in the given conversation\n",
    "    people = contents.find('listPerson', {'type': 'identified'}).findAll('person')\n",
    "    \n",
    "    for p in people:\n",
    "        #info is a subdirector that contains a single participant's information. It will be \n",
    "        info = {}\n",
    "        info['role'] = p['role']\n",
    "        info['age'] = p.age.get_text()\n",
    "        info['sex'] = p.sex.get_text()\n",
    "        \n",
    "        #In some cases, the occupation isn't listed. If it is included, get the text of the occupation field.\n",
    "        #If it isn't included, \"None\" will be stored as the occupation, since p.occupation would return \"None.\"\n",
    "        try:\n",
    "            info['occupation'] = p.occupation.get_text()\n",
    "        except AttributeError:\n",
    "            info['occupation'] = p.occupation\n",
    "        \n",
    "        #Get a list of the languages that the participant speaks. Iterate through the list, and add them to the\n",
    "        #dictionary according to the speaker's level (ie. L1).\n",
    "        languages = p.findAll('langKnown')\n",
    "        for l in languages:\n",
    "            level = l['level']\n",
    "            language = l['tag']\n",
    "        \n",
    "            if level in info:\n",
    "                info[level].append(language)\n",
    "            else:\n",
    "                info[level] = [language]\n",
    "    \n",
    "        #Get the participant's ID number, and make it a key in the participants dictionary. The value will be\n",
    "        #the info dictionary\n",
    "        name = p['xml:id']\n",
    "        participants[name] = info"
   ]
  },
  {
   "cell_type": "markdown",
   "metadata": {},
   "source": [
    "# Getting lines of the conversation from the file\n",
    "The conversation_lines function gets each line from the current conversation. The lines are stored as lists in the \"conversations\" dictionary, whose keys are the names of the XML files. For now, I decided to keep the lines in their XML format; there are a lot of annotations in the XML format that could be useful later on, such as the speaker, pauses, and intonation markings. Converting the XML lines into text/getting rid of the tags is simple, so I could change this later on."
   ]
  },
  {
   "cell_type": "code",
   "execution_count": 5,
   "metadata": {
    "collapsed": true
   },
   "outputs": [],
   "source": [
    "def conversation_lines(file, contents):\n",
    "    file_name = file.split(\"/\")[-1]\n",
    "    text_body = contents.body\n",
    "    xml_lines = text_body.findAll('u')\n",
    "    conversations[file_name] = xml_lines"
   ]
  },
  {
   "cell_type": "markdown",
   "metadata": {},
   "source": [
    "# Processing the XML files\n",
    "This section iterates through all of the files (except for corpus-header.xml) in the VOICE1.0XML/XML directory. It calls conversation_lines and participant_info to extract some important parts of the data from the corpus."
   ]
  },
  {
   "cell_type": "code",
   "execution_count": 6,
   "metadata": {
    "collapsed": true,
    "scrolled": true
   },
   "outputs": [],
   "source": [
    "for t in transcripts:\n",
    "    file = open(t, 'r')\n",
    "    text = file.read()\n",
    "    xml_contents = BeautifulSoup(text, 'xml')\n",
    "    conversation_lines(t, xml_contents)\n",
    "    participant_info(xml_contents)"
   ]
  },
  {
   "cell_type": "code",
   "execution_count": 7,
   "metadata": {},
   "outputs": [
    {
     "data": {
      "text/plain": [
       "<u who=\"#EDcon496_S1\" xml:id=\"EDcon496_u_1\"> e<c type=\"lengthening\"/>r leads so <pause/> ma<c type=\"lengthening\"/>n i'm still stuck on lead du<c type=\"lengthening\"/>de <pause dur=\"PT3S\"/></u>"
      ]
     },
     "execution_count": 7,
     "metadata": {},
     "output_type": "execute_result"
    }
   ],
   "source": [
    "conversations['EDcon496.xml'][0]"
   ]
  },
  {
   "cell_type": "code",
   "execution_count": 8,
   "metadata": {},
   "outputs": [
    {
     "data": {
      "text/plain": [
       "{'L1': ['ger-AT', 'eng-US'],\n",
       " 'age': '25-34',\n",
       " 'occupation': None,\n",
       " 'role': 'participant',\n",
       " 'sex': 'female'}"
      ]
     },
     "execution_count": 8,
     "metadata": {},
     "output_type": "execute_result"
    }
   ],
   "source": [
    "participants['EDcon250_S2']"
   ]
  },
  {
   "cell_type": "code",
   "execution_count": 9,
   "metadata": {
    "collapsed": true
   },
   "outputs": [],
   "source": [
    "#Get native English speakers\n",
    "native_speakers = []\n",
    "\n",
    "#There are multiple ways that English is listed as an L1 (\"eng\", \"eng-US\", \"eng-CA\", \"eng-GB\", \"eng-GY\", \"eng-AU\", etc)\n",
    "#I used a regular expression to find all of these instances\n",
    "r = re.compile(\"eng.*\")\n",
    "\n",
    "for person in participants:\n",
    "    \n",
    "    #returns a list of all languages that contain \"eng.*\" The length of this list should be 1 or 0. If it's 1, the\n",
    "    #participant has English listed as an L1.\n",
    "    english = list(filter(r.match, participants[person]['L1']))\n",
    "    \n",
    "    if len(english) != 0:\n",
    "        #print(person, ':', participants[person])\n",
    "        native_speakers.append(person)"
   ]
  },
  {
   "cell_type": "code",
   "execution_count": 10,
   "metadata": {},
   "outputs": [],
   "source": [
    "participant = native_speakers[0]\n",
    "languages = participants[participant]['L1']"
   ]
  },
  {
   "cell_type": "code",
   "execution_count": 11,
   "metadata": {
    "collapsed": true
   },
   "outputs": [],
   "source": [
    "english_dialects = {}\n",
    "for p in native_speakers:\n",
    "    languages = participants[p]['L1']\n",
    "    for l in languages:\n",
    "        if 'eng' not in l:\n",
    "            continue\n",
    "        #print(l)\n",
    "        \n",
    "        if l not in english_dialects:\n",
    "            english_dialects[l] = 1\n",
    "        else:\n",
    "            english_dialects[l] += 1"
   ]
  },
  {
   "cell_type": "code",
   "execution_count": 12,
   "metadata": {},
   "outputs": [
    {
     "data": {
      "text/plain": [
       "{'eng': 8,\n",
       " 'eng-AU': 3,\n",
       " 'eng-CA': 6,\n",
       " 'eng-GB': 39,\n",
       " 'eng-GY': 1,\n",
       " 'eng-IE': 3,\n",
       " 'eng-MT': 7,\n",
       " 'eng-US': 20}"
      ]
     },
     "execution_count": 12,
     "metadata": {},
     "output_type": "execute_result"
    }
   ],
   "source": [
    "english_dialects"
   ]
  },
  {
   "cell_type": "code",
   "execution_count": 13,
   "metadata": {
    "collapsed": true
   },
   "outputs": [],
   "source": [
    "bilinguals = []\n",
    "L1_counts = {}\n",
    "#participants[native_speakers[0]]\n",
    "for p in participants:\n",
    "    #print(participants[p]['L1'])\n",
    "    languages = participants[p]['L1']\n",
    "    if len(languages) > 1:\n",
    "        bilinguals.append(p)\n",
    "        if p in native_speakers:\n",
    "            if 'eng' not in L1_counts:\n",
    "                L1_counts['eng'] = 1\n",
    "            else:\n",
    "                L1_counts['eng'] += 1\n",
    "        continue\n",
    "    \n",
    "    \n",
    "    for l in languages:\n",
    "        L1 = l.split(\"-\")[0]\n",
    "        if L1 not in L1_counts:\n",
    "            L1_counts[L1] = 1\n",
    "        else:\n",
    "            L1_counts[L1] += 1\n",
    "        #print(l.split(\"-\")[0])"
   ]
  },
  {
   "cell_type": "code",
   "execution_count": 14,
   "metadata": {},
   "outputs": [
    {
     "data": {
      "text/plain": [
       "44"
      ]
     },
     "execution_count": 14,
     "metadata": {},
     "output_type": "execute_result"
    }
   ],
   "source": [
    "len(bilinguals)"
   ]
  },
  {
   "cell_type": "code",
   "execution_count": 15,
   "metadata": {},
   "outputs": [
    {
     "name": "stdout",
     "output_type": "stream",
     "text": [
      "['ger-AT', 'eng-US']\n",
      "['eng-GY', 'dut-NL']\n",
      "['fre-FR', 'eng']\n",
      "['mlt-MT', 'eng-MT']\n",
      "['mlt-MT', 'eng-MT']\n",
      "['mlt-MT', 'eng-MT']\n",
      "['mlt-MT', 'ger-AT']\n",
      "['ger-AT', 'eng-US']\n",
      "['ukr-UA', 'rus']\n",
      "['ger-DE', 'ind-ID']\n",
      "['ger-AT', 'eng-US']\n",
      "['eng', 'heb', 'dut']\n",
      "['slo-SK', 'ger']\n",
      "['eng-CA', 'chi-CN']\n",
      "['eng-CA', 'chi-CN']\n",
      "['fre-CH', 'ger-CH']\n",
      "['dut-NL', 'eng']\n",
      "['eng-GB', 'spa-ES']\n",
      "['fre-CH', 'ger-CH']\n",
      "['eng-GB', 'spa-ES']\n",
      "['eng-GB', 'spa-ES']\n",
      "['eng-GB', 'spa-ES']\n",
      "['fre-CH', 'ger-CH']\n",
      "['eng-GB', 'spa-ES']\n",
      "['eng-GB', 'spa-ES']\n",
      "['fre-CH', 'ger-CH']\n",
      "['eng-GB', 'spa-ES']\n",
      "['fre-CH', 'ger-CH']\n",
      "['eng-GB', 'spa-ES']\n",
      "['mlt-MT', 'eng-MT']\n",
      "['cat-ES', 'spa-ES']\n",
      "['mlt-MT', 'eng-MT']\n",
      "['mlt-MT', 'eng-MT']\n",
      "['mlt-MT', 'eng-MT']\n",
      "['spa-ES', 'cat-ES']\n",
      "['dut', 'ger-AT']\n",
      "['spa-ES', 'cat']\n",
      "['por-PT', 'ger-AT']\n",
      "['por-PT', 'ger-AT']\n",
      "['dut', 'ger-AT']\n",
      "['ger', 'ita']\n",
      "['ger-AT', 'pol-PL']\n",
      "['ara-PS', 'ger-AT']\n",
      "['per-IR', 'eng-US']\n"
     ]
    }
   ],
   "source": [
    "for p in bilinguals:\n",
    "    print(participants[p]['L1'])"
   ]
  },
  {
   "cell_type": "code",
   "execution_count": 16,
   "metadata": {},
   "outputs": [
    {
     "data": {
      "text/plain": [
       "{'alb': 11,\n",
       " 'ara': 4,\n",
       " 'arm': 6,\n",
       " 'bos': 5,\n",
       " 'bul': 13,\n",
       " 'cat': 6,\n",
       " 'chi': 7,\n",
       " 'cze': 18,\n",
       " 'dan': 35,\n",
       " 'dut': 72,\n",
       " 'eng': 87,\n",
       " 'est': 8,\n",
       " 'fin': 51,\n",
       " 'fre': 63,\n",
       " 'ger': 303,\n",
       " 'gre': 14,\n",
       " 'hin': 4,\n",
       " 'hun': 13,\n",
       " 'ice': 3,\n",
       " 'ind': 2,\n",
       " 'ita': 54,\n",
       " 'jpn': 5,\n",
       " 'kaz': 2,\n",
       " 'kir': 2,\n",
       " 'kor': 14,\n",
       " 'lav': 19,\n",
       " 'lit': 9,\n",
       " 'mac': 14,\n",
       " 'mlt': 22,\n",
       " 'nor': 34,\n",
       " 'per': 2,\n",
       " 'pol': 35,\n",
       " 'por': 21,\n",
       " 'rum': 30,\n",
       " 'rus': 22,\n",
       " 'scc': 24,\n",
       " 'scr': 13,\n",
       " 'slo': 29,\n",
       " 'slv': 16,\n",
       " 'spa': 72,\n",
       " 'swe': 16,\n",
       " 'tgl': 1,\n",
       " 'tur': 15,\n",
       " 'ukr': 4,\n",
       " 'und': 37,\n",
       " 'urd': 2,\n",
       " 'vie': 1,\n",
       " 'yor': 1}"
      ]
     },
     "execution_count": 16,
     "metadata": {},
     "output_type": "execute_result"
    }
   ],
   "source": [
    "L1_counts"
   ]
  },
  {
   "cell_type": "code",
   "execution_count": 17,
   "metadata": {},
   "outputs": [
    {
     "name": "stdout",
     "output_type": "stream",
     "text": [
      "1051\n",
      "736\n"
     ]
    }
   ],
   "source": [
    "#conversations['EDcon250.xml']\n",
    "c = conversations['EDcon4.xml']\n",
    "unmodified_lines = []\n",
    "modified_lines = []\n",
    "\n",
    "for l in c:\n",
    "    unmodified_lines.append(l.get_text())\n",
    "    #print(l['who'])       #participants\n",
    "    #print(l['xml:id'])    #xml_id (conversation line number)\n",
    "    #print(l.get_text())    #text\n",
    "    \n",
    "    #if(l.has_attr(\"foreign\")):\n",
    "        #print(l)\n",
    "        \n",
    "    #line = l.foreign\n",
    "    #print(line)\n",
    "  \n",
    "\n",
    "    if(l['who'] in native_speakers):\n",
    "        continue\n",
    "    \n",
    "    if(l.foreign != None):     #returns the line if has \"foreign\" tag; None if it doesn't contain the tag\n",
    "        #print(l.foreign.get_text())   #text of line  \n",
    "        #print(l.foreign['xml:lang'])  #language used\n",
    "        #print(l)                      #line (in XML format)\n",
    "        continue\n",
    "        \n",
    "    if(l.unclear != None):     #returns the line if has \"unclear\" tag; None if it doesn't contain the tag\n",
    "    #    print(l)\n",
    "        continue\n",
    "    \n",
    "    if(l.reading_aloud != None):\n",
    "        continue\n",
    "        #print(l)\n",
    "        \n",
    "    if(l.reading != None):\n",
    "        continue\n",
    "        #print(l)\n",
    "        \n",
    "    modified_lines.append(l)\n",
    "    \n",
    "print(len(unmodified_lines))\n",
    "print(len(modified_lines))\n"
   ]
  },
  {
   "cell_type": "code",
   "execution_count": 18,
   "metadata": {
    "collapsed": true
   },
   "outputs": [],
   "source": [
    "modified_conversations = {}\n",
    "lines = {}\n",
    "\n",
    "for file in conversations:\n",
    "    conv_lines = {}\n",
    "    \n",
    "    c = conversations[file]\n",
    "    \n",
    "    for l in c:\n",
    "        participant = l['who'].replace(\"#\", \"\")\n",
    "        line_id = l['xml:id']\n",
    "        text = l.get_text()\n",
    "        \n",
    "        if participant in native_speakers:\n",
    "            continue\n",
    "            \n",
    "        if participant not in participants:\n",
    "            #print(participant)\n",
    "            continue\n",
    "    \n",
    "        elif l.foreign != None:     #returns the line if has \"foreign\" tag; None if it doesn't contain the tag\n",
    "            #print(l.foreign.get_text())   #text of line  \n",
    "            #print(l.foreign['xml:lang'])  #language used\n",
    "            #print(l)                      #line (in XML format)\n",
    "            continue\n",
    "        \n",
    "        elif l.unclear != None:     #returns the line if has \"unclear\" tag; None if it doesn't contain the tag\n",
    "            #    print(l)\n",
    "            continue\n",
    "    \n",
    "        elif l.reading_aloud != None:\n",
    "            continue\n",
    "            #print(l)\n",
    "        \n",
    "        elif l.reading != None :\n",
    "            continue\n",
    "            #print(l)\n",
    "        \n",
    "        else:\n",
    "            key = (line_id, participant)\n",
    "            conv_lines[key] = text\n",
    "    \n",
    "    modified_conversations[file] = conv_lines\n",
    "        \n",
    "        "
   ]
  },
  {
   "cell_type": "code",
   "execution_count": 19,
   "metadata": {},
   "outputs": [
    {
     "data": {
      "text/plain": [
       "{('EDsed362_u_10',\n",
       "  'EDsed362_S2'): ' so  that is going to  teach me  erm  a lesson ',\n",
       " ('EDsed362_u_100',\n",
       "  'EDsed362_S9'): \" that their employee can't feed all that people you know  of course er  poverty and of course \",\n",
       " ('EDsed362_u_101', 'EDsed362_S10'): ' yes ',\n",
       " ('EDsed362_u_102', 'EDsed362_S9'): ' again er ',\n",
       " ('EDsed362_u_103',\n",
       "  'EDsed362_S10'): ' yes  insufficience  of resources so the limitation  some limitations may cause this exploding ',\n",
       " ('EDsed362_u_104', 'EDsed362_S12'): ' thank you ',\n",
       " ('EDsed362_u_11',\n",
       "  'EDsed362_S3'): ' okay  er we choose the united nations er because  more or less  all of us we are not very experienced in this topic',\n",
       " ('EDsed362_u_110', 'EDsed362_S13'): ' so er we will  also advise the ',\n",
       " ('EDsed362_u_112', 'EDsed362_S4'): ' try to guess who ',\n",
       " ('EDsed362_u_114',\n",
       "  'EDsed362_S13'): ' yeah we will also advise the  u n and first  of all erm ',\n",
       " ('EDsed362_u_117',\n",
       "  'EDsed362_S13'): ' the mo-  motivations for terrorism  are political ecological and er religious reasons the main  aims  for terrorism is to er overthrow the government  erm in their own country  or to erm have the have a state for their own yeah',\n",
       " ('EDsed362_u_118', 'EDsed362_S4'): ' thank you ',\n",
       " ('EDsed362_u_120',\n",
       "  'EDsed362_S4'): ' and there are  three beautiful things about this class',\n",
       " ('EDsed362_u_122', 'EDsed362_S4'): ' first  it is a very nice evening here ',\n",
       " ('EDsed362_u_124',\n",
       "  'EDsed362_S4'): ' second i was in a group  er which consisted  almost  entirely of er women',\n",
       " ('EDsed362_u_126',\n",
       "  'EDsed362_S4'): ' and this is the second good point and the  third  good point about it is this picture er we looked at it and er  you  see  we see one point in the center and and  we just thought  how  can that relate to terror- terrorism and erm and you know cos the  first  idea we come with is that  it has a',\n",
       " ('EDsed362_u_128', 'EDsed362_S4'): ' direct  relationship ',\n",
       " ('EDsed362_u_130',\n",
       "  'EDsed362_S4'): ' cos  first  idea  and fir- and our first advi-  advice for  U n  is that  u n ',\n",
       " ('EDsed362_u_132', 'EDsed362_S4'): ' is not  u s',\n",
       " ('EDsed362_u_134', 'EDsed362_S4'): ' or  u k',\n",
       " ('EDsed362_u_136', 'EDsed362_S4'): ' it is still  u n',\n",
       " ('EDsed362_u_140',\n",
       "  'EDsed362_S4'): ' and this is  our first idea about combating terrorism which is  how we put i  multirater-  multilateral world',\n",
       " ('EDsed362_u_151',\n",
       "  'EDsed362_S5'): ' er  you know first point was about the  u s  playing such  you know a large  role for the  u n  paying so much attention to  U S but at the same time the  u s  is the largest  er contributor financially of the  u n  if  the  u s  stopped playing  such a  large  role  it will probably reduce its funding do you think that could hurt the organization',\n",
       " ('EDsed362_u_152',\n",
       "  'EDsed362_S4'): ' erm  okay i i would write another two letters on the table or the',\n",
       " ('EDsed362_u_156',\n",
       "  'EDsed362_S4'): ' and this is one of the example  how cooperation can erm actually develop and this is insight from  other  courses which we are taking here',\n",
       " ('EDsed362_u_160',\n",
       "  'EDsed362_S4'): ' and we will go for  another  second scientific word  supernationalist  so that  member state  regardless  of its  financial  role and its financial contribution to the budget of a  united  nations  should not demand  its  supremacy  in its affairs this is a  one  of our main ideas',\n",
       " ('EDsed362_u_162', 'EDsed362_S4'): ' no ',\n",
       " ('EDsed362_u_163', 'EDsed362_S4'): ' no you get it wrong ',\n",
       " ('EDsed362_u_169', 'EDsed362_S4'): ' this is what i meant by  writing  E u ',\n",
       " ('EDsed362_u_175',\n",
       "  'EDsed362_S4'): \" what what we offer  is actually  probably you didn't get it right  we are we are offering to overcome this hatred cos this hatred  look at that  look  for instance at  france and germans \",\n",
       " ('EDsed362_u_177', 'EDsed362_S4'): ' yeah ',\n",
       " ('EDsed362_u_178', 'EDsed362_S4'): ' yeah ',\n",
       " ('EDsed362_u_180',\n",
       "  'EDsed362_S4'): ' the  point  is overcoming egoism of nation states',\n",
       " ('EDsed362_u_182', 'EDsed362_S4'): ' not of terrorists',\n",
       " ('EDsed362_u_184', 'EDsed362_S4'): ' okay this is the first clarification',\n",
       " ('EDsed362_u_186',\n",
       "  'EDsed362_S4'): ' and  another  clarification how we can eradicate  this hatred of terrorist is that by saying  okay this is not  u s  who  is playing  this large role  this is  U N  and  your  country  for instance  iraq  is represented  in  u n  and has a right to  say  something to  defend  its position this is a ',\n",
       " ('EDsed362_u_188',\n",
       "  'EDsed362_S4'): ' a  large  difference i mean this is  simply  incomparable  difference ',\n",
       " ('EDsed362_u_19', 'EDsed362_S4'): ' er  ju- just one question ',\n",
       " ('EDsed362_u_194',\n",
       "  'EDsed362_S4'): ' we believe that this is  one  of the ways to go about this problem ',\n",
       " ('EDsed362_u_201', 'EDsed362_S4'): ' no states ',\n",
       " ('EDsed362_u_203',\n",
       "  'EDsed362_S4'): ' several yes that i would have written  u s s  down others ',\n",
       " ('EDsed362_u_21',\n",
       "  'EDsed362_S4'): \" er who's gonna educate  x  er  those guys in er  poor countries specialists from  western world or \",\n",
       " ('EDsed362_u_212', 'EDsed362_S4'): ' thank you for your  comment ',\n",
       " ('EDsed362_u_214',\n",
       "  'EDsed362_S2'): \" i'll just stand there to remind  you that ten minutes is  up \",\n",
       " ('EDsed362_u_218', 'EDsed362_S4'): ' second  time ',\n",
       " ('EDsed362_u_220', 'EDsed362_S4'): ' this is ',\n",
       " ('EDsed362_u_227', 'EDsed362_S4'): ' okay  very brief answers',\n",
       " ('EDsed362_u_23', 'EDsed362_S3'): ' yeah ',\n",
       " ('EDsed362_u_233',\n",
       "  'EDsed362_S4'): ' yeah yeah  what was the second question ',\n",
       " ('EDsed362_u_236', 'EDsed362_S4'): ' uhu ',\n",
       " ('EDsed362_u_237', 'EDsed362_S4'): ' yeah ',\n",
       " ('EDsed362_u_241',\n",
       "  'EDsed362_S4'): ' okay i i would like to remind you that the problem is  terrorism terrorism so ',\n",
       " ('EDsed362_u_243',\n",
       "  'EDsed362_S4'): ' yeah and  e u  was just a an example it was not a  solution  it  was just a pass ',\n",
       " ('EDsed362_u_248', 'EDsed362_S16'): ' we will discuss this  xx xx ',\n",
       " ('EDsed362_u_25',\n",
       "  'EDsed362_S3'): \" as far as i  know  there are already such programs that er  people from different organizations are going to those countries and well of course depending on the country and the situation they first of all building up the villages and er  local  points and and and  they are trying to attract people  but  yeah  it's mainly foreign people  and it's not not only from the west like the rich countries as as you th- we  think  it's also from  i don't know  erm also  russia  and ukraine  i know one i know personally one person who is in  from  ukraine working now  working in sudan and then he moved pakistan  so on \",\n",
       " ('EDsed362_u_257', 'EDsed362_S4'): ' not  u n ',\n",
       " ('EDsed362_u_264',\n",
       "  'EDsed362_S8'): \" how would you why would you advise your  government er  to do something about guantanamo bay or some of the  c i a  bases in europe because that's  xxxxx  x  that you have now \",\n",
       " ('EDsed362_u_266',\n",
       "  'EDsed362_S16'): \" what was the question please i couldn't hear you \",\n",
       " ('EDsed362_u_270', 'EDsed362_S16'): ' what',\n",
       " ('EDsed362_u_272', 'EDsed362_S16'): ' ah ',\n",
       " ('EDsed362_u_281',\n",
       "  'EDsed362_S9'): \" erm and  i'm sorry erm  did i hear that you find where  one  of root  of terrorism in capitalism did you just say it's  something  like that \",\n",
       " ('EDsed362_u_283',\n",
       "  'EDsed362_S9'): \" isn't it  maybe too  marxistic  approach to that you know  because capitalism  is now  you know  existing in whole world  and \",\n",
       " ('EDsed362_u_286',\n",
       "  'EDsed362_S9'): \" do do what do you suggest actually i'm  interested  what  would you suggest \",\n",
       " ('EDsed362_u_288',\n",
       "  'EDsed362_S10'): ' maybe better to define this american  imperialism  or something like that  maybe  not capitalism but imperialism maybe',\n",
       " ('EDsed362_u_29', 'EDsed362_S3'): \" it's just  yeah \",\n",
       " ('EDsed362_u_294',\n",
       "  'EDsed362_S18'): ' the first group  composed of eleven students of  eleven potential political advisers chose to advise  guess  whom ',\n",
       " ('EDsed362_u_296', 'EDsed362_S18'): ' the united nations ',\n",
       " ('EDsed362_u_300', 'EDsed362_S4'): ' i like  u s ',\n",
       " ('EDsed362_u_302',\n",
       "  'EDsed362_S18'): ' through  the exchange of the ideas  through distribution of knowledge  people  get accustomed to other cultures and to diversity and in this way  we could create a peaceful multinational and cosmopolitan world',\n",
       " ('EDsed362_u_308',\n",
       "  'EDsed362_S9'): ' because this is only  one  part of of  sources',\n",
       " ('EDsed362_u_309',\n",
       "  'EDsed362_S18'): ' resources  is a very general expression',\n",
       " ('EDsed362_u_310', 'EDsed362_S9'): ' yes but you ',\n",
       " ('EDsed362_u_312',\n",
       "  'EDsed362_S9'): ' okay then it is okay because er i- i-  i as i  understood  you just to say you know i just i  thought  it is restricted only to  trafficking in drugs and and  weapons ',\n",
       " ('EDsed362_u_313',\n",
       "  'EDsed362_S18'): ' no  we would like to monitor everything',\n",
       " ('EDsed362_u_317', 'EDsed362_S18'): ' it has ',\n",
       " ('EDsed362_u_318', 'EDsed362_S19'): ' how you  eliminate the others ',\n",
       " ('EDsed362_u_321',\n",
       "  'EDsed362_S19'): ' and with er  second  do you think that  security council would  do this or  these actions er of course we  we  mostly ',\n",
       " ('EDsed362_u_322',\n",
       "  'EDsed362_S18'): ' we are  political advisers and we believe that we are taken seriously',\n",
       " ('EDsed362_u_324',\n",
       "  'EDsed362_S18'): ' and  yes  the  u n  security council only  consists of  permanent  and  non-permanent  members',\n",
       " ('EDsed362_u_325', 'EDsed362_S19'): ' yes ',\n",
       " ('EDsed362_u_326',\n",
       "  'EDsed362_S18'): ' but  the  i i c is a forum composed of  all  member states  in which  all members have a say and their voices will be heard yes',\n",
       " ('EDsed362_u_328',\n",
       "  'EDsed362_S18'): ' we chose the security council because it is a body in  charge of the global peace and security',\n",
       " ('EDsed362_u_330',\n",
       "  'EDsed362_S4'): ' i was a little bit  afraid by your question of want to control and monitor everything',\n",
       " ('EDsed362_u_332',\n",
       "  'EDsed362_S4'): ' and in this respect i have the question regarding your  third three level word and erm do a- a- as we all know during their  cold war times  there were  lots of three letters organizations namely  k g b  c i a ',\n",
       " ('EDsed362_u_334', 'EDsed362_S4'): ' f b i ',\n",
       " ('EDsed362_u_335',\n",
       "  'EDsed362_S4'): \" who had  so  much information about  everything  that they were  really dangerous and they had then a  superpower  enormorous  power  over othe-  over other citizens if you are gonna to monitor  if  you want to yeah and if you're proposing to monitor everything  how you're gonna  to control  those  people who monitor everything\",\n",
       " ('EDsed362_u_338',\n",
       "  'EDsed362_S18'): ' the security council has very high goals we would like to promote international peace and security we will have  experts and inder- independent and  impartial persons who will  not  abuse any information',\n",
       " ('EDsed362_u_343',\n",
       "  'EDsed362_S20'): \" i'd like just to  add  something to what  erm you presented cos i was in that group i had just a discussion  at the back so  you probably don't know hh erm we were just thinking that maybe it is  advisory  to actually increase the m- er members the fixed members in the security council it's been discussed  since quite some time and there is no concrete solution as yet  but maybe also that concerned  group three or four i'm not quite sure  erm so just a similar suggestions would may  er the  problem  and the  reason  one of the reasons why terrorism is so  erm strongly present at the moment  is that in many countries don't feel heard and er cannot make their political voice  erm open and  really find the  respect  for it  and erm  if there were  a few more member states represented  continuously in the security council they could also  use influence and by  combining  erm political resources and  er powers i'm sure there would not be well i don't wanna say i'm sure but i'd say  i  suppose  that  erm  er  into action  against  each other would not  take  place that easily\",\n",
       " ('EDsed362_u_345',\n",
       "  'EDsed362_S18'): \" if the  u n  is compo- er is composed of one hundred and ninety-two  member states coordination  is very difficult take the example of the  E U  there are twenty-seven member states and the decision process takes much time and that's  why \",\n",
       " ('EDsed362_u_347',\n",
       "  'EDsed362_S18'): \" there are  limited numbers as  to the composition and the voting procedure however this  body  could  include all member states and this is  the  essential  motor  of the  u n security council in respect of terrorism and in this way we could  provide for justice for every member state  being equally heard because if you increase the  number  of member states from fifteen let's say to twenty-five the  other  one hundred and seventy states will be not happy either\",\n",
       " ('EDsed362_u_35', 'EDsed362_S5'): \" okay erm  we're also er \",\n",
       " ('EDsed362_u_37', 'EDsed362_S5'): ' chose the  united nations  erm ',\n",
       " ('EDsed362_u_40', 'EDsed362_S6'): ' mhm ',\n",
       " ('EDsed362_u_44', 'EDsed362_S6'): ' yeah ',\n",
       " ('EDsed362_u_45', 'EDsed362_S5'): ' okay ',\n",
       " ('EDsed362_u_58',\n",
       "  'EDsed362_S7'): \" maybe i've got one question according to this poi- to one thing to this point with the  internet  er you said that there has to be  some  legislation  according to the information with internet erm  who has who should  in your opinion do this  legislation and \",\n",
       " ('EDsed362_u_59',\n",
       "  'EDsed362_S5'): ' the member  states i mean  the  u n  can we can set up er recommendation ',\n",
       " ('EDsed362_u_6',\n",
       "  'EDsed362_S2'): \" so when you  when you when you see me stand up from my seat that means that time is up that's actually  an \",\n",
       " ('EDsed362_u_60', 'EDsed362_S7'): ' what ',\n",
       " ('EDsed362_u_61', 'EDsed362_S7'): ' should it ',\n",
       " ('EDsed362_u_64',\n",
       "  'EDsed362_S7'): ' so  so so there should be contract where all these countries that taking part because  ev- every  member state ',\n",
       " ('EDsed362_u_65',\n",
       "  'EDsed362_S5'): \" yeah well the  u n  can't force any member to \",\n",
       " ('EDsed362_u_66', 'EDsed362_S7'): ' xxx ',\n",
       " ('EDsed362_u_8',\n",
       "  'EDsed362_S2'): ' excellent exercise for me because i never manage to respect my own time limits in class ',\n",
       " ('EDsed362_u_84', 'EDsed362_S8'): ' we will advise  u n '}"
      ]
     },
     "execution_count": 19,
     "metadata": {},
     "output_type": "execute_result"
    }
   ],
   "source": [
    "#modified_conversations['EDcon4.xml']\n",
    "#modified_conversations['EDsed364.xml']\n",
    "modified_conversations['EDsed362.xml']"
   ]
  },
  {
   "cell_type": "code",
   "execution_count": null,
   "metadata": {
    "collapsed": true
   },
   "outputs": [],
   "source": []
  }
 ],
 "metadata": {
  "kernelspec": {
   "display_name": "Python 3",
   "language": "python",
   "name": "python3"
  },
  "language_info": {
   "codemirror_mode": {
    "name": "ipython",
    "version": 3
   },
   "file_extension": ".py",
   "mimetype": "text/x-python",
   "name": "python",
   "nbconvert_exporter": "python",
   "pygments_lexer": "ipython3",
   "version": "3.6.1"
  }
 },
 "nbformat": 4,
 "nbformat_minor": 2
}
