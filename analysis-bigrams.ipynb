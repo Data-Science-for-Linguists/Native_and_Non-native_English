{
 "cells": [
  {
   "cell_type": "markdown",
   "metadata": {},
   "source": [
    "Katherine Kairis, kak275@pitt.edu, 11/28/2017"
   ]
  },
  {
   "cell_type": "markdown",
   "metadata": {},
   "source": [
    "NEW CONTINUING"
   ]
  },
  {
   "cell_type": "code",
   "execution_count": 1,
   "metadata": {
    "collapsed": true
   },
   "outputs": [],
   "source": [
    "import pickle\n",
    "import nltk\n",
    "from nltk.corpus import stopwords\n",
    "stopWords = set(stopwords.words('english'))\n",
    "\n",
    "from IPython.core.interactiveshell import InteractiveShell\n",
    "InteractiveShell.ast_node_interactivity = \"all\""
   ]
  },
  {
   "cell_type": "code",
   "execution_count": 2,
   "metadata": {},
   "outputs": [
    {
     "data": {
      "text/plain": [
       "'\\nTakes a dictionary of conversations from a corpus, and returns a list of bigrams.\\n'"
      ]
     },
     "execution_count": 2,
     "metadata": {},
     "output_type": "execute_result"
    }
   ],
   "source": [
    "\"\"\"\n",
    "Takes a dictionary of conversations from a corpus, and returns a list of bigrams.\n",
    "\"\"\"\n",
    "def get_bigrams(dictionary):\n",
    "    bigrams = []\n",
    "    for file in dictionary:\n",
    "        for key in dictionary[file]:\n",
    "            pairs = list(nltk.bigrams(dictionary[file][key]))\n",
    "            bigrams.extend(pairs)\n",
    "    return bigrams"
   ]
  },
  {
   "cell_type": "code",
   "execution_count": 3,
   "metadata": {},
   "outputs": [
    {
     "data": {
      "text/plain": [
       "\"\\nTakes a list of bigrams, returns dictionary whose keys are bigrams containing duplicate words (e.g ('i', 'i',), \\n'the', 'the') and whose values are the frequencies of each bigram\\n\""
      ]
     },
     "execution_count": 3,
     "metadata": {},
     "output_type": "execute_result"
    }
   ],
   "source": [
    "\"\"\"\n",
    "Takes a list of bigrams, returns dictionary whose keys are bigrams containing duplicate words (e.g ('i', 'i',), \n",
    "'the', 'the') and whose values are the frequencies of each bigram\n",
    "\"\"\"\n",
    "def repeated_words(bigrams):\n",
    "    repeated = {}\n",
    "    for b in bigrams:\n",
    "        if(b[0] == b[1]):\n",
    "            if(b not in repeated):\n",
    "                repeated[b] = 1\n",
    "            else:\n",
    "                repeated[b] += 1\n",
    "    return repeated"
   ]
  },
  {
   "cell_type": "code",
   "execution_count": 4,
   "metadata": {},
   "outputs": [
    {
     "data": {
      "text/plain": [
       "\"\\nTakes a dictionary of bigrams whose keys are bigrams containing duplicate words (e.g ('i', 'i',), \\n'the', 'the') and whose values are the frequencies of each bigram. Returns the sum of the frequencies for only\\nbigrams that contain repeated stop words\\n\""
      ]
     },
     "execution_count": 4,
     "metadata": {},
     "output_type": "execute_result"
    }
   ],
   "source": [
    "\"\"\"\n",
    "Takes a dictionary of bigrams whose keys are bigrams containing duplicate words (e.g ('i', 'i',), \n",
    "'the', 'the') and whose values are the frequencies of each bigram. Returns the sum of the frequencies for only\n",
    "bigrams that contain repeated stop words\n",
    "\"\"\"\n",
    "def repeated_stopwords(bigram_dict):\n",
    "    count = 0\n",
    "    for b in bigram_dict.keys():\n",
    "        if b[0] in stopWords:\n",
    "            count += bigram_dict[b]\n",
    "    return count"
   ]
  },
  {
   "cell_type": "code",
   "execution_count": 5,
   "metadata": {},
   "outputs": [
    {
     "data": {
      "text/plain": [
       "'\\nTakes a dictionary containing conversations and a user-provided tag. Returns a dictionary who keys are words that are \\nassociated with the tag, and whose values are the frequencies of each word\\n'"
      ]
     },
     "execution_count": 5,
     "metadata": {},
     "output_type": "execute_result"
    }
   ],
   "source": [
    "\"\"\"\n",
    "Takes a dictionary containing conversations and a user-provided tag. Returns a dictionary who keys are words that are \n",
    "associated with the tag, and whose values are the frequencies of each word\n",
    "\"\"\"\n",
    "def tag_counts(conv_dictionary, tag):\n",
    "    tags = {}\n",
    "    for file in conv_dictionary:\n",
    "        for key in conv_dictionary[file]:\n",
    "            for pair in conv_dictionary[file][key]:\n",
    "                if(pair[1] == tag):\n",
    "                    if(pair not in tags):\n",
    "                        tags[pair] = 1\n",
    "                    else:\n",
    "                        tags[pair] += 1\n",
    "    return tags"
   ]
  },
  {
   "cell_type": "code",
   "execution_count": 6,
   "metadata": {},
   "outputs": [
    {
     "data": {
      "text/plain": [
       "'\\nTakes a list of bigrams and a percentage between 0 and 1. Returns a dictionary whose keys are bigrams and whose values\\nare the frequencies of the bigrams. The bigrams included in the dictionary are only the ones that occur in the top \\ngiven percent. For example, if the user inputs BNC_bigrams 0.3, the returned dictionary will occur the top 30% of \\nbigrams in terms of their frequencies. The BNC has 9378696 bigram occurrences, so the dictionary will contain around \\n1875739 entries.\\n'"
      ]
     },
     "execution_count": 6,
     "metadata": {},
     "output_type": "execute_result"
    }
   ],
   "source": [
    "\"\"\"\n",
    "Takes a list of bigrams and a percentage between 0 and 1. Returns a dictionary whose keys are bigrams and whose values\n",
    "are the frequencies of the bigrams. The bigrams included in the dictionary are only the ones that occur in the top \n",
    "given percent. For example, if the user inputs BNC_bigrams 0.3, the returned dictionary will occur the top 30% of \n",
    "bigrams in terms of their frequencies. The BNC has 9378696 bigram occurrences, so the dictionary will contain around \n",
    "1875739 entries.\n",
    "\"\"\"\n",
    "\n",
    "def frequent_bigrams(bigrams, percent):\n",
    "    freqs = nltk.FreqDist(bigrams)\n",
    "    most_common = freqs.most_common()\n",
    "    limit = len(bigrams) * percent\n",
    "    num_occurrences = 0\n",
    "    top_bigrams = []\n",
    "    \n",
    "    for b in freqs.most_common():\n",
    "        num_occurrences += b[1]\n",
    "        if(num_occurrences >= limit):\n",
    "            return top_bigrams\n",
    "        top_bigrams.append(b)\n",
    "    return count_dictionary"
   ]
  },
  {
   "cell_type": "code",
   "execution_count": 7,
   "metadata": {},
   "outputs": [
    {
     "data": {
      "text/plain": [
       "'\\nTakes a conversation dictionary and a list of languages. Returns a dictionary of conversations containing only \\nutterances from participants whose L1 is listed in the list of languages.\\n'"
      ]
     },
     "execution_count": 7,
     "metadata": {},
     "output_type": "execute_result"
    }
   ],
   "source": [
    "\"\"\"\n",
    "Takes a conversation dictionary and a list of languages. Returns a dictionary of conversations containing only \n",
    "utterances from participants whose L1 is listed in the list of languages.\n",
    "\"\"\"\n",
    "def speech_by_L1(conversation_dict, lang_list):\n",
    "    new_dict = {}\n",
    "    for conversation in conversation_dict.keys():\n",
    "        utterances = {}\n",
    "        \n",
    "        for pair in conversation_dict[conversation]:    \n",
    "            speaker = pair[1]\n",
    "            #print(conversation_dict[conversation][pair])\n",
    "\n",
    "            \n",
    "            #print(participants[speaker]['L1'][0])\n",
    "            if(participants[speaker]['L1'][0] in lang_list):\n",
    "                utterances[pair] = conversation_dict[conversation][pair]\n",
    "            \n",
    "\n",
    "        new_dict[conversation] = utterances    \n",
    "\n",
    "    return new_dict"
   ]
  },
  {
   "cell_type": "code",
   "execution_count": 8,
   "metadata": {},
   "outputs": [
    {
     "data": {
      "text/plain": [
       "'\\nTakes two lists, a and b, that contain bigrams and their frequencies. e.g. [((\\'it\\', \"\\'s\"), 68661),\\n ((\\'that\\', \"\\'s\"), 45150),\\n ((\\'do\\', \"n\\'t\"), 42215),] \\nReturns a list of bigrams in b that are also in a.\\n'"
      ]
     },
     "execution_count": 8,
     "metadata": {},
     "output_type": "execute_result"
    }
   ],
   "source": [
    "\"\"\"\n",
    "Takes two lists, a and b, that contain bigrams and their frequencies. e.g. [(('it', \"'s\"), 68661),\n",
    " (('that', \"'s\"), 45150),\n",
    " (('do', \"n't\"), 42215),] \n",
    "Returns a list of bigrams in b that are also in a.\n",
    "\"\"\"\n",
    "def common_bigrams(list_a, list_b):\n",
    "    common = []\n",
    "    list_a = [b[0] for b in list_a]\n",
    "    list_b = [b[0] for b in list_b]\n",
    "    \n",
    "    count = 0\n",
    "    for bigram in list_b:\n",
    "        if(bigram in list_a):\n",
    "            common.append(bigram)\n",
    "    return common"
   ]
  },
  {
   "cell_type": "code",
   "execution_count": 9,
   "metadata": {},
   "outputs": [
    {
     "data": {
      "text/plain": [
       "'\\nTakes two lists, a and b, that contain bigrams and their frequencies. e.g. [((\\'it\\', \"\\'s\"), 68661),\\n ((\\'that\\', \"\\'s\"), 45150),\\n ((\\'do\\', \"n\\'t\"), 42215),] \\nReturns a list of bigrams in b that are NOT in a.\\n'"
      ]
     },
     "execution_count": 9,
     "metadata": {},
     "output_type": "execute_result"
    }
   ],
   "source": [
    "\"\"\"\n",
    "Takes two lists, a and b, that contain bigrams and their frequencies. e.g. [(('it', \"'s\"), 68661),\n",
    " (('that', \"'s\"), 45150),\n",
    " (('do', \"n't\"), 42215),] \n",
    "Returns a list of bigrams in b that are NOT in a.\n",
    "\"\"\"\n",
    "def uncommon_bigrams(list_a, list_b):\n",
    "    list_a = [b[0] for b in list_a]\n",
    "    list_b = [b[0] for b in list_b]\n",
    "    \n",
    "    mismatches = []\n",
    "    for bigram in list_b:\n",
    "        if(bigram not in list_a):\n",
    "            mismatches.append(bigram)\n",
    "    return mismatches"
   ]
  },
  {
   "cell_type": "markdown",
   "metadata": {},
   "source": [
    "# Bigram Analysis"
   ]
  },
  {
   "cell_type": "markdown",
   "metadata": {},
   "source": [
    "## Creating sub-corpora for different language families"
   ]
  },
  {
   "cell_type": "code",
   "execution_count": 10,
   "metadata": {
    "collapsed": true
   },
   "outputs": [],
   "source": [
    "#Get the tokens for each corpus from their respective pickle files\n",
    "#Also get the dictionary containing the participant info for VOICE\n",
    "f = open('VOICE_tokenized.p', 'rb')\n",
    "VOICE_toks = pickle.load(f)\n",
    "f.close()\n",
    "\n",
    "f = open('BNC_tokenized.p', 'rb')\n",
    "BNC_toks = pickle.load(f)\n",
    "f.close()\n",
    "\n",
    "f = open('VOICE_participant_info.p', 'rb')\n",
    "participants = pickle.load(f)\n",
    "f.close()"
   ]
  },
  {
   "cell_type": "code",
   "execution_count": 11,
   "metadata": {},
   "outputs": [
    {
     "data": {
      "text/plain": [
       "'\\nCreate sub-corpora from the VOICE corpus, each of which will contain utterances from L1 speakers of German languages,\\nRomance languages, and Slavic languages\\n'"
      ]
     },
     "execution_count": 11,
     "metadata": {},
     "output_type": "execute_result"
    },
    {
     "data": {
      "text/plain": [
       "{'EDcon4_S1',\n",
       " 'EDcon4_S2',\n",
       " 'EDcon4_S3',\n",
       " 'EDcon4_S4',\n",
       " 'EDcon4_S5',\n",
       " 'EDcon4_S6',\n",
       " 'EDcon4_S7',\n",
       " 'EDcon4_S8',\n",
       " 'EDcon4_S9'}"
      ]
     },
     "execution_count": 11,
     "metadata": {},
     "output_type": "execute_result"
    },
    {
     "data": {
      "text/plain": [
       "{'EDcon4_S3', 'EDcon4_S5', 'EDcon4_S6', 'EDcon4_S7', 'EDcon4_S9'}"
      ]
     },
     "execution_count": 11,
     "metadata": {},
     "output_type": "execute_result"
    },
    {
     "data": {
      "text/plain": [
       "{'EDcon4_S2'}"
      ]
     },
     "execution_count": 11,
     "metadata": {},
     "output_type": "execute_result"
    },
    {
     "data": {
      "text/plain": [
       "{'EDcon4_S1', 'EDcon4_S4'}"
      ]
     },
     "execution_count": 11,
     "metadata": {},
     "output_type": "execute_result"
    }
   ],
   "source": [
    "\"\"\"\n",
    "Create sub-corpora from the VOICE corpus, each of which will contain utterances from L1 speakers of German languages,\n",
    "Romance languages, and Slavic languages\n",
    "\"\"\"\n",
    "lang_classifications = {'germanic': ['ger', 'dut', 'swe', 'dan', 'nor', 'ice'],\n",
    "                        'romance': ['por', 'spa', 'ita', 'fre', 'cat', 'rum'],\n",
    "                        'slavic': ['rus', 'ukr', 'pol', 'bul', 'mac', 'cze', 'bos', 'slo', 'slv']}\n",
    "\n",
    "germanic_toks = speech_by_L1(VOICE_toks, lang_classifications['germanic'])\n",
    "romance_toks = speech_by_L1(VOICE_toks, lang_classifications['romance'])\n",
    "slavic_toks = speech_by_L1(VOICE_toks, lang_classifications['slavic'])\n",
    "\n",
    "set([l[1] for l in VOICE_toks['EDcon4.xml'].keys()])\n",
    "set([l[1] for l in germanic_toks['EDcon4.xml'].keys()])\n",
    "set([l[1] for l in romance_toks['EDcon4.xml'].keys()])\n",
    "set([l[1] for l in slavic_toks['EDcon4.xml'].keys()])"
   ]
  },
  {
   "cell_type": "code",
   "execution_count": 12,
   "metadata": {},
   "outputs": [
    {
     "data": {
      "text/plain": [
       "541521"
      ]
     },
     "execution_count": 12,
     "metadata": {},
     "output_type": "execute_result"
    },
    {
     "data": {
      "text/plain": [
       "9378696"
      ]
     },
     "execution_count": 12,
     "metadata": {},
     "output_type": "execute_result"
    },
    {
     "data": {
      "text/plain": [
       "285358"
      ]
     },
     "execution_count": 12,
     "metadata": {},
     "output_type": "execute_result"
    },
    {
     "data": {
      "text/plain": [
       "81876"
      ]
     },
     "execution_count": 12,
     "metadata": {},
     "output_type": "execute_result"
    },
    {
     "data": {
      "text/plain": [
       "54702"
      ]
     },
     "execution_count": 12,
     "metadata": {},
     "output_type": "execute_result"
    }
   ],
   "source": [
    "#Get the bigrams from VOICE and BNC, in addition to the three sub-corpora\n",
    "VOICE_bigrams = get_bigrams(VOICE_toks)\n",
    "BNC_bigrams = get_bigrams(BNC_toks)\n",
    "germanic_bigrams = get_bigrams(germanic_toks)\n",
    "romance_bigrams = get_bigrams(romance_toks)\n",
    "slavic_bigrams = get_bigrams(slavic_toks)\n",
    "\n",
    "len(VOICE_bigrams)\n",
    "len(BNC_bigrams)\n",
    "len(germanic_bigrams)\n",
    "len(romance_bigrams)\n",
    "len(slavic_bigrams)"
   ]
  },
  {
   "cell_type": "code",
   "execution_count": 13,
   "metadata": {},
   "outputs": [
    {
     "data": {
      "text/plain": [
       "'\\nGet the top 20% of bigrams (in terms of frequency) from each corpora/sub-corpora. For example, BNC has 9378696\\nbigrams, so the most common bigrams will be included until the their cumulative frequencies exceed 1875739.\\n'"
      ]
     },
     "execution_count": 13,
     "metadata": {},
     "output_type": "execute_result"
    },
    {
     "data": {
      "text/plain": [
       "232"
      ]
     },
     "execution_count": 13,
     "metadata": {},
     "output_type": "execute_result"
    },
    {
     "data": {
      "text/plain": [
       "171"
      ]
     },
     "execution_count": 13,
     "metadata": {},
     "output_type": "execute_result"
    },
    {
     "data": {
      "text/plain": [
       "172"
      ]
     },
     "execution_count": 13,
     "metadata": {},
     "output_type": "execute_result"
    },
    {
     "data": {
      "text/plain": [
       "144"
      ]
     },
     "execution_count": 13,
     "metadata": {},
     "output_type": "execute_result"
    },
    {
     "data": {
      "text/plain": [
       "163"
      ]
     },
     "execution_count": 13,
     "metadata": {},
     "output_type": "execute_result"
    }
   ],
   "source": [
    "\"\"\"\n",
    "Get the top 20% of bigrams (in terms of frequency) from each corpora/sub-corpora. For example, BNC has 9378696\n",
    "bigrams, so the most common bigrams will be included until the their cumulative frequencies exceed 1875739.\n",
    "\"\"\"\n",
    "BNC_freq_bigrams = frequent_bigrams(BNC_bigrams, 0.2)\n",
    "VOICE_freq_bigrams = frequent_bigrams(VOICE_bigrams, 0.2)\n",
    "germanic_freq_bigrams = frequent_bigrams(germanic_bigrams, 0.2)\n",
    "romance_freq_bigrams = frequent_bigrams(romance_bigrams, 0.2)\n",
    "slavic_freq_bigrams = frequent_bigrams(slavic_bigrams, 0.2)\n",
    "\n",
    "len(BNC_freq_bigrams)\n",
    "len(VOICE_freq_bigrams)\n",
    "len(germanic_freq_bigrams)\n",
    "len(romance_freq_bigrams)\n",
    "len(slavic_freq_bigrams)"
   ]
  },
  {
   "cell_type": "markdown",
   "metadata": {},
   "source": [
    "## Unmodified Bigram Lists"
   ]
  },
  {
   "cell_type": "markdown",
   "metadata": {},
   "source": [
    "### Similarities between VOICE and BNC"
   ]
  },
  {
   "cell_type": "code",
   "execution_count": 14,
   "metadata": {},
   "outputs": [
    {
     "data": {
      "text/plain": [
       "\"\\nCompare VOICE and its three sub-corpora to the BNC. For each corpus, create a list that contains the corpora's \\ntop 20% bigrams only if it is also a top 20% bigram in BNC\\n\""
      ]
     },
     "execution_count": 14,
     "metadata": {},
     "output_type": "execute_result"
    },
    {
     "data": {
      "text/plain": [
       "\"\\nCompare the proportions of top bigrams that also appear in BNC's top bigrams. Germanic languages have the most\\nsimilarities with BNC, with 66.8% of its most frequent bigrams appearing in the BNC's most frequent bigrams. Romance\\nlanguages and Slavic language don't fare quite as well, with 64.8% and 61.9% respectively.\\n\""
      ]
     },
     "execution_count": 14,
     "metadata": {},
     "output_type": "execute_result"
    },
    {
     "data": {
      "text/plain": [
       "0.672514619883041"
      ]
     },
     "execution_count": 14,
     "metadata": {},
     "output_type": "execute_result"
    },
    {
     "data": {
      "text/plain": [
       "0.6686046511627907"
      ]
     },
     "execution_count": 14,
     "metadata": {},
     "output_type": "execute_result"
    },
    {
     "data": {
      "text/plain": [
       "0.6458333333333334"
      ]
     },
     "execution_count": 14,
     "metadata": {},
     "output_type": "execute_result"
    },
    {
     "data": {
      "text/plain": [
       "0.6196319018404908"
      ]
     },
     "execution_count": 14,
     "metadata": {},
     "output_type": "execute_result"
    }
   ],
   "source": [
    "\"\"\"\n",
    "Compare VOICE and its three sub-corpora to the BNC. For each corpus, create a list that contains the corpora's \n",
    "top 20% bigrams only if it is also a top 20% bigram in BNC\n",
    "\"\"\"\n",
    "VOICE_and_BNC = common_bigrams(BNC_freq_bigrams, VOICE_freq_bigrams)\n",
    "germanic_and_BNC = common_bigrams(BNC_freq_bigrams, germanic_freq_bigrams)\n",
    "romance_and_BNC = common_bigrams(BNC_freq_bigrams, romance_freq_bigrams)\n",
    "slavic_and_BNC = common_bigrams(BNC_freq_bigrams, slavic_freq_bigrams)\n",
    "\n",
    "\"\"\"\n",
    "Compare the proportions of top bigrams that also appear in BNC's top bigrams. Germanic languages have the most\n",
    "similarities with BNC, with 66.8% of its most frequent bigrams appearing in the BNC's most frequent bigrams. Romance\n",
    "languages and Slavic language don't fare quite as well, with 64.8% and 61.9% respectively.\n",
    "\"\"\"\n",
    "len(VOICE_and_BNC)/len(VOICE_freq_bigrams)\n",
    "len(germanic_and_BNC)/len(germanic_freq_bigrams)\n",
    "len(romance_and_BNC)/len(romance_freq_bigrams)\n",
    "len(slavic_and_BNC)/len(slavic_freq_bigrams)"
   ]
  },
  {
   "cell_type": "markdown",
   "metadata": {},
   "source": [
    "### Differences between VOICE and BNC\n",
    "A lot of the common bigrams that occur in VOICE and its subcorpora, but do not occur in BNC's common bigrams, seem to contain hesitations. A lot of the bigrams contain the words \"er\" and \"erm,\" in addition to repeated words, like ('i', 'i') and ('the', 'the'). This could indicate a lack of fluency among the non-native speakers that isn't nearly as prevalent among the native speakers; however, it doesn't indicate much about other linguistic features."
   ]
  },
  {
   "cell_type": "code",
   "execution_count": 15,
   "metadata": {},
   "outputs": [
    {
     "data": {
      "text/plain": [
       "\"\\nFor VOICE and each of its sub-corpora, create a list of bigrams that occur in the corpus's top 20%, but not in \\nBNC's top 20%.\\n\""
      ]
     },
     "execution_count": 15,
     "metadata": {},
     "output_type": "execute_result"
    }
   ],
   "source": [
    "\"\"\"\n",
    "For VOICE and each of its sub-corpora, create a list of bigrams that occur in the corpus's top 20%, but not in \n",
    "BNC's top 20%.\n",
    "\"\"\"\n",
    "VOICE_not_BNC = [b[0] for b in VOICE_freq_bigrams if b[0] not in VOICE_and_BNC]\n",
    "BNC_not_VOICE = [b[0] for b in BNC_freq_bigrams if b[0] not in VOICE_and_BNC]\n",
    "\n",
    "germanic_not_BNC = [b[0] for b in germanic_freq_bigrams if b[0] not in germanic_and_BNC]\n",
    "BNC_not_germanic = [b[0] for b in BNC_freq_bigrams if b[0] not in germanic_and_BNC]\n",
    "\n",
    "romance_not_BNC = [b[0] for b in romance_freq_bigrams if b[0] not in romance_and_BNC]\n",
    "BNC_not_romance = [b[0] for b in BNC_freq_bigrams if b[0] not in romance_and_BNC]\n",
    "\n",
    "slavic_not_BNC = [b[0] for b in slavic_freq_bigrams if b[0] not in slavic_and_BNC]\n",
    "BNC_not_slavic = [b[0] for b in BNC_freq_bigrams if b[0] not in slavic_and_BNC]"
   ]
  },
  {
   "cell_type": "code",
   "execution_count": 16,
   "metadata": {},
   "outputs": [
    {
     "data": {
      "text/plain": [
       "56"
      ]
     },
     "execution_count": 16,
     "metadata": {},
     "output_type": "execute_result"
    },
    {
     "data": {
      "text/plain": [
       "[('yeah', 'yeah'),\n",
       " ('er', 'er'),\n",
       " ('we', 'are'),\n",
       " ('to', 'to'),\n",
       " ('in', 'in'),\n",
       " ('[', 'first'),\n",
       " ('mhm', 'mhm'),\n",
       " ('kind', 'of'),\n",
       " ('they', 'are'),\n",
       " ('but', 'er'),\n",
       " ('er', 'we'),\n",
       " ('that', 'er'),\n",
       " ('er', 'in'),\n",
       " ('of', 'er'),\n",
       " ('yes', 'yes'),\n",
       " ('hh', 'er'),\n",
       " ('we', 'we'),\n",
       " ('is', 'not'),\n",
       " (']', '['),\n",
       " ('for', 'example'),\n",
       " ('hh', 'and'),\n",
       " ('so', 'it'),\n",
       " ('yeah', 'but'),\n",
       " ('[', 'org1'),\n",
       " ('org1', ']'),\n",
       " ('you', 'are'),\n",
       " ('er', 'it'),\n",
       " (\"'s\", 'er'),\n",
       " ('should', 'be'),\n",
       " ('so', 'we'),\n",
       " ('is', 'er'),\n",
       " ('er', '['),\n",
       " ('have', 'the'),\n",
       " ('the', '['),\n",
       " ('they', 'have'),\n",
       " ('yah', 'yah'),\n",
       " ('we', 'will'),\n",
       " ('let', \"'s\"),\n",
       " ('x', 'x'),\n",
       " (']', 'and'),\n",
       " ('and', 'this'),\n",
       " ('because', 'i'),\n",
       " ('what', 'is'),\n",
       " ('er', 'and'),\n",
       " ('then', 'we'),\n",
       " ('in', 'this'),\n",
       " ('a', 'a'),\n",
       " ('we', 'should'),\n",
       " ('[', 'org2'),\n",
       " ('org2', ']'),\n",
       " ('and', 'so'),\n",
       " ('er', 'you'),\n",
       " ('it', 'it'),\n",
       " ('to', 'er'),\n",
       " ('to', 'make'),\n",
       " ('you', 'you')]"
      ]
     },
     "execution_count": 16,
     "metadata": {},
     "output_type": "execute_result"
    }
   ],
   "source": [
    "len(VOICE_not_BNC)\n",
    "VOICE_not_BNC"
   ]
  },
  {
   "cell_type": "code",
   "execution_count": 17,
   "metadata": {},
   "outputs": [
    {
     "data": {
      "text/plain": [
       "[('yeah', 'yeah'),\n",
       " ('er', 'er'),\n",
       " ('mhm', 'mhm'),\n",
       " ('we', 'are'),\n",
       " ('[', 'first'),\n",
       " ('in', 'in'),\n",
       " ('to', 'to'),\n",
       " ('kind', 'of'),\n",
       " ('yah', 'yah'),\n",
       " ('hh', 'er'),\n",
       " ('of', 'er'),\n",
       " ('the', '['),\n",
       " ('hh', 'and'),\n",
       " ('[', 'org1'),\n",
       " ('org1', ']'),\n",
       " (\"'s\", 'er'),\n",
       " ('er', 'in'),\n",
       " ('we', 'we'),\n",
       " ('they', 'are'),\n",
       " ('have', 'the'),\n",
       " ('er', 'we'),\n",
       " ('er', '['),\n",
       " ('but', 'er'),\n",
       " (']', '['),\n",
       " ('you', 'are'),\n",
       " ('er', 'and'),\n",
       " ('should', 'be'),\n",
       " ('we', 'will'),\n",
       " ('a', 'a'),\n",
       " ('so', 'it'),\n",
       " ('er', 'it'),\n",
       " ('is', 'not'),\n",
       " ('that', 'er'),\n",
       " ('yeah', 'but'),\n",
       " ('of', 'of'),\n",
       " (']', 'and'),\n",
       " ('and', 'this'),\n",
       " ('then', 'we'),\n",
       " ('so', 'we'),\n",
       " ('for', 'example'),\n",
       " ('er', 'you'),\n",
       " ('it', 'it'),\n",
       " ('they', 'have'),\n",
       " ('you', 'you'),\n",
       " ('[', 'org2'),\n",
       " ('org2', ']'),\n",
       " ('we', 'should'),\n",
       " ('to', 'make'),\n",
       " ('then', 'you'),\n",
       " ('what', 'is'),\n",
       " ('let', \"'s\"),\n",
       " ('to', 'er'),\n",
       " ('is', 'er'),\n",
       " ('er', 'that'),\n",
       " ('and', 'erm'),\n",
       " ('but', 'that'),\n",
       " ('erm', 'er')]"
      ]
     },
     "execution_count": 17,
     "metadata": {},
     "output_type": "execute_result"
    }
   ],
   "source": [
    "germanic_not_BNC"
   ]
  },
  {
   "cell_type": "code",
   "execution_count": 18,
   "metadata": {},
   "outputs": [
    {
     "data": {
      "text/plain": [
       "[('er', 'er'),\n",
       " ('yeah', 'yeah'),\n",
       " ('to', 'to'),\n",
       " ('we', 'are'),\n",
       " ('yeah', 'but'),\n",
       " ('but', 'er'),\n",
       " ('is', 'not'),\n",
       " ('in', 'this'),\n",
       " ('er', 'in'),\n",
       " ('x', 'x'),\n",
       " ('kind', 'of'),\n",
       " ('and', 'so'),\n",
       " ('we', 'we'),\n",
       " ('of', 'er'),\n",
       " ('that', 'er'),\n",
       " ('they', 'are'),\n",
       " ('er', 'we'),\n",
       " ('[', 'first'),\n",
       " ('you', 'are'),\n",
       " ('the', 'european'),\n",
       " ('have', 'the'),\n",
       " ('for', 'example'),\n",
       " ('in', 'in'),\n",
       " ('yes', 'yes'),\n",
       " ('[', 'org1'),\n",
       " ('org1', ']'),\n",
       " ('because', 'it'),\n",
       " ('but', 'we'),\n",
       " ('er', 'a'),\n",
       " ('is', 'er'),\n",
       " ('so', 'it'),\n",
       " (']', '['),\n",
       " ('because', 'i'),\n",
       " ('we', 'need'),\n",
       " ('hh', 'er'),\n",
       " ('so', 'we'),\n",
       " ('ah', 'okay'),\n",
       " ('let', \"'s\"),\n",
       " ('could', 'be'),\n",
       " ('in', 'er'),\n",
       " ('we', 'will'),\n",
       " ('are', 'not'),\n",
       " ('what', 'is'),\n",
       " ('so', 'on'),\n",
       " ('have', 'er'),\n",
       " ('er', 'to'),\n",
       " (\"'s\", 'er'),\n",
       " ('we', 'did'),\n",
       " ('er', '['),\n",
       " ('they', 'have'),\n",
       " ('because', 'er')]"
      ]
     },
     "execution_count": 18,
     "metadata": {},
     "output_type": "execute_result"
    }
   ],
   "source": [
    "romance_not_BNC"
   ]
  },
  {
   "cell_type": "code",
   "execution_count": 19,
   "metadata": {},
   "outputs": [
    {
     "data": {
      "text/plain": [
       "[('yeah', 'yeah'),\n",
       " ('er', 'er'),\n",
       " ('we', 'are'),\n",
       " ('that', 'er'),\n",
       " ('let', \"'s\"),\n",
       " ('we', 'should'),\n",
       " ('mhm', 'mhm'),\n",
       " ('[', 'org2'),\n",
       " ('org2', ']'),\n",
       " ('because', 'i'),\n",
       " ('yeah', 'but'),\n",
       " ('kind', 'of'),\n",
       " ('er', 'we'),\n",
       " ('what', 'is'),\n",
       " ('so', 'we'),\n",
       " ('lingua', 'franca'),\n",
       " ('should', 'be'),\n",
       " ('but', 'er'),\n",
       " (']', '['),\n",
       " ('of', 'er'),\n",
       " ('[', 'first'),\n",
       " ('they', 'have'),\n",
       " ('is', 'er'),\n",
       " ('so', 'it'),\n",
       " ('it', 'will'),\n",
       " ('they', 'are'),\n",
       " (']', 'and'),\n",
       " ('er', 'in'),\n",
       " ('can', 'not'),\n",
       " ('er', 'it'),\n",
       " ('i', 'will'),\n",
       " (\"'s\", 'like'),\n",
       " ('we', 'will'),\n",
       " ('then', 'we'),\n",
       " ('is', 'not'),\n",
       " ('[', 'org1'),\n",
       " ('org1', ']'),\n",
       " ('but', 'we'),\n",
       " ('to', 'to'),\n",
       " ('you', 'are'),\n",
       " ('er', 'erm'),\n",
       " ('for', 'example'),\n",
       " ('to', 'make'),\n",
       " ('hh', 'er'),\n",
       " ('in', 'in'),\n",
       " ('[', 'org5'),\n",
       " ('org5', ']'),\n",
       " ('in', '['),\n",
       " ('the', 'agency'),\n",
       " ('because', 'it'),\n",
       " ('yes', 'yes'),\n",
       " ('okay', 'so'),\n",
       " ('er', 'this'),\n",
       " ('to', 'er'),\n",
       " ('are', 'the'),\n",
       " ('hh', 'and'),\n",
       " ('put', 'it'),\n",
       " ('at', 'least'),\n",
       " ('something', 'like'),\n",
       " ('we', 'we'),\n",
       " ('in', 'this'),\n",
       " ('so', 'er')]"
      ]
     },
     "execution_count": 19,
     "metadata": {},
     "output_type": "execute_result"
    }
   ],
   "source": [
    "slavic_not_BNC"
   ]
  },
  {
   "cell_type": "markdown",
   "metadata": {},
   "source": [
    "### Differences BNC and VOICE\n",
    "A lot the the common bigrams (almost 30%) that appear in BNC but not in VOICE are contractions. Maybe native speakers are much more confortable using them than non-native speakers are."
   ]
  },
  {
   "cell_type": "code",
   "execution_count": 20,
   "metadata": {
    "collapsed": true
   },
   "outputs": [],
   "source": [
    "#Create a list of bigrams that are found in BNC's top 20%, but not in VOICE's top 20%\n",
    "BNC_not_VOICE = [b[0] for b in BNC_freq_bigrams if b[0] not in VOICE_and_BNC]"
   ]
  },
  {
   "cell_type": "code",
   "execution_count": 21,
   "metadata": {},
   "outputs": [
    {
     "data": {
      "text/plain": [
       "[(\"'ve\", 'got'),\n",
       " ('i', \"'ve\"),\n",
       " ('he', \"'s\"),\n",
       " ('you', \"'ve\"),\n",
       " ('i', \"'ll\"),\n",
       " ('gon', 'na'),\n",
       " ('we', \"'ve\"),\n",
       " ('well', 'i'),\n",
       " ('she', \"'s\"),\n",
       " (\"n't\", 'it'),\n",
       " ('is', \"n't\"),\n",
       " ('used', 'to'),\n",
       " ('what', \"'s\"),\n",
       " ('to', 'get'),\n",
       " ('i', 'said'),\n",
       " ('a', 'bit'),\n",
       " ('to', 'go'),\n",
       " ('you', 'see'),\n",
       " ('and', 'he'),\n",
       " ('have', \"n't\"),\n",
       " ('got', 'a'),\n",
       " ('that', 'was'),\n",
       " ('one', 'of'),\n",
       " ('was', 'a'),\n",
       " ('he', 'was'),\n",
       " (\"n't\", 'you'),\n",
       " ('they', 'were'),\n",
       " ('there', 'was'),\n",
       " ('got', 'to'),\n",
       " ('i', \"'d\"),\n",
       " ('are', 'you'),\n",
       " ('that', 'i'),\n",
       " ('i', 'did'),\n",
       " ('for', 'a'),\n",
       " ('did', 'you'),\n",
       " ('would', \"n't\"),\n",
       " ('they', \"'ve\"),\n",
       " (\"'s\", 'got'),\n",
       " ('we', \"'ll\"),\n",
       " ('wo', \"n't\"),\n",
       " (\"'s\", 'right'),\n",
       " ('have', 'you'),\n",
       " ('what', 'you'),\n",
       " ('i', 'thought'),\n",
       " ('of', 'a'),\n",
       " ('out', 'of'),\n",
       " ('look', 'at'),\n",
       " ('was', \"n't\"),\n",
       " ('he', 'said'),\n",
       " ('oh', 'i'),\n",
       " (\"n't\", 'think'),\n",
       " ('had', 'a'),\n",
       " (\"'re\", 'not'),\n",
       " (\"'ll\", 'be'),\n",
       " ('if', 'i'),\n",
       " ('you', 'get'),\n",
       " ('by', 'the'),\n",
       " ('when', 'i'),\n",
       " ('of', 'them'),\n",
       " (\"'m\", 'not'),\n",
       " ('erm', 'i'),\n",
       " ('have', 'been'),\n",
       " ('that', 'they'),\n",
       " ('know', 'what'),\n",
       " (\"'s\", 'what'),\n",
       " ('and', 'a'),\n",
       " ('they', 'do'),\n",
       " ('of', 'it'),\n",
       " ('i', 'ca'),\n",
       " ('that', 'one'),\n",
       " ('hundred', 'and'),\n",
       " ('a', 'little'),\n",
       " ('you', \"'ll\"),\n",
       " ('the', 'way'),\n",
       " ('you', 'could'),\n",
       " ('on', 'a'),\n",
       " ('was', 'the'),\n",
       " ('you', 'got'),\n",
       " ('she', 'said'),\n",
       " ('had', 'to'),\n",
       " ('you', 'think'),\n",
       " ('with', 'a'),\n",
       " ('that', 'that'),\n",
       " ('could', \"n't\"),\n",
       " ('some', 'of'),\n",
       " ('to', 'say'),\n",
       " ('and', 'she'),\n",
       " ('well', 'it'),\n",
       " ('you', 'were'),\n",
       " ('oh', 'yeah'),\n",
       " (\"'ve\", 'been'),\n",
       " ('i', 'had'),\n",
       " ('like', 'to'),\n",
       " (\"'s\", 'that'),\n",
       " ('but', 'you'),\n",
       " ('it', 'would'),\n",
       " ('i', 'just'),\n",
       " (\"'s\", 'just'),\n",
       " ('it', 'in'),\n",
       " ('it', 'does'),\n",
       " ('it', 'and'),\n",
       " ('well', 'you'),\n",
       " ('if', 'it'),\n",
       " ('of', 'that'),\n",
       " ('we', 'were'),\n",
       " ('go', 'to'),\n",
       " ('can', 'you'),\n",
       " ('to', 'me'),\n",
       " (\"'ll\", 'have'),\n",
       " ('i', 'could'),\n",
       " ('to', 'see'),\n",
       " ('the', 'time'),\n",
       " ('you', \"'d\"),\n",
       " (\"n't\", 'they'),\n",
       " ('up', 'to'),\n",
       " ('if', 'they'),\n",
       " ('to', 'you')]"
      ]
     },
     "execution_count": 21,
     "metadata": {},
     "output_type": "execute_result"
    }
   ],
   "source": [
    "#Display the list.\n",
    "BNC_not_VOICE"
   ]
  },
  {
   "cell_type": "code",
   "execution_count": 22,
   "metadata": {
    "collapsed": true
   },
   "outputs": [],
   "source": [
    "contractions = [b for b in BNC_not_VOICE if \"'\" in b[0] or \"'\" in b[1]]"
   ]
  },
  {
   "cell_type": "code",
   "execution_count": 23,
   "metadata": {},
   "outputs": [
    {
     "data": {
      "text/plain": [
       "33"
      ]
     },
     "execution_count": 23,
     "metadata": {},
     "output_type": "execute_result"
    },
    {
     "data": {
      "text/plain": [
       "0.28205128205128205"
      ]
     },
     "execution_count": 23,
     "metadata": {},
     "output_type": "execute_result"
    },
    {
     "data": {
      "text/plain": [
       "[(\"'ve\", 'got'),\n",
       " ('i', \"'ve\"),\n",
       " ('he', \"'s\"),\n",
       " ('you', \"'ve\"),\n",
       " ('i', \"'ll\"),\n",
       " ('we', \"'ve\"),\n",
       " ('she', \"'s\"),\n",
       " (\"n't\", 'it'),\n",
       " ('is', \"n't\"),\n",
       " ('what', \"'s\"),\n",
       " ('have', \"n't\"),\n",
       " (\"n't\", 'you'),\n",
       " ('i', \"'d\"),\n",
       " ('would', \"n't\"),\n",
       " ('they', \"'ve\"),\n",
       " (\"'s\", 'got'),\n",
       " ('we', \"'ll\"),\n",
       " ('wo', \"n't\"),\n",
       " (\"'s\", 'right'),\n",
       " ('was', \"n't\"),\n",
       " (\"n't\", 'think'),\n",
       " (\"'re\", 'not'),\n",
       " (\"'ll\", 'be'),\n",
       " (\"'m\", 'not'),\n",
       " (\"'s\", 'what'),\n",
       " ('you', \"'ll\"),\n",
       " ('could', \"n't\"),\n",
       " (\"'ve\", 'been'),\n",
       " (\"'s\", 'that'),\n",
       " (\"'s\", 'just'),\n",
       " (\"'ll\", 'have'),\n",
       " ('you', \"'d\"),\n",
       " (\"n't\", 'they')]"
      ]
     },
     "execution_count": 23,
     "metadata": {},
     "output_type": "execute_result"
    }
   ],
   "source": [
    "#Almost 30% of the common BNC bigrams not found in the common VOICE bigrams are contractions. Is this true for the sub groups, too?\n",
    "len(contractions)\n",
    "len(contractions)/len(BNC_not_VOICE)\n",
    "contractions"
   ]
  },
  {
   "cell_type": "markdown",
   "metadata": {},
   "source": [
    "## Modified Bigram Lists\n",
    "Since the original VOICE bigram lists contain a lot of hesitations and repeated words, they are limited in what they can tell us about additional linguistic features. Here, we'll get rid of these bigrams to hopefully make some more interesting discoveries."
   ]
  },
  {
   "cell_type": "code",
   "execution_count": 24,
   "metadata": {},
   "outputs": [
    {
     "data": {
      "text/plain": [
       "\"\\nChecks whether a given bigram in valid for our purposes. A bigram is valid if it doesn't contain repeated words\\nor hesitation words\\n\""
      ]
     },
     "execution_count": 24,
     "metadata": {},
     "output_type": "execute_result"
    }
   ],
   "source": [
    "\"\"\"\n",
    "Checks whether a given bigram in valid for our purposes. A bigram is valid if it doesn't contain repeated words\n",
    "or hesitation words\n",
    "\"\"\"\n",
    "import re\n",
    "def is_valid(bigram):\n",
    "    if bigram[0] == bigram[1] :\n",
    "        return False\n",
    "    \n",
    "    if bigram[0] == 'er' or bigram[1] == 'er' :\n",
    "        return False\n",
    "    \n",
    "    if bigram[0] == 'erm' or bigram[1] == 'erm' :\n",
    "        return False\n",
    "    \n",
    "   # return True\n",
    "    \n",
    "    \n",
    "    p = re.compile('h+')\n",
    "    if p.match(bigram[0]) or p.match(bigram[1]):\n",
    "        return False\n",
    "    \n",
    "    p = re.compile('x+')\n",
    "    if p.match(bigram[0]) or p.match(bigram[1]):\n",
    "        return False\n",
    "    \n",
    "    if(not bigram[0][0].isalpha() or not bigram[1][0].isalpha()):\n",
    "        return False\n",
    "    \n",
    "\n",
    "    return True\n"
   ]
  },
  {
   "cell_type": "code",
   "execution_count": 25,
   "metadata": {
    "collapsed": true
   },
   "outputs": [],
   "source": [
    "#Remake the bigrams lists such that they only include valid bigrams\n",
    "BNC_bigrams = [b for b in BNC_bigrams if is_valid(b) == True]\n",
    "VOICE_bigrams = [b for b in VOICE_bigrams if is_valid(b) == True]\n",
    "germanic_bigrams = [b for b in germanic_bigrams if is_valid(b) == True]\n",
    "romance_bigrams = [b for b in romance_bigrams if is_valid(b) == True]\n",
    "slavic_bigrams = [b for b in slavic_bigrams if is_valid(b) == True]"
   ]
  },
  {
   "cell_type": "markdown",
   "metadata": {
    "collapsed": true
   },
   "source": [
    "### Similarities between VOICE and BNC\n",
    "More of the most frequent bigrams that occur in VOICE and the subcorpora also occur in BNC's most common bigrams than\n",
    "with the unmodified bigrams. Like in the previous case, speakers of Germanic L1s had the most in common with the native\n",
    "speakers in the BNC, and speakers of Slavic L1s had the least in common."
   ]
  },
  {
   "cell_type": "code",
   "execution_count": 26,
   "metadata": {
    "collapsed": true
   },
   "outputs": [],
   "source": [
    "#For each corpus/subcorpus, get the top 20% of bigrams, in terms of frequency.\n",
    "BNC_freq_bigrams = frequent_bigrams(BNC_bigrams, 0.2)\n",
    "VOICE_freq_bigrams = frequent_bigrams(VOICE_bigrams, 0.2)\n",
    "germanic_freq_bigrams = frequent_bigrams(germanic_bigrams, 0.2)\n",
    "romance_freq_bigrams = frequent_bigrams(romance_bigrams, 0.2)\n",
    "slavic_freq_bigrams = frequent_bigrams(slavic_bigrams, 0.2)"
   ]
  },
  {
   "cell_type": "code",
   "execution_count": 27,
   "metadata": {},
   "outputs": [
    {
     "data": {
      "text/plain": [
       "\"\\nFor VOICE and each of its sub-corpora, create lists containing all of the top bigrams that occur in the corpus that \\nalso occur in BNC's top bigrams.\\n\""
      ]
     },
     "execution_count": 27,
     "metadata": {},
     "output_type": "execute_result"
    }
   ],
   "source": [
    "\"\"\"\n",
    "For VOICE and each of its sub-corpora, create lists containing all of the top bigrams that occur in the corpus that \n",
    "also occur in BNC's top bigrams.\n",
    "\"\"\"\n",
    "VOICE_and_BNC = common_bigrams(BNC_freq_bigrams, VOICE_freq_bigrams)\n",
    "germanic_and_BNC = common_bigrams(BNC_freq_bigrams, germanic_freq_bigrams)\n",
    "romance_and_BNC = common_bigrams(BNC_freq_bigrams, romance_freq_bigrams)\n",
    "slavic_and_BNC = common_bigrams(BNC_freq_bigrams, slavic_freq_bigrams)"
   ]
  },
  {
   "cell_type": "code",
   "execution_count": 28,
   "metadata": {},
   "outputs": [
    {
     "data": {
      "text/plain": [
       "0.7747252747252747"
      ]
     },
     "execution_count": 28,
     "metadata": {},
     "output_type": "execute_result"
    },
    {
     "data": {
      "text/plain": [
       "0.7807486631016043"
      ]
     },
     "execution_count": 28,
     "metadata": {},
     "output_type": "execute_result"
    },
    {
     "data": {
      "text/plain": [
       "0.7615894039735099"
      ]
     },
     "execution_count": 28,
     "metadata": {},
     "output_type": "execute_result"
    },
    {
     "data": {
      "text/plain": [
       "0.7295597484276729"
      ]
     },
     "execution_count": 28,
     "metadata": {},
     "output_type": "execute_result"
    }
   ],
   "source": [
    "len(VOICE_and_BNC)/len(VOICE_freq_bigrams)\n",
    "len(germanic_and_BNC)/len(germanic_freq_bigrams)\n",
    "len(romance_and_BNC)/len(romance_freq_bigrams)\n",
    "len(slavic_and_BNC)/len(slavic_freq_bigrams)"
   ]
  },
  {
   "cell_type": "code",
   "execution_count": 29,
   "metadata": {},
   "outputs": [
    {
     "data": {
      "text/plain": [
       "[(('i', 'think'), 1166),\n",
       " (('do', \"n't\"), 1093),\n",
       " (('in', 'the'), 1019),\n",
       " (('of', 'the'), 926),\n",
       " (('i', 'mean'), 719),\n",
       " (('you', 'know'), 699),\n",
       " (('this', 'is'), 681),\n",
       " (('and', 'then'), 651),\n",
       " (('if', 'you'), 632),\n",
       " (('i', 'do'), 561),\n",
       " (('on', 'the'), 555),\n",
       " (('you', 'can'), 550),\n",
       " (('to', 'the'), 538),\n",
       " (('do', 'you'), 423),\n",
       " (('for', 'the'), 422),\n",
       " (('and', 'i'), 422),\n",
       " (('to', 'be'), 415),\n",
       " (('we', 'can'), 404),\n",
       " (('but', 'i'), 400),\n",
       " (('it', 'was'), 396),\n",
       " (('that', 'we'), 391),\n",
       " (('we', 'are'), 386),\n",
       " (('and', 'the'), 385),\n",
       " (('of', 'course'), 383),\n",
       " ((\"n't\", 'know'), 381),\n",
       " (('it', 'is'), 347),\n",
       " (('want', 'to'), 342),\n",
       " (('sort', 'of'), 342),\n",
       " (('at', 'the'), 340),\n",
       " (('and', 'you'), 312),\n",
       " (('the', 'same'), 311),\n",
       " (('with', 'the'), 308),\n",
       " (('is', 'the'), 306),\n",
       " (('kind', 'of'), 296),\n",
       " (('as', 'well'), 296),\n",
       " (('in', 'a'), 294),\n",
       " (('a', 'lot'), 284),\n",
       " (('is', 'a'), 283),\n",
       " (('but', 'it'), 281),\n",
       " (('would', 'be'), 279),\n",
       " (('and', 'we'), 276),\n",
       " (('you', 'do'), 272),\n",
       " (('is', 'that'), 271),\n",
       " (('there', 'is'), 268),\n",
       " (('and', 'that'), 266),\n",
       " (('that', 'you'), 260),\n",
       " (('thank', 'you'), 258),\n",
       " (('all', 'the'), 251),\n",
       " (('will', 'be'), 251),\n",
       " (('to', 'do'), 250),\n",
       " (('we', 'do'), 238),\n",
       " (('so', 'i'), 237),\n",
       " (('and', 'it'), 234),\n",
       " (('they', 'are'), 232),\n",
       " (('going', 'to'), 229),\n",
       " (('think', 'that'), 218),\n",
       " (('lot', 'of'), 216),\n",
       " (('so', 'that'), 216),\n",
       " (('yeah', 'i'), 214),\n",
       " (('be', 'a'), 213),\n",
       " (('so', 'you'), 210),\n",
       " (('did', \"n't\"), 210),\n",
       " (('think', 'it'), 210),\n",
       " (('you', 'are'), 209),\n",
       " (('what', 'we'), 206),\n",
       " (('should', 'be'), 205),\n",
       " (('we', 'will'), 204),\n",
       " (('which', 'is'), 204),\n",
       " (('so', 'it'), 203),\n",
       " (('a', 'good'), 202),\n",
       " (('from', 'the'), 202),\n",
       " (('is', 'not'), 202),\n",
       " (('is', 'it'), 200),\n",
       " (('i', 'would'), 198),\n",
       " (('yeah', 'but'), 198),\n",
       " (('i', 'know'), 194),\n",
       " (('and', 'this'), 191),\n",
       " (('as', 'a'), 189),\n",
       " (('what', 'i'), 188),\n",
       " (('then', 'we'), 187),\n",
       " (('the', 'other'), 186),\n",
       " (('you', 'want'), 183),\n",
       " (('so', 'we'), 183),\n",
       " (('for', 'example'), 180),\n",
       " (('ca', \"n't\"), 177),\n",
       " (('gon', 'na'), 176),\n",
       " (('and', 'they'), 175),\n",
       " (('i', 'can'), 175),\n",
       " (('a', 'very'), 175),\n",
       " (('when', 'you'), 168),\n",
       " (('to', 'get'), 167),\n",
       " (('we', 'should'), 166),\n",
       " (('the', 'first'), 166),\n",
       " (('there', 'are'), 165),\n",
       " (('to', 'make'), 165),\n",
       " (('then', 'you'), 165),\n",
       " (('about', 'the'), 164),\n",
       " (('a', 'little'), 164),\n",
       " (('what', 'is'), 164),\n",
       " (('that', 'the'), 159),\n",
       " (('but', 'you'), 159),\n",
       " (('that', 'it'), 156),\n",
       " (('that', 'is'), 154),\n",
       " (('do', 'it'), 153),\n",
       " (('but', 'that'), 150),\n",
       " (('if', 'we'), 149),\n",
       " (('and', 'so'), 149),\n",
       " (('part', 'of'), 149),\n",
       " (('think', 'we'), 148),\n",
       " (('that', 'was'), 146),\n",
       " (('in', 'this'), 146),\n",
       " (('try', 'to'), 145),\n",
       " (('like', 'that'), 145),\n",
       " (('i', 'was'), 143),\n",
       " (('need', 'to'), 142),\n",
       " (('like', 'to'), 142),\n",
       " (('you', 'think'), 141),\n",
       " (('i', 'just'), 140),\n",
       " (('what', 'you'), 139),\n",
       " (('because', 'i'), 139),\n",
       " (('to', 'go'), 137),\n",
       " (('i', 'will'), 137),\n",
       " (('does', \"n't\"), 135),\n",
       " (('that', 'i'), 135),\n",
       " (('because', 'it'), 134),\n",
       " (('did', 'you'), 132),\n",
       " (('go', 'to'), 130),\n",
       " (('at', 'least'), 130),\n",
       " (('to', 'say'), 129),\n",
       " (('yeah', 'that'), 129),\n",
       " (('little', 'bit'), 129),\n",
       " (('yeah', 'and'), 127),\n",
       " (('then', 'i'), 127),\n",
       " (('because', 'we'), 125),\n",
       " (('yeah', 'it'), 124),\n",
       " (('one', 'of'), 123),\n",
       " (('but', 'we'), 121),\n",
       " (('could', 'be'), 121),\n",
       " (('are', 'you'), 118),\n",
       " (('you', 'will'), 116),\n",
       " (('for', 'a'), 116),\n",
       " (('in', 'that'), 115),\n",
       " (('was', 'a'), 115),\n",
       " (('out', 'of'), 114),\n",
       " (('they', 'do'), 113),\n",
       " (('no', 'i'), 113),\n",
       " (('something', 'like'), 113),\n",
       " (('of', 'a'), 112),\n",
       " (('or', 'something'), 112),\n",
       " (('per', 'cent'), 112),\n",
       " (('it', 'and'), 111),\n",
       " (('know', 'that'), 110),\n",
       " (('but', 'the'), 110),\n",
       " (('do', 'we'), 109),\n",
       " (('we', 'need'), 109),\n",
       " (('with', 'a'), 109),\n",
       " (('are', 'not'), 109),\n",
       " (('that', 'they'), 107),\n",
       " (('i', 'did'), 107),\n",
       " (('yeah', 'we'), 106),\n",
       " (('it', 'will'), 106),\n",
       " (('a', 'bit'), 105),\n",
       " (('for', 'you'), 105),\n",
       " (('was', 'the'), 105),\n",
       " (('well', 'i'), 105),\n",
       " (('it', 'in'), 105),\n",
       " (('i', 'guess'), 104),\n",
       " (('of', 'this'), 103),\n",
       " (('the', 'whole'), 102),\n",
       " (('what', 'do'), 102),\n",
       " (('no', 'it'), 101),\n",
       " (('the', 'way'), 101),\n",
       " (('not', 'a'), 101),\n",
       " (('be', 'the'), 101),\n",
       " (('we', 'could'), 101),\n",
       " (('all', 'right'), 100),\n",
       " (('very', 'much'), 100),\n",
       " (('if', 'i'), 98),\n",
       " (('to', 'you'), 98),\n",
       " (('the', 'end'), 98),\n",
       " (('the', 'next'), 97),\n",
       " (('when', 'we'), 97),\n",
       " (('i', 'see'), 97),\n",
       " (('if', 'it'), 96),\n",
       " (('okay', 'so'), 96),\n",
       " (('and', 'what'), 95),\n",
       " (('can', 'you'), 95)]"
      ]
     },
     "execution_count": 29,
     "metadata": {},
     "output_type": "execute_result"
    }
   ],
   "source": [
    "germanic_freq_bigrams"
   ]
  },
  {
   "cell_type": "code",
   "execution_count": 30,
   "metadata": {},
   "outputs": [
    {
     "data": {
      "text/plain": [
       "[(('do', \"n't\"), 438),\n",
       " (('in', 'the'), 380),\n",
       " (('i', 'think'), 366),\n",
       " (('of', 'the'), 297),\n",
       " (('you', 'know'), 287),\n",
       " (('this', 'is'), 243),\n",
       " (('i', 'do'), 241),\n",
       " ((\"n't\", 'know'), 162),\n",
       " (('it', 'was'), 150),\n",
       " (('to', 'be'), 150),\n",
       " (('to', 'the'), 149),\n",
       " (('we', 'are'), 148),\n",
       " (('if', 'you'), 148),\n",
       " (('and', 'then'), 147),\n",
       " (('on', 'the'), 141),\n",
       " (('it', 'is'), 138),\n",
       " (('and', 'i'), 138),\n",
       " (('we', 'can'), 137),\n",
       " (('i', 'mean'), 134),\n",
       " (('but', 'i'), 133),\n",
       " (('the', 'same'), 126),\n",
       " (('you', 'can'), 120),\n",
       " (('that', 'we'), 116),\n",
       " (('all', 'the'), 112),\n",
       " (('is', 'the'), 110),\n",
       " (('and', 'the'), 107),\n",
       " (('is', 'a'), 107),\n",
       " (('yeah', 'but'), 106),\n",
       " (('think', 'that'), 106),\n",
       " (('for', 'the'), 104),\n",
       " (('is', 'not'), 102),\n",
       " (('in', 'this'), 100),\n",
       " (('at', 'the'), 99),\n",
       " (('did', \"n't\"), 97),\n",
       " (('to', 'do'), 97),\n",
       " (('but', 'it'), 96),\n",
       " (('there', 'is'), 93),\n",
       " (('kind', 'of'), 92),\n",
       " (('with', 'the'), 91),\n",
       " (('and', 'so'), 91),\n",
       " (('will', 'be'), 88),\n",
       " (('do', 'you'), 87),\n",
       " (('from', 'the'), 86),\n",
       " (('they', 'are'), 84),\n",
       " (('of', 'course'), 83),\n",
       " (('need', 'to'), 83),\n",
       " (('a', 'lot'), 82),\n",
       " (('you', 'do'), 81),\n",
       " (('and', 'we'), 81),\n",
       " (('we', 'do'), 81),\n",
       " (('so', 'i'), 80),\n",
       " (('want', 'to'), 75),\n",
       " (('thank', 'you'), 75),\n",
       " (('no', 'i'), 74),\n",
       " (('think', 'it'), 74),\n",
       " (('that', 'you'), 72),\n",
       " (('and', 'it'), 72),\n",
       " (('you', 'are'), 71),\n",
       " (('i', 'know'), 70),\n",
       " (('in', 'a'), 70),\n",
       " (('the', 'european'), 70),\n",
       " (('what', 'we'), 69),\n",
       " (('yeah', 'i'), 67),\n",
       " (('for', 'example'), 67),\n",
       " (('that', 'is'), 65),\n",
       " (('if', 'we'), 65),\n",
       " (('because', 'it'), 63),\n",
       " (('i', 'was'), 62),\n",
       " (('but', 'we'), 62),\n",
       " (('so', 'it'), 61),\n",
       " (('because', 'i'), 60),\n",
       " (('we', 'need'), 60),\n",
       " (('ca', \"n't\"), 60),\n",
       " (('the', 'other'), 59),\n",
       " (('and', 'you'), 59),\n",
       " (('so', 'we'), 59),\n",
       " (('as', 'well'), 59),\n",
       " (('ah', 'okay'), 57),\n",
       " (('could', 'be'), 57),\n",
       " (('to', 'go'), 57),\n",
       " (('we', 'will'), 56),\n",
       " (('are', 'not'), 56),\n",
       " (('what', 'is'), 55),\n",
       " (('so', 'on'), 55),\n",
       " (('about', 'the'), 55),\n",
       " (('gon', 'na'), 54),\n",
       " (('there', 'are'), 54),\n",
       " (('is', 'that'), 53),\n",
       " (('like', 'that'), 52),\n",
       " (('we', 'did'), 52),\n",
       " (('to', 'say'), 52),\n",
       " (('is', 'it'), 51),\n",
       " (('i', 'can'), 51),\n",
       " (('i', 'did'), 51),\n",
       " (('that', 'the'), 51),\n",
       " (('they', 'do'), 50),\n",
       " (('the', 'first'), 50),\n",
       " (('then', 'we'), 50),\n",
       " (('which', 'is'), 50),\n",
       " (('lot', 'of'), 49),\n",
       " (('to', 'make'), 48),\n",
       " (('would', 'be'), 48),\n",
       " (('they', 'were'), 48),\n",
       " (('like', 'to'), 47),\n",
       " (('do', 'it'), 47),\n",
       " (('a', 'little'), 47),\n",
       " (('that', 'i'), 47),\n",
       " (('not', 'the'), 46),\n",
       " (('does', \"n't\"), 46),\n",
       " (('yeah', 'it'), 46),\n",
       " (('that', 'it'), 46),\n",
       " (('i', 'would'), 46),\n",
       " (('what', 'i'), 45),\n",
       " (('going', 'to'), 45),\n",
       " (('and', 'they'), 45),\n",
       " (('and', 'this'), 45),\n",
       " (('try', 'to'), 45),\n",
       " (('i', 'will'), 44),\n",
       " (('and', 'that'), 44),\n",
       " (('the', 'youth'), 44),\n",
       " (('because', 'we'), 42),\n",
       " (('i', 'like'), 41),\n",
       " (('but', 'you'), 41),\n",
       " (('okay', 'i'), 41),\n",
       " (('you', 'want'), 41),\n",
       " (('at', 'least'), 41),\n",
       " (('to', 'know'), 41),\n",
       " (('in', 'my'), 41),\n",
       " (('in', 'our'), 41),\n",
       " (('but', 'the'), 41),\n",
       " (('so', 'you'), 40),\n",
       " (('are', 'you'), 39),\n",
       " (('not', 'so'), 39),\n",
       " (('when', 'you'), 38),\n",
       " (('we', 'were'), 38),\n",
       " (('because', 'they'), 37),\n",
       " (('yeah', 'that'), 37),\n",
       " (('for', 'me'), 37),\n",
       " (('the', 'university'), 37),\n",
       " (('should', 'be'), 37),\n",
       " (('we', 'should'), 37),\n",
       " (('can', 'you'), 37),\n",
       " (('know', 'i'), 36),\n",
       " (('for', 'a'), 36),\n",
       " (('like', 'this'), 36),\n",
       " (('then', 'you'), 36),\n",
       " (('youth', 'pact'), 36),\n",
       " (('i', 'am'), 35),\n",
       " (('be', 'a'), 35),\n",
       " (('so', 'that'), 35),\n",
       " (('go', 'to'), 35)]"
      ]
     },
     "execution_count": 30,
     "metadata": {},
     "output_type": "execute_result"
    }
   ],
   "source": [
    "romance_freq_bigrams"
   ]
  },
  {
   "cell_type": "code",
   "execution_count": 31,
   "metadata": {},
   "outputs": [
    {
     "data": {
      "text/plain": [
       "[(('do', \"n't\"), 248),\n",
       " (('i', 'think'), 235),\n",
       " (('of', 'the'), 189),\n",
       " (('this', 'is'), 187),\n",
       " (('i', 'mean'), 176),\n",
       " (('in', 'the'), 164),\n",
       " (('i', 'do'), 149),\n",
       " (('on', 'the'), 122),\n",
       " (('you', 'know'), 116),\n",
       " (('and', 'then'), 112),\n",
       " (('we', 'can'), 111),\n",
       " (('think', 'that'), 108),\n",
       " (('it', 'was'), 108),\n",
       " (('is', 'the'), 107),\n",
       " (('will', 'be'), 104),\n",
       " (('with', 'the'), 101),\n",
       " (('it', 'is'), 95),\n",
       " (('we', 'are'), 92),\n",
       " (('and', 'i'), 91),\n",
       " (('for', 'the'), 91),\n",
       " ((\"n't\", 'know'), 87),\n",
       " (('that', 'we'), 84),\n",
       " (('if', 'you'), 83),\n",
       " (('do', 'you'), 77),\n",
       " (('the', 'same'), 76),\n",
       " (('you', 'can'), 74),\n",
       " (('to', 'be'), 73),\n",
       " (('at', 'the'), 73),\n",
       " (('but', 'it'), 71),\n",
       " (('there', 'is'), 71),\n",
       " (('about', 'the'), 67),\n",
       " (('we', 'should'), 66),\n",
       " (('and', 'the'), 65),\n",
       " (('so', 'i'), 65),\n",
       " (('but', 'i'), 64),\n",
       " (('i', 'would'), 64),\n",
       " (('going', 'to'), 63),\n",
       " (('i', 'can'), 62),\n",
       " (('is', 'a'), 62),\n",
       " (('and', 'we'), 60),\n",
       " (('of', 'course'), 59),\n",
       " (('because', 'i'), 58),\n",
       " (('yeah', 'i'), 58),\n",
       " (('to', 'the'), 57),\n",
       " (('yeah', 'but'), 56),\n",
       " (('thank', 'you'), 55),\n",
       " (('kind', 'of'), 55),\n",
       " (('what', 'is'), 54),\n",
       " (('so', 'we'), 54),\n",
       " (('lingua', 'franca'), 54),\n",
       " (('should', 'be'), 54),\n",
       " (('from', 'the'), 53),\n",
       " (('and', 'it'), 52),\n",
       " (('want', 'to'), 51),\n",
       " (('which', 'is'), 50),\n",
       " (('i', 'was'), 49),\n",
       " (('that', 'it'), 49),\n",
       " (('is', 'it'), 47),\n",
       " (('so', 'it'), 47),\n",
       " (('it', 'will'), 47),\n",
       " (('they', 'are'), 46),\n",
       " (('to', 'do'), 46),\n",
       " (('we', 'do'), 46),\n",
       " (('did', \"n't\"), 44),\n",
       " (('is', 'that'), 44),\n",
       " (('as', 'a'), 44),\n",
       " (('can', 'not'), 44),\n",
       " (('i', 'will'), 42),\n",
       " (('we', 'will'), 42),\n",
       " (('then', 'we'), 42),\n",
       " (('and', 'they'), 41),\n",
       " (('is', 'not'), 41),\n",
       " (('but', 'we'), 40),\n",
       " (('if', 'we'), 40),\n",
       " (('you', 'do'), 39),\n",
       " (('so', 'that'), 39),\n",
       " (('that', 'i'), 38),\n",
       " (('and', 'that'), 38),\n",
       " (('you', 'are'), 38),\n",
       " (('i', 'just'), 38),\n",
       " (('all', 'the'), 38),\n",
       " (('for', 'example'), 38),\n",
       " (('to', 'make'), 37),\n",
       " (('that', 'the'), 36),\n",
       " (('and', 'you'), 36),\n",
       " (('would', 'be'), 36),\n",
       " (('the', 'agency'), 36),\n",
       " (('like', 'that'), 35),\n",
       " (('what', 'i'), 35),\n",
       " (('the', 'other'), 35),\n",
       " (('because', 'it'), 35),\n",
       " (('the', 'first'), 34),\n",
       " (('okay', 'so'), 34),\n",
       " (('that', 'you'), 33),\n",
       " (('are', 'the'), 33),\n",
       " (('to', 'say'), 32),\n",
       " (('think', 'it'), 32),\n",
       " (('i', 'know'), 31),\n",
       " (('as', 'well'), 31),\n",
       " (('does', \"n't\"), 31),\n",
       " (('ca', \"n't\"), 31),\n",
       " (('if', 'i'), 31),\n",
       " (('that', 'is'), 31),\n",
       " (('put', 'it'), 31),\n",
       " (('at', 'least'), 31),\n",
       " (('no', 'i'), 30),\n",
       " (('something', 'like'), 30),\n",
       " (('in', 'this'), 30),\n",
       " (('what', 'we'), 29),\n",
       " (('in', 'our'), 29),\n",
       " (('was', 'like'), 28),\n",
       " (('a', 'lot'), 28),\n",
       " (('there', 'are'), 28),\n",
       " (('they', 'will'), 28),\n",
       " (('there', 'was'), 28),\n",
       " (('and', 'this'), 28),\n",
       " (('in', 'a'), 27),\n",
       " (('the', 'european'), 27),\n",
       " (('do', 'it'), 26),\n",
       " (('are', 'you'), 26),\n",
       " (('like', 'a'), 26),\n",
       " (('what', 'are'), 26),\n",
       " (('are', 'not'), 26),\n",
       " (('of', 'a'), 26),\n",
       " (('can', 'be'), 26),\n",
       " (('i', 'did'), 25),\n",
       " (('yeah', 'it'), 25),\n",
       " (('it', 'in'), 25),\n",
       " (('need', 'to'), 25),\n",
       " (('all', 'right'), 25),\n",
       " (('the', 'best'), 25),\n",
       " (('but', 'the'), 25),\n",
       " (('i', 'am'), 24),\n",
       " (('but', 'you'), 24),\n",
       " (('because', 'we'), 24),\n",
       " (('and', 'what'), 24),\n",
       " (('we', 'need'), 24),\n",
       " (('like', 'to'), 24),\n",
       " (('in', 'fact'), 24),\n",
       " (('then', 'i'), 24),\n",
       " (('was', 'the'), 23),\n",
       " (('know', 'that'), 23),\n",
       " (('yeah', 'and'), 23),\n",
       " (('for', 'me'), 23),\n",
       " (('you', 'want'), 23),\n",
       " (('or', 'something'), 23),\n",
       " (('you', 'think'), 23),\n",
       " (('that', 'this'), 23),\n",
       " (('one', 'of'), 23),\n",
       " (('the', 'project'), 23),\n",
       " (('say', 'that'), 23),\n",
       " (('so', 'this'), 23),\n",
       " (('so', 'you'), 23),\n",
       " (('trying', 'to'), 22),\n",
       " (('know', 'what'), 22),\n",
       " (('go', 'to'), 22),\n",
       " (('should', 'we'), 22),\n",
       " (('try', 'to'), 22),\n",
       " (('think', 'about'), 22)]"
      ]
     },
     "execution_count": 31,
     "metadata": {},
     "output_type": "execute_result"
    }
   ],
   "source": [
    "slavic_freq_bigrams"
   ]
  },
  {
   "cell_type": "markdown",
   "metadata": {},
   "source": [
    "## Differences between VOICE and BNC"
   ]
  },
  {
   "cell_type": "code",
   "execution_count": 32,
   "metadata": {
    "collapsed": true
   },
   "outputs": [],
   "source": [
    "VOICE_not_BNC = [b[0] for b in VOICE_freq_bigrams if b[0] not in VOICE_and_BNC]\n",
    "BNC_not_VOICE = BNC_not_VOICE = [b[0] for b in BNC_freq_bigrams if b[0] not in VOICE_and_BNC]"
   ]
  },
  {
   "cell_type": "code",
   "execution_count": 33,
   "metadata": {},
   "outputs": [
    {
     "data": {
      "text/plain": [
       "[('is', 'not'),\n",
       " ('for', 'example'),\n",
       " ('we', 'will'),\n",
       " ('and', 'this'),\n",
       " ('what', 'is'),\n",
       " ('then', 'we'),\n",
       " ('we', 'should'),\n",
       " ('but', 'we'),\n",
       " ('because', 'it'),\n",
       " ('i', 'will'),\n",
       " ('part', 'of'),\n",
       " ('at', 'least'),\n",
       " ('because', 'we'),\n",
       " ('could', 'be'),\n",
       " ('are', 'not'),\n",
       " ('yeah', 'it'),\n",
       " ('try', 'to'),\n",
       " ('something', 'like'),\n",
       " ('we', 'need'),\n",
       " ('yeah', 'that'),\n",
       " ('per', 'cent'),\n",
       " ('are', 'the'),\n",
       " ('it', 'will'),\n",
       " ('i', 'see'),\n",
       " ('think', 'we'),\n",
       " ('can', 'be'),\n",
       " ('all', 'right'),\n",
       " ('yeah', 'and'),\n",
       " ('but', 'that'),\n",
       " ('then', 'i'),\n",
       " ('the', 'european'),\n",
       " ('little', 'bit'),\n",
       " ('in', 'our'),\n",
       " ('can', 'not'),\n",
       " ('not', 'the'),\n",
       " ('you', 'will'),\n",
       " ('the', 'university'),\n",
       " ('for', 'me'),\n",
       " ('like', 'this'),\n",
       " ('very', 'good'),\n",
       " ('say', 'that')]"
      ]
     },
     "execution_count": 33,
     "metadata": {},
     "output_type": "execute_result"
    }
   ],
   "source": [
    "VOICE_not_BNC"
   ]
  },
  {
   "cell_type": "code",
   "execution_count": 34,
   "metadata": {},
   "outputs": [
    {
     "data": {
      "text/plain": [
       "[(\"n't\", 'it'),\n",
       " ('is', \"n't\"),\n",
       " ('used', 'to'),\n",
       " ('i', 'said'),\n",
       " ('a', 'bit'),\n",
       " ('you', 'see'),\n",
       " ('got', 'a'),\n",
       " (\"n't\", 'you'),\n",
       " ('they', 'were'),\n",
       " ('there', 'was'),\n",
       " ('got', 'to'),\n",
       " ('would', \"n't\"),\n",
       " ('wo', \"n't\"),\n",
       " ('i', 'thought'),\n",
       " ('out', 'of'),\n",
       " ('look', 'at'),\n",
       " ('was', \"n't\"),\n",
       " ('oh', 'i'),\n",
       " (\"n't\", 'think'),\n",
       " ('you', 'get'),\n",
       " ('when', 'i'),\n",
       " ('of', 'them'),\n",
       " ('know', 'what'),\n",
       " ('and', 'a'),\n",
       " ('of', 'it'),\n",
       " ('i', 'ca'),\n",
       " ('that', 'one'),\n",
       " ('the', 'way'),\n",
       " ('you', 'could'),\n",
       " ('on', 'a'),\n",
       " ('you', 'got'),\n",
       " ('she', 'said'),\n",
       " ('could', \"n't\"),\n",
       " ('some', 'of'),\n",
       " ('and', 'she'),\n",
       " ('well', 'it'),\n",
       " ('you', 'were'),\n",
       " ('oh', 'yeah'),\n",
       " ('it', 'does'),\n",
       " ('it', 'and'),\n",
       " ('well', 'you'),\n",
       " ('of', 'that'),\n",
       " ('we', 'were'),\n",
       " ('can', 'you'),\n",
       " ('to', 'me'),\n",
       " ('i', 'could'),\n",
       " ('to', 'see'),\n",
       " ('the', 'time'),\n",
       " (\"n't\", 'they'),\n",
       " ('up', 'to'),\n",
       " ('if', 'they'),\n",
       " ('to', 'you'),\n",
       " ('in', 'that'),\n",
       " ('cos', 'i'),\n",
       " (\"n't\", 'want'),\n",
       " ('got', 'ta'),\n",
       " ('about', 'it'),\n",
       " ('in', 'there'),\n",
       " ('do', 'that'),\n",
       " ('able', 'to'),\n",
       " ('got', 'the'),\n",
       " ('oh', 'yes'),\n",
       " ('into', 'the'),\n",
       " ('you', 'ca'),\n",
       " ('get', 'a'),\n",
       " ('and', 'there'),\n",
       " ('well', 'that'),\n",
       " ('know', 'i'),\n",
       " ('are', \"n't\"),\n",
       " ('i', 'want'),\n",
       " ('she', 'was'),\n",
       " ('as', 'i'),\n",
       " (\"n't\", 'be'),\n",
       " ('can', 'i'),\n",
       " ('the', 'one'),\n",
       " ('mean', 'i'),\n",
       " ('at', 'all'),\n",
       " ('i', 'got'),\n",
       " (\"n't\", 'get'),\n",
       " ('you', 'go'),\n",
       " ('in', 'fact'),\n",
       " ('back', 'to'),\n",
       " ('bit', 'of'),\n",
       " ('on', 'that'),\n",
       " (\"n't\", 'got'),\n",
       " ('go', 'and'),\n",
       " ('was', 'it'),\n",
       " ('think', 'i'),\n",
       " ('to', 'a'),\n",
       " ('over', 'the'),\n",
       " ('trying', 'to'),\n",
       " ('what', 'they'),\n",
       " ('come', 'on'),\n",
       " ('to', 'take'),\n",
       " ('but', 'they'),\n",
       " ('to', 'come'),\n",
       " ('up', 'and'),\n",
       " ('go', 'on'),\n",
       " ('get', 'the'),\n",
       " ('what', 'do'),\n",
       " ('put', 'it'),\n",
       " ('the', 'last'),\n",
       " ('were', \"n't\"),\n",
       " ('would', 'you')]"
      ]
     },
     "execution_count": 34,
     "metadata": {},
     "output_type": "execute_result"
    }
   ],
   "source": [
    "BNC_not_VOICE"
   ]
  },
  {
   "cell_type": "markdown",
   "metadata": {},
   "source": [
    "# Comparing Contraction Use\n"
   ]
  },
  {
   "cell_type": "markdown",
   "metadata": {},
   "source": [
    "### Proportion of contraction bigrams\n",
    "As noted in the bigram comparison, contractions appeared frequently among the BNC's most common bigrams, while they\n",
    "were much less common among VOICE's bigrams. Even after hesitation bigrams were removed from the bigram lists (which most likely impacted VOICE more than BNC), the proportion of contractions in the BNC is significantly higher than those in VOICE and the three sub-corpora. This time, speakers of Romance L1s had the highest proportion of contraction use among non-native speakers, at 0.01."
   ]
  },
  {
   "cell_type": "code",
   "execution_count": 35,
   "metadata": {},
   "outputs": [
    {
     "data": {
      "text/plain": [
       "0.015519474548440066"
      ]
     },
     "execution_count": 35,
     "metadata": {},
     "output_type": "execute_result"
    }
   ],
   "source": [
    "#BNC_contractions_proportions = len([b for b in BNC_bigrams if \"'\" in b[0] or \"'\" in b[1]])/len(BNC_bigrams)\n",
    "BNC_contractions_proportions = len([b for b in BNC_bigrams if \"'\" in b[0]])/len(BNC_bigrams)\n",
    "BNC_contractions_proportions"
   ]
  },
  {
   "cell_type": "code",
   "execution_count": 36,
   "metadata": {},
   "outputs": [
    {
     "data": {
      "text/plain": [
       "0.008700383355961985"
      ]
     },
     "execution_count": 36,
     "metadata": {},
     "output_type": "execute_result"
    }
   ],
   "source": [
    "#VOICE_contractions_proportions = len([b for b in VOICE_bigrams if \"'\" in b[0] or \"'\" in b[1]])/len(VOICE_bigrams)\n",
    "VOICE_contractions_proportions = len([b for b in VOICE_bigrams if \"'\" in b[0]])/len(VOICE_bigrams)\n",
    "VOICE_contractions_proportions"
   ]
  },
  {
   "cell_type": "code",
   "execution_count": 37,
   "metadata": {},
   "outputs": [
    {
     "data": {
      "text/plain": [
       "0.008100925820093726"
      ]
     },
     "execution_count": 37,
     "metadata": {},
     "output_type": "execute_result"
    }
   ],
   "source": [
    "#germanic_contractions_proportions = len([b for b in germanic_bigrams if \"'\" in b[0] or \"'\" in b[1]])/len(germanic_bigrams)\n",
    "germanic_contractions_proportions = len([b for b in germanic_bigrams if \"'\" in b[0]])/len(germanic_bigrams)\n",
    "germanic_contractions_proportions"
   ]
  },
  {
   "cell_type": "code",
   "execution_count": 38,
   "metadata": {},
   "outputs": [
    {
     "data": {
      "text/plain": [
       "0.010079784614374364"
      ]
     },
     "execution_count": 38,
     "metadata": {},
     "output_type": "execute_result"
    }
   ],
   "source": [
    "#romance_contractions_proportions = len([b for b in romance_bigrams if \"'\" in b[0] or \"'\" in b[1]])/len(romance_bigrams)\n",
    "romance_contractions_proportions = len([b for b in romance_bigrams if \"'\" in b[0]])/len(romance_bigrams)\n",
    "romance_contractions_proportions"
   ]
  },
  {
   "cell_type": "code",
   "execution_count": 39,
   "metadata": {},
   "outputs": [
    {
     "data": {
      "text/plain": [
       "0.008845891412418365"
      ]
     },
     "execution_count": 39,
     "metadata": {},
     "output_type": "execute_result"
    }
   ],
   "source": [
    "#slavic_contractions_proportions = len([b for b in slavic_bigrams if \"'\" in b[0] or \"'\" in b[1]])/len(slavic_bigrams)\n",
    "slavic_contractions_proportions = len([b for b in slavic_bigrams if \"'\" in b[0]])/len(slavic_bigrams)\n",
    "slavic_contractions_proportions"
   ]
  },
  {
   "cell_type": "markdown",
   "metadata": {},
   "source": [
    "### Common contraction bigrams in each corpus\n",
    "Clearly, contractions occur much more frequently among the BNC's most common bigrams than among VOICE's bigrams. The contractions found in the most common bigrams of VOICE's sub-corpora seem pretty uniform (don't, can't, doesn't, didn't, 'nt know). Also, these bigrams seem to be the most frequent contractions used in the BNC. This could indicate that non-native speakers can confidently use the most commonly-occurring contractions in English, but might struggle to use them in other contexts."
   ]
  },
  {
   "cell_type": "code",
   "execution_count": 40,
   "metadata": {},
   "outputs": [
    {
     "data": {
      "text/plain": [
       "[(('do', \"n't\"), 42215),\n",
       " (('did', \"n't\"), 14026),\n",
       " (('ca', \"n't\"), 12895),\n",
       " ((\"n't\", 'know'), 10645),\n",
       " ((\"n't\", 'it'), 8594),\n",
       " (('is', \"n't\"), 8439),\n",
       " (('does', \"n't\"), 6927),\n",
       " ((\"n't\", 'you'), 6426),\n",
       " (('would', \"n't\"), 5884),\n",
       " (('wo', \"n't\"), 5714),\n",
       " (('was', \"n't\"), 5174),\n",
       " ((\"n't\", 'think'), 5029),\n",
       " (('could', \"n't\"), 3949),\n",
       " ((\"n't\", 'they'), 3533),\n",
       " ((\"n't\", 'want'), 3469),\n",
       " (('are', \"n't\"), 3137),\n",
       " ((\"n't\", 'be'), 3116),\n",
       " ((\"n't\", 'get'), 3015),\n",
       " ((\"n't\", 'got'), 2944),\n",
       " (('were', \"n't\"), 2686)]"
      ]
     },
     "execution_count": 40,
     "metadata": {},
     "output_type": "execute_result"
    }
   ],
   "source": [
    "BNC_common_contractions = [b for b in BNC_freq_bigrams if \"'\" in b[0][0] or \"'\" in b[0][1]]\n",
    "BNC_common_contractions"
   ]
  },
  {
   "cell_type": "code",
   "execution_count": 41,
   "metadata": {},
   "outputs": [
    {
     "data": {
      "text/plain": [
       "[(('do', \"n't\"), 2339),\n",
       " ((\"n't\", 'know'), 804),\n",
       " (('did', \"n't\"), 455),\n",
       " (('ca', \"n't\"), 344),\n",
       " (('does', \"n't\"), 293)]"
      ]
     },
     "execution_count": 41,
     "metadata": {},
     "output_type": "execute_result"
    }
   ],
   "source": [
    "VOICE_common_contractions = [b for b in VOICE_freq_bigrams if \"'\" in b[0][0] or \"'\" in b[0][1]]\n",
    "VOICE_common_contractions"
   ]
  },
  {
   "cell_type": "code",
   "execution_count": 42,
   "metadata": {},
   "outputs": [
    {
     "data": {
      "text/plain": [
       "[(('do', \"n't\"), 1093),\n",
       " ((\"n't\", 'know'), 381),\n",
       " (('did', \"n't\"), 210),\n",
       " (('ca', \"n't\"), 177),\n",
       " (('does', \"n't\"), 135)]"
      ]
     },
     "execution_count": 42,
     "metadata": {},
     "output_type": "execute_result"
    }
   ],
   "source": [
    "germanic_common_contractions = [b for b in germanic_freq_bigrams if \"'\" in b[0][0] or \"'\" in b[0][1]]\n",
    "germanic_common_contractions"
   ]
  },
  {
   "cell_type": "code",
   "execution_count": 43,
   "metadata": {},
   "outputs": [
    {
     "data": {
      "text/plain": [
       "[(('do', \"n't\"), 438),\n",
       " ((\"n't\", 'know'), 162),\n",
       " (('did', \"n't\"), 97),\n",
       " (('ca', \"n't\"), 60),\n",
       " (('does', \"n't\"), 46)]"
      ]
     },
     "execution_count": 43,
     "metadata": {},
     "output_type": "execute_result"
    }
   ],
   "source": [
    "romance_common_contractions = [b for b in romance_freq_bigrams if \"'\" in b[0][0] or \"'\" in b[0][1]]\n",
    "romance_common_contractions"
   ]
  },
  {
   "cell_type": "code",
   "execution_count": 44,
   "metadata": {},
   "outputs": [
    {
     "data": {
      "text/plain": [
       "[(('do', \"n't\"), 248),\n",
       " ((\"n't\", 'know'), 87),\n",
       " (('did', \"n't\"), 44),\n",
       " (('does', \"n't\"), 31),\n",
       " (('ca', \"n't\"), 31)]"
      ]
     },
     "execution_count": 44,
     "metadata": {},
     "output_type": "execute_result"
    }
   ],
   "source": [
    "slavic_common_contractions = [b for b in slavic_freq_bigrams if \"'\" in b[0][0] or \"'\" in b[0][1]]\n",
    "slavic_common_contractions"
   ]
  },
  {
   "cell_type": "code",
   "execution_count": 45,
   "metadata": {},
   "outputs": [
    {
     "data": {
      "text/plain": [
       "41"
      ]
     },
     "execution_count": 45,
     "metadata": {},
     "output_type": "execute_result"
    }
   ],
   "source": [
    "VOICE_not_BNC = uncommon_bigrams(BNC_freq_bigrams, VOICE_freq_bigrams)\n",
    "len(VOICE_not_BNC)"
   ]
  },
  {
   "cell_type": "code",
   "execution_count": 46,
   "metadata": {
    "collapsed": true
   },
   "outputs": [],
   "source": [
    "contractions = [b for b in BNC_not_VOICE if \"'\" in b[0] or \"'\" in b[1]]"
   ]
  },
  {
   "cell_type": "code",
   "execution_count": 47,
   "metadata": {},
   "outputs": [
    {
     "data": {
      "text/plain": [
       "15"
      ]
     },
     "execution_count": 47,
     "metadata": {},
     "output_type": "execute_result"
    },
    {
     "data": {
      "text/plain": [
       "0.14423076923076922"
      ]
     },
     "execution_count": 47,
     "metadata": {},
     "output_type": "execute_result"
    },
    {
     "data": {
      "text/plain": [
       "[(\"n't\", 'it'),\n",
       " ('is', \"n't\"),\n",
       " (\"n't\", 'you'),\n",
       " ('would', \"n't\"),\n",
       " ('wo', \"n't\"),\n",
       " ('was', \"n't\"),\n",
       " (\"n't\", 'think'),\n",
       " ('could', \"n't\"),\n",
       " (\"n't\", 'they'),\n",
       " (\"n't\", 'want'),\n",
       " ('are', \"n't\"),\n",
       " (\"n't\", 'be'),\n",
       " (\"n't\", 'get'),\n",
       " (\"n't\", 'got'),\n",
       " ('were', \"n't\")]"
      ]
     },
     "execution_count": 47,
     "metadata": {},
     "output_type": "execute_result"
    }
   ],
   "source": [
    "#Close to 30% of the common BNC bigrams not found in the common VOICE bigrams are contractions. Is this true for the sub groups, too?\n",
    "len(contractions)\n",
    "len(contractions)/len(BNC_not_VOICE)\n",
    "contractions"
   ]
  },
  {
   "cell_type": "code",
   "execution_count": 48,
   "metadata": {},
   "outputs": [
    {
     "data": {
      "text/plain": [
       "33"
      ]
     },
     "execution_count": 48,
     "metadata": {},
     "output_type": "execute_result"
    },
    {
     "data": {
      "text/plain": [
       "0.28205128205128205"
      ]
     },
     "execution_count": 48,
     "metadata": {},
     "output_type": "execute_result"
    },
    {
     "data": {
      "text/plain": [
       "[(\"'ve\", 'got'),\n",
       " ('he', \"'s\"),\n",
       " ('you', \"'ve\"),\n",
       " ('i', \"'ll\"),\n",
       " ('we', \"'ve\"),\n",
       " ('she', \"'s\"),\n",
       " (\"n't\", 'it'),\n",
       " ('is', \"n't\"),\n",
       " ('what', \"'s\"),\n",
       " ('have', \"n't\"),\n",
       " ('does', \"n't\"),\n",
       " (\"n't\", 'you'),\n",
       " ('i', \"'d\"),\n",
       " ('would', \"n't\"),\n",
       " ('they', \"'ve\"),\n",
       " (\"'s\", 'got'),\n",
       " ('we', \"'ll\"),\n",
       " ('wo', \"n't\"),\n",
       " (\"'s\", 'right'),\n",
       " ('was', \"n't\"),\n",
       " (\"n't\", 'think'),\n",
       " (\"'re\", 'not'),\n",
       " (\"'ll\", 'be'),\n",
       " (\"'m\", 'not'),\n",
       " (\"'s\", 'what'),\n",
       " ('you', \"'ll\"),\n",
       " ('could', \"n't\"),\n",
       " (\"'ve\", 'been'),\n",
       " (\"'s\", 'that'),\n",
       " (\"'s\", 'just'),\n",
       " (\"'ll\", 'have'),\n",
       " ('you', \"'d\"),\n",
       " (\"n't\", 'they')]"
      ]
     },
     "execution_count": 48,
     "metadata": {},
     "output_type": "execute_result"
    }
   ],
   "source": [
    "contractions = [b for b in BNC_not_germanic if \"'\" in b[0] or \"'\" in b[1]]\n",
    "len(contractions)\n",
    "len(contractions)/len(BNC_not_germanic)\n",
    "contractions"
   ]
  },
  {
   "cell_type": "code",
   "execution_count": 49,
   "metadata": {},
   "outputs": [
    {
     "data": {
      "text/plain": [
       "36"
      ]
     },
     "execution_count": 49,
     "metadata": {},
     "output_type": "execute_result"
    },
    {
     "data": {
      "text/plain": [
       "0.2589928057553957"
      ]
     },
     "execution_count": 49,
     "metadata": {},
     "output_type": "execute_result"
    },
    {
     "data": {
      "text/plain": [
       "[(\"'ve\", 'got'),\n",
       " ('i', \"'ve\"),\n",
       " ('there', \"'s\"),\n",
       " ('they', \"'re\"),\n",
       " ('he', \"'s\"),\n",
       " ('you', \"'ve\"),\n",
       " ('i', \"'ll\"),\n",
       " ('we', \"'ve\"),\n",
       " ('she', \"'s\"),\n",
       " (\"n't\", 'it'),\n",
       " ('is', \"n't\"),\n",
       " ('what', \"'s\"),\n",
       " ('have', \"n't\"),\n",
       " ('does', \"n't\"),\n",
       " (\"n't\", 'you'),\n",
       " ('i', \"'d\"),\n",
       " ('would', \"n't\"),\n",
       " ('they', \"'ve\"),\n",
       " (\"'s\", 'got'),\n",
       " ('we', \"'ll\"),\n",
       " ('wo', \"n't\"),\n",
       " (\"'s\", 'right'),\n",
       " ('was', \"n't\"),\n",
       " (\"n't\", 'think'),\n",
       " (\"'re\", 'not'),\n",
       " (\"'ll\", 'be'),\n",
       " (\"'m\", 'not'),\n",
       " (\"'s\", 'what'),\n",
       " ('you', \"'ll\"),\n",
       " ('could', \"n't\"),\n",
       " (\"'ve\", 'been'),\n",
       " (\"'s\", 'that'),\n",
       " (\"'s\", 'just'),\n",
       " (\"'ll\", 'have'),\n",
       " ('you', \"'d\"),\n",
       " (\"n't\", 'they')]"
      ]
     },
     "execution_count": 49,
     "metadata": {},
     "output_type": "execute_result"
    }
   ],
   "source": [
    "contractions = [b for b in BNC_not_romance if \"'\" in b[0] or \"'\" in b[1]]\n",
    "len(contractions)\n",
    "len(contractions)/len(BNC_not_romance)\n",
    "contractions"
   ]
  },
  {
   "cell_type": "code",
   "execution_count": 50,
   "metadata": {},
   "outputs": [
    {
     "data": {
      "text/plain": [
       "36"
      ]
     },
     "execution_count": 50,
     "metadata": {},
     "output_type": "execute_result"
    },
    {
     "data": {
      "text/plain": [
       "0.2748091603053435"
      ]
     },
     "execution_count": 50,
     "metadata": {},
     "output_type": "execute_result"
    },
    {
     "data": {
      "text/plain": [
       "[(\"'ve\", 'got'),\n",
       " ('i', \"'ve\"),\n",
       " ('there', \"'s\"),\n",
       " ('they', \"'re\"),\n",
       " ('he', \"'s\"),\n",
       " ('you', \"'ve\"),\n",
       " ('i', \"'ll\"),\n",
       " ('we', \"'re\"),\n",
       " ('we', \"'ve\"),\n",
       " ('she', \"'s\"),\n",
       " (\"n't\", 'it'),\n",
       " ('is', \"n't\"),\n",
       " ('what', \"'s\"),\n",
       " ('have', \"n't\"),\n",
       " (\"n't\", 'you'),\n",
       " ('i', \"'d\"),\n",
       " ('would', \"n't\"),\n",
       " ('they', \"'ve\"),\n",
       " (\"'s\", 'got'),\n",
       " ('we', \"'ll\"),\n",
       " ('wo', \"n't\"),\n",
       " (\"'s\", 'right'),\n",
       " ('was', \"n't\"),\n",
       " (\"n't\", 'think'),\n",
       " (\"'re\", 'not'),\n",
       " (\"'ll\", 'be'),\n",
       " (\"'m\", 'not'),\n",
       " (\"'s\", 'what'),\n",
       " ('you', \"'ll\"),\n",
       " ('could', \"n't\"),\n",
       " (\"'ve\", 'been'),\n",
       " (\"'s\", 'that'),\n",
       " (\"'s\", 'just'),\n",
       " (\"'ll\", 'have'),\n",
       " ('you', \"'d\"),\n",
       " (\"n't\", 'they')]"
      ]
     },
     "execution_count": 50,
     "metadata": {},
     "output_type": "execute_result"
    }
   ],
   "source": [
    "contractions = [b for b in BNC_not_slavic if \"'\" in b[0] or \"'\" in b[1]]\n",
    "len(contractions)\n",
    "len(contractions)/len(BNC_not_slavic)\n",
    "contractions"
   ]
  }
 ],
 "metadata": {
  "kernelspec": {
   "display_name": "Python 3",
   "language": "python",
   "name": "python3"
  },
  "language_info": {
   "codemirror_mode": {
    "name": "ipython",
    "version": 3
   },
   "file_extension": ".py",
   "mimetype": "text/x-python",
   "name": "python",
   "nbconvert_exporter": "python",
   "pygments_lexer": "ipython3",
   "version": "3.6.1"
  }
 },
 "nbformat": 4,
 "nbformat_minor": 2
}
