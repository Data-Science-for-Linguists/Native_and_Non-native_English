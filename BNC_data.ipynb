{
 "cells": [
  {
   "cell_type": "markdown",
   "metadata": {},
   "source": [
    "Katherine Kairis, kak275@pitt.edu, 11/2/2017"
   ]
  },
  {
   "cell_type": "markdown",
   "metadata": {},
   "source": [
    "NEW CONTINUING -- This file continues upon the first progress report"
   ]
  },
  {
   "cell_type": "code",
   "execution_count": 1,
   "metadata": {
    "collapsed": true
   },
   "outputs": [],
   "source": [
    "import os\n",
    "import glob\n",
    "from bs4 import BeautifulSoup"
   ]
  },
  {
   "cell_type": "code",
   "execution_count": 2,
   "metadata": {
    "collapsed": true
   },
   "outputs": [],
   "source": [
    "file = open('data/BNC/download/Texts/G/G6/G62.xml', 'r')\n",
    "text = file.read()\n",
    "spoken = BeautifulSoup(text, 'xml')"
   ]
  },
  {
   "cell_type": "code",
   "execution_count": 3,
   "metadata": {
    "collapsed": true
   },
   "outputs": [],
   "source": [
    "#The BNC has both transcripts of speech and written entries. Spoken text is differentiated from written text with the \n",
    "#<stext> tag, which includes all of the speech in the file.\n",
    "spoken_lines = spoken.stext"
   ]
  },
  {
   "cell_type": "code",
   "execution_count": 4,
   "metadata": {
    "collapsed": true
   },
   "outputs": [],
   "source": [
    "#The files are organized in several nested directories. Get all of the files from all of the directories.\n",
    "spoken_files = []\n",
    "root = 'data/BNC/download/Texts/'\n",
    "for path, subdirs, files in os.walk(root):\n",
    "    for name in files:\n",
    "        file_name = os.path.join(path, name)\n",
    "\n",
    "        if file_name.endswith('.xml'):\n",
    "            file = open(file_name, 'r')\n",
    "            text = file.read()\n",
    "        \n",
    "            if('<stext') in text and file_name not in spoken_files:\n",
    "                spoken_files.append(file_name)"
   ]
  },
  {
   "cell_type": "code",
   "execution_count": 5,
   "metadata": {
    "collapsed": true
   },
   "outputs": [],
   "source": [
    "#Try getting the words and tags in one file\n",
    "file = open(file_name, 'r')\n",
    "text = file.read()\n",
    "xml_contents = BeautifulSoup(text, 'xml')"
   ]
  },
  {
   "cell_type": "code",
   "execution_count": 6,
   "metadata": {
    "collapsed": true
   },
   "outputs": [],
   "source": [
    "#Gets all utterances in the file\n",
    "utterances = xml_contents.findAll('u')"
   ]
  },
  {
   "cell_type": "code",
   "execution_count": 7,
   "metadata": {
    "collapsed": true
   },
   "outputs": [],
   "source": [
    "#Gets the first utterance in the file\n",
    "u1 = utterances[0]"
   ]
  },
  {
   "cell_type": "code",
   "execution_count": 8,
   "metadata": {},
   "outputs": [
    {
     "data": {
      "text/plain": [
       "'KSWPSUNK'"
      ]
     },
     "execution_count": 8,
     "metadata": {},
     "output_type": "execute_result"
    }
   ],
   "source": [
    "#Gets speaker of the first utterance\n",
    "u1['who']"
   ]
  },
  {
   "cell_type": "code",
   "execution_count": 9,
   "metadata": {
    "collapsed": true
   },
   "outputs": [],
   "source": [
    "#Gets the first sentence of the utterance (in XML format)\n",
    "segment1 = utterances[0].findAll('s')[0]"
   ]
  },
  {
   "cell_type": "code",
   "execution_count": 10,
   "metadata": {},
   "outputs": [
    {
     "data": {
      "text/plain": [
       "<s n=\"1\"><w c5=\"AV0\" hw=\"right\" pos=\"ADV\">Right</w><c c5=\"PUN\">, </c><w c5=\"ITJ\" hw=\"hello\" pos=\"INTERJ\">hello</w><c c5=\"PUN\">, </c><w c5=\"ITJ\" hw=\"yeah\" pos=\"INTERJ\">yeah</w><c c5=\"PUN\">, </c><w c5=\"PNP\" hw=\"we\" pos=\"PRON\">we</w><w c5=\"VBB\" hw=\"be\" pos=\"VERB\">'re </w><w c5=\"AVP\" hw=\"back\" pos=\"ADV\">back</w><c c5=\"PUN\">.</c></s>"
      ]
     },
     "execution_count": 10,
     "metadata": {},
     "output_type": "execute_result"
    }
   ],
   "source": [
    "segment1"
   ]
  },
  {
   "cell_type": "code",
   "execution_count": 11,
   "metadata": {},
   "outputs": [
    {
     "data": {
      "text/plain": [
       "\"Right, hello, yeah, we're back.\""
      ]
     },
     "execution_count": 11,
     "metadata": {},
     "output_type": "execute_result"
    }
   ],
   "source": [
    "#Gets the text of the first sentence\n",
    "segment1.text"
   ]
  },
  {
   "cell_type": "code",
   "execution_count": 12,
   "metadata": {
    "collapsed": true
   },
   "outputs": [],
   "source": [
    "#Get all of the words (in XML format) of the sentence\n",
    "words = segment1.findAll('w')"
   ]
  },
  {
   "cell_type": "code",
   "execution_count": 13,
   "metadata": {},
   "outputs": [
    {
     "data": {
      "text/plain": [
       "[<w c5=\"AV0\" hw=\"right\" pos=\"ADV\">Right</w>,\n",
       " <w c5=\"ITJ\" hw=\"hello\" pos=\"INTERJ\">hello</w>,\n",
       " <w c5=\"ITJ\" hw=\"yeah\" pos=\"INTERJ\">yeah</w>,\n",
       " <w c5=\"PNP\" hw=\"we\" pos=\"PRON\">we</w>,\n",
       " <w c5=\"VBB\" hw=\"be\" pos=\"VERB\">'re </w>,\n",
       " <w c5=\"AVP\" hw=\"back\" pos=\"ADV\">back</w>]"
      ]
     },
     "execution_count": 13,
     "metadata": {},
     "output_type": "execute_result"
    }
   ],
   "source": [
    "words"
   ]
  },
  {
   "cell_type": "code",
   "execution_count": 14,
   "metadata": {},
   "outputs": [
    {
     "name": "stdout",
     "output_type": "stream",
     "text": [
      "ADV\n",
      "Right\n",
      "INTERJ\n",
      "hello\n",
      "INTERJ\n",
      "yeah\n",
      "PRON\n",
      "we\n",
      "VERB\n",
      "'re \n",
      "ADV\n",
      "back\n"
     ]
    }
   ],
   "source": [
    "#Get the word and tag of each word entry\n",
    "for w in words:\n",
    "    print(w['pos'])\n",
    "    print(w.text)"
   ]
  },
  {
   "cell_type": "code",
   "execution_count": 15,
   "metadata": {
    "collapsed": true
   },
   "outputs": [],
   "source": [
    "#Iterate through all of the files in the BNC to two nested dictionaries: one containing word tokens of the\n",
    "#conversations, and the other containing (word, tag) tuples for every word in the corpus.\n",
    "#The keys of the dictionaries are the file names. The values of these entries are subdictionaries. The keys of the\n",
    "#subdictionary are (participant, line_number) tuples, and the values are either lists of tokens or (word, tag) tuples.\n",
    "tokenize = {}\n",
    "tagged = {}\n",
    "\n",
    "for file_name in spoken_files:\n",
    "    token_dict = {}\n",
    "    tag_dict = {}\n",
    "        \n",
    "    file = open(file_name, 'r')\n",
    "    text = file.read()\n",
    "    xml_contents = BeautifulSoup(text, 'xml')\n",
    "    \n",
    "    utterances = xml_contents.findAll('u')\n",
    "    \n",
    "    for u in utterances:\n",
    "        speaker = u['who']\n",
    "        segments = u.findAll('s')\n",
    "        \n",
    "        for s in segments:\n",
    "            line = s['n']\n",
    "            #print((speaker, line))\n",
    "            words = s.findAll('w')\n",
    "            \n",
    "            token_list = []\n",
    "            tag_list = []\n",
    "            \n",
    "            for w in words:\n",
    "                word = w.text\n",
    "                tag = w['pos']\n",
    "                \n",
    "                token_list.append(word)\n",
    "                tag_list.append((word, tag))\n",
    "                \n",
    "                #print((word, tag))\n",
    "            token_dict[(speaker, line)] = token_list\n",
    "            tag_dict[(speaker, line)] = tag_list\n",
    "            \n",
    "            \n",
    "    tokenize[file_name] = token_dict\n",
    "    tagged[file_name] = tag_dict\n",
    "    \n",
    "\n",
    "    \n",
    "\n",
    "    "
   ]
  },
  {
   "cell_type": "code",
   "execution_count": 19,
   "metadata": {
    "collapsed": true
   },
   "outputs": [],
   "source": [
    "#Save the dictionaries as pickle files.\n",
    "import pickle"
   ]
  },
  {
   "cell_type": "code",
   "execution_count": 22,
   "metadata": {
    "collapsed": true
   },
   "outputs": [],
   "source": [
    "f = open('BNC_tokenized.p', 'wb')\n",
    "pickle.dump(tokenize, f, -1)\n",
    "f.close()"
   ]
  },
  {
   "cell_type": "code",
   "execution_count": 23,
   "metadata": {
    "collapsed": true
   },
   "outputs": [],
   "source": [
    "f = open('BNC_tagged.p', 'wb')\n",
    "pickle.dump(tagged, f, -1)\n",
    "f.close()"
   ]
  },
  {
   "cell_type": "code",
   "execution_count": null,
   "metadata": {
    "collapsed": true
   },
   "outputs": [],
   "source": []
  }
 ],
 "metadata": {
  "kernelspec": {
   "display_name": "Python 3",
   "language": "python",
   "name": "python3"
  },
  "language_info": {
   "codemirror_mode": {
    "name": "ipython",
    "version": 3
   },
   "file_extension": ".py",
   "mimetype": "text/x-python",
   "name": "python",
   "nbconvert_exporter": "python",
   "pygments_lexer": "ipython3",
   "version": "3.6.1"
  }
 },
 "nbformat": 4,
 "nbformat_minor": 2
}
