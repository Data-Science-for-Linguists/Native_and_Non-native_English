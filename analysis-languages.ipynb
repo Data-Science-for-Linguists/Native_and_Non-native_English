{
 "cells": [
  {
   "cell_type": "code",
   "execution_count": 1,
   "metadata": {
    "collapsed": true
   },
   "outputs": [],
   "source": [
    "import pickle\n",
    "import nltk\n",
    "from nltk.corpus import stopwords\n",
    "import pandas as pd\n",
    "import matplotlib.pyplot as plt\n",
    "stopWords = set(stopwords.words('english'))\n",
    "\n",
    "from IPython.core.interactiveshell import InteractiveShell\n",
    "InteractiveShell.ast_node_interactivity = \"all\""
   ]
  },
  {
   "cell_type": "code",
   "execution_count": 2,
   "metadata": {},
   "outputs": [],
   "source": [
    "f = open('VOICE_tokenized.p', 'rb')\n",
    "VOICE_toks = pickle.load(f)\n",
    "f.close()\n",
    "\n",
    "f = open('VOICE_tagged.p', 'rb')\n",
    "VOICE_tags = pickle.load(f)\n",
    "f.close()\n",
    "\n",
    "f = open('VOICE_native_tagged.p', 'rb')\n",
    "VOICE_native_tags = pickle.load(f)\n",
    "f.close()\n",
    "\n",
    "f = open('VOICE_participant_info.p', 'rb')\n",
    "participants = pickle.load(f)\n",
    "f.close()"
   ]
  },
  {
   "cell_type": "code",
   "execution_count": 3,
   "metadata": {
    "collapsed": true
   },
   "outputs": [],
   "source": [
    "def get_monolingual_speakers(participant_dict, language):\n",
    "    speakers = []\n",
    "    for p in participant_dict.keys():\n",
    "        L1s = participant_dict[p]['L1']\n",
    "        if(len(L1s) == 1 and language in L1s):\n",
    "            speakers.append(p)\n",
    "            \n",
    "    return speakers"
   ]
  },
  {
   "cell_type": "code",
   "execution_count": 4,
   "metadata": {
    "collapsed": true
   },
   "outputs": [],
   "source": [
    "eng_speakers = get_monolingual_speakers(participants, 'eng')\n",
    "pol_speakers = get_monolingual_speakers(participants, 'pol')\n",
    "kor_speakers = get_monolingual_speakers(participants, 'kor')\n",
    "fin_speakers = get_monolingual_speakers(participants, 'fin')\n",
    "dan_speakers = get_monolingual_speakers(participants, 'dan')\n",
    "tur_speakers = get_monolingual_speakers(participants, 'tur')\n",
    "hun_speakers = get_monolingual_speakers(participants, 'hun')\n",
    "por_speakers = get_monolingual_speakers(participants, 'por')\n",
    "rus_speakers = get_monolingual_speakers(participants, 'rus')\n",
    "mlt_speakers = get_monolingual_speakers(participants, 'mlt')\n",
    "lav_speakers = get_monolingual_speakers(participants, 'lav')"
   ]
  },
  {
   "cell_type": "code",
   "execution_count": 5,
   "metadata": {},
   "outputs": [
    {
     "name": "stdout",
     "output_type": "stream",
     "text": [
      "English speakers: 62\n",
      "Polish speakers: 35\n",
      "Korean speakers: 14\n",
      "Finnish speakers: 51\n",
      "Danish speakers: 35\n",
      "Turkish speakers: 14\n",
      "Hungarian speakers: 13\n",
      "Portuguese speakers: 21\n",
      "Russian speakers: 22\n",
      "Maltese speakers: 22\n",
      "Latvian speakers: 19\n"
     ]
    }
   ],
   "source": [
    "print(\"English speakers:\", len(eng_speakers))\n",
    "print(\"Polish speakers:\", len(pol_speakers))\n",
    "print(\"Korean speakers:\", len(kor_speakers))\n",
    "print(\"Finnish speakers:\", len(fin_speakers))\n",
    "print(\"Danish speakers:\", len(dan_speakers))\n",
    "print(\"Turkish speakers:\", len(tur_speakers))\n",
    "print(\"Hungarian speakers:\", len(hun_speakers))\n",
    "print(\"Portuguese speakers:\", len(por_speakers))\n",
    "print(\"Russian speakers:\", len(rus_speakers))\n",
    "print(\"Maltese speakers:\", len(mlt_speakers))\n",
    "print(\"Latvian speakers:\", len(lav_speakers))"
   ]
  },
  {
   "cell_type": "code",
   "execution_count": 6,
   "metadata": {
    "collapsed": true
   },
   "outputs": [],
   "source": [
    "#Need to use English\n",
    "#Use Korean, Finnish, Turkish\n",
    "#Danish, Portuguese, Polish"
   ]
  },
  {
   "cell_type": "code",
   "execution_count": 7,
   "metadata": {
    "collapsed": true
   },
   "outputs": [],
   "source": [
    "#List of speakers\n",
    "def get_tagged_utterances(tokens, speakers): \n",
    "    utterances = []\n",
    "    for conversation in tokens.keys():\n",
    "        for pair in tokens[conversation]:\n",
    "            if(pair[1] in speakers):\n",
    "                utterances.append(tokens[conversation][pair])\n",
    "                \n",
    "    return utterances\n",
    "                \n",
    "    \n",
    "    "
   ]
  },
  {
   "cell_type": "code",
   "execution_count": 8,
   "metadata": {
    "collapsed": true
   },
   "outputs": [],
   "source": [
    "eng_speech = get_tagged_utterances(VOICE_native_tags, eng_speakers)\n",
    "kor_speech = get_tagged_utterances(VOICE_tags, kor_speakers)\n",
    "fin_speech = get_tagged_utterances(VOICE_tags, fin_speakers)\n",
    "tur_speech = get_tagged_utterances(VOICE_tags, tur_speakers)\n",
    "dan_speech = get_tagged_utterances(VOICE_tags, dan_speakers)\n",
    "por_speech = get_tagged_utterances(VOICE_tags, por_speakers)\n",
    "pol_speech = get_tagged_utterances(VOICE_tags, pol_speakers)"
   ]
  },
  {
   "cell_type": "code",
   "execution_count": 9,
   "metadata": {
    "collapsed": true
   },
   "outputs": [],
   "source": [
    "def get_len_dists(tok_list):\n",
    "    len_dict = {}\n",
    "    total = 0\n",
    "    for l in tok_list:\n",
    "        utterance_length = len(l)\n",
    "        \n",
    "        if(utterance_length not in len_dict):\n",
    "            len_dict[utterance_length] = 1\n",
    "        else:\n",
    "            len_dict[utterance_length] += 1\n",
    "            \n",
    "        total += 1\n",
    "            \n",
    "    for l in len_dict.keys():\n",
    "        len_dict[l] = len_dict[l]/total\n",
    "        \n",
    "    return len_dict"
   ]
  },
  {
   "cell_type": "code",
   "execution_count": 10,
   "metadata": {
    "collapsed": true
   },
   "outputs": [],
   "source": [
    "def get_top_dists(len_dists):\n",
    "    for s in sorted(len_dists, key=len_dists.get, reverse=True)[:10]:\n",
    "        print(\"\\t\" + str(s) + \": \" + str(len_dists[s]))"
   ]
  },
  {
   "cell_type": "code",
   "execution_count": 11,
   "metadata": {
    "collapsed": true
   },
   "outputs": [],
   "source": [
    "eng_lens = get_len_dists(eng_speech)\n",
    "kor_lens = get_len_dists(kor_speech)\n",
    "fin_lens = get_len_dists(fin_speech)\n",
    "tur_lens = get_len_dists(tur_speech)\n",
    "dan_lens = get_len_dists(dan_speech)\n",
    "por_lens = get_len_dists(por_speech)\n",
    "pol_lens = get_len_dists(pol_speech)"
   ]
  },
  {
   "cell_type": "code",
   "execution_count": 12,
   "metadata": {},
   "outputs": [
    {
     "name": "stdout",
     "output_type": "stream",
     "text": [
      "English:\n",
      "\t1: 0.272583559168925\n",
      "\t2: 0.0948509485094851\n",
      "\t3: 0.06097560975609756\n",
      "\t4: 0.05984643179765131\n",
      "\t5: 0.04968383017163505\n",
      "\t6: 0.047651309846431796\n",
      "\t7: 0.04245709123757904\n",
      "\t8: 0.037037037037037035\n",
      "\t9: 0.03071364046973803\n",
      "\t10: 0.026196928635953028\n",
      "Korean:\n",
      "\t1: 0.26313813813813813\n",
      "\t2: 0.16554054054054054\n",
      "\t3: 0.08108108108108109\n",
      "\t4: 0.05593093093093093\n",
      "\t6: 0.05067567567567568\n",
      "\t5: 0.04804804804804805\n",
      "\t8: 0.03490990990990991\n",
      "\t7: 0.03303303303303303\n",
      "\t10: 0.02702702702702703\n",
      "\t9: 0.025525525525525526\n",
      "Finnish:\n",
      "\t1: 0.32821368948247076\n",
      "\t2: 0.11619365609348915\n",
      "\t3: 0.06310517529215359\n",
      "\t4: 0.051419031719532556\n",
      "\t5: 0.04040066777963272\n",
      "\t6: 0.038731218697829715\n",
      "\t7: 0.032387312186978295\n",
      "\t9: 0.02904841402337229\n",
      "\t8: 0.02671118530884808\n",
      "\t10: 0.019031719532554257\n",
      "Turkish:\n",
      "\t1: 0.14722222222222223\n",
      "\t2: 0.11388888888888889\n",
      "\t3: 0.05\n",
      "\t4: 0.044444444444444446\n",
      "\t5: 0.041666666666666664\n",
      "\t6: 0.03333333333333333\n",
      "\t8: 0.03333333333333333\n",
      "\t9: 0.030555555555555555\n",
      "\t16: 0.025\n",
      "\t10: 0.022222222222222223\n",
      "Danish:\n",
      "\t1: 0.2712522851919561\n",
      "\t2: 0.10397623400365631\n",
      "\t3: 0.051645338208409504\n",
      "\t4: 0.04181901279707496\n",
      "\t5: 0.04181901279707496\n",
      "\t6: 0.038391224862888484\n",
      "\t7: 0.03610603290676417\n",
      "\t8: 0.029478976234003657\n",
      "\t10: 0.024680073126142597\n",
      "\t9: 0.024680073126142597\n",
      "Portuguese:\n",
      "\t1: 0.14596273291925466\n",
      "\t3: 0.07763975155279502\n",
      "\t2: 0.07453416149068323\n",
      "\t4: 0.06935817805383022\n",
      "\t6: 0.06314699792960662\n",
      "\t8: 0.048654244306418216\n",
      "\t7: 0.047619047619047616\n",
      "\t5: 0.045548654244306416\n",
      "\t9: 0.040372670807453416\n",
      "\t10: 0.036231884057971016\n",
      "Polish:\n",
      "\t1: 0.2444962444962445\n",
      "\t2: 0.12794612794612795\n",
      "\t3: 0.07252007252007252\n",
      "\t4: 0.06863506863506863\n",
      "\t5: 0.053613053613053616\n",
      "\t6: 0.045066045066045064\n",
      "\t7: 0.039886039886039885\n",
      "\t8: 0.03781403781403781\n",
      "\t9: 0.027972027972027972\n",
      "\t11: 0.022792022792022793\n"
     ]
    }
   ],
   "source": [
    "print(\"English:\")\n",
    "get_top_dists(eng_lens)\n",
    "print(\"Korean:\")\n",
    "get_top_dists(kor_lens)\n",
    "print(\"Finnish:\")\n",
    "get_top_dists(fin_lens)\n",
    "print(\"Turkish:\")\n",
    "get_top_dists(tur_lens)\n",
    "print(\"Danish:\")\n",
    "get_top_dists(dan_lens)\n",
    "print(\"Portuguese:\")\n",
    "get_top_dists(por_lens)\n",
    "print(\"Polish:\")\n",
    "get_top_dists(pol_lens)"
   ]
  },
  {
   "cell_type": "code",
   "execution_count": 13,
   "metadata": {
    "collapsed": true
   },
   "outputs": [],
   "source": [
    "#Will analyze tags in sentences of a fixed length. Want to pick an utterance length that's common across all L1s\n",
    "# (short utterances are very common in all groups), but want to pick length long enough to get some interesting results\n",
    "\n",
    "#Will try utterances of length 3 first"
   ]
  },
  {
   "cell_type": "code",
   "execution_count": 22,
   "metadata": {
    "collapsed": true
   },
   "outputs": [],
   "source": [
    "def tags_in_utterance_length(tok_list, utterance_len):\n",
    "    utterances = []\n",
    "    for u in tok_list:\n",
    "        if(len(u) == utterance_len):\n",
    "            tags = [pair[1] for pair in u]\n",
    "            utterances.append(tuple(tags))\n",
    "            \n",
    "    return utterances"
   ]
  },
  {
   "cell_type": "code",
   "execution_count": 23,
   "metadata": {
    "collapsed": true
   },
   "outputs": [],
   "source": [
    "eng3_tags = tags_in_utterance_length(eng_speech, 3)\n",
    "kor3_tags = tags_in_utterance_length(kor_speech, 3)\n",
    "fin3_tags = tags_in_utterance_length(fin_speech, 3)\n",
    "tur3_tags = tags_in_utterance_length(tur_speech, 3)\n",
    "dan3_tags = tags_in_utterance_length(dan_speech, 3)\n",
    "por3_tags = tags_in_utterance_length(por_speech, 3)\n",
    "pol3_tags = tags_in_utterance_length(pol_speech, 3)"
   ]
  },
  {
   "cell_type": "code",
   "execution_count": 24,
   "metadata": {},
   "outputs": [
    {
     "data": {
      "text/plain": [
       "270"
      ]
     },
     "execution_count": 24,
     "metadata": {},
     "output_type": "execute_result"
    },
    {
     "data": {
      "text/plain": [
       "216"
      ]
     },
     "execution_count": 24,
     "metadata": {},
     "output_type": "execute_result"
    },
    {
     "data": {
      "text/plain": [
       "189"
      ]
     },
     "execution_count": 24,
     "metadata": {},
     "output_type": "execute_result"
    },
    {
     "data": {
      "text/plain": [
       "18"
      ]
     },
     "execution_count": 24,
     "metadata": {},
     "output_type": "execute_result"
    },
    {
     "data": {
      "text/plain": [
       "226"
      ]
     },
     "execution_count": 24,
     "metadata": {},
     "output_type": "execute_result"
    },
    {
     "data": {
      "text/plain": [
       "75"
      ]
     },
     "execution_count": 24,
     "metadata": {},
     "output_type": "execute_result"
    },
    {
     "data": {
      "text/plain": [
       "280"
      ]
     },
     "execution_count": 24,
     "metadata": {},
     "output_type": "execute_result"
    }
   ],
   "source": [
    "len(eng3_tags)\n",
    "len(kor3_tags)\n",
    "len(fin3_tags)\n",
    "len(tur3_tags)\n",
    "len(dan3_tags)\n",
    "len(por3_tags)\n",
    "len(pol3_tags)"
   ]
  },
  {
   "cell_type": "code",
   "execution_count": 29,
   "metadata": {
    "collapsed": true
   },
   "outputs": [],
   "source": [
    "def get_freq_dict(li):\n",
    "    freqs = nltk.FreqDist(li)\n",
    "    return freqs"
   ]
  },
  {
   "cell_type": "code",
   "execution_count": 44,
   "metadata": {},
   "outputs": [],
   "source": [
    "#freqs = nltk.FreqDist(eng3_tags)\n",
    "#freqs.most_common(10)\n",
    "eng3_tags_freqs = get_freq_dict(eng3_tags)\n",
    "kor3_tags_freqs = get_freq_dict(kor3_tags)\n",
    "fin3_tags_freqs = get_freq_dict(fin3_tags)\n",
    "dan3_tags_freqs = get_freq_dict(dan3_tags)\n",
    "pol3_tags_freqs = get_freq_dict(pol3_tags)"
   ]
  },
  {
   "cell_type": "code",
   "execution_count": 50,
   "metadata": {},
   "outputs": [
    {
     "data": {
      "text/plain": [
       "31"
      ]
     },
     "execution_count": 50,
     "metadata": {},
     "output_type": "execute_result"
    }
   ],
   "source": [
    "common_seqs = []\n",
    "for pair in eng3_tags_freqs.most_common(10):\n",
    "    common_seqs.append(pair[0])\n",
    "    \n",
    "for pair in kor3_tags_freqs.most_common(10):\n",
    "    common_seqs.append(pair[0])\n",
    "    \n",
    "for pair in fin3_tags_freqs.most_common(10):\n",
    "    common_seqs.append(pair[0])\n",
    "    \n",
    "for pair in dan3_tags_freqs.most_common(10):\n",
    "    common_seqs.append(pair[0])\n",
    "    \n",
    "for pair in pol3_tags_freqs.most_common(10):\n",
    "    common_seqs.append(pair[0])\n",
    "\n",
    "common_seqs = set(common_seqs)"
   ]
  },
  {
   "cell_type": "code",
   "execution_count": 54,
   "metadata": {},
   "outputs": [
    {
     "name": "stdout",
     "output_type": "stream",
     "text": [
      "('REfRE', 'JJfJJ', 'NNfNN')\n",
      "\tEnglish: 0.0\n",
      "\tKorean: 0.009259259259259259\n",
      "\tFinnish: 0.0\n",
      "\tDanish: 0.0\n",
      "\tPolish: 0.0\n",
      "('RBfRB', 'RBfRB', 'PAfPA')\n",
      "\tEnglish: 0.003703703703703704\n",
      "\tKorean: 0.004629629629629629\n",
      "\tFinnish: 0.0\n",
      "\tDanish: 0.004424778761061947\n",
      "\tPolish: 0.007142857142857143\n",
      "('FWfFW', 'FWfFW', 'PAfPA')\n",
      "\tEnglish: 0.0\n",
      "\tKorean: 0.004629629629629629\n",
      "\tFinnish: 0.0\n",
      "\tDanish: 0.008849557522123894\n",
      "\tPolish: 0.010714285714285714\n",
      "('PPfPP', 'MDfMD', 'VBfVB')\n",
      "\tEnglish: 0.0\n",
      "\tKorean: 0.0\n",
      "\tFinnish: 0.010582010582010581\n",
      "\tDanish: 0.004424778761061947\n",
      "\tPolish: 0.0\n",
      "('NNfNN', 'CCfCC', 'NNfNN')\n",
      "\tEnglish: 0.007407407407407408\n",
      "\tKorean: 0.0\n",
      "\tFinnish: 0.021164021164021163\n",
      "\tDanish: 0.004424778761061947\n",
      "\tPolish: 0.007142857142857143\n",
      "('REfRE', 'PAfPA', 'UNIfUNI')\n",
      "\tEnglish: 0.0\n",
      "\tKorean: 0.0\n",
      "\tFinnish: 0.005291005291005291\n",
      "\tDanish: 0.008849557522123894\n",
      "\tPolish: 0.0\n",
      "('NNfNN', 'NNfNN', 'PAfPA')\n",
      "\tEnglish: 0.007407407407407408\n",
      "\tKorean: 0.009259259259259259\n",
      "\tFinnish: 0.005291005291005291\n",
      "\tDanish: 0.004424778761061947\n",
      "\tPolish: 0.0\n",
      "('PPfPP', 'MDfMD', 'PAfPA')\n",
      "\tEnglish: 0.011111111111111112\n",
      "\tKorean: 0.0\n",
      "\tFinnish: 0.0\n",
      "\tDanish: 0.0\n",
      "\tPolish: 0.0\n",
      "('UHfUH', 'FIfFI', 'FIfFI')\n",
      "\tEnglish: 0.003703703703703704\n",
      "\tKorean: 0.0\n",
      "\tFinnish: 0.005291005291005291\n",
      "\tDanish: 0.01327433628318584\n",
      "\tPolish: 0.007142857142857143\n",
      "('PPfPP', 'VHPfVHP', 'NNfNN')\n",
      "\tEnglish: 0.0\n",
      "\tKorean: 0.0\n",
      "\tFinnish: 0.0\n",
      "\tDanish: 0.0\n",
      "\tPolish: 0.010714285714285714\n",
      "('UHfUH', 'NPfNP', 'PAfPA')\n",
      "\tEnglish: 0.003703703703703704\n",
      "\tKorean: 0.0\n",
      "\tFinnish: 0.0\n",
      "\tDanish: 0.017699115044247787\n",
      "\tPolish: 0.0\n",
      "('REfRE', 'PPfPP', 'VBZfVBZ')\n",
      "\tEnglish: 0.0\n",
      "\tKorean: 0.0\n",
      "\tFinnish: 0.015873015873015872\n",
      "\tDanish: 0.0\n",
      "\tPolish: 0.0\n",
      "('REfRE', 'REfRE', 'PAfPA')\n",
      "\tEnglish: 0.022222222222222223\n",
      "\tKorean: 0.06018518518518518\n",
      "\tFinnish: 0.037037037037037035\n",
      "\tDanish: 0.030973451327433628\n",
      "\tPolish: 0.025\n",
      "('DTfDT', 'NNfNN', 'RBfRB')\n",
      "\tEnglish: 0.007407407407407408\n",
      "\tKorean: 0.0\n",
      "\tFinnish: 0.005291005291005291\n",
      "\tDanish: 0.004424778761061947\n",
      "\tPolish: 0.0\n",
      "('JJfJJ', 'NNfNN', 'PAfPA')\n",
      "\tEnglish: 0.003703703703703704\n",
      "\tKorean: 0.013888888888888888\n",
      "\tFinnish: 0.005291005291005291\n",
      "\tDanish: 0.008849557522123894\n",
      "\tPolish: 0.0035714285714285713\n",
      "('UHfUH', 'REfRE', 'REfRE')\n",
      "\tEnglish: 0.003703703703703704\n",
      "\tKorean: 0.009259259259259259\n",
      "\tFinnish: 0.021164021164021163\n",
      "\tDanish: 0.008849557522123894\n",
      "\tPolish: 0.0035714285714285713\n",
      "('PPfPP', 'VBSfVBS', 'RBfRB')\n",
      "\tEnglish: 0.007407407407407408\n",
      "\tKorean: 0.004629629629629629\n",
      "\tFinnish: 0.0\n",
      "\tDanish: 0.017699115044247787\n",
      "\tPolish: 0.0\n",
      "('DMfDM', 'CDfCD', 'NNSfNNS')\n",
      "\tEnglish: 0.007407407407407408\n",
      "\tKorean: 0.0\n",
      "\tFinnish: 0.0\n",
      "\tDanish: 0.0\n",
      "\tPolish: 0.0\n",
      "('NNfNN', 'REfRE', 'PAfPA')\n",
      "\tEnglish: 0.0\n",
      "\tKorean: 0.013888888888888888\n",
      "\tFinnish: 0.0\n",
      "\tDanish: 0.0\n",
      "\tPolish: 0.0\n",
      "('LAfLA', 'LAfLA', 'LAfLA')\n",
      "\tEnglish: 0.0\n",
      "\tKorean: 0.05555555555555555\n",
      "\tFinnish: 0.005291005291005291\n",
      "\tDanish: 0.0\n",
      "\tPolish: 0.0\n",
      "('NPfNP', 'REfRE', 'PAfPA')\n",
      "\tEnglish: 0.0\n",
      "\tKorean: 0.013888888888888888\n",
      "\tFinnish: 0.0\n",
      "\tDanish: 0.0\n",
      "\tPolish: 0.0\n",
      "('INfIN', 'DTfDT', 'NNfNN')\n",
      "\tEnglish: 0.011111111111111112\n",
      "\tKorean: 0.009259259259259259\n",
      "\tFinnish: 0.015873015873015872\n",
      "\tDanish: 0.0\n",
      "\tPolish: 0.014285714285714285\n",
      "('DTfDT', 'VBSfVBS', 'JJfJJ')\n",
      "\tEnglish: 0.03333333333333333\n",
      "\tKorean: 0.004629629629629629\n",
      "\tFinnish: 0.026455026455026454\n",
      "\tDanish: 0.01327433628318584\n",
      "\tPolish: 0.007142857142857143\n",
      "('FWfFW', 'FWfFW', 'FWfFW')\n",
      "\tEnglish: 0.003703703703703704\n",
      "\tKorean: 0.009259259259259259\n",
      "\tFinnish: 0.0\n",
      "\tDanish: 0.008849557522123894\n",
      "\tPolish: 0.010714285714285714\n",
      "('DTfDT', 'NNfNN', 'PAfPA')\n",
      "\tEnglish: 0.0\n",
      "\tKorean: 0.009259259259259259\n",
      "\tFinnish: 0.0\n",
      "\tDanish: 0.017699115044247787\n",
      "\tPolish: 0.0035714285714285713\n",
      "('REfRE', 'PAfPA', 'REfRE')\n",
      "\tEnglish: 0.04814814814814815\n",
      "\tKorean: 0.018518518518518517\n",
      "\tFinnish: 0.021164021164021163\n",
      "\tDanish: 0.01327433628318584\n",
      "\tPolish: 0.02142857142857143\n",
      "('REfRE', 'REfRE', 'REfRE')\n",
      "\tEnglish: 0.03333333333333333\n",
      "\tKorean: 0.023148148148148147\n",
      "\tFinnish: 0.047619047619047616\n",
      "\tDanish: 0.05752212389380531\n",
      "\tPolish: 0.06785714285714285\n",
      "('REfRE', 'RBfRB', 'RBfRB')\n",
      "\tEnglish: 0.0\n",
      "\tKorean: 0.009259259259259259\n",
      "\tFinnish: 0.0\n",
      "\tDanish: 0.0\n",
      "\tPolish: 0.010714285714285714\n",
      "('PPfPP', 'VBSfVBS', 'JJfJJ')\n",
      "\tEnglish: 0.011111111111111112\n",
      "\tKorean: 0.0\n",
      "\tFinnish: 0.005291005291005291\n",
      "\tDanish: 0.004424778761061947\n",
      "\tPolish: 0.014285714285714285\n",
      "('PPfPP', 'MDfMD', 'RBfRB')\n",
      "\tEnglish: 0.003703703703703704\n",
      "\tKorean: 0.0\n",
      "\tFinnish: 0.010582010582010581\n",
      "\tDanish: 0.01327433628318584\n",
      "\tPolish: 0.0\n",
      "('DTfDT', 'JJfJJ', 'NNfNN')\n",
      "\tEnglish: 0.011111111111111112\n",
      "\tKorean: 0.009259259259259259\n",
      "\tFinnish: 0.005291005291005291\n",
      "\tDanish: 0.0\n",
      "\tPolish: 0.0\n"
     ]
    }
   ],
   "source": [
    "for seq in common_seqs:\n",
    "    print(seq)\n",
    "    print(\"\\tEnglish: \" + str(eng3_tags_freqs[seq] / len(eng3_tags)))\n",
    "    print(\"\\tKorean: \"+ str(kor3_tags_freqs[seq] / len(kor3_tags)))\n",
    "    print(\"\\tFinnish: \" + str(fin3_tags_freqs[seq] / len(fin3_tags)))\n",
    "    print(\"\\tDanish: \" + str(dan3_tags_freqs[seq] / len(dan3_tags)))\n",
    "    print(\"\\tPolish: \" + str(pol3_tags_freqs[seq] / len(pol3_tags)))"
   ]
  },
  {
   "cell_type": "code",
   "execution_count": null,
   "metadata": {
    "collapsed": true
   },
   "outputs": [],
   "source": []
  },
  {
   "cell_type": "code",
   "execution_count": 63,
   "metadata": {},
   "outputs": [],
   "source": [
    "eng_tags = [[t[1] for t in u] for u in eng_speech]\n",
    "eng_toks = [[t[0] for t in u] for u in eng_speech]\n",
    "\n",
    "kor_tags = [[t[1] for t in u] for u in kor_speech]\n",
    "kor_toks = [[t[0] for t in u] for u in kor_speech]\n",
    "\n",
    "fin_tags = [[t[1] for t in u] for u in fin_speech]\n",
    "fin_toks = [[t[0] for t in u] for u in fin_speech]\n",
    "\n",
    "tur_tags = [[t[1] for t in u] for u in tur_speech]\n",
    "tur_toks = [[t[0] for t in u] for u in tur_speech]\n",
    "\n",
    "dan_tags = [[t[1] for t in u] for u in dan_speech]\n",
    "dan_toks = [[t[0] for t in u] for u in dan_speech]\n",
    "\n",
    "por_tags = [[t[1] for t in u] for u in por_speech]\n",
    "por_toks = [[t[0] for t in u] for u in por_speech]\n",
    "\n",
    "pol_tags = [[t[1] for t in u] for u in pol_speech]\n",
    "pol_toks = [[t[0] for t in u] for u in pol_speech]"
   ]
  },
  {
   "cell_type": "code",
   "execution_count": 82,
   "metadata": {},
   "outputs": [],
   "source": [
    "def get_trigrams(tags):\n",
    "    trigram_list = []\n",
    "    for u in tags:\n",
    "        for trigram in set(nltk.trigrams(u)):\n",
    "            if len(trigram) > 0:\n",
    "                trigram_list.append(trigram)\n",
    "    return trigram_list"
   ]
  },
  {
   "cell_type": "code",
   "execution_count": 86,
   "metadata": {},
   "outputs": [],
   "source": [
    "eng_tag_trigrams = get_trigrams(eng_tags)\n",
    "kor_tag_trigrams = get_trigrams(kor_tags)\n",
    "fin_tag_trigrams = get_trigrams(fin_tags)\n",
    "tur_tag_trigrams = get_trigrams(tur_tags)\n",
    "dan_tag_trigrams = get_trigrams(dan_tags)\n",
    "por_tag_trigrams = get_trigrams(por_tags)\n",
    "pol_tag_trigrams = get_trigrams(pol_tags)"
   ]
  },
  {
   "cell_type": "code",
   "execution_count": 99,
   "metadata": {},
   "outputs": [],
   "source": [
    "eng_freq = nltk.FreqDist(eng_tag_trigrams)\n",
    "kor_freq = nltk.FreqDist(kor_tag_trigrams)\n",
    "fin_freq = nltk.FreqDist(fin_tag_trigrams)\n",
    "tur_freq = nltk.FreqDist(tur_tag_trigrams)\n",
    "dan_freq = nltk.FreqDist(dan_tag_trigrams)\n",
    "por_freq = nltk.FreqDist(por_tag_trigrams)\n",
    "pol_freq = nltk.FreqDist(pol_tag_trigrams)"
   ]
  },
  {
   "cell_type": "code",
   "execution_count": 100,
   "metadata": {},
   "outputs": [
    {
     "name": "stdout",
     "output_type": "stream",
     "text": [
      "('INfIN', 'DTfDT', 'NNfNN')\n",
      "\tEnglish: 0.009448325273150636\n",
      "\tKorean: 0.007010456273764259\n",
      "\tFinnish: 0.009592150545507798\n",
      "\tTurkish: 0.005439129739241722\n",
      "\tDanish: 0.009394171779141104\n",
      "\tPortuguese: 0.009030866693624478\n",
      "\tPolish: 0.009049419741817707\n",
      "('DTfDT', 'NNfNN', 'INfIN')\n",
      "\tEnglish: 0.007119828049435787\n",
      "\tKorean: 0.004039923954372623\n",
      "\tFinnish: 0.007029362231822508\n",
      "\tTurkish: 0.004239321708526636\n",
      "\tDanish: 0.008397239263803681\n",
      "\tPortuguese: 0.006132902008356921\n",
      "\tPolish: 0.006493675837788499\n",
      "('DTfDT', 'JJfJJ', 'NNfNN')\n",
      "\tEnglish: 0.006985491671144546\n",
      "\tKorean: 0.0051093155893536125\n",
      "\tFinnish: 0.006663249615581753\n",
      "\tTurkish: 0.004239321708526636\n",
      "\tDanish: 0.008052147239263804\n",
      "\tPortuguese: 0.005121984094891494\n",
      "\tPolish: 0.005502673099491459\n",
      "('PPfPP', 'MDfMD', 'VVfVV')\n",
      "\tEnglish: 0.004992835393157801\n",
      "\tKorean: 0.00374287072243346\n",
      "\tFinnish: 0.00388079373215201\n",
      "\tTurkish: 0.0029595264757638776\n",
      "\tDanish: 0.003853527607361963\n",
      "\tPortuguese: 0.00491980051219841\n",
      "\tPolish: 0.005320119963489372\n",
      "('NNfNN', 'INfIN', 'DTfDT')\n",
      "\tEnglish: 0.004813720222102812\n",
      "\tKorean: 0.003208174904942966\n",
      "\tFinnish: 0.00611408069122062\n",
      "\tTurkish: 0.0035994240921452566\n",
      "\tDanish: 0.006077453987730061\n",
      "\tPortuguese: 0.004245855236554792\n",
      "\tPolish: 0.005528752118920329\n",
      "('DTfDT', 'NNfNN', 'PAfPA')\n",
      "\tEnglish: 0.0038061973849185028\n",
      "\tKorean: 0.00528754752851711\n",
      "\tFinnish: 0.004466573918137219\n",
      "\tTurkish: 0.0035994240921452566\n",
      "\tDanish: 0.004236963190184049\n",
      "\tPortuguese: 0.005526351260277665\n",
      "\tPolish: 0.0049550136914852\n",
      "('PPfPP', 'VVPfVVP', 'RBfRB')\n",
      "\tEnglish: 0.0034703564391903993\n",
      "\tKorean: 0.002792300380228137\n",
      "\tFinnish: 0.003990627517024237\n",
      "\tTurkish: 0.001919692849144137\n",
      "\tDanish: 0.002933282208588957\n",
      "\tPortuguese: 0.0037740935436042593\n",
      "\tPolish: 0.0037032207588994655\n",
      "('INfIN', 'DTfDT', 'JJfJJ')\n",
      "\tEnglish: 0.003425577646426652\n",
      "\tKorean: 0.0016634980988593155\n",
      "\tFinnish: 0.00388079373215201\n",
      "\tTurkish: 0.002719564869620861\n",
      "\tDanish: 0.004332822085889571\n",
      "\tPortuguese: 0.0033697263782180888\n",
      "\tPolish: 0.0036510627200417264\n",
      "('PPfPP', 'VBSfVBS', 'RBfRB')\n",
      "\tEnglish: 0.003380798853662905\n",
      "\tKorean: 0.001960551330798479\n",
      "\tFinnish: 0.0025627883136852894\n",
      "\tTurkish: 0.0014397696368581027\n",
      "\tDanish: 0.0022622699386503067\n",
      "\tPortuguese: 0.0022240194096239383\n",
      "\tPolish: 0.002242795670882775\n",
      "('PPfPP', 'VVPfVVP', 'PPfPP')\n",
      "\tEnglish: 0.003336020060899158\n",
      "\tKorean: 0.0017229087452471483\n",
      "\tFinnish: 0.00289228966830197\n",
      "\tTurkish: 0.001519756838905775\n",
      "\tDanish: 0.0034892638036809814\n",
      "\tPortuguese: 0.0031001482679606416\n",
      "\tPolish: 0.0015647411657321686\n",
      "('DTfDT', 'NNfNN', 'NNfNN')\n",
      "\tEnglish: 0.002753895754970446\n",
      "\tKorean: 0.0032675855513307987\n",
      "\tFinnish: 0.0025993995753093653\n",
      "\tTurkish: 0.002079667253239482\n",
      "\tDanish: 0.003431748466257669\n",
      "\tPortuguese: 0.002560992047445747\n",
      "\tPolish: 0.0025557439040292083\n",
      "('PPfPP', 'VBPfVBP', 'VVGfVVG')\n",
      "\tEnglish: 0.002709116962206699\n",
      "\tKorean: 0.0005346958174904943\n",
      "\tFinnish: 0.0017207292963315516\n",
      "\tTurkish: 0.0018397056470964646\n",
      "\tDanish: 0.0022047546012269937\n",
      "\tPortuguese: 0.0013478905512872355\n",
      "\tPolish: 0.0019037684183074717\n",
      "('NNfNN', 'INfIN', 'NNfNN')\n",
      "\tEnglish: 0.0026867275658248252\n",
      "\tKorean: 0.0015446768060836502\n",
      "\tFinnish: 0.0022332869590686094\n",
      "\tTurkish: 0.0014397696368581027\n",
      "\tDanish: 0.0026265337423312884\n",
      "\tPortuguese: 0.0022240194096239383\n",
      "\tPolish: 0.002399269787455992\n",
      "('JJfJJ', 'NNfNN', 'INfIN')\n",
      "\tEnglish: 0.002597169980297331\n",
      "\tKorean: 0.0017229087452471483\n",
      "\tFinnish: 0.0022698982206926853\n",
      "\tTurkish: 0.002399616061430171\n",
      "\tDanish: 0.004083588957055215\n",
      "\tPortuguese: 0.002358808464752662\n",
      "\tPolish: 0.0022167166514539052\n",
      "('JJfJJ', 'NNfNN', 'PAfPA')\n",
      "\tEnglish: 0.002507612394769837\n",
      "\tKorean: 0.004812262357414449\n",
      "\tFinnish: 0.003514681115911254\n",
      "\tTurkish: 0.002799552071668533\n",
      "\tDanish: 0.0027607361963190185\n",
      "\tPortuguese: 0.00417846070899043\n",
      "\tPolish: 0.0027122180206024253\n",
      "('INfIN', 'PPfPP', 'VVPfVVP')\n",
      "\tEnglish: 0.0024852229983879635\n",
      "\tKorean: 0.0017229087452471483\n",
      "\tFinnish: 0.002343120743940836\n",
      "\tTurkish: 0.0022396416573348264\n",
      "\tDanish: 0.0025690184049079754\n",
      "\tPortuguese: 0.0031001482679606416\n",
      "\tPolish: 0.0013039509714434737\n",
      "('RBfRB', 'INfIN', 'DTfDT')\n",
      "\tEnglish: 0.0023956654128604693\n",
      "\tKorean: 0.0008911596958174905\n",
      "\tFinnish: 0.002452954528813063\n",
      "\tTurkish: 0.0017597184450487923\n",
      "\tDanish: 0.002032208588957055\n",
      "\tPortuguese: 0.0016848631891090444\n",
      "\tPolish: 0.0018516103794497328\n",
      "('TOfTO', 'VVfVV', 'INfIN')\n",
      "\tEnglish: 0.002373276016478596\n",
      "\tKorean: 0.0004158745247148289\n",
      "\tFinnish: 0.002123453174196383\n",
      "\tTurkish: 0.0015997440409534474\n",
      "\tDanish: 0.0017254601226993865\n",
      "\tPortuguese: 0.002089230354495215\n",
      "\tPolish: 0.0019559264571652104\n",
      "('INfIN', 'DTfDT', 'NNSfNNS')\n",
      "\tEnglish: 0.002373276016478596\n",
      "\tKorean: 0.0005346958174904943\n",
      "\tFinnish: 0.0032584022845427254\n",
      "\tTurkish: 0.0016797312430011197\n",
      "\tDanish: 0.0027799079754601227\n",
      "\tPortuguese: 0.003504515433346812\n",
      "\tPolish: 0.0025557439040292083\n",
      "('VVPfVVP', 'RBfRB', 'VVfVV')\n",
      "\tEnglish: 0.002328497223714849\n",
      "\tKorean: 0.0014258555133079848\n",
      "\tFinnish: 0.002013619389324156\n",
      "\tTurkish: 0.0015997440409534474\n",
      "\tDanish: 0.0014187116564417178\n",
      "\tPortuguese: 0.002358808464752662\n",
      "\tPolish: 0.0025557439040292083\n"
     ]
    }
   ],
   "source": [
    "for trigram in eng_freq.most_common(20):\n",
    "    trigram = trigram[0]\n",
    "    print(trigram)\n",
    "    \n",
    "    print(\"\\tEnglish: \" + str(eng_freq[trigram] / len(eng_tag_trigrams)))\n",
    "    print(\"\\tKorean: \" + str(kor_freq[trigram] / len(kor_tag_trigrams)))\n",
    "    print(\"\\tFinnish: \" + str(fin_freq[trigram] / len(fin_tag_trigrams)))\n",
    "    print(\"\\tTurkish: \" + str(tur_freq[trigram] / len(tur_tag_trigrams)))\n",
    "    print(\"\\tDanish: \" + str(dan_freq[trigram] / len(dan_tag_trigrams)))\n",
    "    print(\"\\tPortuguese: \" + str(por_freq[trigram] / len(por_tag_trigrams)))\n",
    "    print(\"\\tPolish: \" + str(pol_freq[trigram] / len(pol_tag_trigrams)))"
   ]
  },
  {
   "cell_type": "code",
   "execution_count": 101,
   "metadata": {},
   "outputs": [
    {
     "name": "stdout",
     "output_type": "stream",
     "text": [
      "('INfIN', 'DTfDT', 'NNfNN')\n",
      "\tKorean: 0.007010456273764259\n",
      "\tEnglish: 0.009448325273150636\n",
      "\tFinnish: 0.009592150545507798\n",
      "\tTurkish: 0.005439129739241722\n",
      "\tDanish: 0.009394171779141104\n",
      "\tPortuguese: 0.009030866693624478\n",
      "\tPolish: 0.009049419741817707\n",
      "('NNfNN', 'NNfNN', 'PAfPA')\n",
      "\tKorean: 0.006297528517110266\n",
      "\tEnglish: 0.0016568153322586423\n",
      "\tFinnish: 0.0024895657904371385\n",
      "\tTurkish: 0.0017597184450487923\n",
      "\tDanish: 0.002032208588957055\n",
      "\tPortuguese: 0.0018870467718021297\n",
      "\tPolish: 0.002529664884600339\n",
      "('DTfDT', 'NNfNN', 'PAfPA')\n",
      "\tKorean: 0.00528754752851711\n",
      "\tEnglish: 0.0038061973849185028\n",
      "\tFinnish: 0.004466573918137219\n",
      "\tTurkish: 0.0035994240921452566\n",
      "\tDanish: 0.004236963190184049\n",
      "\tPortuguese: 0.005526351260277665\n",
      "\tPolish: 0.0049550136914852\n",
      "('DTfDT', 'JJfJJ', 'NNfNN')\n",
      "\tKorean: 0.0051093155893536125\n",
      "\tEnglish: 0.006985491671144546\n",
      "\tFinnish: 0.006663249615581753\n",
      "\tTurkish: 0.004239321708526636\n",
      "\tDanish: 0.008052147239263804\n",
      "\tPortuguese: 0.005121984094891494\n",
      "\tPolish: 0.005502673099491459\n",
      "('JJfJJ', 'NNfNN', 'PAfPA')\n",
      "\tKorean: 0.004812262357414449\n",
      "\tEnglish: 0.002507612394769837\n",
      "\tFinnish: 0.003514681115911254\n",
      "\tTurkish: 0.002799552071668533\n",
      "\tDanish: 0.0027607361963190185\n",
      "\tPortuguese: 0.00417846070899043\n",
      "\tPolish: 0.0027122180206024253\n",
      "('DTfDT', 'NNfNN', 'INfIN')\n",
      "\tKorean: 0.004039923954372623\n",
      "\tEnglish: 0.007119828049435787\n",
      "\tFinnish: 0.007029362231822508\n",
      "\tTurkish: 0.004239321708526636\n",
      "\tDanish: 0.008397239263803681\n",
      "\tPortuguese: 0.006132902008356921\n",
      "\tPolish: 0.006493675837788499\n",
      "('PPfPP', 'MDfMD', 'VVfVV')\n",
      "\tKorean: 0.00374287072243346\n",
      "\tEnglish: 0.004992835393157801\n",
      "\tFinnish: 0.00388079373215201\n",
      "\tTurkish: 0.0029595264757638776\n",
      "\tDanish: 0.003853527607361963\n",
      "\tPortuguese: 0.00491980051219841\n",
      "\tPolish: 0.005320119963489372\n",
      "('NNfNN', 'PAfPA', 'UHfUH')\n",
      "\tKorean: 0.003683460076045627\n",
      "\tEnglish: 0.001186638008239298\n",
      "\tFinnish: 0.0010617265870981915\n",
      "\tTurkish: 0.002079667253239482\n",
      "\tDanish: 0.000843558282208589\n",
      "\tPortuguese: 0.0022914139371883004\n",
      "\tPolish: 0.0014604250880166905\n",
      "('DTfDT', 'NNfNN', 'NNfNN')\n",
      "\tKorean: 0.0032675855513307987\n",
      "\tEnglish: 0.002753895754970446\n",
      "\tFinnish: 0.0025993995753093653\n",
      "\tTurkish: 0.002079667253239482\n",
      "\tDanish: 0.003431748466257669\n",
      "\tPortuguese: 0.002560992047445747\n",
      "\tPolish: 0.0025557439040292083\n",
      "('PAfPA', 'UHfUH', 'PAfPA')\n",
      "\tKorean: 0.0032675855513307987\n",
      "\tEnglish: 0.0017015941250223894\n",
      "\tFinnish: 0.0017207292963315516\n",
      "\tTurkish: 0.0008798592225243961\n",
      "\tDanish: 0.0011119631901840492\n",
      "\tPortuguese: 0.002560992047445747\n",
      "\tPolish: 0.0018516103794497328\n",
      "('PAfPA', 'DTfDT', 'NNfNN')\n",
      "\tKorean: 0.003208174904942966\n",
      "\tEnglish: 0.0018807092960773778\n",
      "\tFinnish: 0.002343120743940836\n",
      "\tTurkish: 0.001919692849144137\n",
      "\tDanish: 0.0025881901840490796\n",
      "\tPortuguese: 0.00303275374039628\n",
      "\tPolish: 0.0018516103794497328\n",
      "('NNfNN', 'INfIN', 'DTfDT')\n",
      "\tKorean: 0.003208174904942966\n",
      "\tEnglish: 0.004813720222102812\n",
      "\tFinnish: 0.00611408069122062\n",
      "\tTurkish: 0.0035994240921452566\n",
      "\tDanish: 0.006077453987730061\n",
      "\tPortuguese: 0.004245855236554792\n",
      "\tPolish: 0.005528752118920329\n",
      "('NNfNN', 'PAfPA', 'INfIN')\n",
      "\tKorean: 0.0030893536121673003\n",
      "\tEnglish: 0.0017015941250223894\n",
      "\tFinnish: 0.0019037856044519293\n",
      "\tTurkish: 0.002399616061430171\n",
      "\tDanish: 0.0016679447852760735\n",
      "\tPortuguese: 0.0027631756301388327\n",
      "\tPolish: 0.0017733733211631243\n",
      "('INfIN', 'NPfNP', 'PAfPA')\n",
      "\tKorean: 0.0030893536121673003\n",
      "\tEnglish: 0.000985133440802436\n",
      "\tFinnish: 0.0012447828952185692\n",
      "\tTurkish: 0.0013597824348104304\n",
      "\tDanish: 0.001629601226993865\n",
      "\tPortuguese: 0.0016174686615446825\n",
      "\tPolish: 0.0013039509714434737\n",
      "('PAfPA', 'INfIN', 'DTfDT')\n",
      "\tKorean: 0.002792300380228137\n",
      "\tEnglish: 0.0022389396381873546\n",
      "\tFinnish: 0.00322179102291865\n",
      "\tTurkish: 0.0022396416573348264\n",
      "\tDanish: 0.0026265337423312884\n",
      "\tPortuguese: 0.003639304488475536\n",
      "\tPolish: 0.0027904550788890336\n",
      "('PPfPP', 'VVPfVVP', 'RBfRB')\n",
      "\tKorean: 0.002792300380228137\n",
      "\tEnglish: 0.0034703564391903993\n",
      "\tFinnish: 0.003990627517024237\n",
      "\tTurkish: 0.001919692849144137\n",
      "\tDanish: 0.002933282208588957\n",
      "\tPortuguese: 0.0037740935436042593\n",
      "\tPolish: 0.0037032207588994655\n",
      "('UHfUH', 'PAfPA', 'NNfNN')\n",
      "\tKorean: 0.002792300380228137\n",
      "\tEnglish: 0.0006492924950743328\n",
      "\tFinnish: 0.000585780185985209\n",
      "\tTurkish: 0.0009598464245720685\n",
      "\tDanish: 0.0003834355828220859\n",
      "\tPortuguese: 0.0010109179134654266\n",
      "\tPolish: 0.000599817446863998\n",
      "('DTfDT', 'UHfUH', 'PAfPA')\n",
      "\tKorean: 0.002732889733840304\n",
      "\tEnglish: 0.0004477879276374709\n",
      "\tFinnish: 0.001427839203338947\n",
      "\tTurkish: 0.00023996160614301711\n",
      "\tDanish: 0.00021088957055214724\n",
      "\tPortuguese: 0.000876128858336703\n",
      "\tPolish: 0.00044334333029078107\n",
      "('PAfPA', 'PPfPP', 'VVPfVVP')\n",
      "\tKorean: 0.002376425855513308\n",
      "\tEnglish: 0.0016344259358767688\n",
      "\tFinnish: 0.002343120743940836\n",
      "\tTurkish: 0.0016797312430011197\n",
      "\tDanish: 0.0018788343558282209\n",
      "\tPortuguese: 0.002965359212831918\n",
      "\tPolish: 0.0021906376320250357\n",
      "('NNfNN', 'PAfPA', 'CCfCC')\n",
      "\tKorean: 0.002376425855513308\n",
      "\tEnglish: 0.0013881425756761597\n",
      "\tFinnish: 0.0019037856044519293\n",
      "\tTurkish: 0.002719564869620861\n",
      "\tDanish: 0.0013803680981595093\n",
      "\tPortuguese: 0.0022240194096239383\n",
      "\tPolish: 0.002034163515451819\n"
     ]
    }
   ],
   "source": [
    "for trigram in kor_freq.most_common(20):\n",
    "    trigram = trigram[0]\n",
    "    print(trigram)\n",
    "    \n",
    "    print(\"\\tKorean: \" + str(kor_freq[trigram] / len(kor_tag_trigrams)))\n",
    "    print(\"\\tEnglish: \" + str(eng_freq[trigram] / len(eng_tag_trigrams)))\n",
    "    print(\"\\tFinnish: \" + str(fin_freq[trigram] / len(fin_tag_trigrams)))\n",
    "    print(\"\\tTurkish: \" + str(tur_freq[trigram] / len(tur_tag_trigrams)))\n",
    "    print(\"\\tDanish: \" + str(dan_freq[trigram] / len(dan_tag_trigrams)))\n",
    "    print(\"\\tPortuguese: \" + str(por_freq[trigram] / len(por_tag_trigrams)))\n",
    "    print(\"\\tPolish: \" + str(pol_freq[trigram] / len(pol_tag_trigrams)))"
   ]
  },
  {
   "cell_type": "code",
   "execution_count": 102,
   "metadata": {
    "scrolled": false
   },
   "outputs": [
    {
     "name": "stdout",
     "output_type": "stream",
     "text": [
      "('INfIN', 'DTfDT', 'NNfNN')\n",
      "\tFinnish: 0.009592150545507798\n",
      "\tEnglish: 0.009448325273150636\n",
      "\tKorean: 0.007010456273764259\n",
      "\tTurkish: 0.005439129739241722\n",
      "\tDanish: 0.009394171779141104\n",
      "\tPortuguese: 0.009030866693624478\n",
      "\tPolish: 0.009049419741817707\n",
      "('DTfDT', 'NNfNN', 'INfIN')\n",
      "\tFinnish: 0.007029362231822508\n",
      "\tEnglish: 0.007119828049435787\n",
      "\tKorean: 0.004039923954372623\n",
      "\tTurkish: 0.004239321708526636\n",
      "\tDanish: 0.008397239263803681\n",
      "\tPortuguese: 0.006132902008356921\n",
      "\tPolish: 0.006493675837788499\n",
      "('DTfDT', 'JJfJJ', 'NNfNN')\n",
      "\tFinnish: 0.006663249615581753\n",
      "\tEnglish: 0.006985491671144546\n",
      "\tKorean: 0.0051093155893536125\n",
      "\tTurkish: 0.004239321708526636\n",
      "\tDanish: 0.008052147239263804\n",
      "\tPortuguese: 0.005121984094891494\n",
      "\tPolish: 0.005502673099491459\n",
      "('NNfNN', 'INfIN', 'DTfDT')\n",
      "\tFinnish: 0.00611408069122062\n",
      "\tEnglish: 0.004813720222102812\n",
      "\tKorean: 0.003208174904942966\n",
      "\tTurkish: 0.0035994240921452566\n",
      "\tDanish: 0.006077453987730061\n",
      "\tPortuguese: 0.004245855236554792\n",
      "\tPolish: 0.005528752118920329\n",
      "('DTfDT', 'NNfNN', 'PAfPA')\n",
      "\tFinnish: 0.004466573918137219\n",
      "\tEnglish: 0.0038061973849185028\n",
      "\tKorean: 0.00528754752851711\n",
      "\tTurkish: 0.0035994240921452566\n",
      "\tDanish: 0.004236963190184049\n",
      "\tPortuguese: 0.005526351260277665\n",
      "\tPolish: 0.0049550136914852\n",
      "('PPfPP', 'VVPfVVP', 'RBfRB')\n",
      "\tFinnish: 0.003990627517024237\n",
      "\tEnglish: 0.0034703564391903993\n",
      "\tKorean: 0.002792300380228137\n",
      "\tTurkish: 0.001919692849144137\n",
      "\tDanish: 0.002933282208588957\n",
      "\tPortuguese: 0.0037740935436042593\n",
      "\tPolish: 0.0037032207588994655\n",
      "('INfIN', 'DTfDT', 'JJfJJ')\n",
      "\tFinnish: 0.00388079373215201\n",
      "\tEnglish: 0.003425577646426652\n",
      "\tKorean: 0.0016634980988593155\n",
      "\tTurkish: 0.002719564869620861\n",
      "\tDanish: 0.004332822085889571\n",
      "\tPortuguese: 0.0033697263782180888\n",
      "\tPolish: 0.0036510627200417264\n",
      "('PPfPP', 'MDfMD', 'VVfVV')\n",
      "\tFinnish: 0.00388079373215201\n",
      "\tEnglish: 0.004992835393157801\n",
      "\tKorean: 0.00374287072243346\n",
      "\tTurkish: 0.0029595264757638776\n",
      "\tDanish: 0.003853527607361963\n",
      "\tPortuguese: 0.00491980051219841\n",
      "\tPolish: 0.005320119963489372\n",
      "('INfIN', 'DTfDT', 'PAfPA')\n",
      "\tFinnish: 0.003624514900783481\n",
      "\tEnglish: 0.0019478774852229985\n",
      "\tKorean: 0.00219819391634981\n",
      "\tTurkish: 0.0017597184450487923\n",
      "\tDanish: 0.002530674846625767\n",
      "\tPortuguese: 0.002897964685267556\n",
      "\tPolish: 0.0024775068457426\n",
      "('JJfJJ', 'NNfNN', 'PAfPA')\n",
      "\tFinnish: 0.003514681115911254\n",
      "\tEnglish: 0.002507612394769837\n",
      "\tKorean: 0.004812262357414449\n",
      "\tTurkish: 0.002799552071668533\n",
      "\tDanish: 0.0027607361963190185\n",
      "\tPortuguese: 0.00417846070899043\n",
      "\tPolish: 0.0027122180206024253\n",
      "('INfIN', 'DTfDT', 'NNSfNNS')\n",
      "\tFinnish: 0.0032584022845427254\n",
      "\tEnglish: 0.002373276016478596\n",
      "\tKorean: 0.0005346958174904943\n",
      "\tTurkish: 0.0016797312430011197\n",
      "\tDanish: 0.0027799079754601227\n",
      "\tPortuguese: 0.003504515433346812\n",
      "\tPolish: 0.0025557439040292083\n",
      "('PAfPA', 'INfIN', 'DTfDT')\n",
      "\tFinnish: 0.00322179102291865\n",
      "\tEnglish: 0.0022389396381873546\n",
      "\tKorean: 0.002792300380228137\n",
      "\tTurkish: 0.0022396416573348264\n",
      "\tDanish: 0.0026265337423312884\n",
      "\tPortuguese: 0.003639304488475536\n",
      "\tPolish: 0.0027904550788890336\n",
      "('PPfPP', 'VVPfVVP', 'PPfPP')\n",
      "\tFinnish: 0.00289228966830197\n",
      "\tEnglish: 0.003336020060899158\n",
      "\tKorean: 0.0017229087452471483\n",
      "\tTurkish: 0.001519756838905775\n",
      "\tDanish: 0.0034892638036809814\n",
      "\tPortuguese: 0.0031001482679606416\n",
      "\tPolish: 0.0015647411657321686\n",
      "('DTfDT', 'NNfNN', 'NNfNN')\n",
      "\tFinnish: 0.0025993995753093653\n",
      "\tEnglish: 0.002753895754970446\n",
      "\tKorean: 0.0032675855513307987\n",
      "\tTurkish: 0.002079667253239482\n",
      "\tDanish: 0.003431748466257669\n",
      "\tPortuguese: 0.002560992047445747\n",
      "\tPolish: 0.0025557439040292083\n",
      "('PPfPP', 'VVPfVVP', 'INfIN')\n",
      "\tFinnish: 0.0025627883136852894\n",
      "\tEnglish: 0.0021046032598961133\n",
      "\tKorean: 0.001960551330798479\n",
      "\tTurkish: 0.002159654455287154\n",
      "\tDanish: 0.0017254601226993865\n",
      "\tPortuguese: 0.002695781102574471\n",
      "\tPolish: 0.0025557439040292083\n",
      "('PPfPP', 'VBSfVBS', 'RBfRB')\n",
      "\tFinnish: 0.0025627883136852894\n",
      "\tEnglish: 0.003380798853662905\n",
      "\tKorean: 0.001960551330798479\n",
      "\tTurkish: 0.0014397696368581027\n",
      "\tDanish: 0.0022622699386503067\n",
      "\tPortuguese: 0.0022240194096239383\n",
      "\tPolish: 0.002242795670882775\n",
      "('NNfNN', 'NNfNN', 'PAfPA')\n",
      "\tFinnish: 0.0024895657904371385\n",
      "\tEnglish: 0.0016568153322586423\n",
      "\tKorean: 0.006297528517110266\n",
      "\tTurkish: 0.0017597184450487923\n",
      "\tDanish: 0.002032208588957055\n",
      "\tPortuguese: 0.0018870467718021297\n",
      "\tPolish: 0.002529664884600339\n",
      "('RBfRB', 'INfIN', 'DTfDT')\n",
      "\tFinnish: 0.002452954528813063\n",
      "\tEnglish: 0.0023956654128604693\n",
      "\tKorean: 0.0008911596958174905\n",
      "\tTurkish: 0.0017597184450487923\n",
      "\tDanish: 0.002032208588957055\n",
      "\tPortuguese: 0.0016848631891090444\n",
      "\tPolish: 0.0018516103794497328\n",
      "('RBfRB', 'RBfRB', 'PAfPA')\n",
      "\tFinnish: 0.002416343267188987\n",
      "\tEnglish: 0.0018359305033136307\n",
      "\tKorean: 0.0017229087452471483\n",
      "\tTurkish: 0.0017597184450487923\n",
      "\tDanish: 0.002013036809815951\n",
      "\tPortuguese: 0.002358808464752662\n",
      "\tPolish: 0.00198200547659408\n",
      "('PPfPP', 'MDfMD', 'RBfRB')\n",
      "\tFinnish: 0.002343120743940836\n",
      "\tEnglish: 0.0021717714490417338\n",
      "\tKorean: 0.0007129277566539924\n",
      "\tTurkish: 0.0012797952327627579\n",
      "\tDanish: 0.0027607361963190185\n",
      "\tPortuguese: 0.0014152850788515972\n",
      "\tPolish: 0.002086321554309558\n"
     ]
    }
   ],
   "source": [
    "for trigram in fin_freq.most_common(20):\n",
    "    trigram = trigram[0]\n",
    "    print(trigram)\n",
    "    \n",
    "    print(\"\\tFinnish: \" + str(fin_freq[trigram] / len(fin_tag_trigrams)))\n",
    "    print(\"\\tEnglish: \" + str(eng_freq[trigram] / len(eng_tag_trigrams)))\n",
    "    print(\"\\tKorean: \" + str(kor_freq[trigram] / len(kor_tag_trigrams)))\n",
    "    print(\"\\tTurkish: \" + str(tur_freq[trigram] / len(tur_tag_trigrams)))\n",
    "    print(\"\\tDanish: \" + str(dan_freq[trigram] / len(dan_tag_trigrams)))\n",
    "    print(\"\\tPortuguese: \" + str(por_freq[trigram] / len(por_tag_trigrams)))\n",
    "    print(\"\\tPolish: \" + str(pol_freq[trigram] / len(pol_tag_trigrams)))"
   ]
  },
  {
   "cell_type": "code",
   "execution_count": 127,
   "metadata": {},
   "outputs": [
    {
     "ename": "SyntaxError",
     "evalue": "unexpected EOF while parsing (<ipython-input-127-4e5b80d92e6a>, line 6)",
     "output_type": "error",
     "traceback": [
      "\u001b[0;36m  File \u001b[0;32m\"<ipython-input-127-4e5b80d92e6a>\"\u001b[0;36m, line \u001b[0;32m6\u001b[0m\n\u001b[0;31m    avg = avg + (dan_freq[trigram] / len(dan_tag_trigrams)\u001b[0m\n\u001b[0m                                                          ^\u001b[0m\n\u001b[0;31mSyntaxError\u001b[0m\u001b[0;31m:\u001b[0m unexpected EOF while parsing\n"
     ]
    }
   ],
   "source": [
    "for trigram in eng_freq.most_common(100):\n",
    "    avg = 0\n",
    "    avg = avg + (kor_freq[trigram] / len(kor_tag_trigrams)) \n",
    "    avg = avg + (fin_freq[trigram] / len(fin_tag_trigrams))\n",
    "    avg = avg + (tur_freq[trigram] / len(tur_tag_trigrams)) \n",
    "    avg = avg + (dan_freq[trigram] / len(dan_tag_trigrams)"
   ]
  },
  {
   "cell_type": "code",
   "execution_count": 162,
   "metadata": {},
   "outputs": [],
   "source": [
    "more_common = {}\n",
    "less_common = {}\n",
    "\n",
    "for trigram in eng_freq:\n",
    "    #trigram = trigram[0]\n",
    "    \n",
    "    avg = 0\n",
    "    avg = avg + (kor_freq[trigram] / len(kor_tag_trigrams))\n",
    "    avg = avg + (fin_freq[trigram] / len(fin_tag_trigrams))\n",
    "    avg = avg + (tur_freq[trigram] / len(tur_tag_trigrams))\n",
    "    avg = avg + (dan_freq[trigram] / len(dan_tag_trigrams))\n",
    "    avg = avg + (por_freq[trigram] / len(por_tag_trigrams))\n",
    "    avg = avg + (pol_freq[trigram] / len(pol_tag_trigrams))\n",
    "    \n",
    "    avg /= 6\n",
    "    \n",
    "    eng_percent = (eng_freq[trigram] / len(eng_tag_trigrams))\n",
    "    if eng_percent > (avg * 2) and eng_freq[trigram] > 5:\n",
    "        more_common[trigram] = eng_freq[trigram]\n",
    "        \n",
    "        \n",
    "    if eng_percent < (avg * 0.5) and eng_freq[trigram] > 5:\n",
    "        less_common[trigram] = eng_freq[trigram]"
   ]
  },
  {
   "cell_type": "code",
   "execution_count": 171,
   "metadata": {},
   "outputs": [
    {
     "name": "stdout",
     "output_type": "stream",
     "text": [
      "('PPfPP', 'VHPfVHP', 'VVNfVVN')\n",
      "\tEnglish: 0.0018807092960773778\n",
      "\tFinnish: 0.0007322252324815113\n",
      "\tKorean: 0.0004752851711026616\n",
      "\tTurkish: 0.0005599104143337066\n",
      "\tDanish: 0.0010927914110429448\n",
      "\tPortuguese: 0.0003369726378218089\n",
      "\tPolish: 0.001147476854870257\n",
      "('PPfPP', 'VBSfVBS', 'DTfDT')\n",
      "\tEnglish: 0.0018807092960773778\n",
      "\tFinnish: 0.0010251153254741158\n",
      "\tKorean: 0.000594106463878327\n",
      "\tTurkish: 0.00047992321228603423\n",
      "\tDanish: 0.0017446319018404907\n",
      "\tPortuguese: 0.0009435233859010648\n",
      "\tPolish: 0.0006780545051506063\n",
      "('VVGfVVG', 'TOfTO', 'VVfVV')\n",
      "\tEnglish: 0.0016568153322586423\n",
      "\tFinnish: 0.0010251153254741158\n",
      "\tKorean: 0.0001782319391634981\n",
      "\tTurkish: 0.001039833626619741\n",
      "\tDanish: 0.0009969325153374234\n",
      "\tPortuguese: 0.0007413398032079795\n",
      "\tPolish: 0.0009388446994393011\n",
      "('INfIN', 'PPfPP', 'VBSfVBS')\n",
      "\tEnglish: 0.0013657531792942862\n",
      "\tFinnish: 0.0008786702789778135\n",
      "\tKorean: 0.0002376425855513308\n",
      "\tTurkish: 0.00023996160614301711\n",
      "\tDanish: 0.0006901840490797546\n",
      "\tPortuguese: 0.000876128858336703\n",
      "\tPolish: 0.0008866866605815621\n",
      "('VBSfVBS', 'DTfDT', 'JJfJJ')\n",
      "\tEnglish: 0.0012090274046211713\n",
      "\tFinnish: 0.0006223914476092846\n",
      "\tKorean: 0.0002970532319391635\n",
      "\tTurkish: 0.00015997440409534473\n",
      "\tDanish: 0.0013995398773006134\n",
      "\tPortuguese: 0.0006739452756436178\n",
      "\tPolish: 0.00039118529143304214\n",
      "('PPfPP', 'VBDfVBD', 'VVGfVVG')\n",
      "\tEnglish: 0.001186638008239298\n",
      "\tFinnish: 0.00021966756974445338\n",
      "\tKorean: 5.94106463878327e-05\n",
      "\tTurkish: 0.00015997440409534473\n",
      "\tDanish: 0.0004026073619631902\n",
      "\tPortuguese: 0.0010109179134654266\n",
      "\tPolish: 0.00044334333029078107\n",
      "('VBPfVBP', 'VVGfVVG', 'INfIN')\n",
      "\tEnglish: 0.0011418592154755509\n",
      "\tFinnish: 0.0008420590173537381\n",
      "\tKorean: 5.94106463878327e-05\n",
      "\tTurkish: 0.0005599104143337066\n",
      "\tDanish: 0.000517638036809816\n",
      "\tPortuguese: 0.000606550748079256\n",
      "\tPolish: 0.0006780545051506063\n",
      "('VBSfVBS', 'RBfRB', 'RBfRB')\n",
      "\tEnglish: 0.0010523016299480567\n",
      "\tFinnish: 0.0006590027092333602\n",
      "\tKorean: 0.0001782319391634981\n",
      "\tTurkish: 0.00039993601023836185\n",
      "\tDanish: 0.0006326687116564418\n",
      "\tPortuguese: 0.0006739452756436178\n",
      "\tPolish: 0.00018255313600208631\n",
      "('DTfDT', 'VBSfVBS', 'RBfRB')\n",
      "\tEnglish: 0.0010523016299480567\n",
      "\tFinnish: 0.000585780185985209\n",
      "\tKorean: 0.0002376425855513308\n",
      "\tTurkish: 7.998720204767237e-05\n",
      "\tDanish: 0.0007093558282208589\n",
      "\tPortuguese: 0.0\n",
      "\tPolish: 0.00033902725257530317\n",
      "('INfIN', 'NNSfNNS', 'INfIN')\n",
      "\tEnglish: 0.0008284076661293212\n",
      "\tFinnish: 0.00018305630812037784\n",
      "\tKorean: 5.94106463878327e-05\n",
      "\tTurkish: 0.00039993601023836185\n",
      "\tDanish: 0.000517638036809816\n",
      "\tPortuguese: 0.0008087343307723412\n",
      "\tPolish: 0.00033902725257530317\n"
     ]
    }
   ],
   "source": [
    "for trigram in sorted(more_common, key=more_common.get, reverse=True)[:10]:\n",
    "    print(trigram)\n",
    "    \n",
    "    print(\"\\tEnglish: \" + str(eng_freq[trigram] / len(eng_tag_trigrams)))\n",
    "    print(\"\\tFinnish: \" + str(fin_freq[trigram] / len(fin_tag_trigrams)))\n",
    "    print(\"\\tKorean: \" + str(kor_freq[trigram] / len(kor_tag_trigrams)))\n",
    "    print(\"\\tTurkish: \" + str(tur_freq[trigram] / len(tur_tag_trigrams)))\n",
    "    print(\"\\tDanish: \" + str(dan_freq[trigram] / len(dan_tag_trigrams)))\n",
    "    print(\"\\tPortuguese: \" + str(por_freq[trigram] / len(por_tag_trigrams)))\n",
    "    print(\"\\tPolish: \" + str(pol_freq[trigram] / len(pol_tag_trigrams)))"
   ]
  },
  {
   "cell_type": "code",
   "execution_count": 173,
   "metadata": {},
   "outputs": [
    {
     "name": "stdout",
     "output_type": "stream",
     "text": [
      "('DTfDT', 'NNSfNNS', 'PAfPA')\n",
      "\tEnglish: 0.000738850080601827\n",
      "\tFinnish: 0.0014644504649630227\n",
      "\tKorean: 0.0008911596958174905\n",
      "\tTurkish: 0.0019996800511918092\n",
      "\tDanish: 0.0009585889570552147\n",
      "\tPortuguese: 0.002426202992317024\n",
      "\tPolish: 0.0015125831268744294\n",
      "('PAfPA', 'NNfNN', 'PAfPA')\n",
      "\tEnglish: 0.0006045137023105857\n",
      "\tFinnish: 0.0007688364941055869\n",
      "\tKorean: 0.0022576045627376424\n",
      "\tTurkish: 0.0016797312430011197\n",
      "\tDanish: 0.0007860429447852761\n",
      "\tPortuguese: 0.0010109179134654266\n",
      "\tPolish: 0.0010170817577259096\n",
      "('PAfPA', 'RBfRB', 'RBfRB')\n",
      "\tEnglish: 0.0005821243059287122\n",
      "\tFinnish: 0.0015742842498352493\n",
      "\tKorean: 0.0013070342205323193\n",
      "\tTurkish: 0.001039833626619741\n",
      "\tDanish: 0.0015145705521472392\n",
      "\tPortuguese: 0.0013478905512872355\n",
      "\tPolish: 0.0009388446994393011\n",
      "('PAfPA', 'JJfJJ', 'NNfNN')\n",
      "\tEnglish: 0.0005597349095468387\n",
      "\tFinnish: 0.0009885040638500403\n",
      "\tKorean: 0.00219819391634981\n",
      "\tTurkish: 0.0014397696368581027\n",
      "\tDanish: 0.0009010736196319018\n",
      "\tPortuguese: 0.0010109179134654266\n",
      "\tPolish: 0.0008866866605815621\n",
      "('DTfDT', 'PAfPA', 'NNfNN')\n",
      "\tEnglish: 0.0005373455131649651\n",
      "\tFinnish: 0.0015010617265870981\n",
      "\tKorean: 0.0014852661596958174\n",
      "\tTurkish: 0.0019996800511918092\n",
      "\tDanish: 0.000977760736196319\n",
      "\tPortuguese: 0.0007413398032079795\n",
      "\tPolish: 0.0008084496022949537\n",
      "('UHfUH', 'INfIN', 'DTfDT')\n",
      "\tEnglish: 0.000492566720401218\n",
      "\tFinnish: 0.0009518928022259647\n",
      "\tKorean: 0.001366444866920152\n",
      "\tTurkish: 0.0015997440409534474\n",
      "\tDanish: 0.0007860429447852761\n",
      "\tPortuguese: 0.0013478905512872355\n",
      "\tPolish: 0.0011213978354413874\n",
      "('RBfRB', 'PAfPA', 'UHfUH')\n",
      "\tEnglish: 0.00047017732401934446\n",
      "\tFinnish: 0.0008054477557296625\n",
      "\tKorean: 0.0008911596958174905\n",
      "\tTurkish: 0.0011998080307150855\n",
      "\tDanish: 0.0004409509202453988\n",
      "\tPortuguese: 0.0015500741339803208\n",
      "\tPolish: 0.0007823705828660843\n",
      "('PAfPA', 'CCfCC', 'UHfUH')\n",
      "\tEnglish: 0.0004477879276374709\n",
      "\tFinnish: 0.0008786702789778135\n",
      "\tKorean: 0.0009505703422053232\n",
      "\tTurkish: 0.0018397056470964646\n",
      "\tDanish: 0.0005943251533742332\n",
      "\tPortuguese: 0.0009435233859010648\n",
      "\tPolish: 0.0005737384274351285\n",
      "('REfRE', 'REfRE', 'REfRE')\n",
      "\tEnglish: 0.0004477879276374709\n",
      "\tFinnish: 0.0006223914476092846\n",
      "\tKorean: 0.001188212927756654\n",
      "\tTurkish: 0.00031994880819068947\n",
      "\tDanish: 0.0006710122699386503\n",
      "\tPortuguese: 0.0010109179134654266\n",
      "\tPolish: 0.0018255313600208632\n",
      "('DTfDT', 'UHfUH', 'PAfPA')\n",
      "\tEnglish: 0.0004477879276374709\n",
      "\tFinnish: 0.001427839203338947\n",
      "\tKorean: 0.002732889733840304\n",
      "\tTurkish: 0.00023996160614301711\n",
      "\tDanish: 0.00021088957055214724\n",
      "\tPortuguese: 0.000876128858336703\n",
      "\tPolish: 0.00044334333029078107\n"
     ]
    }
   ],
   "source": [
    "for trigram in sorted(less_common, key=less_common.get, reverse=True)[:10]:\n",
    "    print(trigram)\n",
    "    print(\"\\tEnglish: \" + str(eng_freq[trigram] / len(eng_tag_trigrams)))\n",
    "    print(\"\\tFinnish: \" + str(fin_freq[trigram] / len(fin_tag_trigrams)))\n",
    "    print(\"\\tKorean: \" + str(kor_freq[trigram] / len(kor_tag_trigrams)))\n",
    "    print(\"\\tTurkish: \" + str(tur_freq[trigram] / len(tur_tag_trigrams)))\n",
    "    print(\"\\tDanish: \" + str(dan_freq[trigram] / len(dan_tag_trigrams)))\n",
    "    print(\"\\tPortuguese: \" + str(por_freq[trigram] / len(por_tag_trigrams)))\n",
    "    print(\"\\tPolish: \" + str(pol_freq[trigram] / len(pol_tag_trigrams)))"
   ]
  },
  {
   "cell_type": "code",
   "execution_count": null,
   "metadata": {
    "collapsed": true
   },
   "outputs": [],
   "source": []
  },
  {
   "cell_type": "code",
   "execution_count": 295,
   "metadata": {},
   "outputs": [],
   "source": [
    "def get_discourse_markers(speech):\n",
    "    dm_list = []\n",
    "    markers = [[t for t in u if t[1] == \"DMfDM\"] for u in speech]\n",
    "    for m in markers:\n",
    "        dm_list.extend(m)\n",
    "        \n",
    "    #return dm_list\n",
    "    return dm_list"
   ]
  },
  {
   "cell_type": "code",
   "execution_count": 296,
   "metadata": {},
   "outputs": [],
   "source": [
    "eng_dm = get_discourse_markers(eng_speech)\n",
    "kor_dm = get_discourse_markers(kor_speech)\n",
    "fin_dm = get_discourse_markers(fin_speech)\n",
    "tur_dm = get_discourse_markers(tur_speech)\n",
    "dan_dm = get_discourse_markers(dan_speech)\n",
    "por_dm = get_discourse_markers(por_speech)\n",
    "pol_dm = get_discourse_markers(pol_speech)"
   ]
  },
  {
   "cell_type": "code",
   "execution_count": 297,
   "metadata": {},
   "outputs": [],
   "source": [
    "def get_dm_percent(speech, dm_list):\n",
    "    total = 0\n",
    "    for u in speech:\n",
    "        total += len(u)\n",
    "    \n",
    "    return len(dm_list)/total"
   ]
  },
  {
   "cell_type": "code",
   "execution_count": 298,
   "metadata": {},
   "outputs": [
    {
     "data": {
      "text/plain": [
       "0.01425064047822374"
      ]
     },
     "execution_count": 298,
     "metadata": {},
     "output_type": "execute_result"
    },
    {
     "data": {
      "text/plain": [
       "0.01322858819811278"
      ]
     },
     "execution_count": 298,
     "metadata": {},
     "output_type": "execute_result"
    },
    {
     "data": {
      "text/plain": [
       "0.01228812339923451"
      ]
     },
     "execution_count": 298,
     "metadata": {},
     "output_type": "execute_result"
    },
    {
     "data": {
      "text/plain": [
       "0.010293102366158288"
      ]
     },
     "execution_count": 298,
     "metadata": {},
     "output_type": "execute_result"
    },
    {
     "data": {
      "text/plain": [
       "0.012870197598201042"
      ]
     },
     "execution_count": 298,
     "metadata": {},
     "output_type": "execute_result"
    },
    {
     "data": {
      "text/plain": [
       "0.008287292817679558"
      ]
     },
     "execution_count": 298,
     "metadata": {},
     "output_type": "execute_result"
    },
    {
     "data": {
      "text/plain": [
       "0.017388458155186876"
      ]
     },
     "execution_count": 298,
     "metadata": {},
     "output_type": "execute_result"
    }
   ],
   "source": [
    "get_dm_percent(eng_speech, eng_dm)\n",
    "get_dm_percent(kor_speech, kor_dm)\n",
    "get_dm_percent(fin_speech, fin_dm)\n",
    "get_dm_percent(tur_speech, tur_dm)\n",
    "get_dm_percent(dan_speech, dan_dm)\n",
    "get_dm_percent(por_speech, por_dm)\n",
    "get_dm_percent(pol_speech, pol_dm)"
   ]
  },
  {
   "cell_type": "code",
   "execution_count": 299,
   "metadata": {
    "collapsed": true
   },
   "outputs": [],
   "source": [
    "eng_dm_words = [dm[0].replace('\\n', '') for dm in eng_dm]\n",
    "kor_dm_words = [dm[0].replace('\\n', '') for dm in kor_dm]\n",
    "fin_dm_words = [dm[0].replace('\\n', '') for dm in fin_dm]\n",
    "tur_dm_words = [dm[0].replace('\\n', '') for dm in tur_dm]\n",
    "dan_dm_words = [dm[0].replace('\\n', '') for dm in dan_dm]\n",
    "por_dm_words = [dm[0].replace('\\n', '') for dm in por_dm]\n",
    "pol_dm_words = [dm[0].replace('\\n', '') for dm in pol_dm]"
   ]
  },
  {
   "cell_type": "code",
   "execution_count": 300,
   "metadata": {},
   "outputs": [
    {
     "data": {
      "text/plain": [
       "FreqDist({'like': 202,\n",
       "          'look': 1,\n",
       "          'right': 50,\n",
       "          'so': 419,\n",
       "          'well': 116,\n",
       "          'whatever': 13})"
      ]
     },
     "execution_count": 300,
     "metadata": {},
     "output_type": "execute_result"
    }
   ],
   "source": [
    "eng_dm_freqs = nltk.FreqDist(eng_dm_words)\n",
    "eng_dm_freqs"
   ]
  },
  {
   "cell_type": "code",
   "execution_count": 301,
   "metadata": {},
   "outputs": [
    {
     "data": {
      "text/plain": [
       "FreqDist({'like': 55, 'right': 33, 'so': 174, 'well': 27, 'whatever': 4})"
      ]
     },
     "execution_count": 301,
     "metadata": {},
     "output_type": "execute_result"
    }
   ],
   "source": [
    "kor_dm_freqs = nltk.FreqDist(kor_dm_words)\n",
    "kor_dm_freqs"
   ]
  },
  {
   "cell_type": "code",
   "execution_count": 302,
   "metadata": {},
   "outputs": [
    {
     "data": {
      "text/plain": [
       "FreqDist({'like': 111, 'right': 10, 'so': 226, 'well': 72, 'whatever': 8})"
      ]
     },
     "execution_count": 302,
     "metadata": {},
     "output_type": "execute_result"
    }
   ],
   "source": [
    "fin_dm_freqs = nltk.FreqDist(fin_dm_words)\n",
    "fin_dm_freqs"
   ]
  },
  {
   "cell_type": "code",
   "execution_count": 303,
   "metadata": {},
   "outputs": [
    {
     "data": {
      "text/plain": [
       "FreqDist({'like': 16, 'right': 15, 'so': 119, 'well': 13, 'whatever': 1})"
      ]
     },
     "execution_count": 303,
     "metadata": {},
     "output_type": "execute_result"
    }
   ],
   "source": [
    "tur_dm_freqs = nltk.FreqDist(tur_dm_words)\n",
    "tur_dm_freqs"
   ]
  },
  {
   "cell_type": "code",
   "execution_count": 304,
   "metadata": {},
   "outputs": [
    {
     "data": {
      "text/plain": [
       "FreqDist({'like': 125, 'right': 30, 'so': 499, 'well': 137, 'whatever': 16})"
      ]
     },
     "execution_count": 304,
     "metadata": {},
     "output_type": "execute_result"
    }
   ],
   "source": [
    "dan_dm_freqs = nltk.FreqDist(dan_dm_words)\n",
    "dan_dm_freqs"
   ]
  },
  {
   "cell_type": "code",
   "execution_count": 305,
   "metadata": {},
   "outputs": [
    {
     "data": {
      "text/plain": [
       "FreqDist({'like': 18, 'right': 3, 'so': 114, 'well': 15, 'whatever': 3})"
      ]
     },
     "execution_count": 305,
     "metadata": {},
     "output_type": "execute_result"
    }
   ],
   "source": [
    "por_dm_freqs = nltk.FreqDist(por_dm_words)\n",
    "por_dm_freqs"
   ]
  },
  {
   "cell_type": "code",
   "execution_count": 306,
   "metadata": {},
   "outputs": [
    {
     "data": {
      "text/plain": [
       "FreqDist({'like': 265,\n",
       "          'look': 1,\n",
       "          'right': 40,\n",
       "          'so': 450,\n",
       "          'well': 66,\n",
       "          'whatever': 28})"
      ]
     },
     "execution_count": 306,
     "metadata": {},
     "output_type": "execute_result"
    }
   ],
   "source": [
    "pol_dm_freqs = nltk.FreqDist(pol_dm_words)\n",
    "pol_dm_freqs"
   ]
  },
  {
   "cell_type": "code",
   "execution_count": 309,
   "metadata": {
    "collapsed": true
   },
   "outputs": [],
   "source": [
    "def get_word_count(speech):\n",
    "    total = 0\n",
    "    for u in speech:\n",
    "        total += len(u)\n",
    "    return total"
   ]
  },
  {
   "cell_type": "code",
   "execution_count": 313,
   "metadata": {},
   "outputs": [
    {
     "name": "stdout",
     "output_type": "stream",
     "text": [
      "so\n",
      "\tEnglish: 0.00745445488186735\n",
      "\tFinnish: 0.0065037842815620596\n",
      "\tKorean: 0.00785588514154138\n",
      "\tTurkish: 0.007468775497395343\n",
      "\tDanish: 0.007958151922555539\n",
      "\tPortuguese: 0.006174845628859279\n",
      "\tPolish: 0.009205654317451874\n",
      "well\n",
      "\tEnglish: 0.00206376316538571\n",
      "\tFinnish: 0.002072002072002072\n",
      "\tKorean: 0.001219016659894352\n",
      "\tTurkish: 0.0008159166509759618\n",
      "\tDanish: 0.002184903433647513\n",
      "\tPortuguese: 0.0008124796880077998\n",
      "\tPolish: 0.001350162633226275\n",
      "like\n",
      "\tEnglish: 0.0035937944776544264\n",
      "\tFinnish: 0.003194336527669861\n",
      "\tKorean: 0.002483182084969976\n",
      "\tTurkish: 0.0010042051088934914\n",
      "\tDanish: 0.0019935250307002855\n",
      "\tPortuguese: 0.0009749756256093598\n",
      "\tPolish: 0.005421107542499437\n",
      "right\n",
      "\tEnglish: 0.0008895530885283234\n",
      "\tFinnish: 0.00028777806555584334\n",
      "\tKorean: 0.0014899092509819856\n",
      "\tTurkish: 0.0009414422895876483\n",
      "\tDanish: 0.0004784460073680685\n",
      "\tPortuguese: 0.00016249593760155997\n",
      "\tPolish: 0.0008182803837735\n",
      "whatever\n",
      "\tEnglish: 0.00023128380301736407\n",
      "\tFinnish: 0.00023022245244467467\n",
      "\tKorean: 0.00018059506072508916\n",
      "\tTurkish: 6.276281930584321e-05\n",
      "\tDanish: 0.0002551712039296365\n",
      "\tPortuguese: 0.00016249593760155997\n",
      "\tPolish: 0.00057279626864145\n",
      "look\n",
      "\tEnglish: 1.779106177056647e-05\n",
      "\tFinnish: 0.0\n",
      "\tKorean: 0.0\n",
      "\tTurkish: 0.0\n",
      "\tDanish: 0.0\n",
      "\tPortuguese: 0.0\n",
      "\tPolish: 2.04570095943375e-05\n"
     ]
    }
   ],
   "source": [
    "for dm in eng_dm_freqs:\n",
    "    print(dm)\n",
    "    print(\"\\tEnglish: \" + str(eng_dm_freqs[dm] / get_word_count(eng_speech)))\n",
    "    print(\"\\tFinnish: \" + str(fin_dm_freqs[dm] / get_word_count(fin_speech)))\n",
    "    print(\"\\tKorean: \" + str(kor_dm_freqs[dm] / get_word_count(kor_speech)))\n",
    "    print(\"\\tTurkish: \" + str(tur_dm_freqs[dm] / get_word_count(tur_speech)))\n",
    "    print(\"\\tDanish: \" + str(dan_dm_freqs[dm] / get_word_count(dan_speech)))\n",
    "    print(\"\\tPortuguese: \" + str(por_dm_freqs[dm] / get_word_count(por_speech)))\n",
    "    print(\"\\tPolish: \" + str(pol_dm_freqs[dm] / get_word_count(pol_speech)))"
   ]
  },
  {
   "cell_type": "code",
   "execution_count": 315,
   "metadata": {},
   "outputs": [
    {
     "name": "stdout",
     "output_type": "stream",
     "text": [
      "so\n",
      "\tEnglish: 0.5230961298377028\n",
      "\tFinnish: 0.5292740046838408\n",
      "\tKorean: 0.5938566552901023\n",
      "\tTurkish: 0.725609756097561\n",
      "\tDanish: 0.6183395291201983\n",
      "\tPortuguese: 0.7450980392156863\n",
      "\tPolish: 0.5294117647058824\n",
      "well\n",
      "\tEnglish: 0.14481897627965043\n",
      "\tFinnish: 0.1686182669789227\n",
      "\tKorean: 0.09215017064846416\n",
      "\tTurkish: 0.07926829268292683\n",
      "\tDanish: 0.1697645600991326\n",
      "\tPortuguese: 0.09803921568627451\n",
      "\tPolish: 0.07764705882352942\n",
      "like\n",
      "\tEnglish: 0.25218476903870163\n",
      "\tFinnish: 0.25995316159250587\n",
      "\tKorean: 0.18771331058020477\n",
      "\tTurkish: 0.0975609756097561\n",
      "\tDanish: 0.15489467162329615\n",
      "\tPortuguese: 0.11764705882352941\n",
      "\tPolish: 0.31176470588235294\n",
      "right\n",
      "\tEnglish: 0.062421972534332085\n",
      "\tFinnish: 0.0234192037470726\n",
      "\tKorean: 0.11262798634812286\n",
      "\tTurkish: 0.09146341463414634\n",
      "\tDanish: 0.03717472118959108\n",
      "\tPortuguese: 0.0196078431372549\n",
      "\tPolish: 0.047058823529411764\n",
      "whatever\n",
      "\tEnglish: 0.016229712858926344\n",
      "\tFinnish: 0.01873536299765808\n",
      "\tKorean: 0.013651877133105802\n",
      "\tTurkish: 0.006097560975609756\n",
      "\tDanish: 0.01982651796778191\n",
      "\tPortuguese: 0.0196078431372549\n",
      "\tPolish: 0.03294117647058824\n",
      "look\n",
      "\tEnglish: 0.0012484394506866417\n",
      "\tFinnish: 0.0\n",
      "\tKorean: 0.0\n",
      "\tTurkish: 0.0\n",
      "\tDanish: 0.0\n",
      "\tPortuguese: 0.0\n",
      "\tPolish: 0.001176470588235294\n"
     ]
    }
   ],
   "source": [
    "for dm in eng_dm_freqs:\n",
    "    print(dm)\n",
    "    print(\"\\tEnglish: \" + str(eng_dm_freqs[dm] / len(eng_dm_words)))\n",
    "    print(\"\\tFinnish: \" + str(fin_dm_freqs[dm] / len(fin_dm_words)))\n",
    "    print(\"\\tKorean: \" + str(kor_dm_freqs[dm] / len(kor_dm_words)))\n",
    "    print(\"\\tTurkish: \" + str(tur_dm_freqs[dm] / len(tur_dm_words)))\n",
    "    print(\"\\tDanish: \" + str(dan_dm_freqs[dm] / len(dan_dm_words)))\n",
    "    print(\"\\tPortuguese: \" + str(por_dm_freqs[dm] / len(por_dm_words)))\n",
    "    print(\"\\tPolish: \" + str(pol_dm_freqs[dm] / len(pol_dm_words)))"
   ]
  },
  {
   "cell_type": "code",
   "execution_count": null,
   "metadata": {
    "collapsed": true
   },
   "outputs": [],
   "source": []
  }
 ],
 "metadata": {
  "kernelspec": {
   "display_name": "Python 3",
   "language": "python",
   "name": "python3"
  },
  "language_info": {
   "codemirror_mode": {
    "name": "ipython",
    "version": 3
   },
   "file_extension": ".py",
   "mimetype": "text/x-python",
   "name": "python",
   "nbconvert_exporter": "python",
   "pygments_lexer": "ipython3",
   "version": "3.6.1"
  }
 },
 "nbformat": 4,
 "nbformat_minor": 2
}
