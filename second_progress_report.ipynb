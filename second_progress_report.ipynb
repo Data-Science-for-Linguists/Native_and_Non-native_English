{
 "cells": [
  {
   "cell_type": "markdown",
   "metadata": {},
   "source": [
    "Katherine Kairis, kak275@pitt.edu, 11/2/2017"
   ]
  },
  {
   "cell_type": "markdown",
   "metadata": {},
   "source": [
    "NEW CONTINUING -- This file, in addition to BNC_data and VOICE_data, continues upon the first progress report"
   ]
  },
  {
   "cell_type": "code",
   "execution_count": 1,
   "metadata": {
    "collapsed": true
   },
   "outputs": [],
   "source": [
    "import pickle\n",
    "import nltk"
   ]
  },
  {
   "cell_type": "markdown",
   "metadata": {},
   "source": [
    "# Getting Data\n",
    "Open the pickle files created in BNC_data and VOICE_data."
   ]
  },
  {
   "cell_type": "code",
   "execution_count": 2,
   "metadata": {
    "collapsed": true
   },
   "outputs": [],
   "source": [
    "f = open('VOICE_tokenized.p', 'rb')\n",
    "VOICE_toks = pickle.load(f)\n",
    "f.close()"
   ]
  },
  {
   "cell_type": "code",
   "execution_count": 3,
   "metadata": {
    "collapsed": true
   },
   "outputs": [],
   "source": [
    "f = open('VOICE_tagged.p', 'rb')\n",
    "VOICE_tags = pickle.load(f)\n",
    "f.close()"
   ]
  },
  {
   "cell_type": "code",
   "execution_count": 4,
   "metadata": {
    "collapsed": true
   },
   "outputs": [],
   "source": [
    "f = open('BNC_tokenized.p', 'rb')\n",
    "BNC_toks = pickle.load(f)\n",
    "f.close()"
   ]
  },
  {
   "cell_type": "code",
   "execution_count": 5,
   "metadata": {
    "collapsed": true
   },
   "outputs": [],
   "source": [
    "f = open('BNC_tagged.p', 'rb')\n",
    "BNC_tags = pickle.load(f)\n",
    "f.close()"
   ]
  },
  {
   "cell_type": "markdown",
   "metadata": {},
   "source": [
    "# Comparing the Two Data Sets"
   ]
  },
  {
   "cell_type": "markdown",
   "metadata": {},
   "source": [
    "## Comparing Utterance Lengths\n",
    "On average, the utterances in the BNC corpus are longer than those in VOICE. The average utterance length in the BNC is 10.028 and the average utterance length in VOICE is 8.583."
   ]
  },
  {
   "cell_type": "code",
   "execution_count": 6,
   "metadata": {
    "collapsed": true
   },
   "outputs": [],
   "source": [
    "#Return a list of integers, which correspond to the number of words in the utterance\n",
    "def utterance_lengths(dictionary):\n",
    "    lengths = []\n",
    "    for file in dictionary:\n",
    "        for key in dictionary[file]:\n",
    "            l = len(dictionary[file][key])\n",
    "            lengths.append(l)\n",
    "    return lengths"
   ]
  },
  {
   "cell_type": "code",
   "execution_count": 7,
   "metadata": {},
   "outputs": [
    {
     "data": {
      "text/plain": [
       "8.582855347973343"
      ]
     },
     "execution_count": 7,
     "metadata": {},
     "output_type": "execute_result"
    }
   ],
   "source": [
    "#Average utterance length in VOICE (non-native speakers)\n",
    "VOICE_utterance_lengths = utterance_lengths(VOICE_toks)\n",
    "sum(VOICE_utterance_lengths)/len(VOICE_utterance_lengths)"
   ]
  },
  {
   "cell_type": "code",
   "execution_count": 8,
   "metadata": {},
   "outputs": [
    {
     "data": {
      "text/plain": [
       "10.027982402143955"
      ]
     },
     "execution_count": 8,
     "metadata": {},
     "output_type": "execute_result"
    }
   ],
   "source": [
    "#Average utterance length in BNC (native speakers)\n",
    "BNC_utterance_lengths = utterance_lengths(BNC_toks)\n",
    "sum(BNC_utterance_lengths)/len(BNC_utterance_lengths)"
   ]
  },
  {
   "cell_type": "markdown",
   "metadata": {},
   "source": [
    "## Comparing Words and Bigrams\n",
    "By looking at the most frequent words and bigrams, there are a few subtle difference between the two corpora, so they may not be extremely useful for comparing native and non-native speakers. However, I only looked into the 50 most frequent bigrams, so I will probably look into this more. Other bigrams that aren't in this list could be helpful; a moderately-common bigram in VOICE that is nonexistant in BNC could indicate that a person is not a native speaker. Bigrams could also be useful in comparing the L1 groups in the Vienna-Oxford International Corpus of English."
   ]
  },
  {
   "cell_type": "markdown",
   "metadata": {},
   "source": [
    "### Comparing Words\n",
    "Just by looking at the 50 most frequent words in the two corpora, there doesn't seem to be a huge difference between the common words in VOICE and the common words in BNC. One small difference between the two is that VOICE has 'er', 'erm', and 'hh' among the most frequent tokens. In fact, 'er' is the second most frequent token in VOICE, while it has a lower frequency ranking in BNC."
   ]
  },
  {
   "cell_type": "code",
   "execution_count": 9,
   "metadata": {
    "collapsed": true
   },
   "outputs": [],
   "source": [
    "#Returns a list of all of the words from the corpus/dictionary\n",
    "def get_words(dictionary):\n",
    "    words = []\n",
    "    for file in dictionary:\n",
    "        for key in dictionary[file]:\n",
    "            words.extend(dictionary[file][key])\n",
    "    return words"
   ]
  },
  {
   "cell_type": "code",
   "execution_count": 10,
   "metadata": {
    "collapsed": true
   },
   "outputs": [],
   "source": [
    "VOICE_words = get_words(VOICE_toks)"
   ]
  },
  {
   "cell_type": "code",
   "execution_count": 11,
   "metadata": {
    "collapsed": true
   },
   "outputs": [],
   "source": [
    "BNC_words = get_words(BNC_toks)"
   ]
  },
  {
   "cell_type": "code",
   "execution_count": 12,
   "metadata": {
    "collapsed": true
   },
   "outputs": [],
   "source": [
    "VOICE_word_freqs = nltk.FreqDist(VOICE_words)"
   ]
  },
  {
   "cell_type": "code",
   "execution_count": 13,
   "metadata": {
    "collapsed": true
   },
   "outputs": [],
   "source": [
    "BNC_word_freqs = nltk.FreqDist(BNC_words)"
   ]
  },
  {
   "cell_type": "code",
   "execution_count": 14,
   "metadata": {
    "collapsed": true
   },
   "outputs": [],
   "source": [
    "#Use a freqdist to get the 50 most frequent words in each corpus\n",
    "VOICE_most_common = VOICE_word_freqs.most_common(50)\n",
    "BNC_most_common = BNC_word_freqs.most_common(50)"
   ]
  },
  {
   "cell_type": "code",
   "execution_count": 15,
   "metadata": {},
   "outputs": [
    {
     "name": "stdout",
     "output_type": "stream",
     "text": [
      "('the', 25148) \t\t ('the', 409714)\n",
      "('er', 19846) \t\t ('i', 309557)\n",
      "('i', 16392) \t\t ('you', 268463)\n",
      "('and', 15075) \t\t ('and', 261375)\n",
      "('it', 14197) \t\t ('it', 253864)\n",
      "('to', 13780) \t\t ('to', 233691)\n",
      "('you', 13745) \t\t ('that', 227029)\n",
      "('yeah', 11614) \t\t ('a', 206201)\n",
      "('that', 11307) \t\t (\"'s\", 199263)\n",
      "('we', 10596) \t\t ('of', 174548)\n",
      "(\"'s\", 10578) \t\t ('in', 142192)\n",
      "('a', 10160) \t\t (\"n't\", 126275)\n",
      "('of', 9822) \t\t ('we', 108427)\n",
      "('in', 9712) \t\t ('is', 105100)\n",
      "('is', 9352) \t\t ('do', 99548)\n",
      "('mhm', 8131) \t\t ('they', 96562)\n",
      "('but', 6743) \t\t ('er', 88354)\n",
      "('have', 6636) \t\t ('was', 83727)\n",
      "('so', 6529) \t\t ('yeah', 81611)\n",
      "('this', 6069) \t\t ('on', 81082)\n",
      "('[', 5304) \t\t ('have', 77271)\n",
      "(']', 5304) \t\t ('what', 75619)\n",
      "('do', 5212) \t\t ('he', 75396)\n",
      "('for', 4929) \t\t ('there', 73008)\n",
      "('okay', 4618) \t\t ('for', 67046)\n",
      "('yes', 4497) \t\t ('but', 65992)\n",
      "('erm', 4449) \t\t ('erm', 62352)\n",
      "('they', 4339) \t\t ('well', 61860)\n",
      "('no', 4226) \t\t ('so', 60900)\n",
      "(\"n't\", 4213) \t\t ('be', 59952)\n",
      "('not', 4093) \t\t ('no', 59808)\n",
      "('are', 3980) \t\t ('this', 58179)\n",
      "('hh', 3950) \t\t ('one', 58148)\n",
      "('what', 3763) \t\t ('know', 57429)\n",
      "('be', 3752) \t\t ('oh', 52270)\n",
      "('or', 3457) \t\t ('got', 51973)\n",
      "('know', 3237) \t\t (\"'ve\", 48901)\n",
      "('can', 3233) \t\t ('not', 48691)\n",
      "('there', 3121) \t\t ('if', 48340)\n",
      "('because', 3088) \t\t ('are', 48097)\n",
      "('like', 3080) \t\t ('at', 47615)\n",
      "('on', 3055) \t\t ('with', 47042)\n",
      "('yah', 3023) \t\t (\"'re\", 43961)\n",
      "('think', 2995) \t\t ('all', 43908)\n",
      "('if', 2868) \t\t ('as', 43079)\n",
      "('with', 2852) \t\t ('she', 42873)\n",
      "('was', 2833) \t\t ('think', 41190)\n",
      "('then', 2668) \t\t ('just', 40080)\n",
      "('one', 2555) \t\t ('yes', 39695)\n",
      "('as', 2364) \t\t ('like', 38188)\n"
     ]
    }
   ],
   "source": [
    "#Print the most frequent words in the two corpora side-by-side (VOICE is in the left column, BNC is in the right column)\n",
    "index = 0\n",
    "while index < len(VOICE_most_common):\n",
    "    print(VOICE_most_common[index], '\\t\\t', BNC_most_common[index])\n",
    "    index += 1"
   ]
  },
  {
   "cell_type": "markdown",
   "metadata": {},
   "source": [
    "### Comparing Bigrams\n",
    "Many of the common bigrams are shared among the two corpora. However, there are a few interesting common bigrams in VOICE. In VOICE, there are several instances of bigrams that contain duplicates of the same word, like ('i', 'i') and ('the', 'the'). This seems like they come from utterances that contain stuttering or hesitations, which could possibly be used "
   ]
  },
  {
   "cell_type": "code",
   "execution_count": 16,
   "metadata": {
    "collapsed": true
   },
   "outputs": [],
   "source": [
    "#Uses NLTK's bigram function to get the bigrams from the corpus.\n",
    "#Returns a list of all the bigrams\n",
    "def get_bigrams(dictionary):\n",
    "    bigrams = []\n",
    "    for file in dictionary:\n",
    "        for key in dictionary[file]:\n",
    "            pairs = list(nltk.bigrams(dictionary[file][key]))\n",
    "            bigrams.extend(pairs)\n",
    "    return bigrams"
   ]
  },
  {
   "cell_type": "code",
   "execution_count": 17,
   "metadata": {
    "collapsed": true
   },
   "outputs": [],
   "source": [
    "VOICE_bigrams = get_bigrams(VOICE_toks)"
   ]
  },
  {
   "cell_type": "code",
   "execution_count": 18,
   "metadata": {
    "collapsed": true
   },
   "outputs": [],
   "source": [
    "BNC_bigrams = get_bigrams(BNC_toks)"
   ]
  },
  {
   "cell_type": "code",
   "execution_count": 19,
   "metadata": {
    "collapsed": true
   },
   "outputs": [],
   "source": [
    "VOICE_bigram_freqs = nltk.FreqDist(VOICE_bigrams)"
   ]
  },
  {
   "cell_type": "code",
   "execution_count": 20,
   "metadata": {
    "collapsed": true
   },
   "outputs": [],
   "source": [
    "BNC_bigram_freqs = nltk.FreqDist(BNC_bigrams)"
   ]
  },
  {
   "cell_type": "code",
   "execution_count": 21,
   "metadata": {
    "collapsed": true
   },
   "outputs": [],
   "source": [
    "#Use freqdists to get the 50 most frequent bigrams\n",
    "VOICE_most_common = VOICE_bigram_freqs.most_common(50)\n",
    "BNC_most_common = BNC_bigram_freqs.most_common(50)"
   ]
  },
  {
   "cell_type": "code",
   "execution_count": 22,
   "metadata": {},
   "outputs": [
    {
     "name": "stdout",
     "output_type": "stream",
     "text": [
      "(('it', \"'s\"), 6104) \t\t (('it', \"'s\"), 68661)\n",
      "(('that', \"'s\"), 2679) \t\t (('that', \"'s\"), 45150)\n",
      "(('do', \"n't\"), 2384) \t\t (('do', \"n't\"), 42215)\n",
      "(('i', 'think'), 2251) \t\t (('in', 'the'), 35437)\n",
      "(('in', 'the'), 2087) \t\t (('of', 'the'), 34774)\n",
      "(('of', 'the'), 1917) \t\t (('you', 'know'), 30832)\n",
      "(('we', 'have'), 1693) \t\t (('i', \"'m\"), 25963)\n",
      "(('this', 'is'), 1549) \t\t (('i', 'think'), 25846)\n",
      "(('you', 'know'), 1526) \t\t (('i', 'do'), 21567)\n",
      "(('i', \"'m\"), 1500) \t\t (('on', 'the'), 20574)\n",
      "(('have', 'to'), 1417) \t\t (('and', 'i'), 20417)\n",
      "(('i', 'mean'), 1384) \t\t (('i', 'mean'), 20366)\n",
      "(('you', 'have'), 1326) \t\t ((\"'ve\", 'got'), 19372)\n",
      "(('yeah', 'yeah'), 1264) \t\t (('it', 'was'), 19006)\n",
      "(('i', 'do'), 1254) \t\t (('i', \"'ve\"), 18154)\n",
      "(('the', 'the'), 1206) \t\t (('you', \"'re\"), 17641)\n",
      "(('and', 'then'), 1143) \t\t (('if', 'you'), 17480)\n",
      "(('er', 'er'), 1123) \t\t (('to', 'the'), 17459)\n",
      "(('if', 'you'), 1106) \t\t (('there', \"'s\"), 16983)\n",
      "(('and', 'er'), 1096) \t\t ((\"'s\", 'a'), 16516)\n",
      "(('on', 'the'), 1044) \t\t (('to', 'be'), 16072)\n",
      "(('i', 'i'), 1042) \t\t (('they', \"'re\"), 15291)\n",
      "(('to', 'the'), 961) \t\t (('he', \"'s\"), 15215)\n",
      "(('you', 'can'), 949) \t\t (('at', 'the'), 14137)\n",
      "((\"'s\", 'a'), 930) \t\t (('did', \"n't\"), 14026)\n",
      "(('er', 'the'), 904) \t\t (('do', 'you'), 13990)\n",
      "(('no', 'no'), 867) \t\t (('and', 'the'), 13936)\n",
      "(('to', 'be'), 859) \t\t (('you', \"'ve\"), 13023)\n",
      "(('it', 'was'), 850) \t\t (('ca', \"n't\"), 12895)\n",
      "(('for', 'the'), 841) \t\t (('i', \"'ll\"), 12743)\n",
      "(('and', 'i'), 837) \t\t (('gon', 'na'), 11915)\n",
      "(('it', 'is'), 828) \t\t (('sort', 'of'), 11839)\n",
      "((\"n't\", 'know'), 818) \t\t (('and', 'then'), 11794)\n",
      "(('do', 'you'), 813) \t\t (('to', 'do'), 11500)\n",
      "(('we', 'are'), 805) \t\t (('going', 'to'), 11360)\n",
      "(('have', 'a'), 795) \t\t (('have', 'to'), 11060)\n",
      "(('we', 'can'), 781) \t\t (('i', 'was'), 11013)\n",
      "(('but', 'i'), 763) \t\t (('it', 'is'), 10938)\n",
      "(('is', 'the'), 755) \t\t (('you', 'can'), 10836)\n",
      "(('and', 'the'), 753) \t\t (('we', \"'re\"), 10764)\n",
      "(('er', 'i'), 745) \t\t ((\"n't\", 'know'), 10645)\n",
      "(('that', 'we'), 729) \t\t (('we', \"'ve\"), 10572)\n",
      "(('at', 'the'), 699) \t\t (('but', 'i'), 10152)\n",
      "(('to', 'to'), 693) \t\t ((\"'s\", 'the'), 10118)\n",
      "((\"'s\", 'not'), 681) \t\t (('for', 'the'), 10020)\n",
      "(('i', 'have'), 677) \t\t ((\"'s\", 'not'), 9997)\n",
      "(('of', 'course'), 675) \t\t (('well', 'i'), 9966)\n",
      "(('the', 'same'), 658) \t\t (('have', 'a'), 9510)\n",
      "((\"'s\", 'the'), 654) \t\t (('and', 'it'), 9469)\n",
      "(('is', 'a'), 648) \t\t (('and', 'that'), 9278)\n"
     ]
    }
   ],
   "source": [
    "#Print the most frequent bigrams in the two corpora side-by-side (VOICE is in the left column, BNC is in the right column)\n",
    "index = 0\n",
    "while index < len(VOICE_most_common):\n",
    "    print(VOICE_most_common[index], '\\t\\t', BNC_most_common[index])\n",
    "    index += 1"
   ]
  },
  {
   "cell_type": "markdown",
   "metadata": {},
   "source": [
    "### Comparing Stop Word Use"
   ]
  },
  {
   "cell_type": "code",
   "execution_count": 23,
   "metadata": {
    "collapsed": true
   },
   "outputs": [],
   "source": [
    "from nltk.corpus import stopwords\n",
    "stopWords = set(stopwords.words('english'))"
   ]
  },
  {
   "cell_type": "code",
   "execution_count": 24,
   "metadata": {
    "collapsed": true
   },
   "outputs": [],
   "source": [
    "#Return a list of the stop words found in a given corpus/dictionary\n",
    "def get_stopwords(word_list):\n",
    "    stop_list = []\n",
    "    for w in word_list:\n",
    "        if w in stopWords:\n",
    "            stop_list.append(w)\n",
    "    return stop_list"
   ]
  },
  {
   "cell_type": "markdown",
   "metadata": {},
   "source": [
    "#### Proportion of stop words"
   ]
  },
  {
   "cell_type": "code",
   "execution_count": 25,
   "metadata": {},
   "outputs": [
    {
     "data": {
      "text/plain": [
       "0.48718556623933323"
      ]
     },
     "execution_count": 25,
     "metadata": {},
     "output_type": "execute_result"
    }
   ],
   "source": [
    "#Proportion of stop words in VOICE (non-native speakers)\n",
    "VOICE_stop = get_stopwords(VOICE_words)\n",
    "len(VOICE_stop)/len(VOICE_words)"
   ]
  },
  {
   "cell_type": "code",
   "execution_count": 26,
   "metadata": {},
   "outputs": [
    {
     "data": {
      "text/plain": [
       "0.509317898476617"
      ]
     },
     "execution_count": 26,
     "metadata": {},
     "output_type": "execute_result"
    }
   ],
   "source": [
    "#Proportion of stop words in BNC (native speakers)\n",
    "BNC_stop = get_stopwords(BNC_words)\n",
    "len(BNC_stop)/len(BNC_words)"
   ]
  },
  {
   "cell_type": "markdown",
   "metadata": {},
   "source": [
    "#### Common stop words"
   ]
  },
  {
   "cell_type": "code",
   "execution_count": 27,
   "metadata": {
    "collapsed": true
   },
   "outputs": [],
   "source": [
    "VOICE_stop_freqs = nltk.FreqDist(VOICE_stop)"
   ]
  },
  {
   "cell_type": "code",
   "execution_count": 28,
   "metadata": {
    "collapsed": true
   },
   "outputs": [],
   "source": [
    "BNC_stop_freqs = nltk.FreqDist(BNC_stop)"
   ]
  },
  {
   "cell_type": "code",
   "execution_count": 29,
   "metadata": {
    "collapsed": true
   },
   "outputs": [],
   "source": [
    "#Use the list of stop words from the corpora and freqdists to get the 15 most frequent stop words in each corpus\n",
    "VOICE_most_common = VOICE_stop_freqs.most_common(15)\n",
    "BNC_most_common = BNC_stop_freqs.most_common(15)"
   ]
  },
  {
   "cell_type": "code",
   "execution_count": 30,
   "metadata": {},
   "outputs": [
    {
     "name": "stdout",
     "output_type": "stream",
     "text": [
      "('the', 25148) \t\t ('the', 409714)\n",
      "('i', 16392) \t\t ('i', 309557)\n",
      "('and', 15075) \t\t ('you', 268463)\n",
      "('it', 14197) \t\t ('and', 261375)\n",
      "('to', 13780) \t\t ('it', 253864)\n",
      "('you', 13745) \t\t ('to', 233691)\n",
      "('that', 11307) \t\t ('that', 227029)\n",
      "('we', 10596) \t\t ('a', 206201)\n",
      "('a', 10160) \t\t ('of', 174548)\n",
      "('of', 9822) \t\t ('in', 142192)\n",
      "('in', 9712) \t\t ('we', 108427)\n",
      "('is', 9352) \t\t ('is', 105100)\n",
      "('but', 6743) \t\t ('do', 99548)\n",
      "('have', 6636) \t\t ('they', 96562)\n",
      "('so', 6529) \t\t ('was', 83727)\n"
     ]
    }
   ],
   "source": [
    "#Print the most common stop words for each corpus side-by-side (VOICE is in the left column, BNC is in the right column)\n",
    "index = 0\n",
    "index = 0\n",
    "while index < len(VOICE_most_common):\n",
    "    print(VOICE_most_common[index], '\\t\\t', BNC_most_common[index])\n",
    "    index += 1"
   ]
  }
 ],
 "metadata": {
  "kernelspec": {
   "display_name": "Python 3",
   "language": "python",
   "name": "python3"
  },
  "language_info": {
   "codemirror_mode": {
    "name": "ipython",
    "version": 3
   },
   "file_extension": ".py",
   "mimetype": "text/x-python",
   "name": "python",
   "nbconvert_exporter": "python",
   "pygments_lexer": "ipython3",
   "version": "3.6.1"
  }
 },
 "nbformat": 4,
 "nbformat_minor": 2
}
