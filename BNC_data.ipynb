{
 "cells": [
  {
   "cell_type": "markdown",
   "metadata": {},
   "source": [
    "Katherine Kairis, kak275@pitt.edu, 12/15/2017"
   ]
  },
  {
   "cell_type": "markdown",
   "metadata": {},
   "source": [
    "# Processing Data for BNC"
   ]
  },
  {
   "cell_type": "code",
   "execution_count": 1,
   "metadata": {
    "collapsed": true
   },
   "outputs": [],
   "source": [
    "import os\n",
    "import glob\n",
    "from bs4 import BeautifulSoup\n",
    "\n",
    "from IPython.core.interactiveshell import InteractiveShell\n",
    "InteractiveShell.ast_node_interactivity = \"all\""
   ]
  },
  {
   "cell_type": "code",
   "execution_count": 2,
   "metadata": {
    "collapsed": true
   },
   "outputs": [],
   "source": [
    "file = open('data/BNC/download/Texts/G/G6/G62.xml', 'r')\n",
    "text = file.read()\n",
    "spoken = BeautifulSoup(text, 'xml')\n",
    "file.close()"
   ]
  },
  {
   "cell_type": "markdown",
   "metadata": {},
   "source": [
    "## Get the spoken files"
   ]
  },
  {
   "cell_type": "code",
   "execution_count": 3,
   "metadata": {
    "collapsed": true
   },
   "outputs": [],
   "source": [
    "#The BNC has both transcripts of speech and written entries. Spoken text is differentiated from written text with the \n",
    "#<stext> tag, which includes all of the speech in the file.\n",
    "spoken_lines = spoken.stext"
   ]
  },
  {
   "cell_type": "code",
   "execution_count": 4,
   "metadata": {},
   "outputs": [
    {
     "name": "stdout",
     "output_type": "stream",
     "text": [
      "data/BNC/download/Texts/K/KS/KSW.xml\n"
     ]
    }
   ],
   "source": [
    "#The files are organized in several nested directories. Get all of the files from all of the directories.\n",
    "spoken_files = []\n",
    "root = 'data/BNC/download/Texts/'\n",
    "for path, subdirs, files in os.walk(root):\n",
    "    for name in files:\n",
    "        file_name = os.path.join(path, name)\n",
    "\n",
    "        if file_name.endswith('.xml'):\n",
    "            file = open(file_name, 'r')\n",
    "            text = file.read()\n",
    "        \n",
    "            if('<stext') in text and file_name not in spoken_files:\n",
    "                spoken_files.append(file_name)\n",
    "            \n",
    "            file.close()\n",
    "            \n",
    "print(file_name)"
   ]
  },
  {
   "cell_type": "markdown",
   "metadata": {},
   "source": [
    "## Test processing one conversation"
   ]
  },
  {
   "cell_type": "code",
   "execution_count": 5,
   "metadata": {},
   "outputs": [],
   "source": [
    "#Try getting the words and tags of the last file in the corpus, text.\n",
    "#file = open('data/BNC/download/Texts/H/HU/HUE.xml', 'r')\n",
    "file = open('data/BNC/download/Texts/K/KS/KSW.xml', 'r')\n",
    "text = file.read()\n",
    "xml_contents = BeautifulSoup(text, 'xml')\n",
    "file.close()"
   ]
  },
  {
   "cell_type": "code",
   "execution_count": 6,
   "metadata": {},
   "outputs": [
    {
     "data": {
      "text/plain": [
       "'<bncDoc xml:id=\"KSW\"><teiHeader><fileDesc><titleStmt><title>  6 conversations recorded by `Richard4\\' (PS6SG) [dates unknown] with 5 interlocutors, totalling 1098 s-units, 6020 words (duration not recorded). </title><respStmt><resp> Data capture and transcription </resp><name> Longman ELT </name> </respStmt></titleStmt><editionStmt><edition>BNC XML Edition, December 2006</edition></editionStmt><extent> 6172 tokens; 6467 w-units; 1099 s-units </extent><publicationStmt><distributor>Distributed under licence by Oxford University Computing Services on behalf of the BNC Consortium.</distributor><availability> This material is protected by international copyright laws and may not be copied or redistributed in any way. Consult the BNC Web Site at http://www.natcorp.ox.ac.uk for full licencing and distribution conditions.</availability><idno type=\"bnc\">KSW</idno><idno type=\"old\"> XRi6SG </idno></publicationStmt><sourceDesc><recordingStmt><recording xml:id=\"KSWRE000\" n=\"135301\" type=\"Walkman\"/><'"
      ]
     },
     "execution_count": 6,
     "metadata": {},
     "output_type": "execute_result"
    }
   ],
   "source": [
    "#Show a segment of the file's XML \n",
    "text[:1000]"
   ]
  },
  {
   "cell_type": "code",
   "execution_count": 7,
   "metadata": {},
   "outputs": [
    {
     "data": {
      "text/plain": [
       "759"
      ]
     },
     "execution_count": 7,
     "metadata": {},
     "output_type": "execute_result"
    }
   ],
   "source": [
    "#Gets all utterances in the file\n",
    "utterances = xml_contents.findAll('u')\n",
    "len(utterances)"
   ]
  },
  {
   "cell_type": "code",
   "execution_count": 8,
   "metadata": {},
   "outputs": [
    {
     "data": {
      "text/plain": [
       "<u who=\"KSWPSUNK\">\n",
       "<s n=\"1\"><w c5=\"AV0\" hw=\"right\" pos=\"ADV\">Right</w><c c5=\"PUN\">, </c><w c5=\"ITJ\" hw=\"hello\" pos=\"INTERJ\">hello</w><c c5=\"PUN\">, </c><w c5=\"ITJ\" hw=\"yeah\" pos=\"INTERJ\">yeah</w><c c5=\"PUN\">, </c><w c5=\"PNP\" hw=\"we\" pos=\"PRON\">we</w><w c5=\"VBB\" hw=\"be\" pos=\"VERB\">'re </w><w c5=\"AVP\" hw=\"back\" pos=\"ADV\">back</w><c c5=\"PUN\">.</c></s>\n",
       "<s n=\"2\"><w c5=\"UNC\" hw=\"erm\" pos=\"UNC\">Erm  </w><pause/><w c5=\"NN1-VVB\" hw=\"miss\" pos=\"SUBST\">Miss </w><w c5=\"VBZ\" hw=\"be\" pos=\"VERB\">is </w><w c5=\"VVG\" hw=\"try\" pos=\"VERB\">trying </w><w c5=\"TO0\" hw=\"to\" pos=\"PREP\">to </w><w c5=\"VVI\" hw=\"get\" pos=\"VERB\">get </w><w c5=\"VVN\" hw=\"rid\" pos=\"VERB\">rid </w><w c5=\"PRF\" hw=\"of\" pos=\"PREP\">of </w><w c5=\"PNP\" hw=\"we\" pos=\"PRON\">us</w><c c5=\"PUN\">.</c></s>\n",
       "<s n=\"3\"><w c5=\"UNC\" hw=\"erm\" pos=\"UNC\">Erm  </w><pause/><w c5=\"PNP\" hw=\"we\" pos=\"PRON\">we</w><w c5=\"VBB\" hw=\"be\" pos=\"VERB\">'re </w><w c5=\"VVG\" hw=\"sunbthe\" pos=\"VERB\">sunbathing  </w><pause/><mw c5=\"CJS\"><w c5=\"AV0\" hw=\"even\" pos=\"ADV\">even </w><w c5=\"CJS\" hw=\"though\" pos=\"CONJ\">though </w></mw><w c5=\"EX0\" hw=\"there\" pos=\"PRON\">there </w><w c5=\"UNC\" hw=\"ai\" pos=\"UNC\">ai</w><w c5=\"XX0\" hw=\"not\" pos=\"ADV\">n't </w><w c5=\"AT0\" hw=\"no\" pos=\"ART\">no </w><w c5=\"NN1\" hw=\"sun\" pos=\"SUBST\">sun </w><w c5=\"TO0\" hw=\"to\" pos=\"PREP\">to </w><w c5=\"VVI\" hw=\"sunbathe\" pos=\"VERB\">sunbathe </w><w c5=\"PRP\" hw=\"at\" pos=\"PREP\">at</w><c c5=\"PUN\">.</c></s></u>"
      ]
     },
     "execution_count": 8,
     "metadata": {},
     "output_type": "execute_result"
    }
   ],
   "source": [
    "#Gets the first utterance in the file\n",
    "u1 = utterances[0]\n",
    "u1"
   ]
  },
  {
   "cell_type": "code",
   "execution_count": 9,
   "metadata": {},
   "outputs": [
    {
     "data": {
      "text/plain": [
       "3"
      ]
     },
     "execution_count": 9,
     "metadata": {},
     "output_type": "execute_result"
    },
    {
     "data": {
      "text/plain": [
       "<s n=\"1\"><w c5=\"AV0\" hw=\"right\" pos=\"ADV\">Right</w><c c5=\"PUN\">, </c><w c5=\"ITJ\" hw=\"hello\" pos=\"INTERJ\">hello</w><c c5=\"PUN\">, </c><w c5=\"ITJ\" hw=\"yeah\" pos=\"INTERJ\">yeah</w><c c5=\"PUN\">, </c><w c5=\"PNP\" hw=\"we\" pos=\"PRON\">we</w><w c5=\"VBB\" hw=\"be\" pos=\"VERB\">'re </w><w c5=\"AVP\" hw=\"back\" pos=\"ADV\">back</w><c c5=\"PUN\">.</c></s>"
      ]
     },
     "execution_count": 9,
     "metadata": {},
     "output_type": "execute_result"
    },
    {
     "data": {
      "text/plain": [
       "\"Right, hello, yeah, we're back.\""
      ]
     },
     "execution_count": 9,
     "metadata": {},
     "output_type": "execute_result"
    }
   ],
   "source": [
    "#There are three sentences in the first utterance\n",
    "sents = u1.findAll('s')\n",
    "len(sents)\n",
    "\n",
    "#Show the first sentence in the utterance\n",
    "sents[0] #XML\n",
    "sents[0].text #Text"
   ]
  },
  {
   "cell_type": "code",
   "execution_count": 10,
   "metadata": {},
   "outputs": [
    {
     "data": {
      "text/plain": [
       "'KSWPSUNK'"
      ]
     },
     "execution_count": 10,
     "metadata": {},
     "output_type": "execute_result"
    }
   ],
   "source": [
    "#Gets speaker of the first utterance\n",
    "u1['who']"
   ]
  },
  {
   "cell_type": "code",
   "execution_count": 11,
   "metadata": {
    "collapsed": true
   },
   "outputs": [],
   "source": [
    "#Gets the first sentence of the utterance (in XML format)\n",
    "segment1 = utterances[0].findAll('s')[0]"
   ]
  },
  {
   "cell_type": "code",
   "execution_count": 12,
   "metadata": {},
   "outputs": [
    {
     "data": {
      "text/plain": [
       "<s n=\"1\"><w c5=\"AV0\" hw=\"right\" pos=\"ADV\">Right</w><c c5=\"PUN\">, </c><w c5=\"ITJ\" hw=\"hello\" pos=\"INTERJ\">hello</w><c c5=\"PUN\">, </c><w c5=\"ITJ\" hw=\"yeah\" pos=\"INTERJ\">yeah</w><c c5=\"PUN\">, </c><w c5=\"PNP\" hw=\"we\" pos=\"PRON\">we</w><w c5=\"VBB\" hw=\"be\" pos=\"VERB\">'re </w><w c5=\"AVP\" hw=\"back\" pos=\"ADV\">back</w><c c5=\"PUN\">.</c></s>"
      ]
     },
     "execution_count": 12,
     "metadata": {},
     "output_type": "execute_result"
    }
   ],
   "source": [
    "segment1"
   ]
  },
  {
   "cell_type": "code",
   "execution_count": 13,
   "metadata": {},
   "outputs": [
    {
     "data": {
      "text/plain": [
       "\"Right, hello, yeah, we're back.\""
      ]
     },
     "execution_count": 13,
     "metadata": {},
     "output_type": "execute_result"
    }
   ],
   "source": [
    "#Gets the text of the first sentence\n",
    "segment1.text"
   ]
  },
  {
   "cell_type": "code",
   "execution_count": 14,
   "metadata": {
    "collapsed": true
   },
   "outputs": [],
   "source": [
    "#Get all of the words (in XML format) of the sentence\n",
    "words = segment1.findAll('w')"
   ]
  },
  {
   "cell_type": "code",
   "execution_count": 15,
   "metadata": {},
   "outputs": [
    {
     "data": {
      "text/plain": [
       "[<w c5=\"AV0\" hw=\"right\" pos=\"ADV\">Right</w>,\n",
       " <w c5=\"ITJ\" hw=\"hello\" pos=\"INTERJ\">hello</w>,\n",
       " <w c5=\"ITJ\" hw=\"yeah\" pos=\"INTERJ\">yeah</w>,\n",
       " <w c5=\"PNP\" hw=\"we\" pos=\"PRON\">we</w>,\n",
       " <w c5=\"VBB\" hw=\"be\" pos=\"VERB\">'re </w>,\n",
       " <w c5=\"AVP\" hw=\"back\" pos=\"ADV\">back</w>]"
      ]
     },
     "execution_count": 15,
     "metadata": {},
     "output_type": "execute_result"
    }
   ],
   "source": [
    "words"
   ]
  },
  {
   "cell_type": "code",
   "execution_count": 16,
   "metadata": {},
   "outputs": [
    {
     "name": "stdout",
     "output_type": "stream",
     "text": [
      "Right ADV\n",
      "hello INTERJ\n",
      "yeah INTERJ\n",
      "we PRON\n",
      "'re  VERB\n",
      "back ADV\n"
     ]
    }
   ],
   "source": [
    "#Get the word and tag of each word entry\n",
    "for w in words:\n",
    "    print(w.text, w['pos'])"
   ]
  },
  {
   "cell_type": "markdown",
   "metadata": {},
   "source": [
    "## Processing the entire BNC corpus"
   ]
  },
  {
   "cell_type": "code",
   "execution_count": 17,
   "metadata": {},
   "outputs": [],
   "source": [
    "#Iterate through all of the files in the BNC to two nested dictionaries: one containing word tokens of the\n",
    "#conversations, and the other containing (word, tag) tuples for every word in the corpus.\n",
    "#The keys of the dictionaries are the file names. The values of these entries are subdictionaries. The keys of the\n",
    "#subdictionary are (participant, line_number) tuples, and the values are either lists of tokens or (word, tag) tuples.\n",
    "tokenize = {}\n",
    "tagged = {}\n",
    "\n",
    "for file_name in spoken_files:\n",
    "    token_dict = {}\n",
    "    tag_dict = {}\n",
    "        \n",
    "    file = open(file_name, 'r')\n",
    "    text = file.read()\n",
    "    xml_contents = BeautifulSoup(text, 'xml')\n",
    "    \n",
    "    file.close()\n",
    "    \n",
    "    #The contents are still in XML, so use BeautifulSoup commands. The tag 'u' indicates that the line\n",
    "    #is an utterance. To get all utterances, use findAll('u')\n",
    "    utterances = xml_contents.findAll('u')\n",
    "    \n",
    "    #Iterate through all of the utterances in the current conversation\n",
    "    for u in utterances:\n",
    "        #Get the speaker and all of the sentences in the current utterance. Sentences are are marked\n",
    "        #with 's', so use findAll('s') to get all of the sentences in the utterance.\n",
    "        speaker = u['who']\n",
    "        segments = u.findAll('s')\n",
    "        \n",
    "        #Iterate through all of the sentences in the utterance\n",
    "        for s in segments:\n",
    "            #Get the line number of the sentence\n",
    "            line = s['n']\n",
    "            #Get the words in the sentence\n",
    "            words = s.findAll('w')\n",
    "            \n",
    "            token_list = []\n",
    "            tag_list = []\n",
    "            \n",
    "            #Iterate through all of the word elements in the sentence, and get the word's text\n",
    "            #and part of speech tag.\n",
    "            for w in words:\n",
    "                word = w.text\n",
    "                word = word.lower()\n",
    "                word = word.replace(\" \", \"\")\n",
    "                tag = w['pos']\n",
    "                \n",
    "                #Add the word to the list of tokens. Add a tuple containing the word and its\n",
    "                #part of speech to the list of tags\n",
    "                token_list.append(word)\n",
    "                tag_list.append((word, tag))\n",
    "            \n",
    "            #When done iterating through the sentence, add it to the token and tag dictionaries.\n",
    "            #The keys are tuples containing the speaker and the line, and the values are the lists\n",
    "            #of tokens and tags\n",
    "            token_dict[(speaker, line)] = token_list\n",
    "            tag_dict[(speaker, line)] = tag_list\n",
    "            \n",
    "    #After iterating through all of the utterances in the conversation, add the utterances to\n",
    "    #the dictionary. The key is the name of the file, and the value is the dictionary containing\n",
    "    #sentences' words or (word, tag) pairs\n",
    "    tokenize[file_name] = token_dict\n",
    "    tagged[file_name] = tag_dict"
   ]
  },
  {
   "cell_type": "markdown",
   "metadata": {},
   "source": [
    "## Picking the data"
   ]
  },
  {
   "cell_type": "code",
   "execution_count": 18,
   "metadata": {
    "collapsed": true
   },
   "outputs": [],
   "source": [
    "#Save the dictionaries as pickle files.\n",
    "import pickle"
   ]
  },
  {
   "cell_type": "code",
   "execution_count": 19,
   "metadata": {
    "collapsed": true
   },
   "outputs": [],
   "source": [
    "f = open('BNC_tokenized.p', 'wb')\n",
    "pickle.dump(tokenize, f, -1)\n",
    "f.close()"
   ]
  },
  {
   "cell_type": "code",
   "execution_count": 20,
   "metadata": {
    "collapsed": true
   },
   "outputs": [],
   "source": [
    "f = open('BNC_tagged.p', 'wb')\n",
    "pickle.dump(tagged, f, -1)\n",
    "f.close()"
   ]
  }
 ],
 "metadata": {
  "kernelspec": {
   "display_name": "Python 3",
   "language": "python",
   "name": "python3"
  },
  "language_info": {
   "codemirror_mode": {
    "name": "ipython",
    "version": 3
   },
   "file_extension": ".py",
   "mimetype": "text/x-python",
   "name": "python",
   "nbconvert_exporter": "python",
   "pygments_lexer": "ipython3",
   "version": "3.6.1"
  }
 },
 "nbformat": 4,
 "nbformat_minor": 2
}
