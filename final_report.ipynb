{
 "cells": [
  {
   "cell_type": "code",
   "execution_count": 1,
   "metadata": {
    "collapsed": true
   },
   "outputs": [],
   "source": [
    "import pickle\n",
    "import nltk\n",
    "from nltk.corpus import stopwords\n",
    "import pandas as pd\n",
    "import matplotlib.pyplot as plt\n",
    "stopWords = set(stopwords.words('english'))\n",
    "\n",
    "from IPython.core.interactiveshell import InteractiveShell\n",
    "InteractiveShell.ast_node_interactivity = \"all\""
   ]
  },
  {
   "cell_type": "code",
   "execution_count": 2,
   "metadata": {
    "collapsed": true
   },
   "outputs": [],
   "source": [
    "f = open('VOICE_tokenized.p', 'rb')\n",
    "VOICE_toks = pickle.load(f)\n",
    "f.close()\n",
    "\n",
    "f = open('BNC_tokenized.p', 'rb')\n",
    "BNC_toks = pickle.load(f)\n",
    "f.close()\n",
    "\n",
    "f = open('VOICE_participant_info.p', 'rb')\n",
    "participants = pickle.load(f)\n",
    "f.close()"
   ]
  },
  {
   "cell_type": "markdown",
   "metadata": {},
   "source": [
    "# Comparing Native and Non-native Speakers (VOICE and BNC)"
   ]
  },
  {
   "cell_type": "code",
   "execution_count": 4,
   "metadata": {
    "collapsed": true
   },
   "outputs": [],
   "source": [
    "#Takes a conversation dictionary and a list of languages. Returns a dictionary of \n",
    "#conversations (subcorpus) containing only utterances from participants whose L1 is \n",
    "#included in the list of languages.\n",
    "\n",
    "def speech_by_L1(conversation_dict, lang_list):\n",
    "    new_dict = {}\n",
    "    for conversation in conversation_dict.keys():\n",
    "        utterances = {}\n",
    "        \n",
    "        for pair in conversation_dict[conversation]:    \n",
    "            speaker = pair[1]\n",
    "            #print(conversation_dict[conversation][pair])\n",
    "\n",
    "            \n",
    "            #print(participants[speaker]['L1'][0])\n",
    "            if(participants[speaker]['L1'][0] in lang_list):\n",
    "                utterances[pair] = conversation_dict[conversation][pair]\n",
    "            \n",
    "\n",
    "        new_dict[conversation] = utterances    \n",
    "\n",
    "    return new_dict"
   ]
  },
  {
   "cell_type": "code",
   "execution_count": 9,
   "metadata": {
    "collapsed": true
   },
   "outputs": [],
   "source": [
    "#Takes a dictionary of conversations from a corpus, and returns a list of bigrams.\n",
    "def get_bigrams(dictionary):\n",
    "    bigrams = []\n",
    "    for file in dictionary:\n",
    "        for key in dictionary[file]:\n",
    "            pairs = list(nltk.bigrams(dictionary[file][key]))\n",
    "            bigrams.extend(pairs)\n",
    "    return bigrams"
   ]
  },
  {
   "cell_type": "code",
   "execution_count": 10,
   "metadata": {
    "collapsed": true
   },
   "outputs": [],
   "source": [
    "#Takes a list of bigrams, returns dictionary whose keys are bigrams containing \n",
    "#duplicate words (e.g ('i', 'i',), ('the', 'the') and whose values are the \n",
    "#frequencies of each bigram\n",
    "\n",
    "def repeated_words(bigrams):\n",
    "    repeated = {}\n",
    "    for b in bigrams:\n",
    "        if(b[0] == b[1]):\n",
    "            if(b not in repeated):\n",
    "                repeated[b] = 1\n",
    "            else:\n",
    "                repeated[b] += 1\n",
    "    return repeated"
   ]
  },
  {
   "cell_type": "code",
   "execution_count": 11,
   "metadata": {},
   "outputs": [],
   "source": [
    "#Creating subcorpora from the VOICE corpus: one for participants with Germanic L1s, one for\n",
    "#participants with Romance L1s, and one for participants with Slavic L1s\n",
    "lang_classifications = {'germanic': ['ger', 'dut', 'swe', 'dan', 'nor', 'ice'],\n",
    "                        'romance': ['por', 'spa', 'ita', 'fre', 'cat', 'rum'],\n",
    "                        'slavic': ['rus', 'ukr', 'pol', 'bul', 'mac', 'cze', 'bos', 'slo', 'slv']}\n",
    "\n",
    "germanic_toks = speech_by_L1(VOICE_toks, lang_classifications['germanic'])\n",
    "romance_toks = speech_by_L1(VOICE_toks, lang_classifications['romance'])\n",
    "slavic_toks = speech_by_L1(VOICE_toks, lang_classifications['slavic'])"
   ]
  },
  {
   "cell_type": "code",
   "execution_count": 12,
   "metadata": {},
   "outputs": [],
   "source": [
    "#Get lists of bigrams for VOICE and BNC, in addition to the three sub-corpora\n",
    "VOICE_bigrams = get_bigrams(VOICE_toks)\n",
    "BNC_bigrams = get_bigrams(BNC_toks)\n",
    "germanic_bigrams = get_bigrams(germanic_toks)\n",
    "romance_bigrams = get_bigrams(romance_toks)\n",
    "slavic_bigrams = get_bigrams(slavic_toks)"
   ]
  },
  {
   "cell_type": "markdown",
   "metadata": {},
   "source": [
    "## Bigrams"
   ]
  },
  {
   "cell_type": "markdown",
   "metadata": {},
   "source": [
    "### Hesitations and Repeated Words"
   ]
  },
  {
   "cell_type": "code",
   "execution_count": 18,
   "metadata": {},
   "outputs": [],
   "source": [
    "BNC_repeated_words = [b for b in BNC_bigrams if b[0] == b[1]]\n",
    "VOICE_repeated_words = [b for b in VOICE_bigrams if b[0] == b[1]]\n",
    "germanic_repeated_words = [b for b in germanic_bigrams if b[0] == b[1]]\n",
    "romance_repeated_words = [b for b in romance_bigrams if b[0] == b[1]]\n",
    "slavic_repeated_words = [b for b in slavic_bigrams if b[0] == b[1]]"
   ]
  },
  {
   "cell_type": "code",
   "execution_count": 49,
   "metadata": {
    "collapsed": true
   },
   "outputs": [],
   "source": [
    "repeated_df = pd.DataFrame(index = ['repeated words'], columns = ['L1=English(BNC)', 'All(VOICE)', 'L1=Germanic(VOICE)', 'L1=Romance(VOICE)', 'L1=Slavic(VOICE)'])\n",
    "repeated_df['L1=English(BNC)']['repeated words'] = len(BNC_repeated_words)/len(BNC_bigrams)\n",
    "repeated_df['All(VOICE)']['repeated words'] = len(VOICE_repeated_words)/len(VOICE_bigrams)\n",
    "repeated_df['L1=Germanic(VOICE)']['repeated words'] = len(germanic_repeated_words)/len(germanic_bigrams)\n",
    "repeated_df['L1=Romance(VOICE)']['repeated words'] = len(romance_repeated_words)/len(romance_bigrams)\n",
    "repeated_df['L1=Slavic(VOICE)']['repeated words'] = len(slavic_repeated_words)/len(slavic_bigrams)"
   ]
  },
  {
   "cell_type": "code",
   "execution_count": 50,
   "metadata": {},
   "outputs": [
    {
     "data": {
      "text/plain": [
       "<matplotlib.axes._subplots.AxesSubplot at 0x18e7bca58>"
      ]
     },
     "execution_count": 50,
     "metadata": {},
     "output_type": "execute_result"
    },
    {
     "data": {
      "text/plain": [
       "<matplotlib.legend.Legend at 0x18e8c2908>"
      ]
     },
     "execution_count": 50,
     "metadata": {},
     "output_type": "execute_result"
    },
    {
     "data": {
      "text/plain": [
       "<matplotlib.text.Text at 0x18e549390>"
      ]
     },
     "execution_count": 50,
     "metadata": {},
     "output_type": "execute_result"
    },
    {
     "data": {
      "image/png": "[encoded data removed]",
      "text/plain": [
       "<matplotlib.figure.Figure at 0x14761b6d8>"
      ]
     },
     "metadata": {},
     "output_type": "display_data"
    },
    {
     "data": {
      "text/html": [
       "<div>\n",
       "<style>\n",
       "    .dataframe thead tr:only-child th {\n",
       "        text-align: right;\n",
       "    }\n",
       "\n",
       "    .dataframe thead th {\n",
       "        text-align: left;\n",
       "    }\n",
       "\n",
       "    .dataframe tbody tr th {\n",
       "        vertical-align: top;\n",
       "    }\n",
       "</style>\n",
       "<table border=\"1\" class=\"dataframe\">\n",
       "  <thead>\n",
       "    <tr style=\"text-align: right;\">\n",
       "      <th></th>\n",
       "      <th>L1=English(BNC)</th>\n",
       "      <th>All(VOICE)</th>\n",
       "      <th>L1=Germanic(VOICE)</th>\n",
       "      <th>L1=Romance(VOICE)</th>\n",
       "      <th>L1=Slavic(VOICE)</th>\n",
       "    </tr>\n",
       "  </thead>\n",
       "  <tbody>\n",
       "    <tr>\n",
       "      <th>repeated words</th>\n",
       "      <td>0.0108283</td>\n",
       "      <td>0.0292122</td>\n",
       "      <td>0.0296259</td>\n",
       "      <td>0.030192</td>\n",
       "      <td>0.0246243</td>\n",
       "    </tr>\n",
       "  </tbody>\n",
       "</table>\n",
       "</div>"
      ],
      "text/plain": [
       "               L1=English(BNC) All(VOICE) L1=Germanic(VOICE)  \\\n",
       "repeated words       0.0108283  0.0292122          0.0296259   \n",
       "\n",
       "               L1=Romance(VOICE) L1=Slavic(VOICE)  \n",
       "repeated words          0.030192        0.0246243  "
      ]
     },
     "execution_count": 50,
     "metadata": {},
     "output_type": "execute_result"
    }
   ],
   "source": [
    "repeated_df.plot(kind='bar', figsize=(10,5))\n",
    "plt.tick_params(axis = 'both', reset=True, labelsize=15)\n",
    "plt.legend(prop={'size':20})\n",
    "bar_width = 0.4\n",
    "L=plt.legend()\n",
    "L.get_texts()[1].set_text('All non-native L1s(VOICE)')\n",
    "plt.ylabel(\"Frequency (percent)\", fontsize= 20, labelpad = 20)\n",
    "plt.show()\n",
    "\n",
    "repeated_df"
   ]
  },
  {
   "cell_type": "markdown",
   "metadata": {},
   "source": [
    "### Contractions"
   ]
  },
  {
   "cell_type": "code",
   "execution_count": 55,
   "metadata": {
    "collapsed": true
   },
   "outputs": [],
   "source": [
    "BNC_contractions = [b for b in BNC_bigrams if \"'\" in b[1]]\n",
    "VOICE_contractions = [b for b in VOICE_bigrams if \"'\" in b[1]]\n",
    "germanic_contractions = [b for b in germanic_bigrams if \"'\" in b[1]]\n",
    "romance_contractions = [b for b in romance_bigrams if \"'\" in b[1]]\n",
    "slavic_contractions = [b for b in slavic_bigrams if \"'\" in b[1]]"
   ]
  },
  {
   "cell_type": "code",
   "execution_count": 57,
   "metadata": {},
   "outputs": [],
   "source": [
    "contraction_proportion_df = pd.DataFrame(index = ['contraction proportions'], columns = ['L1=English(BNC)', 'All(VOICE)', 'L1=Germanic(VOICE)', 'L1=Romance(VOICE)', 'L1=Slavic(VOICE)'])\n",
    "\n",
    "contraction_proportion_df['L1=English(BNC)']['contraction proportions'] = len(BNC_contractions)/len(BNC_bigrams)\n",
    "contraction_proportion_df['All(VOICE)']['contraction proportions'] = len(VOICE_contractions)/len(VOICE_bigrams)\n",
    "contraction_proportion_df['L1=Germanic(VOICE)']['contraction proportions'] = len(germanic_contractions)/len(germanic_bigrams)\n",
    "contraction_proportion_df['L1=Romance(VOICE)']['contraction proportions'] = len(romance_contractions)/len(romance_bigrams)\n",
    "contraction_proportion_df['L1=Slavic(VOICE)']['contraction proportions'] = len(slavic_contractions)/len(slavic_bigrams)"
   ]
  },
  {
   "cell_type": "code",
   "execution_count": 60,
   "metadata": {},
   "outputs": [
    {
     "data": {
      "text/plain": [
       "<matplotlib.axes._subplots.AxesSubplot at 0x18e763860>"
      ]
     },
     "execution_count": 60,
     "metadata": {},
     "output_type": "execute_result"
    },
    {
     "data": {
      "text/plain": [
       "<matplotlib.legend.Legend at 0x18a1d5c88>"
      ]
     },
     "execution_count": 60,
     "metadata": {},
     "output_type": "execute_result"
    },
    {
     "data": {
      "text/plain": [
       "<matplotlib.text.Text at 0x18a0e58d0>"
      ]
     },
     "execution_count": 60,
     "metadata": {},
     "output_type": "execute_result"
    },
    {
     "data": {
      "image/png": "[encoded data removed]",
      "text/plain": [
       "<matplotlib.figure.Figure at 0x18a091828>"
      ]
     },
     "metadata": {},
     "output_type": "display_data"
    },
    {
     "data": {
      "text/html": [
       "<div>\n",
       "<style>\n",
       "    .dataframe thead tr:only-child th {\n",
       "        text-align: right;\n",
       "    }\n",
       "\n",
       "    .dataframe thead th {\n",
       "        text-align: left;\n",
       "    }\n",
       "\n",
       "    .dataframe tbody tr th {\n",
       "        vertical-align: top;\n",
       "    }\n",
       "</style>\n",
       "<table border=\"1\" class=\"dataframe\">\n",
       "  <thead>\n",
       "    <tr style=\"text-align: right;\">\n",
       "      <th></th>\n",
       "      <th>L1=English(BNC)</th>\n",
       "      <th>All(VOICE)</th>\n",
       "      <th>L1=Germanic(VOICE)</th>\n",
       "      <th>L1=Romance(VOICE)</th>\n",
       "      <th>L1=Slavic(VOICE)</th>\n",
       "    </tr>\n",
       "  </thead>\n",
       "  <tbody>\n",
       "    <tr>\n",
       "      <th>contraction proportions</th>\n",
       "      <td>0.0536744</td>\n",
       "      <td>0.0341021</td>\n",
       "      <td>0.0350262</td>\n",
       "      <td>0.0340637</td>\n",
       "      <td>0.0307484</td>\n",
       "    </tr>\n",
       "  </tbody>\n",
       "</table>\n",
       "</div>"
      ],
      "text/plain": [
       "                        L1=English(BNC) All(VOICE) L1=Germanic(VOICE)  \\\n",
       "contraction proportions       0.0536744  0.0341021          0.0350262   \n",
       "\n",
       "                        L1=Romance(VOICE) L1=Slavic(VOICE)  \n",
       "contraction proportions         0.0340637        0.0307484  "
      ]
     },
     "execution_count": 60,
     "metadata": {},
     "output_type": "execute_result"
    }
   ],
   "source": [
    "contraction_proportion_df.plot(kind='bar', figsize=(10,5))\n",
    "plt.tick_params(axis = 'both', reset=True, labelsize=15)\n",
    "plt.legend(prop={'size':20})\n",
    "bar_width = 0.4\n",
    "L=plt.legend()\n",
    "L.get_texts()[1].set_text('All non-native L1s(VOICE)')\n",
    "plt.ylabel(\"Frequency (percent)\", fontsize= 20, labelpad = 20)\n",
    "plt.show()\n",
    "\n",
    "contraction_proportion_df"
   ]
  },
  {
   "cell_type": "code",
   "execution_count": 61,
   "metadata": {
    "collapsed": true
   },
   "outputs": [],
   "source": [
    "BNC_contractions_frequencies = nltk.FreqDist(BNC_contractions)\n",
    "germanic_contractions_frequencies = nltk.FreqDist(germanic_contractions)\n",
    "romance_contractions_frequencies = nltk.FreqDist(romance_contractions)\n",
    "slavic_contractions_frequencies = nltk.FreqDist(slavic_contractions)"
   ]
  },
  {
   "cell_type": "code",
   "execution_count": 78,
   "metadata": {},
   "outputs": [],
   "source": [
    "BNC_top_15 = BNC_contractions_frequencies.most_common(15)\n",
    "BNC_top_15 = [b[0] for b in BNC_top_15]\n",
    "bigrams_df = pd.DataFrame(index = BNC_top_15, columns = ['English(BNC)', 'Germanic(VOICE)', 'Romance(VOICE)', 'Slavic(VOICE)'])\n",
    "\n",
    "for bigram in BNC_top_15:\n",
    "    bigrams_df['English(BNC)'][bigram] = BNC_contractions_frequencies[bigram]/len(BNC_bigrams)\n",
    "    bigrams_df['Germanic(VOICE)'][bigram] = germanic_contractions_frequencies[bigram]/len(germanic_bigrams)\n",
    "    bigrams_df['Romance(VOICE)'][bigram] = romance_contractions_frequencies[bigram]/len(romance_bigrams)\n",
    "    bigrams_df['Slavic(VOICE)'][bigram] = slavic_contractions_frequencies[bigram]/len(slavic_bigrams)"
   ]
  },
  {
   "cell_type": "code",
   "execution_count": 81,
   "metadata": {},
   "outputs": [
    {
     "data": {
      "text/plain": [
       "<matplotlib.axes._subplots.AxesSubplot at 0x18fbc6e10>"
      ]
     },
     "execution_count": 81,
     "metadata": {},
     "output_type": "execute_result"
    },
    {
     "data": {
      "text/plain": [
       "<matplotlib.legend.Legend at 0x18fc67eb8>"
      ]
     },
     "execution_count": 81,
     "metadata": {},
     "output_type": "execute_result"
    },
    {
     "data": {
      "text/plain": [
       "<matplotlib.text.Text at 0x18fbf0208>"
      ]
     },
     "execution_count": 81,
     "metadata": {},
     "output_type": "execute_result"
    },
    {
     "data": {
      "text/plain": [
       "<matplotlib.text.Text at 0x18f743748>"
      ]
     },
     "execution_count": 81,
     "metadata": {},
     "output_type": "execute_result"
    },
    {
     "data": {
      "image/png": "[encoded data removed]",
      "text/plain": [
       "<matplotlib.figure.Figure at 0x18f709be0>"
      ]
     },
     "metadata": {},
     "output_type": "display_data"
    },
    {
     "data": {
      "text/html": [
       "<div>\n",
       "<style>\n",
       "    .dataframe thead tr:only-child th {\n",
       "        text-align: right;\n",
       "    }\n",
       "\n",
       "    .dataframe thead th {\n",
       "        text-align: left;\n",
       "    }\n",
       "\n",
       "    .dataframe tbody tr th {\n",
       "        vertical-align: top;\n",
       "    }\n",
       "</style>\n",
       "<table border=\"1\" class=\"dataframe\">\n",
       "  <thead>\n",
       "    <tr style=\"text-align: right;\">\n",
       "      <th></th>\n",
       "      <th>English(BNC)</th>\n",
       "      <th>Germanic(VOICE)</th>\n",
       "      <th>Romance(VOICE)</th>\n",
       "      <th>Slavic(VOICE)</th>\n",
       "    </tr>\n",
       "  </thead>\n",
       "  <tbody>\n",
       "    <tr>\n",
       "      <th>(it, 's)</th>\n",
       "      <td>0.00732095</td>\n",
       "      <td>0.0111299</td>\n",
       "      <td>0.0116396</td>\n",
       "      <td>0.0103653</td>\n",
       "    </tr>\n",
       "    <tr>\n",
       "      <th>(that, 's)</th>\n",
       "      <td>0.0048141</td>\n",
       "      <td>0.00579272</td>\n",
       "      <td>0.00367629</td>\n",
       "      <td>0.00358305</td>\n",
       "    </tr>\n",
       "    <tr>\n",
       "      <th>(do, n't)</th>\n",
       "      <td>0.00450116</td>\n",
       "      <td>0.00383028</td>\n",
       "      <td>0.00534955</td>\n",
       "      <td>0.00453366</td>\n",
       "    </tr>\n",
       "    <tr>\n",
       "      <th>(i, 'm)</th>\n",
       "      <td>0.0027683</td>\n",
       "      <td>0.00245656</td>\n",
       "      <td>0.0032366</td>\n",
       "      <td>0.00274213</td>\n",
       "    </tr>\n",
       "    <tr>\n",
       "      <th>(i, 've)</th>\n",
       "      <td>0.00193566</td>\n",
       "      <td>0.000546682</td>\n",
       "      <td>0.000403049</td>\n",
       "      <td>0.000274213</td>\n",
       "    </tr>\n",
       "    <tr>\n",
       "      <th>(you, 're)</th>\n",
       "      <td>0.00188097</td>\n",
       "      <td>0.00121952</td>\n",
       "      <td>0.000879379</td>\n",
       "      <td>0.00063983</td>\n",
       "    </tr>\n",
       "    <tr>\n",
       "      <th>(there, 's)</th>\n",
       "      <td>0.00181081</td>\n",
       "      <td>0.000904127</td>\n",
       "      <td>0.000488544</td>\n",
       "      <td>0.000365617</td>\n",
       "    </tr>\n",
       "    <tr>\n",
       "      <th>(they, 're)</th>\n",
       "      <td>0.0016304</td>\n",
       "      <td>0.000567708</td>\n",
       "      <td>0.000537398</td>\n",
       "      <td>0.000438741</td>\n",
       "    </tr>\n",
       "    <tr>\n",
       "      <th>(he, 's)</th>\n",
       "      <td>0.00162229</td>\n",
       "      <td>0.000392489</td>\n",
       "      <td>0.000464116</td>\n",
       "      <td>0.000255932</td>\n",
       "    </tr>\n",
       "    <tr>\n",
       "      <th>(did, n't)</th>\n",
       "      <td>0.00149552</td>\n",
       "      <td>0.000735918</td>\n",
       "      <td>0.00118472</td>\n",
       "      <td>0.000804358</td>\n",
       "    </tr>\n",
       "    <tr>\n",
       "      <th>(you, 've)</th>\n",
       "      <td>0.00138857</td>\n",
       "      <td>0.000220775</td>\n",
       "      <td>4.88544e-05</td>\n",
       "      <td>3.65617e-05</td>\n",
       "    </tr>\n",
       "    <tr>\n",
       "      <th>(ca, n't)</th>\n",
       "      <td>0.00137492</td>\n",
       "      <td>0.000620273</td>\n",
       "      <td>0.000732815</td>\n",
       "      <td>0.000566707</td>\n",
       "    </tr>\n",
       "    <tr>\n",
       "      <th>(i, 'll)</th>\n",
       "      <td>0.00135872</td>\n",
       "      <td>0.000462577</td>\n",
       "      <td>0.000464116</td>\n",
       "      <td>0.000438741</td>\n",
       "    </tr>\n",
       "    <tr>\n",
       "      <th>(we, 're)</th>\n",
       "      <td>0.00114771</td>\n",
       "      <td>0.000844553</td>\n",
       "      <td>0.000659534</td>\n",
       "      <td>0.000511864</td>\n",
       "    </tr>\n",
       "    <tr>\n",
       "      <th>(we, 've)</th>\n",
       "      <td>0.00112724</td>\n",
       "      <td>0.000203253</td>\n",
       "      <td>9.77087e-05</td>\n",
       "      <td>0.000182809</td>\n",
       "    </tr>\n",
       "  </tbody>\n",
       "</table>\n",
       "</div>"
      ],
      "text/plain": [
       "            English(BNC) Germanic(VOICE) Romance(VOICE) Slavic(VOICE)\n",
       "(it, 's)      0.00732095       0.0111299      0.0116396     0.0103653\n",
       "(that, 's)     0.0048141      0.00579272     0.00367629    0.00358305\n",
       "(do, n't)     0.00450116      0.00383028     0.00534955    0.00453366\n",
       "(i, 'm)        0.0027683      0.00245656      0.0032366    0.00274213\n",
       "(i, 've)      0.00193566     0.000546682    0.000403049   0.000274213\n",
       "(you, 're)    0.00188097      0.00121952    0.000879379    0.00063983\n",
       "(there, 's)   0.00181081     0.000904127    0.000488544   0.000365617\n",
       "(they, 're)    0.0016304     0.000567708    0.000537398   0.000438741\n",
       "(he, 's)      0.00162229     0.000392489    0.000464116   0.000255932\n",
       "(did, n't)    0.00149552     0.000735918     0.00118472   0.000804358\n",
       "(you, 've)    0.00138857     0.000220775    4.88544e-05   3.65617e-05\n",
       "(ca, n't)     0.00137492     0.000620273    0.000732815   0.000566707\n",
       "(i, 'll)      0.00135872     0.000462577    0.000464116   0.000438741\n",
       "(we, 're)     0.00114771     0.000844553    0.000659534   0.000511864\n",
       "(we, 've)     0.00112724     0.000203253    9.77087e-05   0.000182809"
      ]
     },
     "execution_count": 81,
     "metadata": {},
     "output_type": "execute_result"
    }
   ],
   "source": [
    "bigrams_df.plot(kind='bar', figsize=(20,10))\n",
    "plt.tick_params(axis = 'both', reset=True, labelsize=15)\n",
    "plt.legend(prop={'size':20})\n",
    "plt.xlabel(\"Bigrams\", fontsize= 20, labelpad = 20)\n",
    "plt.ylabel(\"Frequency (percent)\", fontsize= 20, labelpad = 20)\n",
    "plt.show()\n",
    "\n",
    "bigrams_df"
   ]
  },
  {
   "cell_type": "code",
   "execution_count": null,
   "metadata": {
    "collapsed": true
   },
   "outputs": [],
   "source": []
  }
 ],
 "metadata": {
  "kernelspec": {
   "display_name": "Python 3",
   "language": "python",
   "name": "python3"
  },
  "language_info": {
   "codemirror_mode": {
    "name": "ipython",
    "version": 3
   },
   "file_extension": ".py",
   "mimetype": "text/x-python",
   "name": "python",
   "nbconvert_exporter": "python",
   "pygments_lexer": "ipython3",
   "version": "3.6.1"
  }
 },
 "nbformat": 4,
 "nbformat_minor": 2
}
