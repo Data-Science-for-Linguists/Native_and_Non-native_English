{
 "cells": [
  {
   "cell_type": "code",
   "execution_count": 19,
   "metadata": {
    "collapsed": true
   },
   "outputs": [],
   "source": [
    "import pickle\n",
    "import nltk\n",
    "from nltk.corpus import stopwords\n",
    "stopWords = set(stopwords.words('english'))\n",
    "\n",
    "from IPython.core.interactiveshell import InteractiveShell\n",
    "InteractiveShell.ast_node_interactivity = \"all\""
   ]
  },
  {
   "cell_type": "code",
   "execution_count": 2,
   "metadata": {
    "collapsed": true
   },
   "outputs": [],
   "source": [
    "#Get the tokens for each corpus from their respective pickle files\n",
    "f = open('VOICE_tokenized.p', 'rb')\n",
    "VOICE_toks = pickle.load(f)\n",
    "f.close()\n",
    "\n",
    "f = open('BNC_tokenized.p', 'rb')\n",
    "BNC_toks = pickle.load(f)\n",
    "f.close()\n",
    "\n",
    "f = open('VOICE_tagged.p', 'rb')\n",
    "VOICE_tags = pickle.load(f)\n",
    "f.close()\n",
    "\n",
    "f = open('BNC_tagged.p', 'rb')\n",
    "BNC_tags = pickle.load(f)\n",
    "f.close()"
   ]
  },
  {
   "cell_type": "code",
   "execution_count": 3,
   "metadata": {
    "collapsed": true
   },
   "outputs": [],
   "source": [
    "def get_bigrams(dictionary):\n",
    "    bigrams = []\n",
    "    for file in dictionary:\n",
    "        for key in dictionary[file]:\n",
    "            pairs = list(nltk.bigrams(dictionary[file][key]))\n",
    "            bigrams.extend(pairs)\n",
    "    return bigrams"
   ]
  },
  {
   "cell_type": "code",
   "execution_count": 4,
   "metadata": {},
   "outputs": [
    {
     "data": {
      "text/plain": [
       "\"\\nTakes a list of bigrams, returns dictionary whose keys are bigrams containing duplicate words (e.g ('i', 'i',), \\n'the', 'the') and whose values are the frequencies of each bigram\\n\""
      ]
     },
     "execution_count": 4,
     "metadata": {},
     "output_type": "execute_result"
    }
   ],
   "source": [
    "\"\"\"\n",
    "Takes a list of bigrams, returns dictionary whose keys are bigrams containing duplicate words (e.g ('i', 'i',), \n",
    "'the', 'the') and whose values are the frequencies of each bigram\n",
    "\"\"\"\n",
    "def repeated_words(bigrams):\n",
    "    repeated = {}\n",
    "    for b in bigrams:\n",
    "        if(b[0] == b[1]):\n",
    "            if(b not in repeated):\n",
    "                repeated[b] = 1\n",
    "            else:\n",
    "                repeated[b] += 1\n",
    "    return repeated"
   ]
  },
  {
   "cell_type": "code",
   "execution_count": 5,
   "metadata": {},
   "outputs": [
    {
     "data": {
      "text/plain": [
       "\"\\nTakes a dictionary of bigrams whose keys are bigrams containing duplicate words (e.g ('i', 'i',), \\n'the', 'the') and whose values are the frequencies of each bigram. Returns a dictionary of the same format, but\\nonly includes bigrams that contain a stopword.\\n\""
      ]
     },
     "execution_count": 5,
     "metadata": {},
     "output_type": "execute_result"
    }
   ],
   "source": [
    "\"\"\"\n",
    "Takes a dictionary of bigrams whose keys are bigrams containing duplicate words (e.g ('i', 'i',), \n",
    "'the', 'the') and whose values are the frequencies of each bigram. Returns the sum of the frequencies for only\n",
    "bigrams that contain repeated stop words\n",
    "\"\"\"\n",
    "def repeated_stopwords(bigram_dict):\n",
    "    count = 0\n",
    "    for b in bigram_dict.keys():\n",
    "        if b[0] in stopWords:\n",
    "            count += bigram_dict[b]\n",
    "    return count"
   ]
  },
  {
   "cell_type": "code",
   "execution_count": 6,
   "metadata": {},
   "outputs": [
    {
     "data": {
      "text/plain": [
       "'\\nTakes a dictionary containing conversations and a user-provided tag. Returns a dictionary who keys are words that are \\nassocited with the tag, and whose values are the frequencies of each word\\n'"
      ]
     },
     "execution_count": 6,
     "metadata": {},
     "output_type": "execute_result"
    }
   ],
   "source": [
    "\"\"\"\n",
    "Takes a dictionary containing conversations and a user-provided tag. Returns a dictionary who keys are words that are \n",
    "associted with the tag, and whose values are the frequencies of each word\n",
    "\"\"\"\n",
    "def tag_counts(conv_dictionary, tag):\n",
    "    tags = {}\n",
    "    for file in conv_dictionary:\n",
    "        for key in conv_dictionary[file]:\n",
    "            for pair in conv_dictionary[file][key]:\n",
    "                if(pair[1] == tag):\n",
    "                    if(pair not in tags):\n",
    "                        tags[pair] = 1\n",
    "                    else:\n",
    "                        tags[pair] += 1\n",
    "    return tags"
   ]
  },
  {
   "cell_type": "code",
   "execution_count": 7,
   "metadata": {},
   "outputs": [
    {
     "data": {
      "text/plain": [
       "'\\nTakes a list of bigrams and a percentage between 0 and 1. Returns a dictionary whose keys are bigrams and whose values\\nare the frequencies of the bigrams. The bigrams included in the dictionary are only the ones that occur in the top \\ngiven percent. For example, if the user inputs BNC_bigrams 0.3, the returned dictionary will occur the top 30% of \\nbigrams in terms of their frequence. The BNC has 9378696 bigram occurrences, so the dictionary will contain around \\n1875739 entries.\\n'"
      ]
     },
     "execution_count": 7,
     "metadata": {},
     "output_type": "execute_result"
    }
   ],
   "source": [
    "\"\"\"\n",
    "Takes a list of bigrams and a percentage between 0 and 1. Returns a dictionary whose keys are bigrams and whose values\n",
    "are the frequencies of the bigrams. The bigrams included in the dictionary are only the ones that occur in the top \n",
    "given percent. For example, if the user inputs BNC_bigrams 0.3, the returned dictionary will occur the top 30% of \n",
    "bigrams in terms of their frequence. The BNC has 9378696 bigram occurrences, so the dictionary will contain around \n",
    "1875739 entries.\n",
    "\"\"\"\n",
    "\n",
    "def frequent_bigrams(bigrams, percent):\n",
    "    freqs = nltk.FreqDist(bigrams)\n",
    "    most_common = freqs.most_common()\n",
    "    limit = len(bigrams) * percent\n",
    "    num_occurrences = 0\n",
    "    top_bigrams = []\n",
    "    \n",
    "    for b in freqs.most_common():\n",
    "        num_occurrences += b[1]\n",
    "        if(num_occurrences >= limit):\n",
    "            return top_bigrams\n",
    "        top_bigrams.append(b)\n",
    "    return count_dictionary"
   ]
  },
  {
   "cell_type": "code",
   "execution_count": null,
   "metadata": {
    "collapsed": true
   },
   "outputs": [],
   "source": []
  },
  {
   "cell_type": "code",
   "execution_count": 36,
   "metadata": {},
   "outputs": [],
   "source": [
    "VOICE_top_bigrams = frequent_bigrams(VOICE_bigrams, .2)"
   ]
  },
  {
   "cell_type": "code",
   "execution_count": 38,
   "metadata": {},
   "outputs": [],
   "source": [
    "BNC_top_bigrams = frequent_bigrams(BNC_bigrams, .2)"
   ]
  },
  {
   "cell_type": "code",
   "execution_count": 39,
   "metadata": {
    "collapsed": true
   },
   "outputs": [],
   "source": [
    "BNC_top = [b[0] for b in BNC_top_bigrams]\n",
    "VOICE_top = [b[0] for b in VOICE_top_bigrams]"
   ]
  },
  {
   "cell_type": "code",
   "execution_count": 40,
   "metadata": {
    "collapsed": true
   },
   "outputs": [],
   "source": [
    "BNC_not_VOICE = [b for b in BNC_top if b not in VOICE_top]\n",
    "VOICE_not_BNC = [b for b in VOICE_top if b not in BNC_top]"
   ]
  },
  {
   "cell_type": "code",
   "execution_count": 41,
   "metadata": {},
   "outputs": [
    {
     "data": {
      "text/plain": [
       "[('yeah', 'yeah'),\n",
       " ('er', 'er'),\n",
       " ('we', 'are'),\n",
       " ('to', 'to'),\n",
       " ('in', 'in'),\n",
       " ('[', 'first'),\n",
       " ('mhm', 'mhm'),\n",
       " ('kind', 'of'),\n",
       " ('they', 'are'),\n",
       " ('but', 'er'),\n",
       " ('that', 'er'),\n",
       " ('er', 'we'),\n",
       " ('of', 'er'),\n",
       " ('er', 'in'),\n",
       " ('yes', 'yes'),\n",
       " ('hh', 'er'),\n",
       " ('is', 'not'),\n",
       " ('for', 'example'),\n",
       " ('we', 'we'),\n",
       " (']', '['),\n",
       " ('so', 'it'),\n",
       " ('hh', 'and'),\n",
       " ('you', 'are'),\n",
       " ('yeah', 'but'),\n",
       " ('[', 'org1'),\n",
       " ('org1', ']'),\n",
       " ('should', 'be'),\n",
       " ('er', 'it'),\n",
       " ('so', 'we'),\n",
       " ('have', 'the'),\n",
       " ('is', 'er'),\n",
       " ('er', '['),\n",
       " (\"'s\", 'er'),\n",
       " ('they', 'have'),\n",
       " ('we', 'will'),\n",
       " ('yah', 'yah'),\n",
       " ('the', '['),\n",
       " ('let', \"'s\"),\n",
       " ('x', 'x'),\n",
       " (']', 'and'),\n",
       " ('and', 'this'),\n",
       " ('because', 'i'),\n",
       " ('what', 'is'),\n",
       " ('in', 'this'),\n",
       " ('then', 'we'),\n",
       " ('er', 'and'),\n",
       " ('a', 'a'),\n",
       " ('we', 'should'),\n",
       " ('and', 'so'),\n",
       " ('[', 'org2'),\n",
       " ('org2', ']'),\n",
       " ('er', 'you'),\n",
       " ('it', 'it'),\n",
       " ('to', 'make'),\n",
       " ('you', 'you'),\n",
       " ('of', 'of'),\n",
       " ('er', 'to')]"
      ]
     },
     "execution_count": 41,
     "metadata": {},
     "output_type": "execute_result"
    }
   ],
   "source": [
    "VOICE_not_BNC"
   ]
  },
  {
   "cell_type": "code",
   "execution_count": 42,
   "metadata": {},
   "outputs": [
    {
     "data": {
      "text/plain": [
       "[(\"'ve\", 'got'),\n",
       " ('i', \"'ve\"),\n",
       " ('he', \"'s\"),\n",
       " ('you', \"'ve\"),\n",
       " ('i', \"'ll\"),\n",
       " ('gon', 'na'),\n",
       " ('we', \"'ve\"),\n",
       " ('well', 'i'),\n",
       " ('she', \"'s\"),\n",
       " (\"n't\", 'it'),\n",
       " ('is', \"n't\"),\n",
       " ('used', 'to'),\n",
       " ('what', \"'s\"),\n",
       " ('to', 'get'),\n",
       " ('i', 'said'),\n",
       " ('a', 'bit'),\n",
       " ('to', 'go'),\n",
       " ('you', 'see'),\n",
       " ('and', 'he'),\n",
       " ('have', \"n't\"),\n",
       " ('got', 'a'),\n",
       " ('that', 'was'),\n",
       " ('one', 'of'),\n",
       " ('was', 'a'),\n",
       " ('he', 'was'),\n",
       " (\"n't\", 'you'),\n",
       " ('they', 'were'),\n",
       " ('there', 'was'),\n",
       " ('got', 'to'),\n",
       " ('i', \"'d\"),\n",
       " ('are', 'you'),\n",
       " ('that', 'i'),\n",
       " ('i', 'did'),\n",
       " ('for', 'a'),\n",
       " ('did', 'you'),\n",
       " ('would', \"n't\"),\n",
       " ('they', \"'ve\"),\n",
       " (\"'s\", 'got'),\n",
       " ('we', \"'ll\"),\n",
       " ('wo', \"n't\"),\n",
       " (\"'s\", 'right'),\n",
       " ('have', 'you'),\n",
       " ('what', 'you'),\n",
       " ('i', 'thought'),\n",
       " ('of', 'a'),\n",
       " ('out', 'of'),\n",
       " ('look', 'at'),\n",
       " ('was', \"n't\"),\n",
       " ('he', 'said'),\n",
       " ('oh', 'i'),\n",
       " (\"n't\", 'think'),\n",
       " ('had', 'a'),\n",
       " (\"'re\", 'not'),\n",
       " (\"'ll\", 'be'),\n",
       " ('if', 'i'),\n",
       " ('you', 'get'),\n",
       " ('by', 'the'),\n",
       " ('when', 'i'),\n",
       " ('of', 'them'),\n",
       " (\"'m\", 'not'),\n",
       " ('erm', 'i'),\n",
       " ('have', 'been'),\n",
       " ('that', 'they'),\n",
       " ('know', 'what'),\n",
       " (\"'s\", 'what'),\n",
       " ('and', 'a'),\n",
       " ('they', 'do'),\n",
       " ('of', 'it'),\n",
       " ('i', 'ca'),\n",
       " ('that', 'one'),\n",
       " ('hundred', 'and'),\n",
       " ('a', 'little'),\n",
       " ('you', \"'ll\"),\n",
       " ('the', 'way'),\n",
       " ('you', 'could'),\n",
       " ('on', 'a'),\n",
       " ('was', 'the'),\n",
       " ('you', 'got'),\n",
       " ('she', 'said'),\n",
       " ('had', 'to'),\n",
       " ('you', 'think'),\n",
       " ('with', 'a'),\n",
       " ('that', 'that'),\n",
       " ('could', \"n't\"),\n",
       " ('some', 'of'),\n",
       " ('to', 'say'),\n",
       " ('and', 'she'),\n",
       " ('well', 'it'),\n",
       " ('you', 'were'),\n",
       " ('oh', 'yeah'),\n",
       " (\"'ve\", 'been'),\n",
       " ('i', 'had'),\n",
       " ('like', 'to'),\n",
       " (\"'s\", 'that'),\n",
       " ('but', 'you'),\n",
       " ('it', 'would'),\n",
       " ('i', 'just'),\n",
       " (\"'s\", 'just'),\n",
       " ('it', 'in'),\n",
       " ('it', 'does'),\n",
       " ('it', 'and'),\n",
       " ('well', 'you'),\n",
       " ('if', 'it'),\n",
       " ('of', 'that'),\n",
       " ('we', 'were'),\n",
       " ('go', 'to'),\n",
       " ('can', 'you'),\n",
       " ('to', 'me'),\n",
       " (\"'ll\", 'have'),\n",
       " ('i', 'could'),\n",
       " ('to', 'see'),\n",
       " ('the', 'time'),\n",
       " ('you', \"'d\"),\n",
       " (\"n't\", 'they'),\n",
       " ('up', 'to'),\n",
       " ('if', 'they'),\n",
       " ('to', 'you')]"
      ]
     },
     "execution_count": 42,
     "metadata": {},
     "output_type": "execute_result"
    }
   ],
   "source": [
    "BNC_not_VOICE"
   ]
  },
  {
   "cell_type": "code",
   "execution_count": 8,
   "metadata": {
    "collapsed": true
   },
   "outputs": [],
   "source": [
    "VOICE_bigrams = get_bigrams(VOICE_toks)"
   ]
  },
  {
   "cell_type": "code",
   "execution_count": 9,
   "metadata": {
    "collapsed": true
   },
   "outputs": [],
   "source": [
    "BNC_bigrams = get_bigrams(BNC_toks)"
   ]
  },
  {
   "cell_type": "code",
   "execution_count": 10,
   "metadata": {},
   "outputs": [
    {
     "data": {
      "text/plain": [
       "555247"
      ]
     },
     "execution_count": 10,
     "metadata": {},
     "output_type": "execute_result"
    },
    {
     "data": {
      "text/plain": [
       "9378696"
      ]
     },
     "execution_count": 10,
     "metadata": {},
     "output_type": "execute_result"
    }
   ],
   "source": [
    "len(VOICE_bigrams)\n",
    "len(BNC_bigrams)"
   ]
  },
  {
   "cell_type": "code",
   "execution_count": 13,
   "metadata": {
    "collapsed": true
   },
   "outputs": [],
   "source": [
    "VOICE_repeated_words = repeated_words(VOICE_bigrams)\n",
    "BNC_repeated_words = repeated_words(BNC_bigrams)"
   ]
  },
  {
   "cell_type": "code",
   "execution_count": 15,
   "metadata": {},
   "outputs": [],
   "source": [
    "VOICE_total_repetitions =  sum(VOICE_repeated_words.values())\n",
    "BNC_total_repetitions = sum(BNC_repeated_words.values())"
   ]
  },
  {
   "cell_type": "code",
   "execution_count": 16,
   "metadata": {},
   "outputs": [
    {
     "data": {
      "text/plain": [
       "16153"
      ]
     },
     "execution_count": 16,
     "metadata": {},
     "output_type": "execute_result"
    },
    {
     "data": {
      "text/plain": [
       "101555"
      ]
     },
     "execution_count": 16,
     "metadata": {},
     "output_type": "execute_result"
    }
   ],
   "source": [
    "VOICE_total_repetitions\n",
    "BNC_total_repetitions"
   ]
  },
  {
   "cell_type": "code",
   "execution_count": 17,
   "metadata": {},
   "outputs": [
    {
     "data": {
      "text/plain": [
       "0.02909155745100829"
      ]
     },
     "execution_count": 17,
     "metadata": {},
     "output_type": "execute_result"
    },
    {
     "data": {
      "text/plain": [
       "0.010828264398376917"
      ]
     },
     "execution_count": 17,
     "metadata": {},
     "output_type": "execute_result"
    }
   ],
   "source": [
    "VOICE_total_repetitions/len(VOICE_bigrams)\n",
    "BNC_total_repetitions/len(BNC_bigrams)"
   ]
  },
  {
   "cell_type": "code",
   "execution_count": 23,
   "metadata": {},
   "outputs": [
    {
     "name": "stdout",
     "output_type": "stream",
     "text": [
      "('yeah', 'yeah') 1264\n",
      "('the', 'the') 1206\n",
      "('er', 'er') 1123\n",
      "('i', 'i') 1042\n",
      "('no', 'no') 867\n",
      "('to', 'to') 693\n",
      "('in', 'in') 622\n",
      "('mhm', 'mhm') 563\n",
      "('and', 'and') 518\n",
      "('yes', 'yes') 487\n",
      "('we', 'we') 434\n",
      "('yah', 'yah') 384\n",
      "('x', 'x') 362\n",
      "('a', 'a') 320\n",
      "('it', 'it') 298\n",
      "('you', 'you') 294\n",
      "('of', 'of') 294\n",
      "('that', 'that') 216\n",
      "('xx', 'xx') 191\n",
      "('for', 'for') 182\n"
     ]
    }
   ],
   "source": [
    "for bigram in sorted(VOICE_repeated_words, key = VOICE_repeated_words.get, reverse=True)[:20]:\n",
    "    print(bigram, VOICE_repeated_words[bigram])"
   ]
  },
  {
   "cell_type": "code",
   "execution_count": 24,
   "metadata": {},
   "outputs": [
    {
     "name": "stdout",
     "output_type": "stream",
     "text": [
      "('i', 'i') 8598\n",
      "('the', 'the') 6722\n",
      "('that', 'that') 3953\n",
      "('no', 'no') 3948\n",
      "('and', 'and') 3511\n",
      "('er', 'er') 3448\n",
      "('a', 'a') 3228\n",
      "('mm', 'mm') 3197\n",
      "('it', 'it') 2940\n",
      "('you', 'you') 2922\n",
      "('in', 'in') 2486\n",
      "('yeah', 'yeah') 2248\n",
      "('to', 'to') 2015\n",
      "('we', 'we') 2004\n",
      "('yes', 'yes') 1861\n",
      "('they', 'they') 1742\n",
      "('he', 'he') 1670\n",
      "('is', 'is') 1571\n",
      "('very', 'very') 1437\n",
      "('what', 'what') 1342\n"
     ]
    }
   ],
   "source": [
    "for bigram in sorted(BNC_repeated_words, key=BNC_repeated_words.get, reverse=True)[:20]:\n",
    "    print(bigram, BNC_repeated_words[bigram])"
   ]
  },
  {
   "cell_type": "code",
   "execution_count": 20,
   "metadata": {
    "collapsed": true
   },
   "outputs": [],
   "source": [
    "VOICE_repeated_stopwords = repeated_stopwords(VOICE_repeated_words)\n",
    "BNC_repeated_stopwords = repeated_stopwords(BNC_repeated_words)"
   ]
  },
  {
   "cell_type": "code",
   "execution_count": 25,
   "metadata": {},
   "outputs": [
    {
     "data": {
      "text/plain": [
       "0.6039125858973565"
      ]
     },
     "execution_count": 25,
     "metadata": {},
     "output_type": "execute_result"
    },
    {
     "data": {
      "text/plain": [
       "0.6675889911870415"
      ]
     },
     "execution_count": 25,
     "metadata": {},
     "output_type": "execute_result"
    }
   ],
   "source": [
    "VOICE_repeated_stopwords/VOICE_total_repetitions\n",
    "BNC_repeated_stopwords/BNC_total_repetitions"
   ]
  },
  {
   "cell_type": "code",
   "execution_count": 31,
   "metadata": {},
   "outputs": [
    {
     "data": {
      "text/plain": [
       "44012"
      ]
     },
     "execution_count": 31,
     "metadata": {},
     "output_type": "execute_result"
    },
    {
     "data": {
      "text/plain": [
       "231847"
      ]
     },
     "execution_count": 31,
     "metadata": {},
     "output_type": "execute_result"
    }
   ],
   "source": [
    "VOICE_num_hesitations\n",
    "BNC_num_hesitations"
   ]
  },
  {
   "cell_type": "code",
   "execution_count": 27,
   "metadata": {},
   "outputs": [],
   "source": [
    "#VOICE: UHfUH\n",
    "#BNC: UNC\n",
    "VOICE_hesitations = tag_counts(VOICE_tags, \"UHfUH\")\n",
    "BNC_hesitations = tag_counts(BNC_tags, \"UNC\")"
   ]
  },
  {
   "cell_type": "code",
   "execution_count": 30,
   "metadata": {
    "collapsed": true
   },
   "outputs": [],
   "source": [
    "VOICE_num_hesitations = sum(VOICE_hesitations.values())\n",
    "BNC_num_hesitations = sum(BNC_hesitations.values())"
   ]
  },
  {
   "cell_type": "code",
   "execution_count": 28,
   "metadata": {},
   "outputs": [
    {
     "data": {
      "text/plain": [
       "dict_keys([('er', 'UHfUH'), ('oh', 'UHfUH'), ('ah', 'UHfUH'), ('erm', 'UHfUH'), ('pf', 'UHfUH'), ('oops', 'UHfUH'), ('haeh', 'UHfUH'), ('wow', 'UHfUH'), ('sh', 'UHfUH'), ('ooph', 'UHfUH'), ('ur', 'UHfUH'), ('yo', 'UHfUH'), ('whoohoo', 'UHfUH'), ('yuck', 'UHfUH'), ('huh', 'UHfUH'), ('oh-oh', 'UHfUH'), ('poah', 'UHfUH'), ('ts', 'UHfUH'), ('ow', 'UHfUH'), ('oow', 'UHfUH'), ('innit', 'UHfUH'), ('yipee', 'UHfUH'), ('mm', 'UHfUH'), ('ha', 'UHfUH'), ('yay', 'UHfUH'), ('uh', 'UHfUH'), ('ouch', 'UHfUH'), ('psh', 'UHfUH'), ('eh', 'UHfUH')])"
      ]
     },
     "execution_count": 28,
     "metadata": {},
     "output_type": "execute_result"
    }
   ],
   "source": [
    "VOICE_hesitations.keys()"
   ]
  },
  {
   "cell_type": "code",
   "execution_count": 29,
   "metadata": {},
   "outputs": [
    {
     "data": {
      "text/plain": [
       "dict_keys([('erm', 'UNC'), ('er', 'UNC'), (\"'s\", 'UNC'), ('be', 'UNC'), ('th-', 'UNC'), ('com', 'UNC'), ('gu', 'UNC'), ('di', 'UNC'), ('creme', 'UNC'), ('non', 'UNC'), ('lieu', 'UNC'), ('en', 'UNC'), ('int', 'UNC'), ('ma', 'UNC'), ('te', 'UNC'), ('cur', 'UNC'), ('in', 'UNC'), ('s', 'UNC'), ('pa', 'UNC'), ('si', 'UNC'), ('wh', 'UNC'), ('ac', 'UNC'), ('thi', 'UNC'), ('st', 'UNC'), (\"'\", 'UNC'), ('papier', 'UNC'), ('mache', 'UNC'), ('mark', 'UNC'), ('p', 'UNC'), ('walk', 'UNC'), ('na', 'UNC'), ('theat', 'UNC'), ('counc', 'UNC'), ('six', 'UNC'), ('per', 'UNC'), ('cent', 'UNC'), ('org', 'UNC'), ('oth', 'UNC'), ('ver', 'UNC'), ('let', 'UNC'), ('i', 'UNC'), ('wro', 'UNC'), ('t', 'UNC'), ('pet', 'UNC'), ('even', 'UNC'), ('pub', 'UNC'), ('ev', 'UNC'), ('dor', 'UNC'), ('re', 'UNC'), ('pay', 'UNC'), ('criminalisa', 'UNC'), ('met', 'UNC'), ('execu', 'UNC'), ('kath', 'UNC'), ('ha', 'UNC'), ('go', 'UNC'), ('corres', 'UNC'), ('wom', 'UNC'), ('sep', 'UNC'), ('va', 'UNC'), ('mon', 'UNC'), ('mem', 'UNC'), ('dum', 'UNC'), ('vi', 'UNC'), ('der', 'UNC'), ('systema', 'UNC'), ('res', 'UNC'), ('as', 'UNC'), ('es', 'UNC'), ('coun', 'UNC'), ('resor', 'UNC'), ('cou', 'UNC'), ('w', 'UNC'), ('aft', 'UNC'), ('environ', 'UNC'), ('d', 'UNC'), ('a', 'UNC'), ('pro', 'UNC'), ('sh', 'UNC'), ('sub', 'UNC'), ('environment', 'UNC'), ('any', 'UNC'), ('e', 'UNC'), ('par', 'UNC'), ('br', 'UNC'), ('the', 'UNC'), ('wa', 'UNC'), ('r', 'UNC'), ('ho', 'UNC'), ('pr', 'UNC'), ('mo', 'UNC'), ('pe', 'UNC'), ('th', 'UNC'), ('c', 'UNC'), ('ce', 'UNC'), ('we', 'UNC'), ('con', 'UNC'), ('b', 'UNC'), ('it', 'UNC'), ('h', 'UNC'), ('sa', 'UNC'), ('presum', 'UNC'), ('se', 'UNC'), ('su', 'UNC'), ('play', 'UNC'), ('collect', 'UNC'), ('f', 'UNC'), ('inf', 'UNC'), ('ti', 'UNC'), ('l', 'UNC'), ('just', 'UNC'), ('from', 'UNC'), ('ka', 'UNC'), ('plus', 'UNC'), ('ou', 'UNC'), ('lo', 'UNC'), ('do', 'UNC'), ('tal', 'UNC'), ('did', 'UNC'), ('obvious', 'UNC'), ('po', 'UNC'), ('ke', 'UNC'), ('nob', 'UNC'), ('wr', 'UNC'), ('soli', 'UNC'), ('al', 'UNC'), ('an', 'UNC'), ('le', 'UNC'), ('talk', 'UNC'), ('quir', 'UNC'), ('give', 'UNC'), ('amn', 'UNC'), ('del', 'UNC'), ('ex', 'UNC'), ('rea', 'UNC'), ('confu', 'UNC'), ('yugoslav', 'UNC'), ('ne', 'UNC'), ('thir', 'UNC'), ('ju', 'UNC'), ('y', 'UNC'), ('hap', 'UNC'), ('stort', 'UNC'), ('wo', 'UNC'), ('on', 'UNC'), ('m', 'UNC'), ('g', 'UNC'), ('eit', 'UNC'), ('no', 'UNC'), ('gr', 'UNC'), ('confir', 'UNC'), ('coll', 'UNC'), ('navareno', 'UNC'), ('navar', 'UNC'), ('nav', 'UNC'), ('munchen', 'UNC'), ('ind', 'UNC'), ('coup', 'UNC'), (\"d'etat\", 'UNC'), ('supp', 'UNC'), ('vice', 'UNC'), ('versa', 'UNC'), ('constitut', 'UNC'), ('ag', 'UNC'), ('foo', 'UNC'), ('au', 'UNC'), ('dan', 'UNC'), ('vis', 'UNC'), ('which', 'UNC'), ('interv', 'UNC'), ('congr', 'UNC'), ('all', 'UNC'), ('boundar', 'UNC'), ('try', 'UNC'), ('bon', 'UNC'), ('jour', 'UNC'), ('over', 'UNC'), ('bo', 'UNC'), ('des', 'UNC'), ('star', 'UNC'), ('ge', 'UNC'), ('cla', 'UNC'), ('safe', 'UNC'), ('bubbl', 'UNC'), ('prop', 'UNC'), ('lin', 'UNC'), ('fi', 'UNC'), ('intag', 'UNC'), ('co', 'UNC'), ('qu', 'UNC'), ('tynes', 'UNC'), ('break', 'UNC'), ('de', 'UNC'), ('bars', 'UNC'), ('unders', 'UNC'), ('elizab', 'UNC'), ('under', 'UNC'), ('o', 'UNC'), ('annum', 'UNC'), ('lea', 'UNC'), ('mea', 'UNC'), ('cater', 'UNC'), ('ante', 'UNC'), ('agen', 'UNC'), ('and', 'UNC'), ('pl', 'UNC'), ('comp', 'UNC'), ('publ', 'UNC'), ('diff', 'UNC'), ('ci', 'UNC'), ('goi', 'UNC'), ('nearer', 'UNC'), ('oc', 'UNC'), ('carn', 'UNC'), ('guar', 'UNC'), ('so', 'UNC'), ('profe', 'UNC'), ('for', 'UNC'), ('stand', 'UNC'), ('la', 'UNC'), ('yo', 'UNC'), ('mi', 'UNC'), ('me', 'UNC'), ('would', 'UNC'), ('wi', 'UNC'), ('ri', 'UNC'), ('after', 'UNC'), ('da', 'UNC'), ('sta', 'UNC'), ('wha', 'UNC'), ('tha', 'UNC'), ('ja', 'UNC'), ('li', 'UNC'), ('ar', 'UNC'), ('fo', 'UNC'), ('begi', 'UNC'), ('lev', 'UNC'), ('pre', 'UNC'), ('wou', 'UNC'), ('spli', 'UNC'), ('altho', 'UNC'), ('perfect', 'UNC'), ('sti', 'UNC'), ('everybo', 'UNC'), ('un', 'UNC'), ('ca', 'UNC'), ('bla', 'UNC'), ('pref', 'UNC'), ('dif', 'UNC'), ('pu', 'UNC'), ('out', 'UNC'), ('im', 'UNC'), ('ea', 'UNC'), ('ai', 'UNC'), ('beca', 'UNC'), ('sho', 'UNC'), ('bi', 'UNC'), ('differenti', 'UNC'), ('qui', 'UNC'), ('ki', 'UNC'), ('opportuni', 'UNC'), ('ye', 'UNC'), ('depe', 'UNC'), ('ro', 'UNC'), ('apo', 'UNC'), ('rou', 'UNC'), ('cleari', 'UNC'), ('canno', 'UNC'), ('dis', 'UNC'), ('some', 'UNC'), ('beco', 'UNC'), ('they', 'UNC'), ('fro', 'UNC'), ('to', 'UNC'), ('prob', 'UNC'), ('indi', 'UNC'), ('extern', 'UNC'), ('scho', 'UNC'), ('tr', 'UNC'), ('eno', 'UNC'), ('norm', 'UNC'), ('ste', 'UNC'), ('gen', 'UNC'), ('fe', 'UNC'), ('rem', 'UNC'), ('writ', 'UNC'), ('sugge', 'UNC'), ('du', 'UNC'), ('wishe', 'UNC'), ('gi', 'UNC'), ('lim', 'UNC'), ('ta', 'UNC'), ('jus', 'UNC'), ('execra', 'UNC'), ('orig', 'UNC'), ('ori', 'UNC'), ('young', 'UNC'), ('whe', 'UNC'), ('belo', 'UNC'), ('ham', 'UNC'), ('appr', 'UNC'), ('bu', 'UNC'), ('canna', 'UNC'), ('tho', 'UNC'), ('or', 'UNC'), ('dep', 'UNC'), ('pri', 'UNC'), ('afterno', 'UNC'), ('thr', 'UNC'), ('will', 'UNC'), ('ba', 'UNC'), ('poin', 'UNC'), ('get', 'UNC'), ('if', 'UNC'), ('he', 'UNC'), ('bona', 'UNC'), ('fide', 'UNC'), ('may', 'UNC'), ('u', 'UNC'), ('n', 'UNC'), ('gon', 'UNC'), ('valu', 'UNC'), ('mai', 'UNC'), ('kingp', 'UNC'), ('king', 'UNC'), ('def', 'UNC'), ('etce', 'UNC'), ('respo', 'UNC'), ('diffi', 'UNC'), ('negotiat', 'UNC'), ('rus', 'UNC'), ('of', 'UNC'), ('time', 'UNC'), ('trans', 'UNC'), ('operat', 'UNC'), ('cop', 'UNC'), ('assid', 'UNC'), ('there', 'UNC'), ('dr', 'UNC'), ('nou', 'UNC'), ('clo', 'UNC'), ('conf', 'UNC'), ('mer', 'UNC'), ('ele', 'UNC'), ('big', 'UNC'), ('elect', 'UNC'), ('reflect', 'UNC'), ('dem', 'UNC'), ('el', 'UNC'), ('exp', 'UNC'), ('sect', 'UNC'), ('inter', 'UNC'), ('gla', 'UNC'), ('ala', 'UNC'), ('downsta', 'UNC'), ('scra', 'UNC'), ('strai', 'UNC'), ('fa', 'UNC'), ('fame', 'UNC'), ('pi', 'UNC'), ('karma', 'UNC'), ('sutra', 'UNC'), ('concentrat', 'UNC'), ('stu', 'UNC'), ('baa', 'UNC'), ('die', 'UNC'), ('isomer', 'UNC'), ('fu', 'UNC'), ('etha', 'UNC'), ('sca', 'UNC'), ('dra', 'UNC'), ('cry', 'UNC'), ('ota', 'UNC'), ('mis', 'UNC'), ('sch', 'UNC'), ('novem', 'UNC'), ('by', 'UNC'), ('oui', 'UNC'), ('ten', 'UNC'), ('air', 'UNC'), ('exclusive', 'UNC'), ('op', 'UNC'), ('anywhe', 'UNC'), ('relo', 'UNC'), ('conta', 'UNC'), ('advi', 'UNC'), ('ga', 'UNC'), ('ve', 'UNC'), ('are', 'UNC'), ('quali', 'UNC'), ('lu', 'UNC'), ('acci', 'UNC'), ('wai', 'UNC'), ('geo', 'UNC'), ('shuff', 'UNC'), ('dau', 'UNC'), ('man', 'UNC'), ('chim', 'UNC'), ('har', 'UNC'), ('adminis', 'UNC'), ('danci', 'UNC'), ('car', 'UNC'), ('tri', 'UNC'), ('tea', 'UNC'), ('af', 'UNC'), ('ow', 'UNC'), ('art', 'UNC'), ('ever', 'UNC'), ('inciden', 'UNC'), ('bed', 'UNC'), ('at', 'UNC'), ('cho', 'UNC'), ('hou', 'UNC'), ('victoria', 'UNC'), ('purp', 'UNC'), ('conse', 'UNC'), ('nu', 'UNC'), ('recons', 'UNC'), ('am', 'UNC'), ('neverth', 'UNC'), ('ref', 'UNC'), ('chur', 'UNC'), ('bap', 'UNC'), ('v', 'UNC'), ('status', 'UNC'), ('quo', 'UNC'), ('mu', 'UNC'), ('bapti', 'UNC'), ('gold', 'UNC'), ('membe', 'UNC'), ('sentenc', 'UNC'), ('passant', 'UNC'), ('aide', 'UNC'), ('memoire', 'UNC'), ('princ', 'UNC'), ('commen', 'UNC'), ('jo', 'UNC'), ('emphasi', 'UNC'), ('ni', 'UNC'), ('natu', 'UNC'), ('worl', 'UNC'), ('ab', 'UNC'), ('recipitents', 'UNC'), ('investicl', 'UNC'), ('happened', 'UNC'), ('resp', 'UNC'), ('nem', 'UNC'), ('id', 'UNC'), ('asse', 'UNC'), ('mod', 'UNC'), ('lifti', 'UNC'), ('you', 'UNC'), ('condens', 'UNC'), ('menti', 'UNC'), ('minu', 'UNC'), ('hola', 'UNC'), ('sp', 'UNC'), ('servi', 'UNC'), ('plat', 'UNC'), ('table', 'UNC'), (\"d'hote\", 'UNC'), ('carte', 'UNC'), ('bro', 'UNC'), ('remem', 'UNC'), ('ra', 'UNC'), ('engi', 'UNC'), ('prof', 'UNC'), ('ins', 'UNC'), ('je', 'UNC'), ('noth', 'UNC'), ('bra', 'UNC'), ('petit', 'UNC'), ('wish', 'UNC'), ('care', 'UNC'), ('irri', 'UNC'), ('peop', 'UNC'), ('chanc', 'UNC'), ('casu', 'UNC'), ('sit', 'UNC'), ('gran', 'UNC'), ('sn', 'UNC'), ('ur', 'UNC'), ('analeti', 'UNC'), ('skelet', 'UNC'), ('immediat', 'UNC'), ('decr', 'UNC'), ('chl', 'UNC'), ('fr', 'UNC'), ('biolo', 'UNC'), ('concentr', 'UNC'), ('whi', 'UNC'), ('ei', 'UNC'), ('mech', 'UNC'), ('bou', 'UNC'), ('biologi', 'UNC'), ('char', 'UNC'), ('j', 'UNC'), ('lit', 'UNC'), ('whooo', 'UNC'), ('introdu', 'UNC'), ('hi', 'UNC'), ('wri', 'UNC'), ('cen', 'UNC'), ('larg', 'UNC'), ('acc', 'UNC'), ('she', 'UNC'), ('vers', 'UNC'), ('wan', 'UNC'), ('pros', 'UNC'), ('bab', 'UNC'), ('spina', 'UNC'), ('bifida', 'UNC'), ('posi', 'UNC'), ('onigohydromo', 'UNC'), ('onigo', 'UNC'), ('amnio', 'UNC'), ('train', 'UNC'), ('act', 'UNC'), ('fam', 'UNC'), ('lov', 'UNC'), ('wal', 'UNC'), ('-ism', 'UNC'), ('ecz', 'UNC'), ('rach', 'UNC'), ('facil', 'UNC'), ('smar', 'UNC'), ('kno', 'UNC'), ('wah', 'UNC'), ('sno', 'UNC'), ('prese', 'UNC'), ('hapen', 'UNC'), ('inhibi', 'UNC'), ('oi', 'UNC'), ('coal', 'UNC'), ('cl', 'UNC'), ('probl', 'UNC'), ('comb', 'UNC'), ('sourc', 'UNC'), ('than', 'UNC'), ('hea', 'UNC'), ('reason', 'UNC'), ('unemploy', 'UNC'), ('special', 'UNC'), ('cha', 'UNC'), ('uni', 'UNC'), ('head', 'UNC'), ('dun', 'UNC'), ('allow', 'UNC'), ('tip', 'UNC'), ('il', 'UNC'), ('str', 'UNC'), ('cor', 'UNC'), ('ap', 'UNC'), ('hand', 'UNC'), ('ves', 'UNC'), ('robin', 'UNC'), ('fl', 'UNC'), ('roberts', 'UNC'), ('shi', 'UNC'), ('fin', 'UNC'), ('ad', 'UNC'), ('industrialization', 'UNC'), ('chine', 'UNC'), ('chi', 'UNC'), ('parceliza', 'UNC'), ('ple', 'UNC'), ('cum', 'UNC'), ('unexpecte', 'UNC'), ('arli', 'UNC'), ('use', 'UNC'), ('demo', 'UNC'), ('product', 'UNC'), ('politic', 'UNC'), ('feud', 'UNC'), ('everyo', 'UNC'), ('ebs', 'UNC'), ('approv', 'UNC'), ('coward', 'UNC'), ('muse', 'UNC'), ('staph', 'UNC'), ('intro', 'UNC'), ('cera', 'UNC'), ('patha', 'UNC'), ('nega', 'UNC'), ('sys', 'UNC'), ('acto', 'UNC'), ('sla', 'UNC'), ('eff', 'UNC'), ('proce', 'UNC'), ('endo', 'UNC'), ('seconda', 'UNC'), ('men', 'UNC'), ('dum-de-dum', 'UNC'), ('dum-dum-dum', 'UNC'), ('doc', 'UNC'), ('suppo', 'UNC'), ('goin', 'UNC'), ('somethi', 'UNC'), ('appro', 'UNC'), ('nauseam', 'UNC'), ('poss', 'UNC'), ('presumab', 'UNC'), ('photo', 'UNC'), ('togeth', 'UNC'), ('=3u', 'UNC'), ('record', 'UNC'), ('tu', 'UNC'), ('seve', 'UNC'), ('hormo', 'UNC'), ('replace', 'UNC'), ('end', 'UNC'), ('swe', 'UNC'), ('grea', 'UNC'), ('unfor', 'UNC'), ('besi', 'UNC'), ('admi', 'UNC'), ('ther', 'UNC'), ('rec', 'UNC'), ('don', 'UNC'), ('bleep', 'UNC'), ('wen', 'UNC'), ('pain', 'UNC'), ('ano', 'UNC'), ('see', 'UNC'), ('fre', 'UNC'), ('em', 'UNC'), ('rela', 'UNC'), ('vegetari', 'UNC'), ('sto', 'UNC'), ('obli', 'UNC'), ('stre', 'UNC'), ('counterpar', 'UNC'), ('phwurgh', 'UNC'), ('dimi', 'UNC'), ('discu', 'UNC'), ('lad', 'UNC'), ('nee', 'UNC'), ('oursel', 'UNC'), ('ina', 'UNC'), ('pres', 'UNC'), ('ob', 'UNC'), ('sur', 'UNC'), ('ess', 'UNC'), ('woof', 'UNC'), ('one', 'UNC'), ('marr', 'UNC'), ('real', 'UNC'), ('incred', 'UNC'), ('loa', 'UNC'), ('hus', 'UNC'), ('sou', 'UNC'), ('avail', 'UNC'), ('sco', 'UNC'), ('fiancé', 'UNC'), ('hel', 'UNC'), ('ch', 'UNC'), ('ado', 'UNC'), ('gossom', 'UNC'), ('impar', 'UNC'), ('rub', 'UNC'), ('abo', 'UNC'), ('up', 'UNC'), ('teachi', 'UNC'), ('situ', 'UNC'), ('multi-ra', 'UNC'), ('cre', 'UNC'), ('rigueur', 'UNC'), ('vo', 'UNC'), ('off', 'UNC'), ('ph', 'UNC'), ('psychiat', 'UNC'), ('mak', 'UNC'), ('multi=sensory', 'UNC'), ('tru', 'UNC'), ('reprod', 'UNC'), ('anybo', 'UNC'), ('mirac', 'UNC'), ('orve', 'UNC'), ('som', 'UNC'), ('endanges', 'UNC'), ('reproduc', 'UNC'), ('duc', 'UNC'), ('circu', 'UNC'), ('childre', 'UNC'), ('ing', 'UNC'), ('kin', 'UNC'), ('discriminat', 'UNC'), ('ball', 'UNC'), ('argu', 'UNC'), ('usu', 'UNC'), ('orien', 'UNC'), ('upho', 'UNC'), ('grer', 'UNC'), ('gra', 'UNC'), ('pla', 'UNC'), ('trad', 'UNC'), ('fash', 'UNC'), ('carlfa', 'UNC'), ('unfo', 'UNC'), ('fish', 'UNC'), ('her', 'UNC'), ('envir', 'UNC'), ('twe', 'UNC'), ('amo', 'UNC'), ('verofa', 'UNC'), ('smo', 'UNC'), ('willpower', 'UNC'), ('cons', 'UNC'), ('blu', 'UNC'), ('perfo', 'UNC'), ('usual', 'UNC'), ('bridegroo', 'UNC'), ('groo', 'UNC'), ('tau', 'UNC'), ('nothi', 'UNC'), ('homo', 'UNC'), ('sor', 'UNC'), ('proba', 'UNC'), ('sig', 'UNC'), ('titi', 'UNC'), ('fou', 'UNC'), ('us', 'UNC'), ('compla', 'UNC'), ('medsi', 'UNC'), ('gro', 'UNC'), ('iden', 'UNC'), ('arra', 'UNC'), ('jan', 'UNC'), ('forgo', 'UNC'), ('exes', 'UNC'), ('ter', 'UNC'), ('reas', 'UNC'), ('lus', 'UNC'), ('recor', 'UNC'), ('wor', 'UNC'), ('visi', 'UNC'), ('lay', 'UNC'), ('info', 'UNC'), ('illu', 'UNC'), ('seria', 'UNC'), ('sm', 'UNC'), ('duper', 'UNC'), ('doe', 'UNC'), ('ada', 'UNC'), ('say', 'UNC'), ('wer', 'UNC'), ('ir', 'UNC'), ('hae', 'UNC'), ('haem', 'UNC'), ('is', 'UNC'), ('fit', 'UNC'), ('ana', 'UNC'), ('anaero', 'UNC'), ('endro-t', 'UNC'), ('anaesth', 'UNC'), ('anae', 'UNC'), ('pren', 'UNC'), ('ben', 'UNC'), ('mor', 'UNC'), ('bef', 'UNC'), ('that', 'UNC'), ('part', 'UNC'), ('pry', 'UNC'), ('load', 'UNC'), ('vehi', 'UNC'), ('agai', 'UNC'), ('num', 'UNC'), ('dri', 'UNC'), ('intere', 'UNC'), ('miss', 'UNC'), ('vir', 'UNC'), ('tur', 'UNC'), ('inc', 'UNC'), ('kn', 'UNC'), ('almo', 'UNC'), ('q', 'UNC'), ('han', 'UNC'), ('trac', 'UNC'), ('roa', 'UNC'), ('businesse', 'UNC'), ('alread', 'UNC'), ('sin', 'UNC'), ('positive-but-need-to-be-paid-for-it', 'UNC'), ('sort', 'UNC'), ('bee-bee-bee-bee-beep', 'UNC'), ('boo-boo-boo-boom', 'UNC'), ('war', 'UNC'), ('verb', 'UNC'), ('dro', 'UNC'), ('os', 'UNC'), ('lob', 'UNC'), ('=go', 'UNC'), ('easi', 'UNC'), ('ran', 'UNC'), ('anyo', 'UNC'), ('=body', 'UNC'), ('help', 'UNC'), ('grapes', 'UNC'), ('sun', 'UNC'), ('happ', 'UNC'), ('insom', 'UNC'), ('alter', 'UNC'), ('aph', 'UNC'), ('nero', 'UNC'), ('maki', 'UNC'), ('oppo', 'UNC'), ('divi', 'UNC'), ('ang', 'UNC'), ('xs', 'UNC'), ('whit', 'UNC'), ('won', 'UNC'), ('ws', 'UNC'), ('perc', 'UNC'), ('=thing', 'UNC'), ('ze', 'UNC'), ('eigh', 'UNC'), ('milli', 'UNC'), ('kilom', 'UNC'), ('cir', 'UNC'), ('trig', 'UNC'), ('cal', 'UNC'), ('eve', 'UNC'), ('stuff', 'UNC'), ('elem', 'UNC'), ('hs', 'UNC'), ('ammoni', 'UNC'), ('zil', 'UNC'), ('mes', 'UNC'), ('every', 'UNC'), ('alkal', 'UNC'), ('wheth', 'UNC'), ('chlor', 'UNC'), ('chlori', 'UNC'), ('hy', 'UNC'), ('thin', 'UNC'), (\"'re\", 'UNC'), ('grammatical', 'UNC'), ('chauce', 'UNC'), ('hun', 'UNC'), ('ava', 'UNC'), ('intervoo', 'UNC'), ('astribut', 'UNC'), ('magist', 'UNC'), ('overpow', 'UNC'), ('villag', 'UNC'), ('ass', 'UNC'), ('frui', 'UNC'), ('convers', 'UNC'), ('k', 'UNC'), ('kich', 'UNC'), ('alli', 'UNC'), ('tick-tock', 'UNC'), ('veronica', 'UNC'), ('impoi', 'UNC'), ('che', 'UNC'), ('anon', 'UNC'), ('conc', 'UNC'), ('goo', 'UNC'), ('tres', 'UNC'), ('modere', 'UNC'), ('peu', 'UNC'), ('movemente', 'UNC'), ('mais', 'UNC'), ('retenant', 'UNC'), ('jusque', 'UNC'), ('pas', 'UNC'), ('doci', 'UNC'), ('bar', 'UNC'), ('arch', 'UNC'), ('bui', 'UNC'), ('facti', 'UNC'), ('thou', 'UNC'), ('spee', 'UNC'), ('eas', 'UNC'), ('mile', 'UNC'), ('hu', 'UNC'), ('calcul', 'UNC'), ('les', 'UNC'), ('sec', 'UNC'), ('square', 'UNC'), ('ok', 'UNC'), ('cu', 'UNC'), ('recei', 'UNC'), ('punc', 'UNC'), ('punct', 'UNC'), ('ation', 'UNC'), ('pos', 'UNC'), ('unan', 'UNC'), ('nited', 'UNC'), ('saus', 'UNC'), ('ro-', 'UNC'), ('eng', 'UNC'), ('ox', 'UNC'), ('colle', 'UNC'), ('cs', 'UNC'), ('ks', 'UNC'), ('sy', 'UNC'), ('america', 'UNC'), ('how', 'UNC'), ('tuesd', 'UNC'), ('tue', 'UNC'), ('four', 'UNC'), ('fra', 'UNC'), ('shar', 'UNC'), ('cah', 'UNC'), ('sine', 'UNC'), ('hyp', 'UNC'), ('eig', 'UNC'), ('fini', 'UNC'), ('wee', 'UNC'), ('anoint', 'UNC'), ('obv', 'UNC'), ('judgemen', 'UNC'), ('themse', 'UNC'), ('parti', 'UNC'), ('understand', 'UNC'), ('=standing', 'UNC'), ('knowl', 'UNC'), ('poi', 'UNC'), ('pob', 'UNC'), ('other', 'UNC'), ('nitty', 'UNC'), ('contribut', 'UNC'), ('rom', 'UNC'), ('potter', 'UNC'), ('building', 'UNC'), ('gum', 'UNC'), ('buil', 'UNC'), ('imp', 'UNC'), ('where', 'UNC'), ('bec', 'UNC'), ('was', 'UNC'), ('de-', 'UNC'), ('ys', 'UNC'), ('aren', 'UNC'), ('fort', 'UNC'), ('twen', 'UNC'), ('fift', 'UNC'), ('scie', 'UNC'), ('it/', 'UNC'), ('intric', 'UNC'), ('thirt', 'UNC'), ('yeah/', 'UNC'), ('leng', 'UNC'), ('ipso', 'UNC'), ('facto', 'UNC'), ('alia', 'UNC'), ('cer', 'UNC'), ('substa', 'UNC'), ('clarif', 'UNC'), ('obje', 'UNC'), (\"don'\", 'UNC'), ('withi', 'UNC'), ('object', 'UNC'), ('ske', 'UNC'), ('perha', 'UNC'), ('mid-eightie', 'UNC'), ('indee', 'UNC'), ('rep', 'UNC'), ('pond', 'UNC'), ('add', 'UNC'), ('furthe', 'UNC'), ('thank', 'UNC'), ('fil', 'UNC'), ('neuto', 'UNC'), ('prot', 'UNC'), ('fif', 'UNC'), ('electrs', 'UNC'), ('fs', 'UNC'), ('turn', 'UNC'), ('perh', 'UNC'), ('ord', 'UNC'), ('wil', 'UNC'), ('ask', 'UNC'), ('sul', 'UNC'), ('alterial', 'UNC'), ('disolv', 'UNC'), ('calc', 'UNC'), ('near', 'UNC'), ('chemi', 'UNC'), ('pur', 'UNC'), ('saltpetre', 'UNC'), ('sis', 'UNC'), ('effect', 'UNC'), ('hav', 'UNC'), ('liabl', 'UNC'), ('wis', 'UNC'), ('retir', 'UNC'), ('spea', 'UNC'), ('ler', 'UNC'), ('por', 'UNC'), ('portagil', 'UNC'), ('ov', 'UNC'), ('lum', 'UNC'), ('sept', 'UNC'), ('rata', 'UNC'), ('x', 'UNC'), ('provi', 'UNC'), ('paya', 'UNC'), ('critici', 'UNC'), ('exac', 'UNC'), ('competit', 'UNC'), ('prod', 'UNC'), ('nost', 'UNC'), ('rath', 'UNC'), ('standardiz', 'UNC'), ('high', 'UNC'), ('vulnerabilit', 'UNC'), ('funnil', 'UNC'), ('ont', 'UNC'), ('darlin', 'UNC'), ('capitali', 'UNC'), ('ec', 'UNC'), ('fluor', 'UNC'), ('mar', 'UNC'), ('proc', 'UNC'), ('adverti', 'UNC'), ('intr', 'UNC'), ('pack', 'UNC'), ('initia', 'UNC'), ('bottl', 'UNC'), ('nationa', 'UNC'), ('incentive', 'UNC'), ('cam', 'UNC'), ('ima', 'UNC'), ('complet', 'UNC'), ('large', 'UNC'), ('although', 'UNC'), ('sam', 'UNC'), ('qua', 'UNC'), ('pen', 'UNC'), ('super', 'UNC'), ('condit', 'UNC'), ('fig', 'UNC'), ('probab', 'UNC'), ('woul', 'UNC'), ('det', 'UNC'), ('print', 'UNC'), ('prin', 'UNC'), ('sli', 'UNC'), ('muc', 'UNC'), ('limite', 'UNC'), ('sure', 'UNC'), ('ear', 'UNC'), ('custom', 'UNC'), ('knot', 'UNC'), ('rang', 'UNC'), ('sna', 'UNC'), ('unfortu', 'UNC'), ('trou', 'UNC'), ('sug', 'UNC'), ('prepar', 'UNC'), ('can', 'UNC'), ('pron', 'UNC'), ('proje', 'UNC'), ('nichol', 'UNC'), ('occ', 'UNC'), ('rs', 'UNC'), ('sim', 'UNC'), ('photoc', 'UNC'), ('ope', 'UNC'), ('repor', 'UNC'), ('wes', 'UNC'), ('fac', 'UNC'), ('tender', 'UNC'), ('rug', 'UNC'), ('leic', 'UNC'), ('bids', 'UNC'), ('ee', 'UNC'), ('gettin', 'UNC'), ('seriou', 'UNC'), ('benef', 'UNC'), ('hom', 'UNC'), ('isn', 'UNC'), ('underst', 'UNC'), ('agr', 'UNC'), ('who', 'UNC'), ('housekeena', 'UNC'), ('tak', 'UNC'), ('dut', 'UNC'), ('financi', 'UNC'), ('indiv', 'UNC'), ('conversa', 'UNC'), ('quickspend', 'UNC'), ('prep', 'UNC'), ('capita', 'UNC'), ('rog', 'UNC'), ('poun', 'UNC'), ('forma', 'UNC'), ('liquidem', 'UNC'), ('nec', 'UNC'), ('anom', 'UNC'), ('auth', 'UNC'), ('with', 'UNC'), ('imple', 'UNC'), ('manag', 'UNC'), ('sens', 'UNC'), ('genera', 'UNC'), ('tw', 'UNC'), ('rai', 'UNC'), ('wel', 'UNC'), ('onl', 'UNC'), ('employe', 'UNC'), ('involuntary', 'UNC'), ('sus', 'UNC'), ('nor', 'UNC'), ('micro', 'UNC'), ('gentl', 'UNC'), ('pati', 'UNC'), ('rar', 'UNC'), ('tumours', 'UNC'), ('path', 'UNC'), ('repo', 'UNC'), ('loo', 'UNC'), ('progno', 'UNC'), ('classifi', 'UNC'), ('tot', 'UNC'), ('phr', 'UNC'), ('nin', 'UNC'), ('atten', 'UNC'), ('sheep', 'UNC'), ('weak', 'UNC'), ('evi', 'UNC'), ('bala', 'UNC'), ('what', 'UNC'), ('appre', 'UNC'), ('progr', 'UNC'), ('agree', 'UNC'), ('prevent', 'UNC'), ('elec', 'UNC'), ('emp', 'UNC'), ('cigar', 'UNC'), ('judice', 'UNC'), ('ionaz', 'UNC'), ('repre', 'UNC'), ('actu', 'UNC'), ('stra', 'UNC'), ('ol', 'UNC'), ('absolut', 'UNC'), ('dir', 'UNC'), ('polar', 'UNC'), ('presuma', 'UNC'), ('cle', 'UNC'), ('pis', 'UNC'), ('ans', 'UNC'), ('rounda', 'UNC'), ('min', 'UNC'), ('nat', 'UNC'), ('my', 'UNC'), ('vol', 'UNC'), ('low', 'UNC'), ('secreta', 'UNC'), ('appoint', 'UNC'), ('adv', 'UNC'), ('pec', 'UNC'), ('quest', 'UNC'), ('shou', 'UNC'), ('certain', 'UNC'), ('musi', 'UNC'), ('trum', 'UNC'), ('est', 'UNC'), (\"c'est\", 'UNC'), ('formidable', 'UNC'), ('divine', 'UNC'), ('enfant', 'UNC'), ('molto', 'UNC'), ('presto', 'UNC'), ('hawf', 'UNC'), ('borg', 'UNC'), ('executi', 'UNC'), ('commit', 'UNC'), ('mid', 'UNC'), ('fait', 'UNC'), ('maxim', 'UNC'), ('tren', 'UNC'), ('tour', 'UNC'), ('fant', 'UNC'), ('not', 'UNC'), ('commu', 'UNC'), ('mus', 'UNC'), ('feelers', 'UNC'), ('twent', 'UNC'), ('contributi', 'UNC'), ('contr', 'UNC'), ('lookin', 'UNC'), ('thre', 'UNC'), ('enter', 'UNC'), ('terr', 'UNC'), ('hovels', 'UNC'), ('its', 'UNC'), ('prog', 'UNC'), (\"haven'\", 'UNC'), ('fel', 'UNC'), ('sw', 'UNC'), ('ammu', 'UNC'), ('mr', 'UNC'), ('farm', 'UNC'), ('wat', 'UNC'), ('morni', 'UNC'), ('lux', 'UNC'), ('moni', 'UNC'), ('dar', 'UNC'), ('nine', 'UNC'), ('mil', 'UNC'), ('tiddle-diddle-liddle-liddle', 'UNC'), ('roll', 'UNC'), ('mass', 'UNC'), ('relia', 'UNC'), ('shilli', 'UNC'), ('husba', 'UNC'), ('bore', 'UNC'), ('iri', 'UNC'), ('elev', 'UNC'), ('=ut', 'UNC'), ('nev', 'UNC'), ('diffic', 'UNC'), ('reci', 'UNC'), ('moth', 'UNC'), ('commis', 'UNC'), ('meed', 'UNC'), ('exi', 'UNC'), ('join', 'UNC'), ('spr', 'UNC'), ('cunner', 'UNC'), ('wagg', 'UNC'), ('kep', 'UNC'), ('insur', 'UNC'), ('manage', 'UNC'), ('civil', 'UNC'), ('quite', 'UNC'), ('about', 'UNC'), ('until', 'UNC'), ('granda', 'UNC'), ('civili', 'UNC'), ('cri', 'UNC'), ('associa', 'UNC'), ('henr', 'UNC'), ('colo', 'UNC'), ('everywh', 'UNC'), ('printi', 'UNC'), ('huck', 'UNC'), ('dea', 'UNC'), ('ove', 'UNC'), ('dram', 'UNC'), ('gyp', 'UNC'), ('clu', 'UNC'), ('tim', 'UNC'), ('reg', 'UNC'), ('his', 'UNC'), ('sl', 'UNC'), ('fourt', 'UNC'), ('football', 'UNC'), ('educa', 'UNC'), (\"ha'p\", 'UNC'), ('read', 'UNC'), ('mou', 'UNC'), ('provivo', 'UNC'), ('playi', 'UNC'), ('less', 'UNC'), ('well', 'UNC'), ('sop', 'UNC'), ('colour', 'UNC'), ('infect', 'UNC'), ('encou', 'UNC'), ('prev', 'UNC'), ('actua', 'UNC'), ('los', 'UNC'), ('fee', 'UNC'), ('cat', 'UNC'), ('terms', 'UNC'), ('abou', 'UNC'), ('compa', 'UNC'), ('sayi', 'UNC'), ('bit', 'UNC'), ('prey', 'UNC'), ('wasn', 'UNC'), ('maybe', 'UNC'), ('whereabouts', 'UNC'), ('sc', 'UNC'), ('als', 'UNC'), ('obvi', 'UNC'), ('yea', 'UNC'), ('sett', 'UNC'), ('soci', 'UNC'), ('chil', 'UNC'), ('thing', 'UNC'), ('earl', 'UNC'), ('deta', 'UNC'), ('particula', 'UNC'), ('fix', 'UNC'), ('lets', 'UNC'), ('when', 'UNC'), ('hist', 'UNC'), ('nota', 'UNC'), ('matt', 'UNC'), ('tues', 'UNC'), ('pers', 'UNC'), ('hundre', 'UNC'), ('rhomb', 'UNC'), ('bot', 'UNC'), ('favour', 'UNC'), ('cont', 'UNC'), ('equ', 'UNC'), ('rrr', 'UNC'), ('demelo', 'UNC'), ('hoc', 'UNC'), ('hol', 'UNC'), ('someb', 'UNC'), ('adopte', 'UNC'), ('depar', 'UNC'), ('mat', 'UNC'), ('thes', 'UNC'), ('hour', 'UNC'), ('superma', 'UNC'), ('pape', 'UNC'), ('hous', 'UNC'), ('foun', 'UNC'), ('narro', 'UNC'), ('seven', 'UNC'), ('dow', 'UNC'), ('someti', 'UNC'), ('schoold', 'UNC'), ('bid', 'UNC'), ('ninet', 'UNC'), ('ave', 'UNC'), ('clip', 'UNC'), ('hoo', 'UNC'), ('wago', 'UNC'), ('wag', 'UNC'), ('ru', 'UNC'), ('gl', 'UNC'), ('suspe', 'UNC'), ('mana', 'UNC'), ('gan', 'UNC'), ('fir', 'UNC'), ('tai', 'UNC'), ('kinl', 'UNC'), ('could', 'UNC'), ('bled', 'UNC'), ('anot', 'UNC'), ('observa', 'UNC'), ('holi', 'UNC'), ('holid', 'UNC'), ('walki', 'UNC'), ('sen', 'UNC'), ('bur', 'UNC'), ('eyes', 'UNC'), ('peo', 'UNC'), ('pho', 'UNC'), ('tit', 'UNC'), ('has', 'UNC'), ('spe', 'UNC'), ('loc', 'UNC'), ('badl', 'UNC'), ('loca', 'UNC'), ('liv', 'UNC'), ('terri', 'UNC'), ('peopl', 'UNC'), ('communi', 'UNC'), ('outs', 'UNC'), ('concen', 'UNC'), ('govern', 'UNC'), ('stock', 'UNC'), ('main', 'UNC'), ('anyw', 'UNC'), ('pra', 'UNC'), ('nation', 'UNC'), ('were', 'UNC'), ('day', 'UNC'), ('establishme', 'UNC'), ('non=conformist', 'UNC'), ('fath', 'UNC'), ('alw', 'UNC'), ('forema', 'UNC'), ('acti', 'UNC'), ('inv', 'UNC'), ('relax', 'UNC'), ('provid', 'UNC'), ('becau', 'UNC'), ('guard', 'UNC'), ('pick', 'UNC'), ('whil', 'UNC'), ('statis', 'UNC'), ('concent', 'UNC'), ('empti', 'UNC'), ('does', 'UNC'), ('repl', 'UNC'), ('name', 'UNC'), ('wit', 'UNC'), ('addi', 'UNC'), ('didn', 'UNC'), ('looki', 'UNC'), ('start', 'UNC'), ('wher', 'UNC'), ('shoe', 'UNC'), ('expl', 'UNC'), ('christ', 'UNC'), ('cauti', 'UNC'), ('gui', 'UNC'), ('oran', 'UNC'), ('multi', 'UNC'), ('sust', 'UNC'), ('wok', 'UNC'), ('disci', 'UNC'), ('poco', 'UNC'), ('fun', 'UNC'), ('compou', 'UNC'), ('crotch', 'UNC'), ('carr', 'UNC'), ('theoret', 'UNC'), ('upstai', 'UNC'), ('key', 'UNC'), ('cert', 'UNC'), ('euphonium', 'UNC'), ('euphon', 'UNC'), ('fringe', 'UNC'), ('arr', 'UNC'), ('middl', 'UNC'), ('drop', 'UNC'), ('far', 'UNC'), ('daugh', 'UNC'), ('jord', 'UNC'), ('monit', 'UNC'), ('sayin', 'UNC'), ('toda', 'UNC'), ('inj', 'UNC'), ('mos', 'UNC'), ('though', 'UNC'), ('fright', 'UNC'), ('sixt', 'UNC'), ('difa', 'UNC'), ('emer', 'UNC'), ('everyb', 'UNC'), ('coordin', 'UNC'), ('sensitiv', 'UNC'), ('perfor', 'UNC'), ('allo', 'UNC'), ('providi', 'UNC'), ('accum', 'UNC'), ('reinve', 'UNC'), ('inhe', 'UNC'), ('peri', 'UNC'), ('compan', 'UNC'), ('mede', 'UNC'), ('late', 'UNC'), ('capital-l', 'UNC'), ('dependent', 'UNC'), ('faux', 'UNC'), ('awa', 'UNC'), ('fixed-r', 'UNC'), ('matur', 'UNC'), ('build', 'UNC'), ('eli', 'UNC'), ('obviou', 'UNC'), ('entitle', 'UNC'), ('rel', 'UNC'), ('secre', 'UNC'), ('docu', 'UNC'), ('lett', 'UNC'), ('sev', 'UNC'), ('esc', 'UNC'), ('sidetrack', 'UNC'), ('boo', 'UNC'), ('ini', 'UNC'), ('back', 'UNC'), ('col', 'UNC'), ('word', 'UNC'), ('sugg', 'UNC'), ('forty', 'UNC'), ('whip', 'UNC'), ('brew', 'UNC'), ('arth', 'UNC'), ('liverp', 'UNC'), ('gras', 'UNC'), ('nes', 'UNC'), ('bri', 'UNC'), ('lif', 'UNC'), ('onc', 'UNC'), ('toba', 'UNC'), ('tow', 'UNC'), ('cot', 'UNC'), ('think', 'UNC'), ('fri', 'UNC'), ('vic', 'UNC'), ('electioneer', 'UNC'), ('nutr', 'UNC'), ('adu', 'UNC'), ('ann', 'UNC'), ('availa', 'UNC'), ('prov', 'UNC'), ('assess', 'UNC'), ('exam', 'UNC'), ('today', 'UNC'), ('eight', 'UNC'), ('indis', 'UNC'), ('lingua', 'UNC'), ('franca', 'UNC'), ('amer', 'UNC'), ('list', 'UNC'), ('dia', 'UNC'), ('bet', 'UNC'), ('actual', 'UNC'), ('soc', 'UNC'), ('corre', 'UNC'), ('comunic', 'UNC'), ('neg', 'UNC'), ('emph', 'UNC'), ('opt', 'UNC'), ('ps', 'UNC'), ('finish', 'UNC'), ('minim', 'UNC'), ('misindica', 'UNC'), ('prom', 'UNC'), ('because', 'UNC'), ('dependi', 'UNC'), ('somet', 'UNC'), ('fle', 'UNC'), ('caree', 'UNC'), ('produ', 'UNC'), ('ent', 'UNC'), ('someth', 'UNC'), ('necess', 'UNC'), ('tra', 'UNC'), ('const', 'UNC'), ('july', 'UNC'), ('nex', 'UNC'), ('expended', 'UNC'), ('suppose', 'UNC'), ('cynthia', 'UNC'), ('fur', 'UNC'), ('remi', 'UNC'), ('mode', 'UNC'), ('talki', 'UNC'), ('total', 'UNC'), ('emplo', 'UNC'), ('envisa', 'UNC'), ('monitor', 'UNC'), ('ser', 'UNC'), ('tab', 'UNC'), ('paigns', 'UNC'), ('trin', 'UNC'), ('doke', 'UNC'), ('marg', 'UNC'), ('secr', 'UNC'), ('greenbaum', 'UNC'), ('adva', 'UNC'), ('advan', 'UNC'), ('gentle', 'UNC'), ('advanc', 'UNC'), ('plan', 'UNC'), ('but', 'UNC'), ('profit', 'UNC'), ('flatcher', 'UNC'), ('disagr', 'UNC'), ('bloc', 'UNC'), ('bogey', 'UNC'), ('candi', 'UNC'), ('unem', 'UNC'), ('eur', 'UNC'), ('econ', 'UNC'), ('withstanding', 'UNC'), ('teach', 'UNC'), ('resump', 'UNC'), ('epelo', 'UNC'), ('ep', 'UNC'), ('confen', 'UNC'), ('plen', 'UNC'), ('endoscop', 'UNC'), ('apologi', 'UNC'), ('open', 'UNC'), ('giv', 'UNC'), ('regulatio', 'UNC'), ('sil', 'UNC'), ('bagpipes', 'UNC'), ('absol', 'UNC'), ('=field', 'UNC'), ('oppos', 'UNC'), ('crucifi', 'UNC'), ('jeho', 'UNC'), ('naf', 'UNC'), ('teache', 'UNC'), ('rightful', 'UNC'), ('mean', 'UNC'), ('demonstrat', 'UNC'), ('hen', 'UNC'), ('elde', 'UNC'), ('regr', 'UNC'), ('infe', 'UNC'), ('cath', 'UNC'), ('cow', 'UNC'), ('game', 'UNC'), ('tol', 'UNC'), ('keepi', 'UNC'), ('septem', 'UNC'), ('calcu', 'UNC'), ('=nd', 'UNC'), ('=d', 'UNC'), ('hays', 'UNC'), ('watersi', 'UNC'), ('argy', 'UNC'), ('cald', 'UNC'), ('cra', 'UNC'), ('chris', 'UNC'), ('kil', 'UNC'), ('ay', 'UNC'), ('gatheri', 'UNC'), ('mistur', 'UNC'), ('sheaves', 'UNC'), ('swa', 'UNC'), ('hamme', 'UNC'), ('wall', 'UNC'), ('mond', 'UNC'), ('=mem', 'UNC'), ('mac', 'UNC'), ('mcsimon', 'UNC'), ('themsel', 'UNC'), ('assis', 'UNC'), ('=clock', 'UNC'), ('bella', 'UNC'), ('accomo', 'UNC'), ('ofte', 'UNC'), ('mathematic', 'UNC'), ('math', 'UNC'), ('traff', 'UNC'), ('emphas', 'UNC'), ('nei', 'UNC'), ('employ', 'UNC'), ('lia', 'UNC'), ('cr', 'UNC'), ('win', 'UNC'), ('happe', 'UNC'), ('opportunis', 'UNC'), ('dam', 'UNC'), ('manch', 'UNC'), ('agri', 'UNC'), ('sevent', 'UNC'), ('dies', 'UNC'), ('informatio', 'UNC'), ('manip', 'UNC'), ('gallo', 'UNC'), ('overni', 'UNC'), ('remo', 'UNC'), ('individ', 'UNC'), ('come', 'UNC'), ('nece', 'UNC'), ('stru', 'UNC'), ('geogo', 'UNC'), ('them', 'UNC'), ('basi', 'UNC'), ('conven', 'UNC'), ('need', 'UNC'), ('fla', 'UNC'), ('pha', 'UNC'), ('getti', 'UNC'), ('fab', 'UNC'), ('nowad', 'UNC'), ('discuss', 'UNC'), ('design', 'UNC'), ('redundan', 'UNC'), ('phworgh', 'UNC'), ('hone', 'UNC'), ('small', 'UNC'), ('kilow', 'UNC'), ('parc', 'UNC'), ('exact', 'UNC'), ('move', 'UNC'), ('grad', 'UNC'), ('doesn', 'UNC'), ('grrr', 'UNC'), ('ret', 'UNC'), ('cheet', 'UNC'), ('cara', 'UNC'), ('dom', 'UNC'), ('dwell', 'UNC'), ('oft', 'UNC'), ('ach', 'UNC'), ('bru', 'UNC'), ('hard', 'UNC'), ('mine', 'UNC'), ('quarter', 'UNC'), ('organ', 'UNC'), ('abl', 'UNC'), ('particu', 'UNC'), ('activ', 'UNC'), ('oper', 'UNC'), ('cooper', 'UNC'), ('nove', 'UNC'), ('organiz', 'UNC'), ('bus', 'UNC'), ('introd', 'UNC'), ('immediate', 'UNC'), ('gov', 'UNC'), ('cross', 'UNC'), ('work', 'UNC'), ('footboar', 'UNC'), ('cy', 'UNC'), ('m=make', 'UNC'), ('grandf', 'UNC'), ('distrib', 'UNC'), ('apprent', 'UNC'), ('belong', 'UNC'), ('fat', 'UNC'), ('acro', 'UNC'), ('ethio', 'UNC'), ('grandio', 'UNC'), ('inte', 'UNC'), ('infini', 'UNC'), ('number', 'UNC'), ('infin', 'UNC'), ('mathematica', 'UNC'), ('twenty', 'UNC'), ('fol', 'UNC'), ('five', 'UNC'), ('spec', 'UNC'), ('especial', 'UNC'), ('aim', 'UNC'), ('offi', 'UNC'), ('your', 'UNC'), ('satisfact', 'UNC'), ('comm', 'UNC'), ('improv', 'UNC'), ('fiv', 'UNC'), ('hop', 'UNC'), ('indivisib', 'UNC'), ('expectation', 'UNC'), ('qual', 'UNC'), ('acquirement', 'UNC'), ('dys', 'UNC'), ('lun', 'UNC'), ('trian', 'UNC'), ('stair', 'UNC'), ('discus', 'UNC'), (\"'d\", 'UNC'), ('permiss', 'UNC'), ('park', 'UNC'), ('reme', 'UNC'), ('empty', 'UNC'), ('import', 'UNC'), ('circ', 'UNC'), ('alt', 'UNC'), ('represent', 'UNC'), ('mixed', 'UNC'), ('slight', 'UNC'), ('chairm', 'UNC'), ('foot', 'UNC'), ('stadi', 'UNC'), ('dilap', 'UNC'), ('pave', 'UNC'), ('long', 'UNC'), ('eith', 'UNC'), ('meet', 'UNC'), ('decid', 'UNC'), ('perce', 'UNC'), ('fenc', 'UNC'), ('justifi', 'UNC'), ('len', 'UNC'), ('unis', 'UNC'), ('ammi', 'UNC'), ('crash', 'UNC'), ('w=well', 'UNC'), ('support', 'UNC'), ('gratia', 'UNC'), ('our', 'UNC'), ('haven', 'UNC'), ('signa', 'UNC'), ('coor', 'UNC'), ('quad', 'UNC'), ('half-hearted', 'UNC'), ('regula', 'UNC'), ('rive', 'UNC'), ('rivet', 'UNC'), ('month', 'UNC'), ('ninetee', 'UNC'), ('involv', 'UNC'), ('invo', 'UNC'), ('lap', 'UNC'), ('ty', 'UNC'), ('want', 'UNC'), ('boy', 'UNC'), ('pic', 'UNC'), ('marb', 'UNC'), ('infu', 'UNC'), ('doi', 'UNC'), ('neve', 'UNC'), ('carpentry', 'UNC'), ('nur', 'UNC'), ('prim', 'UNC'), ('auto', 'UNC'), ('sup', 'UNC'), ('beat', 'UNC'), ('poor', 'UNC'), ('sal', 'UNC'), ('leav', 'UNC'), ('horr', 'UNC'), ('fortn', 'UNC'), ('whoop', 'UNC'), ('pus', 'UNC'), ('knock', 'UNC'), ('spread', 'UNC'), ('neural', 'UNC'), ('ul', 'UNC'), ('wond', 'UNC'), ('weeken', 'UNC'), ('depen', 'UNC'), ('now', 'UNC'), ('depend', 'UNC'), ('office', 'UNC'), (\"we'v\", 'UNC'), ('rop', 'UNC'), ('dy', 'UNC'), ('interes', 'UNC'), ('specia', 'UNC'), ('north', 'UNC'), ('brou', 'UNC'), ('ext', 'UNC'), ('stavin', 'UNC'), ('divan', 'UNC'), (\"i'v\", 'UNC'), ('occas', 'UNC'), ('dur', 'UNC'), ('weren', 'UNC'), ('pard', 'UNC'), ('rail', 'UNC'), ('lot', 'UNC'), ('wed', 'UNC'), ('luff', 'UNC'), ('refrig', 'UNC'), ('til', 'UNC'), ('ruc', 'UNC'), ('moor', 'UNC'), ('tod', 'UNC'), ('iro', 'UNC'), ('unde', 'UNC'), ('manica', 'UNC'), ('anal', 'UNC'), ('bel', 'UNC'), ('lates', 'UNC'), ('dock', 'UNC'), ('begin', 'UNC'), ('two', 'UNC'), ('caus', 'UNC'), ('thinki', 'UNC'), ('sulfasala', 'UNC'), ('parav', 'UNC'), ('stella', 'UNC'), ('brusc', 'UNC'), ('dist', 'UNC'), ('vag', 'UNC'), ('trie', 'UNC'), ('wordper', 'UNC'), ('driv', 'UNC'), ('myma', 'UNC'), ('mymo', 'UNC'), ('enou', 'UNC'), ('que', 'UNC'), ('est-ce', 'UNC'), ('defrag', 'UNC'), ('sk', 'UNC'), ('buff', 'UNC'), ('wordperf', 'UNC'), ('traj', 'UNC'), ('rentaf', 'UNC'), ('window', 'UNC'), ('windo', 'UNC'), ('consid', 'UNC'), ('becaus', 'UNC'), ('set', 'UNC'), ('run', 'UNC'), ('crea', 'UNC'), ('apar', 'UNC'), ('rac', 'UNC'), ('burrou', 'UNC'), ('bomb', 'UNC'), ('sha', 'UNC'), ('somebo', 'UNC'), ('premiu', 'UNC'), ('expenim', 'UNC'), ('wals', 'UNC'), ('pens', 'UNC'), ('appl', 'UNC'), ('conduct', 'UNC'), ('interest', 'UNC'), ('youngs', 'UNC'), ('relation', 'UNC'), ('orga', 'UNC'), ('count', 'UNC'), ('member', 'UNC'), ('black', 'UNC'), ('reor', 'UNC'), ('chr', 'UNC'), ('plant', 'UNC'), ('ninete', 'UNC'), ('too', 'UNC'), ('soo', 'UNC'), ('euro', 'UNC'), ('prima', 'UNC'), ('donnas', 'UNC'), ('nazi-ism', 'UNC'), ('disp', 'UNC'), ('respect', 'UNC'), ('gene', 'UNC'), ('restain', 'UNC'), ('enormo', 'UNC'), ('old', 'UNC'), ('inadequa', 'UNC'), ('inadequac', 'UNC'), ('bate', 'UNC'), ('privas', 'UNC'), ('hundr', 'UNC'), ('unite', 'UNC'), ('sat', 'UNC'), ('enquir', 'UNC'), ('expr', 'UNC'), ('enjo', 'UNC'), ('phil', 'UNC'), ('phys', 'UNC'), ('rig', 'UNC'), ('hesel', 'UNC'), ('indu', 'UNC'), ('eler', 'UNC'), ('fore', 'UNC'), ('tor', 'UNC'), ('strat', 'UNC'), ('consul', 'UNC'), ('cohe', 'UNC'), ('water', 'UNC'), ('corrode', 'UNC'), ('awar', 'UNC'), ('dode', 'UNC'), ('m=motion', 'UNC'), ('dogs', 'UNC'), ('calculat', 'UNC'), ('sub-', 'UNC'), ('refer', 'UNC'), ('combine', 'UNC'), ('inco', 'UNC'), ('alre', 'UNC'), ('ot', 'UNC'), ('happen', 'UNC'), ('aw', 'UNC'), ('qualifat', 'UNC'), ('psychothera', 'UNC'), ('raison', 'UNC'), (\"d'etre\", 'UNC'), ('theoried', 'UNC'), ('bod', 'UNC'), ('priori', 'UNC'), ('flo', 'UNC'), ('here', 'UNC'), ('whateve', 'UNC'), ('compensate', 'UNC'), ('sad', 'UNC'), ('realis', 'UNC'), ('psychoanaly', 'UNC'), ('suici', 'UNC'), ('offen', 'UNC'), ('inevi', 'UNC'), ('cun', 'UNC'), ('ork', 'UNC'), ('sten', 'UNC'), ('whoof', 'UNC'), ('gord', 'UNC'), ('gre', 'UNC'), ('indust', 'UNC'), ('orcad', 'UNC'), ('swanal', 'UNC'), ('love', 'UNC'), ('angl', 'UNC'), ('llan', 'UNC'), ('coul', 'UNC'), ('angle', 'UNC'), ('call', 'UNC'), ('weres', 'UNC'), ('freel', 'UNC'), ('tap', 'UNC'), ('excell', 'UNC'), ('yours', 'UNC'), ('une', 'UNC'), ('exhi', 'UNC'), ('indicat', 'UNC'), ('refu', 'UNC'), ('thems', 'UNC'), ('distri', 'UNC'), ('categor', 'UNC'), ('scale', 'UNC'), ('reliab', 'UNC'), ('sar', 'UNC'), ('inevitabl', 'UNC'), ('foth', 'UNC'), ('circumfe', 'UNC'), ('responsibl', 'UNC'), ('introduc', 'UNC'), ('quant', 'UNC'), ('aero', 'UNC'), ('step', 'UNC'), ('dent', 'UNC'), ('lean', 'UNC'), ('app', 'UNC'), ('alri', 'UNC'), ('=right', 'UNC'), ('boil', 'UNC'), ('kee', 'UNC'), ('measur', 'UNC'), ('know', 'UNC'), ('yar', 'UNC'), ('joi', 'UNC'), ('repa', 'UNC'), ('beaucoup', 'UNC'), ('ski', 'UNC'), ('ah', 'UNC'), ('mist', 'UNC'), ('engin', 'UNC'), ('flang', 'UNC'), ('explain', 'UNC'), ('dynam', 'UNC'), ('electrici', 'UNC'), ('coa', 'UNC'), ('dolg', 'UNC'), ('sold', 'UNC'), ('casual', 'UNC'), ('disa', 'UNC'), ('kitch', 'UNC'), ('arti', 'UNC'), ('goodb', 'UNC'), ('flat', 'UNC'), ('wors', 'UNC'), ('ss', 'UNC'), ('finan', 'UNC'), ('ment', 'UNC'), ('dav', 'UNC'), ('holy', 'UNC'), ('cali', 'UNC'), ('o=only', 'UNC'), ('awfu', 'UNC'), ('collec', 'UNC'), ('oct', 'UNC'), ('workf', 'UNC'), ('hot', 'UNC'), ('infl', 'UNC'), ('leg', 'UNC'), ('parl', 'UNC'), ('vin', 'UNC'), ('rebul', 'UNC'), ('disassoc', 'UNC'), ('transpor', 'UNC'), ('tee', 'UNC'), ('aven', 'UNC'), ('mov', 'UNC'), ('tar', 'UNC'), ('ineq', 'UNC'), ('particuary', 'UNC'), ('employee', 'UNC'), ('backward', 'UNC'), ('empli', 'UNC'), ('employm', 'UNC'), ('impl', 'UNC'), ('arg', 'UNC'), ('disc', 'UNC'), ('documen', 'UNC'), ('servin', 'UNC'), ('c=conference', 'UNC'), ('mm', 'UNC'), ('bes', 'UNC'), ('irrel', 'UNC'), ('etcet', 'UNC'), ('impor', 'UNC'), ('re-zed', 'UNC'), ('empoy', 'UNC'), ('decisi', 'UNC'), ('tamp', 'UNC'), ('deg', 'UNC'), ('eternal', 'UNC'), ('irela', 'UNC'), ('nafr', 'UNC'), ('saf', 'UNC'), ('tex', 'UNC'), ('recommendatin', 'UNC'), ('activi', 'UNC'), ('cour', 'UNC'), ('condra', 'UNC'), ('ninety-f', 'UNC'), ('s=service', 'UNC'), ('legila', 'UNC'), ('kathle', 'UNC'), ('spectac', 'UNC'), ('exten', 'UNC'), ('accen', 'UNC'), ('sent', 'UNC'), ('stan', 'UNC'), ('nossos', 'UNC'), ('loco', 'UNC'), ('weig', 'UNC'), ('hosp', 'UNC'), ('nightdress', 'UNC'), ('route', 'UNC'), ('tacp', 'UNC'), ('suite', 'UNC'), ('grand', 'UNC'), ('prix', 'UNC'), ('susp', 'UNC'), ('audit', 'UNC'), ('remu', 'UNC'), ('shareh', 'UNC'), ('av', 'UNC'), ('palmo', 'UNC'), ('develop', 'UNC'), ('reso', 'UNC'), ('adversiding', 'UNC'), ('reduct', 'UNC'), ('medi', 'UNC'), ('distribu', 'UNC'), ('new', 'UNC'), ('nearl', 'UNC'), ('van', 'UNC'), ('stat', 'UNC'), ('tre', 'UNC'), ('smi', 'UNC'), ('area', 'UNC'), ('port', 'UNC'), ('occupa', 'UNC'), ('look', 'UNC'), ('cheltenh', 'UNC'), ('sister', 'UNC'), ('kne', 'UNC'), ('cous', 'UNC'), ('thewh', 'UNC'), ('recon', 'UNC'), ('given', 'UNC'), ('capital', 'UNC'), ('morn', 'UNC'), ('anyth', 'UNC'), ('bea', 'UNC'), ('brrr', 'UNC'), ('forge', 'UNC'), ('doct', 'UNC'), ('fashion', 'UNC'), ('aer', 'UNC'), ('aga', 'UNC'), ('thos', 'UNC'), ('=tinue', 'UNC'), ('immed', 'UNC'), ('brill', 'UNC'), ('fm', 'UNC'), ('belie', 'UNC'), ('opinis', 'UNC'), ('inspe', 'UNC'), ('preem', 'UNC'), ('howev', 'UNC'), ('=lay', 'UNC'), ('stew', 'UNC'), ('accompli', 'UNC'), ('morolity', 'UNC'), ('writte', 'UNC'), ('alib', 'UNC'), ('pol', 'UNC'), ('polit', 'UNC'), ('like', 'UNC'), ('deb', 'UNC'), ('pash', 'UNC'), ('openg', 'UNC'), ('slo', 'UNC'), ('skil', 'UNC'), ('biglifs', 'UNC'), ('tremin', 'UNC'), ('meal', 'UNC'), ('amul', 'UNC'), ('indus', 'UNC'), ('yor', 'UNC'), ('secal', 'UNC'), ('again', 'UNC'), ('lon', 'UNC'), ('publisly', 'UNC'), ('obous', 'UNC'), ('asso', 'UNC'), ('presen', 'UNC'), ('hance', 'UNC'), ('ecol', 'UNC'), ('pum', 'UNC'), ('mainin', 'UNC'), ('few', 'UNC'), ('unset', 'UNC'), ('princi', 'UNC'), ('idea', 'UNC'), ('got', 'UNC'), ('industrist', 'UNC'), ('uned', 'UNC'), ('maj', 'UNC'), ('constit', 'UNC'), ('leave', 'UNC'), ('psycho', 'UNC'), ('fet', 'UNC'), ('psychologie', 'UNC'), ('avoid', 'UNC'), ('lamarckenis', 'UNC'), ('lis', 'UNC'), ('repress', 'UNC'), ('aspe', 'UNC'), ('piec', 'UNC'), ('anno', 'UNC'), ('domini', 'UNC'), ('temporar', 'UNC'), ('concep', 'UNC'), ('vest', 'UNC'), ('reproduct', 'UNC'), ('reprodu', 'UNC'), ('invent', 'UNC'), ('masse', 'UNC'), ('und', 'UNC'), ('dich', 'UNC'), ('hormon', 'UNC'), ('male', 'UNC'), ('ine', 'UNC'), ('alo', 'UNC'), ('bac', 'UNC'), ('enti', 'UNC'), ('laten', 'UNC'), ('conscious', 'UNC'), ('volunt', 'UNC'), ('shouldn', 'UNC'), ('das', 'UNC'), ('auge', 'UNC'), ('uber', 'UNC'), ('appear', 'UNC'), ('anec', 'UNC'), ('iss', 'UNC'), ('criti', 'UNC'), ('frob', 'UNC'), ('eccen', 'UNC'), ('psy', 'UNC'), ('discon', 'UNC'), ('psychoan', 'UNC'), ('cruci', 'UNC'), ('mytho', 'UNC'), ('actor', 'UNC'), ('present', 'UNC'), ('subscrip', 'UNC'), ('bonjour', 'UNC'), ('re-lau', 'UNC'), ('sav', 'UNC'), ('provision', 'UNC'), ('base', 'UNC'), ('pop', 'UNC'), ('admin', 'UNC'), ('freischutz', 'UNC'), ('hund', 'UNC'), ('pou', 'UNC'), ('thousa', 'UNC'), ('ding', 'UNC'), ('respon', 'UNC'), ('suf', 'UNC'), ('view', 'UNC'), ('=banks', 'UNC'), ('momento', 'UNC'), ('close', 'UNC'), ('bl', 'UNC'), ('paren', 'UNC'), ('l=let', 'UNC'), ('wowee', 'UNC'), ('aban', 'UNC'), ('hallow', 'UNC'), ('cline', 'UNC'), ('deco', 'UNC'), ('an=and', 'UNC'), ('in=incorporating', 'UNC'), ('ge=management', 'UNC'), ('passeng', 'UNC'), ('briti', 'UNC'), ('abs', 'UNC'), ('examin', 'UNC'), ('rave', 'UNC'), ('ware', 'UNC'), ('yes', 'UNC'), ('fund', 'UNC'), ('inver', 'UNC'), ('inves', 'UNC'), ('shor', 'UNC'), ('ed', 'UNC'), ('intransig', 'UNC'), ('outsid', 'UNC'), ('et', 'UNC'), ('cetera', 'UNC'), ('fair', 'UNC'), ('nouveau', 'UNC'), ('delay', 'UNC'), ('rad', 'UNC'), ('profess', 'UNC'), ('rit', 'UNC'), ('hon', 'UNC'), ('nouv', 'UNC'), ('queu', 'UNC'), ('beaujo', 'UNC'), ('dru', 'UNC'), ('ber', 'UNC'), ('cana', 'UNC'), ('disgu', 'UNC'), ('invi', 'UNC'), ('trail', 'UNC'), ('roo', 'UNC'), ('=r', 'UNC'), ('mix', 'UNC'), ('prac', 'UNC'), ('proz', 'UNC'), ('shoo', 'UNC'), ('den', 'UNC'), ('sinn', 'UNC'), ('fein', 'UNC'), ('arm', 'UNC'), ('intern', 'UNC'), ('succ', 'UNC'), ('possibil', 'UNC'), ('tes', 'UNC'), ('crem', 'UNC'), ('titbits', 'UNC'), ('dava', 'UNC'), ('peal', 'UNC'), ('stromn', 'UNC'), ('pend', 'UNC'), ('hoppum', 'UNC'), ('lorrum', 'UNC'), ('linkum', 'UNC'), ('chinkum', 'UNC'), ('chie', 'UNC'), ('=bout', 'UNC'), ('exc', 'UNC'), ('way', 'UNC'), ('highl', 'UNC'), ('nons', 'UNC'), ('brig', 'UNC'), ('corp', 'UNC'), ('bruta', 'UNC'), ('brief', 'UNC'), ('bull', 'UNC'), ('littl', 'UNC'), ('hai', 'UNC'), ('concer', 'UNC'), ('conte', 'UNC'), ('appropria', 'UNC'), ('reclu', 'UNC'), ('=commodat', 'UNC'), ('issue', 'UNC'), ('bis', 'UNC'), ('correc', 'UNC'), ('neight', 'UNC'), ('effec', 'UNC'), ('adap', 'UNC'), ('rat', 'UNC'), ('sams', 'UNC'), ('wouldn', 'UNC'), ('eightee', 'UNC'), ('envisag', 'UNC'), ('othe', 'UNC'), ('dire', 'UNC'), ('inhab', 'UNC'), ('behalf', 'UNC'), ('considera', 'UNC'), ('plann', 'UNC'), ('housin', 'UNC'), ('var', 'UNC'), ('mad', 'UNC'), ('infinitum', 'UNC'), ('forw', 'UNC'), ('counci', 'UNC'), ('avoi', 'UNC'), ('agricu', 'UNC'), ('preclud', 'UNC'), ('crit', 'UNC'), ('alongi', 'UNC'), ('stim', 'UNC'), ('partic', 'UNC'), ('social', 'UNC'), ('impo', 'UNC'), ('beg', 'UNC'), ('mal', 'UNC'), ('green', 'UNC'), ('gree', 'UNC'), ('dista', 'UNC'), ('primary', 'UNC'), ('net', 'UNC'), ('=til', 'UNC'), ('suggest', 'UNC'), ('importa', 'UNC'), ('id=375s1', 'UNC'), ('requi', 'UNC'), ('subm', 'UNC'), ('worki', 'UNC'), ('lar', 'UNC'), ('ry', 'UNC'), ('differ', 'UNC'), ('adjou', 'UNC'), ('revol', 'UNC'), ('argue', 'UNC'), ('func', 'UNC'), ('repli', 'UNC'), ('cit', 'UNC'), ('sel', 'UNC'), ('full', 'UNC'), ('dwelli', 'UNC'), (\"we'r\", 'UNC'), ('rye', 'UNC'), ('fige', 'UNC'), ('emis', 'UNC'), ('emi', 'UNC'), ('conser', 'UNC'), ('emba', 'UNC'), ('adem', 'UNC'), ('dris', 'UNC'), ('settle', 'UNC'), ('contri', 'UNC'), ('fram', 'UNC'), ('destep', 'UNC'), ('exis', 'UNC'), ('situa', 'UNC'), ('distric', 'UNC'), ('limit', 'UNC'), ('populat', 'UNC'), ('settleme', 'UNC'), ('unle', 'UNC'), ('brurgh', 'UNC'), ('chu', 'UNC'), ('sma', 'UNC'), ('sle', 'UNC'), ('landu', 'UNC'), ('hor', 'UNC'), ('year', 'UNC'), ('polos', 'UNC'), ('yoursel', 'UNC'), ('respons', 'UNC'), ('physic', 'UNC'), ('trai', 'UNC'), ('surv', 'UNC'), ('intelli', 'UNC'), ('cavally', 'UNC'), ('woun', 'UNC'), ('reduc', 'UNC'), ('pac', 'UNC'), ('lesher', 'UNC'), ('adver', 'UNC'), ('ali', 'UNC'), ('neck', 'UNC'), ('delcl', 'UNC'), ('stag', 'UNC'), ('adequaly', 'UNC'), ('reab', 'UNC'), ('amou', 'UNC'), ('addis', 'UNC'), ('inci', 'UNC'), ('dev', 'UNC'), ('otter', 'UNC'), ('detail', 'UNC'), ('speci', 'UNC'), ('prefer', 'UNC'), ('defin', 'UNC'), ('rema', 'UNC'), ('blo', 'UNC'), ('poly', 'UNC'), ('tun', 'UNC'), ('occu', 'UNC'), ('adja', 'UNC'), ('anne', 'UNC'), ('factor', 'UNC'), ('manufacture', 'UNC'), ('toy', 'UNC'), ('prior', 'UNC'), ('laissez', 'UNC'), ('faire', 'UNC'), ('yiel', 'UNC'), ('tech', 'UNC'), ('due', 'UNC'), ('cove', 'UNC'), ('horti', 'UNC'), ('incre', 'UNC'), ('produc', 'UNC'), ('inder', 'UNC'), ('intra-indu', 'UNC'), ('stud', 'UNC'), ('ari', 'UNC'), ('empiric', 'UNC'), ('het', 'UNC'), ('lec', 'UNC'), ('urb', 'UNC'), ('else', 'UNC'), ('eq', 'UNC'), ('para', 'UNC'), ('assu', 'UNC'), ('probabil', 'UNC'), ('reco', 'UNC'), ('inefficient', 'UNC'), ('junc', 'UNC'), ('redrit', 'UNC'), ('econo', 'UNC'), ('server', 'UNC'), ('quan', 'UNC'), ('harrow', 'UNC'), ('manu', 'UNC'), ('migrat', 'UNC'), ('hows', 'UNC'), ('anythi', 'UNC'), ('obser', 'UNC'), ('jusk', 'UNC'), ('estira', 'UNC'), ('funct', 'UNC'), ('regressult', 'UNC'), ('ject', 'UNC'), ('yous', 'UNC'), ('defective', 'UNC'), ('bre', 'UNC'), ('feeted', 'UNC'), ('classific', 'UNC'), ('chan', 'UNC'), ('regen', 'UNC'), ('paro', 'UNC'), ('intre', 'UNC'), ('lud', 'UNC'), ('thurs', 'UNC'), ('scr', 'UNC'), ('rever', 'UNC'), ('nomina', 'UNC'), ('auc', 'UNC'), ('recr', 'UNC'), ('fall', 'UNC'), ('agend', 'UNC'), ('serv', 'UNC'), ('wonder', 'UNC'), ('redu', 'UNC'), ('preceiv', 'UNC'), ('consultat', 'UNC'), ('linguis', 'UNC'), ('culpa', 'UNC'), ('purch', 'UNC'), ('bound', 'UNC'), ('fea', 'UNC'), ('organo-phos', 'UNC'), ('sum', 'UNC'), ('fight', 'UNC'), ('cap', 'UNC'), ('strong', 'UNC'), ('amen', 'UNC'), ('nann', 'UNC'), ('guid', 'UNC'), ('enfor', 'UNC'), ('observat', 'UNC'), ('supermar', 'UNC'), ('rece', 'UNC'), ('suit', 'UNC'), ('had', 'UNC'), ('scan', 'UNC'), ('laugh', 'UNC'), (\"'ll\", 'UNC'), ('probe', 'UNC'), ('deci', 'UNC'), ('whether', 'UNC'), ('defi', 'UNC'), ('regattas', 'UNC'), ('ts', 'UNC'), ('repr', 'UNC'), ('adde', 'UNC'), ('scot', 'UNC'), ('wide', 'UNC'), ('wise', 'UNC'), ('clon', 'UNC'), ('terra', 'UNC'), ('firma', 'UNC'), ('ven', 'UNC'), ('pes', 'UNC'), ('tend', 'UNC'), ('pot', 'UNC'), ('pourri', 'UNC'), ('reca', 'UNC'), ('suc', 'UNC'), ('journ', 'UNC'), ('geor', 'UNC'), ('amaz', 'UNC'), ('subs', 'UNC'), ('conformo', 'UNC'), ('conformalities', 'UNC'), ('deja', 'UNC'), ('vu', 'UNC'), ('nas', 'UNC'), ('have', 'UNC'), ('fesh', 'UNC'), ('wens', 'UNC'), ('involveme', 'UNC'), ('fifte', 'UNC'), ('tomor', 'UNC'), ('sand', 'UNC'), ('clari', 'UNC'), ('ecta', 'UNC'), ('cro', 'UNC'), ('vid', 'UNC'), ('tuto', 'UNC'), ('sia', 'UNC'), ('review', 'UNC'), ('dramatic', 'UNC'), ('abi', 'UNC'), ('espec', 'UNC'), ('voluntaril', 'UNC'), ('follow', 'UNC'), ('amal', 'UNC'), ('alr', 'UNC'), ('archi', 'UNC'), ('refriger', 'UNC'), ('asthmat', 'UNC'), ('ill', 'UNC'), ('shu', 'UNC'), ('proble', 'UNC'), ('alcoho', 'UNC'), ('hypocris', 'UNC'), ('recent', 'UNC'), ('affe', 'UNC'), ('physio', 'UNC'), ('meas', 'UNC'), ('techniqu', 'UNC'), ('substi', 'UNC'), ('solv', 'UNC'), ('osmo', 'UNC'), ('=pounds', 'UNC'), ('prevail', 'UNC'), ('condu', 'UNC'), ('pota', 'UNC'), ('typ', 'UNC'), ('deray', 'UNC'), ('muss', 'UNC'), ('facili', 'UNC'), ('ply', 'UNC'), ('epith', 'UNC'), ('acetylcholin', 'UNC'), ('phos', 'UNC'), ('ihibit', 'UNC'), ('nao', 'UNC'), ('chri', 'UNC'), ('leadersh', 'UNC'), ('aca', 'UNC'), ('spir', 'UNC'), ('scon', 'UNC'), ('harpi', 'UNC'), ('spa', 'UNC'), ('seech', 'UNC'), ('physi', 'UNC'), ('resis', 'UNC'), ('dec', 'UNC'), ('trave', 'UNC'), ('acce', 'UNC'), ('sheesh', 'UNC'), ('relati', 'UNC'), ('manufac', 'UNC'), ('poli', 'UNC'), ('expect', 'UNC'), ('expec', 'UNC'), ('applicat', 'UNC'), ('hypothes', 'UNC'), ('p2', 'UNC'), ('p1', 'UNC'), ('p4', 'UNC'), ('p5', 'UNC'), ('p9', 'UNC'), ('4c', 'UNC'), ('p10.5', 'UNC'), ('p16', 'UNC'), ('p6', 'UNC'), ('m2', 'UNC'), ('m1', 'UNC'), ('p32', 'UNC'), ('n1', 'UNC'), ('p19', 'UNC'), ('p17', 'UNC'), ('n3', 'UNC'), ('n4', 'UNC'), ('p24', 'UNC'), ('p28', 'UNC'), (\"'ve\", 'UNC'), ('this', 'UNC'), ('pine', 'UNC'), ('insomuch', 'UNC'), ('gill', 'UNC'), ('fudd', 'UNC'), ('riche', 'UNC'), ('tories', 'UNC'), ('lond', 'UNC'), ('ninety=four', 'UNC'), ('increa', 'UNC'), ('disad', 'UNC'), ('subse', 'UNC'), ('spo', 'UNC'), ('speak', 'UNC'), ('bud', 'UNC'), ('comment', 'UNC'), ('fron', 'UNC'), ('usefu', 'UNC'), ('questio', 'UNC'), ('ade', 'UNC'), ('exe', 'UNC'), ('enclos', 'UNC'), ('consulta', 'UNC'), ('lincoln', 'UNC'), ('discretione', 'UNC'), ('=plied', 'UNC'), ('little', 'UNC'), ('accept', 'UNC'), ('ji', 'UNC'), ('faith', 'UNC'), ('amendmen', 'UNC'), ('socialis', 'UNC'), ('flex', 'UNC'), ('anoth', 'UNC'), ('irr', 'UNC'), ('mult', 'UNC'), ('tittle', 'UNC'), ('tattle', 'UNC'), ('final', 'UNC'), ('performan', 'UNC'), ('speed', 'UNC'), ('nurs', 'UNC'), ('peli', 'UNC'), ('alloc', 'UNC'), ('enabl', 'UNC'), ('incru', 'UNC'), ('nord', 'UNC'), ('houses', 'UNC'), ('highli', 'UNC'), ('resolut', 'UNC'), ('resol', 'UNC'), ('ame', 'UNC'), ('perf', 'UNC'), ('spoi', 'UNC'), ('charg', 'UNC'), ('differe', 'UNC'), ('um', 'UNC'), ('beginni', 'UNC'), ('sai', 'UNC'), ('cuttin', 'UNC'), ('ready', 'UNC'), ('apparen', 'UNC'), ('signi', 'UNC'), ('ques', 'UNC'), ('mic', 'UNC'), ('goa', 'UNC'), ('ren', 'UNC'), ('chair', 'UNC'), ('remain', 'UNC'), ('adjourn', 'UNC'), ('i=in', 'UNC'), ('desic', 'UNC'), ('indic', 'UNC'), ('evid', 'UNC'), ('expan', 'UNC'), ('ef', 'UNC'), ('harro', 'UNC'), ('succe', 'UNC'), ('oppor', 'UNC'), ('cordon', 'UNC'), ('sanitaire', 'UNC'), ('lan', 'UNC'), ('crite', 'UNC'), ('performa', 'UNC'), ('informa', 'UNC'), ('tran', 'UNC'), ('provis', 'UNC'), ('compl', 'UNC'), ('eco', 'UNC'), ('irrepr', 'UNC'), ('excess', 'UNC'), ('constri', 'UNC'), ('corr', 'UNC'), ('traf', 'UNC'), ('blue', 'UNC'), ('polic', 'UNC'), ('memb', 'UNC'), ('directi', 'UNC'), ('connecti', 'UNC'), ('quote', 'UNC'), ('propo', 'UNC'), ('envi', 'UNC'), ('diver', 'UNC'), ('outside', 'UNC'), ('constr', 'UNC'), ('rich', 'UNC'), ('struc', 'UNC'), ('third', 'UNC'), ('sensi', 'UNC'), ('protec', 'UNC'), ('explan', 'UNC'), ('imposs', 'UNC'), ('appli', 'UNC'), ('lau', 'UNC'), ('stro', 'UNC'), ('thor', 'UNC'), ('plea', 'UNC'), ('fli', 'UNC'), ('tel', 'UNC'), ('=em', 'UNC'), ('fern', 'UNC'), ('clien', 'UNC'), ('guaran', 'UNC'), ('restr', 'UNC'), ('includ', 'UNC'), ('publica', 'UNC'), ('assign', 'UNC'), ('earn', 'UNC'), ('thur', 'UNC'), ('tradi', 'UNC'), ('advert', 'UNC'), ('pie', 'UNC'), ('except', 'UNC'), ('check', 'UNC'), ('pat', 'UNC'), ('valua', 'UNC'), ('sell', 'UNC'), ('accumula', 'UNC'), ('precon', 'UNC'), ('tomorr', 'UNC'), ('mob', 'UNC'), ('dou', 'UNC'), ('seco', 'UNC'), ('newca', 'UNC'), ('advertis', 'UNC'), ('satura', 'UNC'), ('substan', 'UNC'), ('course', 'UNC'), ('advertise', 'UNC'), ('enviro', 'UNC'), ('tight', 'UNC'), ('retend', 'UNC'), ('esta', 'UNC'), ('prospec', 'UNC'), ('prospect', 'UNC'), ('rob', 'UNC'), ('prem', 'UNC'), ('clai', 'UNC'), ('volun', 'UNC'), ('replai', 'UNC'), ('appoi', 'UNC'), ('offic', 'UNC'), ('fav', 'UNC'), ('pit', 'UNC'), ('=mote', 'UNC'), ('abso', 'UNC'), ('assump', 'UNC'), ('ris', 'UNC'), ('direc', 'UNC'), ('=vesting', 'UNC'), ('esprit', 'UNC'), ('corps', 'UNC'), ('basical', 'UNC'), ('somethings', 'UNC'), ('drunning', 'UNC'), ('exec', 'UNC'), ('inerent', 'UNC'), ('cand', 'UNC'), ('candidat', 'UNC'), ('normal', 'UNC'), ('ombu', 'UNC'), ('kilo', 'UNC'), ('kimome', 'UNC'), ('spin', 'UNC'), ('cany', 'UNC'), ('capac', 'UNC'), ('great', 'UNC'), ('amblet', 'UNC'), ('alloca', 'UNC'), ('relative', 'UNC'), ('upsel', 'UNC'), ('=set', 'UNC'), ('hecst', 'UNC'), ('twi', 'UNC'), ('allen', 'UNC'), ('interp', 'UNC'), ('addit', 'UNC'), ('compu', 'UNC'), ('laycock', 'UNC'), ('harr', 'UNC'), ('richmondshire', 'UNC'), ('consis', 'UNC'), ('commuti', 'UNC'), ('acr', 'UNC'), ('arithm', 'UNC'), ('dens', 'UNC'), ('reem', 'UNC'), ('eth', 'UNC'), ('elastic', 'UNC'), ('lab', 'UNC'), ('sout', 'UNC'), ('adve', 'UNC'), ('consider', 'UNC'), ('lives', 'UNC'), ('pleas', 'UNC'), ('gett', 'UNC'), ('adding', 'UNC'), ('mart', 'UNC'), ('desider', 'UNC'), ('dry', 'UNC'), ('councill', 'UNC'), ('tecnol', 'UNC'), ('unfish', 'UNC'), ('simil', 'UNC'), ('comers', 'UNC'), ('thisu', 'UNC'), ('dedic', 'UNC'), ('philosit', 'UNC'), ('dise', 'UNC'), ('nis', 'UNC'), ('amend', 'UNC'), ('affo', 'UNC'), ('eurip', 'UNC'), ('child', 'UNC'), ('wuk', 'UNC'), ('univer', 'UNC'), ('east', 'UNC'), ('surpri', 'UNC'), ('wsh', 'UNC'), ('arrange', 'UNC'), ('mom', 'UNC'), ('short', 'UNC'), ('faci', 'UNC'), ('chi=standards', 'UNC'), ('environmen', 'UNC'), ('oh', 'UNC'), ('nigh', 'UNC'), ('chal', 'UNC'), ('japane', 'UNC'), ('cau', 'UNC'), ('balanc', 'UNC'), ('mess', 'UNC'), ('ideal', 'UNC'), ('ideog', 'UNC'), ('seare', 'UNC'), ('rech', 'UNC'), ('consolid', 'UNC'), ('redistributed', 'UNC'), ('capit', 'UNC'), ('egal', 'UNC'), ('ash', 'UNC'), ('cultivi', 'UNC'), ('landlo', 'UNC'), ('capitalis', 'UNC'), ('assum', 'UNC'), ('glas', 'UNC'), ('doo', 'UNC'), ('multip', 'UNC'), ('ances', 'UNC'), ('fly', 'UNC'), ('aquari', 'UNC'), ('ye-es', 'UNC'), ('follo', 'UNC'), ('fas', 'UNC'), ('loud', 'UNC'), ('hil', 'UNC'), ('airc', 'UNC'), ('aircr', 'UNC'), ('gath', 'UNC'), ('sear', 'UNC'), ('straight', 'UNC'), ('mislay', 'UNC'), ('exteme', 'UNC'), ('thous', 'UNC'), ('tear', 'UNC'), ('findi', 'UNC'), ('mathics', 'UNC'), ('indicart', 'UNC'), ('match', 'UNC'), ('domi', 'UNC'), ('aju', 'UNC'), ('apr', 'UNC'), ('preven', 'UNC'), ('disadva', 'UNC'), ('gung', 'UNC'), ('befo', 'UNC'), ('authoris', 'UNC'), ('offer', 'UNC'), ('instan', 'UNC'), ('pau', 'UNC'), ('escapee', 'UNC'), ('gener', 'UNC'), ('inn', 'UNC'), ('socie', 'UNC'), ('metho', 'UNC'), ('universit', 'UNC'), ('ein', 'UNC'), ('natio', 'UNC'), ('marsei', 'UNC'), ('lat', 'UNC'), ('deut', 'UNC'), ('couldn', 'UNC'), ('card', 'UNC'), ('forgive', 'UNC'), ('face', 'UNC'), ('las', 'UNC'), ('bartiamaus', 'UNC'), ('medicine', 'UNC'), ('people', 'UNC'), ('thousan', 'UNC'), ('assur', 'UNC'), ('wei', 'UNC'), ('simp', 'UNC'), ('mag', 'UNC'), ('regar', 'UNC'), ('prove', 'UNC'), ('desi', 'UNC'), ('inst', 'UNC'), ('half', 'UNC'), ('stagger', 'UNC'), ('ped', 'UNC'), ('race', 'UNC'), ('show', 'UNC'), ('address', 'UNC'), ('volte', 'UNC'), ('insofar', 'UNC'), ('houn', 'UNC'), ('bol', 'UNC'), ('feel', 'UNC'), ('incl', 'UNC'), ('consequent', 'UNC'), ('cumbers', 'UNC'), ('esti', 'UNC'), ('vicin', 'UNC'), ('trav', 'UNC'), ('non-gav', 'UNC'), ('d=established', 'UNC'), ('migh', 'UNC'), ('imbit', 'UNC'), ('mativ', 'UNC'), ('norlan', 'UNC'), ('conort', 'UNC'), ('piece', 'UNC'), ('resistance', 'UNC'), ('cunan', 'UNC'), ('ruror', 'UNC'), ('stoo', 'UNC'), ('brit', 'UNC'), ('organis', 'UNC'), ('outl', 'UNC'), ('turnov', 'UNC'), ('spart', 'UNC'), ('sponsor', 'UNC'), ('achiev', 'UNC'), ('émigré', 'UNC'), ('practi', 'UNC'), ('creatingl', 'UNC'), ('anybod', 'UNC'), ('momen', 'UNC'), ('increasin', 'UNC'), ('san', 'UNC'), ('deutsch', 'UNC'), ('syst', 'UNC'), ('reyu', 'UNC'), ('dat', 'UNC'), ('prus', 'UNC'), ('orb', 'UNC'), ('inde', 'UNC'), ('recompe', 'UNC'), ('operati', 'UNC'), ('actualar', 'UNC'), ('cyst', 'UNC'), ('occa', 'UNC'), ('copi', 'UNC'), ('place', 'UNC'), ('ant', 'UNC'), ('=ieth', 'UNC'), ('bas', 'UNC'), ('apprec', 'UNC'), ('filli', 'UNC'), ('priv', 'UNC'), ('finger', 'UNC'), ('particul', 'UNC'), ('witho', 'UNC'), ('wash', 'UNC'), ('betwe', 'UNC'), ('lou', 'UNC'), ('expense', 'UNC'), ('opposed', 'UNC'), ('profu', 'UNC'), ('perm', 'UNC'), ('tro', 'UNC'), ('giveaway', 'UNC'), ('orienta', 'UNC'), ('feedba', 'UNC'), ('unattri', 'UNC'), ('dene', 'UNC'), ('gotcha', 'UNC'), ('fart', 'UNC'), ('touché', 'UNC'), ('cust', 'UNC'), ('cage', 'UNC'), ('gonn', 'UNC'), ('blurgh', 'UNC'), ('frac', 'UNC'), ('hee', 'UNC'), ('torpe', 'UNC'), ('approx', 'UNC'), ('payin', 'UNC'), ('cov', 'UNC'), ('vari', 'UNC'), ('compar', 'UNC'), ('underne', 'UNC'), ('sol', 'UNC'), ('lear', 'UNC'), ('ban', 'UNC'), ('commi', 'UNC'), ('campa', 'UNC'), ('fiftee', 'UNC'), ('quick', 'UNC'), ('hope', 'UNC'), ('resola', 'UNC'), ('resu', 'UNC'), ('privat', 'UNC'), ('entre', 'UNC'), ('recomen', 'UNC'), ('contin', 'UNC'), ('opportun', 'UNC'), ('season', 'UNC'), ('post', 'UNC'), ('into', 'UNC'), ('capa', 'UNC'), ('democrat', 'UNC'), ('enor', 'UNC'), ('publi', 'UNC'), ('tou', 'UNC'), ('chargepay', 'UNC'), ('recommen', 'UNC'), ('restor', 'UNC'), ('public', 'UNC'), ('amalgama', 'UNC'), ('taki', 'UNC'), ('effi', 'UNC'), ('brr', 'UNC'), ('aff', 'UNC'), ('meth', 'UNC'), ('along', 'UNC'), ('facie', 'UNC'), ('particularly', 'UNC'), ('various', 'UNC'), ('these', 'UNC'), ('those', 'UNC'), ('obtaining', 'UNC'), ('dili', 'UNC'), ('make', 'UNC'), ('senior', 'UNC'), ('depart', 'UNC'), ('nobod', 'UNC'), ('going', 'UNC'), ('poo', 'UNC'), ('recommend', 'UNC'), ('reced', 'UNC'), ('red', 'UNC'), ('audin', 'UNC'), ('accou', 'UNC'), ('wate', 'UNC'), ('develo', 'UNC'), ('obliv', 'UNC'), ('cut', 'UNC'), ('legi', 'UNC'), ('desir', 'UNC'), ('impos', 'UNC'), ('grow', 'UNC'), ('gibralt', 'UNC'), ('honour', 'UNC'), ('blem', 'UNC'), ('frau', 'UNC'), ('regul', 'UNC'), ('proni', 'UNC'), ('ployees', 'UNC'), ('negotia', 'UNC'), ('worre', 'UNC'), ('polici', 'UNC'), ('anva', 'UNC'), ('assoc', 'UNC'), ('uish', 'UNC'), ('minis', 'UNC'), ('confi', 'UNC'), ('mada', 'UNC'), ('pru', 'UNC'), ('calum', 'UNC'), ('pt', 'UNC'), ('relig', 'UNC'), ('three-and-a-half-thousand', 'UNC'), ('emerg', 'UNC'), ('prepare', 'UNC'), ('hold', 'UNC'), ('bare', 'UNC'), ('anti', 'UNC'), ('havin', 'UNC'), ('urg', 'UNC'), ('mountive', 'UNC'), ('needn', 'UNC'), ('subsec', 'UNC'), ('dee', 'UNC'), ('obs', 'UNC'), ('dwind', 'UNC'), ('seri', 'UNC'), ('compos', 'UNC'), ('police', 'UNC'), ('lor', 'UNC'), ('twenty-o', 'UNC'), ('viet', 'UNC'), ('pal', 'UNC'), ('advers', 'UNC'), ('habeas', 'UNC'), ('corpus', 'UNC'), ('methinks', 'UNC'), ('linc', 'UNC'), ('jerem', 'UNC'), ('unit', 'UNC'), ('assem', 'UNC'), ('nown', 'UNC'), ('hims', 'UNC'), ('broa', 'UNC'), ('empl', 'UNC'), ('soldier', 'UNC'), ('segre', 'UNC'), ('misérables', 'UNC'), ('snook', 'UNC'), ('vino', 'UNC'), ('ups', 'UNC'), ('stop', 'UNC'), ('shadows', 'UNC'), ('the-', 'UNC'), ('exag', 'UNC'), ('intelligen', 'UNC'), ('posa', 'UNC'), ('expe', 'UNC'), ('arb', 'UNC'), ('negat', 'UNC'), ('coeffic', 'UNC'), ('deri', 'UNC'), ('pand', 'UNC'), ('cogit', 'UNC'), ('recog', 'UNC'), ('rip', 'UNC'), ('extr', 'UNC'), ('accommol', 'UNC'), ('feat', 'UNC'), ('whate', 'UNC'), ('progna', 'UNC'), ('evalu', 'UNC'), ('ingen', 'UNC'), ('indirecti', 'UNC'), ('inp', 'UNC'), ('simult', 'UNC'), ('comple', 'UNC'), ('fluency', 'UNC'), ('ds', 'UNC'), ('init', 'UNC'), ('exa', 'UNC'), ('sampl', 'UNC'), ('re-s', 'UNC'), ('iner', 'UNC'), ('neces', 'UNC'), ('w=what', 'UNC'), ('defe', 'UNC'), ('aman', 'UNC'), ('ema', 'UNC'), ('psychol', 'UNC'), ('handou', 'UNC'), ('somew', 'UNC'), ('rerum', 'UNC'), ('sty', 'UNC'), ('swirl', 'UNC'), ('heav', 'UNC'), ('refus', 'UNC'), ('re-writ', 'UNC'), ('wool', 'UNC'), ('diffe', 'UNC'), ('fifty', 'UNC'), ('pair', 'UNC'), ('foris', 'UNC'), ('max', 'UNC'), ('deferre', 'UNC'), ('disadvan', 'UNC'), ('incon', 'UNC'), ('ough', 'UNC'), ('portra', 'UNC'), ('taugh', 'UNC'), ('push', 'UNC'), ('crac', 'UNC'), ('vehicle', 'UNC'), ('prum', 'UNC'), ('cru', 'UNC'), ('rev', 'UNC'), ('undoubt', 'UNC'), ('mâché', 'UNC'), ('contingent', 'UNC'), ('vover', 'UNC'), ('=pec', 'UNC'), ('disrupti', 'UNC'), ('nego', 'UNC'), ('edgeware', 'UNC'), ('stab', 'UNC'), ('fourte', 'UNC'), ('phasi', 'UNC'), ('twel', 'UNC'), ('suff', 'UNC'), ('wous', 'UNC'), ('yesterd', 'UNC'), ('plo', 'UNC'), ('visib', 'UNC'), ('canons', 'UNC'), ('noster', 'UNC'), ('dias', 'UNC'), ('dropp', 'UNC'), ('inval', 'UNC'), ('bad', 'UNC'), ('frank', 'UNC'), ('pali', 'UNC'), ('blanche', 'UNC'), ('typo', 'UNC'), ('highe', 'UNC'), ('point', 'UNC'), ('stick', 'UNC'), ('tremen', 'UNC'), ('comput', 'UNC'), ('clea', 'UNC'), ('higgledy', 'UNC'), ('piggledy', 'UNC'), ('mentis', 'UNC'), ('trus', 'UNC'), ('bal', 'UNC'), ('repro', 'UNC'), ('progra', 'UNC'), ('requ', 'UNC'), ('the1561', 'UNC'), ('inve', 'UNC'), ('bli', 'UNC'), ('chat', 'UNC'), ('chap', 'UNC'), ('mys', 'UNC'), ('oxf', 'UNC'), ('pour', 'UNC'), ('amir', 'UNC'), ('cast', 'UNC'), ('rocheter', 'UNC'), ('hypocro', 'UNC'), ('tranq', 'UNC'), ('pyroma', 'UNC'), ('curio', 'UNC'), ('telepa', 'UNC'), ('rational', 'UNC'), ('circum', 'UNC'), ('capi', 'UNC'), ('unevent', 'UNC'), ('event', 'UNC'), ('next', 'UNC'), ('everyw', 'UNC'), ('lee', 'UNC'), ('notif', 'UNC'), ('blox', 'UNC'), ('rames', 'UNC'), ('forget', 'UNC'), ('wedn', 'UNC'), ('custo', 'UNC'), ('ives', 'UNC'), ('butch', 'UNC'), ('mecha', 'UNC'), ('hem', 'UNC'), ('haemo', 'UNC'), ('railwa', 'UNC'), ('three-nen', 'UNC'), ('alleg', 'UNC'), ('distur', 'UNC'), ('theo', 'UNC'), ('someo', 'UNC'), ('unaw', 'UNC'), ('desn', 'UNC'), ('lati', 'UNC'), ('exept', 'UNC'), ('joh', 'UNC'), ('relent', 'UNC'), ('=ime', 'UNC'), ('bei', 'UNC'), ('pow', 'UNC'), ('sixtee', 'UNC'), ('imme', 'UNC'), ('curr', 'UNC'), ('term', 'UNC'), ('bay', 'UNC'), ('a=less', 'UNC'), ('pumi', 'UNC'), ('cellu', 'UNC'), ('cabi', 'UNC'), ('deli', 'UNC'), ('oo', 'UNC'), ('polish', 'UNC'), ('gat', 'UNC'), ('hass', 'UNC'), ('firs', 'UNC'), ('vil', 'UNC'), ('geome', 'UNC'), ('pray', 'UNC'), ('glen', 'UNC'), ('wait', 'UNC'), ('wart', 'UNC'), ('melo', 'UNC'), ('beauti', 'UNC'), ('cof', 'UNC'), ('coffi', 'UNC'), ('arran', 'UNC'), ('imag', 'UNC'), ('lla', 'UNC'), ('sex', 'UNC'), ('gal', 'UNC'), ('afra', 'UNC'), ('ferrets', 'UNC'), ('whereabo', 'UNC'), ('very', 'UNC'), ('bin', 'UNC'), ('dupl', 'UNC'), ('cos', 'UNC'), ('talke', 'UNC'), ('beest', 'UNC'), ('overco', 'UNC'), ('aug', 'UNC'), ('invalid', 'UNC'), ('understa', 'UNC'), ('i6', 'UNC'), ('everyth', 'UNC'), ('amus', 'UNC'), ('intermediat', 'UNC'), ('hones', 'UNC'), ('obj', 'UNC'), ('buy', 'UNC'), ('ena', 'UNC'), ('underwr', 'UNC'), ('arbitr', 'UNC'), ('objec', 'UNC'), ('mini', 'UNC'), ('mee', 'UNC'), ('a-b', 'UNC'), ('m25', 'UNC'), ('right', 'UNC'), ('consc', 'UNC'), ('beh', 'UNC'), ('corrupt', 'UNC'), ('compen', 'UNC'), ('categ', 'UNC'), ('grob', 'UNC'), ('compensa', 'UNC'), ('restric', 'UNC'), ('righ', 'UNC'), ('sid', 'UNC'), ('necessary', 'UNC'), ('essen', 'UNC'), ('americ', 'UNC'), ('bordl', 'UNC'), ('isl', 'UNC'), ('bedr', 'UNC'), ('light', 'UNC'), ('navi', 'UNC'), ('insi', 'UNC'), ('fai', 'UNC'), ('electric', 'UNC'), ('unio', 'UNC'), ('mang', 'UNC'), ('bak', 'UNC'), ('gir', 'UNC'), ('newspa', 'UNC'), ('apa', 'UNC'), ('deba', 'UNC'), ('expend', 'UNC'), ('appetit', 'UNC'), ('toge', 'UNC'), ('ordinat', 'UNC'), ('presentic', 'UNC'), ('prece', 'UNC'), ('igi', 'UNC'), ('hab', 'UNC'), ('glor', 'UNC'), ('arith', 'UNC'), ('incrus', 'UNC'), ('remec', 'UNC'), ('wre', 'UNC'), ('config', 'UNC'), ('nerv', 'UNC'), ('laun', 'UNC'), ('scottis', 'UNC'), ('benj', 'UNC'), ('satisfac', 'UNC'), ('brad', 'UNC'), ('yvon', 'UNC'), ('attrac', 'UNC'), ('apart', 'UNC'), ('cocod', 'UNC'), ('aro', 'UNC'), ('i=if', 'UNC'), ('ale', 'UNC'), ('exte', 'UNC'), ('strada', 'UNC'), ('robi', 'UNC'), ('blink', 'UNC'), ('barb', 'UNC'), ('yester', 'UNC'), ('conne', 'UNC'), ('fibbing', 'UNC'), ('insu', 'UNC'), ('oni', 'UNC'), ('onio', 'UNC'), ('din', 'UNC'), ('mush', 'UNC'), ('antirrhinum', 'UNC'), ('dip', 'UNC'), ('joystick', 'UNC'), ('feb', 'UNC'), ('agg', 'UNC'), ('regur', 'UNC'), ('bath', 'UNC'), ('subj', 'UNC'), ('unobtru', 'UNC'), ('conver', 'UNC'), ('rush', 'UNC'), ('bor', 'UNC'), ('possi', 'UNC'), ('wd', 'UNC'), ('whatev', 'UNC'), ('sliml', 'UNC'), ('keep', 'UNC'), ('fiddle-dee-dee', 'UNC'), ('treat', 'UNC'), ('octob', 'UNC'), ('doub', 'UNC'), ('flu', 'UNC'), ('brea', 'UNC'), ('plai', 'UNC'), ('swi', 'UNC'), ('dad', 'UNC'), ('yoh', 'UNC'), ('bub', 'UNC'), ('=ic', 'UNC'), ('=sic', 'UNC'), ('bib', 'UNC'), ('transve', 'UNC'), ('halibin', 'UNC'), ('loogoo', 'UNC'), ('galagy', 'UNC'), ('tolagee', 'UNC'), ('galaga', 'UNC'), ('tolagol', 'UNC'), ('woooh', 'UNC'), ('yub', 'UNC'), ('expla', 'UNC'), ('mot', 'UNC'), ('ico', 'UNC'), ('tira', 'UNC'), ('tima', 'UNC'), ('=az', 'UNC'), ('dic', 'UNC'), ('epis', 'UNC'), ('predi', 'UNC'), ('oce', 'UNC'), ('smu', 'UNC'), ('dokey', 'UNC'), ('authori', 'UNC'), ('bleu', 'UNC'), ('a-f-bout', 'UNC'), ('contra', 'UNC'), ('tom', 'UNC'), ('eeeeeeeh', 'UNC'), ('baha', 'UNC'), ('unfortun', 'UNC'), ('doro', 'UNC'), ('ner', 'UNC'), ('frid', 'UNC'), ('toni', 'UNC'), ('beethov', 'UNC'), ('promena', 'UNC'), ('gar', 'UNC'), ('compil', 'UNC'), ('dona', 'UNC'), ('gard', 'UNC'), ('med', 'UNC'), ('bana', 'UNC'), ('bry', 'UNC'), ('umb', 'UNC'), ('comi', 'UNC'), ('birth', 'UNC'), ('souf', 'UNC'), ('chee', 'UNC'), ('tas', 'UNC'), ('asth', 'UNC'), ('januar', 'UNC'), ('janu', 'UNC'), ('kirk', 'UNC'), ('spri', 'UNC'), ('ladyki', 'UNC'), ('glass', 'UNC'), ('scheff', 'UNC'), ('methodi', 'UNC'), ('arou', 'UNC'), ('cup', 'UNC'), ('straw', 'UNC'), ('gent', 'UNC'), ('emb', 'UNC'), ('krook-lo', 'UNC'), ('ire', 'UNC'), ('squa', 'UNC'), ('bott', 'UNC'), ('variet', 'UNC'), ('frighten', 'UNC'), ('beli', 'UNC'), ('teres', 'UNC'), ('invoi', 'UNC'), ('davi', 'UNC'), ('ridiculo', 'UNC'), ('spok', 'UNC'), ('stal', 'UNC'), ('antise', 'UNC'), ('willi', 'UNC'), ('ig', 'UNC'), ('patria', 'UNC'), ('ska', 'UNC'), ('machi', 'UNC'), ('wear', 'UNC'), ('eventu', 'UNC'), ('thaw', 'UNC'), ('scre', 'UNC'), ('spel', 'UNC'), ('front', 'UNC'), ('plu', 'UNC'), ('painti', 'UNC'), ('foss', 'UNC'), ('sq', 'UNC'), ('clean', 'UNC'), ('forg', 'UNC'), ('stic', 'UNC'), ('morroc', 'UNC'), ('aud', 'UNC'), ('pige', 'UNC'), ('mater', 'UNC'), ('pai', 'UNC'), ('suspic', 'UNC'), ('waterwo', 'UNC'), ('mountai', 'UNC'), ('uri', 'UNC'), ('cli', 'UNC'), ('anywa', 'UNC'), ('sprin', 'UNC'), ('evacu', 'UNC'), ('top', 'UNC'), ('cus', 'UNC'), ('upsta', 'UNC'), ('wurgh', 'UNC'), ('nau', 'UNC'), ('alfons', 'UNC'), ('reti', 'UNC'), ('ya', 'UNC'), ('ly', 'UNC'), ('typi', 'UNC'), ('conversat', 'UNC'), ('alwa', 'UNC'), ('miaow', 'UNC'), ('dig', 'UNC'), ('digger', 'UNC'), ('spaghetti', 'UNC'), ('bolognese', 'UNC'), ('southshall', 'UNC'), ('suj', 'UNC'), ('aun', 'UNC'), ('frustrat', 'UNC'), ('soun', 'UNC'), ('reali', 'UNC'), ('opp', 'UNC'), ('aba', 'UNC'), ('jose', 'UNC'), ('spen', 'UNC'), ('sheffi', 'UNC'), ('lader', 'UNC'), ('syste', 'UNC'), ('ton', 'UNC'), ('dus', 'UNC'), ('licens', 'UNC'), ('confere', 'UNC'), ('appar', 'UNC'), ('cance', 'UNC'), ('wilso', 'UNC'), ('wurli', 'UNC'), ('thro', 'UNC'), ('dub', 'UNC'), ('marri', 'UNC'), ('shamp', 'UNC'), ('opera', 'UNC'), ('ora', 'UNC'), ('attract', 'UNC'), ('kor', 'UNC'), ('carlsb', 'UNC'), ('buildi', 'UNC'), ('outsi', 'UNC'), ('liberti', 'UNC'), ('elliel', 'UNC'), ('spra', 'UNC'), ('depres', 'UNC'), ('scu', 'UNC'), ('vinta', 'UNC'), ('vod', 'UNC'), ('alis', 'UNC'), ('lef', 'UNC'), ('expens', 'UNC'), ('orbit', 'UNC'), ('obit', 'UNC'), ('multi-c', 'UNC'), ('necklaces', 'UNC'), ('stout', 'UNC'), ('cel', 'UNC'), ('moi', 'UNC'), ('vous', 'UNC'), ('sultan', 'UNC'), ('house', 'UNC'), ('pict', 'UNC'), ('unbeliev', 'UNC'), ('chevette', 'UNC'), ('neo', 'UNC'), ('conscio', 'UNC'), ('fes', 'UNC'), ('possib', 'UNC'), ('tuck', 'UNC'), ('trous', 'UNC'), ('doll', 'UNC'), ('book', 'UNC'), ('deter', 'UNC'), ('revolv', 'UNC'), ('ghettos', 'UNC'), ('vou', 'UNC'), ('shop', 'UNC'), ('pefec', 'UNC'), ('kimon', 'UNC'), ('christm', 'UNC'), ('neph', 'UNC'), ('opport', 'UNC'), ('block', 'UNC'), ('restaur', 'UNC'), ('hos', 'UNC'), ('fail', 'UNC'), ('touch', 'UNC'), ('weee', 'UNC'), ('pre-elementary', 'UNC'), ('pre-element', 'UNC'), ('wrin', 'UNC'), ('colou', 'UNC'), ('toi', 'UNC'), ('brun', 'UNC'), ('waterfa', 'UNC'), ('=liarly', 'UNC'), ('reckon', 'UNC'), ('round', 'UNC'), ('woo', 'UNC'), ('kami', 'UNC'), ('inter-rela', 'UNC'), ('superst', 'UNC'), ('practic', 'UNC'), ('rememb', 'UNC'), ('tooth', 'UNC'), ('wobb', 'UNC'), ('tyse', 'UNC'), ('free', 'UNC'), ('litt', 'UNC'), ('skim', 'UNC'), ('fing', 'UNC'), ('god', 'UNC'), ('afri', 'UNC'), ('meow', 'UNC'), ('georg', 'UNC'), ('vegeta', 'UNC'), ('hairdre', 'UNC'), ('batt', 'UNC'), ('indadit', 'UNC'), ('yest', 'UNC'), ('barclaycard', 'UNC'), ('jack', 'UNC'), ('iv', 'UNC'), ('craze', 'UNC'), ('more', 'UNC'), ('toffee-er', 'UNC'), ('fours', 'UNC'), ('strap', 'UNC'), ('signifi', 'UNC'), ('gerald', 'UNC'), ('most', 'UNC'), ('grandmoth', 'UNC'), ('horri', 'UNC'), ('rabi', 'UNC'), ('monda', 'UNC'), ('redca', 'UNC'), ('redcu', 'UNC'), ('pre-pa', 'UNC'), ('animal', 'UNC'), ('eveni', 'UNC'), ('packer', 'UNC'), ('pan', 'UNC'), ('bil', 'UNC'), ('cook', 'UNC'), ('lib', 'UNC'), ('scott', 'UNC'), ('prepa', 'UNC'), ('beach', 'UNC'), ('signal', 'UNC'), ('shoul', 'UNC'), ('invert', 'UNC'), ('paul', 'UNC'), ('oggy', 'UNC'), ('cowabongga', 'UNC'), ('meoooww', 'UNC'), ('dong', 'UNC'), ('aaagh', 'UNC'), ('carol', 'UNC'), ('grey', 'UNC'), ('naturali', 'UNC'), ('conv', 'UNC'), ('advo', 'UNC'), ('nudiflorum', 'UNC'), ('witham', 'UNC'), ('grave', 'UNC'), ('phoo', 'UNC'), ('bir', 'UNC'), ('whereabou', 'UNC'), ('molly', 'UNC'), ('frightfu', 'UNC'), ('plaster', 'UNC'), ('ug', 'UNC'), ('meanti', 'UNC'), ('sci', 'UNC'), ('wednesd', 'UNC'), ('bicarb', 'UNC'), ('crickl', 'UNC'), ('wid', 'UNC'), ('hitti', 'UNC'), ('hear', 'UNC'), ('caro', 'UNC'), ('rockwe', 'UNC'), ('positi', 'UNC'), ('atch', 'UNC'), ('le-', 'UNC'), ('li-', 'UNC'), ('epi', 'UNC'), ('boati', 'UNC'), ('dustbi', 'UNC'), ('mast', 'UNC'), ('zom', 'UNC'), ('doch', 'UNC'), ('wra', 'UNC'), ('squin', 'UNC'), ('daba', 'UNC'), ('bomp', 'UNC'), ('buddleia', 'UNC'), ('matth', 'UNC'), ('lama', 'UNC'), ('engli', 'UNC'), ('orin', 'UNC'), ('write', 'UNC'), ('kid', 'UNC'), ('drow', 'UNC'), ('jes', 'UNC'), ('acha', 'UNC'), ('sym', 'UNC'), ('fal', 'UNC'), (\"scripture'=s\", 'UNC'), ('apos', 'UNC'), ('m=mm', 'UNC'), ('account', 'UNC'), ('skew', 'UNC'), ('modus', 'UNC'), ('operandi', 'UNC'), ('descr', 'UNC'), ('grou', 'UNC'), ('chelms', 'UNC'), ('gin', 'UNC'), ('withou', 'UNC'), ('theirse', 'UNC'), ('lorr', 'UNC'), ('affect', 'UNC'), ('cauliflow', 'UNC'), ('hors', 'UNC'), ('scy', 'UNC'), ('millio', 'UNC'), ('sylv', 'UNC'), ('ivybri', 'UNC'), ('semi-sa', 'UNC'), ('nein', 'UNC'), ('rah', 'UNC'), ('ub40', 'UNC'), ('eeeerrrr', 'UNC'), ('aahh', 'UNC'), ('precio', 'UNC'), ('conscrip', 'UNC'), ('chea', 'UNC'), ('argen', 'UNC'), ('philomena', 'UNC'), ('philomen', 'UNC'), ('romu', 'UNC'), ('centu', 'UNC'), ('disabl', 'UNC'), ('swoll', 'UNC'), ('west', 'UNC'), ('wuls', 'UNC'), ('vick', 'UNC'), ('piz', 'UNC'), ('pizzarama', 'UNC'), ('mits', 'UNC'), ('bitte', 'UNC'), ('elder', 'UNC'), ('partner', 'UNC'), ('abing', 'UNC'), ('wind', 'UNC'), ('soon', 'UNC'), ('land', 'UNC'), ('chara', 'UNC'), ('brom', 'UNC'), ('merri', 'UNC'), ('betw', 'UNC'), ('arf', 'UNC'), ('sausag', 'UNC'), ('sauce', 'UNC'), ('tall', 'UNC'), ('scru', 'UNC'), ('plon', 'UNC'), ('organi', 'UNC'), ('excu', 'UNC'), ('pass', 'UNC'), ('unr', 'UNC'), ('coff', 'UNC'), ('hip', 'UNC'), ('judg', 'UNC'), ('retr', 'UNC'), ('jum', 'UNC'), ('embarr', 'UNC'), ('rid', 'UNC'), ('emergen', 'UNC'), ('drov', 'UNC'), ('temp', 'UNC'), ('windsc', 'UNC'), ('volk', 'UNC'), ('devon', 'UNC'), ('magnet', 'UNC'), ('rather', 'UNC'), ('sweat', 'UNC'), ('girl', 'UNC'), ('pel', 'UNC'), ('kni', 'UNC'), ('down', 'UNC'), ('palpitati', 'UNC'), ('infat', 'UNC'), ('havi', 'UNC'), ('serne', 'UNC'), ('heli', 'UNC'), ('deux', 'UNC'), ('rin', 'UNC'), ('intri', 'UNC'), ('anagly', 'UNC'), ('rer', 'UNC'), ('arthri', 'UNC'), ('sque', 'UNC'), ('riv', 'UNC'), ('gol', 'UNC'), ('gha', 'UNC'), ('exce', 'UNC'), ('bett', 'UNC'), ('terenc', 'UNC'), ('boyf', 'UNC'), ('suis', 'UNC'), ('spla', 'UNC'), ('exci', 'UNC'), ('swimp', 'UNC'), ('pah', 'UNC'), ('fran', 'UNC'), ('keeh', 'UNC'), ('arghhh', 'UNC'), ('jealo', 'UNC'), ('ging', 'UNC'), ('week', 'UNC'), ('shri', 'UNC'), ('south', 'UNC'), ('everywhe', 'UNC'), ('cab', 'UNC'), ('sleev', 'UNC'), ('choi', 'UNC'), ('bung', 'UNC'), ('listen', 'UNC'), ('overprotect', 'UNC'), ('protect', 'UNC'), ('aaaaaggghhh', 'UNC'), ('opin', 'UNC'), ('submar', 'UNC'), ('bleagh', 'UNC'), ('shrimp', 'UNC'), ('jul', 'UNC'), ('kung', 'UNC'), ('shr', 'UNC'), ('petr', 'UNC'), ('smok', 'UNC'), ('nap', 'UNC'), ('unlead', 'UNC'), ('7tel', 'UNC'), ('liver', 'UNC'), ('analy', 'UNC'), ('bollo', 'UNC'), ('cami', 'UNC'), ('bram', 'UNC'), ('yoke', 'UNC'), ('peooow', 'UNC'), ('bathr', 'UNC'), ('lai', 'UNC'), ('radi', 'UNC'), ('everythi', 'UNC'), ('stairca', 'UNC'), ('conservati', 'UNC'), ('pok', 'UNC'), ('seca', 'UNC'), ('luxur', 'UNC'), ('chest', 'UNC'), ('stac', 'UNC'), ('febru', 'UNC'), ('adeno', 'UNC'), ('choos', 'UNC'), ('fromage', 'UNC'), ('frais', 'UNC'), ('conserv', 'UNC'), ('henrie', 'UNC'), ('somebod', 'UNC'), ('glo', 'UNC'), ('junio', 'UNC'), ('avo', 'UNC'), ('grav', 'UNC'), ('honeysu', 'UNC'), ('ambers', 'UNC'), ('billi', 'UNC'), ('mach', 'UNC'), ('satur', 'UNC'), ('identi', 'UNC'), ('ls', 'UNC'), ('cheek', 'UNC'), ('hisssss', 'UNC'), ('wha-', 'UNC'), ('little-un', 'UNC'), ('knit', 'UNC'), ('aneis', 'UNC'), ('ides', 'UNC'), ('sunnin', 'UNC'), ('multa', 'UNC'), ('mul', 'UNC'), ('preg', 'UNC'), ('dictat', 'UNC'), ('mam', 'UNC'), ('champa', 'UNC'), ('edu', 'UNC'), ('auck', 'UNC'), ('pesa', 'UNC'), ('pap', 'UNC'), ('sevente', 'UNC'), ('effort', 'UNC'), ('doz', 'UNC'), ('little-uns', 'UNC'), ('topsy', 'UNC'), ('turvy', 'UNC'), ('repet', 'UNC'), ('eil', 'UNC'), ('fog', 'UNC'), ('weight', 'UNC'), ('cas', 'UNC'), ('y=yes', 'UNC'), ('duggan', 'UNC'), ('vide', 'UNC'), ('charl', 'UNC'), ('beautif', 'UNC'), ('him', 'UNC'), ('beeeee', 'UNC'), ('anim', 'UNC'), ('picken', 'UNC'), ('accid', 'UNC'), ('re-roo', 'UNC'), ('moul', 'UNC'), ('waaah', 'UNC'), ('quar', 'UNC'), ('lic', 'UNC'), ('bim', 'UNC'), ('microchi', 'UNC'), ('amalgam', 'UNC'), ('inoffe', 'UNC'), ('carp', 'UNC'), ('panicking', 'UNC'), ('phewf', 'UNC'), ('appointme', 'UNC'), ('peter', 'UNC'), ('unemploym', 'UNC'), (\"o'clo\", 'UNC'), ('creeeh', 'UNC'), ('mm/', 'UNC'), ('rurgh', 'UNC'), ('phrum', 'UNC'), ('unti', 'UNC'), ('cart', 'UNC'), ('policem', 'UNC'), ('cheee', 'UNC'), ('bomby', 'UNC'), ('wergh', 'UNC'), ('samma', 'UNC'), ('edd', 'UNC'), ('bun', 'UNC'), ('stil', 'UNC'), ('ching', 'UNC'), ('bul', 'UNC'), ('mysel', 'UNC'), ('phi', 'UNC'), ('j=just', 'UNC'), ('cosi', 'UNC'), ('kenn', 'UNC'), ('agent', 'UNC'), ('provocateur', 'UNC'), ('p=bonk', 'UNC'), ('chro', 'UNC'), ('chrom', 'UNC'), ('intest', 'UNC'), ('illus', 'UNC'), ('jun', 'UNC'), ('son', 'UNC'), ('tele', 'UNC'), ('alrea', 'UNC'), ('crux', 'UNC'), ('inbet', 'UNC'), ('kit', 'UNC'), ('mate', 'UNC'), ('grandmo', 'UNC'), ('hur', 'UNC'), ('strawb', 'UNC'), ('toma', 'UNC'), ('defini', 'UNC'), ('wac', 'UNC'), ('ble', 'UNC'), ('beds', 'UNC'), ('dog', 'UNC'), ('automatic', 'UNC'), ('scann', 'UNC'), ('bollock', 'UNC'), ('nea', 'UNC'), ('pushch', 'UNC'), ('worri', 'UNC'), ('soft', 'UNC'), ('audi', 'UNC'), ('dial', 'UNC'), ('cortin', 'UNC'), ('wir', 'UNC'), ('cella', 'UNC'), ('ish', 'UNC'), ('hic', 'UNC'), ('scer', 'UNC'), ('toleran', 'UNC'), ('ae', 'UNC'), ('saturd', 'UNC'), ('kannchelsk', 'UNC'), ('sea', 'UNC'), ('lombar', 'UNC'), ('wiz', 'UNC'), ('ferro', 'UNC'), ('rab', 'UNC'), ('alger', 'UNC'), ('jer', 'UNC'), ('rigor', 'UNC'), ('mortis', 'UNC'), ('fire', 'UNC'), ('re-in', 'UNC'), ('magna', 'UNC'), ('carta', 'UNC'), ('marvel', 'UNC'), ('vent', 'UNC'), ('aar', 'UNC'), ('undersa', 'UNC'), ('cil', 'UNC'), ('mista', 'UNC'), ('ambulan', 'UNC'), ('morri', 'UNC'), ('veroni', 'UNC'), ('griffi', 'UNC'), ('appeara', 'UNC'), (\"d'y\", 'UNC'), ('rrrm', 'UNC'), ('wednes', 'UNC'), ('spit', 'UNC'), ('preve', 'UNC'), ('ascer', 'UNC'), ('sie', 'UNC'), ('pras', 'UNC'), ('ich', 'UNC'), ('birmin', 'UNC'), ('releas', 'UNC'), ('delic', 'UNC'), ('quanti', 'UNC'), ('hare', 'UNC'), ('voila', 'UNC'), ('blood', 'UNC'), ('barba', 'UNC'), ('berno', 'UNC'), ('knoc', 'UNC'), ('mill', 'UNC'), ('normska', 'UNC'), ('millime', 'UNC'), ('recko', 'UNC'), ('re-wire', 'UNC'), ('stran', 'UNC'), ('clev', 'UNC'), ('exj', 'UNC'), ('sloboda', 'UNC'), ('thun', 'UNC'), ('lei', 'UNC'), ('vitro', 'UNC'), ('ger', 'UNC'), ('tic', 'UNC'), ('farnbor', 'UNC'), ('recap', 'UNC'), ('aut', 'UNC'), ('dre', 'UNC'), ('jag', 'UNC'), ('italia', 'UNC'), ('revs', 'UNC'), ('big-uns', 'UNC'), ('mia', 'UNC'), ('stri', 'UNC'), ('twang', 'UNC'), ('civi', 'UNC'), ('tempor', 'UNC'), ('entra', 'UNC'), ('chipboa', 'UNC'), ('recogni', 'UNC'), ('brand', 'UNC'), ('potat', 'UNC'), ('naut', 'UNC'), ('rei', 'UNC'), ('optimi', 'UNC'), ('scalped', 'UNC'), ('alb', 'UNC'), ('albe', 'UNC'), ('givi', 'UNC'), ('paki', 'UNC'), ('rewi', 'UNC'), ('morgen', 'UNC'), ('apparent', 'UNC'), ('francais', 'UNC'), ('eins', 'UNC'), ('zwei', 'UNC'), ('drei', 'UNC'), ('vier', 'UNC'), ('funf', 'UNC'), ('hier', 'UNC'), ('kommen', 'UNC'), ('aus', 'UNC'), ('haben', 'UNC'), ('kinder', 'UNC'), ('wascher', 'UNC'), ('nummer', 'UNC'), ('mein', 'UNC'), ('motor', 'UNC'), ('ist', 'UNC'), ('rot', 'UNC'), ('habens', 'UNC'), ('parlez-vous', 'UNC'), ('pois', 'UNC'), ('merde', 'UNC'), ('put', 'UNC'), ('wank', 'UNC'), ('fourtee', 'UNC'), ('auf', 'UNC'), ('wolv', 'UNC'), ('everybody', 'UNC'), ('dict', 'UNC'), ('immor', 'UNC'), ('quelle', 'UNC'), ('heure', 'UNC'), ('est-il', 'UNC'), ('econom', 'UNC'), ('ferrar', 'UNC'), ('germ', 'UNC'), ('answ', 'UNC'), ('fluctu-fucking-ation', 'UNC'), ('mons', 'UNC'), ('archol', 'UNC'), ('pre-cum', 'UNC'), ('backsi', 'UNC'), ('stap', 'UNC'), ('marig', 'UNC'), ('pea', 'UNC'), ('marigo', 'UNC'), ('naga', 'UNC'), ('boot', 'UNC'), ('impress', 'UNC'), ('pate', 'UNC'), ('foie', 'UNC'), ('curt', 'UNC'), ('whaaaay', 'UNC'), ('bee-', 'UNC'), ('wh-', 'UNC'), ('d-', 'UNC'), ('flym', 'UNC'), ('ge-', 'UNC'), ('they-', 'UNC'), ('op-', 'UNC'), ('ph-', 'UNC'), ('m-', 'UNC'), ('tu-', 'UNC'), ('mi-', 'UNC'), ('highwaymen', 'UNC'), ('nel', 'UNC'), ('understan', 'UNC'), ('anyho', 'UNC'), ('shum', 'UNC'), ('yu', 'UNC'), ('amm', 'UNC'), ('rak', 'UNC'), ('weeow', 'UNC'), ('zup', 'UNC'), ('apath', 'UNC'), ('brillian', 'UNC'), ('anticipat', 'UNC'), ('t-shi', 'UNC'), ('yen', 'UNC'), ('manufa', 'UNC'), ('jen', 'UNC'), ('comme', 'UNC'), ('quag', 'UNC'), ('webb', 'UNC'), ('ira', 'UNC'), ('conjuctiv', 'UNC'), ('alvar', 'UNC'), ('ath', 'UNC'), ('pena', 'UNC'), ('circs', 'UNC'), ('stere', 'UNC'), ('contro', 'UNC'), ('synch', 'UNC'), ('luc', 'UNC'), ('transmit', 'UNC'), ('spi', 'UNC'), ('recy', 'UNC'), ('moto', 'UNC'), ('devia', 'UNC'), ('notin', 'UNC'), ('fresco', 'UNC'), ('marv', 'UNC'), ('nan', 'UNC'), ('conden', 'UNC'), ('condensa', 'UNC'), ('neigh', 'UNC'), ('ital', 'UNC'), ('grom', 'UNC'), ('pomme', 'UNC'), ('terre', 'UNC'), ('eg', 'UNC'), ('norma', 'UNC'), ('towar', 'UNC'), ('slee', 'UNC'), ('ereht', 'UNC'), ('togrday', 'UNC'), ('yorkshi', 'UNC'), ('pud', 'UNC'), ('veg', 'UNC'), ('eat', 'UNC'), ('rheuma', 'UNC'), ('ela', 'UNC'), ('phylli', 'UNC'), ('saffro', 'UNC'), ('saffra', 'UNC'), ('guil', 'UNC'), ('orh', 'UNC'), ('duri', 'UNC'), ('india', 'UNC'), ('fierre', 'UNC'), ('sewi', 'UNC'), ('hospita', 'UNC'), ('ey', 'UNC'), ('remonsta', 'UNC'), ('girlfrie', 'UNC'), ('instead', 'UNC'), ('everybod', 'UNC'), ('rew', 'UNC'), ('fuck', 'UNC'), ('sweet', 'UNC'), ('ed.2', 'UNC'), ('h1', 'UNC'), ('still', 'UNC'), ('a1', 'UNC'), ('m10', 'UNC'), ('cumb', 'UNC'), ('renew', 'UNC'), ('corn', 'UNC'), ('resear', 'UNC'), ('chow', 'UNC'), ('shakes', 'UNC'), ('att', 'UNC'), ('fer', 'UNC'), ('bat', 'UNC'), ('clap', 'UNC'), ('stour', 'UNC'), ('convic', 'UNC'), ('delle', 'UNC'), ('prelim', 'UNC'), ('informat', 'UNC'), ('salm', 'UNC'), ('pedestr', 'UNC'), ('univ', 'UNC'), ('lowe', 'UNC'), ('ker', 'UNC'), ('supercolour', 'UNC'), ('hyper', 'UNC'), ('rubbi', 'UNC'), ('sko', 'UNC'), ('entertai', 'UNC'), ('crick', 'UNC'), ('blond', 'UNC'), ('whoe', 'UNC'), ('criminol', 'UNC'), ('mita', 'UNC'), ('illustra', 'UNC'), ('camps', 'UNC'), ('dignit', 'UNC'), ('spaghet', 'UNC'), ('booooooooooo', 'UNC'), ('lima', 'UNC'), ('gy', 'UNC'), ('qualif', 'UNC'), ('good-un', 'UNC'), ('europea', 'UNC'), ('huff', 'UNC'), ('maso', 'UNC'), ('parlian', 'UNC'), ('hung', 'UNC'), ('colest', 'UNC'), ('camon', 'UNC'), ('ordri', 'UNC'), ('presu', 'UNC'), ('semi-det', 'UNC'), ('undre', 'UNC'), ('tweedley-dum', 'UNC'), ('tweedley-dee', 'UNC'), ('confron', 'UNC'), ('noi', 'UNC'), ('encyclo', 'UNC'), ('templepa', 'UNC'), ('pâté', 'UNC'), ('bee', 'UNC'), ('=stantly', 'UNC'), ('=stant', 'UNC'), ('surrend', 'UNC'), ('famliy', 'UNC'), ('sevel', 'UNC'), ('vowel', 'UNC'), ('uns', 'UNC'), ('squ', 'UNC'), ('ssssa', 'UNC'), ('tuf', 'UNC'), ('complete', 'UNC'), ('kings', 'UNC'), ('away', 'UNC'), ('superse', 'UNC'), ('metr', 'UNC'), ('devo', 'UNC'), ('minut', 'UNC'), ('haf', 'UNC'), ('espe', 'UNC'), ('soma', 'UNC'), ('shra', 'UNC'), ('boost', 'UNC'), ('coo', 'UNC'), ('gav', 'UNC'), ('swin', 'UNC'), ('trim', 'UNC'), ('christma', 'UNC'), ('oversh', 'UNC'), ('cycl', 'UNC'), ('adj', 'UNC'), ('deduc', 'UNC'), ('legl', 'UNC'), ('handbr', 'UNC'), ('eighte', 'UNC'), ('oia_011207.tmp', 'UNC'), ('tryi', 'UNC'), ('assemb', 'UNC'), ('rabbi', 'UNC'), ('laxa', 'UNC'), ('diso', 'UNC'), ('crin', 'UNC'), ('intra', 'UNC'), ('coast', 'UNC'), ('inva', 'UNC'), ('possibili', 'UNC'), ('cornwa', 'UNC'), ('sce', 'UNC'), ('ats', 'UNC'), ('regis', 'UNC'), ('gor', 'UNC'), ('tubercular', 'UNC'), ('reall', 'UNC'), ('t=int', 'UNC'), ('relat', 'UNC'), ('danger', 'UNC'), ('learn', 'UNC'), ('sue', 'UNC'), ('usua', 'UNC'), ('least', 'UNC'), ('occasion', 'UNC'), (\"i=n'\", 'UNC'), ('doin', 'UNC'), ('absolute', 'UNC'), ('hunt', 'UNC'), ('recomme', 'UNC'), ('agendas', 'UNC'), ('shak', 'UNC'), ('fuddi', 'UNC'), ('staffi', 'UNC'), ('peas', 'UNC'), ('weal', 'UNC'), ('represe', 'UNC'), ('rurar', 'UNC'), ('absen', 'UNC'), ('exist', 'UNC'), ('bandi', 'UNC'), ('restorationist', 'UNC'), ('landlor', 'UNC'), ('restorat', 'UNC'), ('perpetu', 'UNC'), ('thera', 'UNC'), ('desista', 'UNC'), ('self-disc', 'UNC'), ('consa', 'UNC'), ('predecess', 'UNC'), ('café', 'UNC'), ('discret', 'UNC'), ('despa', 'UNC'), ('inge', 'UNC'), ('selli', 'UNC'), ('mono', 'UNC'), ('monos', 'UNC'), ('atr', 'UNC'), ('attende', 'UNC'), ('halas', 'UNC'), ('posish', 'UNC'), ('ceauşescu', 'UNC'), ('beau', 'UNC'), ('timo', 'UNC'), ('preva', 'UNC'), ('hypot', 'UNC'), ('inconve', 'UNC'), ('disht', 'UNC'), ('=nother', 'UNC'), ('differen', 'UNC'), ('destin', 'UNC'), ('befor', 'UNC'), ('applican', 'UNC'), ('lectu', 'UNC'), ('often', 'UNC'), ('helico', 'UNC'), ('pics', 'UNC'), ('galo', 'UNC'), ('signific', 'UNC'), ('cate', 'UNC'), ('productiv', 'UNC'), ('reta', 'UNC'), ('unl', 'UNC'), ('change', 'UNC'), ('twelv', 'UNC'), ('protrac', 'UNC'), ('hundred', 'UNC'), ('protra', 'UNC'), ('squi', 'UNC'), ('managem', 'UNC'), ('appraise', 'UNC'), ('hopeful', 'UNC'), ('tell', 'UNC'), ('nationale', 'UNC'), ('standar', 'UNC'), ('invest', 'UNC'), ('ick', 'UNC'), ('legilay', 'UNC'), ('implima', 'UNC'), ('raise', 'UNC'), ('exer', 'UNC'), ('mike', 'UNC'), ('freema', 'UNC'), ('voc', 'UNC'), ('absolutive', 'UNC'), ('represen', 'UNC'), ('prohib', 'UNC'), ('implemation', 'UNC'), ('fata', 'UNC'), ('delev', 'UNC'), ('shim', 'UNC'), ('spousen', 'UNC'), ('rejoke', 'UNC'), ('once', 'UNC'), ('success', 'UNC'), ('schools', 'UNC'), ('econor', 'UNC'), ('nata', 'UNC'), ('loftb', 'UNC'), ('bric-à-brac', 'UNC'), ('accu', 'UNC'), ('fane', 'UNC'), ('droo', 'UNC'), ('swor', 'UNC'), ('whet', 'UNC'), ('exs', 'UNC'), ('indepen', 'UNC'), ('nig', 'UNC'), ('commun', 'UNC'), ('sociali', 'UNC'), ('hardl', 'UNC'), ('reass', 'UNC'), ('mechaniz', 'UNC'), ('spef', 'UNC'), ('surta', 'UNC'), ('histor', 'UNC'), ('acceptab', 'UNC'), ('strate', 'UNC'), ('poten', 'UNC'), ('hin', 'UNC'), ('availabil', 'UNC'), ('richonds', 'UNC'), ('saun', 'UNC'), ('ack', 'UNC'), ('imm', 'UNC'), ('allot', 'UNC'), ('tax', 'UNC'), ('defen', 'UNC'), ('jok', 'UNC'), ('score', 'UNC'), ('economi', 'UNC'), ('clear', 'UNC'), ('shrew', 'UNC'), ('int=sting', 'UNC'), ('incr', 'UNC'), ('tem', 'UNC'), ('himse', 'UNC'), ('humani', 'UNC'), ('nico', 'UNC'), ('naom', 'UNC'), ('reje', 'UNC'), ('anas', 'UNC'), ('furni', 'UNC'), ('myse', 'UNC'), ('ring', 'UNC'), ('sing', 'UNC'), ('walla', 'UNC'), ('wirra', 'UNC'), ('thei', 'UNC'), ('clow', 'UNC'), ('serious', 'UNC'), ('hole', 'UNC'), ('hac', 'UNC'), ('blar', 'UNC'), ('rare', 'UNC'), ('usi', 'UNC'), ('iso', 'UNC'), ('quadrilat', 'UNC'), ('afte', 'UNC'), ('ex-ch', 'UNC'), ('co=op', 'UNC'), ('meg', 'UNC'), (\"'m\", 'UNC'), ('spiderma', 'UNC'), ('kill', 'UNC'), ('luxe', 'UNC'), ('pret', 'UNC'), ('having', 'UNC'), ('zo', 'UNC'), ('okay', 'UNC'), ('corm', 'UNC'), ('bloo', 'UNC'), ('prostitu', 'UNC'), ('anona', 'UNC'), ('revoir', 'UNC'), ('ener', 'UNC'), ('finic', 'UNC'), ('intel', 'UNC'), ('pov', 'UNC'), ('gover', 'UNC'), ('jar', 'UNC'), ('crack', 'UNC'), ('pyracantha', 'UNC'), ('heat', 'UNC'), ('partici', 'UNC'), ('thirte', 'UNC'), ('recre', 'UNC'), ('biop', 'UNC'), ('influ', 'UNC'), ('noo', 'UNC'), ('pun', 'UNC'), ('felic', 'UNC'), ('n=nadir', 'UNC'), ('overa', 'UNC'), ('opportu', 'UNC'), ('sneeze', 'UNC'), ('hospit', 'UNC'), ('incap', 'UNC'), ('gril', 'UNC'), ('plent', 'UNC'), ('hungar', 'UNC'), ('dum-do-be-do-dum-dum', 'UNC'), ('do-dum-dum', 'UNC'), ('cumma-cumma-dum-do-be-do-dum', 'UNC'), ('excit', 'UNC'), ('proper', 'UNC'), ('cumma-cumma-cumma-dum-do-be-do-dum-dum-cumma-cumma-dum-do-be-', 'UNC'), ('do-dum-dum-waking-up-is-hard-to-do', 'UNC'), ('prote', 'UNC'), ('prosti', 'UNC'), ('really', 'UNC'), ('rippl', 'UNC'), ('ama', 'UNC'), ('revolt', 'UNC'), ('stuf', 'UNC'), ('phoe', 'UNC'), ('z', 'UNC'), ('legali', 'UNC'), ('legal', 'UNC'), ('basic', 'UNC'), ('sud', 'UNC'), ('chau', 'UNC'), ('mentha', 'UNC'), ('menthe', 'UNC'), ('lion', 'UNC'), ('intimida', 'UNC'), ('deliberat', 'UNC'), ('boar', 'UNC'), ('reck', 'UNC'), ('equinox', 'UNC'), ('alf', 'UNC'), ('shuf', 'UNC'), ('busine', 'UNC'), ('hamps', 'UNC'), ('hamp', 'UNC'), ('conform', 'UNC'), ('ridic', 'UNC'), ('self', 'UNC'), ('psychia', 'UNC'), ('scar', 'UNC'), ('cunts', 'UNC'), ('newcas', 'UNC'), ('tee-hee', 'UNC'), ('mari', 'UNC'), ('una', 'UNC'), ('surp', 'UNC'), ('unin', 'UNC'), ('weeke', 'UNC'), ('consi', 'UNC'), ('chub', 'UNC'), ('frus', 'UNC'), ('complica', 'UNC'), ('upsa', 'UNC'), ('awf', 'UNC'), ('austra', 'UNC'), ('raili', 'UNC'), ('cobb', 'UNC'), ('moo', 'UNC'), ('eclip', 'UNC'), ('spend', 'UNC'), ('quarte', 'UNC'), ('crotche', 'UNC'), ('hopef', 'UNC'), ('anni', 'UNC'), ('neurot', 'UNC'), ('hell', 'UNC'), ('leo', 'UNC'), ('laz', 'UNC'), ('rum', 'UNC'), ('katri', 'UNC'), ('mau', 'UNC'), ('geog', 'UNC'), ('pound', 'UNC'), ('**', 'UNC'), ('a-half', 'UNC'), ('bzz', 'UNC'), ('fuc', 'UNC'), ('vam', 'UNC'), ('tick', 'UNC'), ('yorksh', 'UNC'), ('survi', 'UNC'), ('spiders', 'UNC'), ('spid', 'UNC'), ('half-ca', 'UNC'), ('cockle-doodle-doo', 'UNC'), ('handsta', 'UNC'), ('enj', 'UNC'), ('carri', 'UNC'), ('endu', 'UNC'), ('disgus', 'UNC'), ('kamik', 'UNC'), ('wondyfu', 'UNC'), ('rap', 'UNC'), ('loo-la', 'UNC'), ('quand', 'UNC'), ('borr', 'UNC'), ('underg', 'UNC'), ('wob', 'UNC'), ('dul', 'UNC'), ('ward', 'UNC'), ('wardro', 'UNC'), ('woth', 'UNC'), ('nati', 'UNC'), ('formal', 'UNC'), ('anglica', 'UNC'), ('asa', 'UNC'), ('unus', 'UNC'), ('aquaria', 'UNC'), ('impre', 'UNC'), ('satist', 'UNC'), ('hesi', 'UNC'), ('appen', 'UNC'), ('examiner', 'UNC'), ('seek', 'UNC'), ('gest', 'UNC'), ('model', 'UNC'), ('aust', 'UNC'), ('wobbl', 'UNC'), ('dang', 'UNC'), ('lunch', 'UNC'), ('canoe', 'UNC'), ('ident', 'UNC'), ('schr', 'UNC'), (\"wasn'\", 'UNC'), ('diet', 'UNC'), ('sometim', 'UNC'), ('suga', 'UNC'), ('somethin', 'UNC'), ('tea=bag', 'UNC'), ('fridge/freezers', 'UNC'), ('perhap', 'UNC'), ('twick', 'UNC'), ('arrest', 'UNC'), ('blon', 'UNC'), ('mid=brown', 'UNC'), ('sitt', 'UNC'), ('rien', 'UNC'), ('spite', 'UNC'), ('alca', 'UNC'), ('pantomime', 'UNC'), ('johns', 'UNC'), ('reli', 'UNC'), ('dunscri', 'UNC'), ('pil', 'UNC'), ('pris', 'UNC'), ('sme', 'UNC'), ('twenty/twenties', 'UNC'), ('hundred/a', 'UNC'), ('avant', 'UNC'), ('garde', 'UNC'), ('=', 'UNC'), ('es/o', 'UNC'), ('nom', 'UNC'), ('plume', 'UNC'), ('as/bs', 'UNC'), ('élite', 'UNC'), ('esmé', 'UNC'), ('cliché', 'UNC'), ('à', 'UNC'), ('clichés', 'UNC'), ('recherche', 'UNC'), ('belle', 'UNC'), ('époque', 'UNC'), ('grande', 'UNC'), ('hôtel', 'UNC'), ('française', 'UNC'), ('côté', 'UNC'), ('pléiade', 'UNC'), ('temps', 'UNC'), ('perdu', 'UNC'), ('longtemps', 'UNC'), ('quelque', 'UNC'), ('chose', 'UNC'), (\"l'avait\", 'UNC'), ('heurté', 'UNC'), ('suivi', 'UNC'), (\"d'une\", 'UNC'), ('ample', 'UNC'), ('chute', 'UNC'), ('lègère', 'UNC'), ('grains', 'UNC'), ('sable', 'UNC'), (\"qu'on\", 'UNC'), ('eût', 'UNC'), ('laissés', 'UNC'), ('tomber', 'UNC'), ('fenêtre', 'UNC'), ('audessus', 'UNC'), ('puis', 'UNC'), (\"s'étendant\", 'UNC'), ('règlant', 'UNC'), ('adoptant', 'UNC'), ('rhythme', 'UNC'), ('devenant', 'UNC'), ('fluide', 'UNC'), ('sonore', 'UNC'), ('musicale', 'UNC'), ('inombrable', 'UNC'), ('universelle', 'UNC'), (\"c'était\", 'UNC'), ('pluit', 'UNC'), ('léonie', 'UNC'), ('châteaubriand', 'UNC'), ('françois', 'UNC'), ('école', 'UNC'), ('länder', 'UNC'), ('niño', 'UNC'), ('fêtes', 'UNC'), ('gödel', 'UNC'), ('hominem', 'UNC'), ('++', 'UNC'), ('thousand/two', 'UNC'), ('+', 'UNC'), ('primus', 'UNC'), ('pares', 'UNC'), ('one/twenty', 'UNC'), ('hocus', 'UNC'), ('pocus.', 'UNC'), ('béarnaise', 'UNC'), ('aurora', 'UNC'), ('borealis', 'UNC'), ('m40', 'UNC'), ('dc10s', 'UNC'), ('£500', 'UNC'), ('£400', 'UNC'), ('£450', 'UNC'), ('déjá', 'UNC'), ('£200,000', 'UNC'), ('£136', 'UNC'), ('£55,000', 'UNC'), ('£259', 'UNC'), ('£1', 'UNC'), ('£60', 'UNC'), ('£50,000', 'UNC'), ('£6,235', 'UNC'), ('£700', 'UNC'), ('£80,000', 'UNC'), ('£4', 'UNC'), ('£100,000', 'UNC'), ('£24,000', 'UNC'), ('£35,000', 'UNC'), ('v8', 'UNC'), ('£100', 'UNC'), ('£16', 'UNC'), ('£70,000', 'UNC'), ('£10,000', 'UNC'), ('£3', 'UNC'), ('£5,000', 'UNC'), ('£52', 'UNC'), ('£30', 'UNC'), ('£182,500', 'UNC'), ('£6,000', 'UNC'), ('£325,000', 'UNC'), ('£300,000', 'UNC'), ('£65,000,000', 'UNC'), ('£2and1/4', 'UNC'), (\"0'clock\", 'UNC'), ('fiancée', 'UNC'), ('£520', 'UNC'), ('£2,500', 'UNC'), ('£280', 'UNC'), ('£', 'UNC'), ('nüremburg', 'UNC'), ('ohne', 'UNC'), ('7.5%', 'UNC'), ('£1,412,336', 'UNC'), ('a34', 'UNC'), ('a401', 'UNC'), ('m4', 'UNC'), ('£278', 'UNC'), ('£412', 'UNC'), ('£18', 'UNC'), ('£3.5', 'UNC'), ('8.8%', 'UNC'), ('£20', 'UNC'), ('a43', 'UNC'), ('a40', 'UNC'), ('a415', 'UNC'), ('14p', 'UNC'), ('£1,000', 'UNC'), ('a41', 'UNC'), ('f1', 'UNC'), ('11es', 'UNC'), ('f15', 'UNC'), ('f16', 'UNC'), ('£35', 'UNC'), ('1.2%', 'UNC'), ('labour/s', 'UNC'), ('£50.00', 'UNC'), ('a422', 'UNC'), ('a423', 'UNC'), ('£400,000', 'UNC'), ('dm2.7568', 'UNC'), ('60%.', 'UNC'), ('£99', 'UNC'), ('£110', 'UNC'), ('£119', 'UNC'), ('£191', 'UNC'), ('40x', 'UNC'), ('42x', 'UNC'), ('a413', 'UNC'), ('£190,000,000', 'UNC'), ('8x', 'UNC'), ('46x', 'UNC'), ('£200', 'UNC'), ('£1.8945', 'UNC'), ('£2.34p', 'UNC'), ('3.2p', 'UNC'), ('30p', 'UNC'), ('£345', 'UNC'), ('£7.1', 'UNC'), ('£13', 'UNC'), ('£521', 'UNC'), ('£493', 'UNC'), ('4b', 'UNC'), (\"5'\", 'UNC'), ('£2', 'UNC'), ('13x', 'UNC'), ('55x', 'UNC'), ('£7', 'UNC'), ('4j', 'UNC'), ('night/friday', 'UNC'), ('four/m', 'UNC'), ('fifteen%', 'UNC'), ('seft', 'UNC'), ('magil', 'UNC'), ('tice', 'UNC'), ('vis-á-vis', 'UNC'), ('pilg', 'UNC'), ('one/ninety', 'UNC'), ('so2', 'UNC'), ('w1p', 'UNC'), ('4de', 'UNC'), ('dozen/ten', 'UNC'), ('i37', 'UNC'), ('£60.', 'UNC'), ('£15,000', 'UNC'), ('£10', 'UNC'), ('a4', 'UNC'), ('7(a)', 'UNC'), ('1.9%', 'UNC'), ('nestlé', 'UNC'), ('nestle/1', 'UNC'), ('sixteen-to-eighteen-year-old', 'UNC'), ('morris–jenson', 'UNC'), ('perpetua', 'UNC'), ('monde', 'UNC'), ('sans', 'UNC'), ('principia', 'UNC'), ('fucki', 'UNC'), ('twic', 'UNC'), ('infa', 'UNC'), ('salmo', 'UNC'), ('each', 'UNC'), ('disast', 'UNC'), ('genu', 'UNC'), ('catori', 'UNC'), ('nige', 'UNC'), ('niger', 'UNC'), ('harmo', 'UNC'), ('agre', 'UNC'), ('midla', 'UNC'), ('jas', 'UNC'), ('secretar', 'UNC'), ('daft', 'UNC'), ('la-de-das', 'UNC'), ('kr', 'UNC'), ('bed-set', 'UNC'), ('auxil', 'UNC'), ('andr', 'UNC'), ('wig', 'UNC'), ('nervo', 'UNC'), ('three', 'UNC'), ('saxa', 'UNC'), ('dors', 'UNC'), ('rubb', 'UNC'), ('neu', 'UNC'), ('sulta', 'UNC'), ('usa', 'UNC'), ('confa', 'UNC'), ('aco', 'UNC'), ('flor', 'UNC'), ('cambri', 'UNC'), ('line', 'UNC'), ('bom', 'UNC'), (\"d'oeuvres\", 'UNC'), ('fater', 'UNC'), ('cleani', 'UNC'), ('maho', 'UNC'), ('sedu', 'UNC'), ('imanan', 'UNC'), ('ninti', 'UNC'), ('mas', 'UNC'), ('admir', 'UNC'), ('home', 'UNC'), ('russ', 'UNC'), ('français', 'UNC')])"
      ]
     },
     "execution_count": 29,
     "metadata": {},
     "output_type": "execute_result"
    }
   ],
   "source": [
    "BNC_hesitations.keys()"
   ]
  },
  {
   "cell_type": "code",
   "execution_count": 32,
   "metadata": {},
   "outputs": [
    {
     "name": "stdout",
     "output_type": "stream",
     "text": [
      "('er', 'UHfUH') 33806\n",
      "('erm', 'UHfUH') 7176\n",
      "('oh', 'UHfUH') 1226\n",
      "('ah', 'UHfUH') 882\n",
      "('huh', 'UHfUH') 345\n",
      "('haeh', 'UHfUH') 141\n",
      "('wow', 'UHfUH') 117\n",
      "('ooph', 'UHfUH') 79\n",
      "('pf', 'UHfUH') 44\n",
      "('ur', 'UHfUH') 32\n",
      "('mm', 'UHfUH') 31\n",
      "('poah', 'UHfUH') 22\n",
      "('oow', 'UHfUH') 20\n",
      "('oops', 'UHfUH') 15\n",
      "('uh', 'UHfUH') 13\n",
      "('whoohoo', 'UHfUH') 12\n",
      "('ha', 'UHfUH') 12\n",
      "('oh-oh', 'UHfUH') 10\n",
      "('ts', 'UHfUH') 6\n",
      "('sh', 'UHfUH') 5\n",
      "('ow', 'UHfUH') 5\n",
      "('yay', 'UHfUH') 4\n",
      "('ouch', 'UHfUH') 2\n",
      "('psh', 'UHfUH') 2\n",
      "('yo', 'UHfUH') 1\n",
      "('yuck', 'UHfUH') 1\n",
      "('innit', 'UHfUH') 1\n",
      "('yipee', 'UHfUH') 1\n",
      "('eh', 'UHfUH') 1\n"
     ]
    }
   ],
   "source": [
    "for bigram in sorted(VOICE_hesitations, key = VOICE_hesitations.get, reverse=True):\n",
    "    print(bigram, VOICE_hesitations[bigram])"
   ]
  },
  {
   "cell_type": "code",
   "execution_count": 34,
   "metadata": {},
   "outputs": [
    {
     "name": "stdout",
     "output_type": "stream",
     "text": [
      "('er', 'UNC') 88354\n",
      "('erm', 'UNC') 62352\n",
      "(\"'s\", 'UNC') 16580\n",
      "('th', 'UNC') 3771\n",
      "('i', 'UNC') 3204\n",
      "('ai', 'UNC') 2291\n",
      "('a', 'UNC') 2061\n",
      "('s', 'UNC') 1836\n",
      "(\"'\", 'UNC') 1451\n",
      "('w', 'UNC') 1364\n",
      "('yo', 'UNC') 1059\n",
      "('o', 'UNC') 836\n",
      "('per', 'UNC') 830\n",
      "('y', 'UNC') 806\n",
      "('t', 'UNC') 804\n",
      "('la', 'UNC') 767\n",
      "('an', 'UNC') 762\n",
      "('we', 'UNC') 761\n",
      "('cent', 'UNC') 722\n",
      "('wh', 'UNC') 693\n"
     ]
    }
   ],
   "source": [
    "for bigram in sorted(BNC_hesitations, key = BNC_hesitations.get, reverse=True)[:20]:\n",
    "    print(bigram, BNC_hesitations[bigram])"
   ]
  }
 ],
 "metadata": {
  "kernelspec": {
   "display_name": "Python 3",
   "language": "python",
   "name": "python3"
  },
  "language_info": {
   "codemirror_mode": {
    "name": "ipython",
    "version": 3
   },
   "file_extension": ".py",
   "mimetype": "text/x-python",
   "name": "python",
   "nbconvert_exporter": "python",
   "pygments_lexer": "ipython3",
   "version": "3.6.1"
  }
 },
 "nbformat": 4,
 "nbformat_minor": 2
}
