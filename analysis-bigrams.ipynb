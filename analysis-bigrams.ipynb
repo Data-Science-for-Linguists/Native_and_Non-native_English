{
 "cells": [
  {
   "cell_type": "markdown",
   "metadata": {},
   "source": [
    "Katherine Kairis, kak275@pitt.edu, 11/28/2017"
   ]
  },
  {
   "cell_type": "markdown",
   "metadata": {},
   "source": [
    "NEW CONTINUING"
   ]
  },
  {
   "cell_type": "code",
   "execution_count": 1,
   "metadata": {
    "collapsed": true
   },
   "outputs": [],
   "source": [
    "import pickle\n",
    "import nltk\n",
    "from nltk.corpus import stopwords\n",
    "import pandas as pd\n",
    "import matplotlib.pyplot as plt\n",
    "stopWords = set(stopwords.words('english'))\n",
    "\n",
    "from IPython.core.interactiveshell import InteractiveShell\n",
    "InteractiveShell.ast_node_interactivity = \"all\""
   ]
  },
  {
   "cell_type": "code",
   "execution_count": 2,
   "metadata": {},
   "outputs": [
    {
     "data": {
      "text/plain": [
       "'\\nTakes a dictionary of conversations from a corpus, and returns a list of bigrams.\\n'"
      ]
     },
     "execution_count": 2,
     "metadata": {},
     "output_type": "execute_result"
    }
   ],
   "source": [
    "\"\"\"\n",
    "Takes a dictionary of conversations from a corpus, and returns a list of bigrams.\n",
    "\"\"\"\n",
    "def get_bigrams(dictionary):\n",
    "    bigrams = []\n",
    "    for file in dictionary:\n",
    "        for key in dictionary[file]:\n",
    "            pairs = list(nltk.bigrams(dictionary[file][key]))\n",
    "            bigrams.extend(pairs)\n",
    "    return bigrams"
   ]
  },
  {
   "cell_type": "code",
   "execution_count": 3,
   "metadata": {},
   "outputs": [
    {
     "data": {
      "text/plain": [
       "\"\\nTakes a list of bigrams, returns dictionary whose keys are bigrams containing duplicate words (e.g ('i', 'i',), \\n'the', 'the') and whose values are the frequencies of each bigram\\n\""
      ]
     },
     "execution_count": 3,
     "metadata": {},
     "output_type": "execute_result"
    }
   ],
   "source": [
    "\"\"\"\n",
    "Takes a list of bigrams, returns dictionary whose keys are bigrams containing duplicate words (e.g ('i', 'i',), \n",
    "'the', 'the') and whose values are the frequencies of each bigram\n",
    "\"\"\"\n",
    "def repeated_words(bigrams):\n",
    "    repeated = {}\n",
    "    for b in bigrams:\n",
    "        if(b[0] == b[1]):\n",
    "            if(b not in repeated):\n",
    "                repeated[b] = 1\n",
    "            else:\n",
    "                repeated[b] += 1\n",
    "    return repeated"
   ]
  },
  {
   "cell_type": "code",
   "execution_count": 4,
   "metadata": {},
   "outputs": [
    {
     "data": {
      "text/plain": [
       "\"\\nTakes a dictionary of bigrams whose keys are bigrams containing duplicate words (e.g ('i', 'i',), \\n'the', 'the') and whose values are the frequencies of each bigram. Returns the sum of the frequencies for only\\nbigrams that contain repeated stop words\\n\""
      ]
     },
     "execution_count": 4,
     "metadata": {},
     "output_type": "execute_result"
    }
   ],
   "source": [
    "\"\"\"\n",
    "Takes a dictionary of bigrams whose keys are bigrams containing duplicate words (e.g ('i', 'i',), \n",
    "'the', 'the') and whose values are the frequencies of each bigram. Returns the sum of the frequencies for only\n",
    "bigrams that contain repeated stop words\n",
    "\"\"\"\n",
    "def repeated_stopwords(bigram_dict):\n",
    "    count = 0\n",
    "    for b in bigram_dict.keys():\n",
    "        if b[0] in stopWords:\n",
    "            count += bigram_dict[b]\n",
    "    return count"
   ]
  },
  {
   "cell_type": "code",
   "execution_count": 5,
   "metadata": {},
   "outputs": [
    {
     "data": {
      "text/plain": [
       "'\\nTakes a dictionary containing conversations and a user-provided tag. Returns a dictionary who keys are words that are \\nassociated with the tag, and whose values are the frequencies of each word\\n'"
      ]
     },
     "execution_count": 5,
     "metadata": {},
     "output_type": "execute_result"
    }
   ],
   "source": [
    "\"\"\"\n",
    "Takes a dictionary containing conversations and a user-provided tag. Returns a dictionary who keys are words that are \n",
    "associated with the tag, and whose values are the frequencies of each word\n",
    "\"\"\"\n",
    "def tag_counts(conv_dictionary, tag):\n",
    "    tags = {}\n",
    "    for file in conv_dictionary:\n",
    "        for key in conv_dictionary[file]:\n",
    "            for pair in conv_dictionary[file][key]:\n",
    "                if(pair[1] == tag):\n",
    "                    if(pair not in tags):\n",
    "                        tags[pair] = 1\n",
    "                    else:\n",
    "                        tags[pair] += 1\n",
    "    return tags"
   ]
  },
  {
   "cell_type": "code",
   "execution_count": 6,
   "metadata": {},
   "outputs": [
    {
     "data": {
      "text/plain": [
       "'\\nTakes a list of bigrams and a percentage between 0 and 1. Returns a dictionary whose keys are bigrams and whose values\\nare the frequencies of the bigrams. The bigrams included in the dictionary are only the ones that occur in the top \\ngiven percent. For example, if the user inputs BNC_bigrams 0.3, the returned dictionary will occur the top 30% of \\nbigrams in terms of their frequencies. The BNC has 9378696 bigram occurrences, so the dictionary will contain around \\n1875739 entries.\\n'"
      ]
     },
     "execution_count": 6,
     "metadata": {},
     "output_type": "execute_result"
    }
   ],
   "source": [
    "\"\"\"\n",
    "Takes a list of bigrams and a percentage between 0 and 1. Returns a dictionary whose keys are bigrams and whose values\n",
    "are the frequencies of the bigrams. The bigrams included in the dictionary are only the ones that occur in the top \n",
    "given percent. For example, if the user inputs BNC_bigrams 0.3, the returned dictionary will occur the top 30% of \n",
    "bigrams in terms of their frequencies. The BNC has 9378696 bigram occurrences, so the dictionary will contain around \n",
    "1875739 entries.\n",
    "\"\"\"\n",
    "\n",
    "def frequent_bigrams(bigrams, percent):\n",
    "    freqs = nltk.FreqDist(bigrams)\n",
    "    most_common = freqs.most_common()\n",
    "    limit = len(bigrams) * percent\n",
    "    num_occurrences = 0\n",
    "    top_bigrams = []\n",
    "    \n",
    "    for b in freqs.most_common():\n",
    "        num_occurrences += b[1]\n",
    "        if(num_occurrences >= limit):\n",
    "            return top_bigrams\n",
    "        top_bigrams.append(b)\n",
    "    return count_dictionary"
   ]
  },
  {
   "cell_type": "code",
   "execution_count": 7,
   "metadata": {},
   "outputs": [
    {
     "data": {
      "text/plain": [
       "'\\nTakes a conversation dictionary and a list of languages. Returns a dictionary of conversations containing only \\nutterances from participants whose L1 is listed in the list of languages.\\n'"
      ]
     },
     "execution_count": 7,
     "metadata": {},
     "output_type": "execute_result"
    }
   ],
   "source": [
    "\"\"\"\n",
    "Takes a conversation dictionary and a list of languages. Returns a dictionary of conversations containing only \n",
    "utterances from participants whose L1 is listed in the list of languages.\n",
    "\"\"\"\n",
    "def speech_by_L1(conversation_dict, lang_list):\n",
    "    new_dict = {}\n",
    "    for conversation in conversation_dict.keys():\n",
    "        utterances = {}\n",
    "        \n",
    "        for pair in conversation_dict[conversation]:    \n",
    "            speaker = pair[1]\n",
    "            #print(conversation_dict[conversation][pair])\n",
    "\n",
    "            \n",
    "            #print(participants[speaker]['L1'][0])\n",
    "            if(participants[speaker]['L1'][0] in lang_list):\n",
    "                utterances[pair] = conversation_dict[conversation][pair]\n",
    "            \n",
    "\n",
    "        new_dict[conversation] = utterances    \n",
    "\n",
    "    return new_dict"
   ]
  },
  {
   "cell_type": "code",
   "execution_count": 8,
   "metadata": {},
   "outputs": [
    {
     "data": {
      "text/plain": [
       "'\\nTakes two lists, a and b, that contain bigrams and their frequencies. e.g. [((\\'it\\', \"\\'s\"), 68661),\\n ((\\'that\\', \"\\'s\"), 45150),\\n ((\\'do\\', \"n\\'t\"), 42215),] \\nReturns a list of bigrams in b that are also in a.\\n'"
      ]
     },
     "execution_count": 8,
     "metadata": {},
     "output_type": "execute_result"
    }
   ],
   "source": [
    "\"\"\"\n",
    "Takes two lists, a and b, that contain bigrams and their frequencies. e.g. [(('it', \"'s\"), 68661),\n",
    " (('that', \"'s\"), 45150),\n",
    " (('do', \"n't\"), 42215),] \n",
    "Returns a list of bigrams in b that are also in a.\n",
    "\"\"\"\n",
    "def common_bigrams(list_a, list_b):\n",
    "    common = []\n",
    "    list_a = [b[0] for b in list_a]\n",
    "    list_b = [b[0] for b in list_b]\n",
    "    \n",
    "    count = 0\n",
    "    for bigram in list_b:\n",
    "        if(bigram in list_a):\n",
    "            common.append(bigram)\n",
    "    return common"
   ]
  },
  {
   "cell_type": "code",
   "execution_count": 9,
   "metadata": {},
   "outputs": [
    {
     "data": {
      "text/plain": [
       "'\\nTakes two lists, a and b, that contain bigrams and their frequencies. e.g. [((\\'it\\', \"\\'s\"), 68661),\\n ((\\'that\\', \"\\'s\"), 45150),\\n ((\\'do\\', \"n\\'t\"), 42215),] \\nReturns a list of bigrams in b that are NOT in a.\\n'"
      ]
     },
     "execution_count": 9,
     "metadata": {},
     "output_type": "execute_result"
    }
   ],
   "source": [
    "\"\"\"\n",
    "Takes two lists, a and b, that contain bigrams and their frequencies. e.g. [(('it', \"'s\"), 68661),\n",
    " (('that', \"'s\"), 45150),\n",
    " (('do', \"n't\"), 42215),] \n",
    "Returns a list of bigrams in b that are NOT in a.\n",
    "\"\"\"\n",
    "def uncommon_bigrams(list_a, list_b):\n",
    "    list_a = [b[0] for b in list_a]\n",
    "    list_b = [b[0] for b in list_b]\n",
    "    \n",
    "    mismatches = []\n",
    "    for bigram in list_b:\n",
    "        if(bigram not in list_a):\n",
    "            mismatches.append(bigram)\n",
    "    return mismatches"
   ]
  },
  {
   "cell_type": "markdown",
   "metadata": {},
   "source": [
    "# Bigram Analysis"
   ]
  },
  {
   "cell_type": "markdown",
   "metadata": {},
   "source": [
    "## Creating sub-corpora for different language families"
   ]
  },
  {
   "cell_type": "code",
   "execution_count": 10,
   "metadata": {
    "collapsed": true
   },
   "outputs": [],
   "source": [
    "#Get the tokens for each corpus from their respective pickle files\n",
    "#Also get the dictionary containing the participant info for VOICE\n",
    "f = open('VOICE_tokenized.p', 'rb')\n",
    "VOICE_toks = pickle.load(f)\n",
    "f.close()\n",
    "\n",
    "f = open('BNC_tokenized.p', 'rb')\n",
    "BNC_toks = pickle.load(f)\n",
    "f.close()\n",
    "\n",
    "f = open('VOICE_participant_info.p', 'rb')\n",
    "participants = pickle.load(f)\n",
    "f.close()"
   ]
  },
  {
   "cell_type": "code",
   "execution_count": 11,
   "metadata": {},
   "outputs": [
    {
     "data": {
      "text/plain": [
       "'\\nCreate sub-corpora from the VOICE corpus, each of which will contain utterances from L1 speakers of German languages,\\nRomance languages, and Slavic languages\\n'"
      ]
     },
     "execution_count": 11,
     "metadata": {},
     "output_type": "execute_result"
    },
    {
     "data": {
      "text/plain": [
       "{'EDcon4_S1',\n",
       " 'EDcon4_S2',\n",
       " 'EDcon4_S3',\n",
       " 'EDcon4_S4',\n",
       " 'EDcon4_S5',\n",
       " 'EDcon4_S6',\n",
       " 'EDcon4_S7',\n",
       " 'EDcon4_S8',\n",
       " 'EDcon4_S9'}"
      ]
     },
     "execution_count": 11,
     "metadata": {},
     "output_type": "execute_result"
    },
    {
     "data": {
      "text/plain": [
       "{'EDcon4_S3', 'EDcon4_S5', 'EDcon4_S6', 'EDcon4_S7', 'EDcon4_S9'}"
      ]
     },
     "execution_count": 11,
     "metadata": {},
     "output_type": "execute_result"
    },
    {
     "data": {
      "text/plain": [
       "{'EDcon4_S2'}"
      ]
     },
     "execution_count": 11,
     "metadata": {},
     "output_type": "execute_result"
    },
    {
     "data": {
      "text/plain": [
       "{'EDcon4_S1', 'EDcon4_S4'}"
      ]
     },
     "execution_count": 11,
     "metadata": {},
     "output_type": "execute_result"
    }
   ],
   "source": [
    "\"\"\"\n",
    "Create sub-corpora from the VOICE corpus, each of which will contain utterances from L1 speakers of German languages,\n",
    "Romance languages, and Slavic languages\n",
    "\"\"\"\n",
    "lang_classifications = {'germanic': ['ger', 'dut', 'swe', 'dan', 'nor', 'ice'],\n",
    "                        'romance': ['por', 'spa', 'ita', 'fre', 'cat', 'rum'],\n",
    "                        'slavic': ['rus', 'ukr', 'pol', 'bul', 'mac', 'cze', 'bos', 'slo', 'slv']}\n",
    "\n",
    "germanic_toks = speech_by_L1(VOICE_toks, lang_classifications['germanic'])\n",
    "romance_toks = speech_by_L1(VOICE_toks, lang_classifications['romance'])\n",
    "slavic_toks = speech_by_L1(VOICE_toks, lang_classifications['slavic'])\n",
    "\n",
    "set([l[1] for l in VOICE_toks['EDcon4.xml'].keys()])\n",
    "set([l[1] for l in germanic_toks['EDcon4.xml'].keys()])\n",
    "set([l[1] for l in romance_toks['EDcon4.xml'].keys()])\n",
    "set([l[1] for l in slavic_toks['EDcon4.xml'].keys()])"
   ]
  },
  {
   "cell_type": "code",
   "execution_count": 12,
   "metadata": {},
   "outputs": [
    {
     "data": {
      "text/plain": [
       "541521"
      ]
     },
     "execution_count": 12,
     "metadata": {},
     "output_type": "execute_result"
    },
    {
     "data": {
      "text/plain": [
       "9378696"
      ]
     },
     "execution_count": 12,
     "metadata": {},
     "output_type": "execute_result"
    },
    {
     "data": {
      "text/plain": [
       "285358"
      ]
     },
     "execution_count": 12,
     "metadata": {},
     "output_type": "execute_result"
    },
    {
     "data": {
      "text/plain": [
       "81876"
      ]
     },
     "execution_count": 12,
     "metadata": {},
     "output_type": "execute_result"
    },
    {
     "data": {
      "text/plain": [
       "54702"
      ]
     },
     "execution_count": 12,
     "metadata": {},
     "output_type": "execute_result"
    }
   ],
   "source": [
    "#Get the bigrams from VOICE and BNC, in addition to the three sub-corpora\n",
    "VOICE_bigrams = get_bigrams(VOICE_toks)\n",
    "BNC_bigrams = get_bigrams(BNC_toks)\n",
    "germanic_bigrams = get_bigrams(germanic_toks)\n",
    "romance_bigrams = get_bigrams(romance_toks)\n",
    "slavic_bigrams = get_bigrams(slavic_toks)\n",
    "\n",
    "len(VOICE_bigrams)\n",
    "len(BNC_bigrams)\n",
    "len(germanic_bigrams)\n",
    "len(romance_bigrams)\n",
    "len(slavic_bigrams)"
   ]
  },
  {
   "cell_type": "code",
   "execution_count": 13,
   "metadata": {},
   "outputs": [
    {
     "data": {
      "text/plain": [
       "'\\nGet the top 20% of bigrams (in terms of frequency) from each corpora/sub-corpora. For example, BNC has 9378696\\nbigrams, so the most common bigrams will be included until the their cumulative frequencies exceed 1875739.\\n'"
      ]
     },
     "execution_count": 13,
     "metadata": {},
     "output_type": "execute_result"
    },
    {
     "data": {
      "text/plain": [
       "232"
      ]
     },
     "execution_count": 13,
     "metadata": {},
     "output_type": "execute_result"
    },
    {
     "data": {
      "text/plain": [
       "171"
      ]
     },
     "execution_count": 13,
     "metadata": {},
     "output_type": "execute_result"
    },
    {
     "data": {
      "text/plain": [
       "172"
      ]
     },
     "execution_count": 13,
     "metadata": {},
     "output_type": "execute_result"
    },
    {
     "data": {
      "text/plain": [
       "144"
      ]
     },
     "execution_count": 13,
     "metadata": {},
     "output_type": "execute_result"
    },
    {
     "data": {
      "text/plain": [
       "163"
      ]
     },
     "execution_count": 13,
     "metadata": {},
     "output_type": "execute_result"
    }
   ],
   "source": [
    "\"\"\"\n",
    "Get the top 20% of bigrams (in terms of frequency) from each corpora/sub-corpora. For example, BNC has 9378696\n",
    "bigrams, so the most common bigrams will be included until the their cumulative frequencies exceed 1875739.\n",
    "\"\"\"\n",
    "BNC_freq_bigrams = frequent_bigrams(BNC_bigrams, 0.2)\n",
    "VOICE_freq_bigrams = frequent_bigrams(VOICE_bigrams, 0.2)\n",
    "germanic_freq_bigrams = frequent_bigrams(germanic_bigrams, 0.2)\n",
    "romance_freq_bigrams = frequent_bigrams(romance_bigrams, 0.2)\n",
    "slavic_freq_bigrams = frequent_bigrams(slavic_bigrams, 0.2)\n",
    "\n",
    "len(BNC_freq_bigrams)\n",
    "len(VOICE_freq_bigrams)\n",
    "len(germanic_freq_bigrams)\n",
    "len(romance_freq_bigrams)\n",
    "len(slavic_freq_bigrams)"
   ]
  },
  {
   "cell_type": "markdown",
   "metadata": {},
   "source": [
    "## Unmodified Bigram Lists"
   ]
  },
  {
   "cell_type": "markdown",
   "metadata": {},
   "source": [
    "### Similarities between VOICE and BNC"
   ]
  },
  {
   "cell_type": "code",
   "execution_count": 14,
   "metadata": {},
   "outputs": [
    {
     "data": {
      "text/plain": [
       "\"\\nCompare VOICE and its three sub-corpora to the BNC. For each corpus, create a list that contains the corpora's \\ntop 20% bigrams only if it is also a top 20% bigram in BNC\\n\""
      ]
     },
     "execution_count": 14,
     "metadata": {},
     "output_type": "execute_result"
    },
    {
     "data": {
      "text/plain": [
       "\"\\nCompare the proportions of top bigrams that also appear in BNC's top bigrams. Germanic languages have the most\\nsimilarities with BNC, with 66.8% of its most frequent bigrams appearing in the BNC's most frequent bigrams. Romance\\nlanguages and Slavic language don't fare quite as well, with 64.8% and 61.9% respectively.\\n\""
      ]
     },
     "execution_count": 14,
     "metadata": {},
     "output_type": "execute_result"
    },
    {
     "data": {
      "text/plain": [
       "0.672514619883041"
      ]
     },
     "execution_count": 14,
     "metadata": {},
     "output_type": "execute_result"
    },
    {
     "data": {
      "text/plain": [
       "0.6686046511627907"
      ]
     },
     "execution_count": 14,
     "metadata": {},
     "output_type": "execute_result"
    },
    {
     "data": {
      "text/plain": [
       "0.6458333333333334"
      ]
     },
     "execution_count": 14,
     "metadata": {},
     "output_type": "execute_result"
    },
    {
     "data": {
      "text/plain": [
       "0.6196319018404908"
      ]
     },
     "execution_count": 14,
     "metadata": {},
     "output_type": "execute_result"
    }
   ],
   "source": [
    "\"\"\"\n",
    "Compare VOICE and its three sub-corpora to the BNC. For each corpus, create a list that contains the corpora's \n",
    "top 20% bigrams only if it is also a top 20% bigram in BNC\n",
    "\"\"\"\n",
    "VOICE_and_BNC = common_bigrams(BNC_freq_bigrams, VOICE_freq_bigrams)\n",
    "germanic_and_BNC = common_bigrams(BNC_freq_bigrams, germanic_freq_bigrams)\n",
    "romance_and_BNC = common_bigrams(BNC_freq_bigrams, romance_freq_bigrams)\n",
    "slavic_and_BNC = common_bigrams(BNC_freq_bigrams, slavic_freq_bigrams)\n",
    "\n",
    "\"\"\"\n",
    "Compare the proportions of top bigrams that also appear in BNC's top bigrams. Germanic languages have the most\n",
    "similarities with BNC, with 66.8% of its most frequent bigrams appearing in the BNC's most frequent bigrams. Romance\n",
    "languages and Slavic language don't fare quite as well, with 64.8% and 61.9% respectively.\n",
    "\"\"\"\n",
    "len(VOICE_and_BNC)/len(VOICE_freq_bigrams)\n",
    "len(germanic_and_BNC)/len(germanic_freq_bigrams)\n",
    "len(romance_and_BNC)/len(romance_freq_bigrams)\n",
    "len(slavic_and_BNC)/len(slavic_freq_bigrams)"
   ]
  },
  {
   "cell_type": "markdown",
   "metadata": {},
   "source": [
    "### Differences between VOICE and BNC\n",
    "A lot of the common bigrams that occur in VOICE and its subcorpora, but do not occur in BNC's common bigrams, seem to contain hesitations. A lot of the bigrams contain the words \"er\" and \"erm,\" in addition to repeated words, like ('i', 'i') and ('the', 'the'). This could indicate a lack of fluency among the non-native speakers that isn't nearly as prevalent among the native speakers; however, it doesn't indicate much about other linguistic features."
   ]
  },
  {
   "cell_type": "code",
   "execution_count": 15,
   "metadata": {},
   "outputs": [
    {
     "data": {
      "text/plain": [
       "\"\\nFor VOICE and each of its sub-corpora, create a list of bigrams that occur in the corpus's top 20%, but not in \\nBNC's top 20%.\\n\""
      ]
     },
     "execution_count": 15,
     "metadata": {},
     "output_type": "execute_result"
    }
   ],
   "source": [
    "\"\"\"\n",
    "For VOICE and each of its sub-corpora, create a list of bigrams that occur in the corpus's top 20%, but not in \n",
    "BNC's top 20%.\n",
    "\"\"\"\n",
    "VOICE_not_BNC = [b[0] for b in VOICE_freq_bigrams if b[0] not in VOICE_and_BNC]\n",
    "BNC_not_VOICE = [b[0] for b in BNC_freq_bigrams if b[0] not in VOICE_and_BNC]\n",
    "\n",
    "germanic_not_BNC = [b[0] for b in germanic_freq_bigrams if b[0] not in germanic_and_BNC]\n",
    "BNC_not_germanic = [b[0] for b in BNC_freq_bigrams if b[0] not in germanic_and_BNC]\n",
    "\n",
    "romance_not_BNC = [b[0] for b in romance_freq_bigrams if b[0] not in romance_and_BNC]\n",
    "BNC_not_romance = [b[0] for b in BNC_freq_bigrams if b[0] not in romance_and_BNC]\n",
    "\n",
    "slavic_not_BNC = [b[0] for b in slavic_freq_bigrams if b[0] not in slavic_and_BNC]\n",
    "BNC_not_slavic = [b[0] for b in BNC_freq_bigrams if b[0] not in slavic_and_BNC]"
   ]
  },
  {
   "cell_type": "code",
   "execution_count": 16,
   "metadata": {},
   "outputs": [
    {
     "data": {
      "text/plain": [
       "56"
      ]
     },
     "execution_count": 16,
     "metadata": {},
     "output_type": "execute_result"
    },
    {
     "data": {
      "text/plain": [
       "[('yeah', 'yeah'),\n",
       " ('er', 'er'),\n",
       " ('we', 'are'),\n",
       " ('to', 'to'),\n",
       " ('in', 'in'),\n",
       " ('[', 'first'),\n",
       " ('mhm', 'mhm'),\n",
       " ('kind', 'of'),\n",
       " ('they', 'are'),\n",
       " ('but', 'er'),\n",
       " ('er', 'we'),\n",
       " ('that', 'er'),\n",
       " ('er', 'in'),\n",
       " ('of', 'er'),\n",
       " ('yes', 'yes'),\n",
       " ('hh', 'er'),\n",
       " ('we', 'we'),\n",
       " ('is', 'not'),\n",
       " (']', '['),\n",
       " ('for', 'example'),\n",
       " ('hh', 'and'),\n",
       " ('so', 'it'),\n",
       " ('yeah', 'but'),\n",
       " ('[', 'org1'),\n",
       " ('org1', ']'),\n",
       " ('you', 'are'),\n",
       " ('er', 'it'),\n",
       " (\"'s\", 'er'),\n",
       " ('should', 'be'),\n",
       " ('so', 'we'),\n",
       " ('is', 'er'),\n",
       " ('er', '['),\n",
       " ('have', 'the'),\n",
       " ('the', '['),\n",
       " ('they', 'have'),\n",
       " ('yah', 'yah'),\n",
       " ('we', 'will'),\n",
       " ('let', \"'s\"),\n",
       " ('x', 'x'),\n",
       " (']', 'and'),\n",
       " ('and', 'this'),\n",
       " ('because', 'i'),\n",
       " ('what', 'is'),\n",
       " ('er', 'and'),\n",
       " ('then', 'we'),\n",
       " ('in', 'this'),\n",
       " ('a', 'a'),\n",
       " ('we', 'should'),\n",
       " ('[', 'org2'),\n",
       " ('org2', ']'),\n",
       " ('and', 'so'),\n",
       " ('er', 'you'),\n",
       " ('it', 'it'),\n",
       " ('to', 'er'),\n",
       " ('to', 'make'),\n",
       " ('you', 'you')]"
      ]
     },
     "execution_count": 16,
     "metadata": {},
     "output_type": "execute_result"
    }
   ],
   "source": [
    "len(VOICE_not_BNC)\n",
    "VOICE_not_BNC"
   ]
  },
  {
   "cell_type": "code",
   "execution_count": 17,
   "metadata": {},
   "outputs": [
    {
     "data": {
      "text/plain": [
       "[('yeah', 'yeah'),\n",
       " ('er', 'er'),\n",
       " ('mhm', 'mhm'),\n",
       " ('we', 'are'),\n",
       " ('[', 'first'),\n",
       " ('in', 'in'),\n",
       " ('to', 'to'),\n",
       " ('kind', 'of'),\n",
       " ('yah', 'yah'),\n",
       " ('hh', 'er'),\n",
       " ('of', 'er'),\n",
       " ('the', '['),\n",
       " ('hh', 'and'),\n",
       " ('[', 'org1'),\n",
       " ('org1', ']'),\n",
       " (\"'s\", 'er'),\n",
       " ('er', 'in'),\n",
       " ('we', 'we'),\n",
       " ('they', 'are'),\n",
       " ('have', 'the'),\n",
       " ('er', 'we'),\n",
       " ('er', '['),\n",
       " ('but', 'er'),\n",
       " (']', '['),\n",
       " ('you', 'are'),\n",
       " ('er', 'and'),\n",
       " ('should', 'be'),\n",
       " ('we', 'will'),\n",
       " ('a', 'a'),\n",
       " ('so', 'it'),\n",
       " ('er', 'it'),\n",
       " ('is', 'not'),\n",
       " ('that', 'er'),\n",
       " ('yeah', 'but'),\n",
       " ('of', 'of'),\n",
       " (']', 'and'),\n",
       " ('and', 'this'),\n",
       " ('then', 'we'),\n",
       " ('so', 'we'),\n",
       " ('for', 'example'),\n",
       " ('er', 'you'),\n",
       " ('it', 'it'),\n",
       " ('they', 'have'),\n",
       " ('you', 'you'),\n",
       " ('[', 'org2'),\n",
       " ('org2', ']'),\n",
       " ('we', 'should'),\n",
       " ('to', 'make'),\n",
       " ('then', 'you'),\n",
       " ('what', 'is'),\n",
       " ('let', \"'s\"),\n",
       " ('to', 'er'),\n",
       " ('is', 'er'),\n",
       " ('er', 'that'),\n",
       " ('and', 'erm'),\n",
       " ('but', 'that'),\n",
       " ('erm', 'er')]"
      ]
     },
     "execution_count": 17,
     "metadata": {},
     "output_type": "execute_result"
    }
   ],
   "source": [
    "germanic_not_BNC"
   ]
  },
  {
   "cell_type": "code",
   "execution_count": 18,
   "metadata": {},
   "outputs": [
    {
     "data": {
      "text/plain": [
       "[('er', 'er'),\n",
       " ('yeah', 'yeah'),\n",
       " ('to', 'to'),\n",
       " ('we', 'are'),\n",
       " ('yeah', 'but'),\n",
       " ('but', 'er'),\n",
       " ('is', 'not'),\n",
       " ('in', 'this'),\n",
       " ('er', 'in'),\n",
       " ('x', 'x'),\n",
       " ('kind', 'of'),\n",
       " ('and', 'so'),\n",
       " ('we', 'we'),\n",
       " ('of', 'er'),\n",
       " ('that', 'er'),\n",
       " ('they', 'are'),\n",
       " ('er', 'we'),\n",
       " ('[', 'first'),\n",
       " ('you', 'are'),\n",
       " ('the', 'european'),\n",
       " ('have', 'the'),\n",
       " ('for', 'example'),\n",
       " ('in', 'in'),\n",
       " ('yes', 'yes'),\n",
       " ('[', 'org1'),\n",
       " ('org1', ']'),\n",
       " ('because', 'it'),\n",
       " ('but', 'we'),\n",
       " ('er', 'a'),\n",
       " ('is', 'er'),\n",
       " ('so', 'it'),\n",
       " (']', '['),\n",
       " ('because', 'i'),\n",
       " ('we', 'need'),\n",
       " ('hh', 'er'),\n",
       " ('so', 'we'),\n",
       " ('ah', 'okay'),\n",
       " ('let', \"'s\"),\n",
       " ('could', 'be'),\n",
       " ('in', 'er'),\n",
       " ('we', 'will'),\n",
       " ('are', 'not'),\n",
       " ('what', 'is'),\n",
       " ('so', 'on'),\n",
       " ('have', 'er'),\n",
       " ('er', 'to'),\n",
       " (\"'s\", 'er'),\n",
       " ('we', 'did'),\n",
       " ('er', '['),\n",
       " ('they', 'have'),\n",
       " ('because', 'er')]"
      ]
     },
     "execution_count": 18,
     "metadata": {},
     "output_type": "execute_result"
    }
   ],
   "source": [
    "romance_not_BNC"
   ]
  },
  {
   "cell_type": "code",
   "execution_count": 19,
   "metadata": {},
   "outputs": [
    {
     "data": {
      "text/plain": [
       "[('yeah', 'yeah'),\n",
       " ('er', 'er'),\n",
       " ('we', 'are'),\n",
       " ('that', 'er'),\n",
       " ('let', \"'s\"),\n",
       " ('we', 'should'),\n",
       " ('mhm', 'mhm'),\n",
       " ('[', 'org2'),\n",
       " ('org2', ']'),\n",
       " ('because', 'i'),\n",
       " ('yeah', 'but'),\n",
       " ('kind', 'of'),\n",
       " ('er', 'we'),\n",
       " ('what', 'is'),\n",
       " ('so', 'we'),\n",
       " ('lingua', 'franca'),\n",
       " ('should', 'be'),\n",
       " ('but', 'er'),\n",
       " (']', '['),\n",
       " ('of', 'er'),\n",
       " ('[', 'first'),\n",
       " ('they', 'have'),\n",
       " ('is', 'er'),\n",
       " ('so', 'it'),\n",
       " ('it', 'will'),\n",
       " ('they', 'are'),\n",
       " (']', 'and'),\n",
       " ('er', 'in'),\n",
       " ('can', 'not'),\n",
       " ('er', 'it'),\n",
       " ('i', 'will'),\n",
       " (\"'s\", 'like'),\n",
       " ('we', 'will'),\n",
       " ('then', 'we'),\n",
       " ('is', 'not'),\n",
       " ('[', 'org1'),\n",
       " ('org1', ']'),\n",
       " ('but', 'we'),\n",
       " ('to', 'to'),\n",
       " ('you', 'are'),\n",
       " ('er', 'erm'),\n",
       " ('for', 'example'),\n",
       " ('to', 'make'),\n",
       " ('hh', 'er'),\n",
       " ('in', 'in'),\n",
       " ('[', 'org5'),\n",
       " ('org5', ']'),\n",
       " ('in', '['),\n",
       " ('the', 'agency'),\n",
       " ('because', 'it'),\n",
       " ('yes', 'yes'),\n",
       " ('okay', 'so'),\n",
       " ('er', 'this'),\n",
       " ('to', 'er'),\n",
       " ('are', 'the'),\n",
       " ('hh', 'and'),\n",
       " ('put', 'it'),\n",
       " ('at', 'least'),\n",
       " ('something', 'like'),\n",
       " ('we', 'we'),\n",
       " ('in', 'this'),\n",
       " ('so', 'er')]"
      ]
     },
     "execution_count": 19,
     "metadata": {},
     "output_type": "execute_result"
    }
   ],
   "source": [
    "slavic_not_BNC"
   ]
  },
  {
   "cell_type": "markdown",
   "metadata": {},
   "source": [
    "### Differences BNC and VOICE\n",
    "A lot the the common bigrams (almost 30%) that appear in BNC but not in VOICE are contractions. Maybe native speakers are much more confortable using them than non-native speakers are."
   ]
  },
  {
   "cell_type": "code",
   "execution_count": 20,
   "metadata": {
    "collapsed": true
   },
   "outputs": [],
   "source": [
    "#Create a list of bigrams that are found in BNC's top 20%, but not in VOICE's top 20%\n",
    "BNC_not_VOICE = [b[0] for b in BNC_freq_bigrams if b[0] not in VOICE_and_BNC]"
   ]
  },
  {
   "cell_type": "code",
   "execution_count": 21,
   "metadata": {},
   "outputs": [
    {
     "data": {
      "text/plain": [
       "[(\"'ve\", 'got'),\n",
       " ('i', \"'ve\"),\n",
       " ('he', \"'s\"),\n",
       " ('you', \"'ve\"),\n",
       " ('i', \"'ll\"),\n",
       " ('gon', 'na'),\n",
       " ('we', \"'ve\"),\n",
       " ('well', 'i'),\n",
       " ('she', \"'s\"),\n",
       " (\"n't\", 'it'),\n",
       " ('is', \"n't\"),\n",
       " ('used', 'to'),\n",
       " ('what', \"'s\"),\n",
       " ('to', 'get'),\n",
       " ('i', 'said'),\n",
       " ('a', 'bit'),\n",
       " ('to', 'go'),\n",
       " ('you', 'see'),\n",
       " ('and', 'he'),\n",
       " ('have', \"n't\"),\n",
       " ('got', 'a'),\n",
       " ('that', 'was'),\n",
       " ('one', 'of'),\n",
       " ('was', 'a'),\n",
       " ('he', 'was'),\n",
       " (\"n't\", 'you'),\n",
       " ('they', 'were'),\n",
       " ('there', 'was'),\n",
       " ('got', 'to'),\n",
       " ('i', \"'d\"),\n",
       " ('are', 'you'),\n",
       " ('that', 'i'),\n",
       " ('i', 'did'),\n",
       " ('for', 'a'),\n",
       " ('did', 'you'),\n",
       " ('would', \"n't\"),\n",
       " ('they', \"'ve\"),\n",
       " (\"'s\", 'got'),\n",
       " ('we', \"'ll\"),\n",
       " ('wo', \"n't\"),\n",
       " (\"'s\", 'right'),\n",
       " ('have', 'you'),\n",
       " ('what', 'you'),\n",
       " ('i', 'thought'),\n",
       " ('of', 'a'),\n",
       " ('out', 'of'),\n",
       " ('look', 'at'),\n",
       " ('was', \"n't\"),\n",
       " ('he', 'said'),\n",
       " ('oh', 'i'),\n",
       " (\"n't\", 'think'),\n",
       " ('had', 'a'),\n",
       " (\"'re\", 'not'),\n",
       " (\"'ll\", 'be'),\n",
       " ('if', 'i'),\n",
       " ('you', 'get'),\n",
       " ('by', 'the'),\n",
       " ('when', 'i'),\n",
       " ('of', 'them'),\n",
       " (\"'m\", 'not'),\n",
       " ('erm', 'i'),\n",
       " ('have', 'been'),\n",
       " ('that', 'they'),\n",
       " ('know', 'what'),\n",
       " (\"'s\", 'what'),\n",
       " ('and', 'a'),\n",
       " ('they', 'do'),\n",
       " ('of', 'it'),\n",
       " ('i', 'ca'),\n",
       " ('that', 'one'),\n",
       " ('hundred', 'and'),\n",
       " ('a', 'little'),\n",
       " ('you', \"'ll\"),\n",
       " ('the', 'way'),\n",
       " ('you', 'could'),\n",
       " ('on', 'a'),\n",
       " ('was', 'the'),\n",
       " ('you', 'got'),\n",
       " ('she', 'said'),\n",
       " ('had', 'to'),\n",
       " ('you', 'think'),\n",
       " ('with', 'a'),\n",
       " ('that', 'that'),\n",
       " ('could', \"n't\"),\n",
       " ('some', 'of'),\n",
       " ('to', 'say'),\n",
       " ('and', 'she'),\n",
       " ('well', 'it'),\n",
       " ('you', 'were'),\n",
       " ('oh', 'yeah'),\n",
       " (\"'ve\", 'been'),\n",
       " ('i', 'had'),\n",
       " ('like', 'to'),\n",
       " (\"'s\", 'that'),\n",
       " ('but', 'you'),\n",
       " ('it', 'would'),\n",
       " ('i', 'just'),\n",
       " (\"'s\", 'just'),\n",
       " ('it', 'in'),\n",
       " ('it', 'does'),\n",
       " ('it', 'and'),\n",
       " ('well', 'you'),\n",
       " ('if', 'it'),\n",
       " ('of', 'that'),\n",
       " ('we', 'were'),\n",
       " ('go', 'to'),\n",
       " ('can', 'you'),\n",
       " ('to', 'me'),\n",
       " (\"'ll\", 'have'),\n",
       " ('i', 'could'),\n",
       " ('to', 'see'),\n",
       " ('the', 'time'),\n",
       " ('you', \"'d\"),\n",
       " (\"n't\", 'they'),\n",
       " ('up', 'to'),\n",
       " ('if', 'they'),\n",
       " ('to', 'you')]"
      ]
     },
     "execution_count": 21,
     "metadata": {},
     "output_type": "execute_result"
    }
   ],
   "source": [
    "#Display the list.\n",
    "BNC_not_VOICE"
   ]
  },
  {
   "cell_type": "code",
   "execution_count": 22,
   "metadata": {
    "collapsed": true
   },
   "outputs": [],
   "source": [
    "#contractions = [b for b in BNC_not_VOICE if \"'\" in b[0] or \"'\" in b[1]]\n",
    "contractions = [b for b in BNC_not_VOICE if \"'\" in b[1]]"
   ]
  },
  {
   "cell_type": "code",
   "execution_count": 23,
   "metadata": {},
   "outputs": [
    {
     "data": {
      "text/plain": [
       "18"
      ]
     },
     "execution_count": 23,
     "metadata": {},
     "output_type": "execute_result"
    },
    {
     "data": {
      "text/plain": [
       "0.15384615384615385"
      ]
     },
     "execution_count": 23,
     "metadata": {},
     "output_type": "execute_result"
    },
    {
     "data": {
      "text/plain": [
       "[('i', \"'ve\"),\n",
       " ('he', \"'s\"),\n",
       " ('you', \"'ve\"),\n",
       " ('i', \"'ll\"),\n",
       " ('we', \"'ve\"),\n",
       " ('she', \"'s\"),\n",
       " ('is', \"n't\"),\n",
       " ('what', \"'s\"),\n",
       " ('have', \"n't\"),\n",
       " ('i', \"'d\"),\n",
       " ('would', \"n't\"),\n",
       " ('they', \"'ve\"),\n",
       " ('we', \"'ll\"),\n",
       " ('wo', \"n't\"),\n",
       " ('was', \"n't\"),\n",
       " ('you', \"'ll\"),\n",
       " ('could', \"n't\"),\n",
       " ('you', \"'d\")]"
      ]
     },
     "execution_count": 23,
     "metadata": {},
     "output_type": "execute_result"
    }
   ],
   "source": [
    "#Almost 20% of the common BNC bigrams not found in the common VOICE bigrams are contractions. Is this true for the sub groups, too?\n",
    "len(contractions)\n",
    "len(contractions)/len(BNC_not_VOICE)\n",
    "contractions"
   ]
  },
  {
   "cell_type": "code",
   "execution_count": 24,
   "metadata": {
    "collapsed": true
   },
   "outputs": [],
   "source": [
    "bigrams_df = pd.DataFrame(index = ['contractions', 'repeated_words'], columns = ['L1=English(BNC)', 'All(VOICE)', 'L1=Germanic(VOICE)', 'L1=Romance(VOICE)', 'L1=Slavic(VOICE)'])"
   ]
  },
  {
   "cell_type": "code",
   "execution_count": 25,
   "metadata": {},
   "outputs": [
    {
     "data": {
      "text/html": [
       "<div>\n",
       "<style>\n",
       "    .dataframe thead tr:only-child th {\n",
       "        text-align: right;\n",
       "    }\n",
       "\n",
       "    .dataframe thead th {\n",
       "        text-align: left;\n",
       "    }\n",
       "\n",
       "    .dataframe tbody tr th {\n",
       "        vertical-align: top;\n",
       "    }\n",
       "</style>\n",
       "<table border=\"1\" class=\"dataframe\">\n",
       "  <thead>\n",
       "    <tr style=\"text-align: right;\">\n",
       "      <th></th>\n",
       "      <th>L1=English(BNC)</th>\n",
       "      <th>All(VOICE)</th>\n",
       "      <th>L1=Germanic(VOICE)</th>\n",
       "      <th>L1=Romance(VOICE)</th>\n",
       "      <th>L1=Slavic(VOICE)</th>\n",
       "    </tr>\n",
       "  </thead>\n",
       "  <tbody>\n",
       "    <tr>\n",
       "      <th>contractions</th>\n",
       "      <td>0.0536744</td>\n",
       "      <td>0.0341021</td>\n",
       "      <td>0.0350262</td>\n",
       "      <td>0.0340637</td>\n",
       "      <td>0.0307484</td>\n",
       "    </tr>\n",
       "    <tr>\n",
       "      <th>repeated_words</th>\n",
       "      <td>0.0108283</td>\n",
       "      <td>0.0292122</td>\n",
       "      <td>0.0296259</td>\n",
       "      <td>0.030192</td>\n",
       "      <td>0.0246243</td>\n",
       "    </tr>\n",
       "  </tbody>\n",
       "</table>\n",
       "</div>"
      ],
      "text/plain": [
       "               L1=English(BNC) All(VOICE) L1=Germanic(VOICE)  \\\n",
       "contractions         0.0536744  0.0341021          0.0350262   \n",
       "repeated_words       0.0108283  0.0292122          0.0296259   \n",
       "\n",
       "               L1=Romance(VOICE) L1=Slavic(VOICE)  \n",
       "contractions           0.0340637        0.0307484  \n",
       "repeated_words          0.030192        0.0246243  "
      ]
     },
     "execution_count": 25,
     "metadata": {},
     "output_type": "execute_result"
    }
   ],
   "source": [
    "#English\n",
    "rw = len([b for b in BNC_bigrams if b[0] == b[1]])/len(BNC_bigrams)\n",
    "c = len([b for b in BNC_bigrams if \"'\" in b[1]])/len(BNC_bigrams)\n",
    "bigrams_df['L1=English(BNC)']['repeated_words'] = rw\n",
    "bigrams_df['L1=English(BNC)']['contractions'] = c\n",
    "\n",
    "\n",
    "#VOICE\n",
    "rw = len([b for b in VOICE_bigrams if b[0] == b[1]])/len(VOICE_bigrams)\n",
    "c = len([b for b in VOICE_bigrams if \"'\" in b[1]])/len(VOICE_bigrams)\n",
    "bigrams_df['All(VOICE)']['repeated_words'] = rw\n",
    "bigrams_df['All(VOICE)']['contractions'] = c\n",
    "\n",
    "\n",
    "#Germanic\n",
    "rw = len([b for b in germanic_bigrams if b[0] == b[1]])/len(germanic_bigrams)\n",
    "c = len([b for b in germanic_bigrams if \"'\" in b[1]])/len(germanic_bigrams)\n",
    "bigrams_df['L1=Germanic(VOICE)']['repeated_words'] = rw\n",
    "bigrams_df['L1=Germanic(VOICE)']['contractions'] = c\n",
    "\n",
    "#Romance\n",
    "rw = len([b for b in romance_bigrams if b[0] == b[1]])/len(romance_bigrams)\n",
    "c = len([b for b in romance_bigrams if \"'\" in b[1]])/len(romance_bigrams)\n",
    "bigrams_df['L1=Romance(VOICE)']['repeated_words'] = rw\n",
    "bigrams_df['L1=Romance(VOICE)']['contractions'] = c\n",
    "\n",
    "#Slavic\n",
    "rw = len([b for b in slavic_bigrams if b[0] == b[1]])/len(slavic_bigrams)\n",
    "c = len([b for b in slavic_bigrams if \"'\" in b[1]])/len(slavic_bigrams)\n",
    "bigrams_df['L1=Slavic(VOICE)']['repeated_words'] = rw\n",
    "bigrams_df['L1=Slavic(VOICE)']['contractions'] = c\n",
    "\n",
    "bigrams_df"
   ]
  },
  {
   "cell_type": "code",
   "execution_count": 26,
   "metadata": {},
   "outputs": [
    {
     "data": {
      "text/plain": [
       "<matplotlib.axes._subplots.AxesSubplot at 0x17ee9cd68>"
      ]
     },
     "execution_count": 26,
     "metadata": {},
     "output_type": "execute_result"
    },
    {
     "data": {
      "text/plain": [
       "<matplotlib.legend.Legend at 0x187dbed68>"
      ]
     },
     "execution_count": 26,
     "metadata": {},
     "output_type": "execute_result"
    },
    {
     "data": {
      "text/plain": [
       "<matplotlib.text.Text at 0x18891b3c8>"
      ]
     },
     "execution_count": 26,
     "metadata": {},
     "output_type": "execute_result"
    },
    {
     "data": {
      "text/plain": [
       "<matplotlib.text.Text at 0x17ef42ac8>"
      ]
     },
     "execution_count": 26,
     "metadata": {},
     "output_type": "execute_result"
    },
    {
     "data": {
      "image/png": "[encoded data removed]",
      "text/plain": [
       "<matplotlib.figure.Figure at 0x114cd7b38>"
      ]
     },
     "metadata": {},
     "output_type": "display_data"
    }
   ],
   "source": [
    "bigrams_df.plot(kind='bar', figsize=(15,10))\n",
    "plt.tick_params(axis = 'both', reset=True, labelsize=15)\n",
    "plt.legend(prop={'size':20})\n",
    "bar_width = 0.4\n",
    "L=plt.legend()\n",
    "L.get_texts()[1].set_text('All non-native L1s(VOICE)')\n",
    "plt.xlabel(\"Bigram type\", fontsize= 20, labelpad = 20)\n",
    "plt.ylabel(\"Frequency (percent)\", fontsize= 20, labelpad = 20)\n",
    "plt.show()"
   ]
  },
  {
   "cell_type": "markdown",
   "metadata": {},
   "source": [
    "## Modified Bigram Lists\n",
    "Since the original VOICE bigram lists contain a lot of hesitations and repeated words, they are limited in what they can tell us about additional linguistic features. Here, we'll get rid of these bigrams to hopefully make some more interesting discoveries."
   ]
  },
  {
   "cell_type": "code",
   "execution_count": 27,
   "metadata": {},
   "outputs": [
    {
     "data": {
      "text/plain": [
       "\"\\nChecks whether a given bigram in valid for our purposes. A bigram is valid if it doesn't contain repeated words\\nor hesitation words\\n\""
      ]
     },
     "execution_count": 27,
     "metadata": {},
     "output_type": "execute_result"
    }
   ],
   "source": [
    "\"\"\"\n",
    "Checks whether a given bigram in valid for our purposes. A bigram is valid if it doesn't contain repeated words\n",
    "or hesitation words\n",
    "\"\"\"\n",
    "import re\n",
    "def is_valid(bigram):\n",
    "    if bigram[0] == bigram[1] :\n",
    "        return False\n",
    "    \n",
    "    if bigram[0] == 'er' or bigram[1] == 'er' :\n",
    "        return False\n",
    "    \n",
    "    if bigram[0] == 'erm' or bigram[1] == 'erm' :\n",
    "        return False\n",
    "    \n",
    "   # return True\n",
    "    \n",
    "    \n",
    "    p = re.compile('h+')\n",
    "    if p.match(bigram[0]) or p.match(bigram[1]):\n",
    "        return False\n",
    "    \n",
    "    p = re.compile('x+')\n",
    "    if p.match(bigram[0]) or p.match(bigram[1]):\n",
    "        return False\n",
    "    \n",
    "    #if(not bigram[0][0].isalpha() or not bigram[1][0].isalpha()):\n",
    "    #if(bigram[0][0] == \"]\" or bigram[1][0] == \"[\")\n",
    "    if(\"[\" in bigram[0] or \"[\" in bigram[1] or \"]\" in bigram[0] or \"]\" in bigram[1]):\n",
    "        return False\n",
    "    \n",
    "\n",
    "    return True\n"
   ]
  },
  {
   "cell_type": "code",
   "execution_count": 28,
   "metadata": {
    "collapsed": true
   },
   "outputs": [],
   "source": [
    "#Remake the bigrams lists such that they only include valid bigrams\n",
    "BNC_bigrams = [b for b in BNC_bigrams if is_valid(b) == True]\n",
    "VOICE_bigrams = [b for b in VOICE_bigrams if is_valid(b) == True]\n",
    "germanic_bigrams = [b for b in germanic_bigrams if is_valid(b) == True]\n",
    "romance_bigrams = [b for b in romance_bigrams if is_valid(b) == True]\n",
    "slavic_bigrams = [b for b in slavic_bigrams if is_valid(b) == True]"
   ]
  },
  {
   "cell_type": "markdown",
   "metadata": {
    "collapsed": true
   },
   "source": [
    "### Similarities between VOICE and BNC\n",
    "More of the most frequent bigrams that occur in VOICE and the subcorpora also occur in BNC's most common bigrams than\n",
    "with the unmodified bigrams. Like in the previous case, speakers of Germanic L1s had the most in common with the native\n",
    "speakers in the BNC, and speakers of Slavic L1s had the least in common."
   ]
  },
  {
   "cell_type": "code",
   "execution_count": 29,
   "metadata": {
    "collapsed": true
   },
   "outputs": [],
   "source": [
    "#For each corpus/subcorpus, get the top 20% of bigrams, in terms of frequency.\n",
    "BNC_freq_bigrams = frequent_bigrams(BNC_bigrams, 0.2)\n",
    "VOICE_freq_bigrams = frequent_bigrams(VOICE_bigrams, 0.2)\n",
    "germanic_freq_bigrams = frequent_bigrams(germanic_bigrams, 0.2)\n",
    "romance_freq_bigrams = frequent_bigrams(romance_bigrams, 0.2)\n",
    "slavic_freq_bigrams = frequent_bigrams(slavic_bigrams, 0.2)"
   ]
  },
  {
   "cell_type": "code",
   "execution_count": 30,
   "metadata": {},
   "outputs": [
    {
     "data": {
      "text/plain": [
       "\"\\nFor VOICE and each of its sub-corpora, create lists containing all of the top bigrams that occur in the corpus that \\nalso occur in BNC's top bigrams.\\n\""
      ]
     },
     "execution_count": 30,
     "metadata": {},
     "output_type": "execute_result"
    }
   ],
   "source": [
    "\"\"\"\n",
    "For VOICE and each of its sub-corpora, create lists containing all of the top bigrams that occur in the corpus that \n",
    "also occur in BNC's top bigrams.\n",
    "\"\"\"\n",
    "VOICE_and_BNC = common_bigrams(BNC_freq_bigrams, VOICE_freq_bigrams)\n",
    "germanic_and_BNC = common_bigrams(BNC_freq_bigrams, germanic_freq_bigrams)\n",
    "romance_and_BNC = common_bigrams(BNC_freq_bigrams, romance_freq_bigrams)\n",
    "slavic_and_BNC = common_bigrams(BNC_freq_bigrams, slavic_freq_bigrams)"
   ]
  },
  {
   "cell_type": "code",
   "execution_count": 31,
   "metadata": {},
   "outputs": [
    {
     "data": {
      "text/plain": [
       "0.7959183673469388"
      ]
     },
     "execution_count": 31,
     "metadata": {},
     "output_type": "execute_result"
    },
    {
     "data": {
      "text/plain": [
       "0.7837837837837838"
      ]
     },
     "execution_count": 31,
     "metadata": {},
     "output_type": "execute_result"
    },
    {
     "data": {
      "text/plain": [
       "0.7698412698412699"
      ]
     },
     "execution_count": 31,
     "metadata": {},
     "output_type": "execute_result"
    },
    {
     "data": {
      "text/plain": [
       "0.7111111111111111"
      ]
     },
     "execution_count": 31,
     "metadata": {},
     "output_type": "execute_result"
    }
   ],
   "source": [
    "len(VOICE_and_BNC)/len(VOICE_freq_bigrams)\n",
    "len(germanic_and_BNC)/len(germanic_freq_bigrams)\n",
    "len(romance_and_BNC)/len(romance_freq_bigrams)\n",
    "len(slavic_and_BNC)/len(slavic_freq_bigrams)"
   ]
  },
  {
   "cell_type": "code",
   "execution_count": 32,
   "metadata": {},
   "outputs": [
    {
     "data": {
      "text/plain": [
       "[(('it', \"'s\"), 3176),\n",
       " (('that', \"'s\"), 1653),\n",
       " (('i', 'think'), 1166),\n",
       " (('do', \"n't\"), 1093),\n",
       " (('in', 'the'), 1019),\n",
       " (('of', 'the'), 926),\n",
       " (('i', 'mean'), 719),\n",
       " (('i', \"'m\"), 701),\n",
       " (('you', 'know'), 699),\n",
       " (('this', 'is'), 681),\n",
       " (('and', 'then'), 651),\n",
       " (('if', 'you'), 632),\n",
       " ((\"'s\", 'a'), 575),\n",
       " (('i', 'do'), 561),\n",
       " (('on', 'the'), 555),\n",
       " (('you', 'can'), 550),\n",
       " (('to', 'the'), 538),\n",
       " (('do', 'you'), 423),\n",
       " (('for', 'the'), 422),\n",
       " (('and', 'i'), 422),\n",
       " (('to', 'be'), 415),\n",
       " (('we', 'can'), 404),\n",
       " (('but', 'i'), 400),\n",
       " (('it', 'was'), 396),\n",
       " (('that', 'we'), 391),\n",
       " (('we', 'are'), 386),\n",
       " (('and', 'the'), 385),\n",
       " (('of', 'course'), 383),\n",
       " ((\"n't\", 'know'), 381),\n",
       " ((\"'s\", 'the'), 372),\n",
       " (('you', \"'re\"), 348),\n",
       " (('it', 'is'), 347),\n",
       " (('want', 'to'), 342),\n",
       " ((\"'s\", 'not'), 342),\n",
       " (('sort', 'of'), 342),\n",
       " ((\"'s\", 'it'), 341),\n",
       " (('at', 'the'), 340),\n",
       " (('and', 'you'), 312),\n",
       " (('the', 'same'), 311),\n",
       " (('with', 'the'), 308),\n",
       " (('is', 'the'), 306),\n",
       " (('kind', 'of'), 296),\n",
       " (('as', 'well'), 296),\n",
       " (('in', 'a'), 294),\n",
       " (('a', 'lot'), 284),\n",
       " (('is', 'a'), 283),\n",
       " (('but', 'it'), 281),\n",
       " (('would', 'be'), 279),\n",
       " (('and', 'we'), 276),\n",
       " (('you', 'do'), 272),\n",
       " (('is', 'that'), 271),\n",
       " (('there', 'is'), 268),\n",
       " (('and', 'that'), 266),\n",
       " (('that', 'you'), 260),\n",
       " (('thank', 'you'), 258),\n",
       " (('there', \"'s\"), 258),\n",
       " (('all', 'the'), 251),\n",
       " (('will', 'be'), 251),\n",
       " (('to', 'do'), 250),\n",
       " (('we', \"'re\"), 241),\n",
       " (('we', 'do'), 238),\n",
       " (('so', 'i'), 237),\n",
       " (('and', 'it'), 234),\n",
       " (('they', 'are'), 232),\n",
       " (('going', 'to'), 229),\n",
       " (('think', 'that'), 218),\n",
       " (('lot', 'of'), 216),\n",
       " (('so', 'that'), 216),\n",
       " (('yeah', 'i'), 214),\n",
       " (('be', 'a'), 213),\n",
       " (('so', 'you'), 210),\n",
       " (('did', \"n't\"), 210),\n",
       " (('think', 'it'), 210),\n",
       " (('you', 'are'), 209),\n",
       " (('what', 'we'), 206),\n",
       " (('should', 'be'), 205),\n",
       " (('we', 'will'), 204),\n",
       " (('which', 'is'), 204),\n",
       " (('so', 'it'), 203),\n",
       " (('a', 'good'), 202),\n",
       " (('from', 'the'), 202),\n",
       " (('is', 'not'), 202),\n",
       " (('is', 'it'), 200),\n",
       " (('i', 'would'), 198),\n",
       " (('yeah', 'but'), 198),\n",
       " (('i', 'know'), 194),\n",
       " (('and', 'this'), 191),\n",
       " (('as', 'a'), 189),\n",
       " (('what', 'i'), 188),\n",
       " (('then', 'we'), 187),\n",
       " (('the', 'other'), 186),\n",
       " (('you', 'want'), 183),\n",
       " (('so', 'we'), 183),\n",
       " (('for', 'example'), 180),\n",
       " (('ca', \"n't\"), 177),\n",
       " (('gon', 'na'), 176),\n",
       " (('and', 'they'), 175),\n",
       " (('i', 'can'), 175),\n",
       " (('a', 'very'), 175),\n",
       " (('when', 'you'), 168),\n",
       " (('to', 'get'), 167),\n",
       " (('we', 'should'), 166),\n",
       " (('the', 'first'), 166),\n",
       " (('there', 'are'), 165),\n",
       " (('to', 'make'), 165),\n",
       " (('then', 'you'), 165),\n",
       " (('about', 'the'), 164),\n",
       " (('a', 'little'), 164),\n",
       " (('what', 'is'), 164),\n",
       " (('let', \"'s\"), 163),\n",
       " (('they', \"'re\"), 162),\n",
       " (('that', 'the'), 159),\n",
       " (('but', 'you'), 159),\n",
       " (('that', 'it'), 156),\n",
       " (('i', \"'ve\"), 156),\n",
       " (('that', 'is'), 154),\n",
       " (('do', 'it'), 153),\n",
       " (('but', 'that'), 150),\n",
       " (('if', 'we'), 149),\n",
       " (('and', 'so'), 149),\n",
       " (('part', 'of'), 149),\n",
       " (('think', 'we'), 148),\n",
       " (('that', 'was'), 146),\n",
       " (('in', 'this'), 146),\n",
       " (('try', 'to'), 145),\n",
       " (('like', 'that'), 145),\n",
       " (('i', 'was'), 143),\n",
       " (('need', 'to'), 142),\n",
       " (('like', 'to'), 142),\n",
       " (('you', 'think'), 141),\n",
       " (('i', 'just'), 140),\n",
       " (('what', 'you'), 139),\n",
       " (('because', 'i'), 139),\n",
       " ((\"'s\", 'just'), 138),\n",
       " (('to', 'go'), 137),\n",
       " (('i', 'will'), 137),\n",
       " (('does', \"n't\"), 135),\n",
       " (('that', 'i'), 135),\n",
       " (('because', 'it'), 134),\n",
       " (('i', \"'ll\"), 132),\n",
       " (('did', 'you'), 132),\n",
       " ((\"'s\", 'very'), 131),\n",
       " (('go', 'to'), 130),\n",
       " (('at', 'least'), 130),\n",
       " (('to', 'say'), 129),\n",
       " (('yeah', 'that'), 129),\n",
       " (('little', 'bit'), 129),\n",
       " (('yeah', 'and'), 127)]"
      ]
     },
     "execution_count": 32,
     "metadata": {},
     "output_type": "execute_result"
    }
   ],
   "source": [
    "germanic_freq_bigrams"
   ]
  },
  {
   "cell_type": "code",
   "execution_count": 33,
   "metadata": {},
   "outputs": [
    {
     "data": {
      "text/plain": [
       "[(('it', \"'s\"), 953),\n",
       " (('do', \"n't\"), 438),\n",
       " (('in', 'the'), 380),\n",
       " (('i', 'think'), 366),\n",
       " (('that', \"'s\"), 301),\n",
       " (('of', 'the'), 297),\n",
       " (('you', 'know'), 287),\n",
       " (('i', \"'m\"), 265),\n",
       " (('this', 'is'), 243),\n",
       " (('i', 'do'), 241),\n",
       " ((\"n't\", 'know'), 162),\n",
       " (('it', 'was'), 150),\n",
       " (('to', 'be'), 150),\n",
       " (('to', 'the'), 149),\n",
       " (('we', 'are'), 148),\n",
       " (('if', 'you'), 148),\n",
       " ((\"'s\", 'a'), 148),\n",
       " (('and', 'then'), 147),\n",
       " (('on', 'the'), 141),\n",
       " (('it', 'is'), 138),\n",
       " (('and', 'i'), 138),\n",
       " (('we', 'can'), 137),\n",
       " (('i', 'mean'), 134),\n",
       " (('but', 'i'), 133),\n",
       " (('the', 'same'), 126),\n",
       " ((\"'s\", 'not'), 122),\n",
       " (('you', 'can'), 120),\n",
       " (('that', 'we'), 116),\n",
       " (('all', 'the'), 112),\n",
       " (('is', 'the'), 110),\n",
       " (('and', 'the'), 107),\n",
       " (('is', 'a'), 107),\n",
       " (('yeah', 'but'), 106),\n",
       " (('think', 'that'), 106),\n",
       " (('for', 'the'), 104),\n",
       " (('is', 'not'), 102),\n",
       " (('in', 'this'), 100),\n",
       " (('at', 'the'), 99),\n",
       " (('did', \"n't\"), 97),\n",
       " (('to', 'do'), 97),\n",
       " (('but', 'it'), 96),\n",
       " (('there', 'is'), 93),\n",
       " (('kind', 'of'), 92),\n",
       " (('with', 'the'), 91),\n",
       " (('and', 'so'), 91),\n",
       " (('will', 'be'), 88),\n",
       " ((\"'s\", 'the'), 88),\n",
       " (('do', 'you'), 87),\n",
       " (('from', 'the'), 86),\n",
       " (('they', 'are'), 84),\n",
       " (('of', 'course'), 83),\n",
       " (('need', 'to'), 83),\n",
       " (('a', 'lot'), 82),\n",
       " (('you', 'do'), 81),\n",
       " (('and', 'we'), 81),\n",
       " (('we', 'do'), 81),\n",
       " (('so', 'i'), 80),\n",
       " (('want', 'to'), 75),\n",
       " (('thank', 'you'), 75),\n",
       " (('no', 'i'), 74),\n",
       " (('think', 'it'), 74),\n",
       " ((\"'s\", 'it'), 73),\n",
       " (('that', 'you'), 72),\n",
       " (('you', \"'re\"), 72),\n",
       " (('and', 'it'), 72),\n",
       " (('you', 'are'), 71),\n",
       " (('i', 'know'), 70),\n",
       " (('in', 'a'), 70),\n",
       " (('the', 'european'), 70),\n",
       " (('what', 'we'), 69),\n",
       " (('yeah', 'i'), 67),\n",
       " (('for', 'example'), 67),\n",
       " (('that', 'is'), 65),\n",
       " (('if', 'we'), 65),\n",
       " (('because', 'it'), 63),\n",
       " (('i', 'was'), 62),\n",
       " (('but', 'we'), 62),\n",
       " (('so', 'it'), 61),\n",
       " (('because', 'i'), 60),\n",
       " (('we', 'need'), 60),\n",
       " (('ca', \"n't\"), 60),\n",
       " (('the', 'other'), 59),\n",
       " (('and', 'you'), 59),\n",
       " (('so', 'we'), 59),\n",
       " (('as', 'well'), 59),\n",
       " (('ah', 'okay'), 57),\n",
       " (('let', \"'s\"), 57),\n",
       " (('could', 'be'), 57),\n",
       " (('to', 'go'), 57),\n",
       " (('we', 'will'), 56),\n",
       " (('are', 'not'), 56),\n",
       " (('what', 'is'), 55),\n",
       " (('so', 'on'), 55),\n",
       " (('about', 'the'), 55),\n",
       " (('we', \"'re\"), 54),\n",
       " (('gon', 'na'), 54),\n",
       " (('there', 'are'), 54),\n",
       " (('is', 'that'), 53),\n",
       " (('like', 'that'), 52),\n",
       " (('we', 'did'), 52),\n",
       " (('to', 'say'), 52),\n",
       " (('is', 'it'), 51),\n",
       " (('i', 'can'), 51),\n",
       " (('i', 'did'), 51),\n",
       " (('that', 'the'), 51),\n",
       " (('they', 'do'), 50),\n",
       " (('the', 'first'), 50),\n",
       " (('then', 'we'), 50),\n",
       " (('which', 'is'), 50),\n",
       " (('lot', 'of'), 49),\n",
       " (('to', 'make'), 48),\n",
       " (('would', 'be'), 48),\n",
       " (('they', 'were'), 48),\n",
       " (('like', 'to'), 47),\n",
       " (('do', 'it'), 47),\n",
       " (('a', 'little'), 47),\n",
       " (('that', 'i'), 47),\n",
       " (('not', 'the'), 46),\n",
       " (('does', \"n't\"), 46),\n",
       " (('yeah', 'it'), 46),\n",
       " (('that', 'it'), 46),\n",
       " (('i', 'would'), 46),\n",
       " (('what', 'i'), 45),\n",
       " (('going', 'to'), 45),\n",
       " (('and', 'they'), 45),\n",
       " (('and', 'this'), 45)]"
      ]
     },
     "execution_count": 33,
     "metadata": {},
     "output_type": "execute_result"
    }
   ],
   "source": [
    "romance_freq_bigrams"
   ]
  },
  {
   "cell_type": "code",
   "execution_count": 34,
   "metadata": {},
   "outputs": [
    {
     "data": {
      "text/plain": [
       "[(('it', \"'s\"), 567),\n",
       " (('do', \"n't\"), 248),\n",
       " (('i', 'think'), 235),\n",
       " (('that', \"'s\"), 196),\n",
       " (('of', 'the'), 189),\n",
       " (('this', 'is'), 187),\n",
       " (('i', 'mean'), 176),\n",
       " (('in', 'the'), 164),\n",
       " (('i', \"'m\"), 150),\n",
       " (('i', 'do'), 149),\n",
       " (('on', 'the'), 122),\n",
       " (('you', 'know'), 116),\n",
       " (('and', 'then'), 112),\n",
       " (('we', 'can'), 111),\n",
       " (('think', 'that'), 108),\n",
       " (('it', 'was'), 108),\n",
       " (('is', 'the'), 107),\n",
       " (('will', 'be'), 104),\n",
       " (('with', 'the'), 101),\n",
       " (('it', 'is'), 95),\n",
       " (('we', 'are'), 92),\n",
       " (('and', 'i'), 91),\n",
       " (('for', 'the'), 91),\n",
       " ((\"n't\", 'know'), 87),\n",
       " (('that', 'we'), 84),\n",
       " (('if', 'you'), 83),\n",
       " (('do', 'you'), 77),\n",
       " (('the', 'same'), 76),\n",
       " (('you', 'can'), 74),\n",
       " (('to', 'be'), 73),\n",
       " (('at', 'the'), 73),\n",
       " (('but', 'it'), 71),\n",
       " ((\"'s\", 'not'), 71),\n",
       " (('there', 'is'), 71),\n",
       " (('let', \"'s\"), 70),\n",
       " (('about', 'the'), 67),\n",
       " (('we', 'should'), 66),\n",
       " (('and', 'the'), 65),\n",
       " (('so', 'i'), 65),\n",
       " (('but', 'i'), 64),\n",
       " (('i', 'would'), 64),\n",
       " (('going', 'to'), 63),\n",
       " (('i', 'can'), 62),\n",
       " (('is', 'a'), 62),\n",
       " (('and', 'we'), 60),\n",
       " (('of', 'course'), 59),\n",
       " (('because', 'i'), 58),\n",
       " (('yeah', 'i'), 58),\n",
       " (('to', 'the'), 57),\n",
       " (('yeah', 'but'), 56),\n",
       " (('thank', 'you'), 55),\n",
       " (('kind', 'of'), 55),\n",
       " (('what', 'is'), 54),\n",
       " (('so', 'we'), 54),\n",
       " (('lingua', 'franca'), 54),\n",
       " (('should', 'be'), 54),\n",
       " (('from', 'the'), 53),\n",
       " (('and', 'it'), 52),\n",
       " (('want', 'to'), 51),\n",
       " (('which', 'is'), 50),\n",
       " (('i', 'was'), 49),\n",
       " (('that', 'it'), 49),\n",
       " ((\"'s\", 'the'), 49),\n",
       " ((\"'s\", 'a'), 48),\n",
       " (('is', 'it'), 47),\n",
       " (('so', 'it'), 47),\n",
       " (('it', 'will'), 47),\n",
       " (('they', 'are'), 46),\n",
       " (('to', 'do'), 46),\n",
       " (('we', 'do'), 46),\n",
       " (('did', \"n't\"), 44),\n",
       " (('is', 'that'), 44),\n",
       " (('as', 'a'), 44),\n",
       " ((\"'s\", 'it'), 44),\n",
       " (('can', 'not'), 44),\n",
       " (('i', 'will'), 42),\n",
       " ((\"'s\", 'like'), 42),\n",
       " (('we', 'will'), 42),\n",
       " (('then', 'we'), 42),\n",
       " (('and', 'they'), 41),\n",
       " (('is', 'not'), 41),\n",
       " (('but', 'we'), 40),\n",
       " (('if', 'we'), 40),\n",
       " (('you', 'do'), 39),\n",
       " (('so', 'that'), 39),\n",
       " (('that', 'i'), 38),\n",
       " (('and', 'that'), 38),\n",
       " (('you', 'are'), 38),\n",
       " (('i', 'just'), 38),\n",
       " (('all', 'the'), 38),\n",
       " (('for', 'example'), 38),\n",
       " (('to', 'make'), 37),\n",
       " (('that', 'the'), 36),\n",
       " (('and', 'you'), 36),\n",
       " (('would', 'be'), 36),\n",
       " (('the', 'agency'), 36),\n",
       " (('you', \"'re\"), 35),\n",
       " (('like', 'that'), 35),\n",
       " (('what', 'i'), 35),\n",
       " (('the', 'other'), 35),\n",
       " (('because', 'it'), 35),\n",
       " (('the', 'first'), 34),\n",
       " (('okay', 'so'), 34),\n",
       " (('that', 'you'), 33),\n",
       " (('are', 'the'), 33),\n",
       " (('to', 'say'), 32),\n",
       " (('think', 'it'), 32),\n",
       " (('i', 'know'), 31),\n",
       " (('as', 'well'), 31),\n",
       " (('does', \"n't\"), 31),\n",
       " (('ca', \"n't\"), 31),\n",
       " (('if', 'i'), 31),\n",
       " (('that', 'is'), 31),\n",
       " (('put', 'it'), 31),\n",
       " (('at', 'least'), 31),\n",
       " (('no', 'i'), 30),\n",
       " (('something', 'like'), 30),\n",
       " (('in', 'this'), 30),\n",
       " (('what', 'we'), 29),\n",
       " (('in', 'our'), 29),\n",
       " (('was', 'like'), 28),\n",
       " (('a', 'lot'), 28),\n",
       " (('there', 'are'), 28),\n",
       " (('we', \"'re\"), 28),\n",
       " (('they', 'will'), 28),\n",
       " (('there', 'was'), 28),\n",
       " (('and', 'this'), 28),\n",
       " ((\"'m\", 'not'), 27),\n",
       " (('in', 'a'), 27),\n",
       " (('the', 'european'), 27),\n",
       " (('do', 'it'), 26),\n",
       " (('are', 'you'), 26),\n",
       " (('like', 'a'), 26),\n",
       " (('what', 'are'), 26),\n",
       " (('are', 'not'), 26)]"
      ]
     },
     "execution_count": 34,
     "metadata": {},
     "output_type": "execute_result"
    }
   ],
   "source": [
    "slavic_freq_bigrams"
   ]
  },
  {
   "cell_type": "markdown",
   "metadata": {},
   "source": [
    "## Differences between VOICE and BNC"
   ]
  },
  {
   "cell_type": "code",
   "execution_count": 35,
   "metadata": {
    "collapsed": true
   },
   "outputs": [],
   "source": [
    "VOICE_not_BNC = [b[0] for b in VOICE_freq_bigrams if b[0] not in VOICE_and_BNC]\n",
    "BNC_not_VOICE = BNC_not_VOICE = [b[0] for b in BNC_freq_bigrams if b[0] not in VOICE_and_BNC]"
   ]
  },
  {
   "cell_type": "code",
   "execution_count": 36,
   "metadata": {},
   "outputs": [
    {
     "data": {
      "text/plain": [
       "[('we', 'are'),\n",
       " ('kind', 'of'),\n",
       " ('they', 'are'),\n",
       " ('is', 'not'),\n",
       " ('for', 'example'),\n",
       " ('so', 'it'),\n",
       " ('yeah', 'but'),\n",
       " ('you', 'are'),\n",
       " ('should', 'be'),\n",
       " ('so', 'we'),\n",
       " ('we', 'will'),\n",
       " ('let', \"'s\"),\n",
       " ('and', 'this'),\n",
       " ('because', 'i'),\n",
       " ('what', 'is'),\n",
       " ('then', 'we'),\n",
       " ('in', 'this'),\n",
       " ('we', 'should'),\n",
       " ('and', 'so'),\n",
       " ('to', 'make'),\n",
       " ('but', 'we'),\n",
       " ('because', 'it'),\n",
       " ('i', 'will'),\n",
       " ('part', 'of'),\n",
       " ('at', 'least'),\n",
       " ('then', 'you'),\n",
       " (\"'s\", 'very'),\n",
       " ('because', 'we'),\n",
       " ('could', 'be'),\n",
       " ('are', 'not')]"
      ]
     },
     "execution_count": 36,
     "metadata": {},
     "output_type": "execute_result"
    }
   ],
   "source": [
    "VOICE_not_BNC"
   ]
  },
  {
   "cell_type": "code",
   "execution_count": 37,
   "metadata": {},
   "outputs": [
    {
     "data": {
      "text/plain": [
       "[(\"'ve\", 'got'),\n",
       " ('you', \"'ve\"),\n",
       " ('we', \"'ve\"),\n",
       " ('well', 'i'),\n",
       " ('she', \"'s\"),\n",
       " (\"n't\", 'it'),\n",
       " ('is', \"n't\"),\n",
       " ('used', 'to'),\n",
       " ('what', \"'s\"),\n",
       " ('i', 'said'),\n",
       " ('a', 'bit'),\n",
       " ('you', 'see'),\n",
       " ('got', 'a'),\n",
       " ('one', 'of'),\n",
       " ('was', 'a'),\n",
       " (\"n't\", 'you'),\n",
       " ('they', 'were'),\n",
       " ('there', 'was'),\n",
       " ('got', 'to'),\n",
       " ('i', \"'d\"),\n",
       " ('are', 'you'),\n",
       " ('for', 'a'),\n",
       " ('did', 'you'),\n",
       " ('would', \"n't\"),\n",
       " ('they', \"'ve\"),\n",
       " (\"'s\", 'got'),\n",
       " ('we', \"'ll\"),\n",
       " ('wo', \"n't\"),\n",
       " (\"'s\", 'right'),\n",
       " ('what', 'you'),\n",
       " ('i', 'thought'),\n",
       " ('of', 'a'),\n",
       " ('out', 'of'),\n",
       " ('look', 'at'),\n",
       " ('was', \"n't\"),\n",
       " ('oh', 'i'),\n",
       " (\"n't\", 'think'),\n",
       " (\"'re\", 'not'),\n",
       " (\"'ll\", 'be'),\n",
       " ('if', 'i'),\n",
       " ('you', 'get'),\n",
       " ('by', 'the'),\n",
       " ('when', 'i'),\n",
       " ('of', 'them'),\n",
       " (\"'m\", 'not'),\n",
       " ('know', 'what'),\n",
       " (\"'s\", 'what'),\n",
       " ('and', 'a'),\n",
       " ('of', 'it'),\n",
       " ('i', 'ca'),\n",
       " ('that', 'one'),\n",
       " ('you', \"'ll\"),\n",
       " ('the', 'way'),\n",
       " ('you', 'could'),\n",
       " ('on', 'a'),\n",
       " ('was', 'the'),\n",
       " ('you', 'got'),\n",
       " ('she', 'said'),\n",
       " ('with', 'a'),\n",
       " ('could', \"n't\"),\n",
       " ('some', 'of'),\n",
       " ('and', 'she'),\n",
       " ('well', 'it'),\n",
       " ('you', 'were'),\n",
       " ('oh', 'yeah'),\n",
       " (\"'ve\", 'been'),\n",
       " (\"'s\", 'that'),\n",
       " ('it', 'would'),\n",
       " (\"'s\", 'just'),\n",
       " ('it', 'in'),\n",
       " ('it', 'does'),\n",
       " ('it', 'and'),\n",
       " ('well', 'you'),\n",
       " ('if', 'it'),\n",
       " ('of', 'that'),\n",
       " ('we', 'were')]"
      ]
     },
     "execution_count": 37,
     "metadata": {},
     "output_type": "execute_result"
    }
   ],
   "source": [
    "BNC_not_VOICE"
   ]
  },
  {
   "cell_type": "markdown",
   "metadata": {},
   "source": [
    "# Comparing Contraction Use\n"
   ]
  },
  {
   "cell_type": "markdown",
   "metadata": {},
   "source": [
    "### Proportion of contraction bigrams\n",
    "As noted in the bigram comparison, contractions appeared frequently among the BNC's most common bigrams, while they\n",
    "were much less common among VOICE's bigrams. Even after hesitation bigrams were removed from the bigram lists (which most likely impacted VOICE more than BNC), the proportion of contractions in the BNC is significantly higher than those in VOICE and the three sub-corpora. This time, speakers of Romance L1s had the highest proportion of contraction use among non-native speakers, at 0.01."
   ]
  },
  {
   "cell_type": "code",
   "execution_count": 38,
   "metadata": {},
   "outputs": [
    {
     "data": {
      "text/plain": [
       "0.056755461989655594"
      ]
     },
     "execution_count": 38,
     "metadata": {},
     "output_type": "execute_result"
    }
   ],
   "source": [
    "BNC_contractions_proportions = len([b for b in BNC_bigrams if \"'\" in b[1]])/len(BNC_bigrams)\n",
    "BNC_contractions_proportions"
   ]
  },
  {
   "cell_type": "code",
   "execution_count": 39,
   "metadata": {},
   "outputs": [
    {
     "data": {
      "text/plain": [
       "0.04213875886707224"
      ]
     },
     "execution_count": 39,
     "metadata": {},
     "output_type": "execute_result"
    }
   ],
   "source": [
    "VOICE_contractions_proportions = len([b for b in VOICE_bigrams if \"'\" in b[1]])/len(VOICE_bigrams)\n",
    "VOICE_contractions_proportions"
   ]
  },
  {
   "cell_type": "code",
   "execution_count": 40,
   "metadata": {},
   "outputs": [
    {
     "data": {
      "text/plain": [
       "0.04331497802251526"
      ]
     },
     "execution_count": 40,
     "metadata": {},
     "output_type": "execute_result"
    }
   ],
   "source": [
    "germanic_contractions_proportions = len([b for b in germanic_bigrams if \"'\" in b[1]])/len(germanic_bigrams)\n",
    "germanic_contractions_proportions"
   ]
  },
  {
   "cell_type": "code",
   "execution_count": 41,
   "metadata": {},
   "outputs": [
    {
     "data": {
      "text/plain": [
       "0.042036899913612244"
      ]
     },
     "execution_count": 41,
     "metadata": {},
     "output_type": "execute_result"
    }
   ],
   "source": [
    "romance_contractions_proportions = len([b for b in romance_bigrams if \"'\" in b[1]])/len(romance_bigrams)\n",
    "romance_contractions_proportions"
   ]
  },
  {
   "cell_type": "code",
   "execution_count": 42,
   "metadata": {},
   "outputs": [
    {
     "data": {
      "text/plain": [
       "0.0379743920412675"
      ]
     },
     "execution_count": 42,
     "metadata": {},
     "output_type": "execute_result"
    }
   ],
   "source": [
    "slavic_contractions_proportions = len([b for b in slavic_bigrams if \"'\" in b[1]])/len(slavic_bigrams)\n",
    "slavic_contractions_proportions"
   ]
  },
  {
   "cell_type": "code",
   "execution_count": 43,
   "metadata": {},
   "outputs": [
    {
     "data": {
      "text/plain": [
       "[('it', \"'s\"),\n",
       " ('you', \"'ll\"),\n",
       " ('you', \"'ll\"),\n",
       " ('does', \"n't\"),\n",
       " ('that', \"'s\"),\n",
       " ('it', \"'s\"),\n",
       " ('it', \"'s\"),\n",
       " ('it', \"'s\"),\n",
       " ('we', \"'re\"),\n",
       " ('it', \"'s\"),\n",
       " ('that', \"'s\"),\n",
       " ('that', \"'s\"),\n",
       " ('you', \"'re\"),\n",
       " ('i', \"'m\"),\n",
       " ('we', \"'re\"),\n",
       " ('i', \"'m\"),\n",
       " ('i', \"'m\"),\n",
       " ('we', \"'ll\"),\n",
       " ('did', \"n't\"),\n",
       " ('it', \"'s\"),\n",
       " ('that', \"'s\"),\n",
       " ('that', \"'s\"),\n",
       " ('you', \"'re\"),\n",
       " ('it', \"'s\"),\n",
       " ('ca', \"n't\"),\n",
       " ('that', \"'s\"),\n",
       " ('we', \"'re\"),\n",
       " ('we', \"'re\"),\n",
       " ('that', \"'s\"),\n",
       " ('do', \"n't\"),\n",
       " ('that', \"'s\"),\n",
       " ('that', \"'s\"),\n",
       " ('it', \"'d\"),\n",
       " ('were', \"n't\"),\n",
       " ('it', \"'s\"),\n",
       " ('it', \"'s\"),\n",
       " ('you', \"'d\"),\n",
       " ('it', \"'s\"),\n",
       " ('we', \"'re\"),\n",
       " ('we', \"'re\"),\n",
       " ('it', \"'s\"),\n",
       " ('you', \"'re\"),\n",
       " ('do', \"n't\"),\n",
       " ('that', \"'s\"),\n",
       " ('that', \"'s\"),\n",
       " ('i', \"'m\"),\n",
       " ('it', \"'s\"),\n",
       " ('do', \"n't\"),\n",
       " ('do', \"n't\"),\n",
       " ('we', \"'re\"),\n",
       " ('do', \"n't\"),\n",
       " ('that', \"'s\"),\n",
       " ('it', \"'s\"),\n",
       " ('i', \"'ve\"),\n",
       " ('we', \"'re\"),\n",
       " ('it', \"'s\"),\n",
       " ('we', \"'re\"),\n",
       " ('it', \"'s\"),\n",
       " ('it', \"'s\"),\n",
       " ('that', \"'s\"),\n",
       " ('we', \"'re\"),\n",
       " ('ca', \"n't\"),\n",
       " ('we', \"'re\"),\n",
       " ('we', \"'re\"),\n",
       " ('we', \"'re\"),\n",
       " ('it', \"'s\"),\n",
       " ('that', \"'s\"),\n",
       " ('do', \"n't\"),\n",
       " ('it', \"'s\"),\n",
       " ('it', \"'s\"),\n",
       " ('you', \"'re\"),\n",
       " ('it', \"'s\"),\n",
       " ('that', \"'s\"),\n",
       " ('it', \"'s\"),\n",
       " ('does', \"n't\"),\n",
       " ('i', \"'ll\"),\n",
       " ('it', \"'s\"),\n",
       " ('it', \"'s\"),\n",
       " ('ca', \"n't\"),\n",
       " ('ca', \"n't\"),\n",
       " ('you', \"'re\"),\n",
       " ('do', \"n't\"),\n",
       " ('do', \"n't\"),\n",
       " ('you', \"'re\"),\n",
       " ('ca', \"n't\"),\n",
       " ('we', \"'re\"),\n",
       " ('that', \"'s\"),\n",
       " ('that', \"'s\"),\n",
       " ('that', \"'s\"),\n",
       " ('that', \"'s\"),\n",
       " ('that', \"'s\"),\n",
       " ('we', \"'re\"),\n",
       " ('that', \"'s\"),\n",
       " ('let', \"'s\"),\n",
       " ('let', \"'s\"),\n",
       " ('let', \"'s\"),\n",
       " ('it', \"'s\"),\n",
       " ('europe', \"'s\"),\n",
       " ('europe', \"'s\"),\n",
       " ('wo', \"n't\"),\n",
       " ('it', \"'s\"),\n",
       " ('it', \"'s\"),\n",
       " ('we', \"'re\"),\n",
       " ('i', \"'ll\"),\n",
       " ('do', \"n't\"),\n",
       " ('it', \"'s\"),\n",
       " ('i', \"'m\"),\n",
       " ('i', \"'m\"),\n",
       " ('i', \"'m\"),\n",
       " ('do', \"n't\"),\n",
       " ('ca', \"n't\"),\n",
       " ('that', \"'s\"),\n",
       " ('it', \"'s\"),\n",
       " ('it', \"'s\"),\n",
       " ('it', \"'s\"),\n",
       " ('do', \"n't\"),\n",
       " ('i', \"'m\"),\n",
       " ('i', \"'m\"),\n",
       " ('it', \"'s\"),\n",
       " ('do', \"n't\"),\n",
       " ('i', \"'ve\"),\n",
       " ('i', \"'ve\"),\n",
       " ('it', \"'s\"),\n",
       " ('it', \"'s\"),\n",
       " ('we', \"'re\"),\n",
       " ('that', \"'s\"),\n",
       " ('we', \"'re\"),\n",
       " ('it', \"'s\"),\n",
       " ('it', \"'s\"),\n",
       " ('it', \"'s\"),\n",
       " ('do', \"n't\"),\n",
       " ('do', \"n't\"),\n",
       " ('do', \"n't\"),\n",
       " ('i', \"'m\"),\n",
       " ('it', \"'s\"),\n",
       " ('it', \"'s\"),\n",
       " ('it', \"'s\"),\n",
       " ('it', \"'s\"),\n",
       " ('i', \"'m\"),\n",
       " ('we', \"'re\"),\n",
       " ('they', \"'re\"),\n",
       " ('it', \"'s\"),\n",
       " ('i', \"'m\"),\n",
       " ('i', \"'m\"),\n",
       " ('do', \"n't\"),\n",
       " ('it', \"'s\"),\n",
       " ('do', \"n't\"),\n",
       " ('we', \"'re\"),\n",
       " ('we', \"'re\"),\n",
       " ('you', \"'re\"),\n",
       " ('you', \"'re\"),\n",
       " ('you', \"'re\"),\n",
       " ('you', \"'re\"),\n",
       " ('that', \"'s\"),\n",
       " ('that', \"'s\"),\n",
       " ('do', \"n't\"),\n",
       " ('we', \"'re\"),\n",
       " ('ca', \"n't\"),\n",
       " ('it', \"'s\"),\n",
       " ('it', \"'s\"),\n",
       " ('it', \"'s\"),\n",
       " ('it', \"'s\"),\n",
       " ('it', \"'s\"),\n",
       " ('do', \"n't\"),\n",
       " ('ca', \"n't\"),\n",
       " ('do', \"n't\"),\n",
       " ('ca', \"n't\"),\n",
       " ('that', \"'s\"),\n",
       " ('that', \"'s\"),\n",
       " ('do', \"n't\"),\n",
       " ('that', \"'s\"),\n",
       " ('that', \"'s\"),\n",
       " ('you', \"'re\"),\n",
       " ('you', \"'re\"),\n",
       " ('do', \"n't\"),\n",
       " ('that', \"'s\"),\n",
       " ('it', \"'s\"),\n",
       " ('do', \"n't\"),\n",
       " ('it', \"'s\"),\n",
       " ('it', \"'s\"),\n",
       " ('that', \"'s\"),\n",
       " ('wo', \"n't\"),\n",
       " ('that', \"'s\"),\n",
       " ('it', \"'s\"),\n",
       " ('ca', \"n't\"),\n",
       " ('that', \"'s\"),\n",
       " ('it', \"'s\"),\n",
       " ('you', \"'re\"),\n",
       " ('you', \"'re\"),\n",
       " ('that', \"'s\"),\n",
       " ('that', \"'s\"),\n",
       " ('that', \"'s\"),\n",
       " ('it', \"'s\"),\n",
       " ('i', \"'m\"),\n",
       " ('it', \"'s\"),\n",
       " ('you', \"'re\"),\n",
       " ('that', \"'s\"),\n",
       " ('there', \"'s\"),\n",
       " ('do', \"n't\"),\n",
       " ('do', \"n't\"),\n",
       " ('do', \"n't\"),\n",
       " ('it', \"'s\"),\n",
       " ('it', \"'s\"),\n",
       " ('it', \"'s\"),\n",
       " ('ca', \"n't\"),\n",
       " ('they', \"'re\"),\n",
       " ('they', \"'re\"),\n",
       " ('they', \"'re\"),\n",
       " ('ca', \"n't\"),\n",
       " ('they', \"'re\"),\n",
       " ('that', \"'s\"),\n",
       " ('we', \"'re\"),\n",
       " ('that', \"'s\"),\n",
       " ('that', \"'s\"),\n",
       " ('does', \"n't\"),\n",
       " ('they', \"'re\"),\n",
       " ('it', \"'s\"),\n",
       " ('it', \"'s\"),\n",
       " ('i', \"'m\"),\n",
       " ('do', \"n't\"),\n",
       " ('do', \"n't\"),\n",
       " ('that', \"'s\"),\n",
       " ('that', \"'s\"),\n",
       " ('that', \"'s\"),\n",
       " ('it', \"'s\"),\n",
       " ('it', \"'s\"),\n",
       " ('do', \"n't\"),\n",
       " ('there', \"'re\"),\n",
       " ('that', \"'s\"),\n",
       " ('that', \"'s\"),\n",
       " ('it', \"'s\"),\n",
       " ('that', \"'s\"),\n",
       " ('that', \"'s\"),\n",
       " ('that', \"'s\"),\n",
       " ('that', \"'s\"),\n",
       " ('that', \"'s\"),\n",
       " ('that', \"'s\"),\n",
       " ('that', \"'s\"),\n",
       " ('that', \"'s\"),\n",
       " ('they', \"'re\"),\n",
       " ('it', \"'s\"),\n",
       " ('it', \"'s\"),\n",
       " ('they', \"'re\"),\n",
       " ('that', \"'s\"),\n",
       " ('that', \"'s\"),\n",
       " ('that', \"'s\"),\n",
       " ('that', \"'s\"),\n",
       " ('it', \"'s\"),\n",
       " ('what', \"'s\"),\n",
       " ('that', \"'s\"),\n",
       " ('that', \"'s\"),\n",
       " ('you', \"'re\"),\n",
       " ('i', \"'m\"),\n",
       " ('it', \"'s\"),\n",
       " ('it', \"'s\"),\n",
       " ('there', \"'s\"),\n",
       " ('i', \"'ll\"),\n",
       " ('i', \"'ll\"),\n",
       " ('i', \"'m\"),\n",
       " ('you', \"'re\"),\n",
       " ('you', \"'re\"),\n",
       " ('i', \"'m\"),\n",
       " ('i', \"'m\"),\n",
       " ('i', \"'m\"),\n",
       " ('it', \"'s\"),\n",
       " ('it', \"'s\"),\n",
       " ('it', \"'s\"),\n",
       " ('do', \"n't\"),\n",
       " ('do', \"n't\"),\n",
       " ('we', \"'re\"),\n",
       " ('it', \"'s\"),\n",
       " ('that', \"'s\"),\n",
       " ('that', \"'s\"),\n",
       " ('it', \"'s\"),\n",
       " ('we', \"'re\"),\n",
       " ('i', \"'m\"),\n",
       " ('you', \"'re\"),\n",
       " ('you', \"'re\"),\n",
       " ('it', \"'s\"),\n",
       " ('that', \"'s\"),\n",
       " ('it', \"'s\"),\n",
       " ('it', \"'s\"),\n",
       " ('is', \"n't\"),\n",
       " ('you', \"'re\"),\n",
       " ('i', \"'m\"),\n",
       " ('it', \"'s\"),\n",
       " ('they', \"'re\"),\n",
       " ('do', \"n't\"),\n",
       " ('it', \"'s\"),\n",
       " ('other', \"'s\"),\n",
       " ('do', \"n't\"),\n",
       " ('today', \"'s\"),\n",
       " ('you', \"'re\"),\n",
       " ('let', \"'s\"),\n",
       " ('six', \"o'clock\"),\n",
       " ('there', \"'s\"),\n",
       " ('you', \"'re\"),\n",
       " ('do', \"n't\"),\n",
       " ('do', \"n't\"),\n",
       " ('do', \"n't\"),\n",
       " ('-children', \"'s\"),\n",
       " ('could', \"n't\"),\n",
       " ('that', \"'s\"),\n",
       " ('i', \"'m\"),\n",
       " ('i', \"'m\"),\n",
       " ('it', \"'s\"),\n",
       " ('i', \"'m\"),\n",
       " ('i', \"'m\"),\n",
       " ('that', \"'s\"),\n",
       " ('let', \"'s\"),\n",
       " ('i', \"'m\"),\n",
       " ('i', \"'m\"),\n",
       " ('i', \"'m\"),\n",
       " ('there', \"'s\"),\n",
       " ('it', \"'s\"),\n",
       " ('should', \"n't\"),\n",
       " ('you', \"'re\"),\n",
       " ('i', \"'m\"),\n",
       " ('i', \"'ve\"),\n",
       " ('let', \"'s\"),\n",
       " ('it', \"'s\"),\n",
       " ('do', \"n't\"),\n",
       " ('today', \"'s\"),\n",
       " ('let', \"'s\"),\n",
       " ('let', \"'s\"),\n",
       " ('we', \"'re\"),\n",
       " ('do', \"n't\"),\n",
       " ('it', \"'s\"),\n",
       " ('do', \"n't\"),\n",
       " ('one', \"'s\"),\n",
       " ('you', \"'re\"),\n",
       " ('do', \"n't\"),\n",
       " ('that', \"'s\"),\n",
       " ('today', \"'s\"),\n",
       " ('today', \"'s\"),\n",
       " ('do', \"n't\"),\n",
       " ('we', \"'d\"),\n",
       " ('do', \"n't\"),\n",
       " ('that', \"'s\"),\n",
       " ('that', \"'s\"),\n",
       " ('is', \"n't\"),\n",
       " ('is', \"n't\"),\n",
       " ('do', \"n't\"),\n",
       " ('do', \"n't\"),\n",
       " ('do', \"n't\"),\n",
       " ('they', \"'re\"),\n",
       " ('it', \"'s\"),\n",
       " ('it', \"'s\"),\n",
       " ('that', \"'s\"),\n",
       " ('that', \"'s\"),\n",
       " ('that', \"'s\"),\n",
       " ('do', \"n't\"),\n",
       " ('that', \"'s\"),\n",
       " ('that', \"'s\"),\n",
       " ('that', \"'s\"),\n",
       " ('that', \"'s\"),\n",
       " ('that', \"'s\"),\n",
       " ('that', \"'s\"),\n",
       " ('that', \"'s\"),\n",
       " ('do', \"n't\"),\n",
       " ('that', \"'s\"),\n",
       " ('we', \"'re\"),\n",
       " ('that', \"'s\"),\n",
       " ('do', \"n't\"),\n",
       " ('do', \"n't\"),\n",
       " ('we', \"'re\"),\n",
       " ('i', \"'m\"),\n",
       " ('i', \"'m\"),\n",
       " ('it', \"'s\"),\n",
       " ('what', \"'s\"),\n",
       " ('that', \"'s\"),\n",
       " ('it', \"'s\"),\n",
       " ('it', \"'s\"),\n",
       " ('is', \"n't\"),\n",
       " ('it', \"'s\"),\n",
       " ('it', \"'s\"),\n",
       " ('let', \"'s\"),\n",
       " ('it', \"'s\"),\n",
       " ('that', \"'s\"),\n",
       " ('that', \"'s\"),\n",
       " ('that', \"'s\"),\n",
       " ('that', \"'s\"),\n",
       " ('do', \"n't\"),\n",
       " ('it', \"'s\"),\n",
       " ('do', \"n't\"),\n",
       " ('that', \"'s\"),\n",
       " ('it', \"'s\"),\n",
       " ('it', \"'s\"),\n",
       " ('i', \"'m\"),\n",
       " ('do', \"n't\"),\n",
       " ('we', \"'ve\"),\n",
       " ('that', \"'s\"),\n",
       " ('there', \"'s\"),\n",
       " ('that', \"'s\"),\n",
       " ('that', \"'s\"),\n",
       " ('that', \"'s\"),\n",
       " ('that', \"'s\"),\n",
       " ('that', \"'s\"),\n",
       " ('that', \"'s\"),\n",
       " ('is', \"n't\"),\n",
       " ('is', \"n't\"),\n",
       " ('it', \"'s\"),\n",
       " ('it', \"'s\"),\n",
       " ('i', \"'m\"),\n",
       " ('it', \"'s\"),\n",
       " ('we', \"'re\"),\n",
       " ('it', \"'s\"),\n",
       " ('it', \"'s\"),\n",
       " ('rotterdam', \"'s\"),\n",
       " ('that', \"'s\"),\n",
       " ('that', \"'s\"),\n",
       " ('it', \"'s\"),\n",
       " ('that', \"'s\"),\n",
       " ('that', \"'s\"),\n",
       " ('let', \"'s\"),\n",
       " ('what', \"'s\"),\n",
       " ('is', \"n't\"),\n",
       " ('do', \"n't\"),\n",
       " ('let', \"'s\"),\n",
       " ('let', \"'s\"),\n",
       " ('do', \"n't\"),\n",
       " ('do', \"n't\"),\n",
       " ('i', \"'ll\"),\n",
       " ('it', \"'s\"),\n",
       " ('ca', \"n't\"),\n",
       " ('that', \"'s\"),\n",
       " ('ca', \"n't\"),\n",
       " ('it', \"'s\"),\n",
       " ('ca', \"n't\"),\n",
       " ('do', \"n't\"),\n",
       " ('it', \"'s\"),\n",
       " ('it', \"'s\"),\n",
       " ('it', \"'s\"),\n",
       " ('do', \"n't\"),\n",
       " ('we', \"'re\"),\n",
       " ('it', \"'s\"),\n",
       " ('they', \"'ve\"),\n",
       " ('it', \"'s\"),\n",
       " ('could', \"n't\"),\n",
       " ('do', \"n't\"),\n",
       " ('kant', \"'s\"),\n",
       " ('do', \"n't\"),\n",
       " ('do', \"n't\"),\n",
       " ('that', \"'s\"),\n",
       " ('do', \"n't\"),\n",
       " ('do', \"n't\"),\n",
       " ('does', \"n't\"),\n",
       " ('that', \"'s\"),\n",
       " ('that', \"'s\"),\n",
       " ('do', \"n't\"),\n",
       " ('do', \"n't\"),\n",
       " ('do', \"n't\"),\n",
       " ('do', \"n't\"),\n",
       " ('wo', \"n't\"),\n",
       " ('i', \"'m\"),\n",
       " ('that', \"'s\"),\n",
       " ('we', \"'re\"),\n",
       " ('it', \"'s\"),\n",
       " ('i', \"'m\"),\n",
       " ('i', \"'m\"),\n",
       " ('it', \"'s\"),\n",
       " ('that', \"'s\"),\n",
       " ('that', \"'s\"),\n",
       " ('it', \"'s\"),\n",
       " ('it', \"'s\"),\n",
       " ('are', \"n't\"),\n",
       " ('we', \"'re\"),\n",
       " ('do', \"n't\"),\n",
       " ('it', \"'s\"),\n",
       " ('it', \"'s\"),\n",
       " ('that', \"'s\"),\n",
       " ('i', \"'m\"),\n",
       " ('i', \"'m\"),\n",
       " ('i', \"'m\"),\n",
       " ('i', \"'m\"),\n",
       " ('that', \"'s\"),\n",
       " ('that', \"'s\"),\n",
       " ('it', \"'s\"),\n",
       " ('it', \"'s\"),\n",
       " ('ca', \"n't\"),\n",
       " ('it', \"'s\"),\n",
       " ('it', \"'s\"),\n",
       " ('they', \"'re\"),\n",
       " ('it', \"'s\"),\n",
       " ('that', \"'s\"),\n",
       " ('you', \"'re\"),\n",
       " ('ca', \"n't\"),\n",
       " ('do', \"n't\"),\n",
       " ('that', \"'s\"),\n",
       " ('that', \"'s\"),\n",
       " ('you', \"'re\"),\n",
       " ('do', \"n't\"),\n",
       " ('that', \"'s\"),\n",
       " ('we', \"'re\"),\n",
       " ('does', \"n't\"),\n",
       " ('do', \"n't\"),\n",
       " ('it', \"'s\"),\n",
       " ('do', \"n't\"),\n",
       " ('it', \"'s\"),\n",
       " ('lawyers', \"'\"),\n",
       " ('ca', \"n't\"),\n",
       " ('that', \"'s\"),\n",
       " ('that', \"'s\"),\n",
       " ('it', \"'s\"),\n",
       " ('that', \"'s\"),\n",
       " ('that', \"'s\"),\n",
       " ('it', \"'s\"),\n",
       " ('ca', \"n't\"),\n",
       " ('that', \"'s\"),\n",
       " ('ca', \"n't\"),\n",
       " ('it', \"'s\"),\n",
       " ('it', \"'s\"),\n",
       " ('it', \"'s\"),\n",
       " ('that', \"'s\"),\n",
       " ('that', \"'s\"),\n",
       " ('i', \"'d\"),\n",
       " ('i', \"'d\"),\n",
       " ('it', \"'s\"),\n",
       " ('it', \"'s\"),\n",
       " ('that', \"'s\"),\n",
       " ('it', \"'s\"),\n",
       " ('it', \"'s\"),\n",
       " ('wo', \"n't\"),\n",
       " ('do', \"n't\"),\n",
       " ('it', \"'s\"),\n",
       " ('is', \"n't\"),\n",
       " ('do', \"n't\"),\n",
       " ('do', \"n't\"),\n",
       " ('it', \"'s\"),\n",
       " ('it', \"'s\"),\n",
       " ('let', \"'s\"),\n",
       " ('do', \"n't\"),\n",
       " ('do', \"n't\"),\n",
       " ('did', \"n't\"),\n",
       " ('two', \"o'clock\"),\n",
       " ('other', \"'s\"),\n",
       " ('do', \"n't\"),\n",
       " ('there', \"'re\"),\n",
       " ('do', \"n't\"),\n",
       " ('i', \"'m\"),\n",
       " ('you', \"'ve\"),\n",
       " ('what', \"'s\"),\n",
       " ('do', \"n't\"),\n",
       " ('that', \"'s\"),\n",
       " ('do', \"n't\"),\n",
       " ('there', \"'s\"),\n",
       " ('let', \"'s\"),\n",
       " ('we', \"'ll\"),\n",
       " ('it', \"'s\"),\n",
       " ('was', \"n't\"),\n",
       " ('farmers', \"'\"),\n",
       " ('do', \"n't\"),\n",
       " ('that', \"'s\"),\n",
       " ('it', \"'s\"),\n",
       " ('it', \"'s\"),\n",
       " ('it', \"'s\"),\n",
       " ('would', \"n't\"),\n",
       " ('it', \"'s\"),\n",
       " ('it', \"'s\"),\n",
       " ('is', \"n't\"),\n",
       " ('there', \"'s\"),\n",
       " ('it', \"'s\"),\n",
       " ('today', \"'s\"),\n",
       " ('we', \"'re\"),\n",
       " ('i', \"'ve\"),\n",
       " ('it', \"'s\"),\n",
       " ('do', \"n't\"),\n",
       " ('would', \"n't\"),\n",
       " ('that', \"'s\"),\n",
       " ('they', \"'re\"),\n",
       " ('structure', \"'s\"),\n",
       " ('overproduction', \"'s\"),\n",
       " ('it', \"'s\"),\n",
       " ('they', \"'re\"),\n",
       " ('there', \"'s\"),\n",
       " ('they', \"'ve\"),\n",
       " ('do', \"n't\"),\n",
       " ('everybody', \"'s\"),\n",
       " ('did', \"n't\"),\n",
       " ('it', \"'s\"),\n",
       " ('that', \"'s\"),\n",
       " ('it', \"'s\"),\n",
       " ('that', \"'s\"),\n",
       " ('do', \"n't\"),\n",
       " ('did', \"n't\"),\n",
       " ('what', \"'s\"),\n",
       " ('what', \"'s\"),\n",
       " ('that', \"'s\"),\n",
       " ('would', \"n't\"),\n",
       " ('would', \"n't\"),\n",
       " ('would', \"n't\"),\n",
       " ('it', \"'s\"),\n",
       " ('it', \"'s\"),\n",
       " ('was', \"n't\"),\n",
       " ('was', \"n't\"),\n",
       " ('somebody', \"'s\"),\n",
       " ('i', \"'ve\"),\n",
       " ('i', \"'ve\"),\n",
       " ('i', \"'m\"),\n",
       " ('i', \"'m\"),\n",
       " ('it', \"'s\"),\n",
       " ('there', \"'s\"),\n",
       " ('there', \"'s\"),\n",
       " ('they', \"'ve\"),\n",
       " ('it', \"'s\"),\n",
       " ('does', \"n't\"),\n",
       " ('there', \"'s\"),\n",
       " ('it', \"'s\"),\n",
       " ('there', \"'s\"),\n",
       " ('would', \"n't\"),\n",
       " ('ca', \"n't\"),\n",
       " ('they', \"'re\"),\n",
       " ('it', \"'s\"),\n",
       " ('it', \"'s\"),\n",
       " ('you', \"'re\"),\n",
       " ('you', \"'re\"),\n",
       " ('do', \"n't\"),\n",
       " ('would', \"n't\"),\n",
       " ('farmers', \"'\"),\n",
       " ('who', \"'s\"),\n",
       " ('it', \"'s\"),\n",
       " ('it', \"'s\"),\n",
       " ('it', \"'s\"),\n",
       " ('that', \"'s\"),\n",
       " ('that', \"'s\"),\n",
       " ('should', \"n't\"),\n",
       " ('it', \"'s\"),\n",
       " ('it', \"'s\"),\n",
       " ('that', \"'s\"),\n",
       " ('that', \"'s\"),\n",
       " ('that', \"'s\"),\n",
       " ('that', \"'s\"),\n",
       " ('do', \"n't\"),\n",
       " ('do', \"n't\"),\n",
       " ('do', \"n't\"),\n",
       " ('that', \"'s\"),\n",
       " ('i', \"'ll\"),\n",
       " ('she', \"'s\"),\n",
       " ('you', \"'re\"),\n",
       " ('that', \"'s\"),\n",
       " ('i', \"'ll\"),\n",
       " ('do', \"n't\"),\n",
       " ('i', \"'m\"),\n",
       " ('that', \"'s\"),\n",
       " ('you', \"'re\"),\n",
       " ('it', \"'s\"),\n",
       " ('does', \"n't\"),\n",
       " ('it', \"'s\"),\n",
       " ('that', \"'s\"),\n",
       " ('i', \"'m\"),\n",
       " ('i', \"'m\"),\n",
       " ('it', \"'s\"),\n",
       " ('i', \"'d\"),\n",
       " ('you', \"'re\"),\n",
       " ('do', \"n't\"),\n",
       " ('i', \"'m\"),\n",
       " ('you', \"'ll\"),\n",
       " ('do', \"n't\"),\n",
       " ('do', \"n't\"),\n",
       " ('i', \"'m\"),\n",
       " ('does', \"n't\"),\n",
       " ('it', \"'s\"),\n",
       " ('it', \"'s\"),\n",
       " ('it', \"'s\"),\n",
       " ('do', \"n't\"),\n",
       " ('i', \"'m\"),\n",
       " ('it', \"'s\"),\n",
       " ('they', \"'re\"),\n",
       " ('we', \"'re\"),\n",
       " ('that', \"'s\"),\n",
       " ('who', \"'s\"),\n",
       " ('nine', \"o'clock\"),\n",
       " ('they', \"'re\"),\n",
       " ('who', \"'s\"),\n",
       " ('they', \"'re\"),\n",
       " ('they', \"'re\"),\n",
       " ('do', \"n't\"),\n",
       " ('they', \"'re\"),\n",
       " ('there', \"'s\"),\n",
       " ('that', \"'s\"),\n",
       " ('who', \"'s\"),\n",
       " ('do', \"n't\"),\n",
       " ('it', \"'s\"),\n",
       " ('who', \"'s\"),\n",
       " ('they', \"'re\"),\n",
       " ('we', \"'ll\"),\n",
       " ('insider', \"'s\"),\n",
       " ('i', \"'ve\"),\n",
       " ('i', \"'ve\"),\n",
       " ('it', \"'s\"),\n",
       " ('you', \"'re\"),\n",
       " ('i', \"'m\"),\n",
       " ('it', \"'s\"),\n",
       " ('it', \"'s\"),\n",
       " ('we', \"'re\"),\n",
       " ('they', \"'re\"),\n",
       " ('that', \"'s\"),\n",
       " ('that', \"'s\"),\n",
       " ('would', \"n't\"),\n",
       " ('there', \"'s\"),\n",
       " ('it', \"'s\"),\n",
       " ('it', \"'s\"),\n",
       " ('they', \"'re\"),\n",
       " ('it', \"'s\"),\n",
       " ('you', \"'re\"),\n",
       " ('are', \"n't\"),\n",
       " ('what', \"'s\"),\n",
       " ('it', \"'s\"),\n",
       " ('what', \"'s\"),\n",
       " ('there', \"'s\"),\n",
       " ('it', \"'s\"),\n",
       " ('there', \"'re\"),\n",
       " ('that', \"'s\"),\n",
       " ('it', \"'s\"),\n",
       " ('it', \"'s\"),\n",
       " ('does', \"n't\"),\n",
       " ('it', \"'s\"),\n",
       " ('does', \"n't\"),\n",
       " ('that', \"'s\"),\n",
       " ('i', \"'m\"),\n",
       " ('culture', \"'s\"),\n",
       " ('that', \"'s\"),\n",
       " ('it', \"'s\"),\n",
       " ('could', \"n't\"),\n",
       " ('you', \"'d\"),\n",
       " ('would', \"n't\"),\n",
       " ('it', \"'s\"),\n",
       " ('it', \"'s\"),\n",
       " ('i', \"'m\"),\n",
       " ('you', \"'d\"),\n",
       " ('there', \"'re\"),\n",
       " ('i', \"'m\"),\n",
       " ('ca', \"n't\"),\n",
       " ('you', \"'d\"),\n",
       " ('do', \"n't\"),\n",
       " ('there', \"'re\"),\n",
       " ('it', \"'s\"),\n",
       " ('that', \"'s\"),\n",
       " ('that', \"'s\"),\n",
       " ('that', \"'s\"),\n",
       " ('that', \"'s\"),\n",
       " ('we', \"'re\"),\n",
       " ('that', \"'s\"),\n",
       " ('we', \"'re\"),\n",
       " ('it', \"'s\"),\n",
       " ('it', \"'s\"),\n",
       " ('we', \"'ve\"),\n",
       " ('it', \"'s\"),\n",
       " ('it', \"'s\"),\n",
       " ('waiter', \"'s\"),\n",
       " ('it', \"'s\"),\n",
       " ('that', \"'s\"),\n",
       " ('it', \"'s\"),\n",
       " ('waiter', \"'s\"),\n",
       " ('i', \"'m\"),\n",
       " ('i', \"'m\"),\n",
       " ('does', \"n't\"),\n",
       " ('does', \"n't\"),\n",
       " ('you', \"'d\"),\n",
       " ('they', \"'re\"),\n",
       " ('that', \"'s\"),\n",
       " ('that', \"'s\"),\n",
       " ('you', \"'re\"),\n",
       " ('what', \"'s\"),\n",
       " ('it', \"'s\"),\n",
       " ('i', \"'m\"),\n",
       " ('they', \"'re\"),\n",
       " ('they', \"'re\"),\n",
       " ('what', \"'s\"),\n",
       " ('there', \"'re\"),\n",
       " ('you', \"'d\"),\n",
       " ('it', \"'s\"),\n",
       " ('that', \"'s\"),\n",
       " ('that', \"'s\"),\n",
       " ('they', \"'re\"),\n",
       " ('it', \"'s\"),\n",
       " ('we', \"'re\"),\n",
       " ('there', \"'s\"),\n",
       " ('ca', \"n't\"),\n",
       " ('there', \"'s\"),\n",
       " ('ca', \"n't\"),\n",
       " ('there', \"'s\"),\n",
       " ('did', \"n't\"),\n",
       " ('it', \"'s\"),\n",
       " ('there', \"'s\"),\n",
       " ('should', \"n't\"),\n",
       " ('it', \"'s\"),\n",
       " ('it', \"'s\"),\n",
       " ('it', \"'s\"),\n",
       " ('they', \"'re\"),\n",
       " ('wo', \"n't\"),\n",
       " ('wo', \"n't\"),\n",
       " ('wo', \"n't\"),\n",
       " ('there', \"'s\"),\n",
       " ('it', \"'s\"),\n",
       " ('what', \"'s\"),\n",
       " ('it', \"'s\"),\n",
       " ('do', \"n't\"),\n",
       " ('who', \"'s\"),\n",
       " ('it', \"'s\"),\n",
       " ('they', \"'re\"),\n",
       " ('do', \"n't\"),\n",
       " ('do', \"n't\"),\n",
       " ('do', \"n't\"),\n",
       " ('they', \"'re\"),\n",
       " ('do', \"n't\"),\n",
       " ('i', \"'m\"),\n",
       " ('i', \"'m\"),\n",
       " ('i', \"'m\"),\n",
       " ('you', \"'re\"),\n",
       " ('you', \"'re\"),\n",
       " ('do', \"n't\"),\n",
       " ('it', \"'s\"),\n",
       " ('it', \"'s\"),\n",
       " ('i', \"'ll\"),\n",
       " ('that', \"'s\"),\n",
       " ('that', \"'s\"),\n",
       " ('it', \"'s\"),\n",
       " ('it', \"'s\"),\n",
       " ('it', \"'s\"),\n",
       " ('does', \"n't\"),\n",
       " ('it', \"'s\"),\n",
       " ('what', \"'s\"),\n",
       " ('it', \"'s\"),\n",
       " ('we', \"'re\"),\n",
       " ('do', \"n't\"),\n",
       " ('would', \"n't\"),\n",
       " ('do', \"n't\"),\n",
       " ('you', \"'ve\"),\n",
       " ('you', \"'re\"),\n",
       " ('that', \"'s\"),\n",
       " ('you', \"'re\"),\n",
       " ('you', \"'ve\"),\n",
       " ('do', \"n't\"),\n",
       " ('it', \"'s\"),\n",
       " ('you', \"'re\"),\n",
       " ('it', \"'s\"),\n",
       " ('do', \"n't\"),\n",
       " ('do', \"n't\"),\n",
       " ('would', \"n't\"),\n",
       " ('do', \"n't\"),\n",
       " ('i', \"'ve\"),\n",
       " ('i', \"'ve\"),\n",
       " ('who', \"'ve\"),\n",
       " ('they', \"'re\"),\n",
       " ('do', \"n't\"),\n",
       " ('does', \"n't\"),\n",
       " ('they', \"'re\"),\n",
       " ('do', \"n't\"),\n",
       " ('you', \"'re\"),\n",
       " ('there', \"'s\"),\n",
       " ('it', \"'s\"),\n",
       " ('you', \"'re\"),\n",
       " ('you', \"'re\"),\n",
       " ('it', \"'s\"),\n",
       " ('it', \"'s\"),\n",
       " ('it', \"'s\"),\n",
       " ('you', \"'re\"),\n",
       " ('do', \"n't\"),\n",
       " ('it', \"'s\"),\n",
       " ('it', \"'s\"),\n",
       " ('they', \"'re\"),\n",
       " ('they', \"'re\"),\n",
       " ('do', \"n't\"),\n",
       " ('that', \"'s\"),\n",
       " ('they', \"'ll\"),\n",
       " ('did', \"n't\"),\n",
       " ('did', \"n't\"),\n",
       " ('did', \"n't\"),\n",
       " ('do', \"n't\"),\n",
       " ('what', \"'s\"),\n",
       " ('what', \"'s\"),\n",
       " ('it', \"'s\"),\n",
       " ('it', \"'s\"),\n",
       " ('what', \"'s\"),\n",
       " ('do', \"n't\"),\n",
       " ('you', \"'re\"),\n",
       " ('there', \"'s\"),\n",
       " ('does', \"n't\"),\n",
       " ('it', \"'s\"),\n",
       " ('it', \"'s\"),\n",
       " ('it', \"'s\"),\n",
       " ('you', \"'re\"),\n",
       " ('that', \"'s\"),\n",
       " ('that', \"'s\"),\n",
       " ('it', \"'s\"),\n",
       " ('you', \"'ll\"),\n",
       " ('is', \"n't\"),\n",
       " ('it', \"'s\"),\n",
       " ('you', \"'ll\"),\n",
       " ('you', \"'ll\"),\n",
       " ('it', \"'s\"),\n",
       " ('do', \"n't\"),\n",
       " ('do', \"n't\"),\n",
       " ('it', \"'s\"),\n",
       " ('do', \"n't\"),\n",
       " ('it', \"'s\"),\n",
       " ('it', \"'s\"),\n",
       " ('do', \"n't\"),\n",
       " ('it', \"'s\"),\n",
       " ('do', \"n't\"),\n",
       " ('do', \"n't\"),\n",
       " ('it', \"'s\"),\n",
       " ('do', \"n't\"),\n",
       " ('it', \"'s\"),\n",
       " ('it', \"'s\"),\n",
       " ('do', \"n't\"),\n",
       " ('it', \"'s\"),\n",
       " ('you', \"'re\"),\n",
       " ('that', \"'s\"),\n",
       " ('do', \"n't\"),\n",
       " ('they', \"'re\"),\n",
       " ('it', \"'s\"),\n",
       " ('it', \"'s\"),\n",
       " ('you', \"'ll\"),\n",
       " ('i', \"'ll\"),\n",
       " ('i', \"'ll\"),\n",
       " ('i', \"'ll\"),\n",
       " ('that', \"'s\"),\n",
       " ('it', \"'s\"),\n",
       " ('it', \"'s\"),\n",
       " ('you', \"'ll\"),\n",
       " ('you', \"'re\"),\n",
       " ('do', \"n't\"),\n",
       " ('you', \"'ll\"),\n",
       " ('you', \"'ll\"),\n",
       " ('you', \"'ll\"),\n",
       " ('they', \"'re\"),\n",
       " ('they', \"'re\"),\n",
       " ('that', \"'s\"),\n",
       " ('that', \"'s\"),\n",
       " ('you', \"'d\"),\n",
       " ('there', \"'re\"),\n",
       " ('that', \"'s\"),\n",
       " ('i', \"'ve\"),\n",
       " ('i', \"'ll\"),\n",
       " ('could', \"n't\"),\n",
       " ('i', \"'d\"),\n",
       " ('do', \"n't\"),\n",
       " ('it', \"'s\"),\n",
       " ('i', \"'m\"),\n",
       " ('do', \"n't\"),\n",
       " ('i', \"'m\"),\n",
       " ('do', \"n't\"),\n",
       " ('i', \"'m\"),\n",
       " ('i', \"'d\"),\n",
       " ('i', \"'d\"),\n",
       " ('today', \"'s\"),\n",
       " ('i', \"'d\"),\n",
       " ('it', \"'s\"),\n",
       " ('it', \"'s\"),\n",
       " ('it', \"'s\"),\n",
       " ('it', \"'s\"),\n",
       " ('let', \"'s\"),\n",
       " ('it', \"'s\"),\n",
       " ('it', \"'s\"),\n",
       " ('it', \"'s\"),\n",
       " ('it', \"'s\"),\n",
       " ('that', \"'s\"),\n",
       " ('let', \"'s\"),\n",
       " ('does', \"n't\"),\n",
       " ('let', \"'s\"),\n",
       " ('it', \"'s\"),\n",
       " ('burden', \"'s\"),\n",
       " ('do', \"n't\"),\n",
       " ('that', \"'s\"),\n",
       " ('that', \"'s\"),\n",
       " ('it', \"'s\"),\n",
       " ('it', \"'s\"),\n",
       " ('that', \"'s\"),\n",
       " ('it', \"'s\"),\n",
       " ('let', \"'s\"),\n",
       " ('let', \"'s\"),\n",
       " ('let', \"'s\"),\n",
       " ('do', \"n't\"),\n",
       " ('that', \"'s\"),\n",
       " ('i', \"'m\"),\n",
       " ('that', \"'s\"),\n",
       " ('that', \"'s\"),\n",
       " ('it', \"'s\"),\n",
       " ('it', \"'s\"),\n",
       " ('it', \"'s\"),\n",
       " ('it', \"'s\"),\n",
       " ('it', \"'s\"),\n",
       " ('it', \"'s\"),\n",
       " ('it', \"'s\"),\n",
       " ('it', \"'s\"),\n",
       " ('let', \"'s\"),\n",
       " ('it', \"'s\"),\n",
       " ('it', \"'s\"),\n",
       " ('it', \"'s\"),\n",
       " ('it', \"'s\"),\n",
       " ('it', \"'s\"),\n",
       " ('it', \"'s\"),\n",
       " ('it', \"'s\"),\n",
       " ('it', \"'s\"),\n",
       " ('it', \"'s\"),\n",
       " ('it', \"'s\"),\n",
       " ('did', \"n't\"),\n",
       " ('it', \"'s\"),\n",
       " ...]"
      ]
     },
     "execution_count": 43,
     "metadata": {},
     "output_type": "execute_result"
    }
   ],
   "source": [
    "#[b for b in romance_bigrams if \"'\" in b[1]]\n",
    "[b for b in germanic_bigrams if \"'\" in b[1]]"
   ]
  },
  {
   "cell_type": "markdown",
   "metadata": {},
   "source": [
    "### Common contraction bigrams in each corpus\n",
    "Clearly, contractions occur much more frequently among the BNC's most common bigrams than among VOICE's bigrams. The contractions found in the most common bigrams of VOICE's sub-corpora seem pretty uniform (don't, can't, doesn't, didn't, 'nt know). Also, these bigrams seem to be the most frequent contractions used in the BNC. This could indicate that non-native speakers can confidently use the most commonly-occurring contractions in English, but might struggle to use them in other contexts."
   ]
  },
  {
   "cell_type": "code",
   "execution_count": 44,
   "metadata": {},
   "outputs": [
    {
     "data": {
      "text/plain": [
       "[(('it', \"'s\"), 68661),\n",
       " (('that', \"'s\"), 45150),\n",
       " (('do', \"n't\"), 42215),\n",
       " (('i', \"'m\"), 25963),\n",
       " (('i', \"'ve\"), 18154),\n",
       " (('you', \"'re\"), 17641),\n",
       " (('there', \"'s\"), 16983),\n",
       " (('they', \"'re\"), 15291),\n",
       " (('did', \"n't\"), 14026),\n",
       " (('you', \"'ve\"), 13023),\n",
       " (('ca', \"n't\"), 12895),\n",
       " (('i', \"'ll\"), 12743),\n",
       " (('we', \"'re\"), 10764),\n",
       " (('we', \"'ve\"), 10572),\n",
       " (('she', \"'s\"), 8907),\n",
       " (('is', \"n't\"), 8439),\n",
       " (('what', \"'s\"), 8014),\n",
       " (('does', \"n't\"), 6927),\n",
       " (('i', \"'d\"), 6199),\n",
       " (('would', \"n't\"), 5884),\n",
       " (('they', \"'ve\"), 5852),\n",
       " (('we', \"'ll\"), 5749),\n",
       " (('wo', \"n't\"), 5714),\n",
       " (('was', \"n't\"), 5174),\n",
       " (('you', \"'ll\"), 4178),\n",
       " (('could', \"n't\"), 3949)]"
      ]
     },
     "execution_count": 44,
     "metadata": {},
     "output_type": "execute_result"
    }
   ],
   "source": [
    "#BNC_common_contractions = [b for b in BNC_freq_bigrams if \"'\" in b[0][0] or \"'\" in b[0][1]]\n",
    "BNC_common_contractions = [b for b in BNC_freq_bigrams if \"'\" in b[0][1]]\n",
    "BNC_common_contractions"
   ]
  },
  {
   "cell_type": "code",
   "execution_count": 45,
   "metadata": {},
   "outputs": [
    {
     "data": {
      "text/plain": [
       "[(('it', \"'s\"), 5976),\n",
       " (('that', \"'s\"), 2637),\n",
       " (('do', \"n't\"), 2339),\n",
       " (('i', \"'m\"), 1454),\n",
       " (('you', \"'re\"), 541),\n",
       " (('did', \"n't\"), 455),\n",
       " (('there', \"'s\"), 414),\n",
       " (('we', \"'re\"), 401),\n",
       " (('let', \"'s\"), 355),\n",
       " (('ca', \"n't\"), 344),\n",
       " (('they', \"'re\"), 308),\n",
       " (('does', \"n't\"), 293),\n",
       " (('i', \"'ll\"), 246),\n",
       " (('i', \"'ve\"), 244)]"
      ]
     },
     "execution_count": 45,
     "metadata": {},
     "output_type": "execute_result"
    }
   ],
   "source": [
    "#VOICE_common_contractions = [b for b in VOICE_freq_bigrams if \"'\" in b[0][0] or \"'\" in b[0][1]]\n",
    "VOICE_common_contractions = [b for b in VOICE_freq_bigrams if \"'\" in b[0][1]]\n",
    "VOICE_common_contractions"
   ]
  },
  {
   "cell_type": "code",
   "execution_count": 46,
   "metadata": {},
   "outputs": [
    {
     "data": {
      "text/plain": [
       "[(('it', \"'s\"), 3176),\n",
       " (('that', \"'s\"), 1653),\n",
       " (('do', \"n't\"), 1093),\n",
       " (('i', \"'m\"), 701),\n",
       " (('you', \"'re\"), 348),\n",
       " (('there', \"'s\"), 258),\n",
       " (('we', \"'re\"), 241),\n",
       " (('did', \"n't\"), 210),\n",
       " (('ca', \"n't\"), 177),\n",
       " (('let', \"'s\"), 163),\n",
       " (('they', \"'re\"), 162),\n",
       " (('i', \"'ve\"), 156),\n",
       " (('does', \"n't\"), 135),\n",
       " (('i', \"'ll\"), 132)]"
      ]
     },
     "execution_count": 46,
     "metadata": {},
     "output_type": "execute_result"
    }
   ],
   "source": [
    "#germanic_common_contractions = [b for b in germanic_freq_bigrams if \"'\" in b[0][0] or \"'\" in b[0][1]]\n",
    "germanic_common_contractions = [b for b in germanic_freq_bigrams if \"'\" in b[0][1]]\n",
    "germanic_common_contractions"
   ]
  },
  {
   "cell_type": "code",
   "execution_count": 47,
   "metadata": {},
   "outputs": [
    {
     "data": {
      "text/plain": [
       "[(('it', \"'s\"), 953),\n",
       " (('do', \"n't\"), 438),\n",
       " (('that', \"'s\"), 301),\n",
       " (('i', \"'m\"), 265),\n",
       " (('did', \"n't\"), 97),\n",
       " (('you', \"'re\"), 72),\n",
       " (('ca', \"n't\"), 60),\n",
       " (('let', \"'s\"), 57),\n",
       " (('we', \"'re\"), 54),\n",
       " (('does', \"n't\"), 46)]"
      ]
     },
     "execution_count": 47,
     "metadata": {},
     "output_type": "execute_result"
    }
   ],
   "source": [
    "#romance_common_contractions = [b for b in romance_freq_bigrams if \"'\" in b[0][0] or \"'\" in b[0][1]]\n",
    "romance_common_contractions = [b for b in romance_freq_bigrams if \"'\" in b[0][1]]\n",
    "romance_common_contractions"
   ]
  },
  {
   "cell_type": "code",
   "execution_count": 48,
   "metadata": {},
   "outputs": [
    {
     "data": {
      "text/plain": [
       "[(('it', \"'s\"), 567),\n",
       " (('do', \"n't\"), 248),\n",
       " (('that', \"'s\"), 196),\n",
       " (('i', \"'m\"), 150),\n",
       " (('let', \"'s\"), 70),\n",
       " (('did', \"n't\"), 44),\n",
       " (('you', \"'re\"), 35),\n",
       " (('does', \"n't\"), 31),\n",
       " (('ca', \"n't\"), 31),\n",
       " (('we', \"'re\"), 28)]"
      ]
     },
     "execution_count": 48,
     "metadata": {},
     "output_type": "execute_result"
    }
   ],
   "source": [
    "#slavic_common_contractions = [b for b in slavic_freq_bigrams if \"'\" in b[0][0] or \"'\" in b[0][1]]\n",
    "slavic_common_contractions = [b for b in slavic_freq_bigrams if \"'\" in b[0][1]]\n",
    "slavic_common_contractions"
   ]
  },
  {
   "cell_type": "code",
   "execution_count": 49,
   "metadata": {},
   "outputs": [
    {
     "data": {
      "text/plain": [
       "30"
      ]
     },
     "execution_count": 49,
     "metadata": {},
     "output_type": "execute_result"
    }
   ],
   "source": [
    "VOICE_not_BNC = uncommon_bigrams(BNC_freq_bigrams, VOICE_freq_bigrams)\n",
    "len(VOICE_not_BNC)"
   ]
  },
  {
   "cell_type": "code",
   "execution_count": 50,
   "metadata": {
    "collapsed": true
   },
   "outputs": [],
   "source": [
    "#contractions = [b for b in BNC_not_VOICE if \"'\" in b[0] or \"'\" in b[1]]\n",
    "contractions = [b for b in BNC_not_VOICE if \"'\" in b[1]]"
   ]
  },
  {
   "cell_type": "code",
   "execution_count": 51,
   "metadata": {},
   "outputs": [
    {
     "data": {
      "text/plain": [
       "13"
      ]
     },
     "execution_count": 51,
     "metadata": {},
     "output_type": "execute_result"
    },
    {
     "data": {
      "text/plain": [
       "0.17105263157894737"
      ]
     },
     "execution_count": 51,
     "metadata": {},
     "output_type": "execute_result"
    },
    {
     "data": {
      "text/plain": [
       "[('you', \"'ve\"),\n",
       " ('we', \"'ve\"),\n",
       " ('she', \"'s\"),\n",
       " ('is', \"n't\"),\n",
       " ('what', \"'s\"),\n",
       " ('i', \"'d\"),\n",
       " ('would', \"n't\"),\n",
       " ('they', \"'ve\"),\n",
       " ('we', \"'ll\"),\n",
       " ('wo', \"n't\"),\n",
       " ('was', \"n't\"),\n",
       " ('you', \"'ll\"),\n",
       " ('could', \"n't\")]"
      ]
     },
     "execution_count": 51,
     "metadata": {},
     "output_type": "execute_result"
    }
   ],
   "source": [
    "#Close to 20% of the common BNC bigrams not found in the common VOICE bigrams are contractions. Is this true for the sub groups, too?\n",
    "len(contractions)\n",
    "len(contractions)/len(BNC_not_VOICE)\n",
    "contractions"
   ]
  },
  {
   "cell_type": "code",
   "execution_count": 52,
   "metadata": {},
   "outputs": [
    {
     "data": {
      "text/plain": [
       "18"
      ]
     },
     "execution_count": 52,
     "metadata": {},
     "output_type": "execute_result"
    },
    {
     "data": {
      "text/plain": [
       "0.15384615384615385"
      ]
     },
     "execution_count": 52,
     "metadata": {},
     "output_type": "execute_result"
    },
    {
     "data": {
      "text/plain": [
       "[('he', \"'s\"),\n",
       " ('you', \"'ve\"),\n",
       " ('i', \"'ll\"),\n",
       " ('we', \"'ve\"),\n",
       " ('she', \"'s\"),\n",
       " ('is', \"n't\"),\n",
       " ('what', \"'s\"),\n",
       " ('have', \"n't\"),\n",
       " ('does', \"n't\"),\n",
       " ('i', \"'d\"),\n",
       " ('would', \"n't\"),\n",
       " ('they', \"'ve\"),\n",
       " ('we', \"'ll\"),\n",
       " ('wo', \"n't\"),\n",
       " ('was', \"n't\"),\n",
       " ('you', \"'ll\"),\n",
       " ('could', \"n't\"),\n",
       " ('you', \"'d\")]"
      ]
     },
     "execution_count": 52,
     "metadata": {},
     "output_type": "execute_result"
    }
   ],
   "source": [
    "#contractions = [b for b in BNC_not_germanic if \"'\" in b[0] or \"'\" in b[1]]\n",
    "contractions = [b for b in BNC_not_germanic if \"'\" in b[1]]\n",
    "len(contractions)\n",
    "len(contractions)/len(BNC_not_germanic)\n",
    "contractions"
   ]
  },
  {
   "cell_type": "code",
   "execution_count": 53,
   "metadata": {},
   "outputs": [
    {
     "data": {
      "text/plain": [
       "21"
      ]
     },
     "execution_count": 53,
     "metadata": {},
     "output_type": "execute_result"
    },
    {
     "data": {
      "text/plain": [
       "0.1510791366906475"
      ]
     },
     "execution_count": 53,
     "metadata": {},
     "output_type": "execute_result"
    },
    {
     "data": {
      "text/plain": [
       "[('i', \"'ve\"),\n",
       " ('there', \"'s\"),\n",
       " ('they', \"'re\"),\n",
       " ('he', \"'s\"),\n",
       " ('you', \"'ve\"),\n",
       " ('i', \"'ll\"),\n",
       " ('we', \"'ve\"),\n",
       " ('she', \"'s\"),\n",
       " ('is', \"n't\"),\n",
       " ('what', \"'s\"),\n",
       " ('have', \"n't\"),\n",
       " ('does', \"n't\"),\n",
       " ('i', \"'d\"),\n",
       " ('would', \"n't\"),\n",
       " ('they', \"'ve\"),\n",
       " ('we', \"'ll\"),\n",
       " ('wo', \"n't\"),\n",
       " ('was', \"n't\"),\n",
       " ('you', \"'ll\"),\n",
       " ('could', \"n't\"),\n",
       " ('you', \"'d\")]"
      ]
     },
     "execution_count": 53,
     "metadata": {},
     "output_type": "execute_result"
    }
   ],
   "source": [
    "#contractions = [b for b in BNC_not_romance if \"'\" in b[0] or \"'\" in b[1]]\n",
    "contractions = [b for b in BNC_not_romance if \"'\" in b[1]]\n",
    "len(contractions)\n",
    "len(contractions)/len(BNC_not_romance)\n",
    "contractions"
   ]
  },
  {
   "cell_type": "code",
   "execution_count": 54,
   "metadata": {},
   "outputs": [
    {
     "data": {
      "text/plain": [
       "21"
      ]
     },
     "execution_count": 54,
     "metadata": {},
     "output_type": "execute_result"
    },
    {
     "data": {
      "text/plain": [
       "0.16030534351145037"
      ]
     },
     "execution_count": 54,
     "metadata": {},
     "output_type": "execute_result"
    },
    {
     "data": {
      "text/plain": [
       "[('i', \"'ve\"),\n",
       " ('there', \"'s\"),\n",
       " ('they', \"'re\"),\n",
       " ('he', \"'s\"),\n",
       " ('you', \"'ve\"),\n",
       " ('i', \"'ll\"),\n",
       " ('we', \"'re\"),\n",
       " ('we', \"'ve\"),\n",
       " ('she', \"'s\"),\n",
       " ('is', \"n't\"),\n",
       " ('what', \"'s\"),\n",
       " ('have', \"n't\"),\n",
       " ('i', \"'d\"),\n",
       " ('would', \"n't\"),\n",
       " ('they', \"'ve\"),\n",
       " ('we', \"'ll\"),\n",
       " ('wo', \"n't\"),\n",
       " ('was', \"n't\"),\n",
       " ('you', \"'ll\"),\n",
       " ('could', \"n't\"),\n",
       " ('you', \"'d\")]"
      ]
     },
     "execution_count": 54,
     "metadata": {},
     "output_type": "execute_result"
    }
   ],
   "source": [
    "#contractions = [b for b in BNC_not_slavic if \"'\" in b[0] or \"'\" in b[1]]\n",
    "contractions = [b for b in BNC_not_slavic if \"'\" in b[1]]\n",
    "len(contractions)\n",
    "len(contractions)/len(BNC_not_slavic)\n",
    "contractions"
   ]
  },
  {
   "cell_type": "code",
   "execution_count": null,
   "metadata": {
    "collapsed": true
   },
   "outputs": [],
   "source": []
  },
  {
   "cell_type": "code",
   "execution_count": null,
   "metadata": {
    "collapsed": true
   },
   "outputs": [],
   "source": []
  },
  {
   "cell_type": "code",
   "execution_count": null,
   "metadata": {
    "collapsed": true
   },
   "outputs": [],
   "source": []
  },
  {
   "cell_type": "code",
   "execution_count": 55,
   "metadata": {
    "collapsed": true
   },
   "outputs": [],
   "source": [
    "BNC_contractions = [b for b in BNC_bigrams if \"'\" in b[1]]"
   ]
  },
  {
   "cell_type": "code",
   "execution_count": 56,
   "metadata": {
    "collapsed": true
   },
   "outputs": [],
   "source": [
    "germanic_contractions = [b for b in germanic_bigrams if \"'\" in b[1]]"
   ]
  },
  {
   "cell_type": "code",
   "execution_count": 57,
   "metadata": {
    "collapsed": true
   },
   "outputs": [],
   "source": [
    "romance_contractions = [b for b in romance_bigrams if \"'\" in b[1]]"
   ]
  },
  {
   "cell_type": "code",
   "execution_count": 58,
   "metadata": {
    "collapsed": true
   },
   "outputs": [],
   "source": [
    "slavic_contractions = [b for b in slavic_bigrams if \"'\" in b[1]]"
   ]
  },
  {
   "cell_type": "code",
   "execution_count": 59,
   "metadata": {
    "collapsed": true
   },
   "outputs": [],
   "source": [
    "BNC_contractions_frequencies = nltk.FreqDist(BNC_contractions)"
   ]
  },
  {
   "cell_type": "code",
   "execution_count": 60,
   "metadata": {
    "collapsed": true
   },
   "outputs": [],
   "source": [
    "germanic_contractions_frequencies = nltk.FreqDist(germanic_contractions)"
   ]
  },
  {
   "cell_type": "code",
   "execution_count": 61,
   "metadata": {
    "collapsed": true
   },
   "outputs": [],
   "source": [
    "romance_contractions_frequencies = nltk.FreqDist(romance_contractions)"
   ]
  },
  {
   "cell_type": "code",
   "execution_count": 62,
   "metadata": {
    "collapsed": true
   },
   "outputs": [],
   "source": [
    "slavic_contractions_frequencies = nltk.FreqDist(slavic_contractions)"
   ]
  },
  {
   "cell_type": "code",
   "execution_count": 63,
   "metadata": {
    "collapsed": true
   },
   "outputs": [],
   "source": [
    "contractions_df = pd.DataFrame(index = [b[0] for b in BNC_common_contractions[:15]], columns = ['English(BNC)', 'Germanic(VOICE)', 'Romance(VOICE)', 'Slavic(VOICE)'])"
   ]
  },
  {
   "cell_type": "code",
   "execution_count": 64,
   "metadata": {
    "collapsed": true
   },
   "outputs": [],
   "source": [
    "for bigram in BNC_common_contractions[:15]:\n",
    "    bigram = bigram[0]\n",
    "    contractions_df['English(BNC)'][bigram] = BNC_contractions_frequencies[bigram]/len(BNC_bigrams)\n",
    "    contractions_df['Germanic(VOICE)'][bigram] = germanic_contractions_frequencies[bigram]/len(germanic_bigrams)\n",
    "    contractions_df['Romance(VOICE)'][bigram] = romance_contractions_frequencies[bigram]/len(romance_bigrams)\n",
    "    contractions_df['Slavic(VOICE)'][bigram] = slavic_contractions_frequencies[bigram]/len(slavic_bigrams)"
   ]
  },
  {
   "cell_type": "code",
   "execution_count": 65,
   "metadata": {
    "scrolled": false
   },
   "outputs": [
    {
     "data": {
      "text/plain": [
       "<matplotlib.axes._subplots.AxesSubplot at 0x1888f4978>"
      ]
     },
     "execution_count": 65,
     "metadata": {},
     "output_type": "execute_result"
    },
    {
     "data": {
      "text/plain": [
       "<matplotlib.legend.Legend at 0x18327dd30>"
      ]
     },
     "execution_count": 65,
     "metadata": {},
     "output_type": "execute_result"
    },
    {
     "data": {
      "text/plain": [
       "<matplotlib.text.Text at 0x18896aba8>"
      ]
     },
     "execution_count": 65,
     "metadata": {},
     "output_type": "execute_result"
    },
    {
     "data": {
      "text/plain": [
       "<matplotlib.text.Text at 0x18895b470>"
      ]
     },
     "execution_count": 65,
     "metadata": {},
     "output_type": "execute_result"
    },
    {
     "data": {
      "image/png": "[encoded data removed]",
      "text/plain": [
       "<matplotlib.figure.Figure at 0x1888caac8>"
      ]
     },
     "metadata": {},
     "output_type": "display_data"
    }
   ],
   "source": [
    "contractions_df.plot(kind='bar', figsize=(20,10))\n",
    "plt.tick_params(axis = 'both', reset=True, labelsize=15)\n",
    "plt.legend(prop={'size':20})\n",
    "plt.xlabel(\"Bigrams\", fontsize= 20, labelpad = 20)\n",
    "plt.ylabel(\"Frequency (percent)\", fontsize= 20, labelpad = 20)\n",
    "plt.show()"
   ]
  },
  {
   "cell_type": "code",
   "execution_count": 66,
   "metadata": {},
   "outputs": [
    {
     "data": {
      "text/plain": [
       "3"
      ]
     },
     "execution_count": 66,
     "metadata": {},
     "output_type": "execute_result"
    }
   ],
   "source": [
    "BNC_contractions_frequencies[('why', \"'re\")]"
   ]
  },
  {
   "cell_type": "code",
   "execution_count": 93,
   "metadata": {},
   "outputs": [
    {
     "name": "stdout",
     "output_type": "stream",
     "text": [
      "(\"'tis\", \"n't\")\n"
     ]
    }
   ],
   "source": [
    "for b in BNC_contractions_frequencies.keys():\n",
    "    if b[0] == \"'tis\":\n",
    "    #if b[0] == \"'twas\":\n",
    "        print(b)"
   ]
  },
  {
   "cell_type": "code",
   "execution_count": 68,
   "metadata": {},
   "outputs": [
    {
     "data": {
      "text/plain": [
       "0"
      ]
     },
     "execution_count": 68,
     "metadata": {},
     "output_type": "execute_result"
    }
   ],
   "source": [
    "BNC_contractions_frequencies[('mustn', \"'t\")]"
   ]
  },
  {
   "cell_type": "code",
   "execution_count": 89,
   "metadata": {},
   "outputs": [
    {
     "data": {
      "text/plain": [
       "148"
      ]
     },
     "execution_count": 89,
     "metadata": {},
     "output_type": "execute_result"
    }
   ],
   "source": [
    "BNC_contractions_frequencies[('sha', \"n't\")]"
   ]
  },
  {
   "cell_type": "code",
   "execution_count": 69,
   "metadata": {},
   "outputs": [
    {
     "data": {
      "text/plain": [
       "12895"
      ]
     },
     "execution_count": 69,
     "metadata": {},
     "output_type": "execute_result"
    }
   ],
   "source": [
    "BNC_contractions_frequencies[('ca', \"n't\")]"
   ]
  },
  {
   "cell_type": "code",
   "execution_count": 70,
   "metadata": {},
   "outputs": [
    {
     "data": {
      "text/plain": [
       "2281"
      ]
     },
     "execution_count": 70,
     "metadata": {},
     "output_type": "execute_result"
    }
   ],
   "source": [
    "BNC_contractions_frequencies[('ai', \"n't\")]"
   ]
  },
  {
   "cell_type": "code",
   "execution_count": 71,
   "metadata": {},
   "outputs": [
    {
     "data": {
      "text/plain": [
       "8"
      ]
     },
     "execution_count": 71,
     "metadata": {},
     "output_type": "execute_result"
    }
   ],
   "source": [
    "germanic_contractions_frequencies[('ai', \"n't\")]"
   ]
  },
  {
   "cell_type": "code",
   "execution_count": 72,
   "metadata": {},
   "outputs": [
    {
     "data": {
      "text/plain": [
       "1"
      ]
     },
     "execution_count": 72,
     "metadata": {},
     "output_type": "execute_result"
    }
   ],
   "source": [
    "romance_contractions_frequencies[('ai', \"n't\")]"
   ]
  },
  {
   "cell_type": "code",
   "execution_count": 73,
   "metadata": {},
   "outputs": [
    {
     "data": {
      "text/plain": [
       "148"
      ]
     },
     "execution_count": 73,
     "metadata": {},
     "output_type": "execute_result"
    }
   ],
   "source": [
    "BNC_contractions_frequencies[('sha', \"n't\")]"
   ]
  },
  {
   "cell_type": "code",
   "execution_count": 86,
   "metadata": {},
   "outputs": [
    {
     "data": {
      "text/plain": [
       "0"
      ]
     },
     "execution_count": 86,
     "metadata": {},
     "output_type": "execute_result"
    }
   ],
   "source": [
    "BNC_contractions_frequencies[(\"'tis\", \"the\")]"
   ]
  },
  {
   "cell_type": "code",
   "execution_count": 74,
   "metadata": {},
   "outputs": [
    {
     "data": {
      "text/plain": [
       "1253"
      ]
     },
     "execution_count": 74,
     "metadata": {},
     "output_type": "execute_result"
    }
   ],
   "source": [
    "len(participants.keys())"
   ]
  },
  {
   "cell_type": "code",
   "execution_count": 99,
   "metadata": {},
   "outputs": [
    {
     "data": {
      "text/plain": [
       "[]"
      ]
     },
     "execution_count": 99,
     "metadata": {},
     "output_type": "execute_result"
    }
   ],
   "source": [
    "[b for b in BNC_bigrams if b[0] == \"y'all\"]"
   ]
  },
  {
   "cell_type": "markdown",
   "metadata": {},
   "source": [
    "# Additional stuff(For presentation)"
   ]
  },
  {
   "cell_type": "code",
   "execution_count": 75,
   "metadata": {
    "collapsed": true
   },
   "outputs": [],
   "source": [
    "BNC_bigrams = [b for b in BNC_bigrams if b not in BNC_contractions_frequencies.keys()]\n",
    "BNC_bigrams = [b for b in BNC_bigrams if \"'\" not in b[0]]\n",
    "BNC_freq_bigrams = frequent_bigrams(BNC_bigrams, .2)\n",
    "BNC_freq_bigrams = nltk.FreqDist(BNC_bigrams)"
   ]
  },
  {
   "cell_type": "code",
   "execution_count": 76,
   "metadata": {
    "collapsed": true
   },
   "outputs": [],
   "source": [
    "germanic_bigrams = [b for b in germanic_bigrams if b not in germanic_contractions_frequencies.keys()]\n",
    "germanic_bigrams = [b for b in germanic_bigrams if \"'\" not in b[0]]\n",
    "germanic_freq_bigrams = frequent_bigrams(germanic_bigrams, .2)\n",
    "germanic_freq_bigrams = nltk.FreqDist(germanic_bigrams)"
   ]
  },
  {
   "cell_type": "code",
   "execution_count": 77,
   "metadata": {
    "collapsed": true
   },
   "outputs": [],
   "source": [
    "romance_bigrams = [b for b in romance_bigrams if b not in romance_contractions_frequencies.keys()]\n",
    "romance_bigrams = [b for b in romance_bigrams if \"'\" not in b[0]]\n",
    "romance_freq_bigrams = frequent_bigrams(romance_bigrams, .2)\n",
    "romance_freq_bigrams = nltk.FreqDist(romance_bigrams)"
   ]
  },
  {
   "cell_type": "code",
   "execution_count": 78,
   "metadata": {
    "collapsed": true
   },
   "outputs": [],
   "source": [
    "slavic_bigrams = [b for b in slavic_bigrams if b not in slavic_contractions_frequencies.keys()]\n",
    "slavic_bigrams = [b for b in slavic_bigrams if \"'\" not in b[0]]\n",
    "slavic_freq_bigrams = frequent_bigrams(slavic_bigrams, .2)\n",
    "slavic_freq_bigrams = nltk.FreqDist(slavic_bigrams)"
   ]
  },
  {
   "cell_type": "code",
   "execution_count": 79,
   "metadata": {
    "collapsed": true
   },
   "outputs": [],
   "source": [
    "BNC_top_20 = BNC_freq_bigrams.most_common(20)\n",
    "BNC_top_20 = [b[0] for b in BNC_top_20]"
   ]
  },
  {
   "cell_type": "code",
   "execution_count": 80,
   "metadata": {
    "collapsed": true
   },
   "outputs": [],
   "source": [
    "bigrams_df = pd.DataFrame(index = BNC_top_20, columns = ['English(BNC)', 'Germanic(VOICE)', 'Romance(VOICE)', 'Slavic(VOICE)'])"
   ]
  },
  {
   "cell_type": "code",
   "execution_count": 81,
   "metadata": {
    "collapsed": true
   },
   "outputs": [],
   "source": [
    "for bigram in BNC_top_20:\n",
    "    bigrams_df['English(BNC)'][bigram] = BNC_freq_bigrams[bigram]/len(BNC_bigrams)\n",
    "    bigrams_df['Germanic(VOICE)'][bigram] = germanic_freq_bigrams[bigram]/len(germanic_bigrams)\n",
    "    bigrams_df['Romance(VOICE)'][bigram] = romance_freq_bigrams[bigram]/len(romance_bigrams)\n",
    "    bigrams_df['Slavic(VOICE)'][bigram] = slavic_freq_bigrams[bigram]/len(slavic_bigrams)"
   ]
  },
  {
   "cell_type": "code",
   "execution_count": 82,
   "metadata": {},
   "outputs": [
    {
     "data": {
      "text/html": [
       "<div>\n",
       "<style>\n",
       "    .dataframe thead tr:only-child th {\n",
       "        text-align: right;\n",
       "    }\n",
       "\n",
       "    .dataframe thead th {\n",
       "        text-align: left;\n",
       "    }\n",
       "\n",
       "    .dataframe tbody tr th {\n",
       "        vertical-align: top;\n",
       "    }\n",
       "</style>\n",
       "<table border=\"1\" class=\"dataframe\">\n",
       "  <thead>\n",
       "    <tr style=\"text-align: right;\">\n",
       "      <th></th>\n",
       "      <th>English(BNC)</th>\n",
       "      <th>Germanic(VOICE)</th>\n",
       "      <th>Romance(VOICE)</th>\n",
       "      <th>Slavic(VOICE)</th>\n",
       "    </tr>\n",
       "  </thead>\n",
       "  <tbody>\n",
       "    <tr>\n",
       "      <th>(in, the)</th>\n",
       "      <td>0.00480445</td>\n",
       "      <td>0.00493592</td>\n",
       "      <td>0.00637274</td>\n",
       "      <td>0.00407019</td>\n",
       "    </tr>\n",
       "    <tr>\n",
       "      <th>(of, the)</th>\n",
       "      <td>0.00471456</td>\n",
       "      <td>0.00448543</td>\n",
       "      <td>0.0049808</td>\n",
       "      <td>0.00469064</td>\n",
       "    </tr>\n",
       "    <tr>\n",
       "      <th>(you, know)</th>\n",
       "      <td>0.00418012</td>\n",
       "      <td>0.00338587</td>\n",
       "      <td>0.00481309</td>\n",
       "      <td>0.00287891</td>\n",
       "    </tr>\n",
       "    <tr>\n",
       "      <th>(i, think)</th>\n",
       "      <td>0.00350413</td>\n",
       "      <td>0.00564797</td>\n",
       "      <td>0.00613795</td>\n",
       "      <td>0.00583228</td>\n",
       "    </tr>\n",
       "    <tr>\n",
       "      <th>(i, do)</th>\n",
       "      <td>0.00292399</td>\n",
       "      <td>0.00271742</td>\n",
       "      <td>0.00404166</td>\n",
       "      <td>0.00369791</td>\n",
       "    </tr>\n",
       "    <tr>\n",
       "      <th>(on, the)</th>\n",
       "      <td>0.00278937</td>\n",
       "      <td>0.00268835</td>\n",
       "      <td>0.00236462</td>\n",
       "      <td>0.00302782</td>\n",
       "    </tr>\n",
       "    <tr>\n",
       "      <th>(and, i)</th>\n",
       "      <td>0.00276808</td>\n",
       "      <td>0.00204412</td>\n",
       "      <td>0.00231431</td>\n",
       "      <td>0.00225846</td>\n",
       "    </tr>\n",
       "    <tr>\n",
       "      <th>(i, mean)</th>\n",
       "      <td>0.00276117</td>\n",
       "      <td>0.00348275</td>\n",
       "      <td>0.00224723</td>\n",
       "      <td>0.004368</td>\n",
       "    </tr>\n",
       "    <tr>\n",
       "      <th>(it, was)</th>\n",
       "      <td>0.00257678</td>\n",
       "      <td>0.00191818</td>\n",
       "      <td>0.00251555</td>\n",
       "      <td>0.00268037</td>\n",
       "    </tr>\n",
       "    <tr>\n",
       "      <th>(if, you)</th>\n",
       "      <td>0.00236989</td>\n",
       "      <td>0.00306133</td>\n",
       "      <td>0.00248201</td>\n",
       "      <td>0.00205991</td>\n",
       "    </tr>\n",
       "    <tr>\n",
       "      <th>(to, the)</th>\n",
       "      <td>0.00236704</td>\n",
       "      <td>0.00260601</td>\n",
       "      <td>0.00249878</td>\n",
       "      <td>0.00141464</td>\n",
       "    </tr>\n",
       "    <tr>\n",
       "      <th>(to, be)</th>\n",
       "      <td>0.002179</td>\n",
       "      <td>0.00201021</td>\n",
       "      <td>0.00251555</td>\n",
       "      <td>0.00181173</td>\n",
       "    </tr>\n",
       "    <tr>\n",
       "      <th>(at, the)</th>\n",
       "      <td>0.00191666</td>\n",
       "      <td>0.00164692</td>\n",
       "      <td>0.00166027</td>\n",
       "      <td>0.00181173</td>\n",
       "    </tr>\n",
       "    <tr>\n",
       "      <th>(do, you)</th>\n",
       "      <td>0.00189673</td>\n",
       "      <td>0.00204896</td>\n",
       "      <td>0.00145902</td>\n",
       "      <td>0.001911</td>\n",
       "    </tr>\n",
       "    <tr>\n",
       "      <th>(and, the)</th>\n",
       "      <td>0.0018894</td>\n",
       "      <td>0.00186489</td>\n",
       "      <td>0.00179443</td>\n",
       "      <td>0.00161318</td>\n",
       "    </tr>\n",
       "    <tr>\n",
       "      <th>(gon, na)</th>\n",
       "      <td>0.0016154</td>\n",
       "      <td>0.000852523</td>\n",
       "      <td>0.0009056</td>\n",
       "      <td>0.000322637</td>\n",
       "    </tr>\n",
       "    <tr>\n",
       "      <th>(sort, of)</th>\n",
       "      <td>0.0016051</td>\n",
       "      <td>0.00165661</td>\n",
       "      <td>0.000301867</td>\n",
       "      <td>0.000248182</td>\n",
       "    </tr>\n",
       "    <tr>\n",
       "      <th>(and, then)</th>\n",
       "      <td>0.001599</td>\n",
       "      <td>0.00315337</td>\n",
       "      <td>0.00246524</td>\n",
       "      <td>0.00277964</td>\n",
       "    </tr>\n",
       "    <tr>\n",
       "      <th>(to, do)</th>\n",
       "      <td>0.00155914</td>\n",
       "      <td>0.00121097</td>\n",
       "      <td>0.00162673</td>\n",
       "      <td>0.00114164</td>\n",
       "    </tr>\n",
       "    <tr>\n",
       "      <th>(going, to)</th>\n",
       "      <td>0.00154016</td>\n",
       "      <td>0.00110925</td>\n",
       "      <td>0.000754666</td>\n",
       "      <td>0.00156355</td>\n",
       "    </tr>\n",
       "  </tbody>\n",
       "</table>\n",
       "</div>"
      ],
      "text/plain": [
       "            English(BNC) Germanic(VOICE) Romance(VOICE) Slavic(VOICE)\n",
       "(in, the)     0.00480445      0.00493592     0.00637274    0.00407019\n",
       "(of, the)     0.00471456      0.00448543      0.0049808    0.00469064\n",
       "(you, know)   0.00418012      0.00338587     0.00481309    0.00287891\n",
       "(i, think)    0.00350413      0.00564797     0.00613795    0.00583228\n",
       "(i, do)       0.00292399      0.00271742     0.00404166    0.00369791\n",
       "(on, the)     0.00278937      0.00268835     0.00236462    0.00302782\n",
       "(and, i)      0.00276808      0.00204412     0.00231431    0.00225846\n",
       "(i, mean)     0.00276117      0.00348275     0.00224723      0.004368\n",
       "(it, was)     0.00257678      0.00191818     0.00251555    0.00268037\n",
       "(if, you)     0.00236989      0.00306133     0.00248201    0.00205991\n",
       "(to, the)     0.00236704      0.00260601     0.00249878    0.00141464\n",
       "(to, be)        0.002179      0.00201021     0.00251555    0.00181173\n",
       "(at, the)     0.00191666      0.00164692     0.00166027    0.00181173\n",
       "(do, you)     0.00189673      0.00204896     0.00145902      0.001911\n",
       "(and, the)     0.0018894      0.00186489     0.00179443    0.00161318\n",
       "(gon, na)      0.0016154     0.000852523      0.0009056   0.000322637\n",
       "(sort, of)     0.0016051      0.00165661    0.000301867   0.000248182\n",
       "(and, then)     0.001599      0.00315337     0.00246524    0.00277964\n",
       "(to, do)      0.00155914      0.00121097     0.00162673    0.00114164\n",
       "(going, to)   0.00154016      0.00110925    0.000754666    0.00156355"
      ]
     },
     "execution_count": 82,
     "metadata": {},
     "output_type": "execute_result"
    }
   ],
   "source": [
    "bigrams_df"
   ]
  },
  {
   "cell_type": "code",
   "execution_count": 83,
   "metadata": {},
   "outputs": [
    {
     "data": {
      "text/plain": [
       "<matplotlib.axes._subplots.AxesSubplot at 0x17ee73320>"
      ]
     },
     "execution_count": 83,
     "metadata": {},
     "output_type": "execute_result"
    },
    {
     "data": {
      "text/plain": [
       "<matplotlib.legend.Legend at 0x17f1f4c50>"
      ]
     },
     "execution_count": 83,
     "metadata": {},
     "output_type": "execute_result"
    },
    {
     "data": {
      "text/plain": [
       "<matplotlib.text.Text at 0x1888a07f0>"
      ]
     },
     "execution_count": 83,
     "metadata": {},
     "output_type": "execute_result"
    },
    {
     "data": {
      "text/plain": [
       "<matplotlib.text.Text at 0x183495eb8>"
      ]
     },
     "execution_count": 83,
     "metadata": {},
     "output_type": "execute_result"
    },
    {
     "data": {
      "image/png": "[encoded data removed]",
      "text/plain": [
       "<matplotlib.figure.Figure at 0x188951198>"
      ]
     },
     "metadata": {},
     "output_type": "display_data"
    }
   ],
   "source": [
    "bigrams_df.plot(kind='bar', figsize=(20,10))\n",
    "plt.tick_params(axis = 'both', reset=True, labelsize=15)\n",
    "plt.legend(prop={'size':20})\n",
    "plt.xlabel(\"Bigrams\", fontsize= 20, labelpad = 20)\n",
    "plt.ylabel(\"Frequency (percent)\", fontsize= 20, labelpad = 20)\n",
    "plt.show()"
   ]
  },
  {
   "cell_type": "code",
   "execution_count": null,
   "metadata": {
    "collapsed": true
   },
   "outputs": [],
   "source": []
  },
  {
   "cell_type": "code",
   "execution_count": null,
   "metadata": {
    "collapsed": true
   },
   "outputs": [],
   "source": []
  },
  {
   "cell_type": "code",
   "execution_count": null,
   "metadata": {
    "collapsed": true
   },
   "outputs": [],
   "source": []
  },
  {
   "cell_type": "code",
   "execution_count": null,
   "metadata": {
    "collapsed": true
   },
   "outputs": [],
   "source": []
  }
 ],
 "metadata": {
  "kernelspec": {
   "display_name": "Python 3",
   "language": "python",
   "name": "python3"
  },
  "language_info": {
   "codemirror_mode": {
    "name": "ipython",
    "version": 3
   },
   "file_extension": ".py",
   "mimetype": "text/x-python",
   "name": "python",
   "nbconvert_exporter": "python",
   "pygments_lexer": "ipython3",
   "version": "3.6.1"
  }
 },
 "nbformat": 4,
 "nbformat_minor": 2
}
