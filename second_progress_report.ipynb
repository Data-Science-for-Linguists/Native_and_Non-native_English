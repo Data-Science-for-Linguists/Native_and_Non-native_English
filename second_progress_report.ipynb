{
 "cells": [
  {
   "cell_type": "markdown",
   "metadata": {},
   "source": [
    "Katherine Kairis, kak275@pitt.edu, 11/2/2017"
   ]
  },
  {
   "cell_type": "markdown",
   "metadata": {},
   "source": [
    "NEW CONTINUING -- This file, in addition to BNC_data and VOICE_data, continues upon the first progress report"
   ]
  },
  {
   "cell_type": "code",
   "execution_count": 22,
   "metadata": {},
   "outputs": [
    {
     "name": "stdout",
     "output_type": "stream",
     "text": [
      "Pretty printing has been turned OFF\n"
     ]
    }
   ],
   "source": [
    "import pickle\n",
    "import nltk"
   ]
  },
  {
   "cell_type": "markdown",
   "metadata": {},
   "source": [
    "# Getting Data\n",
    "Open the pickle files created in BNC_data and VOICE_data."
   ]
  },
  {
   "cell_type": "code",
   "execution_count": 2,
   "metadata": {
    "collapsed": true
   },
   "outputs": [],
   "source": [
    "f = open('VOICE_tokenized.p', 'rb')\n",
    "VOICE_toks = pickle.load(f)\n",
    "f.close()"
   ]
  },
  {
   "cell_type": "code",
   "execution_count": 3,
   "metadata": {
    "collapsed": true
   },
   "outputs": [],
   "source": [
    "f = open('VOICE_tagged.p', 'rb')\n",
    "VOICE_tags = pickle.load(f)\n",
    "f.close()"
   ]
  },
  {
   "cell_type": "code",
   "execution_count": 4,
   "metadata": {
    "collapsed": true
   },
   "outputs": [],
   "source": [
    "f = open('BNC_tokenized.p', 'rb')\n",
    "BNC_toks = pickle.load(f)\n",
    "f.close()"
   ]
  },
  {
   "cell_type": "code",
   "execution_count": 5,
   "metadata": {
    "collapsed": true
   },
   "outputs": [],
   "source": [
    "f = open('BNC_tagged.p', 'rb')\n",
    "BNC_tags = pickle.load(f)\n",
    "f.close()"
   ]
  },
  {
   "cell_type": "markdown",
   "metadata": {},
   "source": [
    "# Comparing the Two Data Sets"
   ]
  },
  {
   "cell_type": "markdown",
   "metadata": {},
   "source": [
    "## Comparing Utterance Lengths\n",
    "On average, the utterances in the BNC corpus are longer than those in VOICE. The average utterance length in the BNC is 10.028 and the average utterance length in VOICE is 8.583."
   ]
  },
  {
   "cell_type": "code",
   "execution_count": 6,
   "metadata": {
    "collapsed": true
   },
   "outputs": [],
   "source": [
    "#Return a list of integers, which correspond to the number of words in the utterance\n",
    "def utterance_lengths(dictionary):\n",
    "    lengths = []\n",
    "    for file in dictionary:\n",
    "        for key in dictionary[file]:\n",
    "            l = len(dictionary[file][key])\n",
    "            lengths.append(l)\n",
    "    return lengths"
   ]
  },
  {
   "cell_type": "code",
   "execution_count": 7,
   "metadata": {
    "collapsed": true
   },
   "outputs": [],
   "source": [
    "#Average utterance length in VOICE (non-native speakers)\n",
    "VOICE_utterance_lengths = utterance_lengths(VOICE_toks)\n",
    "sum(VOICE_utterance_lengths)/len(VOICE_utterance_lengths)"
   ]
  },
  {
   "cell_type": "code",
   "execution_count": 9,
   "metadata": {
    "collapsed": true
   },
   "outputs": [],
   "source": [
    "#Average utterance length in BNC (native speakers)\n",
    "BNC_utterance_lengths = utterance_lengths(BNC_toks)\n",
    "sum(BNC_utterance_lengths)/len(BNC_utterance_lengths)"
   ]
  },
  {
   "cell_type": "markdown",
   "metadata": {},
   "source": [
    "## Comparing Words and Bigrams\n",
    "By looking at the most frequent words and bigrams, there are a few subtle difference between the two corpora, so they may not be extremely useful for comparing native and non-native speakers. However, I only looked into the 50 most frequent bigrams, so I will probably look into this more. Other bigrams that aren't in this list could be helpful; a moderately-common bigram in VOICE that is nonexistant in BNC could indicate that a person is not a native speaker. Bigrams could also be useful in comparing the L1 groups in the Vienna-Oxford International Corpus of English."
   ]
  },
  {
   "cell_type": "markdown",
   "metadata": {},
   "source": [
    "### Comparing Words\n",
    "Just by looking at the 50 most frequent words in the two corpora, there doesn't seem to be a huge difference between the common words in VOICE and the common words in BNC. One small difference between the two is that VOICE has 'er', 'erm', and 'hh' among the most frequent tokens. In fact, 'er' is the second most frequent token in VOICE, while it has a lower frequency ranking in BNC."
   ]
  },
  {
   "cell_type": "code",
   "execution_count": 67,
   "metadata": {
    "collapsed": true
   },
   "outputs": [],
   "source": [
    "#Returns a list of all of the words from the corpus/dictionary\n",
    "def get_words(dictionary):\n",
    "    words = []\n",
    "    for file in dictionary:\n",
    "        for key in dictionary[file]:\n",
    "            words.extend(dictionary[file][key])\n",
    "    return words"
   ]
  },
  {
   "cell_type": "code",
   "execution_count": 68,
   "metadata": {
    "collapsed": true
   },
   "outputs": [],
   "source": [
    "VOICE_words = get_words(VOICE_toks)"
   ]
  },
  {
   "cell_type": "code",
   "execution_count": 69,
   "metadata": {
    "collapsed": true
   },
   "outputs": [],
   "source": [
    "BNC_words = get_words(BNC_toks)"
   ]
  },
  {
   "cell_type": "code",
   "execution_count": 70,
   "metadata": {
    "collapsed": true
   },
   "outputs": [],
   "source": [
    "VOICE_word_freqs = nltk.FreqDist(VOICE_words)"
   ]
  },
  {
   "cell_type": "code",
   "execution_count": 71,
   "metadata": {
    "collapsed": true
   },
   "outputs": [],
   "source": [
    "BNC_word_freqs = nltk.FreqDist(BNC_words)"
   ]
  },
  {
   "cell_type": "code",
   "execution_count": 72,
   "metadata": {
    "collapsed": true
   },
   "outputs": [],
   "source": [
    "#Use a freqdist to get the 50 most frequent words in each corpus\n",
    "VOICE_most_common = VOICE_word_freqs.most_common(50)\n",
    "BNC_most_common = BNC_word_freqs.most_common(50)"
   ]
  },
  {
   "cell_type": "code",
   "execution_count": 73,
   "metadata": {},
   "outputs": [
    {
     "name": "stdout",
     "output_type": "stream",
     "text": [
      "('the', 25148) \t\t ('the ', 377103)\n",
      "('er', 19846) \t\t ('I ', 232459)\n",
      "('i', 16392) \t\t ('to ', 222828)\n",
      "('and', 15075) \t\t ('and ', 213519)\n",
      "('it', 14197) \t\t ('a ', 188915)\n",
      "('to', 13780) \t\t (\"'s \", 188842)\n",
      "('you', 13745) \t\t ('you ', 184000)\n",
      "('yeah', 11614) \t\t ('of ', 168655)\n",
      "('that', 11307) \t\t ('that ', 143467)\n",
      "('we', 10596) \t\t ('in ', 125918)\n",
      "(\"'s\", 10578) \t\t ('it ', 119928)\n",
      "('a', 10160) \t\t (\"n't \", 117817)\n",
      "('of', 9822) \t\t ('it', 102143)\n",
      "('in', 9712) \t\t ('is ', 80206)\n",
      "('is', 9352) \t\t ('I', 71868)\n",
      "('mhm', 8131) \t\t ('was ', 71314)\n",
      "('but', 6743) \t\t ('on ', 68803)\n",
      "('have', 6636) \t\t ('we ', 66432)\n",
      "('so', 6529) \t\t ('have ', 63247)\n",
      "('this', 6069) \t\t ('for ', 61818)\n",
      "('[', 5304) \t\t ('that', 57436)\n",
      "(']', 5304) \t\t ('they ', 56619)\n",
      "('do', 5212) \t\t ('be ', 55296)\n",
      "('for', 4929) \t\t ('you', 54791)\n",
      "('okay', 4618) \t\t ('er ', 54331)\n",
      "('yes', 4497) \t\t ('Yeah', 48002)\n",
      "('erm', 4449) \t\t (\"'ve \", 47818)\n",
      "('they', 4339) \t\t ('this ', 46565)\n",
      "('no', 4226) \t\t ('do', 45116)\n",
      "(\"n't\", 4213) \t\t ('what ', 44760)\n",
      "('not', 4093) \t\t ('do ', 44485)\n",
      "('are', 3980) \t\t ('at ', 44230)\n",
      "('hh', 3950) \t\t ('got ', 44126)\n",
      "('what', 3763) \t\t ('he ', 43943)\n",
      "('be', 3752) \t\t ('with ', 43682)\n",
      "('or', 3457) \t\t ('but ', 43360)\n",
      "('know', 3237) \t\t (\"'re \", 42563)\n",
      "('can', 3233) \t\t ('one ', 40349)\n",
      "('there', 3121) \t\t ('not ', 40333)\n",
      "('because', 3088) \t\t ('as ', 40321)\n",
      "('like', 3080) \t\t ('if ', 39872)\n",
      "('on', 3055) \t\t ('are ', 37462)\n",
      "('yah', 3023) \t\t ('And ', 37398)\n",
      "('think', 2995) \t\t ('all ', 37019)\n",
      "('if', 2868) \t\t ('think ', 35712)\n",
      "('with', 2852) \t\t ('just ', 34410)\n",
      "('was', 2833) \t\t ('there ', 34311)\n",
      "('then', 2668) \t\t ('know ', 33554)\n",
      "('one', 2555) \t\t ('so ', 33461)\n",
      "('as', 2364) \t\t ('get ', 32831)\n"
     ]
    }
   ],
   "source": [
    "#Print the most frequent words in the two corpora side-by-side (VOICE is in the left column, BNC is in the right column)\n",
    "index = 0\n",
    "while index < len(VOICE_most_common):\n",
    "    print(VOICE_most_common[index], '\\t\\t', BNC_most_common[index])\n",
    "    index += 1"
   ]
  },
  {
   "cell_type": "markdown",
   "metadata": {},
   "source": [
    "### Comparing Bigrams\n",
    "Many of the common bigrams are shared among the two corpora. However, there are a few interesting common bigrams in VOICE. In VOICE, there are several instances of bigrams that contain duplicates of the same word, like ('i', 'i') and ('the', 'the'). This seems like they come from utterances that contain stuttering or hesitations, which could possibly be used "
   ]
  },
  {
   "cell_type": "code",
   "execution_count": 74,
   "metadata": {
    "collapsed": true
   },
   "outputs": [],
   "source": [
    "#Uses NLTK's bigram function to get the bigrams from the corpus.\n",
    "#Returns a list of all the bigrams\n",
    "def get_bigrams(dictionary):\n",
    "    bigrams = []\n",
    "    for file in dictionary:\n",
    "        for key in dictionary[file]:\n",
    "            pairs = list(nltk.bigrams(dictionary[file][key]))\n",
    "            bigrams.extend(pairs)\n",
    "    return bigrams"
   ]
  },
  {
   "cell_type": "code",
   "execution_count": 75,
   "metadata": {
    "collapsed": true
   },
   "outputs": [],
   "source": [
    "VOICE_bigrams = get_bigrams(VOICE_toks)"
   ]
  },
  {
   "cell_type": "code",
   "execution_count": 76,
   "metadata": {
    "collapsed": true
   },
   "outputs": [],
   "source": [
    "BNC_bigrams = get_bigrams(BNC_toks)"
   ]
  },
  {
   "cell_type": "code",
   "execution_count": 77,
   "metadata": {
    "collapsed": true
   },
   "outputs": [],
   "source": [
    "VOICE_bigram_freqs = nltk.FreqDist(VOICE_bigrams)"
   ]
  },
  {
   "cell_type": "code",
   "execution_count": 78,
   "metadata": {
    "collapsed": true
   },
   "outputs": [],
   "source": [
    "BNC_bigram_freqs = nltk.FreqDist(BNC_bigrams)"
   ]
  },
  {
   "cell_type": "code",
   "execution_count": 79,
   "metadata": {
    "collapsed": true
   },
   "outputs": [],
   "source": [
    "#Use freqdists to get the 50 most frequent bigrams\n",
    "VOICE_most_common = VOICE_bigram_freqs.most_common(50)\n",
    "BNC_most_common = BNC_bigram_freqs.most_common(50)"
   ]
  },
  {
   "cell_type": "code",
   "execution_count": 80,
   "metadata": {},
   "outputs": [
    {
     "name": "stdout",
     "output_type": "stream",
     "text": [
      "(('it', \"'s\"), 6104) \t\t (('it', \"'s \"), 48934)\n",
      "(('that', \"'s\"), 2679) \t\t (('do', \"n't \"), 36465)\n",
      "(('do', \"n't\"), 2384) \t\t (('of ', 'the '), 33382)\n",
      "(('i', 'think'), 2251) \t\t (('in ', 'the '), 33071)\n",
      "(('in', 'the'), 2087) \t\t (('that', \"'s \"), 28882)\n",
      "(('of', 'the'), 1917) \t\t (('I', \"'m \"), 24992)\n",
      "(('we', 'have'), 1693) \t\t (('I ', 'think '), 22591)\n",
      "(('this', 'is'), 1549) \t\t (('I ', 'do'), 19254)\n",
      "(('you', 'know'), 1526) \t\t (('on ', 'the '), 18954)\n",
      "(('i', \"'m\"), 1500) \t\t (('I', \"'ve \"), 17626)\n",
      "(('have', 'to'), 1417) \t\t ((\"'ve \", 'got '), 16497)\n",
      "(('i', 'mean'), 1384) \t\t (('to ', 'the '), 16465)\n",
      "(('you', 'have'), 1326) \t\t (('It', \"'s \"), 15879)\n",
      "(('yeah', 'yeah'), 1264) \t\t ((\"'s \", 'a '), 15425)\n",
      "(('i', 'do'), 1254) \t\t (('to ', 'be '), 14862)\n",
      "(('the', 'the'), 1206) \t\t (('I ', 'mean '), 14695)\n",
      "(('and', 'then'), 1143) \t\t (('That', \"'s \"), 14364)\n",
      "(('er', 'er'), 1123) \t\t (('you', \"'re \"), 14348)\n",
      "(('if', 'you'), 1106) \t\t (('it ', 'was '), 13208)\n",
      "(('and', 'er'), 1096) \t\t (('at ', 'the '), 13207)\n",
      "(('on', 'the'), 1044) \t\t (('you ', 'know'), 12915)\n",
      "(('i', 'i'), 1042) \t\t (('you ', 'know '), 12865)\n",
      "(('to', 'the'), 961) \t\t (('there', \"'s \"), 12738)\n",
      "(('you', 'can'), 949) \t\t (('did', \"n't \"), 12363)\n",
      "((\"'s\", 'a'), 930) \t\t (('I', \"'ll \"), 12215)\n",
      "(('er', 'the'), 904) \t\t (('they', \"'re \"), 12169)\n",
      "(('no', 'no'), 867) \t\t (('and ', 'I '), 12078)\n",
      "(('to', 'be'), 859) \t\t (('gon', 'na '), 11364)\n",
      "(('it', 'was'), 850) \t\t (('he', \"'s \"), 11318)\n",
      "(('for', 'the'), 841) \t\t (('and ', 'the '), 11232)\n",
      "(('and', 'i'), 837) \t\t (('if ', 'you '), 11225)\n",
      "(('it', 'is'), 828) \t\t (('ca', \"n't \"), 10999)\n",
      "((\"n't\", 'know'), 818) \t\t (('you', \"'ve \"), 10927)\n",
      "(('do', 'you'), 813) \t\t (('sort ', 'of '), 10851)\n",
      "(('we', 'are'), 805) \t\t (('going ', 'to '), 10791)\n",
      "(('have', 'a'), 795) \t\t (('have ', 'to '), 10339)\n",
      "(('we', 'can'), 781) \t\t (('I ', 'was '), 9719)\n",
      "(('but', 'i'), 763) \t\t ((\"'s \", 'the '), 9508)\n",
      "(('is', 'the'), 755) \t\t (('to ', 'do '), 9404)\n",
      "(('and', 'the'), 753) \t\t (('for ', 'the '), 9272)\n",
      "(('er', 'i'), 745) \t\t (('we', \"'re \"), 9083)\n",
      "(('that', 'we'), 729) \t\t ((\"'s \", 'not '), 8923)\n",
      "(('at', 'the'), 699) \t\t (('we', \"'ve \"), 8795)\n",
      "(('to', 'to'), 693) \t\t (('have ', 'a '), 8751)\n",
      "((\"'s\", 'not'), 681) \t\t (('you ', 'can '), 8410)\n",
      "(('i', 'have'), 677) \t\t (('do ', 'you '), 8380)\n",
      "(('of', 'course'), 675) \t\t (('and ', 'then '), 8257)\n",
      "(('the', 'same'), 658) \t\t (('used ', 'to '), 7867)\n",
      "((\"'s\", 'the'), 654) \t\t (('a ', 'lot '), 7756)\n",
      "(('is', 'a'), 648) \t\t (('with ', 'the '), 7722)\n"
     ]
    }
   ],
   "source": [
    "#Print the most frequent bigrams in the two corpora side-by-side (VOICE is in the left column, BNC is in the right column)\n",
    "index = 0\n",
    "while index < len(VOICE_most_common):\n",
    "    print(VOICE_most_common[index], '\\t\\t', BNC_most_common[index])\n",
    "    index += 1"
   ]
  },
  {
   "cell_type": "markdown",
   "metadata": {},
   "source": [
    "### Comparing Stop Word Use"
   ]
  },
  {
   "cell_type": "code",
   "execution_count": 81,
   "metadata": {
    "collapsed": true
   },
   "outputs": [],
   "source": [
    "from nltk.corpus import stopwords\n",
    "stopWords = set(stopwords.words('english'))"
   ]
  },
  {
   "cell_type": "code",
   "execution_count": 82,
   "metadata": {
    "collapsed": true
   },
   "outputs": [],
   "source": [
    "#Return a list of the stop words found in a given corpus/dictionary\n",
    "def get_stopwords(word_list):\n",
    "    stop_list = []\n",
    "    for w in word_list:\n",
    "        if w in stopWords:\n",
    "            stop_list.append(w)\n",
    "    return stop_list"
   ]
  },
  {
   "cell_type": "markdown",
   "metadata": {},
   "source": [
    "#### Proportion of stop words"
   ]
  },
  {
   "cell_type": "code",
   "execution_count": 83,
   "metadata": {},
   "outputs": [
    {
     "data": {
      "text/plain": [
       "0.48718556623933323"
      ]
     },
     "execution_count": 83,
     "metadata": {},
     "output_type": "execute_result"
    }
   ],
   "source": [
    "#Proportion of stop words in VOICE (non-native speakers)\n",
    "VOICE_stop = get_stopwords(VOICE_words)\n",
    "len(VOICE_stop)/len(VOICE_words)"
   ]
  },
  {
   "cell_type": "code",
   "execution_count": 84,
   "metadata": {},
   "outputs": [
    {
     "data": {
      "text/plain": [
       "0.06287184705113172"
      ]
     },
     "execution_count": 84,
     "metadata": {},
     "output_type": "execute_result"
    }
   ],
   "source": [
    "#Proportion of stop words in BNC (native speakers)\n",
    "BNC_stop = get_stopwords(BNC_words)\n",
    "len(BNC_stop)/len(BNC_words)"
   ]
  },
  {
   "cell_type": "markdown",
   "metadata": {},
   "source": [
    "#### Common stop words"
   ]
  },
  {
   "cell_type": "code",
   "execution_count": 85,
   "metadata": {
    "collapsed": true
   },
   "outputs": [],
   "source": [
    "VOICE_stop_freqs = nltk.FreqDist(VOICE_stop)"
   ]
  },
  {
   "cell_type": "code",
   "execution_count": 86,
   "metadata": {
    "collapsed": true
   },
   "outputs": [],
   "source": [
    "BNC_stop_freqs = nltk.FreqDist(BNC_stop)"
   ]
  },
  {
   "cell_type": "code",
   "execution_count": 87,
   "metadata": {
    "collapsed": true
   },
   "outputs": [],
   "source": [
    "#Use the list of stop words from the corpora and freqdists to get the 15 most frequent stop words in each corpus\n",
    "VOICE_most_common = VOICE_stop_freqs.most_common(15)\n",
    "BNC_most_common = BNC_stop_freqs.most_common(15)"
   ]
  },
  {
   "cell_type": "code",
   "execution_count": 88,
   "metadata": {},
   "outputs": [
    {
     "name": "stdout",
     "output_type": "stream",
     "text": [
      "('the', 25148) \t\t ('it', 102143)\n",
      "('i', 16392) \t\t ('that', 57436)\n",
      "('and', 15075) \t\t ('you', 54791)\n",
      "('it', 14197) \t\t ('do', 45116)\n",
      "('to', 13780) \t\t ('there', 29061)\n",
      "('you', 13745) \t\t ('we', 28620)\n",
      "('that', 11307) \t\t ('they', 27656)\n",
      "('we', 10596) \t\t ('he', 19296)\n",
      "('a', 10160) \t\t ('is', 16201)\n",
      "('of', 9822) \t\t ('did', 15584)\n",
      "('in', 9712) \t\t ('she', 11223)\n",
      "('is', 9352) \t\t ('then', 9479)\n",
      "('but', 6743) \t\t ('have', 9454)\n",
      "('have', 6636) \t\t ('in', 9312)\n",
      "('so', 6529) \t\t ('on', 9192)\n"
     ]
    }
   ],
   "source": [
    "#Print the most common stop words for each corpus side-by-side (VOICE is in the left column, BNC is in the right column)\n",
    "index = 0\n",
    "index = 0\n",
    "while index < len(VOICE_most_common):\n",
    "    print(VOICE_most_common[index], '\\t\\t', BNC_most_common[index])\n",
    "    index += 1"
   ]
  }
 ],
 "metadata": {
  "kernelspec": {
   "display_name": "Python 3",
   "language": "python",
   "name": "python3"
  },
  "language_info": {
   "codemirror_mode": {
    "name": "ipython",
    "version": 3
   },
   "file_extension": ".py",
   "mimetype": "text/x-python",
   "name": "python",
   "nbconvert_exporter": "python",
   "pygments_lexer": "ipython3",
   "version": "3.6.1"
  }
 },
 "nbformat": 4,
 "nbformat_minor": 2
}
