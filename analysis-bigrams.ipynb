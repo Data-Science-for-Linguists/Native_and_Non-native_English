{
 "cells": [
  {
   "cell_type": "markdown",
   "metadata": {},
   "source": [
    "Katherine Kairis, kak275@pitt.edu, 12/15/2017"
   ]
  },
  {
   "cell_type": "markdown",
   "metadata": {},
   "source": [
    "# Bigram Analysis"
   ]
  },
  {
   "cell_type": "code",
   "execution_count": 1,
   "metadata": {
    "collapsed": true
   },
   "outputs": [],
   "source": [
    "import pickle\n",
    "import nltk\n",
    "from nltk.corpus import stopwords\n",
    "import pandas as pd\n",
    "import matplotlib.pyplot as plt\n",
    "stopWords = set(stopwords.words('english'))\n",
    "\n",
    "from IPython.core.interactiveshell import InteractiveShell\n",
    "InteractiveShell.ast_node_interactivity = \"all\""
   ]
  },
  {
   "cell_type": "markdown",
   "metadata": {},
   "source": [
    "## Helper Functions\n",
    "* speech_by_L1: takes conversation dictionary and a list of languages. Eliminates the utterances of any participants whose L1 is not included in the list of languages.\n",
    "* get_bigrams: takes a conversation dictionary and returns a list of bigrams\n",
    "* repeated_words: takes a list of bigrams and returns a list of bigrams that consist of the same word\n",
    "* frequent_bigrams: take a list of bigrams and a number, n, between 0 and 1 (representing a percentage), and returns a list of bigrams that fall in the top n% in terms of frequency\n",
    "* shared_bigrams: takes two lists of bigrams, A and B, and returns a B's bigrams that also occur in A"
   ]
  },
  {
   "cell_type": "code",
   "execution_count": 39,
   "metadata": {},
   "outputs": [
    {
     "data": {
      "text/plain": [
       "'\\nTakes a conversation dictionary and a list of languages. Returns a dictionary of conversations containing only \\nutterances from participants whose L1 is listed in the list of languages.\\n'"
      ]
     },
     "execution_count": 39,
     "metadata": {},
     "output_type": "execute_result"
    }
   ],
   "source": [
    "\"\"\"\n",
    "Takes a conversation dictionary and a list of languages. Returns a dictionary of conversations containing only \n",
    "utterances from participants whose L1 is listed in the list of languages.\n",
    "\"\"\"\n",
    "def speech_by_L1(conversation_dict, lang_list):\n",
    "    new_dict = {}\n",
    "    for conversation in conversation_dict.keys():\n",
    "        utterances = {}\n",
    "        \n",
    "        for pair in conversation_dict[conversation]:    \n",
    "            speaker = pair[1]\n",
    "            #print(conversation_dict[conversation][pair])\n",
    "\n",
    "            \n",
    "            #print(participants[speaker]['L1'][0])\n",
    "            if(participants[speaker]['L1'][0] in lang_list):\n",
    "                utterances[pair] = conversation_dict[conversation][pair]\n",
    "            \n",
    "\n",
    "        new_dict[conversation] = utterances    \n",
    "\n",
    "    return new_dict"
   ]
  },
  {
   "cell_type": "code",
   "execution_count": 40,
   "metadata": {},
   "outputs": [
    {
     "data": {
      "text/plain": [
       "'\\nTakes a dictionary of conversations from a corpus, and returns a list of bigrams.\\n'"
      ]
     },
     "execution_count": 40,
     "metadata": {},
     "output_type": "execute_result"
    }
   ],
   "source": [
    "\"\"\"\n",
    "Takes a dictionary of conversations from a corpus, and returns a list of bigrams.\n",
    "\"\"\"\n",
    "def get_bigrams(dictionary):\n",
    "    bigrams = []\n",
    "    for file in dictionary:\n",
    "        for key in dictionary[file]:\n",
    "            pairs = list(nltk.bigrams(dictionary[file][key]))\n",
    "            bigrams.extend(pairs)\n",
    "    return bigrams"
   ]
  },
  {
   "cell_type": "code",
   "execution_count": 41,
   "metadata": {},
   "outputs": [
    {
     "data": {
      "text/plain": [
       "\"\\nTakes a list of bigrams, returns dictionary whose keys are bigrams containing duplicate words (e.g ('i', 'i',), \\n'the', 'the') and whose values are the frequencies of each bigram\\n\""
      ]
     },
     "execution_count": 41,
     "metadata": {},
     "output_type": "execute_result"
    }
   ],
   "source": [
    "\"\"\"\n",
    "Takes a list of bigrams, returns dictionary whose keys are bigrams containing duplicate words (e.g ('i', 'i',), \n",
    "'the', 'the') and whose values are the frequencies of each bigram\n",
    "\"\"\"\n",
    "def repeated_words(bigrams):\n",
    "    repeated = {}\n",
    "    for b in bigrams:\n",
    "        if(b[0] == b[1]):\n",
    "            if(b not in repeated):\n",
    "                repeated[b] = 1\n",
    "            else:\n",
    "                repeated[b] += 1\n",
    "    return repeated"
   ]
  },
  {
   "cell_type": "code",
   "execution_count": 42,
   "metadata": {},
   "outputs": [
    {
     "data": {
      "text/plain": [
       "'\\nTakes a list of bigrams and a percentage between 0 and 1. Returns a dictionary whose keys are bigrams and whose values\\nare the frequencies of the bigrams. The bigrams included in the dictionary are only the ones that occur in the top \\ngiven percent. For example, if the user inputs BNC_bigrams 0.3, the returned dictionary will occur the top 30% of \\nbigrams in terms of their frequencies. The BNC has 9378696 bigram occurrences, so the dictionary will contain around \\n1875739 entries.\\n'"
      ]
     },
     "execution_count": 42,
     "metadata": {},
     "output_type": "execute_result"
    }
   ],
   "source": [
    "\"\"\"\n",
    "Takes a list of bigrams and a percentage between 0 and 1. Returns a dictionary whose keys are bigrams and whose values\n",
    "are the frequencies of the bigrams. The bigrams included in the dictionary are only the ones that occur in the top \n",
    "given percent. For example, if the user inputs BNC_bigrams 0.3, the returned dictionary will occur the top 30% of \n",
    "bigrams in terms of their frequencies. The BNC has 9378696 bigram occurrences, so the dictionary will contain around \n",
    "1875739 entries.\n",
    "\"\"\"\n",
    "\n",
    "def frequent_bigrams(bigrams, percent):\n",
    "    freqs = nltk.FreqDist(bigrams)\n",
    "    most_common = freqs.most_common()\n",
    "    limit = len(bigrams) * percent\n",
    "    num_occurrences = 0\n",
    "    top_bigrams = []\n",
    "    \n",
    "    for b in freqs.most_common():\n",
    "        num_occurrences += b[1]\n",
    "        if(num_occurrences >= limit):\n",
    "            return top_bigrams\n",
    "        top_bigrams.append(b)\n",
    "    return count_dictionary"
   ]
  },
  {
   "cell_type": "code",
   "execution_count": 43,
   "metadata": {},
   "outputs": [
    {
     "data": {
      "text/plain": [
       "'\\nTakes two lists, a and b, that contain bigrams and their frequencies. e.g. [((\\'it\\', \"\\'s\"), 68661),\\n ((\\'that\\', \"\\'s\"), 45150),\\n ((\\'do\\', \"n\\'t\"), 42215),] \\nReturns a list of bigrams in b that are also in a.\\n'"
      ]
     },
     "execution_count": 43,
     "metadata": {},
     "output_type": "execute_result"
    }
   ],
   "source": [
    "\"\"\"\n",
    "Takes two lists, a and b, that contain bigrams and their frequencies. e.g. [(('it', \"'s\"), 68661),\n",
    " (('that', \"'s\"), 45150),\n",
    " (('do', \"n't\"), 42215),] \n",
    "Returns a list of bigrams in b that are also in a.\n",
    "\"\"\"\n",
    "def shared_bigrams(list_a, list_b):\n",
    "    common = []\n",
    "    list_a = [b[0] for b in list_a]\n",
    "    list_b = [b[0] for b in list_b]\n",
    "    \n",
    "    count = 0\n",
    "    for bigram in list_b:\n",
    "        if(bigram in list_a):\n",
    "            common.append(bigram)\n",
    "    return common"
   ]
  },
  {
   "cell_type": "markdown",
   "metadata": {},
   "source": [
    "## Creating sub-corpora for different language families\n",
    "Create 3 different subcorpora from the VOICE corpus. The three new corpora will be:\n",
    "* germanic: contains the utterances of participants with Germanic L1s(German, Dutch, Swedish, Danish, Norwegian, and Icelandic)\n",
    "* romance: contains the utterances of participants with Romance L1s (Portuguese, Spanish, Italian, French, Catalan, Romanian)\n",
    "* slavic: contains the utterances of participants with Slavic L1s (Russian, Ukranian, Polish, Bulgarian, Macedonian, Czech, Bosnian, Slovak, Slovenian)"
   ]
  },
  {
   "cell_type": "code",
   "execution_count": 44,
   "metadata": {
    "collapsed": true
   },
   "outputs": [],
   "source": [
    "#Get the tokens for each corpus from their respective pickle files\n",
    "#Also get the dictionary containing the participant info for VOICE\n",
    "f = open('VOICE_tokenized.p', 'rb')\n",
    "VOICE_toks = pickle.load(f)\n",
    "f.close()\n",
    "\n",
    "f = open('BNC_tokenized.p', 'rb')\n",
    "BNC_toks = pickle.load(f)\n",
    "f.close()\n",
    "\n",
    "f = open('VOICE_participant_info.p', 'rb')\n",
    "participants = pickle.load(f)\n",
    "f.close()"
   ]
  },
  {
   "cell_type": "code",
   "execution_count": 45,
   "metadata": {},
   "outputs": [
    {
     "data": {
      "text/plain": [
       "'\\nCreate sub-corpora from the VOICE corpus, each of which will contain utterances from L1 speakers of German languages,\\nRomance languages, and Slavic languages\\n'"
      ]
     },
     "execution_count": 45,
     "metadata": {},
     "output_type": "execute_result"
    }
   ],
   "source": [
    "\"\"\"\n",
    "Create sub-corpora from the VOICE corpus, each of which will contain utterances from L1 speakers of German languages,\n",
    "Romance languages, and Slavic languages\n",
    "\"\"\"\n",
    "lang_classifications = {'germanic': ['ger', 'dut', 'swe', 'dan', 'nor', 'ice'],\n",
    "                        'romance': ['por', 'spa', 'ita', 'fre', 'cat', 'rum'],\n",
    "                        'slavic': ['rus', 'ukr', 'pol', 'bul', 'mac', 'cze', 'bos', 'slo', 'slv']}\n",
    "\n",
    "germanic_toks = speech_by_L1(VOICE_toks, lang_classifications['germanic'])\n",
    "romance_toks = speech_by_L1(VOICE_toks, lang_classifications['romance'])\n",
    "slavic_toks = speech_by_L1(VOICE_toks, lang_classifications['slavic'])"
   ]
  },
  {
   "cell_type": "code",
   "execution_count": 46,
   "metadata": {
    "collapsed": true
   },
   "outputs": [],
   "source": [
    "#Get the bigrams from VOICE and BNC, in addition to the three sub-corpora\n",
    "VOICE_bigrams = get_bigrams(VOICE_toks)\n",
    "BNC_bigrams = get_bigrams(BNC_toks)\n",
    "germanic_bigrams = get_bigrams(germanic_toks)\n",
    "romance_bigrams = get_bigrams(romance_toks)\n",
    "slavic_bigrams = get_bigrams(slavic_toks)"
   ]
  },
  {
   "cell_type": "code",
   "execution_count": 47,
   "metadata": {},
   "outputs": [
    {
     "data": {
      "text/plain": [
       "'\\nGet the top 20% of bigrams (in terms of frequency) from each corpora/sub-corpora. For example, BNC has 9378696\\nbigrams, so the most common bigrams will be included until the their cumulative frequencies exceed 1875739.\\n'"
      ]
     },
     "execution_count": 47,
     "metadata": {},
     "output_type": "execute_result"
    }
   ],
   "source": [
    "\"\"\"\n",
    "Get the top 20% of bigrams (in terms of frequency) from each corpora/sub-corpora. For example, BNC has 9378696\n",
    "bigrams, so the most common bigrams will be included until the their cumulative frequencies exceed 1875739.\n",
    "\"\"\"\n",
    "BNC_freq_bigrams = frequent_bigrams(BNC_bigrams, 0.2)\n",
    "VOICE_freq_bigrams = frequent_bigrams(VOICE_bigrams, 0.2)\n",
    "germanic_freq_bigrams = frequent_bigrams(germanic_bigrams, 0.2)\n",
    "romance_freq_bigrams = frequent_bigrams(romance_bigrams, 0.2)\n",
    "slavic_freq_bigrams = frequent_bigrams(slavic_bigrams, 0.2)"
   ]
  },
  {
   "cell_type": "markdown",
   "metadata": {},
   "source": [
    "## Comparing Bigrams of Native and Non-native Speakers: Round 1"
   ]
  },
  {
   "cell_type": "markdown",
   "metadata": {},
   "source": [
    "### Similarities between VOICE and BNC"
   ]
  },
  {
   "cell_type": "code",
   "execution_count": 48,
   "metadata": {},
   "outputs": [
    {
     "data": {
      "text/plain": [
       "\"\\nFor each non-native corpus, create a list that contains the corpora's top 20% bigrams that are also in BNC's\\ntop 20% bigrams bigrams.\\n\""
      ]
     },
     "execution_count": 48,
     "metadata": {},
     "output_type": "execute_result"
    }
   ],
   "source": [
    "\"\"\"\n",
    "For each non-native corpus, create a list that contains the corpora's top 20% bigrams that are also in BNC's\n",
    "top 20% bigrams bigrams.\n",
    "\"\"\"\n",
    "VOICE_and_BNC = shared_bigrams(BNC_freq_bigrams, VOICE_freq_bigrams)\n",
    "germanic_and_BNC = shared_bigrams(BNC_freq_bigrams, germanic_freq_bigrams)\n",
    "romance_and_BNC = shared_bigrams(BNC_freq_bigrams, romance_freq_bigrams)\n",
    "slavic_and_BNC = shared_bigrams(BNC_freq_bigrams, slavic_freq_bigrams)"
   ]
  },
  {
   "cell_type": "code",
   "execution_count": 49,
   "metadata": {},
   "outputs": [
    {
     "data": {
      "text/plain": [
       "\"\\nCompare the proportions of top bigrams that also appear in BNC's top bigrams. \\n\\nWhen comparing the entire VOICE corpus to the BNC, about 67% of the most common bigrams in VOICE are also among\\nthe most common bigrams in the BNC.\\n\\nSpeakers with Germanic L1s have the most similarities with speakers in the BNC, with 66.8% of their most frequent \\nbigrams appearing in the BNC's most frequent bigrams. Speakers of Romance and Slavic languages don't fare quite as \\nwell, with 64.8% and 61.9% respectively.\\n\""
      ]
     },
     "execution_count": 49,
     "metadata": {},
     "output_type": "execute_result"
    },
    {
     "data": {
      "text/plain": [
       "0.672514619883041"
      ]
     },
     "execution_count": 49,
     "metadata": {},
     "output_type": "execute_result"
    },
    {
     "data": {
      "text/plain": [
       "0.6686046511627907"
      ]
     },
     "execution_count": 49,
     "metadata": {},
     "output_type": "execute_result"
    },
    {
     "data": {
      "text/plain": [
       "0.6458333333333334"
      ]
     },
     "execution_count": 49,
     "metadata": {},
     "output_type": "execute_result"
    },
    {
     "data": {
      "text/plain": [
       "0.6196319018404908"
      ]
     },
     "execution_count": 49,
     "metadata": {},
     "output_type": "execute_result"
    }
   ],
   "source": [
    "\"\"\"\n",
    "Compare the proportions of top bigrams that also appear in BNC's top bigrams. \n",
    "\n",
    "When comparing the entire VOICE corpus to the BNC, about 67% of the most common bigrams in VOICE are also among\n",
    "the most common bigrams in the BNC.\n",
    "\n",
    "Speakers with Germanic L1s have the most similarities with speakers in the BNC, with 66.8% of their most frequent \n",
    "bigrams appearing in the BNC's most frequent bigrams. Speakers of Romance and Slavic languages don't fare quite as \n",
    "well, with 64.8% and 61.9% respectively.\n",
    "\"\"\"\n",
    "len(VOICE_and_BNC)/len(VOICE_freq_bigrams)\n",
    "len(germanic_and_BNC)/len(germanic_freq_bigrams)\n",
    "len(romance_and_BNC)/len(romance_freq_bigrams)\n",
    "len(slavic_and_BNC)/len(slavic_freq_bigrams)"
   ]
  },
  {
   "cell_type": "markdown",
   "metadata": {},
   "source": [
    "### Differences between VOICE and BNC\n",
    "A lot of the common bigrams that occur in VOICE and its subcorpora, but do not occur in BNC's common bigrams, seem to contain hesitations. A lot of these bigrams contain the words \"er\" and \"erm,\" in addition to repeated words, like ('i', 'i') and ('the', 'the'). This could indicate a lack of fluency among the non-native speakers that isn't nearly as prevalent among the native speakers; however, this list of bigrams doesn't indicate much about other linguistic features."
   ]
  },
  {
   "cell_type": "code",
   "execution_count": 50,
   "metadata": {},
   "outputs": [
    {
     "data": {
      "text/plain": [
       "\"\\nFor VOICE and each of its sub-corpora, create a list of bigrams that occur in the corpus's top 20%, but not in \\nBNC's top 20%.\\n\""
      ]
     },
     "execution_count": 50,
     "metadata": {},
     "output_type": "execute_result"
    }
   ],
   "source": [
    "\"\"\"\n",
    "For VOICE and each of its sub-corpora, create a list of bigrams that occur in the corpus's top 20%, but not in \n",
    "BNC's top 20%.\n",
    "\"\"\"\n",
    "VOICE_not_BNC = [b[0] for b in VOICE_freq_bigrams if b[0] not in VOICE_and_BNC]\n",
    "BNC_not_VOICE = [b[0] for b in BNC_freq_bigrams if b[0] not in VOICE_and_BNC]\n",
    "\n",
    "germanic_not_BNC = [b[0] for b in germanic_freq_bigrams if b[0] not in germanic_and_BNC]\n",
    "BNC_not_germanic = [b[0] for b in BNC_freq_bigrams if b[0] not in germanic_and_BNC]\n",
    "\n",
    "romance_not_BNC = [b[0] for b in romance_freq_bigrams if b[0] not in romance_and_BNC]\n",
    "BNC_not_romance = [b[0] for b in BNC_freq_bigrams if b[0] not in romance_and_BNC]\n",
    "\n",
    "slavic_not_BNC = [b[0] for b in slavic_freq_bigrams if b[0] not in slavic_and_BNC]\n",
    "BNC_not_slavic = [b[0] for b in BNC_freq_bigrams if b[0] not in slavic_and_BNC]"
   ]
  },
  {
   "cell_type": "code",
   "execution_count": 51,
   "metadata": {},
   "outputs": [
    {
     "data": {
      "text/plain": [
       "56"
      ]
     },
     "execution_count": 51,
     "metadata": {},
     "output_type": "execute_result"
    },
    {
     "data": {
      "text/plain": [
       "0.32748538011695905"
      ]
     },
     "execution_count": 51,
     "metadata": {},
     "output_type": "execute_result"
    },
    {
     "data": {
      "text/plain": [
       "[('yeah', 'yeah'),\n",
       " ('er', 'er'),\n",
       " ('we', 'are'),\n",
       " ('to', 'to'),\n",
       " ('in', 'in'),\n",
       " ('[', 'first'),\n",
       " ('mhm', 'mhm'),\n",
       " ('kind', 'of'),\n",
       " ('they', 'are'),\n",
       " ('but', 'er'),\n",
       " ('er', 'we'),\n",
       " ('that', 'er'),\n",
       " ('er', 'in'),\n",
       " ('of', 'er'),\n",
       " ('yes', 'yes')]"
      ]
     },
     "execution_count": 51,
     "metadata": {},
     "output_type": "execute_result"
    }
   ],
   "source": [
    "#32% (56 bigrams) of the VOICE's most common bigrams do not occur in the BNC's most common bigrams\n",
    "len(VOICE_not_BNC)\n",
    "len(VOICE_not_BNC)/len(VOICE_freq_bigrams)\n",
    "\n",
    "#Show a few of the common VOICE bigrams that aren't so common in BNC\n",
    "VOICE_not_BNC[:15]"
   ]
  },
  {
   "cell_type": "code",
   "execution_count": 52,
   "metadata": {},
   "outputs": [
    {
     "data": {
      "text/plain": [
       "0.21428571428571427"
      ]
     },
     "execution_count": 52,
     "metadata": {},
     "output_type": "execute_result"
    },
    {
     "data": {
      "text/plain": [
       "0.25"
      ]
     },
     "execution_count": 52,
     "metadata": {},
     "output_type": "execute_result"
    }
   ],
   "source": [
    "#About 21% of the bigrams common in VOICE, but not common in BNC, contain repeated words, and 25% contain the word \"er\"\n",
    "len([b for b in VOICE_not_BNC if b[0] == b[1]])/len(VOICE_not_BNC)\n",
    "len([b for b in VOICE_not_BNC if b[0] == 'er' or b[1] == 'er'])/len(VOICE_not_BNC)"
   ]
  },
  {
   "cell_type": "markdown",
   "metadata": {},
   "source": [
    "### Differences BNC and VOICE\n",
    "A lot the the common bigrams (15%) that appear in BNC but not in VOICE are contractions. Maybe native speakers are much more confortable using them than non-native speakers are."
   ]
  },
  {
   "cell_type": "code",
   "execution_count": 53,
   "metadata": {
    "collapsed": true
   },
   "outputs": [],
   "source": [
    "#Create a list of bigrams that are found in BNC's top 20%, but not in VOICE's top 20%\n",
    "BNC_not_VOICE = [b[0] for b in BNC_freq_bigrams if b[0] not in VOICE_and_BNC]"
   ]
  },
  {
   "cell_type": "code",
   "execution_count": 54,
   "metadata": {},
   "outputs": [
    {
     "data": {
      "text/plain": [
       "0.5043103448275862"
      ]
     },
     "execution_count": 54,
     "metadata": {},
     "output_type": "execute_result"
    },
    {
     "data": {
      "text/plain": [
       "[(\"'ve\", 'got'),\n",
       " ('i', \"'ve\"),\n",
       " ('he', \"'s\"),\n",
       " ('you', \"'ve\"),\n",
       " ('i', \"'ll\"),\n",
       " ('gon', 'na'),\n",
       " ('we', \"'ve\"),\n",
       " ('well', 'i'),\n",
       " ('she', \"'s\"),\n",
       " (\"n't\", 'it'),\n",
       " ('is', \"n't\"),\n",
       " ('used', 'to'),\n",
       " ('what', \"'s\"),\n",
       " ('to', 'get'),\n",
       " ('i', 'said'),\n",
       " ('a', 'bit'),\n",
       " ('to', 'go'),\n",
       " ('you', 'see'),\n",
       " ('and', 'he'),\n",
       " ('have', \"n't\")]"
      ]
     },
     "execution_count": 54,
     "metadata": {},
     "output_type": "execute_result"
    }
   ],
   "source": [
    "#Around 60% of the bigrams common in BNC are not common in VOICE. It is worth noting, though, that the BNC is much\n",
    "#larger than voice, and since we are comparing the 20% most frequently-occuring bigrams, the list of BNC bigrams will\n",
    "#be much larger than the list of VOICE bigrams\n",
    "len(BNC_not_VOICE)/len(BNC_freq_bigrams)\n",
    "\n",
    "#Display a few bigrams in the list\n",
    "BNC_not_VOICE[:20]"
   ]
  },
  {
   "cell_type": "code",
   "execution_count": 55,
   "metadata": {
    "collapsed": true
   },
   "outputs": [],
   "source": [
    "contractions = [b for b in BNC_not_VOICE if \"'\" in b[1]]"
   ]
  },
  {
   "cell_type": "code",
   "execution_count": 56,
   "metadata": {},
   "outputs": [
    {
     "data": {
      "text/plain": [
       "18"
      ]
     },
     "execution_count": 56,
     "metadata": {},
     "output_type": "execute_result"
    },
    {
     "data": {
      "text/plain": [
       "0.15384615384615385"
      ]
     },
     "execution_count": 56,
     "metadata": {},
     "output_type": "execute_result"
    },
    {
     "data": {
      "text/plain": [
       "[('i', \"'ve\"),\n",
       " ('he', \"'s\"),\n",
       " ('you', \"'ve\"),\n",
       " ('i', \"'ll\"),\n",
       " ('we', \"'ve\"),\n",
       " ('she', \"'s\"),\n",
       " ('is', \"n't\"),\n",
       " ('what', \"'s\"),\n",
       " ('have', \"n't\"),\n",
       " ('i', \"'d\"),\n",
       " ('would', \"n't\"),\n",
       " ('they', \"'ve\"),\n",
       " ('we', \"'ll\"),\n",
       " ('wo', \"n't\"),\n",
       " ('was', \"n't\"),\n",
       " ('you', \"'ll\"),\n",
       " ('could', \"n't\"),\n",
       " ('you', \"'d\")]"
      ]
     },
     "execution_count": 56,
     "metadata": {},
     "output_type": "execute_result"
    }
   ],
   "source": [
    "#Around 15% of the common BNC bigrams not found in the common VOICE bigrams are contractions.\n",
    "len(contractions)\n",
    "len(contractions)/len(BNC_not_VOICE)\n",
    "contractions"
   ]
  },
  {
   "cell_type": "code",
   "execution_count": 57,
   "metadata": {
    "collapsed": true
   },
   "outputs": [],
   "source": [
    "bigrams_df = pd.DataFrame(index = ['contractions', 'repeated_words'], columns = ['L1=English(BNC)', 'All(VOICE)', 'L1=Germanic(VOICE)', 'L1=Romance(VOICE)', 'L1=Slavic(VOICE)'])"
   ]
  },
  {
   "cell_type": "code",
   "execution_count": 58,
   "metadata": {},
   "outputs": [
    {
     "data": {
      "text/html": [
       "<div>\n",
       "<style>\n",
       "    .dataframe thead tr:only-child th {\n",
       "        text-align: right;\n",
       "    }\n",
       "\n",
       "    .dataframe thead th {\n",
       "        text-align: left;\n",
       "    }\n",
       "\n",
       "    .dataframe tbody tr th {\n",
       "        vertical-align: top;\n",
       "    }\n",
       "</style>\n",
       "<table border=\"1\" class=\"dataframe\">\n",
       "  <thead>\n",
       "    <tr style=\"text-align: right;\">\n",
       "      <th></th>\n",
       "      <th>L1=English(BNC)</th>\n",
       "      <th>All(VOICE)</th>\n",
       "      <th>L1=Germanic(VOICE)</th>\n",
       "      <th>L1=Romance(VOICE)</th>\n",
       "      <th>L1=Slavic(VOICE)</th>\n",
       "    </tr>\n",
       "  </thead>\n",
       "  <tbody>\n",
       "    <tr>\n",
       "      <th>contractions</th>\n",
       "      <td>0.0536744</td>\n",
       "      <td>0.0341021</td>\n",
       "      <td>0.0350262</td>\n",
       "      <td>0.0340637</td>\n",
       "      <td>0.0307484</td>\n",
       "    </tr>\n",
       "    <tr>\n",
       "      <th>repeated_words</th>\n",
       "      <td>0.0108283</td>\n",
       "      <td>0.0292122</td>\n",
       "      <td>0.0296259</td>\n",
       "      <td>0.030192</td>\n",
       "      <td>0.0246243</td>\n",
       "    </tr>\n",
       "  </tbody>\n",
       "</table>\n",
       "</div>"
      ],
      "text/plain": [
       "               L1=English(BNC) All(VOICE) L1=Germanic(VOICE)  \\\n",
       "contractions         0.0536744  0.0341021          0.0350262   \n",
       "repeated_words       0.0108283  0.0292122          0.0296259   \n",
       "\n",
       "               L1=Romance(VOICE) L1=Slavic(VOICE)  \n",
       "contractions           0.0340637        0.0307484  \n",
       "repeated_words          0.030192        0.0246243  "
      ]
     },
     "execution_count": 58,
     "metadata": {},
     "output_type": "execute_result"
    }
   ],
   "source": [
    "#English\n",
    "rw = len([b for b in BNC_bigrams if b[0] == b[1]])/len(BNC_bigrams)\n",
    "c = len([b for b in BNC_bigrams if \"'\" in b[1]])/len(BNC_bigrams)\n",
    "bigrams_df['L1=English(BNC)']['repeated_words'] = rw\n",
    "bigrams_df['L1=English(BNC)']['contractions'] = c\n",
    "\n",
    "\n",
    "#VOICE\n",
    "rw = len([b for b in VOICE_bigrams if b[0] == b[1]])/len(VOICE_bigrams)\n",
    "c = len([b for b in VOICE_bigrams if \"'\" in b[1]])/len(VOICE_bigrams)\n",
    "bigrams_df['All(VOICE)']['repeated_words'] = rw\n",
    "bigrams_df['All(VOICE)']['contractions'] = c\n",
    "\n",
    "\n",
    "#Germanic\n",
    "rw = len([b for b in germanic_bigrams if b[0] == b[1]])/len(germanic_bigrams)\n",
    "c = len([b for b in germanic_bigrams if \"'\" in b[1]])/len(germanic_bigrams)\n",
    "bigrams_df['L1=Germanic(VOICE)']['repeated_words'] = rw\n",
    "bigrams_df['L1=Germanic(VOICE)']['contractions'] = c\n",
    "\n",
    "#Romance\n",
    "rw = len([b for b in romance_bigrams if b[0] == b[1]])/len(romance_bigrams)\n",
    "c = len([b for b in romance_bigrams if \"'\" in b[1]])/len(romance_bigrams)\n",
    "bigrams_df['L1=Romance(VOICE)']['repeated_words'] = rw\n",
    "bigrams_df['L1=Romance(VOICE)']['contractions'] = c\n",
    "\n",
    "#Slavic\n",
    "rw = len([b for b in slavic_bigrams if b[0] == b[1]])/len(slavic_bigrams)\n",
    "c = len([b for b in slavic_bigrams if \"'\" in b[1]])/len(slavic_bigrams)\n",
    "bigrams_df['L1=Slavic(VOICE)']['repeated_words'] = rw\n",
    "bigrams_df['L1=Slavic(VOICE)']['contractions'] = c\n",
    "\n",
    "bigrams_df"
   ]
  },
  {
   "cell_type": "code",
   "execution_count": 60,
   "metadata": {},
   "outputs": [
    {
     "data": {
      "text/plain": [
       "<matplotlib.axes._subplots.AxesSubplot at 0x15bcc9d68>"
      ]
     },
     "execution_count": 60,
     "metadata": {},
     "output_type": "execute_result"
    },
    {
     "data": {
      "text/plain": [
       "<matplotlib.legend.Legend at 0x15bce1e80>"
      ]
     },
     "execution_count": 60,
     "metadata": {},
     "output_type": "execute_result"
    },
    {
     "data": {
      "text/plain": [
       "<matplotlib.text.Text at 0x15bca0c18>"
      ]
     },
     "execution_count": 60,
     "metadata": {},
     "output_type": "execute_result"
    },
    {
     "data": {
      "text/plain": [
       "<matplotlib.text.Text at 0x182d2ee48>"
      ]
     },
     "execution_count": 60,
     "metadata": {},
     "output_type": "execute_result"
    },
    {
     "data": {
      "image/png": "[encoded data removed]",
      "text/plain": [
       "<matplotlib.figure.Figure at 0x15bc95978>"
      ]
     },
     "metadata": {},
     "output_type": "display_data"
    }
   ],
   "source": [
    "bigrams_df.plot(kind='bar', figsize=(15,10))\n",
    "plt.tick_params(axis = 'both', reset=True, labelsize=15)\n",
    "plt.legend(prop={'size':20})\n",
    "bar_width = 0.4\n",
    "L=plt.legend()\n",
    "L.get_texts()[1].set_text('All non-native L1s(VOICE)')\n",
    "plt.xlabel(\"Bigram type\", fontsize= 20, labelpad = 20)\n",
    "plt.ylabel(\"Frequency (percent)\", fontsize= 20, labelpad = 20)\n",
    "plt.show()"
   ]
  },
  {
   "cell_type": "markdown",
   "metadata": {},
   "source": [
    "## Comparing Contraction Use\n"
   ]
  },
  {
   "cell_type": "markdown",
   "metadata": {},
   "source": [
    "### Proportion of contraction bigrams\n",
    "As noted in the bigram comparison, contractions appeared frequently among the BNC's most common bigrams, while they\n",
    "were much less common among VOICE's bigrams. Even after hesitation bigrams were removed from the bigram lists (which most likely impacted VOICE more than BNC), the proportion of contractions in the BNC is significantly higher than those in VOICE and the three sub-corpora. This time, speakers of Romance L1s had the highest proportion of contraction use among non-native speakers, at 0.01."
   ]
  },
  {
   "cell_type": "code",
   "execution_count": 61,
   "metadata": {},
   "outputs": [
    {
     "data": {
      "text/plain": [
       "0.05367441273285753"
      ]
     },
     "execution_count": 61,
     "metadata": {},
     "output_type": "execute_result"
    }
   ],
   "source": [
    "BNC_contractions_proportions = len([b for b in BNC_bigrams if \"'\" in b[1]])/len(BNC_bigrams)\n",
    "BNC_contractions_proportions"
   ]
  },
  {
   "cell_type": "code",
   "execution_count": 62,
   "metadata": {},
   "outputs": [
    {
     "data": {
      "text/plain": [
       "0.03410209391694874"
      ]
     },
     "execution_count": 62,
     "metadata": {},
     "output_type": "execute_result"
    }
   ],
   "source": [
    "VOICE_contractions_proportions = len([b for b in VOICE_bigrams if \"'\" in b[1]])/len(VOICE_bigrams)\n",
    "VOICE_contractions_proportions"
   ]
  },
  {
   "cell_type": "code",
   "execution_count": 63,
   "metadata": {},
   "outputs": [
    {
     "data": {
      "text/plain": [
       "0.03502617764352147"
      ]
     },
     "execution_count": 63,
     "metadata": {},
     "output_type": "execute_result"
    }
   ],
   "source": [
    "germanic_contractions_proportions = len([b for b in germanic_bigrams if \"'\" in b[1]])/len(germanic_bigrams)\n",
    "germanic_contractions_proportions"
   ]
  },
  {
   "cell_type": "code",
   "execution_count": 64,
   "metadata": {},
   "outputs": [
    {
     "data": {
      "text/plain": [
       "0.03406370609213933"
      ]
     },
     "execution_count": 64,
     "metadata": {},
     "output_type": "execute_result"
    }
   ],
   "source": [
    "romance_contractions_proportions = len([b for b in romance_bigrams if \"'\" in b[1]])/len(romance_bigrams)\n",
    "romance_contractions_proportions"
   ]
  },
  {
   "cell_type": "code",
   "execution_count": 65,
   "metadata": {},
   "outputs": [
    {
     "data": {
      "text/plain": [
       "0.030748418704983363"
      ]
     },
     "execution_count": 65,
     "metadata": {},
     "output_type": "execute_result"
    }
   ],
   "source": [
    "slavic_contractions_proportions = len([b for b in slavic_bigrams if \"'\" in b[1]])/len(slavic_bigrams)\n",
    "slavic_contractions_proportions"
   ]
  },
  {
   "cell_type": "markdown",
   "metadata": {},
   "source": [
    "### Common contraction bigrams in each corpus\n",
    "Clearly, contractions occur much more frequently among the BNC's most common bigrams than among VOICE's bigrams. The contractions found in the most common bigrams of VOICE's sub-corpora seem pretty uniform (don't, can't, doesn't, didn't, 'nt know). Also, these bigrams seem to be the most frequent contractions used in the BNC. This could indicate that non-native speakers can confidently use the most commonly-occurring contractions in English, but might struggle to use them in other contexts."
   ]
  },
  {
   "cell_type": "code",
   "execution_count": 66,
   "metadata": {},
   "outputs": [
    {
     "data": {
      "text/plain": [
       "[(('it', \"'s\"), 68661),\n",
       " (('that', \"'s\"), 45150),\n",
       " (('do', \"n't\"), 42215),\n",
       " (('i', \"'m\"), 25963),\n",
       " (('i', \"'ve\"), 18154),\n",
       " (('you', \"'re\"), 17641),\n",
       " (('there', \"'s\"), 16983),\n",
       " (('they', \"'re\"), 15291),\n",
       " (('he', \"'s\"), 15215),\n",
       " (('did', \"n't\"), 14026),\n",
       " (('you', \"'ve\"), 13023),\n",
       " (('ca', \"n't\"), 12895),\n",
       " (('i', \"'ll\"), 12743),\n",
       " (('we', \"'re\"), 10764),\n",
       " (('we', \"'ve\"), 10572),\n",
       " (('she', \"'s\"), 8907),\n",
       " (('is', \"n't\"), 8439),\n",
       " (('what', \"'s\"), 8014),\n",
       " (('have', \"n't\"), 7606),\n",
       " (('does', \"n't\"), 6927),\n",
       " (('i', \"'d\"), 6199),\n",
       " (('would', \"n't\"), 5884),\n",
       " (('they', \"'ve\"), 5852),\n",
       " (('we', \"'ll\"), 5749),\n",
       " (('wo', \"n't\"), 5714),\n",
       " (('was', \"n't\"), 5174),\n",
       " (('you', \"'ll\"), 4178),\n",
       " (('could', \"n't\"), 3949),\n",
       " (('you', \"'d\"), 3537)]"
      ]
     },
     "execution_count": 66,
     "metadata": {},
     "output_type": "execute_result"
    }
   ],
   "source": [
    "BNC_common_contractions = [b for b in BNC_freq_bigrams if \"'\" in b[0][1]]\n",
    "BNC_common_contractions"
   ]
  },
  {
   "cell_type": "code",
   "execution_count": 67,
   "metadata": {},
   "outputs": [
    {
     "data": {
      "text/plain": [
       "[(('it', \"'s\"), 5976),\n",
       " (('that', \"'s\"), 2637),\n",
       " (('do', \"n't\"), 2339),\n",
       " (('i', \"'m\"), 1454),\n",
       " (('you', \"'re\"), 541),\n",
       " (('did', \"n't\"), 455),\n",
       " (('there', \"'s\"), 414),\n",
       " (('we', \"'re\"), 401),\n",
       " (('let', \"'s\"), 355),\n",
       " (('ca', \"n't\"), 344),\n",
       " (('they', \"'re\"), 308),\n",
       " (('does', \"n't\"), 293)]"
      ]
     },
     "execution_count": 67,
     "metadata": {},
     "output_type": "execute_result"
    }
   ],
   "source": [
    "VOICE_common_contractions = [b for b in VOICE_freq_bigrams if \"'\" in b[0][1]]\n",
    "VOICE_common_contractions"
   ]
  },
  {
   "cell_type": "code",
   "execution_count": 92,
   "metadata": {},
   "outputs": [
    {
     "data": {
      "text/plain": [
       "12"
      ]
     },
     "execution_count": 92,
     "metadata": {},
     "output_type": "execute_result"
    },
    {
     "data": {
      "text/plain": [
       "[(('it', \"'s\"), 3176),\n",
       " (('that', \"'s\"), 1653),\n",
       " (('do', \"n't\"), 1093),\n",
       " (('i', \"'m\"), 701),\n",
       " (('you', \"'re\"), 348),\n",
       " (('there', \"'s\"), 258),\n",
       " (('we', \"'re\"), 241),\n",
       " (('did', \"n't\"), 210),\n",
       " (('ca', \"n't\"), 177),\n",
       " (('let', \"'s\"), 163),\n",
       " (('they', \"'re\"), 162),\n",
       " (('i', \"'ve\"), 156)]"
      ]
     },
     "execution_count": 92,
     "metadata": {},
     "output_type": "execute_result"
    },
    {
     "data": {
      "text/plain": [
       "9"
      ]
     },
     "execution_count": 92,
     "metadata": {},
     "output_type": "execute_result"
    },
    {
     "data": {
      "text/plain": [
       "[(('it', \"'s\"), 953),\n",
       " (('do', \"n't\"), 438),\n",
       " (('that', \"'s\"), 301),\n",
       " (('i', \"'m\"), 265),\n",
       " (('did', \"n't\"), 97),\n",
       " (('you', \"'re\"), 72),\n",
       " (('ca', \"n't\"), 60),\n",
       " (('let', \"'s\"), 57),\n",
       " (('we', \"'re\"), 54)]"
      ]
     },
     "execution_count": 92,
     "metadata": {},
     "output_type": "execute_result"
    },
    {
     "data": {
      "text/plain": [
       "9"
      ]
     },
     "execution_count": 92,
     "metadata": {},
     "output_type": "execute_result"
    },
    {
     "data": {
      "text/plain": [
       "[(('it', \"'s\"), 567),\n",
       " (('do', \"n't\"), 248),\n",
       " (('that', \"'s\"), 196),\n",
       " (('i', \"'m\"), 150),\n",
       " (('let', \"'s\"), 70),\n",
       " (('did', \"n't\"), 44),\n",
       " (('you', \"'re\"), 35),\n",
       " (('does', \"n't\"), 31),\n",
       " (('ca', \"n't\"), 31)]"
      ]
     },
     "execution_count": 92,
     "metadata": {},
     "output_type": "execute_result"
    }
   ],
   "source": [
    "#The contraction use for the three L1 subgroups seem very similar -- for all three groups, it's, that's, don't, i'm,\n",
    "#didn't are all among the most common.\n",
    "#One difference, though, is that the participants with Germanic L1s have a slightly larger number of contraction \n",
    "#bigrams among their most common bigrams (the Germanic subgroup has 12 contractions among their 20% most frequent\n",
    "#bigrams, while the Romance and Slavic groups only have 9)\n",
    "germanic_common_contractions = [b for b in germanic_freq_bigrams if \"'\" in b[0][1]]\n",
    "len(germanic_common_contractions)\n",
    "germanic_common_contractions\n",
    "\n",
    "len(romance_common_contractions)\n",
    "romance_common_contractions = [b for b in romance_freq_bigrams if \"'\" in b[0][1]]\n",
    "romance_common_contractions\n",
    "\n",
    "len(slavic_common_contractions)\n",
    "slavic_common_contractions = [b for b in slavic_freq_bigrams if \"'\" in b[0][1]]\n",
    "slavic_common_contractions"
   ]
  },
  {
   "cell_type": "markdown",
   "metadata": {},
   "source": [
    "### Comparing use of specific contractions in each L1 group"
   ]
  },
  {
   "cell_type": "code",
   "execution_count": 101,
   "metadata": {
    "collapsed": true
   },
   "outputs": [],
   "source": [
    "#Get a list of the all of the contractions that occur in each group's full bigram list (not just the 20% most frequent)\n",
    "BNC_contractions = [b for b in BNC_bigrams if \"'\" in b[1]]\n",
    "germanic_contractions = [b for b in germanic_bigrams if \"'\" in b[1]]\n",
    "romance_contractions = [b for b in romance_bigrams if \"'\" in b[1]]\n",
    "slavic_contractions = [b for b in slavic_bigrams if \"'\" in b[1]]"
   ]
  },
  {
   "cell_type": "code",
   "execution_count": 102,
   "metadata": {
    "collapsed": true
   },
   "outputs": [],
   "source": [
    "BNC_contractions_frequencies = nltk.FreqDist(BNC_contractions)\n",
    "germanic_contractions_frequencies = nltk.FreqDist(germanic_contractions)\n",
    "romance_contractions_frequencies = nltk.FreqDist(romance_contractions)\n",
    "slavic_contractions_frequencies = nltk.FreqDist(slavic_contractions)"
   ]
  },
  {
   "cell_type": "code",
   "execution_count": 103,
   "metadata": {
    "collapsed": true
   },
   "outputs": [],
   "source": [
    "contractions_df = pd.DataFrame(index = [b[0] for b in BNC_common_contractions[:15]], columns = ['English(BNC)', 'Germanic(VOICE)', 'Romance(VOICE)', 'Slavic(VOICE)'])"
   ]
  },
  {
   "cell_type": "code",
   "execution_count": 104,
   "metadata": {
    "collapsed": true
   },
   "outputs": [],
   "source": [
    "for bigram in BNC_common_contractions[:15]:\n",
    "    bigram = bigram[0]\n",
    "    contractions_df['English(BNC)'][bigram] = BNC_contractions_frequencies[bigram]/len(BNC_bigrams)\n",
    "    contractions_df['Germanic(VOICE)'][bigram] = germanic_contractions_frequencies[bigram]/len(germanic_bigrams)\n",
    "    contractions_df['Romance(VOICE)'][bigram] = romance_contractions_frequencies[bigram]/len(romance_bigrams)\n",
    "    contractions_df['Slavic(VOICE)'][bigram] = slavic_contractions_frequencies[bigram]/len(slavic_bigrams)"
   ]
  },
  {
   "cell_type": "code",
   "execution_count": 105,
   "metadata": {
    "scrolled": false
   },
   "outputs": [
    {
     "data": {
      "text/plain": [
       "<matplotlib.axes._subplots.AxesSubplot at 0x15bd2c438>"
      ]
     },
     "execution_count": 105,
     "metadata": {},
     "output_type": "execute_result"
    },
    {
     "data": {
      "text/plain": [
       "<matplotlib.legend.Legend at 0x15bd3ccf8>"
      ]
     },
     "execution_count": 105,
     "metadata": {},
     "output_type": "execute_result"
    },
    {
     "data": {
      "text/plain": [
       "<matplotlib.text.Text at 0x15bde99b0>"
      ]
     },
     "execution_count": 105,
     "metadata": {},
     "output_type": "execute_result"
    },
    {
     "data": {
      "text/plain": [
       "<matplotlib.text.Text at 0x15bdcd940>"
      ]
     },
     "execution_count": 105,
     "metadata": {},
     "output_type": "execute_result"
    },
    {
     "data": {
      "image/png": "[encoded data removed]",
      "text/plain": [
       "<matplotlib.figure.Figure at 0x15bddd940>"
      ]
     },
     "metadata": {},
     "output_type": "display_data"
    }
   ],
   "source": [
    "contractions_df.plot(kind='bar', figsize=(20,10))\n",
    "plt.tick_params(axis = 'both', reset=True, labelsize=15)\n",
    "plt.legend(prop={'size':20})\n",
    "plt.xlabel(\"Bigrams\", fontsize= 20, labelpad = 20)\n",
    "plt.ylabel(\"Frequency (percent)\", fontsize= 20, labelpad = 20)\n",
    "plt.show()"
   ]
  },
  {
   "cell_type": "markdown",
   "metadata": {},
   "source": [
    "## Comparing Bigrams of Native and Non-native Speakers: Round 2\n",
    "Since the original VOICE bigram lists contain a lot of hesitations and repeated words, they are limited in what they can tell us about additional linguistic features. Here, we'll get rid of these bigrams to hopefully make some more interesting discoveries."
   ]
  },
  {
   "cell_type": "markdown",
   "metadata": {},
   "source": [
    "### Modifying the bigram list\n",
    "Remake the lists of bigrams such that they do not contain repeated words or the common hesitation words, \"er\" and \"erm.\" Also, in the previous sections, it some corpus-specific symbols in VOICE, like \"x\" and \"[\", were common so we'll get rid of bigrams including them, too."
   ]
  },
  {
   "cell_type": "code",
   "execution_count": 111,
   "metadata": {},
   "outputs": [
    {
     "data": {
      "text/plain": [
       "\"\\nChecks whether a given bigram in valid for our purposes. A bigram is valid if it doesn't contain repeated words\\nor hesitation words\\n\""
      ]
     },
     "execution_count": 111,
     "metadata": {},
     "output_type": "execute_result"
    }
   ],
   "source": [
    "\"\"\"\n",
    "Checks whether a given bigram in valid for our purposes. A bigram is valid if it doesn't contain repeated words\n",
    "or hesitation words\n",
    "\"\"\"\n",
    "import re\n",
    "def is_valid(bigram):\n",
    "    if bigram[0] == bigram[1] :\n",
    "        return False\n",
    "    \n",
    "    if bigram[0] == 'er' or bigram[1] == 'er' :\n",
    "        return False\n",
    "    \n",
    "    if bigram[0] == 'erm' or bigram[1] == 'erm' :\n",
    "        return False\n",
    "    \n",
    "   # return True\n",
    "    \n",
    "    \n",
    "    p = re.compile('h+')\n",
    "    if p.match(bigram[0]) or p.match(bigram[1]):\n",
    "        return False\n",
    "    \n",
    "    p = re.compile('x+')\n",
    "    if p.match(bigram[0]) or p.match(bigram[1]):\n",
    "        return False\n",
    "    \n",
    "    if(\"[\" in bigram[0] or \"[\" in bigram[1] or \"]\" in bigram[0] or \"]\" in bigram[1]):\n",
    "        return False\n",
    "    \n",
    "\n",
    "    return True\n"
   ]
  },
  {
   "cell_type": "code",
   "execution_count": 112,
   "metadata": {
    "collapsed": true
   },
   "outputs": [],
   "source": [
    "#Remake the bigrams lists such that they only include valid bigrams\n",
    "BNC_bigrams = [b for b in BNC_bigrams if is_valid(b) == True]\n",
    "VOICE_bigrams = [b for b in VOICE_bigrams if is_valid(b) == True]\n",
    "germanic_bigrams = [b for b in germanic_bigrams if is_valid(b) == True]\n",
    "romance_bigrams = [b for b in romance_bigrams if is_valid(b) == True]\n",
    "slavic_bigrams = [b for b in slavic_bigrams if is_valid(b) == True]"
   ]
  },
  {
   "cell_type": "markdown",
   "metadata": {
    "collapsed": true
   },
   "source": [
    "### Similarities between VOICE and BNC\n",
    "With the elimination of the types of bigrams listed above, the most common bigrams in the non-native groups that also occur among the BNC's most common bigrams increased, and exceeds 70% for all groups. For the entire VOICE corpus and for the Germanic subcorpus, almost 80% of the most common bigrams also occur in BNC's most common bigrams."
   ]
  },
  {
   "cell_type": "code",
   "execution_count": 113,
   "metadata": {
    "collapsed": true
   },
   "outputs": [],
   "source": [
    "#For each corpus/subcorpus, get the top 20% of bigrams, in terms of frequency.\n",
    "BNC_freq_bigrams = frequent_bigrams(BNC_bigrams, 0.2)\n",
    "VOICE_freq_bigrams = frequent_bigrams(VOICE_bigrams, 0.2)\n",
    "germanic_freq_bigrams = frequent_bigrams(germanic_bigrams, 0.2)\n",
    "romance_freq_bigrams = frequent_bigrams(romance_bigrams, 0.2)\n",
    "slavic_freq_bigrams = frequent_bigrams(slavic_bigrams, 0.2)"
   ]
  },
  {
   "cell_type": "code",
   "execution_count": 115,
   "metadata": {},
   "outputs": [
    {
     "data": {
      "text/plain": [
       "\"\\nFor VOICE and each of its sub-corpora, create lists containing all of the top bigrams that occur in the corpus that \\nalso occur in BNC's top bigrams.\\n\""
      ]
     },
     "execution_count": 115,
     "metadata": {},
     "output_type": "execute_result"
    }
   ],
   "source": [
    "\"\"\"\n",
    "For VOICE and each of its sub-corpora, create lists containing all of the top bigrams that occur in the corpus that \n",
    "also occur in BNC's top bigrams.\n",
    "\"\"\"\n",
    "VOICE_and_BNC = shared_bigrams(BNC_freq_bigrams, VOICE_freq_bigrams)\n",
    "germanic_and_BNC = shared_bigrams(BNC_freq_bigrams, germanic_freq_bigrams)\n",
    "romance_and_BNC = shared_bigrams(BNC_freq_bigrams, romance_freq_bigrams)\n",
    "slavic_and_BNC = shared_bigrams(BNC_freq_bigrams, slavic_freq_bigrams)"
   ]
  },
  {
   "cell_type": "code",
   "execution_count": 116,
   "metadata": {},
   "outputs": [
    {
     "data": {
      "text/plain": [
       "0.7959183673469388"
      ]
     },
     "execution_count": 116,
     "metadata": {},
     "output_type": "execute_result"
    },
    {
     "data": {
      "text/plain": [
       "0.7837837837837838"
      ]
     },
     "execution_count": 116,
     "metadata": {},
     "output_type": "execute_result"
    },
    {
     "data": {
      "text/plain": [
       "0.7698412698412699"
      ]
     },
     "execution_count": 116,
     "metadata": {},
     "output_type": "execute_result"
    },
    {
     "data": {
      "text/plain": [
       "0.7111111111111111"
      ]
     },
     "execution_count": 116,
     "metadata": {},
     "output_type": "execute_result"
    }
   ],
   "source": [
    "len(VOICE_and_BNC)/len(VOICE_freq_bigrams)\n",
    "len(germanic_and_BNC)/len(germanic_freq_bigrams)\n",
    "len(romance_and_BNC)/len(romance_freq_bigrams)\n",
    "len(slavic_and_BNC)/len(slavic_freq_bigrams)"
   ]
  },
  {
   "cell_type": "markdown",
   "metadata": {},
   "source": [
    "### Differences between VOICE and BNC\n",
    "A lot of the bigrams common in the BNC but not in VOICE are still contractions. Since a lot of the bigrams that were particular common in VOICE were eliminated, this could be strong evidence that non-native speakers use contractions much less frequently than native speakers.  \n",
    "In addition, a lot of the bigrams common in the VOICE but not in BNC are words that could, and frequently are, used as contractions instead (we are, they are, is not, we will, what is, i will).  \n",
    "Another interesting point is that a some of the bigrams common to VOICE, but not to the BNC, are transition phrases, like \"for example,\" \"because i\", \"because it\", \"then you\", \"because we.\" Oftentimes, people learning a second language will often learn a lot of very formulaic transition words and phrases, so this could be the case here."
   ]
  },
  {
   "cell_type": "code",
   "execution_count": 117,
   "metadata": {
    "collapsed": true
   },
   "outputs": [],
   "source": [
    "VOICE_not_BNC = [b[0] for b in VOICE_freq_bigrams if b[0] not in VOICE_and_BNC]\n",
    "BNC_not_VOICE = BNC_not_VOICE = [b[0] for b in BNC_freq_bigrams if b[0] not in VOICE_and_BNC]"
   ]
  },
  {
   "cell_type": "code",
   "execution_count": 120,
   "metadata": {},
   "outputs": [
    {
     "data": {
      "text/plain": [
       "[('we', 'are'),\n",
       " ('kind', 'of'),\n",
       " ('they', 'are'),\n",
       " ('is', 'not'),\n",
       " ('for', 'example'),\n",
       " ('so', 'it'),\n",
       " ('yeah', 'but'),\n",
       " ('you', 'are'),\n",
       " ('should', 'be'),\n",
       " ('so', 'we'),\n",
       " ('we', 'will'),\n",
       " ('let', \"'s\"),\n",
       " ('and', 'this'),\n",
       " ('because', 'i'),\n",
       " ('what', 'is'),\n",
       " ('then', 'we'),\n",
       " ('in', 'this'),\n",
       " ('we', 'should'),\n",
       " ('and', 'so'),\n",
       " ('to', 'make'),\n",
       " ('but', 'we'),\n",
       " ('because', 'it'),\n",
       " ('i', 'will'),\n",
       " ('part', 'of'),\n",
       " ('at', 'least'),\n",
       " ('then', 'you'),\n",
       " (\"'s\", 'very'),\n",
       " ('because', 'we'),\n",
       " ('could', 'be'),\n",
       " ('are', 'not')]"
      ]
     },
     "execution_count": 120,
     "metadata": {},
     "output_type": "execute_result"
    }
   ],
   "source": [
    "VOICE_not_BNC"
   ]
  },
  {
   "cell_type": "code",
   "execution_count": 121,
   "metadata": {},
   "outputs": [
    {
     "data": {
      "text/plain": [
       "[(\"'ve\", 'got'),\n",
       " ('you', \"'ve\"),\n",
       " ('we', \"'ve\"),\n",
       " ('well', 'i'),\n",
       " ('she', \"'s\"),\n",
       " (\"n't\", 'it'),\n",
       " ('is', \"n't\"),\n",
       " ('used', 'to'),\n",
       " ('what', \"'s\"),\n",
       " ('i', 'said'),\n",
       " ('a', 'bit'),\n",
       " ('you', 'see'),\n",
       " ('got', 'a'),\n",
       " ('one', 'of'),\n",
       " ('was', 'a'),\n",
       " (\"n't\", 'you'),\n",
       " ('they', 'were'),\n",
       " ('there', 'was'),\n",
       " ('got', 'to'),\n",
       " ('i', \"'d\"),\n",
       " ('are', 'you'),\n",
       " ('for', 'a'),\n",
       " ('did', 'you'),\n",
       " ('would', \"n't\"),\n",
       " ('they', \"'ve\"),\n",
       " (\"'s\", 'got'),\n",
       " ('we', \"'ll\"),\n",
       " ('wo', \"n't\"),\n",
       " (\"'s\", 'right'),\n",
       " ('what', 'you'),\n",
       " ('i', 'thought'),\n",
       " ('of', 'a'),\n",
       " ('out', 'of'),\n",
       " ('look', 'at'),\n",
       " ('was', \"n't\"),\n",
       " ('oh', 'i'),\n",
       " (\"n't\", 'think'),\n",
       " (\"'re\", 'not'),\n",
       " (\"'ll\", 'be'),\n",
       " ('if', 'i'),\n",
       " ('you', 'get'),\n",
       " ('by', 'the'),\n",
       " ('when', 'i'),\n",
       " ('of', 'them'),\n",
       " (\"'m\", 'not'),\n",
       " ('know', 'what'),\n",
       " (\"'s\", 'what'),\n",
       " ('and', 'a'),\n",
       " ('of', 'it'),\n",
       " ('i', 'ca'),\n",
       " ('that', 'one'),\n",
       " ('you', \"'ll\"),\n",
       " ('the', 'way'),\n",
       " ('you', 'could'),\n",
       " ('on', 'a'),\n",
       " ('was', 'the'),\n",
       " ('you', 'got'),\n",
       " ('she', 'said'),\n",
       " ('with', 'a'),\n",
       " ('could', \"n't\"),\n",
       " ('some', 'of'),\n",
       " ('and', 'she'),\n",
       " ('well', 'it'),\n",
       " ('you', 'were'),\n",
       " ('oh', 'yeah'),\n",
       " (\"'ve\", 'been'),\n",
       " (\"'s\", 'that'),\n",
       " ('it', 'would'),\n",
       " (\"'s\", 'just'),\n",
       " ('it', 'in'),\n",
       " ('it', 'does'),\n",
       " ('it', 'and'),\n",
       " ('well', 'you'),\n",
       " ('if', 'it'),\n",
       " ('of', 'that'),\n",
       " ('we', 'were')]"
      ]
     },
     "execution_count": 121,
     "metadata": {},
     "output_type": "execute_result"
    }
   ],
   "source": [
    "BNC_not_VOICE"
   ]
  }
 ],
 "metadata": {
  "kernelspec": {
   "display_name": "Python 3",
   "language": "python",
   "name": "python3"
  },
  "language_info": {
   "codemirror_mode": {
    "name": "ipython",
    "version": 3
   },
   "file_extension": ".py",
   "mimetype": "text/x-python",
   "name": "python",
   "nbconvert_exporter": "python",
   "pygments_lexer": "ipython3",
   "version": "3.6.1"
  }
 },
 "nbformat": 4,
 "nbformat_minor": 2
}
