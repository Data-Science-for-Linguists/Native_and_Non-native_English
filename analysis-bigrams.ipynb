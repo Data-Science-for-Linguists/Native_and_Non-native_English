{
 "cells": [
  {
   "cell_type": "markdown",
   "metadata": {},
   "source": [
    "Katherine Kairis, kak275@pitt.edu, 11/28/2017"
   ]
  },
  {
   "cell_type": "markdown",
   "metadata": {},
   "source": [
    "NEW CONTINUING"
   ]
  },
  {
   "cell_type": "code",
   "execution_count": 1,
   "metadata": {
    "collapsed": true
   },
   "outputs": [],
   "source": [
    "import pickle\n",
    "import nltk\n",
    "from nltk.corpus import stopwords\n",
    "import pandas as pd\n",
    "import matplotlib.pyplot as plt\n",
    "stopWords = set(stopwords.words('english'))\n",
    "\n",
    "from IPython.core.interactiveshell import InteractiveShell\n",
    "InteractiveShell.ast_node_interactivity = \"all\""
   ]
  },
  {
   "cell_type": "code",
   "execution_count": 2,
   "metadata": {},
   "outputs": [
    {
     "data": {
      "text/plain": [
       "'\\nTakes a dictionary of conversations from a corpus, and returns a list of bigrams.\\n'"
      ]
     },
     "execution_count": 2,
     "metadata": {},
     "output_type": "execute_result"
    }
   ],
   "source": [
    "\"\"\"\n",
    "Takes a dictionary of conversations from a corpus, and returns a list of bigrams.\n",
    "\"\"\"\n",
    "def get_bigrams(dictionary):\n",
    "    bigrams = []\n",
    "    for file in dictionary:\n",
    "        for key in dictionary[file]:\n",
    "            pairs = list(nltk.bigrams(dictionary[file][key]))\n",
    "            bigrams.extend(pairs)\n",
    "    return bigrams"
   ]
  },
  {
   "cell_type": "code",
   "execution_count": 3,
   "metadata": {},
   "outputs": [
    {
     "data": {
      "text/plain": [
       "\"\\nTakes a list of bigrams, returns dictionary whose keys are bigrams containing duplicate words (e.g ('i', 'i',), \\n'the', 'the') and whose values are the frequencies of each bigram\\n\""
      ]
     },
     "execution_count": 3,
     "metadata": {},
     "output_type": "execute_result"
    }
   ],
   "source": [
    "\"\"\"\n",
    "Takes a list of bigrams, returns dictionary whose keys are bigrams containing duplicate words (e.g ('i', 'i',), \n",
    "'the', 'the') and whose values are the frequencies of each bigram\n",
    "\"\"\"\n",
    "def repeated_words(bigrams):\n",
    "    repeated = {}\n",
    "    for b in bigrams:\n",
    "        if(b[0] == b[1]):\n",
    "            if(b not in repeated):\n",
    "                repeated[b] = 1\n",
    "            else:\n",
    "                repeated[b] += 1\n",
    "    return repeated"
   ]
  },
  {
   "cell_type": "code",
   "execution_count": 4,
   "metadata": {},
   "outputs": [
    {
     "data": {
      "text/plain": [
       "\"\\nTakes a dictionary of bigrams whose keys are bigrams containing duplicate words (e.g ('i', 'i',), \\n'the', 'the') and whose values are the frequencies of each bigram. Returns the sum of the frequencies for only\\nbigrams that contain repeated stop words\\n\""
      ]
     },
     "execution_count": 4,
     "metadata": {},
     "output_type": "execute_result"
    }
   ],
   "source": [
    "\"\"\"\n",
    "Takes a dictionary of bigrams whose keys are bigrams containing duplicate words (e.g ('i', 'i',), \n",
    "'the', 'the') and whose values are the frequencies of each bigram. Returns the sum of the frequencies for only\n",
    "bigrams that contain repeated stop words\n",
    "\"\"\"\n",
    "def repeated_stopwords(bigram_dict):\n",
    "    count = 0\n",
    "    for b in bigram_dict.keys():\n",
    "        if b[0] in stopWords:\n",
    "            count += bigram_dict[b]\n",
    "    return count"
   ]
  },
  {
   "cell_type": "code",
   "execution_count": 5,
   "metadata": {},
   "outputs": [
    {
     "data": {
      "text/plain": [
       "'\\nTakes a dictionary containing conversations and a user-provided tag. Returns a dictionary who keys are words that are \\nassociated with the tag, and whose values are the frequencies of each word\\n'"
      ]
     },
     "execution_count": 5,
     "metadata": {},
     "output_type": "execute_result"
    }
   ],
   "source": [
    "\"\"\"\n",
    "Takes a dictionary containing conversations and a user-provided tag. Returns a dictionary who keys are words that are \n",
    "associated with the tag, and whose values are the frequencies of each word\n",
    "\"\"\"\n",
    "def tag_counts(conv_dictionary, tag):\n",
    "    tags = {}\n",
    "    for file in conv_dictionary:\n",
    "        for key in conv_dictionary[file]:\n",
    "            for pair in conv_dictionary[file][key]:\n",
    "                if(pair[1] == tag):\n",
    "                    if(pair not in tags):\n",
    "                        tags[pair] = 1\n",
    "                    else:\n",
    "                        tags[pair] += 1\n",
    "    return tags"
   ]
  },
  {
   "cell_type": "code",
   "execution_count": 6,
   "metadata": {},
   "outputs": [
    {
     "data": {
      "text/plain": [
       "'\\nTakes a list of bigrams and a percentage between 0 and 1. Returns a dictionary whose keys are bigrams and whose values\\nare the frequencies of the bigrams. The bigrams included in the dictionary are only the ones that occur in the top \\ngiven percent. For example, if the user inputs BNC_bigrams 0.3, the returned dictionary will occur the top 30% of \\nbigrams in terms of their frequencies. The BNC has 9378696 bigram occurrences, so the dictionary will contain around \\n1875739 entries.\\n'"
      ]
     },
     "execution_count": 6,
     "metadata": {},
     "output_type": "execute_result"
    }
   ],
   "source": [
    "\"\"\"\n",
    "Takes a list of bigrams and a percentage between 0 and 1. Returns a dictionary whose keys are bigrams and whose values\n",
    "are the frequencies of the bigrams. The bigrams included in the dictionary are only the ones that occur in the top \n",
    "given percent. For example, if the user inputs BNC_bigrams 0.3, the returned dictionary will occur the top 30% of \n",
    "bigrams in terms of their frequencies. The BNC has 9378696 bigram occurrences, so the dictionary will contain around \n",
    "1875739 entries.\n",
    "\"\"\"\n",
    "\n",
    "def frequent_bigrams(bigrams, percent):\n",
    "    freqs = nltk.FreqDist(bigrams)\n",
    "    most_common = freqs.most_common()\n",
    "    limit = len(bigrams) * percent\n",
    "    num_occurrences = 0\n",
    "    top_bigrams = []\n",
    "    \n",
    "    for b in freqs.most_common():\n",
    "        num_occurrences += b[1]\n",
    "        if(num_occurrences >= limit):\n",
    "            return top_bigrams\n",
    "        top_bigrams.append(b)\n",
    "    return count_dictionary"
   ]
  },
  {
   "cell_type": "code",
   "execution_count": 7,
   "metadata": {},
   "outputs": [
    {
     "data": {
      "text/plain": [
       "'\\nTakes a conversation dictionary and a list of languages. Returns a dictionary of conversations containing only \\nutterances from participants whose L1 is listed in the list of languages.\\n'"
      ]
     },
     "execution_count": 7,
     "metadata": {},
     "output_type": "execute_result"
    }
   ],
   "source": [
    "\"\"\"\n",
    "Takes a conversation dictionary and a list of languages. Returns a dictionary of conversations containing only \n",
    "utterances from participants whose L1 is listed in the list of languages.\n",
    "\"\"\"\n",
    "def speech_by_L1(conversation_dict, lang_list):\n",
    "    new_dict = {}\n",
    "    for conversation in conversation_dict.keys():\n",
    "        utterances = {}\n",
    "        \n",
    "        for pair in conversation_dict[conversation]:    \n",
    "            speaker = pair[1]\n",
    "            #print(conversation_dict[conversation][pair])\n",
    "\n",
    "            \n",
    "            #print(participants[speaker]['L1'][0])\n",
    "            if(participants[speaker]['L1'][0] in lang_list):\n",
    "                utterances[pair] = conversation_dict[conversation][pair]\n",
    "            \n",
    "\n",
    "        new_dict[conversation] = utterances    \n",
    "\n",
    "    return new_dict"
   ]
  },
  {
   "cell_type": "code",
   "execution_count": 8,
   "metadata": {},
   "outputs": [
    {
     "data": {
      "text/plain": [
       "'\\nTakes two lists, a and b, that contain bigrams and their frequencies. e.g. [((\\'it\\', \"\\'s\"), 68661),\\n ((\\'that\\', \"\\'s\"), 45150),\\n ((\\'do\\', \"n\\'t\"), 42215),] \\nReturns a list of bigrams in b that are also in a.\\n'"
      ]
     },
     "execution_count": 8,
     "metadata": {},
     "output_type": "execute_result"
    }
   ],
   "source": [
    "\"\"\"\n",
    "Takes two lists, a and b, that contain bigrams and their frequencies. e.g. [(('it', \"'s\"), 68661),\n",
    " (('that', \"'s\"), 45150),\n",
    " (('do', \"n't\"), 42215),] \n",
    "Returns a list of bigrams in b that are also in a.\n",
    "\"\"\"\n",
    "def common_bigrams(list_a, list_b):\n",
    "    common = []\n",
    "    list_a = [b[0] for b in list_a]\n",
    "    list_b = [b[0] for b in list_b]\n",
    "    \n",
    "    count = 0\n",
    "    for bigram in list_b:\n",
    "        if(bigram in list_a):\n",
    "            common.append(bigram)\n",
    "    return common"
   ]
  },
  {
   "cell_type": "code",
   "execution_count": 9,
   "metadata": {},
   "outputs": [
    {
     "data": {
      "text/plain": [
       "'\\nTakes two lists, a and b, that contain bigrams and their frequencies. e.g. [((\\'it\\', \"\\'s\"), 68661),\\n ((\\'that\\', \"\\'s\"), 45150),\\n ((\\'do\\', \"n\\'t\"), 42215),] \\nReturns a list of bigrams in b that are NOT in a.\\n'"
      ]
     },
     "execution_count": 9,
     "metadata": {},
     "output_type": "execute_result"
    }
   ],
   "source": [
    "\"\"\"\n",
    "Takes two lists, a and b, that contain bigrams and their frequencies. e.g. [(('it', \"'s\"), 68661),\n",
    " (('that', \"'s\"), 45150),\n",
    " (('do', \"n't\"), 42215),] \n",
    "Returns a list of bigrams in b that are NOT in a.\n",
    "\"\"\"\n",
    "def uncommon_bigrams(list_a, list_b):\n",
    "    list_a = [b[0] for b in list_a]\n",
    "    list_b = [b[0] for b in list_b]\n",
    "    \n",
    "    mismatches = []\n",
    "    for bigram in list_b:\n",
    "        if(bigram not in list_a):\n",
    "            mismatches.append(bigram)\n",
    "    return mismatches"
   ]
  },
  {
   "cell_type": "markdown",
   "metadata": {},
   "source": [
    "# Bigram Analysis"
   ]
  },
  {
   "cell_type": "markdown",
   "metadata": {},
   "source": [
    "## Creating sub-corpora for different language families"
   ]
  },
  {
   "cell_type": "code",
   "execution_count": 10,
   "metadata": {
    "collapsed": true
   },
   "outputs": [],
   "source": [
    "#Get the tokens for each corpus from their respective pickle files\n",
    "#Also get the dictionary containing the participant info for VOICE\n",
    "f = open('VOICE_tokenized.p', 'rb')\n",
    "VOICE_toks = pickle.load(f)\n",
    "f.close()\n",
    "\n",
    "f = open('BNC_tokenized.p', 'rb')\n",
    "BNC_toks = pickle.load(f)\n",
    "f.close()\n",
    "\n",
    "f = open('VOICE_participant_info.p', 'rb')\n",
    "participants = pickle.load(f)\n",
    "f.close()"
   ]
  },
  {
   "cell_type": "code",
   "execution_count": 11,
   "metadata": {},
   "outputs": [
    {
     "data": {
      "text/plain": [
       "'\\nCreate sub-corpora from the VOICE corpus, each of which will contain utterances from L1 speakers of German languages,\\nRomance languages, and Slavic languages\\n'"
      ]
     },
     "execution_count": 11,
     "metadata": {},
     "output_type": "execute_result"
    }
   ],
   "source": [
    "\"\"\"\n",
    "Create sub-corpora from the VOICE corpus, each of which will contain utterances from L1 speakers of German languages,\n",
    "Romance languages, and Slavic languages\n",
    "\"\"\"\n",
    "lang_classifications = {'germanic': ['ger', 'dut', 'swe', 'dan', 'nor', 'ice'],\n",
    "                        'romance': ['por', 'spa', 'ita', 'fre', 'cat', 'rum'],\n",
    "                        'slavic': ['rus', 'ukr', 'pol', 'bul', 'mac', 'cze', 'bos', 'slo', 'slv']}\n",
    "\n",
    "germanic_toks = speech_by_L1(VOICE_toks, lang_classifications['germanic'])\n",
    "romance_toks = speech_by_L1(VOICE_toks, lang_classifications['romance'])\n",
    "slavic_toks = speech_by_L1(VOICE_toks, lang_classifications['slavic'])"
   ]
  },
  {
   "cell_type": "code",
   "execution_count": 12,
   "metadata": {},
   "outputs": [],
   "source": [
    "#Get the bigrams from VOICE and BNC, in addition to the three sub-corpora\n",
    "VOICE_bigrams = get_bigrams(VOICE_toks)\n",
    "BNC_bigrams = get_bigrams(BNC_toks)\n",
    "germanic_bigrams = get_bigrams(germanic_toks)\n",
    "romance_bigrams = get_bigrams(romance_toks)\n",
    "slavic_bigrams = get_bigrams(slavic_toks)"
   ]
  },
  {
   "cell_type": "code",
   "execution_count": 13,
   "metadata": {},
   "outputs": [
    {
     "data": {
      "text/plain": [
       "'\\nGet the top 20% of bigrams (in terms of frequency) from each corpora/sub-corpora. For example, BNC has 9378696\\nbigrams, so the most common bigrams will be included until the their cumulative frequencies exceed 1875739.\\n'"
      ]
     },
     "execution_count": 13,
     "metadata": {},
     "output_type": "execute_result"
    }
   ],
   "source": [
    "\"\"\"\n",
    "Get the top 20% of bigrams (in terms of frequency) from each corpora/sub-corpora. For example, BNC has 9378696\n",
    "bigrams, so the most common bigrams will be included until the their cumulative frequencies exceed 1875739.\n",
    "\"\"\"\n",
    "BNC_freq_bigrams = frequent_bigrams(BNC_bigrams, 0.2)\n",
    "VOICE_freq_bigrams = frequent_bigrams(VOICE_bigrams, 0.2)\n",
    "germanic_freq_bigrams = frequent_bigrams(germanic_bigrams, 0.2)\n",
    "romance_freq_bigrams = frequent_bigrams(romance_bigrams, 0.2)\n",
    "slavic_freq_bigrams = frequent_bigrams(slavic_bigrams, 0.2)"
   ]
  },
  {
   "cell_type": "markdown",
   "metadata": {},
   "source": [
    "## Unmodified Bigram Lists"
   ]
  },
  {
   "cell_type": "markdown",
   "metadata": {},
   "source": [
    "### Similarities between VOICE and BNC"
   ]
  },
  {
   "cell_type": "code",
   "execution_count": 14,
   "metadata": {},
   "outputs": [
    {
     "data": {
      "text/plain": [
       "\"\\nCompare VOICE and its three sub-corpora to the BNC. For each corpus, create a list that contains the corpora's \\ntop 20% bigrams only if it is also a top 20% bigram in BNC\\n\""
      ]
     },
     "execution_count": 14,
     "metadata": {},
     "output_type": "execute_result"
    },
    {
     "data": {
      "text/plain": [
       "\"\\nCompare the proportions of top bigrams that also appear in BNC's top bigrams. Germanic languages have the most\\nsimilarities with BNC, with 66.8% of its most frequent bigrams appearing in the BNC's most frequent bigrams. Romance\\nlanguages and Slavic language don't fare quite as well, with 64.8% and 61.9% respectively.\\n\""
      ]
     },
     "execution_count": 14,
     "metadata": {},
     "output_type": "execute_result"
    },
    {
     "data": {
      "text/plain": [
       "0.672514619883041"
      ]
     },
     "execution_count": 14,
     "metadata": {},
     "output_type": "execute_result"
    },
    {
     "data": {
      "text/plain": [
       "0.6686046511627907"
      ]
     },
     "execution_count": 14,
     "metadata": {},
     "output_type": "execute_result"
    },
    {
     "data": {
      "text/plain": [
       "0.6458333333333334"
      ]
     },
     "execution_count": 14,
     "metadata": {},
     "output_type": "execute_result"
    },
    {
     "data": {
      "text/plain": [
       "0.6196319018404908"
      ]
     },
     "execution_count": 14,
     "metadata": {},
     "output_type": "execute_result"
    }
   ],
   "source": [
    "\"\"\"\n",
    "Compare VOICE and its three sub-corpora to the BNC. For each corpus, create a list that contains the corpora's \n",
    "top 20% bigrams only if it is also a top 20% bigram in BNC\n",
    "\"\"\"\n",
    "VOICE_and_BNC = common_bigrams(BNC_freq_bigrams, VOICE_freq_bigrams)\n",
    "germanic_and_BNC = common_bigrams(BNC_freq_bigrams, germanic_freq_bigrams)\n",
    "romance_and_BNC = common_bigrams(BNC_freq_bigrams, romance_freq_bigrams)\n",
    "slavic_and_BNC = common_bigrams(BNC_freq_bigrams, slavic_freq_bigrams)\n",
    "\n",
    "\"\"\"\n",
    "Compare the proportions of top bigrams that also appear in BNC's top bigrams. Germanic languages have the most\n",
    "similarities with BNC, with 66.8% of its most frequent bigrams appearing in the BNC's most frequent bigrams. Romance\n",
    "languages and Slavic language don't fare quite as well, with 64.8% and 61.9% respectively.\n",
    "\"\"\"\n",
    "len(VOICE_and_BNC)/len(VOICE_freq_bigrams)\n",
    "len(germanic_and_BNC)/len(germanic_freq_bigrams)\n",
    "len(romance_and_BNC)/len(romance_freq_bigrams)\n",
    "len(slavic_and_BNC)/len(slavic_freq_bigrams)"
   ]
  },
  {
   "cell_type": "markdown",
   "metadata": {},
   "source": [
    "### Differences between VOICE and BNC\n",
    "A lot of the common bigrams that occur in VOICE and its subcorpora, but do not occur in BNC's common bigrams, seem to contain hesitations. A lot of the bigrams contain the words \"er\" and \"erm,\" in addition to repeated words, like ('i', 'i') and ('the', 'the'). This could indicate a lack of fluency among the non-native speakers that isn't nearly as prevalent among the native speakers; however, it doesn't indicate much about other linguistic features."
   ]
  },
  {
   "cell_type": "code",
   "execution_count": 15,
   "metadata": {},
   "outputs": [
    {
     "data": {
      "text/plain": [
       "\"\\nFor VOICE and each of its sub-corpora, create a list of bigrams that occur in the corpus's top 20%, but not in \\nBNC's top 20%.\\n\""
      ]
     },
     "execution_count": 15,
     "metadata": {},
     "output_type": "execute_result"
    }
   ],
   "source": [
    "\"\"\"\n",
    "For VOICE and each of its sub-corpora, create a list of bigrams that occur in the corpus's top 20%, but not in \n",
    "BNC's top 20%.\n",
    "\"\"\"\n",
    "VOICE_not_BNC = [b[0] for b in VOICE_freq_bigrams if b[0] not in VOICE_and_BNC]\n",
    "BNC_not_VOICE = [b[0] for b in BNC_freq_bigrams if b[0] not in VOICE_and_BNC]\n",
    "\n",
    "germanic_not_BNC = [b[0] for b in germanic_freq_bigrams if b[0] not in germanic_and_BNC]\n",
    "BNC_not_germanic = [b[0] for b in BNC_freq_bigrams if b[0] not in germanic_and_BNC]\n",
    "\n",
    "romance_not_BNC = [b[0] for b in romance_freq_bigrams if b[0] not in romance_and_BNC]\n",
    "BNC_not_romance = [b[0] for b in BNC_freq_bigrams if b[0] not in romance_and_BNC]\n",
    "\n",
    "slavic_not_BNC = [b[0] for b in slavic_freq_bigrams if b[0] not in slavic_and_BNC]\n",
    "BNC_not_slavic = [b[0] for b in BNC_freq_bigrams if b[0] not in slavic_and_BNC]"
   ]
  },
  {
   "cell_type": "code",
   "execution_count": 16,
   "metadata": {},
   "outputs": [
    {
     "data": {
      "text/plain": [
       "56"
      ]
     },
     "execution_count": 16,
     "metadata": {},
     "output_type": "execute_result"
    },
    {
     "data": {
      "text/plain": [
       "[('yeah', 'yeah'),\n",
       " ('er', 'er'),\n",
       " ('we', 'are'),\n",
       " ('to', 'to'),\n",
       " ('in', 'in'),\n",
       " ('[', 'first'),\n",
       " ('mhm', 'mhm'),\n",
       " ('kind', 'of'),\n",
       " ('they', 'are'),\n",
       " ('but', 'er'),\n",
       " ('er', 'we'),\n",
       " ('that', 'er'),\n",
       " ('er', 'in'),\n",
       " ('of', 'er'),\n",
       " ('yes', 'yes'),\n",
       " ('hh', 'er'),\n",
       " ('we', 'we'),\n",
       " ('is', 'not'),\n",
       " (']', '['),\n",
       " ('for', 'example')]"
      ]
     },
     "execution_count": 16,
     "metadata": {},
     "output_type": "execute_result"
    }
   ],
   "source": [
    "len(VOICE_not_BNC)\n",
    "VOICE_not_BNC[:20]"
   ]
  },
  {
   "cell_type": "markdown",
   "metadata": {},
   "source": [
    "### Differences BNC and VOICE\n",
    "A lot the the common bigrams (almost 30%) that appear in BNC but not in VOICE are contractions. Maybe native speakers are much more confortable using them than non-native speakers are."
   ]
  },
  {
   "cell_type": "code",
   "execution_count": 17,
   "metadata": {
    "collapsed": true
   },
   "outputs": [],
   "source": [
    "#Create a list of bigrams that are found in BNC's top 20%, but not in VOICE's top 20%\n",
    "BNC_not_VOICE = [b[0] for b in BNC_freq_bigrams if b[0] not in VOICE_and_BNC]"
   ]
  },
  {
   "cell_type": "code",
   "execution_count": 18,
   "metadata": {},
   "outputs": [
    {
     "data": {
      "text/plain": [
       "[(\"'ve\", 'got'),\n",
       " ('i', \"'ve\"),\n",
       " ('he', \"'s\"),\n",
       " ('you', \"'ve\"),\n",
       " ('i', \"'ll\"),\n",
       " ('gon', 'na'),\n",
       " ('we', \"'ve\"),\n",
       " ('well', 'i'),\n",
       " ('she', \"'s\"),\n",
       " (\"n't\", 'it'),\n",
       " ('is', \"n't\"),\n",
       " ('used', 'to'),\n",
       " ('what', \"'s\"),\n",
       " ('to', 'get'),\n",
       " ('i', 'said'),\n",
       " ('a', 'bit'),\n",
       " ('to', 'go'),\n",
       " ('you', 'see'),\n",
       " ('and', 'he'),\n",
       " ('have', \"n't\")]"
      ]
     },
     "execution_count": 18,
     "metadata": {},
     "output_type": "execute_result"
    }
   ],
   "source": [
    "#Display the list.\n",
    "BNC_not_VOICE[:20]"
   ]
  },
  {
   "cell_type": "code",
   "execution_count": 19,
   "metadata": {
    "collapsed": true
   },
   "outputs": [],
   "source": [
    "#contractions = [b for b in BNC_not_VOICE if \"'\" in b[0] or \"'\" in b[1]]\n",
    "contractions = [b for b in BNC_not_VOICE if \"'\" in b[1]]"
   ]
  },
  {
   "cell_type": "code",
   "execution_count": 20,
   "metadata": {},
   "outputs": [
    {
     "data": {
      "text/plain": [
       "18"
      ]
     },
     "execution_count": 20,
     "metadata": {},
     "output_type": "execute_result"
    },
    {
     "data": {
      "text/plain": [
       "0.15384615384615385"
      ]
     },
     "execution_count": 20,
     "metadata": {},
     "output_type": "execute_result"
    },
    {
     "data": {
      "text/plain": [
       "[('i', \"'ve\"),\n",
       " ('he', \"'s\"),\n",
       " ('you', \"'ve\"),\n",
       " ('i', \"'ll\"),\n",
       " ('we', \"'ve\"),\n",
       " ('she', \"'s\"),\n",
       " ('is', \"n't\"),\n",
       " ('what', \"'s\"),\n",
       " ('have', \"n't\"),\n",
       " ('i', \"'d\"),\n",
       " ('would', \"n't\"),\n",
       " ('they', \"'ve\"),\n",
       " ('we', \"'ll\"),\n",
       " ('wo', \"n't\"),\n",
       " ('was', \"n't\"),\n",
       " ('you', \"'ll\"),\n",
       " ('could', \"n't\"),\n",
       " ('you', \"'d\")]"
      ]
     },
     "execution_count": 20,
     "metadata": {},
     "output_type": "execute_result"
    }
   ],
   "source": [
    "#Almost 20% of the common BNC bigrams not found in the common VOICE bigrams are contractions. Is this true for the sub groups, too?\n",
    "len(contractions)\n",
    "len(contractions)/len(BNC_not_VOICE)\n",
    "contractions"
   ]
  },
  {
   "cell_type": "code",
   "execution_count": 21,
   "metadata": {
    "collapsed": true
   },
   "outputs": [],
   "source": [
    "bigrams_df = pd.DataFrame(index = ['contractions', 'repeated_words'], columns = ['L1=English(BNC)', 'All(VOICE)', 'L1=Germanic(VOICE)', 'L1=Romance(VOICE)', 'L1=Slavic(VOICE)'])"
   ]
  },
  {
   "cell_type": "code",
   "execution_count": 22,
   "metadata": {},
   "outputs": [
    {
     "data": {
      "text/html": [
       "<div>\n",
       "<style>\n",
       "    .dataframe thead tr:only-child th {\n",
       "        text-align: right;\n",
       "    }\n",
       "\n",
       "    .dataframe thead th {\n",
       "        text-align: left;\n",
       "    }\n",
       "\n",
       "    .dataframe tbody tr th {\n",
       "        vertical-align: top;\n",
       "    }\n",
       "</style>\n",
       "<table border=\"1\" class=\"dataframe\">\n",
       "  <thead>\n",
       "    <tr style=\"text-align: right;\">\n",
       "      <th></th>\n",
       "      <th>L1=English(BNC)</th>\n",
       "      <th>All(VOICE)</th>\n",
       "      <th>L1=Germanic(VOICE)</th>\n",
       "      <th>L1=Romance(VOICE)</th>\n",
       "      <th>L1=Slavic(VOICE)</th>\n",
       "    </tr>\n",
       "  </thead>\n",
       "  <tbody>\n",
       "    <tr>\n",
       "      <th>contractions</th>\n",
       "      <td>0.0536744</td>\n",
       "      <td>0.0341021</td>\n",
       "      <td>0.0350262</td>\n",
       "      <td>0.0340637</td>\n",
       "      <td>0.0307484</td>\n",
       "    </tr>\n",
       "    <tr>\n",
       "      <th>repeated_words</th>\n",
       "      <td>0.0108283</td>\n",
       "      <td>0.0292122</td>\n",
       "      <td>0.0296259</td>\n",
       "      <td>0.030192</td>\n",
       "      <td>0.0246243</td>\n",
       "    </tr>\n",
       "  </tbody>\n",
       "</table>\n",
       "</div>"
      ],
      "text/plain": [
       "               L1=English(BNC) All(VOICE) L1=Germanic(VOICE)  \\\n",
       "contractions         0.0536744  0.0341021          0.0350262   \n",
       "repeated_words       0.0108283  0.0292122          0.0296259   \n",
       "\n",
       "               L1=Romance(VOICE) L1=Slavic(VOICE)  \n",
       "contractions           0.0340637        0.0307484  \n",
       "repeated_words          0.030192        0.0246243  "
      ]
     },
     "execution_count": 22,
     "metadata": {},
     "output_type": "execute_result"
    }
   ],
   "source": [
    "#English\n",
    "rw = len([b for b in BNC_bigrams if b[0] == b[1]])/len(BNC_bigrams)\n",
    "c = len([b for b in BNC_bigrams if \"'\" in b[1]])/len(BNC_bigrams)\n",
    "bigrams_df['L1=English(BNC)']['repeated_words'] = rw\n",
    "bigrams_df['L1=English(BNC)']['contractions'] = c\n",
    "\n",
    "\n",
    "#VOICE\n",
    "rw = len([b for b in VOICE_bigrams if b[0] == b[1]])/len(VOICE_bigrams)\n",
    "c = len([b for b in VOICE_bigrams if \"'\" in b[1]])/len(VOICE_bigrams)\n",
    "bigrams_df['All(VOICE)']['repeated_words'] = rw\n",
    "bigrams_df['All(VOICE)']['contractions'] = c\n",
    "\n",
    "\n",
    "#Germanic\n",
    "rw = len([b for b in germanic_bigrams if b[0] == b[1]])/len(germanic_bigrams)\n",
    "c = len([b for b in germanic_bigrams if \"'\" in b[1]])/len(germanic_bigrams)\n",
    "bigrams_df['L1=Germanic(VOICE)']['repeated_words'] = rw\n",
    "bigrams_df['L1=Germanic(VOICE)']['contractions'] = c\n",
    "\n",
    "#Romance\n",
    "rw = len([b for b in romance_bigrams if b[0] == b[1]])/len(romance_bigrams)\n",
    "c = len([b for b in romance_bigrams if \"'\" in b[1]])/len(romance_bigrams)\n",
    "bigrams_df['L1=Romance(VOICE)']['repeated_words'] = rw\n",
    "bigrams_df['L1=Romance(VOICE)']['contractions'] = c\n",
    "\n",
    "#Slavic\n",
    "rw = len([b for b in slavic_bigrams if b[0] == b[1]])/len(slavic_bigrams)\n",
    "c = len([b for b in slavic_bigrams if \"'\" in b[1]])/len(slavic_bigrams)\n",
    "bigrams_df['L1=Slavic(VOICE)']['repeated_words'] = rw\n",
    "bigrams_df['L1=Slavic(VOICE)']['contractions'] = c\n",
    "\n",
    "bigrams_df"
   ]
  },
  {
   "cell_type": "code",
   "execution_count": 23,
   "metadata": {},
   "outputs": [
    {
     "data": {
      "text/plain": [
       "<matplotlib.axes._subplots.AxesSubplot at 0x18a5e4390>"
      ]
     },
     "execution_count": 23,
     "metadata": {},
     "output_type": "execute_result"
    },
    {
     "data": {
      "text/plain": [
       "<matplotlib.legend.Legend at 0x180b2e668>"
      ]
     },
     "execution_count": 23,
     "metadata": {},
     "output_type": "execute_result"
    },
    {
     "data": {
      "text/plain": [
       "<matplotlib.text.Text at 0x180b2e0f0>"
      ]
     },
     "execution_count": 23,
     "metadata": {},
     "output_type": "execute_result"
    },
    {
     "data": {
      "text/plain": [
       "<matplotlib.text.Text at 0x18a55d860>"
      ]
     },
     "execution_count": 23,
     "metadata": {},
     "output_type": "execute_result"
    },
    {
     "data": {
      "image/png": "[encoded data removed]",
      "text/plain": [
       "<matplotlib.figure.Figure at 0x13ea76898>"
      ]
     },
     "metadata": {},
     "output_type": "display_data"
    }
   ],
   "source": [
    "bigrams_df.plot(kind='bar', figsize=(15,10))\n",
    "plt.tick_params(axis = 'both', reset=True, labelsize=15)\n",
    "plt.legend(prop={'size':20})\n",
    "bar_width = 0.4\n",
    "L=plt.legend()\n",
    "L.get_texts()[1].set_text('All non-native L1s(VOICE)')\n",
    "plt.xlabel(\"Bigram type\", fontsize= 20, labelpad = 20)\n",
    "plt.ylabel(\"Frequency (percent)\", fontsize= 20, labelpad = 20)\n",
    "plt.show()"
   ]
  },
  {
   "cell_type": "markdown",
   "metadata": {},
   "source": [
    "## Modified Bigram Lists\n",
    "Since the original VOICE bigram lists contain a lot of hesitations and repeated words, they are limited in what they can tell us about additional linguistic features. Here, we'll get rid of these bigrams to hopefully make some more interesting discoveries."
   ]
  },
  {
   "cell_type": "code",
   "execution_count": 24,
   "metadata": {},
   "outputs": [
    {
     "data": {
      "text/plain": [
       "\"\\nChecks whether a given bigram in valid for our purposes. A bigram is valid if it doesn't contain repeated words\\nor hesitation words\\n\""
      ]
     },
     "execution_count": 24,
     "metadata": {},
     "output_type": "execute_result"
    }
   ],
   "source": [
    "\"\"\"\n",
    "Checks whether a given bigram in valid for our purposes. A bigram is valid if it doesn't contain repeated words\n",
    "or hesitation words\n",
    "\"\"\"\n",
    "import re\n",
    "def is_valid(bigram):\n",
    "    if bigram[0] == bigram[1] :\n",
    "        return False\n",
    "    \n",
    "    if bigram[0] == 'er' or bigram[1] == 'er' :\n",
    "        return False\n",
    "    \n",
    "    if bigram[0] == 'erm' or bigram[1] == 'erm' :\n",
    "        return False\n",
    "    \n",
    "   # return True\n",
    "    \n",
    "    \n",
    "    p = re.compile('h+')\n",
    "    if p.match(bigram[0]) or p.match(bigram[1]):\n",
    "        return False\n",
    "    \n",
    "    p = re.compile('x+')\n",
    "    if p.match(bigram[0]) or p.match(bigram[1]):\n",
    "        return False\n",
    "    \n",
    "    #if(not bigram[0][0].isalpha() or not bigram[1][0].isalpha()):\n",
    "    #if(bigram[0][0] == \"]\" or bigram[1][0] == \"[\")\n",
    "    if(\"[\" in bigram[0] or \"[\" in bigram[1] or \"]\" in bigram[0] or \"]\" in bigram[1]):\n",
    "        return False\n",
    "    \n",
    "\n",
    "    return True\n"
   ]
  },
  {
   "cell_type": "code",
   "execution_count": 25,
   "metadata": {
    "collapsed": true
   },
   "outputs": [],
   "source": [
    "#Remake the bigrams lists such that they only include valid bigrams\n",
    "BNC_bigrams = [b for b in BNC_bigrams if is_valid(b) == True]\n",
    "VOICE_bigrams = [b for b in VOICE_bigrams if is_valid(b) == True]\n",
    "germanic_bigrams = [b for b in germanic_bigrams if is_valid(b) == True]\n",
    "romance_bigrams = [b for b in romance_bigrams if is_valid(b) == True]\n",
    "slavic_bigrams = [b for b in slavic_bigrams if is_valid(b) == True]"
   ]
  },
  {
   "cell_type": "markdown",
   "metadata": {
    "collapsed": true
   },
   "source": [
    "### Similarities between VOICE and BNC\n",
    "More of the most frequent bigrams that occur in VOICE and the subcorpora also occur in BNC's most common bigrams than\n",
    "with the unmodified bigrams. Like in the previous case, speakers of Germanic L1s had the most in common with the native\n",
    "speakers in the BNC, and speakers of Slavic L1s had the least in common."
   ]
  },
  {
   "cell_type": "code",
   "execution_count": 26,
   "metadata": {
    "collapsed": true
   },
   "outputs": [],
   "source": [
    "#For each corpus/subcorpus, get the top 20% of bigrams, in terms of frequency.\n",
    "BNC_freq_bigrams = frequent_bigrams(BNC_bigrams, 0.2)\n",
    "VOICE_freq_bigrams = frequent_bigrams(VOICE_bigrams, 0.2)\n",
    "germanic_freq_bigrams = frequent_bigrams(germanic_bigrams, 0.2)\n",
    "romance_freq_bigrams = frequent_bigrams(romance_bigrams, 0.2)\n",
    "slavic_freq_bigrams = frequent_bigrams(slavic_bigrams, 0.2)"
   ]
  },
  {
   "cell_type": "code",
   "execution_count": 27,
   "metadata": {},
   "outputs": [
    {
     "data": {
      "text/plain": [
       "\"\\nFor VOICE and each of its sub-corpora, create lists containing all of the top bigrams that occur in the corpus that \\nalso occur in BNC's top bigrams.\\n\""
      ]
     },
     "execution_count": 27,
     "metadata": {},
     "output_type": "execute_result"
    }
   ],
   "source": [
    "\"\"\"\n",
    "For VOICE and each of its sub-corpora, create lists containing all of the top bigrams that occur in the corpus that \n",
    "also occur in BNC's top bigrams.\n",
    "\"\"\"\n",
    "VOICE_and_BNC = common_bigrams(BNC_freq_bigrams, VOICE_freq_bigrams)\n",
    "germanic_and_BNC = common_bigrams(BNC_freq_bigrams, germanic_freq_bigrams)\n",
    "romance_and_BNC = common_bigrams(BNC_freq_bigrams, romance_freq_bigrams)\n",
    "slavic_and_BNC = common_bigrams(BNC_freq_bigrams, slavic_freq_bigrams)"
   ]
  },
  {
   "cell_type": "code",
   "execution_count": 28,
   "metadata": {},
   "outputs": [
    {
     "data": {
      "text/plain": [
       "0.7959183673469388"
      ]
     },
     "execution_count": 28,
     "metadata": {},
     "output_type": "execute_result"
    },
    {
     "data": {
      "text/plain": [
       "0.7837837837837838"
      ]
     },
     "execution_count": 28,
     "metadata": {},
     "output_type": "execute_result"
    },
    {
     "data": {
      "text/plain": [
       "0.7698412698412699"
      ]
     },
     "execution_count": 28,
     "metadata": {},
     "output_type": "execute_result"
    },
    {
     "data": {
      "text/plain": [
       "0.7111111111111111"
      ]
     },
     "execution_count": 28,
     "metadata": {},
     "output_type": "execute_result"
    }
   ],
   "source": [
    "len(VOICE_and_BNC)/len(VOICE_freq_bigrams)\n",
    "len(germanic_and_BNC)/len(germanic_freq_bigrams)\n",
    "len(romance_and_BNC)/len(romance_freq_bigrams)\n",
    "len(slavic_and_BNC)/len(slavic_freq_bigrams)"
   ]
  },
  {
   "cell_type": "markdown",
   "metadata": {},
   "source": [
    "## Differences between VOICE and BNC"
   ]
  },
  {
   "cell_type": "code",
   "execution_count": 30,
   "metadata": {
    "collapsed": true
   },
   "outputs": [],
   "source": [
    "VOICE_not_BNC = [b[0] for b in VOICE_freq_bigrams if b[0] not in VOICE_and_BNC]\n",
    "BNC_not_VOICE = BNC_not_VOICE = [b[0] for b in BNC_freq_bigrams if b[0] not in VOICE_and_BNC]"
   ]
  },
  {
   "cell_type": "code",
   "execution_count": 31,
   "metadata": {},
   "outputs": [
    {
     "data": {
      "text/plain": [
       "[('we', 'are'),\n",
       " ('kind', 'of'),\n",
       " ('they', 'are'),\n",
       " ('is', 'not'),\n",
       " ('for', 'example'),\n",
       " ('so', 'it'),\n",
       " ('yeah', 'but'),\n",
       " ('you', 'are'),\n",
       " ('should', 'be'),\n",
       " ('so', 'we')]"
      ]
     },
     "execution_count": 31,
     "metadata": {},
     "output_type": "execute_result"
    }
   ],
   "source": [
    "VOICE_not_BNC[:10]"
   ]
  },
  {
   "cell_type": "code",
   "execution_count": 32,
   "metadata": {},
   "outputs": [
    {
     "data": {
      "text/plain": [
       "[(\"'ve\", 'got'),\n",
       " ('you', \"'ve\"),\n",
       " ('we', \"'ve\"),\n",
       " ('well', 'i'),\n",
       " ('she', \"'s\"),\n",
       " (\"n't\", 'it'),\n",
       " ('is', \"n't\"),\n",
       " ('used', 'to'),\n",
       " ('what', \"'s\"),\n",
       " ('i', 'said')]"
      ]
     },
     "execution_count": 32,
     "metadata": {},
     "output_type": "execute_result"
    }
   ],
   "source": [
    "BNC_not_VOICE[:10]"
   ]
  },
  {
   "cell_type": "markdown",
   "metadata": {},
   "source": [
    "# Comparing Contraction Use\n"
   ]
  },
  {
   "cell_type": "markdown",
   "metadata": {},
   "source": [
    "### Proportion of contraction bigrams\n",
    "As noted in the bigram comparison, contractions appeared frequently among the BNC's most common bigrams, while they\n",
    "were much less common among VOICE's bigrams. Even after hesitation bigrams were removed from the bigram lists (which most likely impacted VOICE more than BNC), the proportion of contractions in the BNC is significantly higher than those in VOICE and the three sub-corpora. This time, speakers of Romance L1s had the highest proportion of contraction use among non-native speakers, at 0.01."
   ]
  },
  {
   "cell_type": "code",
   "execution_count": 33,
   "metadata": {},
   "outputs": [
    {
     "data": {
      "text/plain": [
       "0.056755461989655594"
      ]
     },
     "execution_count": 33,
     "metadata": {},
     "output_type": "execute_result"
    }
   ],
   "source": [
    "BNC_contractions_proportions = len([b for b in BNC_bigrams if \"'\" in b[1]])/len(BNC_bigrams)\n",
    "BNC_contractions_proportions"
   ]
  },
  {
   "cell_type": "code",
   "execution_count": 34,
   "metadata": {},
   "outputs": [
    {
     "data": {
      "text/plain": [
       "0.04213875886707224"
      ]
     },
     "execution_count": 34,
     "metadata": {},
     "output_type": "execute_result"
    }
   ],
   "source": [
    "VOICE_contractions_proportions = len([b for b in VOICE_bigrams if \"'\" in b[1]])/len(VOICE_bigrams)\n",
    "VOICE_contractions_proportions"
   ]
  },
  {
   "cell_type": "code",
   "execution_count": 35,
   "metadata": {},
   "outputs": [
    {
     "data": {
      "text/plain": [
       "0.04331497802251526"
      ]
     },
     "execution_count": 35,
     "metadata": {},
     "output_type": "execute_result"
    }
   ],
   "source": [
    "germanic_contractions_proportions = len([b for b in germanic_bigrams if \"'\" in b[1]])/len(germanic_bigrams)\n",
    "germanic_contractions_proportions"
   ]
  },
  {
   "cell_type": "code",
   "execution_count": 36,
   "metadata": {},
   "outputs": [
    {
     "data": {
      "text/plain": [
       "0.042036899913612244"
      ]
     },
     "execution_count": 36,
     "metadata": {},
     "output_type": "execute_result"
    }
   ],
   "source": [
    "romance_contractions_proportions = len([b for b in romance_bigrams if \"'\" in b[1]])/len(romance_bigrams)\n",
    "romance_contractions_proportions"
   ]
  },
  {
   "cell_type": "code",
   "execution_count": 37,
   "metadata": {},
   "outputs": [
    {
     "data": {
      "text/plain": [
       "0.0379743920412675"
      ]
     },
     "execution_count": 37,
     "metadata": {},
     "output_type": "execute_result"
    }
   ],
   "source": [
    "slavic_contractions_proportions = len([b for b in slavic_bigrams if \"'\" in b[1]])/len(slavic_bigrams)\n",
    "slavic_contractions_proportions"
   ]
  },
  {
   "cell_type": "markdown",
   "metadata": {},
   "source": [
    "### Common contraction bigrams in each corpus\n",
    "Clearly, contractions occur much more frequently among the BNC's most common bigrams than among VOICE's bigrams. The contractions found in the most common bigrams of VOICE's sub-corpora seem pretty uniform (don't, can't, doesn't, didn't, 'nt know). Also, these bigrams seem to be the most frequent contractions used in the BNC. This could indicate that non-native speakers can confidently use the most commonly-occurring contractions in English, but might struggle to use them in other contexts."
   ]
  },
  {
   "cell_type": "code",
   "execution_count": 38,
   "metadata": {},
   "outputs": [
    {
     "data": {
      "text/plain": [
       "[(('it', \"'s\"), 68661),\n",
       " (('that', \"'s\"), 45150),\n",
       " (('do', \"n't\"), 42215),\n",
       " (('i', \"'m\"), 25963),\n",
       " (('i', \"'ve\"), 18154),\n",
       " (('you', \"'re\"), 17641),\n",
       " (('there', \"'s\"), 16983),\n",
       " (('they', \"'re\"), 15291),\n",
       " (('did', \"n't\"), 14026),\n",
       " (('you', \"'ve\"), 13023),\n",
       " (('ca', \"n't\"), 12895),\n",
       " (('i', \"'ll\"), 12743),\n",
       " (('we', \"'re\"), 10764),\n",
       " (('we', \"'ve\"), 10572),\n",
       " (('she', \"'s\"), 8907),\n",
       " (('is', \"n't\"), 8439),\n",
       " (('what', \"'s\"), 8014),\n",
       " (('does', \"n't\"), 6927),\n",
       " (('i', \"'d\"), 6199),\n",
       " (('would', \"n't\"), 5884),\n",
       " (('they', \"'ve\"), 5852),\n",
       " (('we', \"'ll\"), 5749),\n",
       " (('wo', \"n't\"), 5714),\n",
       " (('was', \"n't\"), 5174),\n",
       " (('you', \"'ll\"), 4178),\n",
       " (('could', \"n't\"), 3949)]"
      ]
     },
     "execution_count": 38,
     "metadata": {},
     "output_type": "execute_result"
    }
   ],
   "source": [
    "#BNC_common_contractions = [b for b in BNC_freq_bigrams if \"'\" in b[0][0] or \"'\" in b[0][1]]\n",
    "BNC_common_contractions = [b for b in BNC_freq_bigrams if \"'\" in b[0][1]]\n",
    "BNC_common_contractions"
   ]
  },
  {
   "cell_type": "code",
   "execution_count": 39,
   "metadata": {},
   "outputs": [
    {
     "data": {
      "text/plain": [
       "[(('it', \"'s\"), 5976),\n",
       " (('that', \"'s\"), 2637),\n",
       " (('do', \"n't\"), 2339),\n",
       " (('i', \"'m\"), 1454),\n",
       " (('you', \"'re\"), 541),\n",
       " (('did', \"n't\"), 455),\n",
       " (('there', \"'s\"), 414),\n",
       " (('we', \"'re\"), 401),\n",
       " (('let', \"'s\"), 355),\n",
       " (('ca', \"n't\"), 344),\n",
       " (('they', \"'re\"), 308),\n",
       " (('does', \"n't\"), 293),\n",
       " (('i', \"'ll\"), 246),\n",
       " (('i', \"'ve\"), 244)]"
      ]
     },
     "execution_count": 39,
     "metadata": {},
     "output_type": "execute_result"
    }
   ],
   "source": [
    "#VOICE_common_contractions = [b for b in VOICE_freq_bigrams if \"'\" in b[0][0] or \"'\" in b[0][1]]\n",
    "VOICE_common_contractions = [b for b in VOICE_freq_bigrams if \"'\" in b[0][1]]\n",
    "VOICE_common_contractions"
   ]
  },
  {
   "cell_type": "code",
   "execution_count": 40,
   "metadata": {},
   "outputs": [
    {
     "data": {
      "text/plain": [
       "[(('it', \"'s\"), 3176),\n",
       " (('that', \"'s\"), 1653),\n",
       " (('do', \"n't\"), 1093),\n",
       " (('i', \"'m\"), 701),\n",
       " (('you', \"'re\"), 348),\n",
       " (('there', \"'s\"), 258),\n",
       " (('we', \"'re\"), 241),\n",
       " (('did', \"n't\"), 210),\n",
       " (('ca', \"n't\"), 177),\n",
       " (('let', \"'s\"), 163),\n",
       " (('they', \"'re\"), 162),\n",
       " (('i', \"'ve\"), 156),\n",
       " (('does', \"n't\"), 135),\n",
       " (('i', \"'ll\"), 132)]"
      ]
     },
     "execution_count": 40,
     "metadata": {},
     "output_type": "execute_result"
    }
   ],
   "source": [
    "#germanic_common_contractions = [b for b in germanic_freq_bigrams if \"'\" in b[0][0] or \"'\" in b[0][1]]\n",
    "germanic_common_contractions = [b for b in germanic_freq_bigrams if \"'\" in b[0][1]]\n",
    "germanic_common_contractions"
   ]
  },
  {
   "cell_type": "code",
   "execution_count": 41,
   "metadata": {},
   "outputs": [
    {
     "data": {
      "text/plain": [
       "[(('it', \"'s\"), 953),\n",
       " (('do', \"n't\"), 438),\n",
       " (('that', \"'s\"), 301),\n",
       " (('i', \"'m\"), 265),\n",
       " (('did', \"n't\"), 97),\n",
       " (('you', \"'re\"), 72),\n",
       " (('ca', \"n't\"), 60),\n",
       " (('let', \"'s\"), 57),\n",
       " (('we', \"'re\"), 54),\n",
       " (('does', \"n't\"), 46)]"
      ]
     },
     "execution_count": 41,
     "metadata": {},
     "output_type": "execute_result"
    }
   ],
   "source": [
    "#romance_common_contractions = [b for b in romance_freq_bigrams if \"'\" in b[0][0] or \"'\" in b[0][1]]\n",
    "romance_common_contractions = [b for b in romance_freq_bigrams if \"'\" in b[0][1]]\n",
    "romance_common_contractions"
   ]
  },
  {
   "cell_type": "code",
   "execution_count": 42,
   "metadata": {},
   "outputs": [
    {
     "data": {
      "text/plain": [
       "[(('it', \"'s\"), 567),\n",
       " (('do', \"n't\"), 248),\n",
       " (('that', \"'s\"), 196),\n",
       " (('i', \"'m\"), 150),\n",
       " (('let', \"'s\"), 70),\n",
       " (('did', \"n't\"), 44),\n",
       " (('you', \"'re\"), 35),\n",
       " (('does', \"n't\"), 31),\n",
       " (('ca', \"n't\"), 31),\n",
       " (('we', \"'re\"), 28)]"
      ]
     },
     "execution_count": 42,
     "metadata": {},
     "output_type": "execute_result"
    }
   ],
   "source": [
    "#slavic_common_contractions = [b for b in slavic_freq_bigrams if \"'\" in b[0][0] or \"'\" in b[0][1]]\n",
    "slavic_common_contractions = [b for b in slavic_freq_bigrams if \"'\" in b[0][1]]\n",
    "slavic_common_contractions"
   ]
  },
  {
   "cell_type": "code",
   "execution_count": 43,
   "metadata": {},
   "outputs": [
    {
     "data": {
      "text/plain": [
       "30"
      ]
     },
     "execution_count": 43,
     "metadata": {},
     "output_type": "execute_result"
    }
   ],
   "source": [
    "VOICE_not_BNC = uncommon_bigrams(BNC_freq_bigrams, VOICE_freq_bigrams)\n",
    "len(VOICE_not_BNC)"
   ]
  },
  {
   "cell_type": "code",
   "execution_count": 44,
   "metadata": {
    "collapsed": true
   },
   "outputs": [],
   "source": [
    "#contractions = [b for b in BNC_not_VOICE if \"'\" in b[0] or \"'\" in b[1]]\n",
    "contractions = [b for b in BNC_not_VOICE if \"'\" in b[1]]"
   ]
  },
  {
   "cell_type": "code",
   "execution_count": 45,
   "metadata": {},
   "outputs": [
    {
     "data": {
      "text/plain": [
       "13"
      ]
     },
     "execution_count": 45,
     "metadata": {},
     "output_type": "execute_result"
    },
    {
     "data": {
      "text/plain": [
       "0.17105263157894737"
      ]
     },
     "execution_count": 45,
     "metadata": {},
     "output_type": "execute_result"
    },
    {
     "data": {
      "text/plain": [
       "[('you', \"'ve\"),\n",
       " ('we', \"'ve\"),\n",
       " ('she', \"'s\"),\n",
       " ('is', \"n't\"),\n",
       " ('what', \"'s\"),\n",
       " ('i', \"'d\"),\n",
       " ('would', \"n't\"),\n",
       " ('they', \"'ve\"),\n",
       " ('we', \"'ll\"),\n",
       " ('wo', \"n't\"),\n",
       " ('was', \"n't\"),\n",
       " ('you', \"'ll\"),\n",
       " ('could', \"n't\")]"
      ]
     },
     "execution_count": 45,
     "metadata": {},
     "output_type": "execute_result"
    }
   ],
   "source": [
    "#Close to 20% of the common BNC bigrams not found in the common VOICE bigrams are contractions. Is this true for the sub groups, too?\n",
    "len(contractions)\n",
    "len(contractions)/len(BNC_not_VOICE)\n",
    "contractions"
   ]
  },
  {
   "cell_type": "code",
   "execution_count": 46,
   "metadata": {},
   "outputs": [
    {
     "data": {
      "text/plain": [
       "18"
      ]
     },
     "execution_count": 46,
     "metadata": {},
     "output_type": "execute_result"
    },
    {
     "data": {
      "text/plain": [
       "0.15384615384615385"
      ]
     },
     "execution_count": 46,
     "metadata": {},
     "output_type": "execute_result"
    },
    {
     "data": {
      "text/plain": [
       "[('he', \"'s\"),\n",
       " ('you', \"'ve\"),\n",
       " ('i', \"'ll\"),\n",
       " ('we', \"'ve\"),\n",
       " ('she', \"'s\"),\n",
       " ('is', \"n't\"),\n",
       " ('what', \"'s\"),\n",
       " ('have', \"n't\"),\n",
       " ('does', \"n't\"),\n",
       " ('i', \"'d\"),\n",
       " ('would', \"n't\"),\n",
       " ('they', \"'ve\"),\n",
       " ('we', \"'ll\"),\n",
       " ('wo', \"n't\"),\n",
       " ('was', \"n't\"),\n",
       " ('you', \"'ll\"),\n",
       " ('could', \"n't\"),\n",
       " ('you', \"'d\")]"
      ]
     },
     "execution_count": 46,
     "metadata": {},
     "output_type": "execute_result"
    }
   ],
   "source": [
    "#contractions = [b for b in BNC_not_germanic if \"'\" in b[0] or \"'\" in b[1]]\n",
    "contractions = [b for b in BNC_not_germanic if \"'\" in b[1]]\n",
    "len(contractions)\n",
    "len(contractions)/len(BNC_not_germanic)\n",
    "contractions"
   ]
  },
  {
   "cell_type": "code",
   "execution_count": 47,
   "metadata": {},
   "outputs": [
    {
     "data": {
      "text/plain": [
       "21"
      ]
     },
     "execution_count": 47,
     "metadata": {},
     "output_type": "execute_result"
    },
    {
     "data": {
      "text/plain": [
       "0.1510791366906475"
      ]
     },
     "execution_count": 47,
     "metadata": {},
     "output_type": "execute_result"
    },
    {
     "data": {
      "text/plain": [
       "[('i', \"'ve\"),\n",
       " ('there', \"'s\"),\n",
       " ('they', \"'re\"),\n",
       " ('he', \"'s\"),\n",
       " ('you', \"'ve\"),\n",
       " ('i', \"'ll\"),\n",
       " ('we', \"'ve\"),\n",
       " ('she', \"'s\"),\n",
       " ('is', \"n't\"),\n",
       " ('what', \"'s\"),\n",
       " ('have', \"n't\"),\n",
       " ('does', \"n't\"),\n",
       " ('i', \"'d\"),\n",
       " ('would', \"n't\"),\n",
       " ('they', \"'ve\"),\n",
       " ('we', \"'ll\"),\n",
       " ('wo', \"n't\"),\n",
       " ('was', \"n't\"),\n",
       " ('you', \"'ll\"),\n",
       " ('could', \"n't\"),\n",
       " ('you', \"'d\")]"
      ]
     },
     "execution_count": 47,
     "metadata": {},
     "output_type": "execute_result"
    }
   ],
   "source": [
    "#contractions = [b for b in BNC_not_romance if \"'\" in b[0] or \"'\" in b[1]]\n",
    "contractions = [b for b in BNC_not_romance if \"'\" in b[1]]\n",
    "len(contractions)\n",
    "len(contractions)/len(BNC_not_romance)\n",
    "contractions"
   ]
  },
  {
   "cell_type": "code",
   "execution_count": 48,
   "metadata": {},
   "outputs": [
    {
     "data": {
      "text/plain": [
       "21"
      ]
     },
     "execution_count": 48,
     "metadata": {},
     "output_type": "execute_result"
    },
    {
     "data": {
      "text/plain": [
       "0.16030534351145037"
      ]
     },
     "execution_count": 48,
     "metadata": {},
     "output_type": "execute_result"
    },
    {
     "data": {
      "text/plain": [
       "[('i', \"'ve\"),\n",
       " ('there', \"'s\"),\n",
       " ('they', \"'re\"),\n",
       " ('he', \"'s\"),\n",
       " ('you', \"'ve\"),\n",
       " ('i', \"'ll\"),\n",
       " ('we', \"'re\"),\n",
       " ('we', \"'ve\"),\n",
       " ('she', \"'s\"),\n",
       " ('is', \"n't\"),\n",
       " ('what', \"'s\"),\n",
       " ('have', \"n't\"),\n",
       " ('i', \"'d\"),\n",
       " ('would', \"n't\"),\n",
       " ('they', \"'ve\"),\n",
       " ('we', \"'ll\"),\n",
       " ('wo', \"n't\"),\n",
       " ('was', \"n't\"),\n",
       " ('you', \"'ll\"),\n",
       " ('could', \"n't\"),\n",
       " ('you', \"'d\")]"
      ]
     },
     "execution_count": 48,
     "metadata": {},
     "output_type": "execute_result"
    }
   ],
   "source": [
    "#contractions = [b for b in BNC_not_slavic if \"'\" in b[0] or \"'\" in b[1]]\n",
    "contractions = [b for b in BNC_not_slavic if \"'\" in b[1]]\n",
    "len(contractions)\n",
    "len(contractions)/len(BNC_not_slavic)\n",
    "contractions"
   ]
  },
  {
   "cell_type": "code",
   "execution_count": 49,
   "metadata": {
    "collapsed": true
   },
   "outputs": [],
   "source": [
    "BNC_contractions = [b for b in BNC_bigrams if \"'\" in b[1]]"
   ]
  },
  {
   "cell_type": "code",
   "execution_count": 50,
   "metadata": {
    "collapsed": true
   },
   "outputs": [],
   "source": [
    "germanic_contractions = [b for b in germanic_bigrams if \"'\" in b[1]]"
   ]
  },
  {
   "cell_type": "code",
   "execution_count": 51,
   "metadata": {
    "collapsed": true
   },
   "outputs": [],
   "source": [
    "romance_contractions = [b for b in romance_bigrams if \"'\" in b[1]]"
   ]
  },
  {
   "cell_type": "code",
   "execution_count": 52,
   "metadata": {
    "collapsed": true
   },
   "outputs": [],
   "source": [
    "slavic_contractions = [b for b in slavic_bigrams if \"'\" in b[1]]"
   ]
  },
  {
   "cell_type": "code",
   "execution_count": 53,
   "metadata": {
    "collapsed": true
   },
   "outputs": [],
   "source": [
    "BNC_contractions_frequencies = nltk.FreqDist(BNC_contractions)"
   ]
  },
  {
   "cell_type": "code",
   "execution_count": 54,
   "metadata": {
    "collapsed": true
   },
   "outputs": [],
   "source": [
    "germanic_contractions_frequencies = nltk.FreqDist(germanic_contractions)"
   ]
  },
  {
   "cell_type": "code",
   "execution_count": 55,
   "metadata": {
    "collapsed": true
   },
   "outputs": [],
   "source": [
    "romance_contractions_frequencies = nltk.FreqDist(romance_contractions)"
   ]
  },
  {
   "cell_type": "code",
   "execution_count": 56,
   "metadata": {
    "collapsed": true
   },
   "outputs": [],
   "source": [
    "slavic_contractions_frequencies = nltk.FreqDist(slavic_contractions)"
   ]
  },
  {
   "cell_type": "code",
   "execution_count": 57,
   "metadata": {
    "collapsed": true
   },
   "outputs": [],
   "source": [
    "contractions_df = pd.DataFrame(index = [b[0] for b in BNC_common_contractions[:15]], columns = ['English(BNC)', 'Germanic(VOICE)', 'Romance(VOICE)', 'Slavic(VOICE)'])"
   ]
  },
  {
   "cell_type": "code",
   "execution_count": 58,
   "metadata": {
    "collapsed": true
   },
   "outputs": [],
   "source": [
    "for bigram in BNC_common_contractions[:15]:\n",
    "    bigram = bigram[0]\n",
    "    contractions_df['English(BNC)'][bigram] = BNC_contractions_frequencies[bigram]/len(BNC_bigrams)\n",
    "    contractions_df['Germanic(VOICE)'][bigram] = germanic_contractions_frequencies[bigram]/len(germanic_bigrams)\n",
    "    contractions_df['Romance(VOICE)'][bigram] = romance_contractions_frequencies[bigram]/len(romance_bigrams)\n",
    "    contractions_df['Slavic(VOICE)'][bigram] = slavic_contractions_frequencies[bigram]/len(slavic_bigrams)"
   ]
  },
  {
   "cell_type": "code",
   "execution_count": 59,
   "metadata": {
    "scrolled": false
   },
   "outputs": [
    {
     "data": {
      "text/plain": [
       "<matplotlib.axes._subplots.AxesSubplot at 0x180e5fb38>"
      ]
     },
     "execution_count": 59,
     "metadata": {},
     "output_type": "execute_result"
    },
    {
     "data": {
      "text/plain": [
       "<matplotlib.legend.Legend at 0x113716be0>"
      ]
     },
     "execution_count": 59,
     "metadata": {},
     "output_type": "execute_result"
    },
    {
     "data": {
      "text/plain": [
       "<matplotlib.text.Text at 0x1826661d0>"
      ]
     },
     "execution_count": 59,
     "metadata": {},
     "output_type": "execute_result"
    },
    {
     "data": {
      "text/plain": [
       "<matplotlib.text.Text at 0x18088ed30>"
      ]
     },
     "execution_count": 59,
     "metadata": {},
     "output_type": "execute_result"
    },
    {
     "data": {
      "image/png": "[encoded data removed]",
      "text/plain": [
       "<matplotlib.figure.Figure at 0x1083e6cc0>"
      ]
     },
     "metadata": {},
     "output_type": "display_data"
    }
   ],
   "source": [
    "contractions_df.plot(kind='bar', figsize=(20,10))\n",
    "plt.tick_params(axis = 'both', reset=True, labelsize=15)\n",
    "plt.legend(prop={'size':20})\n",
    "plt.xlabel(\"Bigrams\", fontsize= 20, labelpad = 20)\n",
    "plt.ylabel(\"Frequency (percent)\", fontsize= 20, labelpad = 20)\n",
    "plt.show()"
   ]
  },
  {
   "cell_type": "code",
   "execution_count": 60,
   "metadata": {},
   "outputs": [
    {
     "data": {
      "text/plain": [
       "3"
      ]
     },
     "execution_count": 60,
     "metadata": {},
     "output_type": "execute_result"
    }
   ],
   "source": [
    "BNC_contractions_frequencies[('why', \"'re\")]"
   ]
  },
  {
   "cell_type": "code",
   "execution_count": 61,
   "metadata": {},
   "outputs": [
    {
     "name": "stdout",
     "output_type": "stream",
     "text": [
      "(\"'tis\", \"n't\")\n"
     ]
    }
   ],
   "source": [
    "for b in BNC_contractions_frequencies.keys():\n",
    "    if b[0] == \"'tis\":\n",
    "    #if b[0] == \"'twas\":\n",
    "        print(b)"
   ]
  },
  {
   "cell_type": "code",
   "execution_count": 62,
   "metadata": {},
   "outputs": [
    {
     "data": {
      "text/plain": [
       "0"
      ]
     },
     "execution_count": 62,
     "metadata": {},
     "output_type": "execute_result"
    }
   ],
   "source": [
    "BNC_contractions_frequencies[('mustn', \"'t\")]"
   ]
  },
  {
   "cell_type": "code",
   "execution_count": 63,
   "metadata": {},
   "outputs": [
    {
     "data": {
      "text/plain": [
       "148"
      ]
     },
     "execution_count": 63,
     "metadata": {},
     "output_type": "execute_result"
    }
   ],
   "source": [
    "BNC_contractions_frequencies[('sha', \"n't\")]"
   ]
  },
  {
   "cell_type": "code",
   "execution_count": 64,
   "metadata": {},
   "outputs": [
    {
     "data": {
      "text/plain": [
       "12895"
      ]
     },
     "execution_count": 64,
     "metadata": {},
     "output_type": "execute_result"
    }
   ],
   "source": [
    "BNC_contractions_frequencies[('ca', \"n't\")]"
   ]
  },
  {
   "cell_type": "code",
   "execution_count": 65,
   "metadata": {},
   "outputs": [
    {
     "data": {
      "text/plain": [
       "2281"
      ]
     },
     "execution_count": 65,
     "metadata": {},
     "output_type": "execute_result"
    }
   ],
   "source": [
    "BNC_contractions_frequencies[('ai', \"n't\")]"
   ]
  },
  {
   "cell_type": "code",
   "execution_count": 66,
   "metadata": {},
   "outputs": [
    {
     "data": {
      "text/plain": [
       "8"
      ]
     },
     "execution_count": 66,
     "metadata": {},
     "output_type": "execute_result"
    }
   ],
   "source": [
    "germanic_contractions_frequencies[('ai', \"n't\")]"
   ]
  },
  {
   "cell_type": "code",
   "execution_count": 67,
   "metadata": {},
   "outputs": [
    {
     "data": {
      "text/plain": [
       "1"
      ]
     },
     "execution_count": 67,
     "metadata": {},
     "output_type": "execute_result"
    }
   ],
   "source": [
    "romance_contractions_frequencies[('ai', \"n't\")]"
   ]
  },
  {
   "cell_type": "code",
   "execution_count": 68,
   "metadata": {},
   "outputs": [
    {
     "data": {
      "text/plain": [
       "148"
      ]
     },
     "execution_count": 68,
     "metadata": {},
     "output_type": "execute_result"
    }
   ],
   "source": [
    "BNC_contractions_frequencies[('sha', \"n't\")]"
   ]
  },
  {
   "cell_type": "code",
   "execution_count": 69,
   "metadata": {},
   "outputs": [
    {
     "data": {
      "text/plain": [
       "0"
      ]
     },
     "execution_count": 69,
     "metadata": {},
     "output_type": "execute_result"
    }
   ],
   "source": [
    "BNC_contractions_frequencies[(\"'tis\", \"the\")]"
   ]
  },
  {
   "cell_type": "code",
   "execution_count": 70,
   "metadata": {},
   "outputs": [
    {
     "data": {
      "text/plain": [
       "1253"
      ]
     },
     "execution_count": 70,
     "metadata": {},
     "output_type": "execute_result"
    }
   ],
   "source": [
    "len(participants.keys())"
   ]
  },
  {
   "cell_type": "code",
   "execution_count": 71,
   "metadata": {},
   "outputs": [
    {
     "data": {
      "text/plain": [
       "[]"
      ]
     },
     "execution_count": 71,
     "metadata": {},
     "output_type": "execute_result"
    }
   ],
   "source": [
    "[b for b in BNC_bigrams if b[0] == \"y'all\"]"
   ]
  }
 ],
 "metadata": {
  "kernelspec": {
   "display_name": "Python 3",
   "language": "python",
   "name": "python3"
  },
  "language_info": {
   "codemirror_mode": {
    "name": "ipython",
    "version": 3
   },
   "file_extension": ".py",
   "mimetype": "text/x-python",
   "name": "python",
   "nbconvert_exporter": "python",
   "pygments_lexer": "ipython3",
   "version": "3.6.1"
  }
 },
 "nbformat": 4,
 "nbformat_minor": 2
}
